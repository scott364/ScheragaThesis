{
 "cells": [
  {
   "cell_type": "code",
   "execution_count": null,
   "metadata": {},
   "outputs": [],
   "source": [
    "from isaacgym import gymapi\n",
    "gym = gymapi.acquire_gym()\n",
    "sim_params = gymapi.SimParams()\n",
    "sim = gym.create_sim(0, 0, gymapi.SIM_PHYSX, sim_params)\n",
    "\n",
    "# get default set of parameters\n",
    "sim_params = gymapi.SimParams()\n",
    "\n",
    "# set common parameters\n",
    "sim_params.dt = 1 / 60\n",
    "sim_params.substeps = 2\n",
    "sim_params.up_axis = gymapi.UP_AXIS_Z\n",
    "sim_params.gravity = gymapi.Vec3(0.0, 0.0, -9.8)\n",
    "\n",
    "# set PhysX-specific parameters\n",
    "sim_params.physx.use_gpu = True\n",
    "sim_params.physx.solver_type = 1\n",
    "sim_params.physx.num_position_iterations = 6\n",
    "sim_params.physx.num_velocity_iterations = 0\n",
    "sim_params.physx.contact_offset = 0.01\n",
    "sim_params.physx.rest_offset = 0.0\n",
    "\n",
    "# set Flex-specific parameters\n",
    "sim_params.flex.solver_type = 5\n",
    "sim_params.flex.num_outer_iterations = 4\n",
    "sim_params.flex.num_inner_iterations = 20\n",
    "sim_params.flex.relaxation = 0.8\n",
    "sim_params.flex.warm_start = 0.5\n",
    "\n",
    "# create sim with these parameters\n",
    "sim = gym.create_sim(0, 0, physics_engine, sim_params)\n",
    "# configure the ground plane\n",
    "plane_params = gymapi.PlaneParams()\n",
    "plane_params.normal = gymapi.Vec3(0, 0, 1) # z-up!\n",
    "plane_params.distance = 0\n",
    "plane_params.static_friction = 1\n",
    "plane_params.dynamic_friction = 1\n",
    "plane_params.restitution = 0\n",
    "\n",
    "# create the ground plane\n",
    "gym.add_ground(sim, plane_params)\n",
    "\n",
    "asset_root = \"../../assets\"\n",
    "#asset_file = \"urdf/franka_description/robots/franka_panda.urdf\"\n",
    "\n",
    "asset_file = \"urdf/ur5_description/robots/ur5.urdf\"\n",
    "asset = gym.load_asset(sim, asset_root, asset_file)"
   ]
  },
  {
   "cell_type": "code",
   "execution_count": null,
   "metadata": {},
   "outputs": [],
   "source": []
  },
  {
   "cell_type": "code",
   "execution_count": null,
   "metadata": {},
   "outputs": [],
   "source": []
  }
 ],
 "metadata": {
  "kernelspec": {
   "display_name": "Python 3",
   "language": "python",
   "name": "python3"
  },
  "language_info": {
   "codemirror_mode": {
    "name": "ipython",
    "version": 3
   },
   "file_extension": ".py",
   "mimetype": "text/x-python",
   "name": "python",
   "nbconvert_exporter": "python",
   "pygments_lexer": "ipython3",
   "version": "3.6.9"
  }
 },
 "nbformat": 4,
 "nbformat_minor": 4
}
