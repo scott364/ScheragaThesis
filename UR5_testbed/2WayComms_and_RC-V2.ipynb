{
 "cells": [
  {
   "cell_type": "code",
   "execution_count": null,
   "id": "0caf341b-d6f9-4d8e-8fd0-5bf38bfb5df5",
   "metadata": {},
   "outputs": [],
   "source": [
    "%run -i '2WayComms_and_RC-V2_dummypolicy.py'"
   ]
  },
  {
   "cell_type": "markdown",
   "id": "d81a587b-cdf9-4da9-86b5-889c40f7b50d",
   "metadata": {},
   "source": [
    "## test client"
   ]
  },
  {
   "cell_type": "code",
   "execution_count": 7,
   "id": "52ae6a18-5035-48d3-973a-06dc025bbbf1",
   "metadata": {},
   "outputs": [
    {
     "name": "stdout",
     "output_type": "stream",
     "text": [
      "connecting to 192.168.0.103 port 65452\n",
      "received b'start'\n",
      "starting rl policy\n",
      "Connected to http://192.168.0.103:10000\n",
      "['bias_ft', 'get_ft', 'system.listMethods', 'system.methodHelp', 'system.methodSignature']\n",
      "connecting to 192.168.0.103 port 65466\n",
      "Bias wrist force\n"
     ]
    },
    {
     "name": "stdin",
     "output_type": "stream",
     "text": [
      " u\n"
     ]
    },
    {
     "name": "stdout",
     "output_type": "stream",
     "text": [
      "x -5.351297924415768 y -12.790240272858739 z 8.709903552517295\n",
      "roll 178.6188527502342 pitch 2.289860994004815 yaw -179.24438675945785\n",
      "Forces and Torques:\n",
      "[0.02, 0.1, 0.16, -0.011998, -0.0005979999999999996, 0]\n"
     ]
    },
    {
     "name": "stdin",
     "output_type": "stream",
     "text": [
      " l\n"
     ]
    },
    {
     "name": "stdout",
     "output_type": "stream",
     "text": [
      "x -5.351662240403891 y -12.79107802363336 z 7.706555614797771\n",
      "roll 178.6171641836134 pitch 2.2942183640690073 yaw -179.25449820544262\n",
      "Forces and Torques:\n",
      "[-0.14, 0.1, 0.05999999999999996, -0.020398, -0.0144, 0]\n"
     ]
    },
    {
     "name": "stdin",
     "output_type": "stream",
     "text": [
      " h\n"
     ]
    },
    {
     "name": "stdout",
     "output_type": "stream",
     "text": [
      "x -4.355743180876971 y -12.795233924534918 z 7.7106446364358066\n",
      "roll 178.63522889016528 pitch 2.2753025900980393 yaw -179.2399499118419\n",
      "Forces and Torques:\n",
      "[5.551115123125783e-18, 0.02, 0.28, -0.0006020000000000004, -0.007200000000000001, 0]\n"
     ]
    },
    {
     "name": "stdin",
     "output_type": "stream",
     "text": [
      " k\n"
     ]
    },
    {
     "name": "stdout",
     "output_type": "stream",
     "text": [
      "x -5.352585643568635 y -12.788000404191017 z 7.708245782852173\n",
      "roll 178.61549664121225 pitch 2.2904879357484504 yaw -179.27231022633643\n",
      "Forces and Torques:\n",
      "[-0.06, 0.13999999999999999, 0.26, -0.0204, -0.007800000000000001, 0]\n"
     ]
    },
    {
     "name": "stdin",
     "output_type": "stream",
     "text": [
      " j\n"
     ]
    },
    {
     "name": "stdout",
     "output_type": "stream",
     "text": [
      "x -5.357301218307018 y -11.793222985425592 z 7.70951296889782\n",
      "roll 178.6331940595606 pitch 2.2747938134292456 yaw -179.26062136222703\n",
      "Forces and Torques:\n",
      "[-0.12000000000000002, -0.02, -0.44000000000000006, -0.018600000000000005, -0.007596, 0]\n"
     ]
    },
    {
     "name": "stdin",
     "output_type": "stream",
     "text": [
      " home\n"
     ]
    },
    {
     "name": "stdout",
     "output_type": "stream",
     "text": [
      "x -5.4473195336848494 y -11.896306223598122 z 9.773236909672619\n",
      "roll 179.34438473858773 pitch 2.0291981091354137 yaw -179.600956610023\n",
      "Forces and Torques:\n",
      "[0.14, 0.08, 0.13999999999999999, 0.0014, 0.014798, 0]\n"
     ]
    },
    {
     "name": "stdin",
     "output_type": "stream",
     "text": [
      " z\n"
     ]
    },
    {
     "name": "stdout",
     "output_type": "stream",
     "text": [
      "x -5.44741515929848 y -11.8955705516994 z 9.770435020527243\n",
      "roll 179.37709409633842 pitch 7.039637555724844 yaw -179.6214293092063\n",
      "Forces and Torques:\n",
      "[0.82, 0.26, 0.72, -0.009002, 0.046598, 0]\n"
     ]
    },
    {
     "name": "stdin",
     "output_type": "stream",
     "text": [
      " x\n"
     ]
    },
    {
     "name": "stdout",
     "output_type": "stream",
     "text": [
      "x -5.443922184430063 y -11.897236666685343 z 9.770686111095548\n",
      "roll 179.34481734036262 pitch 2.0409518952416366 yaw -179.58681165385468\n",
      "Forces and Torques:\n",
      "[0.18, 0.02, 0.62, 0.0011999999999999997, -0.0070040000000000015, 0]\n"
     ]
    },
    {
     "name": "stdin",
     "output_type": "stream",
     "text": [
      " d\n"
     ]
    },
    {
     "name": "stdout",
     "output_type": "stream",
     "text": [
      "x -5.4466378345251085 y -11.893751905059815 z 9.768134725858271\n",
      "roll -175.66321192968525 pitch 1.996007167060584 yaw -179.433228840429\n",
      "Forces and Torques:\n",
      "[-0.13999999999999999, 1.06, 0.5999999999999999, -0.077, -0.006601999999999999, 0]\n"
     ]
    },
    {
     "name": "stdin",
     "output_type": "stream",
     "text": [
      " c\n"
     ]
    },
    {
     "name": "stdout",
     "output_type": "stream",
     "text": [
      "x -5.445818856877088 y -11.897926579087972 z 9.771315010836721\n",
      "roll 179.35096805826535 pitch 2.0228690718873015 yaw -179.58208694602112\n",
      "Forces and Torques:\n",
      "[0.02, 0.12, 0.44000000000000006, -0.0008000000000000001, -0.0102, 0]\n"
     ]
    },
    {
     "name": "stdin",
     "output_type": "stream",
     "text": [
      " c\n"
     ]
    },
    {
     "name": "stdout",
     "output_type": "stream",
     "text": [
      "x -5.444937106586993 y -11.896757951956987 z 9.773163577146828\n",
      "roll 174.35519233250346 pitch 2.0467986596423695 yaw -179.7636095531968\n",
      "Forces and Torques:\n",
      "[0.13999999999999999, -0.8800000000000001, 0.36, 0.0606, 0.004402000000000001, 0]\n"
     ]
    },
    {
     "name": "stdin",
     "output_type": "stream",
     "text": [
      " home\n"
     ]
    },
    {
     "name": "stdout",
     "output_type": "stream",
     "text": [
      "x -5.448815517210961 y -11.894175473728776 z 9.77033352831155\n",
      "roll 179.33198033879916 pitch 2.038486155957767 yaw -179.61989643848028\n",
      "Forces and Torques:\n",
      "[-0.019999999999999997, 0.12000000000000002, 0.4, -0.0164, -0.006598, 0]\n"
     ]
    },
    {
     "name": "stdin",
     "output_type": "stream",
     "text": [
      " end\n"
     ]
    },
    {
     "name": "stdout",
     "output_type": "stream",
     "text": [
      "end episode\n",
      "closing DC socket\n",
      "closing SnS socket\n"
     ]
    }
   ],
   "source": [
    "import socket\n",
    "import numpy as np\n",
    "from time import sleep\n",
    "\n",
    "HOST_SnS = '192.168.0.103'\n",
    "PORT_SnS= 65452\n",
    "# Create a TCP/IP socket\n",
    "sock_SnS = socket.socket(socket.AF_INET, socket.SOCK_STREAM)\n",
    "\n",
    "# Connect the socket to the port where the server is listening\n",
    "server_address_SnS = (HOST_SnS, PORT_SnS)\n",
    "print('connecting to {} port {}'.format(*server_address_SnS))\n",
    "sock_SnS.connect(server_address_SnS)\n",
    "\n",
    "\n",
    "try:\n",
    "     #while True:\n",
    "        \"\"\"\n",
    "        data = sock.recv(16)\n",
    "            #amount_received += len(data)\n",
    "        print('received {!r}'.format(data))\n",
    "        \"\"\"\n",
    "\n",
    "        data = sock_SnS.recv(64)  #48 bytes\n",
    "        #print(data)\n",
    "        #value = struct.unpack('f',data)\n",
    "        #unpacked = struct.unpack('f', data)\n",
    "        print('received {!r}'.format(data))\n",
    "        if data==b'start':\n",
    "            \n",
    "            print(\"starting rl policy\")\n",
    "            %run -i '2WayComms_and_RC-V2_dummypolicy.py'\n",
    "\n",
    "            endmsg='end'\n",
    "            data1=endmsg.encode('ascii')    \n",
    "            sock_SnS.sendall(data1)\n",
    "        #if (inputstring==b'end'):\n",
    "        #   break    \n",
    "        \"\"\"\"\"\"\n",
    "finally:       \n",
    "    print('closing SnS socket')\n",
    "    sock_SnS.close()"
   ]
  },
  {
   "cell_type": "code",
   "execution_count": null,
   "id": "115a268b-3fa9-41ca-8934-972b3219e531",
   "metadata": {},
   "outputs": [],
   "source": []
  },
  {
   "cell_type": "code",
   "execution_count": 53,
   "id": "846788f4-2bcd-4ec7-b62b-78afb8b4d91c",
   "metadata": {},
   "outputs": [
    {
     "name": "stdout",
     "output_type": "stream",
     "text": [
      "LL len 3\n",
      "[0.16666666666666666, 0.0, 0.6333333333333333, 0.019666666666666666, 0.0016666666666666668, -0.007333333333333333]\n"
     ]
    }
   ],
   "source": [
    "a=[0.2, -0.1, 0.1, 0.013, 0.001, -0.007]\n",
    "b=[0.2, 0.0, 0.5, 0.033, 0.006, -0.008]\n",
    "c=[0.1, 0.1, 1.3, 0.013, -0.002, -0.007]\n",
    "d=[0.1, 0.1, 1.2, 0.017, -0.001, -0.008]\n",
    "e=[0.0, 0.1, 0.4, 0.026, -0.001, -0.00899]\n",
    "\n",
    "LL=[]\n",
    "LL.append(a)\n",
    "LL.append(b)\n",
    "LL.append(c)\n",
    "L2=[0]*6\n",
    "print(\"LL len\",len(LL))\n",
    "for i in range(len(a)): \n",
    "    #print(\"i:\",i)\n",
    "    L2[i]=0\n",
    "    for j in range(len(LL)):  \n",
    "        L2[i]+=LL[j][i]    \n",
    "    L2[i]=L2[i]/(len(LL))\n"
   ]
  },
  {
   "cell_type": "code",
   "execution_count": null,
   "id": "af326199-b7dd-4e9a-b9a2-e4d2b05537f5",
   "metadata": {},
   "outputs": [],
   "source": []
  }
 ],
 "metadata": {
  "kernelspec": {
   "display_name": "Python 3",
   "language": "python",
   "name": "python3"
  },
  "language_info": {
   "codemirror_mode": {
    "name": "ipython",
    "version": 3
   },
   "file_extension": ".py",
   "mimetype": "text/x-python",
   "name": "python",
   "nbconvert_exporter": "python",
   "pygments_lexer": "ipython3",
   "version": "3.6.9"
  }
 },
 "nbformat": 4,
 "nbformat_minor": 5
}
