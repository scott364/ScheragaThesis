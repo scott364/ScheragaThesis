{
 "cells": [
  {
   "cell_type": "code",
   "execution_count": null,
   "id": "0caf341b-d6f9-4d8e-8fd0-5bf38bfb5df5",
   "metadata": {},
   "outputs": [],
   "source": [
    "%run -i '2WayComms_and_RC-V2_dummypolicy.py'"
   ]
  },
  {
   "cell_type": "markdown",
   "id": "d81a587b-cdf9-4da9-86b5-889c40f7b50d",
   "metadata": {},
   "source": [
    "## test client"
   ]
  },
  {
   "cell_type": "code",
   "execution_count": 1,
   "id": "115a268b-3fa9-41ca-8934-972b3219e531",
   "metadata": {},
   "outputs": [
    {
     "name": "stdout",
     "output_type": "stream",
     "text": [
      "connecting to 192.168.0.103 port 65496\n",
      "received b'start'\n",
      "starting rl policy\n",
      "red robot is being used. Please change the bot variable if this is incorrect\n",
      "Connected to http://192.168.0.103:10000\n",
      "['bias_ft', 'get_ft', 'system.listMethods', 'system.methodHelp', 'system.methodSignature']\n",
      "connecting to 192.168.0.103 port 65486\n"
     ]
    },
    {
     "name": "stdin",
     "output_type": "stream",
     "text": [
      " fetch\n"
     ]
    },
    {
     "name": "stdout",
     "output_type": "stream",
     "text": [
      "waiting for done response\n",
      "b'done'\n"
     ]
    },
    {
     "name": "stdin",
     "output_type": "stream",
     "text": [
      " j\n",
      " j\n",
      " j\n",
      " l\n",
      " l\n",
      " l\n",
      " l\n",
      " u\n",
      " u\n",
      " u\n",
      " u\n",
      " l\n",
      " u\n",
      " u\n",
      " u\n",
      " u\n",
      " u\n",
      " l\n",
      " l\n",
      " reset\n"
     ]
    },
    {
     "name": "stdout",
     "output_type": "stream",
     "text": [
      "waiting for done response\n",
      "b'done'\n"
     ]
    },
    {
     "name": "stdin",
     "output_type": "stream",
     "text": [
      " u\n",
      " l\n",
      " u\n",
      " u\n",
      " l\n",
      " l\n",
      " l\n",
      " j\n",
      " j\n",
      " l\n",
      " return\n"
     ]
    },
    {
     "name": "stdout",
     "output_type": "stream",
     "text": [
      "waiting for done response\n",
      "b'done'\n"
     ]
    },
    {
     "name": "stdin",
     "output_type": "stream",
     "text": [
      " end\n"
     ]
    },
    {
     "name": "stdout",
     "output_type": "stream",
     "text": [
      "end episode\n",
      "closing DC socket in .py file\n",
      "Error. closing SnS socket\n"
     ]
    }
   ],
   "source": [
    "import socket\n",
    "import numpy as np\n",
    "from time import sleep\n",
    "\n",
    "HOST_SnS = '192.168.0.103'#'128.138.224.236' \n",
    "PORT_SnS= 65497\n",
    "# Create a TCP/IP socket\n",
    "sock_SnS = socket.socket(socket.AF_INET, socket.SOCK_STREAM)\n",
    "\n",
    "# Connect the socket to the port where the server is listening\n",
    "server_address_SnS = (HOST_SnS, PORT_SnS)\n",
    "print('connecting to {} port {}'.format(*server_address_SnS))\n",
    "sock_SnS.connect(server_address_SnS)\n",
    "\n",
    "\n",
    "try:\n",
    "     #while True:\n",
    "        \"\"\"Restart\n",
    "        data = sock.recv(16)\n",
    "            #amount_received += len(data)\n",
    "        print('received {!r}'.format(data))\n",
    "        \"\"\"\n",
    "\n",
    "        data = sock_SnS.recv(64)  #48 bytes\n",
    "        #print(data)\n",
    "        #value = struct.unpack('f',data)\n",
    "        #unpacked = struct.unpack('f', data)\n",
    "        print('received {!r}'.format(data))\n",
    "        if data==b'start':\n",
    "            \n",
    "            print(\"starting rl policy\")\n",
    "            %run -i '2WayComms_and_RC-V6_ur5e_dummypolicy-Continuous.py'\n",
    "   \n",
    "            endmsg='end'\n",
    "            data1=endmsg.encode('ascii')    \n",
    "            sock_SnS.sendall(data1)\n",
    "        #if (inputstring==b'end'):\n",
    "        #   break    \n",
    "        \"\"\"\"\"\"\n",
    "finally:       \n",
    "    print('Error. closing SnS socket')\n",
    "    sock_SnS.close()\n"
   ]
  },
  {
   "cell_type": "code",
   "execution_count": 53,
   "id": "846788f4-2bcd-4ec7-b62b-78afb8b4d91c",
   "metadata": {},
   "outputs": [
    {
     "name": "stdout",
     "output_type": "stream",
     "text": [
      "LL len 3\n",
      "[0.16666666666666666, 0.0, 0.6333333333333333, 0.019666666666666666, 0.0016666666666666668, -0.007333333333333333]\n"
     ]
    }
   ],
   "source": [
    "a=[0.2, -0.1, 0.1, 0.013, 0.001, -0.007]\n",
    "b=[0.2, 0.0, 0.5, 0.033, 0.006, -0.008]\n",
    "c=[0.1, 0.1, 1.3, 0.013, -0.002, -0.007]\n",
    "d=[0.1, 0.1, 1.2, 0.017, -0.001, -0.008]\n",
    "e=[0.0, 0.1, 0.4, 0.026, -0.001, -0.00899]\n",
    "\n",
    "LL=[]\n",
    "LL.append(a)\n",
    "LL.append(b)\n",
    "LL.append(c)\n",
    "L2=[0]*6\n",
    "print(\"LL len\",len(LL))\n",
    "for i in range(len(a)): \n",
    "    #print(\"i:\",i)\n",
    "    L2[i]=0\n",
    "    for j in range(len(LL)):  \n",
    "        L2[i]+=LL[j][i]    \n",
    "    L2[i]=L2[i]/(len(LL))\n"
   ]
  },
  {
   "cell_type": "code",
   "execution_count": null,
   "id": "af326199-b7dd-4e9a-b9a2-e4d2b05537f5",
   "metadata": {},
   "outputs": [],
   "source": []
  }
 ],
 "metadata": {
  "kernelspec": {
   "display_name": "Python 3",
   "language": "python",
   "name": "python3"
  },
  "language_info": {
   "codemirror_mode": {
    "name": "ipython",
    "version": 3
   },
   "file_extension": ".py",
   "mimetype": "text/x-python",
   "name": "python",
   "nbconvert_exporter": "python",
   "pygments_lexer": "ipython3",
   "version": "3.6.9"
  }
 },
 "nbformat": 4,
 "nbformat_minor": 5
}
