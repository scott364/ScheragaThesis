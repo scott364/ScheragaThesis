{
 "cells": [
  {
   "cell_type": "markdown",
   "id": "fd953897-fb38-4a5a-b47d-308a926612b1",
   "metadata": {},
   "source": [
    "# Import Libraries"
   ]
  },
  {
   "cell_type": "code",
   "execution_count": null,
   "id": "aaec66dc-427f-4afe-8de6-d37cd91d1f21",
   "metadata": {},
   "outputs": [],
   "source": [
    "%load_ext autoreload\n",
    "%autoreload 2\n",
    "from context import rmlib\n",
    "import rmlib.rmtools as rm\n",
    "from config import robotConfig\n",
    "\n",
    "robot = rmlib.robot.Robot( robotConfig )\n",
    "\n",
    "#Imports \n",
    "from time import sleep\n",
    "import numpy as np\n",
    "import rmlib\n",
    "from rmlib.rmtools.assembly_trees.asm_tree_Basic import augment_RM\n",
    "\n",
    "augment_RM( robot )\n",
    "\n",
    "%store -r\n",
    "\n",
    "####### LIBS #######################################################################################################################################\n",
    "\n",
    "# Import Pytrees\n",
    "import py_trees\n",
    "from py_trees.tests import Timeout_Success\n",
    "from py_trees.composites import Sequence , Selector\n",
    "from py_trees.decorators import FailureIsSuccess , SuccessIsFailure\n",
    "\n",
    "# import \n",
    "from rmlib.rmtools.assembly_trees.asm_tree_Basic import *\n",
    "\n",
    "from rmlib.rmtools.assembly_trees.asm_tree_FT_based import ( \n",
    "    Bias_Wrist , Spiral_Insert , Tilt_Insert , Spin_Press , Move_to_Contact , SpiralStep\n",
    ")\n",
    "    \n",
    "from rmlib.rmtools.assembly_trees.asm_tree_drill import *\n",
    "\n",
    "from rmlib.rmtools.assembly_trees.asm_tree_logic_flow import Run_to_X_Failures_DECO\n",
    "\n",
    "import math\n",
    "from pmath import *\n",
    "\n",
    "from utils import is_matx_list\n",
    "from math import radians\n",
    "\n",
    "print( \"Libs loaded!\" )\n",
    "\n",
    "from task_parameters import taskParams , _TB_side , _M8_TB_height , _M6_TB_height , _M4_TB_height\n",
    "\n",
    "_DRILL_CONTACT_PRESS = 11.0\n",
    "\n",
    "import pickle , traceback\n",
    "\n",
    "def save_names_to_PKL( pklPath , nameStringList ):\n",
    "    pklStruct = {}\n",
    "    print( vars() )\n",
    "    for name in nameStringList:\n",
    "        pklStruct[ name ] = globals()[ name ]\n",
    "        \n",
    "    with open( pklPath , \"wb\" ) as f:\n",
    "        try:\n",
    "            print( \"Pickling\" , pklPath , end = '... ' )\n",
    "            pickle.dump( pklStruct , f )\n",
    "            print( \"Success!\" )\n",
    "        except Exception as er:\n",
    "            print( \"FAILURE! :\" , er )\n",
    "            traceback.print_exc()\n",
    "    print( \"### Completed Writing\" , pklPath , \"###\" )\n",
    "    \n",
    "def load_names_from_PKL_to_global( pklPath , nameStringList ):\n",
    "    n = 0\n",
    "    with open( pklPath , \"rb\" ) as f:\n",
    "        try:\n",
    "            print( \"Unpickling\" , pklPath , end = '... ' )\n",
    "            pklStruct = pickle.load( f )\n",
    "            print( \"Got: \" , type( pklStruct ) , \"with\" , len( pklStruct ) , \"elements\" )\n",
    "            globDict = globals()\n",
    "            for name in nameStringList:\n",
    "                try:\n",
    "                    globals()[ name ] = pklStruct[ name ]\n",
    "                    n += 1\n",
    "                except:\n",
    "                    print( \"Could not load '\" + str( name ) + \"'! Continue ...\" )\n",
    "        except Exception as er:\n",
    "            print( \"FAILURE! :\" , er )\n",
    "            traceback.print_exc()\n",
    "            \n",
    "    print( \"### Read\" , n , \"vars from\" , pklPath , \"into global dict ###\" )\n",
    "\n",
    "load_names_from_PKL_to_global( \n",
    "    pklPath = \"taughtPoses.pkl\" , \n",
    "    nameStringList = [  \n",
    "        'M8_GraspPose' , 'M6_GraspPose' , 'M4_GraspPose' , 'GearShaft1_Setdown' , 'GearShaft2_Setdown' , \n",
    "        'BNC_Ma_Setdown' , 'KeySm_Setdown' , 'KeyLg_Setdown' , 'ShaftSm_Setdown' , 'ShaftLg_Setdown' , \n",
    "        'KeyLg_Grasp' , 'ShaftLg_Grasp' , 'BNC_Fe_Grasp' , 'ShaftSm_Grasp' , \n",
    "        'GearLg_Grasp' , 'GearLg_Grasp' , 'Ether_setdown' , \n",
    "        'M8_1_mag' , 'M8_2_mag' , 'M8_3_mag' , 'M8_4_mag' , 'M8_5_mag' , 'M8_6_mag' ,\n",
    "        'M6_1_mag' , 'M6_2_mag' , 'M6_3_mag' , 'M6_4_mag' , 'M6_5_mag' , 'M6_6_mag' ,\n",
    "        'M4_1_mag' , 'M4_2_mag' , 'M4_3_mag' , 'M4_4_mag' , 'M4_5_mag' , 'M4_6_mag' ,\n",
    "        'releasePose' , 'SAFE_POSE' , 'midDrillPose' ,\n",
    "        '_LRG_GEAR_DEX' , '_SML_GEAR_DEX', 'aboveTableDrill'\n",
    "    ]\n",
    ")\n",
    "\n",
    "load_names_from_PKL_to_global( \n",
    "    pklPath = \"dct.pkl\" , \n",
    "    nameStringList = [ \"dct\" ]\n",
    ")\n",
    "\n",
    "\n",
    "## BIAS TEST ##\n",
    "if 0:\n",
    "    for i in range(40):\n",
    "        print('##', i+1, '##')\n",
    "        before = robot.ft.get_wrist_force()\n",
    "        bgn    = time.time()\n",
    "        robot.ft.bias_wrist_force()\n",
    "        print( time.time() - bgn , \"[s] bias time\" )\n",
    "        after  = robot.ft.get_wrist_force()\n",
    "        print( after )\n",
    "        print( \"Diff:\" , np.linalg.norm( np.subtract( after, before ) ) , '\\n\\n' )"
   ]
  },
  {
   "cell_type": "markdown",
   "id": "d29778a0-4451-4df4-81a7-f9db78c8bba6",
   "metadata": {},
   "source": [
    "# Arm Movements"
   ]
  },
  {
   "cell_type": "code",
   "execution_count": null,
   "id": "3e399e3d-afc0-4cf6-99c5-1af064c3a835",
   "metadata": {},
   "outputs": [],
   "source": [
    "\"\"\"\n",
    "### Move to Safe Pose ###\n",
    "Basic movements are defined in:\n",
    "rmlib/rmlib/rmtools/assembly_trees/asm_tree_Basic.py\n",
    "\n",
    "All of the basic behaviors and trees inherit `py_trees` classes.\n",
    "\"\"\" \n",
    "\n",
    "moveNode = Move_Arm( pose  = SAFE_POSE , # 4x4 homogeneous coord pose\n",
    "                     mode  = 'l' ,  # { 'l': linear in task space, 'j': linear in joint space }\n",
    "                     speed = 0.125 , \n",
    "                     accel = 0.35 , \n",
    "                     ctrl  = robot ) # Ref to `rmlib` object, stored in `robot` in this NB"
   ]
  },
  {
   "cell_type": "markdown",
   "id": "9dce7687-8b8a-4bab-9af0-a0c2dca31453",
   "metadata": {},
   "source": [
    "\n",
    "## Run Behavior\n",
    "`run_BT_until_done` is a function that ticks the node object provided as an argument at regular intervals.  It will report the final status of the root node and print and ASCII tree representation.   \n",
    "The default args are likely adequate for your purpose, but it can be found at  \n",
    "rmlib/rmlib/rmtools/assembly_trees/asm_tree_Basic.py\n",
    "\n",
    "\n",
    "run_BT_until_done( moveNode )\n",
    "\n"
   ]
  },
  {
   "cell_type": "markdown",
   "id": "8c83ea03-fe9f-4808-97d7-5e03451d38c9",
   "metadata": {},
   "source": [
    "## Pose Math, Move to Contact, and Tree Building"
   ]
  },
  {
   "cell_type": "code",
   "execution_count": null,
   "id": "35e92011-fdc1-49c7-8d22-17b1fa60ac73",
   "metadata": {},
   "outputs": [],
   "source": [
    "# Calc a pose 10cm below the `SAFE_POSE`\n",
    "lowPose = translate_pose( \n",
    "    SAFE_POSE , \n",
    "    [ 0.0 , 0.0 , -0.100 ] , # Translation vector\n",
    "    dir_pose = 'origin' # { 'origin': lab frame, 'self': relative the argument pose }\n",
    ")\n",
    "# Location:  rmlib/rmlib/rmtools/pmath.py"
   ]
  },
  {
   "cell_type": "markdown",
   "id": "031c6ea3-7604-41f4-befe-4d58336644cb",
   "metadata": {},
   "source": [
    "The following cell builds a sequence that makes a relative move, then stores the final pose under a global dictionary key for later retrieval.  \n",
    "For most 'procedure-like' trees, a Sequence with Memory is used.  \n",
    "The memory option prevents completed actions from being ticked again until the entire `Sequence` has completed.  \n",
    "Behaviors will be executed in the order added."
   ]
  },
  {
   "cell_type": "code",
   "execution_count": null,
   "id": "e5ce5e40-e736-465a-8cef-d11104471038",
   "metadata": {},
   "outputs": [],
   "source": [
    "pushTree = Sequence( memory = 1 ) \n",
    "\n",
    "poseKey = \"TouchdownPose\" # String key to store pose that will be used by another tree\n",
    "\n",
    "# 1. Move to a pose conveniently close to the table\n",
    "pushTree.add_child(\n",
    "    Move_Arm( pose = lowPose , mode = 'l',  speed = 0.125 , accel = 0.35 , ctrl = robot ) \n",
    ")\n",
    "\n",
    "# 2. Close the fingers in prep for a probing action\n",
    "pushTree.add_child(\n",
    "    Set_Fingers( \n",
    "        openState = 0.0 , # Dist b/n fingers in [m], Anything larger than 0.095 interpreted as fully open\n",
    "        ctrl = robot , # rmlib ref\n",
    "        waitSec = 0.25 # OpenCM does not block execution, so pause to let fingers physically close\n",
    "    )\n",
    ")\n",
    "\n",
    "\"\"\"\n",
    "### Move Until Reaction Force Encountered ###\n",
    "Force-based actions are defined in:\n",
    "rmlib/rmlib/rmtools/assembly_trees/asm_tree_FT_based.py\n",
    "\"\"\" \n",
    "\n",
    "# 3. Approach the table at a **gentle speed** and stop when a small reaction force is observed \n",
    "pushTree.add_child(\n",
    "    Move_to_Contact( \n",
    "        Fmag      = 3.0 , # Reaction force that triggers stop, Forces below 1.5N aren't reliably detected\n",
    "        relMove   = [0.0, 0.0, -1.0] , # Specify a move the goes *beyond* where you expect to end up\n",
    "        biasWrist = 1 , # Bias wrist before beginning motion (Sorry, currently this takes 1-8 seconds)\n",
    "        mode      = 'l' , \n",
    "        speed     = 0.040 , accel = 0.04 , # **gentle speed**\n",
    "        pull      = 0 , # For pulling actions, reaction force tugs on hand rather than pushes\n",
    "        ctrl      = robot\n",
    "    ) # NOTE: This behav. may be used for absolute pose if an argument for `pose` is provided\n",
    ")\n",
    "\n",
    "# 4. Remember where we landed\n",
    "pushTree.add_child(\n",
    "    Store_Current_Pose( \n",
    "        keyString = poseKey , # Blackboard dict key\n",
    "        ctrl = robot , \n",
    "        setOnce = True # Set this flag to prevent the value from being modified once stored\n",
    "    )\n",
    ")\n",
    "\n",
    "# 5. Relative move back up, no condition\n",
    "pushTree.add_child(\n",
    "    Move_Arm_Relative( \n",
    "        translation = [ -0.035, -0.035, 0.070 ] , # Trans. Vec\n",
    "        rotation    = [0.0,0.0,0.0] , # Euler angles\n",
    "        mode = 'l' , speed = 0.125 , accel = 0.35 , \n",
    "        stop_cond = None , # A custon stop condition can be passed here if desired\n",
    "        frame = 'origin' ,\n",
    "        cond_success = 1 , # Flag true if we are using \"stop_cond()==1\" to mean *success*, otherwise the reverse\n",
    "        bias_wrist = 0 , # If `stop_cond` is force based, this is a good idea\n",
    "        ctrl = robot\n",
    "    ) # NOTE: If no stop_cond is provided, the this behavior returns true only if the full motion has completed\n",
    ")\n",
    "\n",
    "# 6. Now let's recover the pose that we stored before\n",
    "pushTree.add_child(\n",
    "    Move_Arm( BB_key = poseKey , # Blackboard dict key passed to `BB_key` instead of a `pose` arg\n",
    "              mode = 'l',  speed = 0.063 , accel = 0.17 , ctrl = robot ) \n",
    ")\n",
    "\n",
    "# 7. It's a good idea to return to a known safe pose between activities\n",
    "pushTree.add_child(\n",
    "    Move_Arm( pose  = SAFE_POSE , ctrl = robot )\n",
    ")\n",
    "\n",
    "# 8. Open the fingers\n",
    "pushTree.add_child(\n",
    "    Set_Fingers( openState = 1.0 , ctrl = robot , waitSec = 0.0 )\n",
    ")\n",
    "\n",
    "print()"
   ]
  },
  {
   "cell_type": "code",
   "execution_count": null,
   "id": "df0c28a5-679d-4681-9c2b-0cc5175c74a0",
   "metadata": {},
   "outputs": [],
   "source": []
  },
  {
   "cell_type": "markdown",
   "id": "c37a22ff-7cfb-4a63-b0aa-c7f418b95e57",
   "metadata": {},
   "source": [
    "# Utils & Setup"
   ]
  },
  {
   "cell_type": "code",
   "execution_count": null,
   "id": "f7b3a24e-35d4-44f7-bbae-234a2228b813",
   "metadata": {},
   "outputs": [],
   "source": [
    "robot.hand.deactivate_motors()"
   ]
  },
  {
   "cell_type": "code",
   "execution_count": null,
   "id": "abb0fa36-4609-41de-9cc7-370fa555eca2",
   "metadata": {},
   "outputs": [],
   "source": [
    "robot.arm.get_tcp_pose()"
   ]
  },
  {
   "cell_type": "code",
   "execution_count": null,
   "id": "cbd9ba9b-b43a-470e-a4a5-820e6bdd6e2f",
   "metadata": {},
   "outputs": [],
   "source": [
    "robot.hand.set_finger_torque(0.3)"
   ]
  },
  {
   "cell_type": "code",
   "execution_count": null,
   "id": "9ce7d7ab-1b66-4ba6-aef1-6a19d4cc5406",
   "metadata": {},
   "outputs": [],
   "source": [
    "robot.hand.set_finger_width(0.0)"
   ]
  },
  {
   "cell_type": "code",
   "execution_count": null,
   "id": "68932086-32cf-4c08-bd28-2e4ca7dab2ee",
   "metadata": {},
   "outputs": [],
   "source": [
    "robot.arm.move_speed( midDrillPose , 'l' , 0.125 , 0.35 , 0 , 'dummy' , False )"
   ]
  },
  {
   "cell_type": "code",
   "execution_count": null,
   "id": "c25d19f3-34dc-4e69-8610-d974fe2f6fd4",
   "metadata": {},
   "outputs": [],
   "source": [
    "# midDrillPose = robot.arm.get_tcp_pose() #rm.get_tcp_pose()\n",
    "# %store midDrillPose"
   ]
  },
  {
   "cell_type": "code",
   "execution_count": null,
   "id": "f6b1b4e6-4006-4959-8be9-a1ddc1f7a954",
   "metadata": {},
   "outputs": [],
   "source": [
    "robot.arm.move_speed( aboveTableDrill , 'l' , 0.125 , 0.35 , 0 , 'dummy' , False )"
   ]
  },
  {
   "cell_type": "markdown",
   "id": "8a65ac0c-b820-4190-9d88-cce7fb341637",
   "metadata": {},
   "source": [
    "# Run this after teaching any poses"
   ]
  },
  {
   "cell_type": "code",
   "execution_count": null,
   "id": "296a91f8-34bf-4119-9057-b8db3383a44e",
   "metadata": {},
   "outputs": [],
   "source": [
    "import pickle , traceback\n",
    "\n",
    "save_names_to_PKL( \n",
    "    pklPath = \"taughtPoses.pkl\" , \n",
    "    nameStringList = [  \n",
    "        'startPose' ,\n",
    "        'M8_GraspPose' , 'M6_GraspPose' , 'M4_GraspPose' , 'GearShaft1_Setdown' , 'GearShaft2_Setdown' , \n",
    "        'BNC_Ma_Setdown' , 'KeySm_Setdown' , 'KeyLg_Setdown' , 'ShaftSm_Setdown' , 'ShaftLg_Setdown' , \n",
    "        'KeyLg_Grasp' , 'ShaftLg_Grasp' , 'BNC_Fe_Grasp' , 'ShaftSm_Grasp' , \n",
    "        'GearLg_Grasp' , 'GearLg_Grasp' , 'Ether_setdown' , \n",
    "        'M8_1_mag' , 'M8_2_mag' , 'M8_3_mag' , 'M8_4_mag' , 'M8_5_mag' , 'M8_6_mag' ,\n",
    "        'M6_1_mag' , 'M6_2_mag' , 'M6_3_mag' , 'M6_4_mag' , 'M6_5_mag' , 'M6_6_mag' ,\n",
    "        'M4_1_mag' , 'M4_2_mag' , 'M4_3_mag' , 'M4_4_mag' , 'M4_5_mag' , 'M4_6_mag' ,\n",
    "        'releasePose' , 'SAFE_POSE' , 'midDrillPose' , \n",
    "        '_LRG_GEAR_DEX' , '_SML_GEAR_DEX', 'aboveTableDrill'\n",
    "    ]\n",
    ")"
   ]
  }
 ],
 "metadata": {
  "kernelspec": {
   "display_name": "Python 3",
   "language": "python",
   "name": "python3"
  },
  "language_info": {
   "codemirror_mode": {
    "name": "ipython",
    "version": 3
   },
   "file_extension": ".py",
   "mimetype": "text/x-python",
   "name": "python",
   "nbconvert_exporter": "python",
   "pygments_lexer": "ipython3",
   "version": "3.6.9"
  }
 },
 "nbformat": 4,
 "nbformat_minor": 5
}
