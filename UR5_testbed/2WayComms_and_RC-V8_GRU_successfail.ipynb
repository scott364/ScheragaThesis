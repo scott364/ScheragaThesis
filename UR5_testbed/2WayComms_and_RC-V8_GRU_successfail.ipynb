{
 "cells": [
  {
   "cell_type": "code",
   "execution_count": null,
   "id": "0caf341b-d6f9-4d8e-8fd0-5bf38bfb5df5",
   "metadata": {},
   "outputs": [],
   "source": [
    "%run -i '2WayComms_and_RC-V2_dummypolicy.py'"
   ]
  },
  {
   "cell_type": "markdown",
   "id": "d81a587b-cdf9-4da9-86b5-889c40f7b50d",
   "metadata": {},
   "source": [
    "## test client"
   ]
  },
  {
   "cell_type": "code",
   "execution_count": 1,
   "id": "115a268b-3fa9-41ca-8934-972b3219e531",
   "metadata": {},
   "outputs": [
    {
     "name": "stdout",
     "output_type": "stream",
     "text": [
      "connecting to 128.138.224.89 port 65492\n",
      "blue robot is being used. Please change the bot variable if this is incorrect\n",
      "port= /dev/ttyACM0\n",
      "connecting to 128.138.224.89 port 65482\n",
      "server_address ('128.138.224.89', 65482)\n",
      "connected\n",
      "received b'start'\n",
      "starting rl policy\n",
      "GRU model loaded\n"
     ]
    },
    {
     "name": "stdin",
     "output_type": "stream",
     "text": [
      " u\n"
     ]
    },
    {
     "name": "stdout",
     "output_type": "stream",
     "text": [
      "inputstring= u\n",
      "data sent u\n"
     ]
    },
    {
     "name": "stdin",
     "output_type": "stream",
     "text": [
      " obs\n"
     ]
    },
    {
     "name": "stdout",
     "output_type": "stream",
     "text": [
      "inputstring= obs\n",
      "data sent obs\n",
      "currentpose: x -3.716489767052978 y -12.861036079916358 z 14.515429594936966\n",
      "roll 179.719888052832 pitch 1.1093841814566383 yaw 179.16846427107325\n",
      "forcetorque: [-2.250107526779175, -0.27394700050354004, -1.1767767667770386, -0.045378994196653366, 0.022316694259643555, 0.012499657459557056]\n",
      "normalized5channel:\n",
      "[[0.47698621]\n",
      " [0.43048717]\n",
      " [0.92188168]\n",
      " [0.58823637]\n",
      " [0.54184902]]\n",
      "normalized5channel.shape:  (5, 1)\n",
      "data array for GRU not filled. Currently at size of  1\n",
      "BUTTON NOT PRESSED\n"
     ]
    },
    {
     "name": "stdin",
     "output_type": "stream",
     "text": [
      " obs\n"
     ]
    },
    {
     "name": "stdout",
     "output_type": "stream",
     "text": [
      "inputstring= obs\n",
      "data sent obs\n",
      "currentpose: x -3.716002252421528 y -12.860955120807887 z 14.51526650339961\n",
      "roll 179.71874097768656 pitch 1.1078249832727454 yaw 179.16980226230456\n",
      "forcetorque: [-2.3192176818847656, -0.24370546638965607, -1.2164193391799927, -0.04300228878855705, 0.021384699270129204, 0.011788868345320225]\n",
      "normalized5channel:\n",
      "[[0.47698621 0.47540619]\n",
      " [0.43048717 0.43084315]\n",
      " [0.92188168 0.92161072]\n",
      " [0.58823637 0.58839298]\n",
      " [0.54184902 0.54176589]]\n",
      "normalized5channel.shape:  (5, 2)\n",
      "data array for GRU not filled. Currently at size of  2\n",
      "BUTTON NOT PRESSED\n"
     ]
    },
    {
     "name": "stdin",
     "output_type": "stream",
     "text": [
      " obs\n"
     ]
    },
    {
     "name": "stdout",
     "output_type": "stream",
     "text": [
      "inputstring= obs\n",
      "data sent obs\n",
      "currentpose: x -3.716061211772263 y -12.860851868611574 z 14.515144478076696\n",
      "roll 179.71897403581357 pitch 1.1113273772727272 yaw 179.16849688250394\n",
      "forcetorque: [-2.2930421829223633, -0.23863665759563446, -1.3246608972549438, -0.041942089796066284, 0.02421114221215248, 0.009355831891298294]\n",
      "normalized5channel:\n",
      "[[0.47698621 0.47540619 0.47600462]\n",
      " [0.43048717 0.43084315 0.43090282]\n",
      " [0.92188168 0.92161072 0.92087086]\n",
      " [0.58823637 0.58839298 0.58846284]\n",
      " [0.54184902 0.54176589 0.542018  ]]\n",
      "normalized5channel.shape:  (5, 3)\n",
      "data array for GRU not filled. Currently at size of  3\n",
      "BUTTON NOT PRESSED\n"
     ]
    },
    {
     "name": "stdin",
     "output_type": "stream",
     "text": [
      " obs\n"
     ]
    },
    {
     "name": "stdout",
     "output_type": "stream",
     "text": [
      "inputstring= obs\n",
      "data sent obs\n",
      "currentpose: x -3.715880227098614 y -12.861178051686288 z 14.515258290156723\n",
      "roll 179.71990126366882 pitch 1.1093851236453156 yaw 179.170491094434\n",
      "forcetorque: [-2.184835433959961, -0.31098464131355286, -1.2791767120361328, -0.04048052802681923, 0.02338472753763199, 0.010995338670909405]\n",
      "normalized5channel:\n",
      "[[0.47698621 0.47540619 0.47600462 0.47847849]\n",
      " [0.43048717 0.43084315 0.43090282 0.43005118]\n",
      " [0.92188168 0.92161072 0.92087086 0.92118176]\n",
      " [0.58823637 0.58839298 0.58846284 0.58855915]\n",
      " [0.54184902 0.54176589 0.542018   0.54194428]]\n",
      "normalized5channel.shape:  (5, 4)\n",
      "data array for GRU not filled. Currently at size of  4\n",
      "BUTTON NOT PRESSED\n"
     ]
    },
    {
     "name": "stdin",
     "output_type": "stream",
     "text": [
      " obs\n"
     ]
    },
    {
     "name": "stdout",
     "output_type": "stream",
     "text": [
      "inputstring= obs\n",
      "data sent obs\n",
      "currentpose: x -3.7157274021148683 y -12.861163971841336 z 14.515577433308959\n",
      "roll 179.7205521107394 pitch 1.109465861215232 yaw 179.17121025703563\n",
      "forcetorque: [-2.331338882446289, -0.21616066992282867, -1.252490520477295, -0.041415080428123474, 0.02589499019086361, 0.010814155451953411]\n",
      "normalized5channel:\n",
      "[[0.47698621 0.47540619 0.47600462 0.47847849 0.47512907]\n",
      " [0.43048717 0.43084315 0.43090282 0.43005118 0.4311674 ]\n",
      " [0.92188168 0.92161072 0.92087086 0.92118176 0.92136416]\n",
      " [0.58823637 0.58839298 0.58846284 0.58855915 0.58849757]\n",
      " [0.54184902 0.54176589 0.542018   0.54194428 0.54216818]]\n",
      "normalized5channel.shape:  (5, 5)\n",
      "data array for GRU not filled. Currently at size of  5\n",
      "BUTTON NOT PRESSED\n"
     ]
    },
    {
     "name": "stdin",
     "output_type": "stream",
     "text": [
      " obs\n"
     ]
    },
    {
     "name": "stdout",
     "output_type": "stream",
     "text": [
      "inputstring= obs\n",
      "data sent obs\n",
      "currentpose: x -3.715815107815713 y -12.860822535601258 z 14.515077598813177\n",
      "roll 179.719397291695 pitch 1.1085992509536413 yaw 179.1711894636191\n",
      "forcetorque: [-2.2827765941619873, -0.29659128189086914, -1.2551426887512207, -0.040012259036302567, 0.02470516785979271, 0.013095623813569546]\n",
      "normalized5channel:\n",
      "[[0.47698621 0.47540619 0.47600462 0.47847849 0.47512907 0.47623932]\n",
      " [0.43048717 0.43084315 0.43090282 0.43005118 0.4311674  0.43022061]\n",
      " [0.92188168 0.92161072 0.92087086 0.92118176 0.92136416 0.92134603]\n",
      " [0.58823637 0.58839298 0.58846284 0.58855915 0.58849757 0.58859001]\n",
      " [0.54184902 0.54176589 0.542018   0.54194428 0.54216818 0.54206206]]\n",
      "normalized5channel.shape:  (5, 6)\n",
      "data array for GRU not filled. Currently at size of  6\n",
      "BUTTON NOT PRESSED\n"
     ]
    },
    {
     "name": "stdin",
     "output_type": "stream",
     "text": [
      " obs\n"
     ]
    },
    {
     "name": "stdout",
     "output_type": "stream",
     "text": [
      "inputstring= obs\n",
      "data sent obs\n",
      "currentpose: x -3.7157608417466284 y -12.860976240575313 z 14.515437808179856\n",
      "roll 179.72172401039052 pitch 1.1116830648662377 yaw 179.1705334006165\n",
      "forcetorque: [-2.436375856399536, -0.36668381094932556, -1.0869932174682617, -0.04632885009050369, 0.025070780888199806, 0.010533766821026802]\n",
      "normalized5channel:\n",
      "[[0.47698621 0.47540619 0.47600462 0.47847849 0.47512907 0.47623932\n",
      "  0.47272767]\n",
      " [0.43048717 0.43084315 0.43090282 0.43005118 0.4311674  0.43022061\n",
      "  0.42939552]\n",
      " [0.92188168 0.92161072 0.92087086 0.92118176 0.92136416 0.92134603\n",
      "  0.92249537]\n",
      " [0.58823637 0.58839298 0.58846284 0.58855915 0.58849757 0.58859001\n",
      "  0.58817378]\n",
      " [0.54184902 0.54176589 0.542018   0.54194428 0.54216818 0.54206206\n",
      "  0.54209467]]\n",
      "normalized5channel.shape:  (5, 7)\n",
      "data array for GRU not filled. Currently at size of  7\n",
      "BUTTON NOT PRESSED\n"
     ]
    },
    {
     "name": "stdin",
     "output_type": "stream",
     "text": [
      " obs\n"
     ]
    },
    {
     "name": "stdout",
     "output_type": "stream",
     "text": [
      "inputstring= obs\n",
      "data sent obs\n",
      "currentpose: x -3.715679002647847 y -12.861171011763812 z 14.515455407986044\n",
      "roll 179.7211954859431 pitch 1.1102389982604002 yaw 179.17123115482542\n",
      "forcetorque: [-2.283703565597534, -0.32696688175201416, -1.3931406736373901, -0.045315105468034744, 0.019527753815054893, 0.008267803117632866]\n",
      "normalized5channel:\n",
      "[[0.47698621 0.47540619 0.47600462 0.47847849 0.47512907 0.47623932\n",
      "  0.47272767 0.47621813]\n",
      " [0.43048717 0.43084315 0.43090282 0.43005118 0.4311674  0.43022061\n",
      "  0.42939552 0.42986305]\n",
      " [0.92188168 0.92161072 0.92087086 0.92118176 0.92136416 0.92134603\n",
      "  0.92249537 0.92040279]\n",
      " [0.58823637 0.58839298 0.58846284 0.58855915 0.58849757 0.58859001\n",
      "  0.58817378 0.58824058]\n",
      " [0.54184902 0.54176589 0.542018   0.54194428 0.54216818 0.54206206\n",
      "  0.54209467 0.54160027]]\n",
      "normalized5channel.shape:  (5, 8)\n",
      "data array for GRU not filled. Currently at size of  8\n",
      "BUTTON NOT PRESSED\n"
     ]
    },
    {
     "name": "stdin",
     "output_type": "stream",
     "text": [
      " obs\n"
     ]
    },
    {
     "name": "stdout",
     "output_type": "stream",
     "text": [
      "inputstring= obs\n",
      "data sent obs\n",
      "currentpose: x -3.715781668183953 y -12.861215597939491 z 14.515308742934465\n",
      "roll 179.72042952983523 pitch 1.1108312268891918 yaw 179.17050343570918\n",
      "forcetorque: [-1.9458290338516235, -0.2716237008571625, -1.2672643661499023, -0.04512893408536911, 0.0166690144687891, 0.013164044357836246]\n",
      "normalized5channel:\n",
      "[[0.47698621 0.47540619 0.47600462 0.47847849 0.47512907 0.47623932\n",
      "  0.47272767 0.47621813 0.48394275]\n",
      " [0.43048717 0.43084315 0.43090282 0.43005118 0.4311674  0.43022061\n",
      "  0.42939552 0.42986305 0.43051452]\n",
      " [0.92188168 0.92161072 0.92087086 0.92118176 0.92136416 0.92134603\n",
      "  0.92249537 0.92040279 0.92126318]\n",
      " [0.58823637 0.58839298 0.58846284 0.58855915 0.58849757 0.58859001\n",
      "  0.58817378 0.58824058 0.58825285]\n",
      " [0.54184902 0.54176589 0.542018   0.54194428 0.54216818 0.54206206\n",
      "  0.54209467 0.54160027 0.54134528]]\n",
      "normalized5channel.shape:  (5, 9)\n",
      "data array for GRU not filled. Currently at size of  9\n",
      "BUTTON NOT PRESSED\n"
     ]
    },
    {
     "name": "stdin",
     "output_type": "stream",
     "text": [
      " obs\n"
     ]
    },
    {
     "name": "stdout",
     "output_type": "stream",
     "text": [
      "inputstring= obs\n",
      "data sent obs\n",
      "currentpose: x -3.7160708916656673 y -12.86076973618269 z 14.51492741380036\n",
      "roll 179.71838927802858 pitch 1.1112604870848786 yaw 179.17187229667604\n",
      "forcetorque: [-2.361196994781494, -0.3140656352043152, -0.6989880204200745, -0.0396343432366848, 0.0212135948240757, 0.014191762544214725]\n",
      "normalized5channel:\n",
      "[[0.47698621 0.47540619 0.47600462 0.47847849 0.47512907 0.47623932\n",
      "  0.47272767 0.47621813 0.48394275 0.47444644]\n",
      " [0.43048717 0.43084315 0.43090282 0.43005118 0.4311674  0.43022061\n",
      "  0.42939552 0.42986305 0.43051452 0.43001491]\n",
      " [0.92188168 0.92161072 0.92087086 0.92118176 0.92136416 0.92134603\n",
      "  0.92249537 0.92040279 0.92126318 0.92514747]\n",
      " [0.58823637 0.58839298 0.58846284 0.58855915 0.58849757 0.58859001\n",
      "  0.58817378 0.58824058 0.58825285 0.58861491]\n",
      " [0.54184902 0.54176589 0.542018   0.54194428 0.54216818 0.54206206\n",
      "  0.54209467 0.54160027 0.54134528 0.54175063]]\n",
      "normalized5channel.shape:  (5, 10)\n",
      "GRU Output 0.013813227415084839\n",
      "BUTTON NOT PRESSED\n",
      "closing DC socket in .py file\n",
      "Error. closing SnS socket\n"
     ]
    },
    {
     "ename": "KeyboardInterrupt",
     "evalue": "Interrupted by user",
     "output_type": "error",
     "traceback": [
      "\u001b[0;31m---------------------------------------------------------------------------\u001b[0m",
      "\u001b[0;31mKeyboardInterrupt\u001b[0m                         Traceback (most recent call last)",
      "\u001b[0;32m/tmp/ipykernel_12927/2052563829.py\u001b[0m in \u001b[0;36m<module>\u001b[0;34m\u001b[0m\n\u001b[1;32m     59\u001b[0m             \u001b[0mprint\u001b[0m\u001b[0;34m(\u001b[0m\u001b[0;34m\"starting rl policy\"\u001b[0m\u001b[0;34m)\u001b[0m\u001b[0;34m\u001b[0m\u001b[0;34m\u001b[0m\u001b[0m\n\u001b[1;32m     60\u001b[0m \u001b[0;31m#             %run -i 'twoWayComms_and_RC_V8_GRU_successfail.py'\u001b[0m\u001b[0;34m\u001b[0m\u001b[0;34m\u001b[0m\u001b[0;34m\u001b[0m\u001b[0m\n\u001b[0;32m---> 61\u001b[0;31m             \u001b[0mtwoWayComms_and_RC_V8_GRU_successfail\u001b[0m\u001b[0;34m.\u001b[0m\u001b[0mexecute_rl\u001b[0m\u001b[0;34m(\u001b[0m\u001b[0;34m)\u001b[0m\u001b[0;34m\u001b[0m\u001b[0;34m\u001b[0m\u001b[0m\n\u001b[0m\u001b[1;32m     62\u001b[0m \u001b[0;34m\u001b[0m\u001b[0m\n\u001b[1;32m     63\u001b[0m             \u001b[0mendmsg\u001b[0m\u001b[0;34m=\u001b[0m\u001b[0;34m'end'\u001b[0m\u001b[0;34m\u001b[0m\u001b[0;34m\u001b[0m\u001b[0m\n",
      "\u001b[0;32m~/ScheragaThesis/UR5_testbed/twoWayComms_and_RC_V8_GRU_successfail.py\u001b[0m in \u001b[0;36mexecute_rl\u001b[0;34m()\u001b[0m\n\u001b[1;32m    169\u001b[0m                 \u001b[0;31m#while True:\u001b[0m\u001b[0;34m\u001b[0m\u001b[0;34m\u001b[0m\u001b[0;34m\u001b[0m\u001b[0m\n\u001b[1;32m    170\u001b[0m                     \u001b[0;31m#while inputstring!='end':\u001b[0m\u001b[0;34m\u001b[0m\u001b[0;34m\u001b[0m\u001b[0;34m\u001b[0m\u001b[0m\n\u001b[0;32m--> 171\u001b[0;31m                 \u001b[0minputstring\u001b[0m\u001b[0;34m=\u001b[0m\u001b[0minput\u001b[0m\u001b[0;34m(\u001b[0m\u001b[0;34m\"\"\u001b[0m\u001b[0;34m)\u001b[0m \u001b[0;31m#Press Enter to continue...\u001b[0m\u001b[0;34m\u001b[0m\u001b[0;34m\u001b[0m\u001b[0m\n\u001b[0m\u001b[1;32m    172\u001b[0m                 \u001b[0mprint\u001b[0m\u001b[0;34m(\u001b[0m\u001b[0;34m\"inputstring=\"\u001b[0m\u001b[0;34m,\u001b[0m\u001b[0minputstring\u001b[0m\u001b[0;34m)\u001b[0m\u001b[0;34m\u001b[0m\u001b[0;34m\u001b[0m\u001b[0m\n\u001b[1;32m    173\u001b[0m                 \u001b[0;32mif\u001b[0m \u001b[0;34m(\u001b[0m\u001b[0minputstring\u001b[0m\u001b[0;34m==\u001b[0m\u001b[0;34m'reset'\u001b[0m\u001b[0;34m)\u001b[0m\u001b[0;34m:\u001b[0m\u001b[0;34m\u001b[0m\u001b[0;34m\u001b[0m\u001b[0m\n",
      "\u001b[0;32m~/anaconda3/envs/thesis/lib/python3.7/site-packages/ipykernel/kernelbase.py\u001b[0m in \u001b[0;36mraw_input\u001b[0;34m(self, prompt)\u001b[0m\n\u001b[1;32m   1008\u001b[0m             \u001b[0mself\u001b[0m\u001b[0;34m.\u001b[0m\u001b[0m_parent_ident\u001b[0m\u001b[0;34m[\u001b[0m\u001b[0;34m\"shell\"\u001b[0m\u001b[0;34m]\u001b[0m\u001b[0;34m,\u001b[0m\u001b[0;34m\u001b[0m\u001b[0;34m\u001b[0m\u001b[0m\n\u001b[1;32m   1009\u001b[0m             \u001b[0mself\u001b[0m\u001b[0;34m.\u001b[0m\u001b[0mget_parent\u001b[0m\u001b[0;34m(\u001b[0m\u001b[0;34m\"shell\"\u001b[0m\u001b[0;34m)\u001b[0m\u001b[0;34m,\u001b[0m\u001b[0;34m\u001b[0m\u001b[0;34m\u001b[0m\u001b[0m\n\u001b[0;32m-> 1010\u001b[0;31m             \u001b[0mpassword\u001b[0m\u001b[0;34m=\u001b[0m\u001b[0;32mFalse\u001b[0m\u001b[0;34m,\u001b[0m\u001b[0;34m\u001b[0m\u001b[0;34m\u001b[0m\u001b[0m\n\u001b[0m\u001b[1;32m   1011\u001b[0m         )\n\u001b[1;32m   1012\u001b[0m \u001b[0;34m\u001b[0m\u001b[0m\n",
      "\u001b[0;32m~/anaconda3/envs/thesis/lib/python3.7/site-packages/ipykernel/kernelbase.py\u001b[0m in \u001b[0;36m_input_request\u001b[0;34m(self, prompt, ident, parent, password)\u001b[0m\n\u001b[1;32m   1049\u001b[0m             \u001b[0;32mexcept\u001b[0m \u001b[0mKeyboardInterrupt\u001b[0m\u001b[0;34m:\u001b[0m\u001b[0;34m\u001b[0m\u001b[0;34m\u001b[0m\u001b[0m\n\u001b[1;32m   1050\u001b[0m                 \u001b[0;31m# re-raise KeyboardInterrupt, to truncate traceback\u001b[0m\u001b[0;34m\u001b[0m\u001b[0;34m\u001b[0m\u001b[0;34m\u001b[0m\u001b[0m\n\u001b[0;32m-> 1051\u001b[0;31m                 \u001b[0;32mraise\u001b[0m \u001b[0mKeyboardInterrupt\u001b[0m\u001b[0;34m(\u001b[0m\u001b[0;34m\"Interrupted by user\"\u001b[0m\u001b[0;34m)\u001b[0m \u001b[0;32mfrom\u001b[0m \u001b[0;32mNone\u001b[0m\u001b[0;34m\u001b[0m\u001b[0;34m\u001b[0m\u001b[0m\n\u001b[0m\u001b[1;32m   1052\u001b[0m             \u001b[0;32mexcept\u001b[0m \u001b[0mException\u001b[0m\u001b[0;34m:\u001b[0m\u001b[0;34m\u001b[0m\u001b[0;34m\u001b[0m\u001b[0m\n\u001b[1;32m   1053\u001b[0m                 \u001b[0mself\u001b[0m\u001b[0;34m.\u001b[0m\u001b[0mlog\u001b[0m\u001b[0;34m.\u001b[0m\u001b[0mwarning\u001b[0m\u001b[0;34m(\u001b[0m\u001b[0;34m\"Invalid Message:\"\u001b[0m\u001b[0;34m,\u001b[0m \u001b[0mexc_info\u001b[0m\u001b[0;34m=\u001b[0m\u001b[0;32mTrue\u001b[0m\u001b[0;34m)\u001b[0m\u001b[0;34m\u001b[0m\u001b[0;34m\u001b[0m\u001b[0m\n",
      "\u001b[0;31mKeyboardInterrupt\u001b[0m: Interrupted by user"
     ]
    }
   ],
   "source": [
    "import socket\n",
    "import numpy as np\n",
    "\n",
    "from time import sleep\n",
    "import torch\n",
    "import torch.nn as nn\n",
    "from torch.utils.data import TensorDataset, DataLoader\n",
    "import torch.nn.functional as F\n",
    "import torch.optim as optim\n",
    "\n",
    "HOST_SnS = '128.138.224.89' #192.168.0.103'#\n",
    "PORT_SnS= 65492\n",
    "# Create a TCP/IP socket\n",
    "sock_SnS = socket.socket(socket.AF_INET, socket.SOCK_STREAM)\n",
    "\n",
    "# Connect the socket to the port where the server is listening\n",
    "server_address_SnS = (HOST_SnS, PORT_SnS)\n",
    "print('connecting to {} port {}'.format(*server_address_SnS))\n",
    "sock_SnS.connect(server_address_SnS)\n",
    "\n",
    "import twoWayComms_and_RC_V8_GRU_successfail\n",
    "\n",
    "class GRUNet(nn.Module):\n",
    "        def __init__(self, input_dim, hidden_dim, output_dim, n_layers, drop_prob=0.2):\n",
    "            super(GRUNet, self).__init__()\n",
    "            self.hidden_dim = hidden_dim\n",
    "            self.n_layers = n_layers\n",
    "\n",
    "            self.gru = nn.GRU(input_dim, hidden_dim, n_layers, batch_first=True, dropout=drop_prob)\n",
    "            self.fc = nn.Linear(hidden_dim, output_dim)\n",
    "            self.relu = nn.ReLU()\n",
    "\n",
    "        def forward(self, x, h):\n",
    "            out, h = self.gru(x, h)\n",
    "            out = self.fc(self.relu(out[:,-1]))\n",
    "            return out, h\n",
    "\n",
    "        def init_hidden(self, batch_size):\n",
    "            weight = next(self.parameters()).data\n",
    "            hidden = weight.new(self.n_layers, batch_size, self.hidden_dim).zero_().to(device)\n",
    "            return hidden\n",
    "\n",
    "device = torch.device(\"cpu\")\n",
    "try:\n",
    "     #while True:\n",
    "        \"\"\"Restart\n",
    "        data = sock.recv(16)\n",
    "            #amount_received += len(data)\n",
    "        print('received {!r}'.format(data))\n",
    "        \"\"\"\n",
    "\n",
    "        data = sock_SnS.recv(64)  #48 bytes\n",
    "        #print(data)\n",
    "        #value = struct.unpack('f',data)\n",
    "        #unpacked = struct.unpack('f', data)\n",
    "        print('received {!r}'.format(data))\n",
    "        if data==b'start':\n",
    "            \n",
    "            print(\"starting rl policy\")\n",
    "#             %run -i 'twoWayComms_and_RC_V8_GRU_successfail.py'\n",
    "            twoWayComms_and_RC_V8_GRU_successfail.execute_rl()\n",
    "   \n",
    "            endmsg='end'\n",
    "            data1=endmsg.encode('ascii')    \n",
    "            sock_SnS.sendall(data1)\n",
    "        #if (inputstring==b'end'):\n",
    "        #   break    \n",
    "        \"\"\"\"\"\"\n",
    "finally:       \n",
    "    print('Error. closing SnS socket')\n",
    "    sock_SnS.close()\n"
   ]
  },
  {
   "cell_type": "code",
   "execution_count": null,
   "id": "a01bf507-ecae-40e4-8dbc-5c995f56ae0f",
   "metadata": {},
   "outputs": [],
   "source": []
  },
  {
   "cell_type": "code",
   "execution_count": null,
   "id": "6f38e7ed-f358-4f50-8487-0fc36cd0f90e",
   "metadata": {},
   "outputs": [],
   "source": []
  },
  {
   "cell_type": "code",
   "execution_count": null,
   "id": "ee32919d-30ee-48f0-b7dc-f8bf1930f597",
   "metadata": {},
   "outputs": [],
   "source": []
  },
  {
   "cell_type": "code",
   "execution_count": 53,
   "id": "846788f4-2bcd-4ec7-b62b-78afb8b4d91c",
   "metadata": {},
   "outputs": [
    {
     "name": "stdout",
     "output_type": "stream",
     "text": [
      "LL len 3\n",
      "[0.16666666666666666, 0.0, 0.6333333333333333, 0.019666666666666666, 0.0016666666666666668, -0.007333333333333333]\n"
     ]
    }
   ],
   "source": [
    "a=[0.2, -0.1, 0.1, 0.013, 0.001, -0.007]\n",
    "b=[0.2, 0.0, 0.5, 0.033, 0.006, -0.008]\n",
    "c=[0.1, 0.1, 1.3, 0.013, -0.002, -0.007]\n",
    "d=[0.1, 0.1, 1.2, 0.017, -0.001, -0.008]\n",
    "e=[0.0, 0.1, 0.4, 0.026, -0.001, -0.00899]\n",
    "\n",
    "LL=[]\n",
    "LL.append(a)\n",
    "LL.append(b)\n",
    "LL.append(c)\n",
    "L2=[0]*6\n",
    "print(\"LL len\",len(LL))\n",
    "for i in range(len(a)): \n",
    "    #print(\"i:\",i)\n",
    "    L2[i]=0\n",
    "    for j in range(len(LL)):  \n",
    "        L2[i]+=LL[j][i]    \n",
    "    L2[i]=L2[i]/(len(LL))\n"
   ]
  },
  {
   "cell_type": "code",
   "execution_count": null,
   "id": "af326199-b7dd-4e9a-b9a2-e4d2b05537f5",
   "metadata": {},
   "outputs": [],
   "source": []
  }
 ],
 "metadata": {
  "kernelspec": {
   "display_name": "Python 3 (ipykernel)",
   "language": "python",
   "name": "python3"
  },
  "language_info": {
   "codemirror_mode": {
    "name": "ipython",
    "version": 3
   },
   "file_extension": ".py",
   "mimetype": "text/x-python",
   "name": "python",
   "nbconvert_exporter": "python",
   "pygments_lexer": "ipython3",
   "version": "3.7.11"
  }
 },
 "nbformat": 4,
 "nbformat_minor": 5
}
