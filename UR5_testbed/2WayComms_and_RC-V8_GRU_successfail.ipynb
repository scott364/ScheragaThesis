{
 "cells": [
  {
   "cell_type": "code",
   "execution_count": null,
   "id": "0caf341b-d6f9-4d8e-8fd0-5bf38bfb5df5",
   "metadata": {},
   "outputs": [],
   "source": [
    "%run -i '2WayComms_and_RC-V2_dummypolicy.py'"
   ]
  },
  {
   "cell_type": "markdown",
   "id": "d81a587b-cdf9-4da9-86b5-889c40f7b50d",
   "metadata": {},
   "source": [
    "## test client"
   ]
  },
  {
   "cell_type": "code",
   "execution_count": null,
   "id": "115a268b-3fa9-41ca-8934-972b3219e531",
   "metadata": {},
   "outputs": [
    {
     "name": "stdout",
     "output_type": "stream",
     "text": [
      "connecting to 128.138.224.89 port 65496\n",
      "blue robot is being used. Please change the bot variable if this is incorrect\n",
      "port= /dev/ttyACM0\n",
      "connecting to 128.138.224.89 port 65486\n",
      "server_address ('128.138.224.89', 65486)\n",
      "connected\n",
      "received b'start'\n",
      "starting rl policy\n",
      "GRU model loaded\n"
     ]
    },
    {
     "name": "stdin",
     "output_type": "stream",
     "text": [
      " obs\n"
     ]
    },
    {
     "name": "stdout",
     "output_type": "stream",
     "text": [
      "inputstring= obs\n",
      "data sent obs\n",
      "currentpose (meters): x: -0.11257079988718033 y: -0.4203052222728729 z: 0.2938005328178406\n",
      "roll 179.723968125852 pitch 1.1120722290386957 yaw 179.17472348161866\n",
      "forcetorque: [-0.004277290776371956, 0.6176719069480896, -1.3139760494232178, 0.0018702500965446234, -0.002654222073033452, 0.0389726348221302]\n",
      "\n",
      "Z Torque: -1.3139760494232178 Z position: 0.2938005328178406\n",
      "Fake button contact conditions: NO CONTACT! Z position above threshold of 0.281 meters\n",
      "data array for GRU not filled. Currently at size of  1\n",
      "BUTTON NOT PRESSED\n"
     ]
    },
    {
     "name": "stdin",
     "output_type": "stream",
     "text": [
      " l\n"
     ]
    },
    {
     "name": "stdout",
     "output_type": "stream",
     "text": [
      "inputstring= l\n",
      "data sent l\n"
     ]
    },
    {
     "name": "stdin",
     "output_type": "stream",
     "text": [
      " l\n"
     ]
    },
    {
     "name": "stdout",
     "output_type": "stream",
     "text": [
      "inputstring= l\n",
      "data sent l\n"
     ]
    },
    {
     "name": "stdin",
     "output_type": "stream",
     "text": [
      " l\n"
     ]
    },
    {
     "name": "stdout",
     "output_type": "stream",
     "text": [
      "inputstring= l\n",
      "data sent l\n"
     ]
    },
    {
     "name": "stdin",
     "output_type": "stream",
     "text": [
      " obs\n"
     ]
    },
    {
     "name": "stdout",
     "output_type": "stream",
     "text": [
      "inputstring= obs\n",
      "data sent obs\n",
      "currentpose (meters): x: -0.11260270327329636 y: -0.4202946126461029 z: 0.28999486565589905\n",
      "roll 179.72556117682268 pitch 1.1130630701258306 yaw 179.16871988464078\n",
      "forcetorque: [0.19123563170433044, 0.5802574157714844, -1.8270297050476074, 0.004618573933839798, -0.0017209233483299613, 0.04443378001451492]\n",
      "\n",
      "Z Torque: -1.8270297050476074 Z position: 0.28999486565589905\n",
      "Fake button contact conditions: NO CONTACT! Z position above threshold of 0.281 meters\n",
      "data array for GRU not filled. Currently at size of  2\n",
      "BUTTON NOT PRESSED\n"
     ]
    },
    {
     "name": "stdin",
     "output_type": "stream",
     "text": [
      " l\n"
     ]
    },
    {
     "name": "stdout",
     "output_type": "stream",
     "text": [
      "inputstring= l\n",
      "data sent l\n"
     ]
    },
    {
     "name": "stdin",
     "output_type": "stream",
     "text": [
      " obs\n"
     ]
    },
    {
     "name": "stdout",
     "output_type": "stream",
     "text": [
      "inputstring= obs\n",
      "data sent obs\n",
      "currentpose (meters): x: -0.11261670291423798 y: -0.4202865660190582 z: 0.2886847257614136\n",
      "roll 179.7189326746954 pitch 1.1102190442684439 yaw 179.1663308043298\n",
      "forcetorque: [1.8440181016921997, -0.9981898665428162, -1.3999141454696655, 0.22691906988620758, 0.37610045075416565, 0.041643645614385605]\n",
      "\n",
      "Z Torque: -1.3999141454696655 Z position: 0.2886847257614136\n",
      "Fake button contact conditions: NO CONTACT! Z position above threshold of 0.281 meters\n",
      "data array for GRU not filled. Currently at size of  3\n",
      "BUTTON NOT PRESSED\n"
     ]
    },
    {
     "name": "stdin",
     "output_type": "stream",
     "text": [
      " l\n"
     ]
    },
    {
     "name": "stdout",
     "output_type": "stream",
     "text": [
      "inputstring= l\n",
      "data sent l\n"
     ]
    },
    {
     "name": "stdin",
     "output_type": "stream",
     "text": [
      " obs\n"
     ]
    },
    {
     "name": "stdout",
     "output_type": "stream",
     "text": [
      "inputstring= obs\n",
      "data sent obs\n",
      "currentpose (meters): x: -0.11260413378477097 y: -0.42029547691345215 z: 0.2874259650707245\n",
      "roll 179.72069070366754 pitch 1.1085628748509742 yaw 179.170287853992\n",
      "forcetorque: [1.468157172203064, -1.3288525342941284, -1.5464568138122559, 0.2397320419549942, 0.3256615102291107, 0.04274054244160652]\n",
      "\n",
      "Z Torque: -1.5464568138122559 Z position: 0.2874259650707245\n",
      "Fake button contact conditions: NO CONTACT! Z position above threshold of 0.281 meters\n",
      "data array for GRU not filled. Currently at size of  4\n",
      "BUTTON NOT PRESSED\n"
     ]
    },
    {
     "name": "stdin",
     "output_type": "stream",
     "text": [
      " l\n"
     ]
    },
    {
     "name": "stdout",
     "output_type": "stream",
     "text": [
      "inputstring= l\n",
      "data sent l\n"
     ]
    },
    {
     "name": "stdin",
     "output_type": "stream",
     "text": [
      " obs\n"
     ]
    },
    {
     "name": "stdout",
     "output_type": "stream",
     "text": [
      "inputstring= obs\n",
      "data sent obs\n",
      "currentpose (meters): x: -0.11260073632001877 y: -0.4202916920185089 z: 0.286143034696579\n",
      "roll 179.72027844694114 pitch 1.113007618353685 yaw 179.17079996051086\n",
      "forcetorque: [1.5919620990753174, -1.0427539348602295, -1.6050132513046265, 0.22637569904327393, 0.3529166877269745, 0.04226156324148178]\n",
      "\n",
      "Z Torque: -1.6050132513046265 Z position: 0.286143034696579\n",
      "Fake button contact conditions: NO CONTACT! Z position above threshold of 0.281 meters\n",
      "data array for GRU not filled. Currently at size of  5\n",
      "BUTTON NOT PRESSED\n"
     ]
    },
    {
     "name": "stdin",
     "output_type": "stream",
     "text": [
      " l\n"
     ]
    },
    {
     "name": "stdout",
     "output_type": "stream",
     "text": [
      "inputstring= l\n",
      "data sent l\n"
     ]
    },
    {
     "name": "stdin",
     "output_type": "stream",
     "text": [
      " obs\n"
     ]
    },
    {
     "name": "stdout",
     "output_type": "stream",
     "text": [
      "inputstring= obs\n",
      "data sent obs\n",
      "currentpose (meters): x: -0.11258691549301147 y: -0.42029064893722534 z: 0.2849084436893463\n",
      "roll 179.72496542503282 pitch 1.1122383128453777 yaw 179.17483523710743\n",
      "forcetorque: [2.2391180992126465, -0.8610766530036926, -1.989601969718933, 0.2204163670539856, 0.40733030438423157, 0.04391494393348694]\n",
      "\n",
      "Z Torque: -1.989601969718933 Z position: 0.2849084436893463\n",
      "Fake button contact conditions: NO CONTACT! Z position above threshold of 0.281 meters\n",
      "data array for GRU not filled. Currently at size of  6\n",
      "BUTTON NOT PRESSED\n"
     ]
    },
    {
     "name": "stdin",
     "output_type": "stream",
     "text": [
      " l\n"
     ]
    },
    {
     "name": "stdout",
     "output_type": "stream",
     "text": [
      "inputstring= l\n",
      "data sent l\n"
     ]
    },
    {
     "name": "stdin",
     "output_type": "stream",
     "text": [
      " obs\n"
     ]
    },
    {
     "name": "stdout",
     "output_type": "stream",
     "text": [
      "inputstring= obs\n",
      "data sent obs\n",
      "currentpose (meters): x: -0.11257287114858627 y: -0.42029765248298645 z: 0.2836228013038635\n",
      "roll 179.72292886689397 pitch 1.111067360798169 yaw 179.1766555388113\n",
      "forcetorque: [0.758929967880249, -1.2724934816360474, -1.548736333847046, 0.24449031054973602, 0.2598200738430023, 0.047060780227184296]\n",
      "\n",
      "Z Torque: -1.548736333847046 Z position: 0.2836228013038635\n",
      "Fake button contact conditions: NO CONTACT! Z position above threshold of 0.281 meters\n",
      "data array for GRU not filled. Currently at size of  7\n",
      "BUTTON NOT PRESSED\n"
     ]
    },
    {
     "name": "stdin",
     "output_type": "stream",
     "text": [
      " l\n"
     ]
    },
    {
     "name": "stdout",
     "output_type": "stream",
     "text": [
      "inputstring= l\n",
      "data sent l\n"
     ]
    },
    {
     "name": "stdin",
     "output_type": "stream",
     "text": [
      " obs\n"
     ]
    },
    {
     "name": "stdout",
     "output_type": "stream",
     "text": [
      "inputstring= obs\n",
      "data sent obs\n",
      "currentpose (meters): x: -0.11256787925958633 y: -0.42030587792396545 z: 0.2823242247104645\n",
      "roll 179.71823052312834 pitch 1.1104575119241127 yaw 179.17565100082453\n",
      "forcetorque: [0.9110891819000244, -1.6117206811904907, -1.3638153076171875, 0.29266709089279175, 0.26013797521591187, 0.04338739812374115]\n",
      "\n",
      "Z Torque: -1.3638153076171875 Z position: 0.2823242247104645\n",
      "Fake button contact conditions: NO CONTACT! Z position above threshold of 0.281 meters\n",
      "data array for GRU not filled. Currently at size of  8\n",
      "BUTTON NOT PRESSED\n"
     ]
    },
    {
     "name": "stdin",
     "output_type": "stream",
     "text": [
      " l\n"
     ]
    },
    {
     "name": "stdout",
     "output_type": "stream",
     "text": [
      "inputstring= l\n",
      "data sent l\n"
     ]
    },
    {
     "name": "stdin",
     "output_type": "stream",
     "text": [
      " obs\n"
     ]
    },
    {
     "name": "stdout",
     "output_type": "stream",
     "text": [
      "inputstring= obs\n",
      "data sent obs\n",
      "currentpose (meters): x: -0.11257696896791458 y: -0.42029687762260437 z: 0.28107699751853943\n",
      "roll 179.722517297839 pitch 1.1110684291763964 yaw 179.17691422612123\n",
      "forcetorque: [1.0584759712219238, -1.7363239526748657, -1.0269510746002197, 0.2991732656955719, 0.26482176780700684, 0.045132752507925034]\n",
      "\n",
      "Z Torque: -1.0269510746002197 Z position: 0.28107699751853943\n",
      "Fake button contact conditions: NO CONTACT! Z position above threshold of 0.281 meters\n",
      "data array for GRU not filled. Currently at size of  9\n",
      "BUTTON NOT PRESSED\n"
     ]
    },
    {
     "name": "stdin",
     "output_type": "stream",
     "text": [
      " l\n"
     ]
    },
    {
     "name": "stdout",
     "output_type": "stream",
     "text": [
      "inputstring= l\n",
      "data sent l\n"
     ]
    },
    {
     "name": "stdin",
     "output_type": "stream",
     "text": [
      " obs\n"
     ]
    },
    {
     "name": "stdout",
     "output_type": "stream",
     "text": [
      "inputstring= obs\n",
      "data sent obs\n",
      "currentpose (meters): x: -0.11258581280708313 y: -0.42034563422203064 z: 0.28035372495651245\n",
      "roll 179.78016667153517 pitch 1.1131928380839398 yaw 179.17571365620722\n",
      "forcetorque: [0.9471990466117859, -0.7293381690979004, -18.272918701171875, 0.19573244452476501, 0.24165791273117065, 0.04167318344116211]\n",
      "\n",
      "Z Torque: -18.272918701171875 Z position: 0.28035372495651245\n",
      "Fake button contact conditions: CONTACT!\n",
      "GRU Output 0.9364463090896606\n",
      "BUTTON NOT PRESSED\n"
     ]
    }
   ],
   "source": [
    "import socket\n",
    "import numpy as np\n",
    "\n",
    "from time import sleep\n",
    "import torch\n",
    "import torch.nn as nn\n",
    "from torch.utils.data import TensorDataset, DataLoader\n",
    "import torch.nn.functional as F\n",
    "import torch.optim as optim\n",
    "\n",
    "HOST_SnS = '128.138.224.89' #192.168.0.103'#\n",
    "PORT_SnS= 65496\n",
    "# Create a TCP/IP socket\n",
    "sock_SnS = socket.socket(socket.AF_INET, socket.SOCK_STREAM)\n",
    "\n",
    "# Connect the socket to the port where the server is listening\n",
    "server_address_SnS = (HOST_SnS, PORT_SnS)\n",
    "print('connecting to {} port {}'.format(*server_address_SnS))\n",
    "sock_SnS.connect(server_address_SnS)\n",
    "\n",
    "import twoWayComms_and_RC_V8_GRU_successfail\n",
    "\n",
    "class GRUNet(nn.Module):\n",
    "        def __init__(self, input_dim, hidden_dim, output_dim, n_layers, drop_prob=0.2):\n",
    "            super(GRUNet, self).__init__()\n",
    "            self.hidden_dim = hidden_dim\n",
    "            self.n_layers = n_layers\n",
    "\n",
    "            self.gru = nn.GRU(input_dim, hidden_dim, n_layers, batch_first=True, dropout=drop_prob)\n",
    "            self.fc = nn.Linear(hidden_dim, output_dim)\n",
    "            self.relu = nn.ReLU()\n",
    "\n",
    "        def forward(self, x, h):\n",
    "            out, h = self.gru(x, h)\n",
    "            out = self.fc(self.relu(out[:,-1]))\n",
    "            return out, h\n",
    "\n",
    "        def init_hidden(self, batch_size):\n",
    "            weight = next(self.parameters()).data\n",
    "            hidden = weight.new(self.n_layers, batch_size, self.hidden_dim).zero_().to(device)\n",
    "            return hidden\n",
    "\n",
    "device = torch.device(\"cpu\")\n",
    "try:\n",
    "     #while True:\n",
    "        \"\"\"Restart\n",
    "        data = sock.recv(16)\n",
    "            #amount_received += len(data)\n",
    "        print('received {!r}'.format(data))\n",
    "        \"\"\"\n",
    "\n",
    "        data = sock_SnS.recv(64)  #48 bytes\n",
    "        #print(data)\n",
    "        #value = struct.unpack('f',data)\n",
    "        #unpacked = struct.unpack('f', data)\n",
    "        print('received {!r}'.format(data))\n",
    "        if data==b'start':\n",
    "            \n",
    "            print(\"starting rl policy\")\n",
    "#             %run -i 'twoWayComms_and_RC_V8_GRU_successfail.py'\n",
    "            twoWayComms_and_RC_V8_GRU_successfail.execute_rl()\n",
    "   \n",
    "            endmsg='end'\n",
    "            data1=endmsg.encode('ascii')    \n",
    "            sock_SnS.sendall(data1)\n",
    "        #if (inputstring==b'end'):\n",
    "        #   break    \n",
    "        \"\"\"\"\"\"\n",
    "finally:       \n",
    "    print('Error. closing SnS socket')\n",
    "    sock_SnS.close()\n"
   ]
  },
  {
   "cell_type": "code",
   "execution_count": 3,
   "id": "a01bf507-ecae-40e4-8dbc-5c995f56ae0f",
   "metadata": {},
   "outputs": [
    {
     "name": "stdout",
     "output_type": "stream",
     "text": [
      "Fake button contact conditions: CONTACT!\n"
     ]
    }
   ],
   "source": [
    "zforce=-8.725895881652832\n",
    "zpose=0.280\n",
    "\n",
    "if zforce<-6 and zpose<0.281:\n",
    "    print(\"Fake button contact conditions: CONTACT!\")\n",
    "elif zpose<0.281:\n",
    "    print(\"Fake button contact conditions: NO CONTACT! Z force above threshold of -6\")    \n",
    "elif zforce>-6:\n",
    "    print(\"Fake button contact conditions: NO CONTACT! Z position above threshold of 0.281 meters\")  \n",
    "else:\n",
    "    print(\"Fake button contact conditions: NO CONTACT! Z position above threshold of 0.281 meters and Z force above threshold of -6\")  "
   ]
  },
  {
   "cell_type": "code",
   "execution_count": null,
   "id": "6f38e7ed-f358-4f50-8487-0fc36cd0f90e",
   "metadata": {},
   "outputs": [],
   "source": []
  },
  {
   "cell_type": "code",
   "execution_count": null,
   "id": "ee32919d-30ee-48f0-b7dc-f8bf1930f597",
   "metadata": {},
   "outputs": [],
   "source": []
  },
  {
   "cell_type": "code",
   "execution_count": 53,
   "id": "846788f4-2bcd-4ec7-b62b-78afb8b4d91c",
   "metadata": {},
   "outputs": [
    {
     "name": "stdout",
     "output_type": "stream",
     "text": [
      "LL len 3\n",
      "[0.16666666666666666, 0.0, 0.6333333333333333, 0.019666666666666666, 0.0016666666666666668, -0.007333333333333333]\n"
     ]
    }
   ],
   "source": [
    "a=[0.2, -0.1, 0.1, 0.013, 0.001, -0.007]\n",
    "b=[0.2, 0.0, 0.5, 0.033, 0.006, -0.008]\n",
    "c=[0.1, 0.1, 1.3, 0.013, -0.002, -0.007]\n",
    "d=[0.1, 0.1, 1.2, 0.017, -0.001, -0.008]\n",
    "e=[0.0, 0.1, 0.4, 0.026, -0.001, -0.00899]\n",
    "\n",
    "LL=[]\n",
    "LL.append(a)\n",
    "LL.append(b)\n",
    "LL.append(c)\n",
    "L2=[0]*6\n",
    "print(\"LL len\",len(LL))\n",
    "for i in range(len(a)): \n",
    "    #print(\"i:\",i)\n",
    "    L2[i]=0\n",
    "    for j in range(len(LL)):  \n",
    "        L2[i]+=LL[j][i]    \n",
    "    L2[i]=L2[i]/(len(LL))\n"
   ]
  },
  {
   "cell_type": "code",
   "execution_count": null,
   "id": "af326199-b7dd-4e9a-b9a2-e4d2b05537f5",
   "metadata": {},
   "outputs": [],
   "source": []
  }
 ],
 "metadata": {
  "kernelspec": {
   "display_name": "Python 3 (ipykernel)",
   "language": "python",
   "name": "python3"
  },
  "language_info": {
   "codemirror_mode": {
    "name": "ipython",
    "version": 3
   },
   "file_extension": ".py",
   "mimetype": "text/x-python",
   "name": "python",
   "nbconvert_exporter": "python",
   "pygments_lexer": "ipython3",
   "version": "3.7.11"
  }
 },
 "nbformat": 4,
 "nbformat_minor": 5
}
