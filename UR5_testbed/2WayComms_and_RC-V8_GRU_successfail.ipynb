{
 "cells": [
  {
   "cell_type": "code",
   "execution_count": null,
   "id": "0caf341b-d6f9-4d8e-8fd0-5bf38bfb5df5",
   "metadata": {},
   "outputs": [],
   "source": [
    "%run -i '2WayComms_and_RC-V2_dummypolicy.py'"
   ]
  },
  {
   "cell_type": "markdown",
   "id": "d81a587b-cdf9-4da9-86b5-889c40f7b50d",
   "metadata": {},
   "source": [
    "## test client"
   ]
  },
  {
   "cell_type": "code",
   "execution_count": 1,
   "id": "115a268b-3fa9-41ca-8934-972b3219e531",
   "metadata": {},
   "outputs": [
    {
     "name": "stdout",
     "output_type": "stream",
     "text": [
      "connecting to 128.138.224.117 port 65490\n",
      "blue robot is being used. Please change the bot variable if this is incorrect\n",
      "port= /dev/ttyACM0\n",
      "connecting to 128.138.224.117 port 65480\n",
      "server_address ('128.138.224.117', 65480)\n",
      "connected\n",
      "received b'start'\n",
      "starting rl policy\n",
      "GRU model loaded\n"
     ]
    },
    {
     "name": "stdin",
     "output_type": "stream",
     "text": [
      " u\n"
     ]
    },
    {
     "name": "stdout",
     "output_type": "stream",
     "text": [
      "inputstring= u\n",
      "data sent u\n"
     ]
    },
    {
     "name": "stdin",
     "output_type": "stream",
     "text": [
      " obs\n"
     ]
    },
    {
     "name": "stdout",
     "output_type": "stream",
     "text": [
      "inputstring= obs\n",
      "data sent obs\n",
      "currentpose (meters): x: -0.09438610076904297 y: -0.32668113708496094 z: 0.36869552731513977\n",
      "roll 179.720967275311 pitch 1.1074387809626496 yaw 179.1739581154555\n",
      "forcetorque: [0.18005302548408508, 0.3440789580345154, -0.09418234974145889, 0.01195815671235323, 0.000525652663782239, 0.009804587811231613]\n",
      "\n",
      "Z Torque: -0.09418234974145889 Z position: 0.36869552731513977\n",
      "Fake button contact conditions: NO CONTACT! Z position above threshold of 0.281 meters\n",
      "data array for GRU not filled. Currently at size of  1\n",
      "BUTTON NOT PRESSED\n",
      "Normalized data sent to DQN and GRU: 0.06509099101473903 -0.12447552729187294 0.8585629019151477 0.1840291895063697 0.07981078590328838\n"
     ]
    },
    {
     "name": "stdin",
     "output_type": "stream",
     "text": [
      " obs\n"
     ]
    },
    {
     "name": "stdout",
     "output_type": "stream",
     "text": [
      "inputstring= obs\n",
      "data sent obs\n",
      "currentpose (meters): x: -0.09437919408082962 y: -0.3266861140727997 z: 0.36871272325515747\n",
      "roll 179.724071863207 pitch 1.1092082542469948 yaw 179.17200564391644\n",
      "forcetorque: [-0.12616196274757385, -14.974035263061523, -1.6072330474853516, 1.862558364868164, -0.17239971458911896, -0.020423106849193573]\n",
      "\n",
      "Z Torque: -1.6072330474853516 Z position: 0.36871272325515747\n",
      "Fake button contact conditions: NO CONTACT! Z position above threshold of 0.281 meters\n",
      "data array for GRU not filled. Currently at size of  2\n",
      "BUTTON NOT PRESSED\n",
      "Normalized data sent to DQN and GRU: 0.05108937646030176 -0.4851087476340906 0.8378788407088458 0.4279194846982479 0.04896299623558242\n"
     ]
    },
    {
     "name": "stdin",
     "output_type": "stream",
     "text": [
      " obs\n"
     ]
    },
    {
     "name": "stdout",
     "output_type": "stream",
     "text": [
      "inputstring= obs\n",
      "data sent obs\n",
      "currentpose (meters): x: -0.09439358860254288 y: -0.32667914032936096 z: 0.36868926882743835\n",
      "roll 179.7188937285106 pitch 1.1071709771706315 yaw 179.17188536970085\n",
      "forcetorque: [0.07695502787828445, 0.5540624260902405, -0.2525247633457184, 0.026605045422911644, 0.0012347729643806815, 0.009818803519010544]\n",
      "\n",
      "Z Torque: -0.2525247633457184 Z position: 0.36868926882743835\n",
      "Fake button contact conditions: NO CONTACT! Z position above threshold of 0.281 meters\n",
      "data array for GRU not filled. Currently at size of  3\n",
      "BUTTON NOT PRESSED\n",
      "Normalized data sent to DQN and GRU: 0.06037685722218078 -0.11953190216866605 0.8563982922431601 0.18595950054573818 0.07993728437039871\n"
     ]
    },
    {
     "name": "stdin",
     "output_type": "stream",
     "text": [
      " obs\n"
     ]
    },
    {
     "name": "stdout",
     "output_type": "stream",
     "text": [
      "inputstring= obs\n",
      "data sent obs\n",
      "currentpose (meters): x: -0.09439639747142792 y: -0.32666587829589844 z: 0.368661493062973\n",
      "roll 179.7135125337596 pitch 1.1057530991243483 yaw 179.16902983173853\n",
      "forcetorque: [1.2025632858276367, 26.87259864807129, 1.8505243062973022, -3.835803985595703, 0.42078083753585815, 0.07969991862773895]\n",
      "\n",
      "Z Torque: 1.8505243062973022 Z position: 0.368661493062973\n",
      "Fake button contact conditions: NO CONTACT! Z position above threshold of 0.281 meters\n",
      "data array for GRU not filled. Currently at size of  4\n",
      "BUTTON NOT PRESSED\n",
      "Normalized data sent to DQN and GRU: 0.11184505300878045 0.5000834326846868 0.8851478878391403 -0.32306674649313316 0.1547792174043594\n"
     ]
    },
    {
     "name": "stdin",
     "output_type": "stream",
     "text": [
      " end\n"
     ]
    },
    {
     "name": "stdout",
     "output_type": "stream",
     "text": [
      "inputstring= end\n",
      "data sent end\n",
      "end episode\n",
      "closing DC socket in .py file\n",
      "Error. closing SnS socket\n"
     ]
    }
   ],
   "source": [
    "import socket\n",
    "import numpy as np\n",
    "\n",
    "from time import sleep\n",
    "import torch\n",
    "import torch.nn as nn\n",
    "from torch.utils.data import TensorDataset, DataLoader\n",
    "import torch.nn.functional as F\n",
    "import torch.optim as optim\n",
    "\n",
    "\n",
    "HOST_SnS = '128.138.224.117'\n",
    "PORT_SnS= 65490\n",
    "\n",
    "# Create a TCP/IP socket\n",
    "sock_SnS = socket.socket(socket.AF_INET, socket.SOCK_STREAM)\n",
    "\n",
    "# Connect the socket to the port where the server is listening\n",
    "server_address_SnS = (HOST_SnS, PORT_SnS)\n",
    "print('connecting to {} port {}'.format(*server_address_SnS))\n",
    "sock_SnS.connect(server_address_SnS)\n",
    "\n",
    "import twoWayComms_and_RC_V8_GRU_successfail\n",
    "\n",
    "class GRUNet(nn.Module):\n",
    "        def __init__(self, input_dim, hidden_dim, output_dim, n_layers, drop_prob=0.2):\n",
    "            super(GRUNet, self).__init__()\n",
    "            self.hidden_dim = hidden_dim\n",
    "            self.n_layers = n_layers\n",
    "\n",
    "            self.gru = nn.GRU(input_dim, hidden_dim, n_layers, batch_first=True, dropout=drop_prob)\n",
    "            self.fc = nn.Linear(hidden_dim, output_dim)\n",
    "            self.relu = nn.ReLU()\n",
    "\n",
    "        def forward(self, x, h):\n",
    "            out, h = self.gru(x, h)\n",
    "            out = self.fc(self.relu(out[:,-1]))\n",
    "            return out, h\n",
    "\n",
    "        def init_hidden(self, batch_size):\n",
    "            weight = next(self.parameters()).data\n",
    "            hidden = weight.new(self.n_layers, batch_size, self.hidden_dim).zero_().to(device)\n",
    "            return hidden\n",
    "\n",
    "device = torch.device(\"cpu\")\n",
    "try:\n",
    "     #while True:\n",
    "        \"\"\"Restart\n",
    "        data = sock.recv(16)\n",
    "            #amount_received += len(data)\n",
    "        print('received {!r}'.format(data))\n",
    "        \"\"\"\n",
    "\n",
    "        data = sock_SnS.recv(64)  #48 bytes\n",
    "        #print(data)\n",
    "        #value = struct.unpack('f',data)\n",
    "        #unpacked = struct.unpack('f', data)\n",
    "        print('received {!r}'.format(data))\n",
    "        if data==b'start':\n",
    "            \n",
    "            print(\"starting rl policy\")\n",
    "#             %run -i 'twoWayComms_and_RC_V8_GRU_successfail.py'\n",
    "            twoWayComms_and_RC_V8_GRU_successfail.execute_rl()\n",
    "   \n",
    "            endmsg='end'\n",
    "            data1=endmsg.encode('ascii')    \n",
    "            sock_SnS.sendall(data1)\n",
    "        #if (inputstring==b'end'):\n",
    "        #   break    \n",
    "        \"\"\"\"\"\"\n",
    "finally:       \n",
    "    print('Error. closing SnS socket')\n",
    "    sock_SnS.close()\n"
   ]
  },
  {
   "cell_type": "code",
   "execution_count": 3,
   "id": "a01bf507-ecae-40e4-8dbc-5c995f56ae0f",
   "metadata": {},
   "outputs": [
    {
     "name": "stdout",
     "output_type": "stream",
     "text": [
      "Fake button contact conditions: CONTACT!\n"
     ]
    }
   ],
   "source": [
    "zforce=-8.725895881652832\n",
    "zpose=0.280\n",
    "\n",
    "if zforce<-6 and zpose<0.281:\n",
    "    print(\"Fake button contact conditions: CONTACT!\")\n",
    "elif zpose<0.281:\n",
    "    print(\"Fake button contact conditions: NO CONTACT! Z force above threshold of -6\")    \n",
    "elif zforce>-6:\n",
    "    print(\"Fake button contact conditions: NO CONTACT! Z position above threshold of 0.281 meters\")  \n",
    "else:\n",
    "    print(\"Fake button contact conditions: NO CONTACT! Z position above threshold of 0.281 meters and Z force above threshold of -6\")  "
   ]
  },
  {
   "cell_type": "code",
   "execution_count": null,
   "id": "6f38e7ed-f358-4f50-8487-0fc36cd0f90e",
   "metadata": {},
   "outputs": [],
   "source": []
  },
  {
   "cell_type": "code",
   "execution_count": null,
   "id": "ee32919d-30ee-48f0-b7dc-f8bf1930f597",
   "metadata": {},
   "outputs": [],
   "source": []
  },
  {
   "cell_type": "code",
   "execution_count": 53,
   "id": "846788f4-2bcd-4ec7-b62b-78afb8b4d91c",
   "metadata": {},
   "outputs": [
    {
     "name": "stdout",
     "output_type": "stream",
     "text": [
      "LL len 3\n",
      "[0.16666666666666666, 0.0, 0.6333333333333333, 0.019666666666666666, 0.0016666666666666668, -0.007333333333333333]\n"
     ]
    }
   ],
   "source": [
    "a=[0.2, -0.1, 0.1, 0.013, 0.001, -0.007]\n",
    "b=[0.2, 0.0, 0.5, 0.033, 0.006, -0.008]\n",
    "c=[0.1, 0.1, 1.3, 0.013, -0.002, -0.007]\n",
    "d=[0.1, 0.1, 1.2, 0.017, -0.001, -0.008]\n",
    "e=[0.0, 0.1, 0.4, 0.026, -0.001, -0.00899]\n",
    "\n",
    "LL=[]\n",
    "LL.append(a)\n",
    "LL.append(b)\n",
    "LL.append(c)\n",
    "L2=[0]*6\n",
    "print(\"LL len\",len(LL))\n",
    "for i in range(len(a)): \n",
    "    #print(\"i:\",i)\n",
    "    L2[i]=0\n",
    "    for j in range(len(LL)):  \n",
    "        L2[i]+=LL[j][i]    \n",
    "    L2[i]=L2[i]/(len(LL))\n"
   ]
  },
  {
   "cell_type": "code",
   "execution_count": null,
   "id": "af326199-b7dd-4e9a-b9a2-e4d2b05537f5",
   "metadata": {},
   "outputs": [],
   "source": []
  }
 ],
 "metadata": {
  "kernelspec": {
   "display_name": "Python 3 (ipykernel)",
   "language": "python",
   "name": "python3"
  },
  "language_info": {
   "codemirror_mode": {
    "name": "ipython",
    "version": 3
   },
   "file_extension": ".py",
   "mimetype": "text/x-python",
   "name": "python",
   "nbconvert_exporter": "python",
   "pygments_lexer": "ipython3",
   "version": "3.7.11"
  }
 },
 "nbformat": 4,
 "nbformat_minor": 5
}
