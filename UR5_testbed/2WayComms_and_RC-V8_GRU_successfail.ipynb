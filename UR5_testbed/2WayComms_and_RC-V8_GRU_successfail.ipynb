{
 "cells": [
  {
   "cell_type": "code",
   "execution_count": null,
   "id": "0caf341b-d6f9-4d8e-8fd0-5bf38bfb5df5",
   "metadata": {},
   "outputs": [],
   "source": [
    "%run -i '2WayComms_and_RC-V2_dummypolicy.py'"
   ]
  },
  {
   "cell_type": "markdown",
   "id": "d81a587b-cdf9-4da9-86b5-889c40f7b50d",
   "metadata": {},
   "source": [
    "## test client"
   ]
  },
  {
   "cell_type": "code",
   "execution_count": 1,
   "id": "115a268b-3fa9-41ca-8934-972b3219e531",
   "metadata": {},
   "outputs": [
    {
     "name": "stdout",
     "output_type": "stream",
     "text": [
      "connecting to 128.138.224.89 port 65497\n",
      "blue robot is being used. Please change the bot variable if this is incorrect\n",
      "port= /dev/ttyACM0\n",
      "connecting to 128.138.224.89 port 65487\n",
      "server_address ('128.138.224.89', 65487)\n",
      "connected\n",
      "received b'start'\n",
      "starting rl policy\n",
      "GRU model loaded\n"
     ]
    },
    {
     "name": "stdin",
     "output_type": "stream",
     "text": [
      " l\n"
     ]
    },
    {
     "name": "stdout",
     "output_type": "stream",
     "text": [
      "inputstring= l\n",
      "data sent l\n"
     ]
    },
    {
     "name": "stdin",
     "output_type": "stream",
     "text": [
      " l\n"
     ]
    },
    {
     "name": "stdout",
     "output_type": "stream",
     "text": [
      "inputstring= l\n",
      "data sent l\n"
     ]
    },
    {
     "name": "stdin",
     "output_type": "stream",
     "text": [
      " obs\n"
     ]
    },
    {
     "name": "stdout",
     "output_type": "stream",
     "text": [
      "inputstring= obs\n",
      "data sent obs\n",
      "currentpose (meters): x: -0.11258403956890106 y: -0.4203249216079712 z: 0.29125282168388367\n",
      "roll 179.7226850302938 pitch 1.1146431728648212 yaw 179.17433704579847\n",
      "forcetorque: [-0.6186686158180237, 1.2249515056610107, -0.5852540135383606, -0.08337417989969254, 0.004072403069585562, 0.10268265753984451]\n",
      "\n",
      "Z Torque: -0.5852540135383606 Z position: 0.29125282168388367\n",
      "Fake button contact conditions: NO CONTACT! Z position above threshold of 0.281 meters\n",
      "data array for GRU not filled. Currently at size of  1\n",
      "BUTTON NOT PRESSED\n"
     ]
    },
    {
     "name": "stdin",
     "output_type": "stream",
     "text": [
      " l\n"
     ]
    },
    {
     "name": "stdout",
     "output_type": "stream",
     "text": [
      "inputstring= l\n",
      "data sent l\n"
     ]
    },
    {
     "name": "stdin",
     "output_type": "stream",
     "text": [
      " obs\n"
     ]
    },
    {
     "name": "stdout",
     "output_type": "stream",
     "text": [
      "inputstring= obs\n",
      "data sent obs\n",
      "currentpose (meters): x: -0.11259250342845917 y: -0.4203309118747711 z: 0.2900303602218628\n",
      "roll 179.7296688549991 pitch 1.1125960755805946 yaw 179.17152577536137\n",
      "forcetorque: [-0.6505814790725708, 1.399747371673584, -0.6868696808815002, -0.09075747430324554, 0.0025389480870217085, 0.102300263941288]\n",
      "\n",
      "Z Torque: -0.6868696808815002 Z position: 0.2900303602218628\n",
      "Fake button contact conditions: NO CONTACT! Z position above threshold of 0.281 meters\n",
      "data array for GRU not filled. Currently at size of  2\n",
      "BUTTON NOT PRESSED\n"
     ]
    },
    {
     "name": "stdin",
     "output_type": "stream",
     "text": [
      " l\n"
     ]
    },
    {
     "name": "stdout",
     "output_type": "stream",
     "text": [
      "inputstring= l\n",
      "data sent l\n"
     ]
    },
    {
     "name": "stdin",
     "output_type": "stream",
     "text": [
      " obs\n"
     ]
    },
    {
     "name": "stdout",
     "output_type": "stream",
     "text": [
      "inputstring= obs\n",
      "data sent obs\n",
      "currentpose (meters): x: -0.11262185126543045 y: -0.4203130900859833 z: 0.28876349329948425\n",
      "roll 179.7298805958629 pitch 1.1129166289725994 yaw 179.1693003263171\n",
      "forcetorque: [-0.5931278467178345, 0.694138765335083, -0.4454755485057831, -0.04016256332397461, 0.006704049650579691, 0.10851332545280457]\n",
      "\n",
      "Z Torque: -0.4454755485057831 Z position: 0.28876349329948425\n",
      "Fake button contact conditions: NO CONTACT! Z position above threshold of 0.281 meters\n",
      "data array for GRU not filled. Currently at size of  3\n",
      "BUTTON NOT PRESSED\n"
     ]
    },
    {
     "name": "stdin",
     "output_type": "stream",
     "text": [
      " l\n"
     ]
    },
    {
     "name": "stdout",
     "output_type": "stream",
     "text": [
      "inputstring= l\n",
      "data sent l\n"
     ]
    },
    {
     "name": "stdin",
     "output_type": "stream",
     "text": [
      " obs\n"
     ]
    },
    {
     "name": "stdout",
     "output_type": "stream",
     "text": [
      "inputstring= obs\n",
      "data sent obs\n",
      "currentpose (meters): x: -0.11261944472789764 y: -0.4203157126903534 z: 0.2874796986579895\n",
      "roll 179.72801870885144 pitch 1.113806462118762 yaw 179.16771138123264\n",
      "forcetorque: [-0.28030967712402344, 0.9660800695419312, -0.7791009545326233, -0.053817231208086014, 0.008369632065296173, 0.08965424448251724]\n",
      "\n",
      "Z Torque: -0.7791009545326233 Z position: 0.2874796986579895\n",
      "Fake button contact conditions: NO CONTACT! Z position above threshold of 0.281 meters\n",
      "data array for GRU not filled. Currently at size of  4\n",
      "BUTTON NOT PRESSED\n"
     ]
    },
    {
     "name": "stdin",
     "output_type": "stream",
     "text": [
      " l\n"
     ]
    },
    {
     "name": "stdout",
     "output_type": "stream",
     "text": [
      "inputstring= l\n",
      "data sent l\n"
     ]
    },
    {
     "name": "stdin",
     "output_type": "stream",
     "text": [
      " obs\n"
     ]
    },
    {
     "name": "stdout",
     "output_type": "stream",
     "text": [
      "inputstring= obs\n",
      "data sent obs\n",
      "currentpose (meters): x: -0.11262261122465134 y: -0.42032545804977417 z: 0.28621262311935425\n",
      "roll 179.73067515177948 pitch 1.1115625113760195 yaw 179.168966546824\n",
      "forcetorque: [-0.6058915257453918, 1.1854530572891235, -0.7730008959770203, -0.0666610524058342, 0.0011489520547911525, 0.09332660585641861]\n",
      "\n",
      "Z Torque: -0.7730008959770203 Z position: 0.28621262311935425\n",
      "Fake button contact conditions: NO CONTACT! Z position above threshold of 0.281 meters\n",
      "data array for GRU not filled. Currently at size of  5\n",
      "BUTTON NOT PRESSED\n"
     ]
    },
    {
     "name": "stdin",
     "output_type": "stream",
     "text": [
      " l\n"
     ]
    },
    {
     "name": "stdout",
     "output_type": "stream",
     "text": [
      "inputstring= l\n",
      "data sent l\n"
     ]
    },
    {
     "name": "stdin",
     "output_type": "stream",
     "text": [
      " obs\n"
     ]
    },
    {
     "name": "stdout",
     "output_type": "stream",
     "text": [
      "inputstring= obs\n",
      "data sent obs\n",
      "currentpose (meters): x: -0.11261174082756042 y: -0.42032164335250854 z: 0.284955769777298\n",
      "roll 179.7311729454196 pitch 1.1119108773222084 yaw 179.1701188979353\n",
      "forcetorque: [-0.4306519031524658, 0.9167690277099609, -1.099471092224121, -0.04099785536527634, 0.012608186341822147, 0.09698949754238129]\n",
      "\n",
      "Z Torque: -1.099471092224121 Z position: 0.284955769777298\n",
      "Fake button contact conditions: NO CONTACT! Z position above threshold of 0.281 meters\n",
      "data array for GRU not filled. Currently at size of  6\n",
      "BUTTON NOT PRESSED\n"
     ]
    },
    {
     "name": "stdin",
     "output_type": "stream",
     "text": [
      " l\n"
     ]
    },
    {
     "name": "stdout",
     "output_type": "stream",
     "text": [
      "inputstring= l\n",
      "data sent l\n"
     ]
    },
    {
     "name": "stdin",
     "output_type": "stream",
     "text": [
      " obs\n"
     ]
    },
    {
     "name": "stdout",
     "output_type": "stream",
     "text": [
      "inputstring= obs\n",
      "data sent obs\n",
      "currentpose (meters): x: -0.11262551695108414 y: -0.4203253984451294 z: 0.2837119698524475\n",
      "roll 179.73520578143672 pitch 1.1124476427137435 yaw 179.16588575300267\n",
      "forcetorque: [-0.24058406054973602, 0.6510562896728516, -1.0653963088989258, -0.02452545240521431, 0.0185468178242445, 0.09593959897756577]\n",
      "\n",
      "Z Torque: -1.0653963088989258 Z position: 0.2837119698524475\n",
      "Fake button contact conditions: NO CONTACT! Z position above threshold of 0.281 meters\n",
      "data array for GRU not filled. Currently at size of  7\n",
      "BUTTON NOT PRESSED\n"
     ]
    },
    {
     "name": "stdin",
     "output_type": "stream",
     "text": [
      " l\n"
     ]
    },
    {
     "name": "stdout",
     "output_type": "stream",
     "text": [
      "inputstring= l\n",
      "data sent l\n"
     ]
    },
    {
     "name": "stdin",
     "output_type": "stream",
     "text": [
      " obs\n"
     ]
    },
    {
     "name": "stdout",
     "output_type": "stream",
     "text": [
      "inputstring= obs\n",
      "data sent obs\n",
      "currentpose (meters): x: -0.11260656267404556 y: -0.42033421993255615 z: 0.2824382781982422\n",
      "roll 179.7339090808404 pitch 1.114130425941157 yaw 179.1725099902631\n",
      "forcetorque: [-0.37373775243759155, 0.2408459484577179, -0.9835169911384583, 0.017825834453105927, 0.03259234130382538, 0.09701848030090332]\n",
      "\n",
      "Z Torque: -0.9835169911384583 Z position: 0.2824382781982422\n",
      "Fake button contact conditions: NO CONTACT! Z position above threshold of 0.281 meters\n",
      "data array for GRU not filled. Currently at size of  8\n",
      "BUTTON NOT PRESSED\n"
     ]
    },
    {
     "name": "stdin",
     "output_type": "stream",
     "text": [
      " l\n"
     ]
    },
    {
     "name": "stdout",
     "output_type": "stream",
     "text": [
      "inputstring= l\n",
      "data sent l\n"
     ]
    },
    {
     "name": "stdin",
     "output_type": "stream",
     "text": [
      " obs\n"
     ]
    },
    {
     "name": "stdout",
     "output_type": "stream",
     "text": [
      "inputstring= obs\n",
      "data sent obs\n",
      "currentpose (meters): x: -0.11259925365447998 y: -0.4203314781188965 z: 0.2811652719974518\n",
      "roll 179.73258590502695 pitch 1.1123058057495472 yaw 179.16887280343877\n",
      "forcetorque: [-0.432014137506485, 0.5159211158752441, -0.9189741015434265, 0.017446812242269516, 0.044499266892671585, 0.09003634005784988]\n",
      "\n",
      "Z Torque: -0.9189741015434265 Z position: 0.2811652719974518\n",
      "Fake button contact conditions: NO CONTACT! Z position above threshold of 0.281 meters\n",
      "data array for GRU not filled. Currently at size of  9\n",
      "BUTTON NOT PRESSED\n"
     ]
    },
    {
     "name": "stdin",
     "output_type": "stream",
     "text": [
      " l\n"
     ]
    },
    {
     "name": "stdout",
     "output_type": "stream",
     "text": [
      "inputstring= l\n",
      "data sent l\n"
     ]
    },
    {
     "name": "stdin",
     "output_type": "stream",
     "text": [
      " obs\n"
     ]
    },
    {
     "name": "stdout",
     "output_type": "stream",
     "text": [
      "inputstring= obs\n",
      "data sent obs\n",
      "currentpose (meters): x: -0.11258045583963394 y: -0.42036905884742737 z: 0.28048717975616455\n",
      "roll 179.77315745845374 pitch 1.1154182578698506 yaw 179.17539127737507\n",
      "forcetorque: [-0.5751509666442871, 1.072996973991394, -9.167975425720215, -0.07362891733646393, -0.0008702008635737002, 0.0901465192437172]\n",
      "\n",
      "Z Torque: -9.167975425720215 Z position: 0.28048717975616455\n",
      "Fake button contact conditions: CONTACT!\n",
      "GRU Output 0.962918758392334\n",
      "BUTTON NOT PRESSED\n"
     ]
    },
    {
     "name": "stdin",
     "output_type": "stream",
     "text": [
      " end\n"
     ]
    },
    {
     "name": "stdout",
     "output_type": "stream",
     "text": [
      "inputstring= end\n",
      "data sent end\n",
      "end episode\n",
      "closing DC socket in .py file\n",
      "Error. closing SnS socket\n"
     ]
    }
   ],
   "source": [
    "import socket\n",
    "import numpy as np\n",
    "\n",
    "from time import sleep\n",
    "import torch\n",
    "import torch.nn as nn\n",
    "from torch.utils.data import TensorDataset, DataLoader\n",
    "import torch.nn.functional as F\n",
    "import torch.optim as optim\n",
    "\n",
    "HOST_SnS = '128.138.224.89' #192.168.0.103'#\n",
    "PORT_SnS= 65497\n",
    "# Create a TCP/IP socket\n",
    "sock_SnS = socket.socket(socket.AF_INET, socket.SOCK_STREAM)\n",
    "\n",
    "# Connect the socket to the port where the server is listening\n",
    "server_address_SnS = (HOST_SnS, PORT_SnS)\n",
    "print('connecting to {} port {}'.format(*server_address_SnS))\n",
    "sock_SnS.connect(server_address_SnS)\n",
    "\n",
    "import twoWayComms_and_RC_V8_GRU_successfail\n",
    "\n",
    "class GRUNet(nn.Module):\n",
    "        def __init__(self, input_dim, hidden_dim, output_dim, n_layers, drop_prob=0.2):\n",
    "            super(GRUNet, self).__init__()\n",
    "            self.hidden_dim = hidden_dim\n",
    "            self.n_layers = n_layers\n",
    "\n",
    "            self.gru = nn.GRU(input_dim, hidden_dim, n_layers, batch_first=True, dropout=drop_prob)\n",
    "            self.fc = nn.Linear(hidden_dim, output_dim)\n",
    "            self.relu = nn.ReLU()\n",
    "\n",
    "        def forward(self, x, h):\n",
    "            out, h = self.gru(x, h)\n",
    "            out = self.fc(self.relu(out[:,-1]))\n",
    "            return out, h\n",
    "\n",
    "        def init_hidden(self, batch_size):\n",
    "            weight = next(self.parameters()).data\n",
    "            hidden = weight.new(self.n_layers, batch_size, self.hidden_dim).zero_().to(device)\n",
    "            return hidden\n",
    "\n",
    "device = torch.device(\"cpu\")\n",
    "try:\n",
    "     #while True:\n",
    "        \"\"\"Restart\n",
    "        data = sock.recv(16)\n",
    "            #amount_received += len(data)\n",
    "        print('received {!r}'.format(data))\n",
    "        \"\"\"\n",
    "\n",
    "        data = sock_SnS.recv(64)  #48 bytes\n",
    "        #print(data)\n",
    "        #value = struct.unpack('f',data)\n",
    "        #unpacked = struct.unpack('f', data)\n",
    "        print('received {!r}'.format(data))\n",
    "        if data==b'start':\n",
    "            \n",
    "            print(\"starting rl policy\")\n",
    "#             %run -i 'twoWayComms_and_RC_V8_GRU_successfail.py'\n",
    "            twoWayComms_and_RC_V8_GRU_successfail.execute_rl()\n",
    "   \n",
    "            endmsg='end'\n",
    "            data1=endmsg.encode('ascii')    \n",
    "            sock_SnS.sendall(data1)\n",
    "        #if (inputstring==b'end'):\n",
    "        #   break    \n",
    "        \"\"\"\"\"\"\n",
    "finally:       \n",
    "    print('Error. closing SnS socket')\n",
    "    sock_SnS.close()\n"
   ]
  },
  {
   "cell_type": "code",
   "execution_count": 3,
   "id": "a01bf507-ecae-40e4-8dbc-5c995f56ae0f",
   "metadata": {},
   "outputs": [
    {
     "name": "stdout",
     "output_type": "stream",
     "text": [
      "Fake button contact conditions: CONTACT!\n"
     ]
    }
   ],
   "source": [
    "zforce=-8.725895881652832\n",
    "zpose=0.280\n",
    "\n",
    "if zforce<-6 and zpose<0.281:\n",
    "    print(\"Fake button contact conditions: CONTACT!\")\n",
    "elif zpose<0.281:\n",
    "    print(\"Fake button contact conditions: NO CONTACT! Z force above threshold of -6\")    \n",
    "elif zforce>-6:\n",
    "    print(\"Fake button contact conditions: NO CONTACT! Z position above threshold of 0.281 meters\")  \n",
    "else:\n",
    "    print(\"Fake button contact conditions: NO CONTACT! Z position above threshold of 0.281 meters and Z force above threshold of -6\")  "
   ]
  },
  {
   "cell_type": "code",
   "execution_count": null,
   "id": "6f38e7ed-f358-4f50-8487-0fc36cd0f90e",
   "metadata": {},
   "outputs": [],
   "source": []
  },
  {
   "cell_type": "code",
   "execution_count": null,
   "id": "ee32919d-30ee-48f0-b7dc-f8bf1930f597",
   "metadata": {},
   "outputs": [],
   "source": []
  },
  {
   "cell_type": "code",
   "execution_count": 53,
   "id": "846788f4-2bcd-4ec7-b62b-78afb8b4d91c",
   "metadata": {},
   "outputs": [
    {
     "name": "stdout",
     "output_type": "stream",
     "text": [
      "LL len 3\n",
      "[0.16666666666666666, 0.0, 0.6333333333333333, 0.019666666666666666, 0.0016666666666666668, -0.007333333333333333]\n"
     ]
    }
   ],
   "source": [
    "a=[0.2, -0.1, 0.1, 0.013, 0.001, -0.007]\n",
    "b=[0.2, 0.0, 0.5, 0.033, 0.006, -0.008]\n",
    "c=[0.1, 0.1, 1.3, 0.013, -0.002, -0.007]\n",
    "d=[0.1, 0.1, 1.2, 0.017, -0.001, -0.008]\n",
    "e=[0.0, 0.1, 0.4, 0.026, -0.001, -0.00899]\n",
    "\n",
    "LL=[]\n",
    "LL.append(a)\n",
    "LL.append(b)\n",
    "LL.append(c)\n",
    "L2=[0]*6\n",
    "print(\"LL len\",len(LL))\n",
    "for i in range(len(a)): \n",
    "    #print(\"i:\",i)\n",
    "    L2[i]=0\n",
    "    for j in range(len(LL)):  \n",
    "        L2[i]+=LL[j][i]    \n",
    "    L2[i]=L2[i]/(len(LL))\n"
   ]
  },
  {
   "cell_type": "code",
   "execution_count": null,
   "id": "af326199-b7dd-4e9a-b9a2-e4d2b05537f5",
   "metadata": {},
   "outputs": [],
   "source": []
  }
 ],
 "metadata": {
  "kernelspec": {
   "display_name": "Python 3 (ipykernel)",
   "language": "python",
   "name": "python3"
  },
  "language_info": {
   "codemirror_mode": {
    "name": "ipython",
    "version": 3
   },
   "file_extension": ".py",
   "mimetype": "text/x-python",
   "name": "python",
   "nbconvert_exporter": "python",
   "pygments_lexer": "ipython3",
   "version": "3.7.11"
  }
 },
 "nbformat": 4,
 "nbformat_minor": 5
}
