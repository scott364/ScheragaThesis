{
 "cells": [
  {
   "cell_type": "code",
   "execution_count": null,
   "id": "0caf341b-d6f9-4d8e-8fd0-5bf38bfb5df5",
   "metadata": {},
   "outputs": [],
   "source": [
    "%run -i '2WayComms_and_RC-V2_dummypolicy.py'"
   ]
  },
  {
   "cell_type": "markdown",
   "id": "d81a587b-cdf9-4da9-86b5-889c40f7b50d",
   "metadata": {},
   "source": [
    "## test client"
   ]
  },
  {
   "cell_type": "code",
   "execution_count": 1,
   "id": "52ae6a18-5035-48d3-973a-06dc025bbbf1",
   "metadata": {},
   "outputs": [
    {
     "name": "stdout",
     "output_type": "stream",
     "text": [
      "connecting to 192.168.0.103 port 65491\n",
      "received b'start'\n",
      "starting rl policy\n",
      "Connected to http://192.168.0.103:10000\n",
      "connecting to 192.168.0.103 port 65481\n",
      "Bias wrist force\n"
     ]
    },
    {
     "name": "stdin",
     "output_type": "stream",
     "text": [
      " obs\n"
     ]
    },
    {
     "name": "stdout",
     "output_type": "stream",
     "text": [
      "currentpose: x -7.45438148509264 y -19.4644223495692 z 2.621970726650208\n",
      "roll 179.33114883514205 pitch 2.0426941500601514 yaw -179.60588153780492\n",
      "Forces and Torques:\n",
      "[-0.04, 0.02, 0.08000000000000002, 0.0058000000000000005, 0.0022, 0]\n",
      " \n",
      "Reward\n",
      "currentreward (XY dist to initial point, no bonus: -0.071256048611804\n",
      "InitialZ: 2.72 currentZ: 2.621970726650208\n"
     ]
    },
    {
     "name": "stdin",
     "output_type": "stream",
     "text": [
      " h\n",
      " h\n",
      " h\n",
      " obs\n"
     ]
    },
    {
     "name": "stdout",
     "output_type": "stream",
     "text": [
      "currentpose: x -7.306548393042386 y -19.462207120630147 z 2.3192238471895457\n",
      "roll 179.31665824973268 pitch 2.040405775397831 yaw -179.6191669790263\n",
      "Forces and Torques:\n",
      "[-0.02, -0.02, 0.039999999999999994, 0.0004, -0.00019999999999999982, 0]\n",
      " \n",
      "Reward\n",
      "currentreward (XY dist to initial point, no bonus: -0.20691037562526757\n",
      "InitialZ: 2.72 currentZ: 2.3192238471895457\n",
      "closing DC socket in .py file\n"
     ]
    },
    {
     "ename": "KeyboardInterrupt",
     "evalue": "Interrupted by user",
     "output_type": "error",
     "traceback": [
      "\u001b[0;31m---------------------------------------------------------------------------\u001b[0m",
      "\u001b[0;31mKeyboardInterrupt\u001b[0m                         Traceback (most recent call last)",
      "\u001b[0;32m~/ScheragaThesis/UR5_testbed/2WayComms_and_RC-V3_dummypolicy.py\u001b[0m in \u001b[0;36m<module>\u001b[0;34m\u001b[0m\n\u001b[1;32m     48\u001b[0m         \u001b[0;31m#while True:\u001b[0m\u001b[0;34m\u001b[0m\u001b[0;34m\u001b[0m\u001b[0;34m\u001b[0m\u001b[0m\n\u001b[1;32m     49\u001b[0m             \u001b[0;31m#while inputstring!='end':\u001b[0m\u001b[0;34m\u001b[0m\u001b[0;34m\u001b[0m\u001b[0;34m\u001b[0m\u001b[0m\n\u001b[0;32m---> 50\u001b[0;31m         \u001b[0minputstring\u001b[0m\u001b[0;34m=\u001b[0m\u001b[0minput\u001b[0m\u001b[0;34m(\u001b[0m\u001b[0;34m\"\"\u001b[0m\u001b[0;34m)\u001b[0m \u001b[0;31m#Press Enter to continue...\u001b[0m\u001b[0;34m\u001b[0m\u001b[0;34m\u001b[0m\u001b[0m\n\u001b[0m\u001b[1;32m     51\u001b[0m         if (inputstring=='h' or inputstring=='j' or inputstring=='k' or inputstring=='l' or \n\u001b[1;32m     52\u001b[0m             \u001b[0minputstring\u001b[0m\u001b[0;34m==\u001b[0m\u001b[0;34m'u'\u001b[0m \u001b[0;32mor\u001b[0m \u001b[0minputstring\u001b[0m\u001b[0;34m==\u001b[0m\u001b[0;34m'o'\u001b[0m\u001b[0;32mor\u001b[0m \u001b[0minputstring\u001b[0m\u001b[0;34m==\u001b[0m\u001b[0;34m'y'\u001b[0m \u001b[0;32mor\u001b[0m \u001b[0minputstring\u001b[0m\u001b[0;34m==\u001b[0m\u001b[0;34m'i'\u001b[0m \u001b[0;32mor\u001b[0m\u001b[0;34m\u001b[0m\u001b[0;34m\u001b[0m\u001b[0m\n",
      "\u001b[0;32m~/anaconda3/envs/thesis/lib/python3.6/site-packages/ipykernel/kernelbase.py\u001b[0m in \u001b[0;36mraw_input\u001b[0;34m(self, prompt)\u001b[0m\n\u001b[1;32m    861\u001b[0m             \u001b[0mself\u001b[0m\u001b[0;34m.\u001b[0m\u001b[0m_parent_ident\u001b[0m\u001b[0;34m,\u001b[0m\u001b[0;34m\u001b[0m\u001b[0;34m\u001b[0m\u001b[0m\n\u001b[1;32m    862\u001b[0m             \u001b[0mself\u001b[0m\u001b[0;34m.\u001b[0m\u001b[0m_parent_header\u001b[0m\u001b[0;34m,\u001b[0m\u001b[0;34m\u001b[0m\u001b[0;34m\u001b[0m\u001b[0m\n\u001b[0;32m--> 863\u001b[0;31m             \u001b[0mpassword\u001b[0m\u001b[0;34m=\u001b[0m\u001b[0;32mFalse\u001b[0m\u001b[0;34m,\u001b[0m\u001b[0;34m\u001b[0m\u001b[0;34m\u001b[0m\u001b[0m\n\u001b[0m\u001b[1;32m    864\u001b[0m         )\n\u001b[1;32m    865\u001b[0m \u001b[0;34m\u001b[0m\u001b[0m\n",
      "\u001b[0;32m~/anaconda3/envs/thesis/lib/python3.6/site-packages/ipykernel/kernelbase.py\u001b[0m in \u001b[0;36m_input_request\u001b[0;34m(self, prompt, ident, parent, password)\u001b[0m\n\u001b[1;32m    902\u001b[0m             \u001b[0;32mexcept\u001b[0m \u001b[0mKeyboardInterrupt\u001b[0m\u001b[0;34m:\u001b[0m\u001b[0;34m\u001b[0m\u001b[0;34m\u001b[0m\u001b[0m\n\u001b[1;32m    903\u001b[0m                 \u001b[0;31m# re-raise KeyboardInterrupt, to truncate traceback\u001b[0m\u001b[0;34m\u001b[0m\u001b[0;34m\u001b[0m\u001b[0;34m\u001b[0m\u001b[0m\n\u001b[0;32m--> 904\u001b[0;31m                 \u001b[0;32mraise\u001b[0m \u001b[0mKeyboardInterrupt\u001b[0m\u001b[0;34m(\u001b[0m\u001b[0;34m\"Interrupted by user\"\u001b[0m\u001b[0;34m)\u001b[0m \u001b[0;32mfrom\u001b[0m \u001b[0;32mNone\u001b[0m\u001b[0;34m\u001b[0m\u001b[0;34m\u001b[0m\u001b[0m\n\u001b[0m\u001b[1;32m    905\u001b[0m             \u001b[0;32mexcept\u001b[0m \u001b[0mException\u001b[0m \u001b[0;32mas\u001b[0m \u001b[0me\u001b[0m\u001b[0;34m:\u001b[0m\u001b[0;34m\u001b[0m\u001b[0;34m\u001b[0m\u001b[0m\n\u001b[1;32m    906\u001b[0m                 \u001b[0mself\u001b[0m\u001b[0;34m.\u001b[0m\u001b[0mlog\u001b[0m\u001b[0;34m.\u001b[0m\u001b[0mwarning\u001b[0m\u001b[0;34m(\u001b[0m\u001b[0;34m\"Invalid Message:\"\u001b[0m\u001b[0;34m,\u001b[0m \u001b[0mexc_info\u001b[0m\u001b[0;34m=\u001b[0m\u001b[0;32mTrue\u001b[0m\u001b[0;34m)\u001b[0m\u001b[0;34m\u001b[0m\u001b[0;34m\u001b[0m\u001b[0m\n",
      "\u001b[0;31mKeyboardInterrupt\u001b[0m: Interrupted by user"
     ]
    },
    {
     "name": "stdout",
     "output_type": "stream",
     "text": [
      "Error. closing SnS socket\n"
     ]
    }
   ],
   "source": [
    "import socket\n",
    "import numpy as np\n",
    "from time import sleep\n",
    "\n",
    "HOST_SnS = '192.168.0.103'\n",
    "PORT_SnS= 65491\n",
    "# Create a TCP/IP socket\n",
    "sock_SnS = socket.socket(socket.AF_INET, socket.SOCK_STREAM)\n",
    "\n",
    "# Connect the socket to the port where the server is listening\n",
    "server_address_SnS = (HOST_SnS, PORT_SnS)\n",
    "print('connecting to {} port {}'.format(*server_address_SnS))\n",
    "sock_SnS.connect(server_address_SnS)\n",
    "\n",
    "\n",
    "try:\n",
    "     #while True:\n",
    "        \"\"\"Restart\n",
    "        data = sock.recv(16)\n",
    "            #amount_received += len(data)\n",
    "        print('received {!r}'.format(data))\n",
    "        \"\"\"\n",
    "\n",
    "        data = sock_SnS.recv(64)  #48 bytes\n",
    "        #print(data)\n",
    "        #value = struct.unpack('f',data)\n",
    "        #unpacked = struct.unpack('f', data)\n",
    "        print('received {!r}'.format(data))\n",
    "        if data==b'start':\n",
    "            \n",
    "            print(\"starting rl policy\")\n",
    "            %run -i '2WayComms_and_RC-V3_dummypolicy.py'\n",
    "\n",
    "            endmsg='end'\n",
    "            data1=endmsg.encode('ascii')    \n",
    "            sock_SnS.sendall(data1)\n",
    "        #if (inputstring==b'end'):\n",
    "        #   break    \n",
    "        \"\"\"\"\"\"\n",
    "finally:       \n",
    "    print('Error. closing SnS socket')\n",
    "    sock_SnS.close()\n",
    "\n",
    "    \n"
   ]
  },
  {
   "cell_type": "code",
   "execution_count": null,
   "id": "115a268b-3fa9-41ca-8934-972b3219e531",
   "metadata": {},
   "outputs": [],
   "source": []
  },
  {
   "cell_type": "code",
   "execution_count": 53,
   "id": "846788f4-2bcd-4ec7-b62b-78afb8b4d91c",
   "metadata": {},
   "outputs": [
    {
     "name": "stdout",
     "output_type": "stream",
     "text": [
      "LL len 3\n",
      "[0.16666666666666666, 0.0, 0.6333333333333333, 0.019666666666666666, 0.0016666666666666668, -0.007333333333333333]\n"
     ]
    }
   ],
   "source": [
    "a=[0.2, -0.1, 0.1, 0.013, 0.001, -0.007]\n",
    "b=[0.2, 0.0, 0.5, 0.033, 0.006, -0.008]\n",
    "c=[0.1, 0.1, 1.3, 0.013, -0.002, -0.007]\n",
    "d=[0.1, 0.1, 1.2, 0.017, -0.001, -0.008]\n",
    "e=[0.0, 0.1, 0.4, 0.026, -0.001, -0.00899]\n",
    "\n",
    "LL=[]\n",
    "LL.append(a)\n",
    "LL.append(b)\n",
    "LL.append(c)\n",
    "L2=[0]*6\n",
    "print(\"LL len\",len(LL))\n",
    "for i in range(len(a)): \n",
    "    #print(\"i:\",i)\n",
    "    L2[i]=0\n",
    "    for j in range(len(LL)):  \n",
    "        L2[i]+=LL[j][i]    \n",
    "    L2[i]=L2[i]/(len(LL))\n"
   ]
  },
  {
   "cell_type": "code",
   "execution_count": null,
   "id": "af326199-b7dd-4e9a-b9a2-e4d2b05537f5",
   "metadata": {},
   "outputs": [],
   "source": []
  }
 ],
 "metadata": {
  "kernelspec": {
   "display_name": "Python 3",
   "language": "python",
   "name": "python3"
  },
  "language_info": {
   "codemirror_mode": {
    "name": "ipython",
    "version": 3
   },
   "file_extension": ".py",
   "mimetype": "text/x-python",
   "name": "python",
   "nbconvert_exporter": "python",
   "pygments_lexer": "ipython3",
   "version": "3.6.9"
  }
 },
 "nbformat": 4,
 "nbformat_minor": 5
}
