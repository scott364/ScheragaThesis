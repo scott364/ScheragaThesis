{
 "cells": [
  {
   "cell_type": "code",
   "execution_count": null,
   "id": "0caf341b-d6f9-4d8e-8fd0-5bf38bfb5df5",
   "metadata": {},
   "outputs": [],
   "source": [
    "%run -i '2WayComms_and_RC-V2_dummypolicy.py'"
   ]
  },
  {
   "cell_type": "markdown",
   "id": "d81a587b-cdf9-4da9-86b5-889c40f7b50d",
   "metadata": {},
   "source": [
    "## test client"
   ]
  },
  {
   "cell_type": "code",
   "execution_count": 1,
   "id": "52ae6a18-5035-48d3-973a-06dc025bbbf1",
   "metadata": {},
   "outputs": [
    {
     "name": "stdout",
     "output_type": "stream",
     "text": [
      "connecting to 192.168.0.103 port 65499\n",
      "received b'start'\n",
      "starting rl policy\n",
      "Connected to http://192.168.0.103:10000\n",
      "connecting to 192.168.0.103 port 65489\n",
      "Bias wrist force\n"
     ]
    },
    {
     "name": "stdin",
     "output_type": "stream",
     "text": [
      " obs\n"
     ]
    },
    {
     "name": "stdout",
     "output_type": "stream",
     "text": [
      "currentpose: x -7.505693720038235 y -19.46209330855012 z 2.722825536029041\n",
      "roll 179.327324953461 pitch 2.0411735875058215 yaw -179.60498736766607\n",
      "Forces and Torques:\n",
      "[-0.1, 0.02, 0.24000000000000005, -0.0007999999999999998, 0.0028000000000000004, 0]\n",
      " \n",
      "Reward\n",
      "currentreward (XY dist to initial point, no bonus: -0.05000915423449021\n"
     ]
    },
    {
     "name": "stdin",
     "output_type": "stream",
     "text": [
      " l\n",
      " l\n",
      " obs\n"
     ]
    },
    {
     "name": "stdout",
     "output_type": "stream",
     "text": [
      "currentpose: x -7.50633024636209 y -19.463474306675792 z 2.5244592937871815\n",
      "roll 179.33149670527487 pitch 2.0396628190266584 yaw -179.60457233514316\n",
      "Forces and Torques:\n",
      "[-0.06000000000000001, -0.02, 0.08000000000000002, -0.0054, -0.002, 0]\n",
      " \n",
      "Reward\n",
      "currentreward (XY dist to initial point, no bonus: -0.04861130194476784\n"
     ]
    },
    {
     "name": "stdin",
     "output_type": "stream",
     "text": [
      " l\n",
      " l\n",
      " l\n",
      " l\n",
      " o\n",
      " h\n",
      " h\n",
      " l\n",
      " l\n",
      " obs\n"
     ]
    },
    {
     "name": "stdout",
     "output_type": "stream",
     "text": [
      "currentpose: x -7.443351686553657 y -19.46753868858516 z 1.903724836030975\n",
      "roll 179.3533026713286 pitch 2.0272261572104533 yaw -179.58766206816793\n",
      "Forces and Torques:\n",
      "[-2.2199999999999998, -0.36, 0.7, 0.014000000000000002, -0.4022, 0]\n",
      " \n",
      "Reward\n",
      "currentreward (XY dist to initial point, no bonus: -0.07797734147821156\n"
     ]
    },
    {
     "name": "stdin",
     "output_type": "stream",
     "text": [
      " l\n",
      " obs\n"
     ]
    },
    {
     "name": "stdout",
     "output_type": "stream",
     "text": [
      "currentpose: x -7.44471039159149 y -19.466845256221294 z 1.8044999153703452\n",
      "roll 179.35478520005228 pitch 2.0284815100719022 yaw -179.59096736920932\n",
      "Forces and Torques:\n",
      "[-2.6799999999999997, -0.3, 0.3, 0.0132, -0.48200000000000004, 0]\n",
      " \n",
      "Reward\n",
      "currentreward (XY dist to initial point, no bonus: -0.07726980324001365\n"
     ]
    },
    {
     "name": "stdin",
     "output_type": "stream",
     "text": [
      " l\n",
      " obs\n"
     ]
    },
    {
     "name": "stdout",
     "output_type": "stream",
     "text": [
      "currentpose: x -7.444093225054443 y -19.466684511324765 z 1.7034092685885727\n",
      "roll 179.35128599184247 pitch 2.0299722006182876 yaw -179.5896573035757\n",
      "Forces and Torques:\n",
      "[-3.18, -0.24000000000000005, 1.4, 0.0126, -0.5735999999999999, 0]\n",
      " \n",
      "Reward\n",
      "currentreward (XY dist to initial point, no bonus: -0.07786462599684589\n",
      "success condition achieved  InitialZ: 2.72 currentZ: 1.7034092685885727\n",
      "abs z dist= 1.0165907314114275\n",
      "bonusreward=1-(self._envStepCounter/self.StepsPerEpisode)\n"
     ]
    },
    {
     "name": "stdin",
     "output_type": "stream",
     "text": [
      " return\n",
      " end\n"
     ]
    },
    {
     "name": "stdout",
     "output_type": "stream",
     "text": [
      "end episode\n",
      "closing DC socket in .py file\n",
      "Error. closing SnS socket\n"
     ]
    }
   ],
   "source": [
    "import socket\n",
    "import numpy as np\n",
    "from time import sleep\n",
    "\n",
    "HOST_SnS = '192.168.0.103'\n",
    "PORT_SnS= 65499\n",
    "# Create a TCP/IP socket\n",
    "sock_SnS = socket.socket(socket.AF_INET, socket.SOCK_STREAM)\n",
    "\n",
    "# Connect the socket to the port where the server is listening\n",
    "server_address_SnS = (HOST_SnS, PORT_SnS)\n",
    "print('connecting to {} port {}'.format(*server_address_SnS))\n",
    "sock_SnS.connect(server_address_SnS)\n",
    "\n",
    "\n",
    "try:\n",
    "     #while True:\n",
    "        \"\"\"Restart\n",
    "        data = sock.recv(16)\n",
    "            #amount_received += len(data)\n",
    "        print('received {!r}'.format(data))\n",
    "        \"\"\"\n",
    "\n",
    "        data = sock_SnS.recv(64)  #48 bytes\n",
    "        #print(data)\n",
    "        #value = struct.unpack('f',data)\n",
    "        #unpacked = struct.unpack('f', data)\n",
    "        print('received {!r}'.format(data))\n",
    "        if data==b'start':\n",
    "            \n",
    "            print(\"starting rl policy\")\n",
    "            %run -i '2WayComms_and_RC-V3_dummypolicy.py'\n",
    "\n",
    "            endmsg='end'\n",
    "            data1=endmsg.encode('ascii')    \n",
    "            sock_SnS.sendall(data1)\n",
    "        #if (inputstring==b'end'):\n",
    "        #   break    \n",
    "        \"\"\"\"\"\"\n",
    "finally:       \n",
    "    print('Error. closing SnS socket')\n",
    "    sock_SnS.close()\n",
    "\n",
    "    \n"
   ]
  },
  {
   "cell_type": "code",
   "execution_count": null,
   "id": "115a268b-3fa9-41ca-8934-972b3219e531",
   "metadata": {},
   "outputs": [],
   "source": []
  },
  {
   "cell_type": "code",
   "execution_count": 53,
   "id": "846788f4-2bcd-4ec7-b62b-78afb8b4d91c",
   "metadata": {},
   "outputs": [
    {
     "name": "stdout",
     "output_type": "stream",
     "text": [
      "LL len 3\n",
      "[0.16666666666666666, 0.0, 0.6333333333333333, 0.019666666666666666, 0.0016666666666666668, -0.007333333333333333]\n"
     ]
    }
   ],
   "source": [
    "a=[0.2, -0.1, 0.1, 0.013, 0.001, -0.007]\n",
    "b=[0.2, 0.0, 0.5, 0.033, 0.006, -0.008]\n",
    "c=[0.1, 0.1, 1.3, 0.013, -0.002, -0.007]\n",
    "d=[0.1, 0.1, 1.2, 0.017, -0.001, -0.008]\n",
    "e=[0.0, 0.1, 0.4, 0.026, -0.001, -0.00899]\n",
    "\n",
    "LL=[]\n",
    "LL.append(a)\n",
    "LL.append(b)\n",
    "LL.append(c)\n",
    "L2=[0]*6\n",
    "print(\"LL len\",len(LL))\n",
    "for i in range(len(a)): \n",
    "    #print(\"i:\",i)\n",
    "    L2[i]=0\n",
    "    for j in range(len(LL)):  \n",
    "        L2[i]+=LL[j][i]    \n",
    "    L2[i]=L2[i]/(len(LL))\n"
   ]
  },
  {
   "cell_type": "code",
   "execution_count": null,
   "id": "af326199-b7dd-4e9a-b9a2-e4d2b05537f5",
   "metadata": {},
   "outputs": [],
   "source": []
  }
 ],
 "metadata": {
  "kernelspec": {
   "display_name": "Python 3",
   "language": "python",
   "name": "python3"
  },
  "language_info": {
   "codemirror_mode": {
    "name": "ipython",
    "version": 3
   },
   "file_extension": ".py",
   "mimetype": "text/x-python",
   "name": "python",
   "nbconvert_exporter": "python",
   "pygments_lexer": "ipython3",
   "version": "3.6.9"
  }
 },
 "nbformat": 4,
 "nbformat_minor": 5
}
