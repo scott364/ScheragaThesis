{
 "cells": [
  {
   "cell_type": "code",
   "execution_count": null,
   "id": "0caf341b-d6f9-4d8e-8fd0-5bf38bfb5df5",
   "metadata": {},
   "outputs": [],
   "source": [
    "%run -i '2WayComms_and_RC-V2_dummypolicy.py'"
   ]
  },
  {
   "cell_type": "markdown",
   "id": "d81a587b-cdf9-4da9-86b5-889c40f7b50d",
   "metadata": {},
   "source": [
    "## test client"
   ]
  },
  {
   "cell_type": "code",
   "execution_count": 1,
   "id": "52ae6a18-5035-48d3-973a-06dc025bbbf1",
   "metadata": {},
   "outputs": [
    {
     "name": "stdout",
     "output_type": "stream",
     "text": [
      "connecting to 192.168.0.103 port 65491\n",
      "received b'start'\n",
      "starting rl policy\n",
      "Connected to http://192.168.0.103:10000\n",
      "connecting to 192.168.0.103 port 65481\n",
      "Bias wrist force\n"
     ]
    },
    {
     "name": "stdin",
     "output_type": "stream",
     "text": [
      " obs\n"
     ]
    },
    {
     "name": "stdout",
     "output_type": "stream",
     "text": [
      "currentpose: x -7.453819464614988 y -19.46447045570612 z 2.6214251326583327\n",
      "roll 179.32895461323278 pitch 2.042393763794568 yaw -179.60458512859825\n",
      "Forces and Torques:\n",
      "[-0.02, -0.02, -0.54, -0.015, 0.0102, 0]\n",
      " \n",
      "Reward\n",
      "currentreward (XY dist to initial point, no bonus: -0.07164291615706916\n",
      "InitialZ: 2.72 currentZ: 2.6214251326583327\n"
     ]
    },
    {
     "name": "stdin",
     "output_type": "stream",
     "text": [
      " l\n",
      " l\n",
      " l\n",
      " l\n",
      " l\n",
      " l\n",
      " l\n",
      " l\n",
      " k\n",
      " k\n",
      " k\n",
      " obs\n"
     ]
    },
    {
     "name": "stdout",
     "output_type": "stream",
     "text": [
      "currentpose: x -7.512247887863219 y -19.46751170221567 z 2.099332455317676\n",
      "roll 179.33499151980098 pitch 2.051733933314823 yaw -179.5886388536193\n",
      "Forces and Torques:\n",
      "[-3.4200000000000004, 0.36, -13.5, -0.11059999999999999, -0.5757999999999999, 0]\n",
      " \n",
      "Reward\n",
      "currentreward (XY dist to initial point, no bonus: -0.04483031711510442\n",
      "InitialZ: 2.72 currentZ: 2.099332455317676\n"
     ]
    },
    {
     "name": "stdin",
     "output_type": "stream",
     "text": [
      " o\n",
      " obs\n"
     ]
    },
    {
     "name": "stdout",
     "output_type": "stream",
     "text": [
      "currentpose: x -7.517335405172408 y -19.461442115721105 z 2.1216566361486913\n",
      "roll 179.2999525219221 pitch 2.0374674862026514 yaw -179.59224435635872\n",
      "Forces and Torques:\n",
      "[-0.38, 0.2, -3.9199999999999995, -0.046200000000000005, -0.0322, 0]\n",
      " \n",
      "Reward\n",
      "currentreward (XY dist to initial point, no bonus: -0.05160597784084025\n",
      "InitialZ: 2.72 currentZ: 2.1216566361486913\n"
     ]
    },
    {
     "name": "stdin",
     "output_type": "stream",
     "text": [
      " o\n",
      " obs\n"
     ]
    },
    {
     "name": "stdout",
     "output_type": "stream",
     "text": [
      "currentpose: x -7.51683791731745 y -19.460180796277523 z 2.1699142780650407\n",
      "roll 179.29389451180668 pitch 2.039994554358279 yaw -179.59289826836587\n",
      "Forces and Torques:\n",
      "[0.02, 0.0, 0.28, -0.013000000000000001, 0.004598, 0]\n",
      " \n",
      "Reward\n",
      "currentreward (XY dist to initial point, no bonus: -0.052752416082801845\n",
      "InitialZ: 2.72 currentZ: 2.1699142780650407\n"
     ]
    },
    {
     "name": "stdin",
     "output_type": "stream",
     "text": [
      " bias\n"
     ]
    },
    {
     "name": "stdout",
     "output_type": "stream",
     "text": [
      "biased wrist force \n"
     ]
    },
    {
     "name": "stdin",
     "output_type": "stream",
     "text": [
      " obs\n"
     ]
    },
    {
     "name": "stdout",
     "output_type": "stream",
     "text": [
      "currentpose: x -7.5166472527503965 y -19.459976638525724 z 2.17160884607099\n",
      "roll 179.29567283683647 pitch 2.038266843122517 yaw -179.59077628446985\n",
      "Forces and Torques:\n",
      "[-0.06000000000000001, 0.0, -0.5, -0.0108, 0.016196, 0]\n",
      " \n",
      "Reward\n",
      "currentreward (XY dist to initial point, no bonus: -0.0529194685703169\n",
      "InitialZ: 2.72 currentZ: 2.17160884607099\n"
     ]
    },
    {
     "name": "stdin",
     "output_type": "stream",
     "text": [
      " o\n",
      " h\n",
      " h\n",
      " h\n",
      " o\n",
      " o\n",
      " o\n",
      " o\n",
      " h\n",
      " h\n",
      " h\n",
      " h\n",
      " obs\n"
     ]
    },
    {
     "name": "stdout",
     "output_type": "stream",
     "text": [
      "currentpose: x -7.350999050214887 y -19.473111960545182 z 2.090882201705873\n",
      "roll 179.3501234284346 pitch 2.0067046486076383 yaw -179.58906214189014\n",
      "Forces and Torques:\n",
      "[1.3, 1.8200000000000003, -12.0, -0.262, 0.22999999999999998, 0]\n",
      " \n",
      "Reward\n",
      "currentreward (XY dist to initial point, no bonus: -0.1611418836112392\n",
      "InitialZ: 2.72 currentZ: 2.090882201705873\n"
     ]
    },
    {
     "name": "stdin",
     "output_type": "stream",
     "text": [
      " o\n",
      " o\n",
      " o\n",
      " h\n",
      " h\n",
      " h\n",
      " h\n",
      " obs\n"
     ]
    },
    {
     "name": "stdout",
     "output_type": "stream",
     "text": [
      "currentpose: x -7.2751908183544876 y -19.478792004662754 z 2.0639056587737055\n",
      "roll 179.3843352229042 pitch 1.9792729564655773 yaw -179.58011441757725\n",
      "Forces and Torques:\n",
      "[1.9599999999999997, 1.94, -13.9, -0.300994, 0.34800000000000003, 0]\n",
      " \n",
      "Reward\n",
      "currentreward (XY dist to initial point, no bonus: -0.23454224723913414\n",
      "InitialZ: 2.72 currentZ: 2.0639056587737055\n"
     ]
    },
    {
     "name": "stdin",
     "output_type": "stream",
     "text": [
      " l\n",
      " obs\n"
     ]
    },
    {
     "name": "stdout",
     "output_type": "stream",
     "text": [
      "currentpose: x -7.276614056015015 y -19.488945919513704 z 2.0492082072898747\n",
      "roll 179.4422041151639 pitch 1.9709097210785753 yaw -179.5842743119278\n",
      "Forces and Torques:\n",
      "[1.72, 2.9000000000000004, -19.5, -0.4574, 0.2804, 0]\n",
      " \n",
      "Reward\n",
      "currentreward (XY dist to initial point, no bonus: -0.23190177061755704\n",
      "InitialZ: 2.72 currentZ: 2.0492082072898747\n"
     ]
    },
    {
     "name": "stdin",
     "output_type": "stream",
     "text": [
      " l\n",
      " obs\n"
     ]
    },
    {
     "name": "stdout",
     "output_type": "stream",
     "text": [
      "currentpose: x -7.2774001806914805 y -19.488368645870686 z 2.0382994074184446\n",
      "roll 179.43993360542873 pitch 1.9727673352224273 yaw -179.58484472281313\n",
      "Forces and Torques:\n",
      "[1.5, 2.62, -18.82, -0.40659999999999996, 0.271796, 0]\n",
      " \n",
      "Reward\n",
      "currentreward (XY dist to initial point, no bonus: -0.23117806179650363\n",
      "InitialZ: 2.72 currentZ: 2.0382994074184446\n"
     ]
    },
    {
     "name": "stdin",
     "output_type": "stream",
     "text": [
      " o\n",
      " o\n",
      " o\n",
      " o\n",
      " o\n",
      " o\n",
      " k\n",
      " k\n",
      " k\n",
      " u\n",
      " u\n",
      " u\n",
      " bos\n",
      " obs\n"
     ]
    },
    {
     "name": "stdout",
     "output_type": "stream",
     "text": [
      "currentpose: x -7.362740467584134 y -19.578336508470773 z 2.0457954582046716\n",
      "roll 179.52543200215143 pitch 1.945484264782741 yaw -179.5861145270937\n",
      "Forces and Torques:\n",
      "[-1.5, 4.319999999999999, -17.840000000000003, -0.74, -0.250998, 0]\n",
      " \n",
      "Reward\n",
      "currentreward (XY dist to initial point, no bonus: -0.15907642670896663\n",
      "InitialZ: 2.72 currentZ: 2.0457954582046716\n"
     ]
    },
    {
     "name": "stdin",
     "output_type": "stream",
     "text": [
      " u\n",
      " obs\n"
     ]
    },
    {
     "name": "stdout",
     "output_type": "stream",
     "text": [
      "currentpose: x -7.364432395619154 y -19.597806587398054 z 2.0186586103711277\n",
      "roll 179.54549020689922 pitch 1.9445815599818699 yaw -179.58825281453582\n",
      "Forces and Torques:\n",
      "[-1.86, 4.4, -14.38, -0.7784000000000001, -0.32059800000000005, 0]\n",
      " \n",
      "Reward\n",
      "currentreward (XY dist to initial point, no bonus: -0.16666772578188627\n",
      "InitialZ: 2.72 currentZ: 2.0186586103711277\n"
     ]
    },
    {
     "name": "stdin",
     "output_type": "stream",
     "text": [
      " o\n",
      " o\n",
      " o\n",
      " o\n",
      " o\n",
      " o\n",
      " o\n",
      " j\n",
      " j\n",
      " j\n",
      " j\n",
      " o\n",
      " o\n",
      " o\n",
      " o\n",
      " o\n",
      " o\n",
      " k\n",
      " k\n",
      " k\n",
      " k\n",
      " k\n",
      " k\n",
      " k\n",
      " obs\n"
     ]
    },
    {
     "name": "stdout",
     "output_type": "stream",
     "text": [
      "currentpose: x -7.5544005970075725 y -19.484547141286733 z 2.0831718732792885\n",
      "roll 179.4724526037083 pitch 1.9328444579229869 yaw -179.59517158354097\n",
      "Forces and Torques:\n",
      "[-0.06000000000000001, 0.1, 0.6399999999999999, -0.013398000000000002, 0.005399999999999999, 0]\n",
      " \n",
      "Reward\n",
      "currentreward (XY dist to initial point, no bonus: -0.054503446164308814\n",
      "InitialZ: 2.72 currentZ: 2.0831718732792885\n"
     ]
    },
    {
     "name": "stdin",
     "output_type": "stream",
     "text": [
      " k\n",
      " obs\n"
     ]
    },
    {
     "name": "stdout",
     "output_type": "stream",
     "text": [
      "currentpose: x -7.5799132760599255 y -19.486190963184836 z 2.0333796749282627\n",
      "roll 179.47479301276672 pitch 1.931515396579183 yaw -179.58857760232794\n",
      "Forces and Torques:\n",
      "[-2.18, 0.24, -12.079999999999998, -0.066598, -0.3442, 0]\n",
      " \n",
      "Reward\n",
      "currentreward (XY dist to initial point, no bonus: -0.07703252047567534\n",
      "InitialZ: 2.72 currentZ: 2.0333796749282627\n"
     ]
    },
    {
     "name": "stdin",
     "output_type": "stream",
     "text": [
      " k\n",
      " obs\n"
     ]
    },
    {
     "name": "stdout",
     "output_type": "stream",
     "text": [
      "currentpose: x -7.587004824633897 y -19.48651010633707 z 2.0161553312707694\n",
      "roll 179.47969059012576 pitch 1.9337945697775896 yaw -179.58325338991824\n",
      "Forces and Torques:\n",
      "[-3.3600000000000003, 0.2, -19.82, -0.08860000000000001, -0.5321960000000001, 0]\n",
      " \n",
      "Reward\n",
      "currentreward (XY dist to initial point, no bonus: -0.08364757142158243\n",
      "InitialZ: 2.72 currentZ: 2.0161553312707694\n"
     ]
    },
    {
     "name": "stdin",
     "output_type": "stream",
     "text": [
      " k\n",
      " obs\n"
     ]
    },
    {
     "name": "stdout",
     "output_type": "stream",
     "text": [
      "currentpose: x -7.591104406155646 y -19.492003592509032 z 2.0114379965517672\n",
      "roll 179.49941944385608 pitch 1.928735007186265 yaw -179.57958159975607\n",
      "Forces and Torques:\n",
      "[-3.96, 0.48, -20.3, -0.1472, -0.646998, 0]\n",
      " \n",
      "Reward\n",
      "currentreward (XY dist to initial point, no bonus: -0.08611647946856378\n",
      "InitialZ: 2.72 currentZ: 2.0114379965517672\n"
     ]
    },
    {
     "name": "stdin",
     "output_type": "stream",
     "text": [
      " o\n",
      " o\n",
      " o\n",
      " o\n",
      " o\n",
      " o\n",
      " o\n",
      " h\n",
      " h\n",
      " h\n",
      " h\n",
      " o\n",
      " o\n",
      " o\n",
      " o\n",
      " bias\n"
     ]
    },
    {
     "name": "stdout",
     "output_type": "stream",
     "text": [
      "biased wrist force \n"
     ]
    },
    {
     "name": "stdin",
     "output_type": "stream",
     "text": [
      " j\n",
      " j\n",
      " j\n",
      " j\n",
      " j\n",
      " j\n",
      " obs\n"
     ]
    },
    {
     "name": "stdout",
     "output_type": "stream",
     "text": [
      "currentpose: x -7.49947922847271 y -19.33077059468627 z 2.036029619080201\n",
      "roll 179.43116156280794 pitch 1.924507922125743 yaw -179.5965319622637\n",
      "Forces and Torques:\n",
      "[-0.6199999999999999, -0.38, -7.9799999999999995, 0.073, -0.0526, 0]\n",
      " \n",
      "Reward\n",
      "currentreward (XY dist to initial point, no bonus: -0.1814752926781707\n",
      "InitialZ: 2.72 currentZ: 2.036029619080201\n"
     ]
    },
    {
     "name": "stdin",
     "output_type": "stream",
     "text": [
      " j\n",
      " obs\n"
     ]
    },
    {
     "name": "stdout",
     "output_type": "stream",
     "text": [
      "currentpose: x -7.500265353149175 y -19.326401149469614 z 2.020452323951945\n",
      "roll 179.44804958026722 pitch 1.9228253914251092 yaw -179.59272571390574\n",
      "Forces and Torques:\n",
      "[-1.1400000000000001, -0.45999999999999996, -13.66, 0.08339999999999999, -0.1166, 0]\n",
      " \n",
      "Reward\n",
      "currentreward (XY dist to initial point, no bonus: -0.18580903863237855\n",
      "InitialZ: 2.72 currentZ: 2.020452323951945\n"
     ]
    },
    {
     "name": "stdin",
     "output_type": "stream",
     "text": [
      " j\n",
      " obs\n"
     ]
    },
    {
     "name": "stdout",
     "output_type": "stream",
     "text": [
      "currentpose: x -7.500978145299852 y -19.32406624184847 z 2.0079236085858194\n",
      "roll 179.47675837713817 pitch 1.9216355945622152 yaw -179.59335225315826\n",
      "Forces and Torques:\n",
      "[-1.6599999999999997, -0.68, -18.2, 0.0968, -0.20800000000000002, 0]\n",
      " \n",
      "Reward\n",
      "currentreward (XY dist to initial point, no bonus: -0.18811673643626536\n",
      "InitialZ: 2.72 currentZ: 2.0079236085858194\n"
     ]
    },
    {
     "name": "stdin",
     "output_type": "stream",
     "text": [
      " j\n",
      " obs\n"
     ]
    },
    {
     "name": "stdout",
     "output_type": "stream",
     "text": [
      "currentpose: x -7.501401127308608 y -19.320908836618067 z 1.9916801607932897\n",
      "roll 179.51174482524723 pitch 1.9157793946251307 yaw -179.5867382264714\n",
      "Forces and Torques:\n",
      "[-1.9400000000000002, -0.76, -16.959999999999997, 0.0998, -0.25319800000000003, 0]\n",
      " \n",
      "Reward\n",
      "currentreward (XY dist to initial point, no bonus: -0.19125870970147077\n",
      "InitialZ: 2.72 currentZ: 1.9916801607932897\n",
      "success condition achieved  InitialZ: 2.72 currentZ: 1.9916801607932897\n",
      "abs z dist= 0.7283198392067105\n",
      "bonusreward=1-(self._envStepCounter/self.StepsPerEpisode)\n"
     ]
    },
    {
     "name": "stdin",
     "output_type": "stream",
     "text": [
      " j\n",
      " obs\n"
     ]
    },
    {
     "name": "stdout",
     "output_type": "stream",
     "text": [
      "currentpose: x -7.503560036867857 y -19.319774235779047 z 1.9806915751338006\n",
      "roll 179.55214698922524 pitch 1.9053608705348077 yaw -179.58131103495072\n",
      "Forces and Torques:\n",
      "[-2.16, -0.9, -19.5, 0.12840000000000001, -0.2948, 0]\n",
      " \n",
      "Reward\n",
      "currentreward (XY dist to initial point, no bonus: -0.19233800640211043\n",
      "InitialZ: 2.72 currentZ: 1.9806915751338006\n",
      "success condition achieved  InitialZ: 2.72 currentZ: 1.9806915751338006\n",
      "abs z dist= 0.7393084248661996\n",
      "bonusreward=1-(self._envStepCounter/self.StepsPerEpisode)\n"
     ]
    },
    {
     "name": "stdin",
     "output_type": "stream",
     "text": [
      " return\n"
     ]
    },
    {
     "name": "stdout",
     "output_type": "stream",
     "text": [
      "closing DC socket in .py file\n"
     ]
    },
    {
     "ename": "KeyboardInterrupt",
     "evalue": "Interrupted by user",
     "output_type": "error",
     "traceback": [
      "\u001b[0;31m---------------------------------------------------------------------------\u001b[0m",
      "\u001b[0;31mKeyboardInterrupt\u001b[0m                         Traceback (most recent call last)",
      "\u001b[0;32m~/ScheragaThesis/UR5_testbed/2WayComms_and_RC-V3_dummypolicy.py\u001b[0m in \u001b[0;36m<module>\u001b[0;34m\u001b[0m\n\u001b[1;32m     48\u001b[0m         \u001b[0;31m#while True:\u001b[0m\u001b[0;34m\u001b[0m\u001b[0;34m\u001b[0m\u001b[0;34m\u001b[0m\u001b[0m\n\u001b[1;32m     49\u001b[0m             \u001b[0;31m#while inputstring!='end':\u001b[0m\u001b[0;34m\u001b[0m\u001b[0;34m\u001b[0m\u001b[0;34m\u001b[0m\u001b[0m\n\u001b[0;32m---> 50\u001b[0;31m         \u001b[0minputstring\u001b[0m\u001b[0;34m=\u001b[0m\u001b[0minput\u001b[0m\u001b[0;34m(\u001b[0m\u001b[0;34m\"\"\u001b[0m\u001b[0;34m)\u001b[0m \u001b[0;31m#Press Enter to continue...\u001b[0m\u001b[0;34m\u001b[0m\u001b[0;34m\u001b[0m\u001b[0m\n\u001b[0m\u001b[1;32m     51\u001b[0m         if (inputstring=='h' or inputstring=='j' or inputstring=='k' or inputstring=='l' or \n\u001b[1;32m     52\u001b[0m             \u001b[0minputstring\u001b[0m\u001b[0;34m==\u001b[0m\u001b[0;34m'u'\u001b[0m \u001b[0;32mor\u001b[0m \u001b[0minputstring\u001b[0m\u001b[0;34m==\u001b[0m\u001b[0;34m'o'\u001b[0m\u001b[0;32mor\u001b[0m \u001b[0minputstring\u001b[0m\u001b[0;34m==\u001b[0m\u001b[0;34m'y'\u001b[0m \u001b[0;32mor\u001b[0m \u001b[0minputstring\u001b[0m\u001b[0;34m==\u001b[0m\u001b[0;34m'i'\u001b[0m \u001b[0;32mor\u001b[0m\u001b[0;34m\u001b[0m\u001b[0;34m\u001b[0m\u001b[0m\n",
      "\u001b[0;32m~/anaconda3/envs/thesis/lib/python3.6/site-packages/ipykernel/kernelbase.py\u001b[0m in \u001b[0;36mraw_input\u001b[0;34m(self, prompt)\u001b[0m\n\u001b[1;32m    861\u001b[0m             \u001b[0mself\u001b[0m\u001b[0;34m.\u001b[0m\u001b[0m_parent_ident\u001b[0m\u001b[0;34m,\u001b[0m\u001b[0;34m\u001b[0m\u001b[0;34m\u001b[0m\u001b[0m\n\u001b[1;32m    862\u001b[0m             \u001b[0mself\u001b[0m\u001b[0;34m.\u001b[0m\u001b[0m_parent_header\u001b[0m\u001b[0;34m,\u001b[0m\u001b[0;34m\u001b[0m\u001b[0;34m\u001b[0m\u001b[0m\n\u001b[0;32m--> 863\u001b[0;31m             \u001b[0mpassword\u001b[0m\u001b[0;34m=\u001b[0m\u001b[0;32mFalse\u001b[0m\u001b[0;34m,\u001b[0m\u001b[0;34m\u001b[0m\u001b[0;34m\u001b[0m\u001b[0m\n\u001b[0m\u001b[1;32m    864\u001b[0m         )\n\u001b[1;32m    865\u001b[0m \u001b[0;34m\u001b[0m\u001b[0m\n",
      "\u001b[0;32m~/anaconda3/envs/thesis/lib/python3.6/site-packages/ipykernel/kernelbase.py\u001b[0m in \u001b[0;36m_input_request\u001b[0;34m(self, prompt, ident, parent, password)\u001b[0m\n\u001b[1;32m    902\u001b[0m             \u001b[0;32mexcept\u001b[0m \u001b[0mKeyboardInterrupt\u001b[0m\u001b[0;34m:\u001b[0m\u001b[0;34m\u001b[0m\u001b[0;34m\u001b[0m\u001b[0m\n\u001b[1;32m    903\u001b[0m                 \u001b[0;31m# re-raise KeyboardInterrupt, to truncate traceback\u001b[0m\u001b[0;34m\u001b[0m\u001b[0;34m\u001b[0m\u001b[0;34m\u001b[0m\u001b[0m\n\u001b[0;32m--> 904\u001b[0;31m                 \u001b[0;32mraise\u001b[0m \u001b[0mKeyboardInterrupt\u001b[0m\u001b[0;34m(\u001b[0m\u001b[0;34m\"Interrupted by user\"\u001b[0m\u001b[0;34m)\u001b[0m \u001b[0;32mfrom\u001b[0m \u001b[0;32mNone\u001b[0m\u001b[0;34m\u001b[0m\u001b[0;34m\u001b[0m\u001b[0m\n\u001b[0m\u001b[1;32m    905\u001b[0m             \u001b[0;32mexcept\u001b[0m \u001b[0mException\u001b[0m \u001b[0;32mas\u001b[0m \u001b[0me\u001b[0m\u001b[0;34m:\u001b[0m\u001b[0;34m\u001b[0m\u001b[0;34m\u001b[0m\u001b[0m\n\u001b[1;32m    906\u001b[0m                 \u001b[0mself\u001b[0m\u001b[0;34m.\u001b[0m\u001b[0mlog\u001b[0m\u001b[0;34m.\u001b[0m\u001b[0mwarning\u001b[0m\u001b[0;34m(\u001b[0m\u001b[0;34m\"Invalid Message:\"\u001b[0m\u001b[0;34m,\u001b[0m \u001b[0mexc_info\u001b[0m\u001b[0;34m=\u001b[0m\u001b[0;32mTrue\u001b[0m\u001b[0;34m)\u001b[0m\u001b[0;34m\u001b[0m\u001b[0;34m\u001b[0m\u001b[0m\n",
      "\u001b[0;31mKeyboardInterrupt\u001b[0m: Interrupted by user"
     ]
    },
    {
     "name": "stdout",
     "output_type": "stream",
     "text": [
      "Error. closing SnS socket\n"
     ]
    }
   ],
   "source": [
    "import socket\n",
    "import numpy as np\n",
    "from time import sleep\n",
    "\n",
    "HOST_SnS = '192.168.0.103'\n",
    "PORT_SnS= 65491\n",
    "# Create a TCP/IP socket\n",
    "sock_SnS = socket.socket(socket.AF_INET, socket.SOCK_STREAM)\n",
    "\n",
    "# Connect the socket to the port where the server is listening\n",
    "server_address_SnS = (HOST_SnS, PORT_SnS)\n",
    "print('connecting to {} port {}'.format(*server_address_SnS))\n",
    "sock_SnS.connect(server_address_SnS)\n",
    "\n",
    "\n",
    "try:\n",
    "     #while True:\n",
    "        \"\"\"Restart\n",
    "        data = sock.recv(16)\n",
    "            #amount_received += len(data)\n",
    "        print('received {!r}'.format(data))\n",
    "        \"\"\"\n",
    "\n",
    "        data = sock_SnS.recv(64)  #48 bytes\n",
    "        #print(data)\n",
    "        #value = struct.unpack('f',data)\n",
    "        #unpacked = struct.unpack('f', data)\n",
    "        print('received {!r}'.format(data))\n",
    "        if data==b'start':\n",
    "            \n",
    "            print(\"starting rl policy\")\n",
    "            %run -i '2WayComms_and_RC-V3_dummypolicy.py'\n",
    "\n",
    "            endmsg='end'\n",
    "            data1=endmsg.encode('ascii')    \n",
    "            sock_SnS.sendall(data1)\n",
    "        #if (inputstring==b'end'):\n",
    "        #   break    \n",
    "        \"\"\"\"\"\"\n",
    "finally:       \n",
    "    print('Error. closing SnS socket')\n",
    "    sock_SnS.close()\n",
    "\n",
    "    \n"
   ]
  },
  {
   "cell_type": "code",
   "execution_count": null,
   "id": "115a268b-3fa9-41ca-8934-972b3219e531",
   "metadata": {},
   "outputs": [],
   "source": []
  },
  {
   "cell_type": "code",
   "execution_count": 53,
   "id": "846788f4-2bcd-4ec7-b62b-78afb8b4d91c",
   "metadata": {},
   "outputs": [
    {
     "name": "stdout",
     "output_type": "stream",
     "text": [
      "LL len 3\n",
      "[0.16666666666666666, 0.0, 0.6333333333333333, 0.019666666666666666, 0.0016666666666666668, -0.007333333333333333]\n"
     ]
    }
   ],
   "source": [
    "a=[0.2, -0.1, 0.1, 0.013, 0.001, -0.007]\n",
    "b=[0.2, 0.0, 0.5, 0.033, 0.006, -0.008]\n",
    "c=[0.1, 0.1, 1.3, 0.013, -0.002, -0.007]\n",
    "d=[0.1, 0.1, 1.2, 0.017, -0.001, -0.008]\n",
    "e=[0.0, 0.1, 0.4, 0.026, -0.001, -0.00899]\n",
    "\n",
    "LL=[]\n",
    "LL.append(a)\n",
    "LL.append(b)\n",
    "LL.append(c)\n",
    "L2=[0]*6\n",
    "print(\"LL len\",len(LL))\n",
    "for i in range(len(a)): \n",
    "    #print(\"i:\",i)\n",
    "    L2[i]=0\n",
    "    for j in range(len(LL)):  \n",
    "        L2[i]+=LL[j][i]    \n",
    "    L2[i]=L2[i]/(len(LL))\n"
   ]
  },
  {
   "cell_type": "code",
   "execution_count": null,
   "id": "af326199-b7dd-4e9a-b9a2-e4d2b05537f5",
   "metadata": {},
   "outputs": [],
   "source": []
  }
 ],
 "metadata": {
  "kernelspec": {
   "display_name": "Python 3",
   "language": "python",
   "name": "python3"
  },
  "language_info": {
   "codemirror_mode": {
    "name": "ipython",
    "version": 3
   },
   "file_extension": ".py",
   "mimetype": "text/x-python",
   "name": "python",
   "nbconvert_exporter": "python",
   "pygments_lexer": "ipython3",
   "version": "3.6.9"
  }
 },
 "nbformat": 4,
 "nbformat_minor": 5
}
