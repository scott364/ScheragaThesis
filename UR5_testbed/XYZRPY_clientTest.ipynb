{
 "cells": [
  {
   "cell_type": "code",
   "execution_count": 18,
   "id": "948beb63-a0c1-4752-82a6-f44706e25059",
   "metadata": {},
   "outputs": [
    {
     "name": "stdout",
     "output_type": "stream",
     "text": [
      "[[-0.99934441 -0.00610222  0.03568637 -0.14532579]\n",
      " [-0.00426994  0.99867946  0.05119661 -0.30391228]\n",
      " [-0.03595166  0.05101066 -0.99805081  0.26136941]\n",
      " [ 0.          0.          0.          1.        ]]\n",
      "x -0.14532579481601715 y -0.30391228199005127 z 0.26136940717697144\n",
      "roll 177.07414215504588 pitch 2.060322291013616 yaw -179.75519145125745\n"
     ]
    }
   ],
   "source": [
    "import socket\n",
    "import struct\n",
    "from scipy.spatial.transform import Rotation as R\n",
    "import numpy as np\n",
    "#HOST = '127.0.0.1'  # The server's hostname or IP address\n",
    "HOST = '192.168.0.103'\n",
    "PORT = 65453      # The port used by the server\n",
    "\n",
    "def rot2rpy(Rt, degrees=False):\n",
    "    \"\"\" Converts a rotation matrix into rpy / intrinsic xyz euler angle form.\n",
    "    Args:    Rt (ndarray): The rotation matrix.\n",
    "    Returns: ndarray: Angles in rpy / intrinsic xyz euler angle form.\n",
    "    \"\"\"\n",
    "    return R.from_matrix(Rt).as_euler('xyz', degrees=degrees)\n",
    "\n",
    "\n",
    "def rpy2rot(rpy, degrees=False):\n",
    "    \"\"\"Converts rpy / intrinsic xyz euler angles into a rotation matrix.\n",
    "    Args:    rpy (array-like): rpy / intrinsic xyz euler angles.\n",
    "             degrees (bool) : Whether or not euler_angles are in degrees (True), or radians (False).\n",
    "    Returns: ndarray: The rotation matrix.\n",
    "    \"\"\"\n",
    "    return R.from_euler('xyz', rpy, degrees=degrees).as_matrix()\n",
    "\n",
    "\n",
    "with socket.socket(socket.AF_INET, socket.SOCK_STREAM) as s:\n",
    "    s.connect((HOST, PORT))\n",
    "    #s.sendall(message)\n",
    "    while True:\n",
    "        data = s.recv(64)  #48 bytes\n",
    "        #print(data)\n",
    "        if data==b'end':\n",
    "            break\n",
    "        #value = struct.unpack('f',data)\n",
    "        unpacked = struct.unpack('ffffffffffffffff', data)\n",
    "        #print(unpacked)\n",
    "        #print('Received', repr(data))\n",
    "        TransRotatmatrix=np.zeros([4,4])\n",
    "        for i in range(4):\n",
    "            TransRotatmatrix[i][:]=unpacked[0+(4*i):4+(4*i)]\n",
    "        print(TransRotatmatrix)\n",
    "        rpy=rot2rpy(TransRotatmatrix[0:3,0:3],True)\n",
    "        x=TransRotatmatrix[0][3]\n",
    "        y=TransRotatmatrix[1][3]\n",
    "        z=TransRotatmatrix[2][3]\n",
    "        roll=rpy[0]  #In degrees!\n",
    "        pitch=rpy[1]\n",
    "        yaw=rpy[2]\n",
    "        print(\"x\",x,\"y\",y,\"z\",z)\n",
    "        print(\"roll\",roll,\"pitch\",pitch,\"yaw\",yaw)"
   ]
  },
  {
   "cell_type": "code",
   "execution_count": null,
   "id": "1f53d18d-513e-44c3-b40e-9193c4cd3033",
   "metadata": {},
   "outputs": [],
   "source": []
  },
  {
   "cell_type": "code",
   "execution_count": null,
   "id": "553b3846-2ea9-42bc-adcc-40d8445a0f3f",
   "metadata": {},
   "outputs": [],
   "source": []
  },
  {
   "cell_type": "code",
   "execution_count": null,
   "id": "97033446-4ab5-493d-a7e5-57d6f3b33f2f",
   "metadata": {},
   "outputs": [],
   "source": []
  },
  {
   "cell_type": "code",
   "execution_count": null,
   "id": "ddbf9e47-ebb9-4253-81ce-b5f61796c5aa",
   "metadata": {},
   "outputs": [],
   "source": []
  }
 ],
 "metadata": {
  "kernelspec": {
   "display_name": "Python 3",
   "language": "python",
   "name": "python3"
  },
  "language_info": {
   "codemirror_mode": {
    "name": "ipython",
    "version": 3
   },
   "file_extension": ".py",
   "mimetype": "text/x-python",
   "name": "python",
   "nbconvert_exporter": "python",
   "pygments_lexer": "ipython3",
   "version": "3.6.9"
  }
 },
 "nbformat": 4,
 "nbformat_minor": 5
}
