{
 "cells": [
  {
   "cell_type": "markdown",
   "metadata": {},
   "source": [
    "# Import Libraries"
   ]
  },
  {
   "cell_type": "code",
   "execution_count": 1,
   "metadata": {},
   "outputs": [
    {
     "name": "stdout",
     "output_type": "stream",
     "text": [
      "Loaded: /home/nvidia/dev_rmstudio/rmlib/rmlib/rmtools Exists?: True\n",
      "Loaded: /home/nvidia/dev_rmstudio/rmlib Exists?: True\n",
      "Setting up robot please wait...\n",
      "my_components: {'ft_config': {'module_name': 'sensors.ftsensor_optoforce', 'ip_address': '192.168.0.100', 'remote_port': 10000, 'local_port': 20000, 'class_name': 'OptoForce', 'dataHz': 50.0, 'max_workers': 10, 'filter': {'beta': 0.035, 'alpha': 0.012}, 'remote_ip': '', 'local_ip': '127.0.0.1'}, 'arm_config': {'ip_address': '192.168.0.101', 'max_joint_accel': 1.4, 'class_name': 'UR5', 'default_linear_speed': 0.1, 'max_linear_speed': 0.25, 'xmlrpc_port': '8003', 'default_joint_speed': 0.7, 'module_name': 'arms.ur5', 'max_linear_accel': 1.2, 'max_joint_speed': 1.05, 'default_joint_accel': 0.8, 'default_linear_accel': 0.8}, 'hand_config': {'module_name': 'hands.smarthand', 'class_name': 'SmartHand', 'finger_width_inner': 0.0, 'finger_length': 0.0415, 'finger_depth': 0.014, 'finger_width_outer': 0.015}, 'cam_config': {'module_name': 'cameras.realsense', 'camera_model': 'd410', 'pc_cam_offset': [-0.037, -0.033, -0.079], 'ci_cam_offset': [-0.036, -0.028, -0.079], 'class_name': 'RealSense'}}\n",
      "active_componetns: {'ft': ['ft_config'], 'hand': ['hand_config'], 'camera': ['cam_config'], 'arm': ['arm_config']}\n",
      "{'module_name': 'sensors.ftsensor_optoforce', 'ip_address': '192.168.0.100', 'remote_port': 10000, 'local_port': 20000, 'class_name': 'OptoForce', 'dataHz': 50.0, 'max_workers': 10, 'filter': {'beta': 0.035, 'alpha': 0.012}, 'remote_ip': '', 'local_ip': '127.0.0.1'}\n",
      "<class 'rmlib.sensors.ftsensor_optoforce.OptoForce'>\n",
      "Connecting to the force sensor at ('192.168.0.100', 49152) ... SUCCESS!\n",
      "Preparing OptoForce for data transmission ... COMPLETED!\n",
      "Set up server at: {'port': 20000, 'ip': '127.0.0.1'}\n",
      "Set up server at: {'port': 10000, 'ip': ''}\n",
      "\n",
      " Config Tuple:\n",
      " Config Tuple: {'port': 20000, 'ip': '127.0.0.1'} \n",
      "\n",
      " {'port': 10000, 'ip': ''} \n",
      "\n",
      "XML-RPC serving FT data from ('', 10000)\n",
      "XML-RPC serving FT data from ('127.0.0.1', 20000)\n",
      "XML-RPC servers RUNNING!\n",
      "{'module_name': 'hands.smarthand', 'class_name': 'SmartHand', 'finger_width_inner': 0.0, 'finger_length': 0.0415, 'finger_depth': 0.014, 'finger_width_outer': 0.015}\n",
      "<class 'rmlib.hands.smarthand.SmartHand'>\n",
      "{'module_name': 'cameras.realsense', 'camera_model': 'd410', 'pc_cam_offset': [-0.037, -0.033, -0.079], 'ci_cam_offset': [-0.036, -0.028, -0.079], 'class_name': 'RealSense'}\n",
      "<class 'rmlib.cameras.realsense.RealSense'>\n",
      "{'ip_address': '192.168.0.101', 'max_joint_accel': 1.4, 'class_name': 'UR5', 'default_linear_speed': 0.1, 'max_linear_speed': 0.25, 'xmlrpc_port': '8003', 'default_joint_speed': 0.7, 'module_name': 'arms.ur5', 'max_linear_accel': 1.2, 'max_joint_speed': 1.05, 'default_joint_accel': 0.8, 'default_linear_accel': 0.8}\n",
      "<class 'rmlib.arms.ur5.UR5'>\n",
      "Robot Ready!\n",
      "Functions and Vars added to RMStudio!\n",
      "no stored variable #loads\n",
      "no stored variable variables attached to this notebook\n",
      "\n",
      "##!## READY ##!##\n"
     ]
    }
   ],
   "source": [
    "####### INIT ######################################################################################\n",
    "\n",
    "from context import rmlib\n",
    "#Imports \n",
    "from time import sleep\n",
    "import numpy as np\n",
    "import rmlib\n",
    "from rmlib.rmtools.asm_BT_lib.asm_tree_Basic import augment_RM\n",
    "import rmlib.rmtools as rm\n",
    "from config import robotConfig\n",
    "\n",
    "robot = rmlib.robot.Robot( robotConfig )\n",
    "\n",
    "augment_RM( robot )\n",
    "\n",
    "%store -r  #loads variables attached to this notebook\n",
    "\n",
    "####### LIBS ######################################################################################\n",
    "\n",
    "# Import Pytrees\n",
    "import py_trees\n",
    "from py_trees.tests import Timeout_Success\n",
    "from py_trees.composites import Sequence , Selector\n",
    "\n",
    "from rmlib.rmtools.asm_BT_lib.asm_tree_Basic import *\n",
    "from rmlib.rmtools.asm_BT_lib.asm_tree_FT_based import *\n",
    "\n",
    "import math\n",
    "from pmath import translate_pose , get_disance_between_poses , pose_components\n",
    "\n",
    "from utils import is_matx_list\n",
    "from math import radians\n",
    "\n",
    "print( \"\\n##!## READY ##!##\" )"
   ]
  },
  {
   "cell_type": "markdown",
   "metadata": {},
   "source": [
    "# Arm Movements"
   ]
  },
  {
   "cell_type": "code",
   "execution_count": 2,
   "metadata": {},
   "outputs": [
    {
     "ename": "NameError",
     "evalue": "name 'SafePose' is not defined",
     "output_type": "error",
     "traceback": [
      "\u001b[0;31m---------------------------------------------------------------------------\u001b[0m",
      "\u001b[0;31mNameError\u001b[0m                                 Traceback (most recent call last)",
      "\u001b[0;32m<ipython-input-2-390baeda7052>\u001b[0m in \u001b[0;36m<module>\u001b[0;34m\u001b[0m\n\u001b[1;32m     15\u001b[0m \"\"\" \n\u001b[1;32m     16\u001b[0m \u001b[0;34m\u001b[0m\u001b[0m\n\u001b[0;32m---> 17\u001b[0;31m moveNode = Move_Arm( pose  = SafePose , # 4x4 homogeneous coord pose\n\u001b[0m\u001b[1;32m     18\u001b[0m                      \u001b[0mmode\u001b[0m  \u001b[0;34m=\u001b[0m \u001b[0;34m'l'\u001b[0m \u001b[0;34m,\u001b[0m  \u001b[0;31m# { 'l': linear in task space, 'j': linear in joint space }\u001b[0m\u001b[0;34m\u001b[0m\u001b[0m\n\u001b[1;32m     19\u001b[0m                      \u001b[0mspeed\u001b[0m \u001b[0;34m=\u001b[0m \u001b[0;36m0.125\u001b[0m \u001b[0;34m,\u001b[0m\u001b[0;34m\u001b[0m\u001b[0m\n",
      "\u001b[0;31mNameError\u001b[0m: name 'SafePose' is not defined"
     ]
    }
   ],
   "source": [
    "#from task_parameters import taskParams , _TB_side , _M8_TB_height , _M6_TB_height , _M4_TB_height\n",
    "\n",
    "_DRILL_CONTACT_PRESS = 11.0\n",
    "\n",
    "#SafePose = robot.arm.get_tcp_pose() #rm.get_tcp_pose()\n",
    "#%store SafePose\n",
    "\n",
    "\n",
    "\"\"\"\n",
    "### Move to Safe Pose ###\n",
    "Basic movements are defined in:\n",
    "rmlib/rmlib/rmtools/assembly_trees/asm_tree_Basic.py\n",
    "\n",
    "All of the basic behaviors and trees inherit `py_trees` classes.\n",
    "\"\"\" \n",
    "\n",
    "moveNode = Move_Arm( pose  = SafePose , # 4x4 homogeneous coord pose\n",
    "                     mode  = 'l' ,  # { 'l': linear in task space, 'j': linear in joint space }\n",
    "                     speed = 0.125 , \n",
    "                     accel = 0.35 , \n",
    "                     ctrl  = robot ) # Ref to `rmlib` object, stored in `robot` in this NB"
   ]
  },
  {
   "cell_type": "markdown",
   "metadata": {},
   "source": [
    "## Run Behavior\n",
    "`run_BT_until_done` is a function that ticks the node object provided as an argument at regular intervals.  It will report the final status of the root node and print and ASCII tree representation.   \n",
    "The default args are likely adequate for your purpose, but it can be found at  \n",
    "rmlib/rmlib/rmtools/assembly_trees/asm_tree_Basic.py\n",
    "\n",
    "\n",
    "run_BT_until_done( moveNode )"
   ]
  },
  {
   "cell_type": "markdown",
   "metadata": {},
   "source": [
    "## Pose Math, Move to Contact, and Tree Building"
   ]
  },
  {
   "cell_type": "code",
   "execution_count": 4,
   "metadata": {},
   "outputs": [],
   "source": [
    "# Calc a pose 10cm below the `SAFE_POSE`\n",
    "lowPose = translate_pose( \n",
    "    SafePose , \n",
    "    [ 0.0 , 0.0 , +0.100 ] , # Translation vector\n",
    "    dir_pose = 'origin' # { 'origin': lab frame, 'self': relative the argument pose }\n",
    ")\n",
    "# Location:  rmlib/rmlib/rmtools/pmath.py"
   ]
  },
  {
   "cell_type": "markdown",
   "metadata": {},
   "source": [
    "The following cell builds a sequence that makes a relative move, then stores the final pose under a global dictionary key for later retrieval.  \n",
    "For most 'procedure-like' trees, a Sequence with Memory is used.  \n",
    "The memory option prevents completed actions from being ticked again until the entire `Sequence` has completed.  \n",
    "Behaviors will be executed in the order added."
   ]
  },
  {
   "cell_type": "code",
   "execution_count": 8,
   "metadata": {},
   "outputs": [
    {
     "name": "stdout",
     "output_type": "stream",
     "text": [
      "\n"
     ]
    }
   ],
   "source": [
    "pushTree = Sequence( memory = 1 ) \n",
    "\n",
    "poseKey = \"TouchdownPose\" # String key to store pose that will be used by another tree\n",
    "\n",
    "# 1. Move to a pose conveniently close to the table\n",
    "pushTree.add_child(\n",
    "    Move_Arm( pose = lowPose , mode = 'l',  speed = 0.125 , accel = 0.35 , ctrl = robot ) \n",
    ")\n",
    "\n",
    "# 2. Close the fingers in prep for a probing action\n",
    "pushTree.add_child(\n",
    "    Set_Fingers( \n",
    "        openState = 0.0 , # Dist b/n fingers in [m], Anything larger than 0.095 interpreted as fully open\n",
    "        ctrl = robot , # rmlib ref\n",
    "        waitSec = 0.25 # OpenCM does not block execution, so pause to let fingers physically close\n",
    "    )\n",
    ")\n",
    "\n",
    "\"\"\"\n",
    "### Move Until Reaction Force Encountered ###\n",
    "Force-based actions are defined in:\n",
    "rmlib/rmlib/rmtools/assembly_trees/asm_tree_FT_based.py\n",
    "\"\"\" \n",
    "\n",
    "# 3. Approach the table at a **gentle speed** and stop when a small reaction force is observed \n",
    "pushTree.add_child(\n",
    "    Move_to_Contact( \n",
    "        Fmag      = 3.0 , # Reaction force that triggers stop, Forces below 1.5N aren't reliably detected\n",
    "        relMove   = [0.0, 0.0, -1.0] , # Specify a move the goes *beyond* where you expect to end up\n",
    "        biasWrist = 1 , # Bias wrist before beginning motion (Sorry, currently this takes 1-8 seconds)\n",
    "        mode      = 'l' , \n",
    "        speed     = 0.040 , accel = 0.04 , # **gentle speed**\n",
    "        pull      = 0 , # For pulling actions, reaction force tugs on hand rather than pushes\n",
    "        ctrl      = robot\n",
    "    ) # NOTE: This behav. may be used for absolute pose if an argument for `pose` is provided\n",
    ")\n",
    "\n",
    "# 4. Remember where we landed\n",
    "pushTree.add_child(\n",
    "    Store_Current_Pose( \n",
    "        keyString = poseKey , # Blackboard dict key\n",
    "        ctrl = robot , \n",
    "        setOnce = True # Set this flag to prevent the value from being modified once stored\n",
    "    )\n",
    ")\n",
    "\n",
    "# 5. Relative move back up, no condition\n",
    "pushTree.add_child(\n",
    "    Move_Arm_Relative( \n",
    "        translation = [ -0.035, -0.035, 0.070 ] , # Trans. Vec\n",
    "        rotation    = [0.0,0.0,0.0] , # Euler angles\n",
    "        mode = 'l' , speed = 0.125 , accel = 0.35 , \n",
    "        stop_cond = None , # A custom stop condition can be passed here if desired\n",
    "        frame = 'origin' ,\n",
    "        cond_success = 1 , # Flag true if we are using \"stop_cond()==1\" to mean *success*, otherwise the reverse\n",
    "        bias_wrist = 0 , # If `stop_cond` is force based, this is a good idea\n",
    "        ctrl = robot\n",
    "    ) # NOTE: If no stop_cond is provided, the this behavior returns true only if the full motion has completed\n",
    ")\n",
    "\n",
    "# 6. Now let's recover the pose that we stored before\n",
    "pushTree.add_child(\n",
    "    Move_Arm( BB_key = poseKey , # Blackboard dict key passed to `BB_key` instead of a `pose` arg\n",
    "              mode = 'l',  speed = 0.063 , accel = 0.17 , ctrl = robot ) \n",
    ")\n",
    "\n",
    "# 7. It's a good idea to return to a known safe pose between activities\n",
    "pushTree.add_child(\n",
    "    Move_Arm( pose  = SAFE_POSE , ctrl = robot )\n",
    ")\n",
    "\n",
    "# 8. Open the fingers\n",
    "pushTree.add_child(\n",
    "    Set_Fingers( openState = 1.0 , ctrl = robot , waitSec = 0.0 )\n",
    ")\n",
    "\n",
    "print()"
   ]
  },
  {
   "cell_type": "markdown",
   "metadata": {},
   "source": []
  },
  {
   "cell_type": "code",
   "execution_count": 27,
   "metadata": {},
   "outputs": [
    {
     "name": "stdout",
     "output_type": "stream",
     "text": [
      "[-0.1   -0.1   -3.7    0.029 -0.032 -0.017]\n",
      "0\n",
      "4\n",
      "8\n",
      "12\n",
      "16\n"
     ]
    },
    {
     "data": {
      "image/png": "[encoded data removed]",
      "text/plain": [
       "<Figure size 720x720 with 1 Axes>"
      ]
     },
     "metadata": {
      "needs_background": "light"
     },
     "output_type": "display_data"
    }
   ],
   "source": [
    "import matplotlib.pyplot as plt\n",
    "import numpy as np\n",
    "import time\n",
    "\n",
    "wrench  = robot.ft.get_wrist_force()\n",
    "print(wrench)\n",
    "xforcelist=[]\n",
    "yforcelist=[]\n",
    "zforcelist=[]\n",
    "for i in range(20):\n",
    "    if i%4==0:\n",
    "        print(i)\n",
    "    wrench  = robot.ft.get_wrist_force()\n",
    "    xforcelist.append(wrench[0])\n",
    "    yforcelist.append(wrench[1])\n",
    "    zforcelist.append(wrench[2])\n",
    "    time.sleep(.1)\n",
    "    \n",
    "fig = plt.figure(figsize=(10, 10))\n",
    "ax = fig.add_subplot(1, 1, 1)\n",
    "ax.plot(range(20),xforcelist,range(20),yforcelist,range(20),zforcelist)    \n",
    "ax.legend({'x','y','z'})\n",
    "plt.show()"
   ]
  },
  {
   "cell_type": "code",
   "execution_count": 2,
   "metadata": {},
   "outputs": [
    {
     "name": "stdout",
     "output_type": "stream",
     "text": [
      "About to run <asm_tree_Basic.Move_Arm object at 0x7f9c0d2eb8> : Move_Arm at 2021-06-23_15-53-19 with 4.0 Hz update frequency ...\n",
      "Running ...\n",
      "\n",
      "Root node Move_Arm succeeded!\n",
      "\n",
      "\n",
      "Run completed! with status: Status.SUCCESS \n",
      "\n",
      "\n",
      "Root node Move_Arm was killed by the running script!\n"
     ]
    }
   ],
   "source": [
    "moveNode = Move_Arm( pose  = SAFE_POSE , # 4x4 homogeneous coord pose\n",
    "                     mode  = 'l' ,  # { 'l': linear in task space, 'j': linear in joint space }\n",
    "                     speed = 0.125 , \n",
    "                     accel = 0.35 , \n",
    "                     ctrl  = robot ) # Ref to `rmlib` object, stored in `robot` in this NB\n",
    "run_BT_until_done(moveNode)"
   ]
  },
  {
   "cell_type": "markdown",
   "metadata": {},
   "source": [
    "## Communication tests"
   ]
  },
  {
   "cell_type": "code",
   "execution_count": 3,
   "metadata": {},
   "outputs": [
    {
     "name": "stdout",
     "output_type": "stream",
     "text": [
      "Connected by ('192.168.0.102', 47416)\n"
     ]
    },
    {
     "name": "stdin",
     "output_type": "stream",
     "text": [
      " g\n"
     ]
    },
    {
     "name": "stdout",
     "output_type": "stream",
     "text": [
      "[[-0.99932123 -0.00604125  0.03633989 -0.14518192]\n",
      " [-0.00415854  0.99865595  0.05166245 -0.30382647]\n",
      " [-0.03660316  0.05147626 -0.99800321  0.26114286]\n",
      " [ 0.          0.          0.          1.        ]]\n",
      "<class 'numpy.ndarray'>\n",
      "b'g'\n"
     ]
    },
    {
     "name": "stdin",
     "output_type": "stream",
     "text": [
      " end\n"
     ]
    },
    {
     "name": "stdout",
     "output_type": "stream",
     "text": [
      "b'end'\n"
     ]
    }
   ],
   "source": [
    "import socket\n",
    "\n",
    "#HOST = '127.0.0.1'  # Standard loopback interface address (localhost)\n",
    "HOST = '192.168.0.103'\n",
    "\n",
    "#192.168.0.103\n",
    "PORT = 65455        # Port to listen on (non-privileged ports are > 1023)\n",
    "\n",
    "with socket.socket(socket.AF_INET, socket.SOCK_STREAM) as s:\n",
    "    s.bind((HOST, PORT))\n",
    "    s.listen()\n",
    "    \n",
    "    #s.settimeout(0.1)\n",
    "    conn, addr = s.accept()\n",
    "    with conn:\n",
    "        print('Connected by', addr)\n",
    "        s.setblocking(False)\n",
    "        inputstring=0\n",
    "        while True:\n",
    "            #while inputstring!='end':\n",
    "                inputstring=input(\"\") #Press Enter to continue...\n",
    "                if (inputstring=='h' or inputstring=='j' or inputstring=='k' or inputstring=='l' or \n",
    "                    inputstring=='u' or inputstring=='o'or inputstring=='y' or inputstring=='i' or \n",
    "                    inputstring=='z' or inputstring=='x' or inputstring=='d' or inputstring=='c'or\n",
    "                    inputstring=='home'):\n",
    "                    \n",
    "                    data=inputstring.encode('ascii')    \n",
    "                    print(data)\n",
    "                    conn.send(data)\n",
    "                if (inputstring=='g'):\n",
    "                    data=robot.arm.get_tcp_pose()\n",
    "                    print(data)\n",
    "                    print(type(data))\n",
    "                    data=inputstring.encode('ascii')    \n",
    "                    print(data)\n",
    "                    conn.send(data) \n",
    "                    \n",
    "                if inputstring=='end': \n",
    "                    data=b'end'\n",
    "                    print(data)\n",
    "                    conn.send(data) \n",
    "                    break\n",
    "                #data = conn.recv(1024)\n",
    "                \n",
    "                #if not data:\n",
    "                #    break"
   ]
  },
  {
   "cell_type": "markdown",
   "metadata": {},
   "source": [
    "## Command jog + angle loop, maxed at 2N for any move"
   ]
  },
  {
   "cell_type": "code",
   "execution_count": 5,
   "metadata": {},
   "outputs": [
    {
     "name": "stdout",
     "output_type": "stream",
     "text": [
      "[ 0.    -0.1    0.1   -0.01  -0.014 -0.004]\n",
      "Received b'o'\n",
      "+z\n",
      "Running BT\n",
      "About to run <py_trees.composites.Sequence object at 0x7f84170438> : Sequence at 2021-06-25_13-22-11 with 4.0 Hz update frequency ...\n",
      "Running ...\n",
      "\n",
      "Root node Sequence succeeded!\n",
      "\n",
      "\n",
      "Run completed! with status: Status.SUCCESS \n",
      "\n",
      "\n",
      "Root node Sequence was killed by the running script!\n",
      "Received b'o'\n",
      "+z\n",
      "Running BT\n",
      "About to run <py_trees.composites.Sequence object at 0x7f841704e0> : Sequence at 2021-06-25_13-22-19 with 4.0 Hz update frequency ...\n",
      "Running ...\n",
      "\n",
      "Root node Sequence succeeded!\n",
      "\n",
      "\n",
      "Run completed! with status: Status.SUCCESS \n",
      "\n",
      "\n",
      "Root node Sequence was killed by the running script!\n",
      "Received b'o'\n",
      "+z\n",
      "Running BT\n",
      "About to run <py_trees.composites.Sequence object at 0x7f84104cf8> : Sequence at 2021-06-25_13-22-21 with 4.0 Hz update frequency ...\n",
      "Running ...\n",
      "\n",
      "Root node Sequence succeeded!\n",
      "\n",
      "\n",
      "Run completed! with status: Status.SUCCESS \n",
      "\n",
      "\n",
      "Root node Sequence was killed by the running script!\n",
      "Received b'o'\n",
      "+z\n",
      "Running BT\n",
      "About to run <py_trees.composites.Sequence object at 0x7f84104710> : Sequence at 2021-06-25_13-22-24 with 4.0 Hz update frequency ...\n",
      "Running ...\n",
      "\n",
      "Root node Sequence succeeded!\n",
      "\n",
      "\n",
      "Run completed! with status: Status.SUCCESS \n",
      "\n",
      "\n",
      "Root node Sequence was killed by the running script!\n",
      "Received b'd'\n",
      "+pitch\n",
      "Running BT\n",
      "About to run <py_trees.composites.Sequence object at 0x7f8410beb8> : Sequence at 2021-06-25_13-22-32 with 4.0 Hz update frequency ...\n",
      "Running ...\n",
      "\n",
      "Root node Sequence succeeded!\n",
      "\n",
      "\n",
      "Run completed! with status: Status.SUCCESS \n",
      "\n",
      "\n",
      "Root node Sequence was killed by the running script!\n",
      "Received b'c'\n",
      "-pitch\n",
      "Running BT\n",
      "About to run <py_trees.composites.Sequence object at 0x7f8411e080> : Sequence at 2021-06-25_13-22-34 with 4.0 Hz update frequency ...\n",
      "Running ...\n",
      "\n",
      "Root node Sequence succeeded!\n",
      "\n",
      "\n",
      "Run completed! with status: Status.SUCCESS \n",
      "\n",
      "\n",
      "Root node Sequence was killed by the running script!\n",
      "Received b'z'\n",
      "+yaw\n",
      "Running BT\n",
      "About to run <py_trees.composites.Sequence object at 0x7f8411e160> : Sequence at 2021-06-25_13-22-37 with 4.0 Hz update frequency ...\n",
      "Running ...\n",
      "\n",
      "Root node Sequence succeeded!\n",
      "\n",
      "\n",
      "Run completed! with status: Status.SUCCESS \n",
      "\n",
      "\n",
      "Root node Sequence was killed by the running script!\n",
      "Received b'x'\n",
      "-yaw\n",
      "Running BT\n",
      "About to run <py_trees.composites.Sequence object at 0x7f84170c88> : Sequence at 2021-06-25_13-22-39 with 4.0 Hz update frequency ...\n",
      "Running ...\n",
      "\n",
      "Root node Sequence succeeded!\n",
      "\n",
      "\n",
      "Run completed! with status: Status.SUCCESS \n",
      "\n",
      "\n",
      "Root node Sequence was killed by the running script!\n",
      "Received b'home'\n"
     ]
    },
    {
     "ename": "NameError",
     "evalue": "name 'SAFE_POSE' is not defined",
     "output_type": "error",
     "traceback": [
      "\u001b[0;31m---------------------------------------------------------------------------\u001b[0m",
      "\u001b[0;31mNameError\u001b[0m                                 Traceback (most recent call last)",
      "\u001b[0;32m<ipython-input-5-e5e2aa4529b2>\u001b[0m in \u001b[0;36m<module>\u001b[0;34m\u001b[0m\n\u001b[1;32m    160\u001b[0m \u001b[0;34m\u001b[0m\u001b[0m\n\u001b[1;32m    161\u001b[0m         \u001b[0;32melif\u001b[0m \u001b[0minputstring\u001b[0m\u001b[0;34m==\u001b[0m\u001b[0;34mb'home'\u001b[0m\u001b[0;34m:\u001b[0m\u001b[0;34m\u001b[0m\u001b[0m\n\u001b[0;32m--> 162\u001b[0;31m             moveNode = Move_Arm( pose  = SAFE_POSE , # 4x4 homogeneous coord pose\n\u001b[0m\u001b[1;32m    163\u001b[0m                          \u001b[0mmode\u001b[0m  \u001b[0;34m=\u001b[0m \u001b[0;34m'l'\u001b[0m \u001b[0;34m,\u001b[0m  \u001b[0;31m# { 'l': linear in task space, 'j': linear in joint space }\u001b[0m\u001b[0;34m\u001b[0m\u001b[0m\n\u001b[1;32m    164\u001b[0m                          \u001b[0mspeed\u001b[0m \u001b[0;34m=\u001b[0m \u001b[0;36m0.125\u001b[0m \u001b[0;34m,\u001b[0m\u001b[0;34m\u001b[0m\u001b[0m\n",
      "\u001b[0;31mNameError\u001b[0m: name 'SAFE_POSE' is not defined"
     ]
    }
   ],
   "source": [
    "\n",
    "import math\n",
    "from IPython.display import clear_output\n",
    "import socket\n",
    "\n",
    "\n",
    "            \n",
    "            \n",
    "def exceeds_Z_force2(zLimitF):\n",
    "        #Condition: Return a function that returns 1 if the z reaction limit is reached \n",
    "        def func():\n",
    "            _DEBUG = 0\n",
    "            #Stops when Z reaction exceeds value\n",
    "            wrench = robot.ft.get_wrist_force()\n",
    "            mag_x   = wrench[0]\n",
    "            mag_y   = wrench[1]\n",
    "            mag_z   = wrench[2]\n",
    "            if _DEBUG: \n",
    "                print( \"exceeds_Z_force , wrench:\" , wrench )\n",
    "                print(\"wrench[2]=\",wrench[2], \"    -zLimitF=\",-zLimitF)\n",
    "            if wrench[2] < -zLimitF:\n",
    "                builtins._GLOB_FT_FLAG = 1\n",
    "                #print(\"pass\")\n",
    "                return 1\n",
    "            else:\n",
    "                #print(\"fail\")\n",
    "                return 0\n",
    "        return func\n",
    "    \n",
    "def exceeds_force(force):\n",
    "        #Condition: Return a function that returns 1 if the z reaction limit is reached \n",
    "        def func():\n",
    "            _DEBUG = 0\n",
    "            #Stops when Z reaction exceeds value\n",
    "            wrench = robot.ft.get_wrist_force()\n",
    "            mag_x   = wrench[0]\n",
    "            mag_y   = wrench[1]\n",
    "            mag_z   = wrench[2]\n",
    "\n",
    "            if (abs(wrench[0]) > force or \n",
    "                abs(wrench[1]) > force or \n",
    "                abs(wrench[2]) > force) :\n",
    "                builtins._GLOB_FT_FLAG = 1\n",
    "                #print(\"pass\")\n",
    "                return 1\n",
    "            else:\n",
    "                #print(\"fail\")\n",
    "                if _DEBUG: \n",
    "                    print( \"exceeds force limit of \", force ,\"N  , wrench:\" , wrench )\n",
    "                return 0\n",
    "        return func      \n",
    "        \n",
    "relMoveDistance=0.0254  # 1 inch in meters\n",
    "rotation_angle=5 # in degrees\n",
    "rotation_angle=rotation_angle*(math.pi/180)  #convert to radians\n",
    "#maxForce=2.0 #TapFz uses positive values #Newtons\n",
    "inputstring=0\n",
    "forcelimit=4.0\n",
    "#condition = EXCEEDS_Z_force\n",
    "#print(dir(condition))\n",
    "\n",
    "\n",
    "    \n",
    "#HOST = '127.0.0.1'  # The server's hostname or IP address\n",
    "HOST = '192.168.0.102'\n",
    "PORT = 65432        # The port used by the server\n",
    "robot.ft.bias_wrist_force()\n",
    "wrench  = robot.ft.get_wrist_force()\n",
    "print(wrench)\n",
    "with socket.socket(socket.AF_INET, socket.SOCK_STREAM) as s:\n",
    "    s.connect((HOST, PORT))\n",
    "    #message=b'Hello, world'\n",
    "    #s.sendall(message)\n",
    "    while True:\n",
    "        inputstring = s.recv(1024)  #need to make this non-blocking!!!\n",
    "        print('Received', repr(inputstring))\n",
    "        if inputstring==b'end':\n",
    "            break\n",
    "    \n",
    "        pushTree = Sequence( memory = 1 ) \n",
    "        translation_New     = [0.0,0.0,0.0] \n",
    "        rotation_New    = [0.0,0.0,0.0] \n",
    "\n",
    "        #inputstring=input(\"\") #Press Enter to continue...\n",
    "        #if inputstring!='':\n",
    "        #    clear_output(wait=True)\n",
    "        if inputstring==b'k': \n",
    "            print(\"+x\")\n",
    "            translation_New   = [-1*relMoveDistance, 0.0 , 0.0]  \n",
    "        elif inputstring==b'h': \n",
    "            print(\"-x\") \n",
    "            translation_New   = [relMoveDistance, 0.0 , 0.0]\n",
    "        elif inputstring==b'u': \n",
    "            print(\"+y\")\n",
    "            translation_New   = [0.0, -1*relMoveDistance, 0.0] \n",
    "        elif inputstring==b'j': \n",
    "            print(\"-y\")\n",
    "            translation_New   = [0.0, relMoveDistance, 0.0] \n",
    "        elif inputstring==b'o': \n",
    "            print(\"+z\")  \n",
    "            translation_New   =[0.0, 0.0 , relMoveDistance]\n",
    "        elif inputstring==b'l':  \n",
    "            print(\"-z\")\n",
    "            translation_New   =[0.0, 0.0 , -1*relMoveDistance] \n",
    "        if inputstring==b'd': \n",
    "            print(\"+pitch\")\n",
    "            rotation_New   = [-1*rotation_angle, 0.0 , 0.0]  \n",
    "        elif inputstring==b'c': \n",
    "            print(\"-pitch\") \n",
    "            rotation_New   = [rotation_angle, 0.0 , 0.0]\n",
    "        elif inputstring==b'z': \n",
    "            print(\"+yaw\")\n",
    "            rotation_New   = [0.0, -1*rotation_angle, 0.0] \n",
    "        elif inputstring==b'x': \n",
    "            print(\"-yaw\")\n",
    "            rotation_New   = [0.0, rotation_angle, 0.0] \n",
    "        elif inputstring==b'y': \n",
    "            print(\"roll ccw\")  \n",
    "            rotation_New   =[0.0, 0.0 , rotation_angle]\n",
    "        elif inputstring==b'i': \n",
    "            print(\"roll cw\")\n",
    "            rotation_New   =[0.0, 0.0 , -1*rotation_angle] \n",
    "\n",
    "        if (inputstring==b'h' or inputstring==b'j' or inputstring==b'k' or inputstring==b'l' or \n",
    "            inputstring==b'u' or inputstring==b'o'or inputstring==b'y' or inputstring==b'i' or \n",
    "            inputstring==b'z' or inputstring==b'x' or inputstring==b'd' or inputstring==b'c'):\n",
    "            print(\"Running BT\")\n",
    "            \n",
    "            \"\"\"\n",
    "            pushTree.add_child(  \n",
    "                    Move_Arm_Relative( \n",
    "                        translation = translation_New , # Trans. Vec\n",
    "                        rotation    = rotation_New , # Euler angles\n",
    "                        mode = 'l' , speed = 0.125 , accel = 0.35 , \n",
    "                        #stop_cond = jog_forcelimit_COND(maxForce) ,#was None # A custom stop condition can be passed here if desired\n",
    "                        stop_cond =exceeds_Z_force2( tapFz ), #None, None, #\n",
    "                        frame = 'origin' ,\n",
    "                        cond_success = 0, # Flag true if we are using \"stop_cond()==1\" to mean *success*, otherwise the reverse\n",
    "                        bias_wrist = 1 ,# was 0 # If `stop_cond` is force based, this is a good idea\n",
    "                        _DEBUG =1,\n",
    "                        ctrl = robot\n",
    "                    ) # NOTE: If no stop_cond is provided, the this behavior returns true only if the full motion has completed\n",
    "                )\n",
    "            \"\"\"\n",
    "            pushTree.add_child(  \n",
    "                    Move_Arm_Relative( \n",
    "                        translation = translation_New , # Trans. Vec\n",
    "                        rotation    = rotation_New , # Euler angles\n",
    "                        mode = 'l' , speed = 0.125 , accel = 0.35 , \n",
    "                        #stop_cond =exceeds_Z_force2( forcelimit ), #None, None, #\n",
    "                        stop_cond =exceeds_force(forcelimit), #N                        \n",
    "                        frame = 'origin' ,\n",
    "                        cond_success = 0, # Flag true if we are using \"stop_cond()==1\" to mean *success*, otherwise the reverse\n",
    "                        bias_wrist = 0 ,# was 0 # If `stop_cond` is force based, this is a good idea\n",
    "                        _DEBUG =0,\n",
    "                        ctrl = robot\n",
    "                    ) # NOTE: If no stop_cond is provided, the this behavior returns true only if the full motion has completed\n",
    "                )\n",
    "            \n",
    "            run_BT_until_done(pushTree)\n",
    "\n",
    "        elif inputstring==b'home':\n",
    "            moveNode = Move_Arm( pose  = SafePose , # 4x4 homogeneous coord pose\n",
    "                         mode  = 'l' ,  # { 'l': linear in task space, 'j': linear in joint space }\n",
    "                         speed = 0.125 , \n",
    "                         accel = 0.35 , \n",
    "                         ctrl  = robot ) # Ref to `rmlib` object, stored in `robot` in this NB\n",
    "            run_BT_until_done(moveNode)\n",
    "\n",
    "        \"\"\"\n",
    "        import pmath\n",
    "    from pmath import ( orient_error_between_poses , get_disance_between_poses , translate_pose , rotate_pose , pose_components , is_pose_mtrx ,\n",
    "                        position_from_pose , transform_vectors )\n",
    "        position_from_pose( orig ) \n",
    "\n",
    "        pushTree.add_child(\n",
    "                Move_to_Contact( \n",
    "                    Fmag      = maxForce, # Reaction force that triggers stop, Forces below 1.5N aren't reliably detected\n",
    "                    relMove   = relMove_New, # Specify a move the goes *beyond* where you expect to end up\n",
    "                    biasWrist = 1 , # Bias wrist before beginning motion (Sorry, currently this takes 1-8 seconds)\n",
    "                    mode      = 'l' , \n",
    "                    speed     = 0.040 , accel = 0.04 , # **gentle speed**\n",
    "                    pull      = 0 , # For pulling actions, reaction force tugs on hand rather than pushes\n",
    "                    ctrl      = robot---------------------------------------------------------------------------\n",
    "ImportError                               Traceback (most recent call last)\n",
    "<ipython-input-1-d7ebe100e1ec> in <module>\n",
    "     14 \n",
    "     15 # import\n",
    "---> 16 from rmlib.rmtools.assembly_trees.asm_tree_Basic import *\n",
    "     17 \n",
    "     18 augment_RM( robot )\n",
    "\n",
    "ImportError: No module named 'rmlib.rmtools.assembly_trees.asm_tree_Basic'; 'rmlib.rmtools.assembly_trees' is not a package\n",
    "                ) # NOTE: This behav. may be used for absolute pose if an argument for `pose` is provided\n",
    "            )   \n",
    "\n",
    "        \"\"\""
   ]
  },
  {
   "cell_type": "markdown",
   "metadata": {},
   "source": [
    "# Utils & Setup"
   ]
  },
  {
   "cell_type": "code",
   "execution_count": null,
   "metadata": {},
   "outputs": [],
   "source": [
    "robot.hand.deactivate_motors()"
   ]
  },
  {
   "cell_type": "code",
   "execution_count": 6,
   "metadata": {},
   "outputs": [
    {
     "data": {
      "text/plain": [
       "array([[-0.99961923, -0.00692351,  0.02671083, -0.14625832],\n",
       "       [-0.00578656,  0.99908353,  0.04241   , -0.30478795],\n",
       "       [-0.02697997,  0.04223928, -0.99874317,  0.26572031],\n",
       "       [ 0.        ,  0.        ,  0.        ,  1.        ]])"
      ]
     },
     "execution_count": 6,
     "metadata": {},
     "output_type": "execute_result"
    }
   ],
   "source": [
    "robot.arm.get_tcp_pose()"
   ]
  },
  {
   "cell_type": "code",
   "execution_count": null,
   "metadata": {},
   "outputs": [],
   "source": [
    "robot.hand.set_finger_torque(0.3)"
   ]
  },
  {
   "cell_type": "code",
   "execution_count": null,
   "metadata": {},
   "outputs": [],
   "source": [
    "robot.hand.set_finger_width(0.0)"
   ]
  },
  {
   "cell_type": "code",
   "execution_count": null,
   "metadata": {},
   "outputs": [],
   "source": [
    "robot.arm.move_speed( midDrillPose , 'l' , 0.125 , 0.35 , 0 , 'dummy' , False )"
   ]
  },
  {
   "cell_type": "code",
   "execution_count": 2,
   "metadata": {},
   "outputs": [
    {
     "ename": "ConnectionRefusedError",
     "evalue": "[Errno 111] Connection refused",
     "output_type": "error",
     "traceback": [
      "\u001b[0;31m---------------------------------------------------------------------------\u001b[0m",
      "\u001b[0;31mConnectionRefusedError\u001b[0m                    Traceback (most recent call last)",
      "\u001b[0;32m<ipython-input-2-d580a958017b>\u001b[0m in \u001b[0;36m<module>\u001b[0;34m\u001b[0m\n\u001b[0;32m----> 1\u001b[0;31m \u001b[0mSafePose\u001b[0m \u001b[0;34m=\u001b[0m \u001b[0mrobot\u001b[0m\u001b[0;34m.\u001b[0m\u001b[0marm\u001b[0m\u001b[0;34m.\u001b[0m\u001b[0mget_tcp_pose\u001b[0m\u001b[0;34m(\u001b[0m\u001b[0;34m)\u001b[0m \u001b[0;31m#rm.get_tcp_pose()\u001b[0m\u001b[0;34m\u001b[0m\u001b[0m\n\u001b[0m\u001b[1;32m      2\u001b[0m \u001b[0mget_ipython\u001b[0m\u001b[0;34m(\u001b[0m\u001b[0;34m)\u001b[0m\u001b[0;34m.\u001b[0m\u001b[0mrun_line_magic\u001b[0m\u001b[0;34m(\u001b[0m\u001b[0;34m'store'\u001b[0m\u001b[0;34m,\u001b[0m \u001b[0;34m'SafePose'\u001b[0m\u001b[0;34m)\u001b[0m\u001b[0;34m\u001b[0m\u001b[0m\n",
      "\u001b[0;32m~/dev_rmstudio/rmlib/rmlib/arms/ur5.py\u001b[0m in \u001b[0;36mget_tcp_pose\u001b[0;34m(self)\u001b[0m\n\u001b[1;32m    127\u001b[0m \u001b[0;34m\u001b[0m\u001b[0m\n\u001b[1;32m    128\u001b[0m         \"\"\"\n\u001b[0;32m--> 129\u001b[0;31m         \u001b[0;32mreturn\u001b[0m \u001b[0mpmath\u001b[0m\u001b[0;34m.\u001b[0m\u001b[0mpose_vec_to_mtrx\u001b[0m\u001b[0;34m(\u001b[0m\u001b[0mself\u001b[0m\u001b[0;34m.\u001b[0m\u001b[0mget_tcp_pose_vec\u001b[0m\u001b[0;34m(\u001b[0m\u001b[0;34m)\u001b[0m\u001b[0;34m)\u001b[0m\u001b[0;34m\u001b[0m\u001b[0m\n\u001b[0m\u001b[1;32m    130\u001b[0m \u001b[0;34m\u001b[0m\u001b[0m\n\u001b[1;32m    131\u001b[0m     \u001b[0;32mdef\u001b[0m \u001b[0mget_tcp_force\u001b[0m\u001b[0;34m(\u001b[0m\u001b[0mself\u001b[0m\u001b[0;34m)\u001b[0m\u001b[0;34m:\u001b[0m\u001b[0;34m\u001b[0m\u001b[0m\n",
      "\u001b[0;32m~/dev_rmstudio/rmlib/rmlib/arms/ur5.py\u001b[0m in \u001b[0;36mget_tcp_pose_vec\u001b[0;34m(self)\u001b[0m\n\u001b[1;32m    114\u001b[0m \u001b[0;34m\u001b[0m\u001b[0m\n\u001b[1;32m    115\u001b[0m         \"\"\"\n\u001b[0;32m--> 116\u001b[0;31m         \u001b[0;32mreturn\u001b[0m \u001b[0mself\u001b[0m\u001b[0;34m.\u001b[0m\u001b[0mproxy\u001b[0m\u001b[0;34m.\u001b[0m\u001b[0mget_tcp_pose\u001b[0m\u001b[0;34m(\u001b[0m\u001b[0;34m)\u001b[0m\u001b[0;34m\u001b[0m\u001b[0m\n\u001b[0m\u001b[1;32m    117\u001b[0m \u001b[0;34m\u001b[0m\u001b[0m\n\u001b[1;32m    118\u001b[0m     \u001b[0;32mdef\u001b[0m \u001b[0mget_tcp_pose\u001b[0m\u001b[0;34m(\u001b[0m\u001b[0mself\u001b[0m\u001b[0;34m)\u001b[0m\u001b[0;34m:\u001b[0m\u001b[0;34m\u001b[0m\u001b[0m\n",
      "\u001b[0;32m/usr/lib/python3.5/xmlrpc/client.py\u001b[0m in \u001b[0;36m__call__\u001b[0;34m(self, *args)\u001b[0m\n\u001b[1;32m   1090\u001b[0m         \u001b[0;32mreturn\u001b[0m \u001b[0m_Method\u001b[0m\u001b[0;34m(\u001b[0m\u001b[0mself\u001b[0m\u001b[0;34m.\u001b[0m\u001b[0m__send\u001b[0m\u001b[0;34m,\u001b[0m \u001b[0;34m\"%s.%s\"\u001b[0m \u001b[0;34m%\u001b[0m \u001b[0;34m(\u001b[0m\u001b[0mself\u001b[0m\u001b[0;34m.\u001b[0m\u001b[0m__name\u001b[0m\u001b[0;34m,\u001b[0m \u001b[0mname\u001b[0m\u001b[0;34m)\u001b[0m\u001b[0;34m)\u001b[0m\u001b[0;34m\u001b[0m\u001b[0m\n\u001b[1;32m   1091\u001b[0m     \u001b[0;32mdef\u001b[0m \u001b[0m__call__\u001b[0m\u001b[0;34m(\u001b[0m\u001b[0mself\u001b[0m\u001b[0;34m,\u001b[0m \u001b[0;34m*\u001b[0m\u001b[0margs\u001b[0m\u001b[0;34m)\u001b[0m\u001b[0;34m:\u001b[0m\u001b[0;34m\u001b[0m\u001b[0m\n\u001b[0;32m-> 1092\u001b[0;31m         \u001b[0;32mreturn\u001b[0m \u001b[0mself\u001b[0m\u001b[0;34m.\u001b[0m\u001b[0m__send\u001b[0m\u001b[0;34m(\u001b[0m\u001b[0mself\u001b[0m\u001b[0;34m.\u001b[0m\u001b[0m__name\u001b[0m\u001b[0;34m,\u001b[0m \u001b[0margs\u001b[0m\u001b[0;34m)\u001b[0m\u001b[0;34m\u001b[0m\u001b[0m\n\u001b[0m\u001b[1;32m   1093\u001b[0m \u001b[0;34m\u001b[0m\u001b[0m\n\u001b[1;32m   1094\u001b[0m \u001b[0;31m##\u001b[0m\u001b[0;34m\u001b[0m\u001b[0;34m\u001b[0m\u001b[0m\n",
      "\u001b[0;32m/usr/lib/python3.5/xmlrpc/client.py\u001b[0m in \u001b[0;36m__request\u001b[0;34m(self, methodname, params)\u001b[0m\n\u001b[1;32m   1430\u001b[0m             \u001b[0mself\u001b[0m\u001b[0;34m.\u001b[0m\u001b[0m__handler\u001b[0m\u001b[0;34m,\u001b[0m\u001b[0;34m\u001b[0m\u001b[0m\n\u001b[1;32m   1431\u001b[0m             \u001b[0mrequest\u001b[0m\u001b[0;34m,\u001b[0m\u001b[0;34m\u001b[0m\u001b[0m\n\u001b[0;32m-> 1432\u001b[0;31m             \u001b[0mverbose\u001b[0m\u001b[0;34m=\u001b[0m\u001b[0mself\u001b[0m\u001b[0;34m.\u001b[0m\u001b[0m__verbose\u001b[0m\u001b[0;34m\u001b[0m\u001b[0m\n\u001b[0m\u001b[1;32m   1433\u001b[0m             )\n\u001b[1;32m   1434\u001b[0m \u001b[0;34m\u001b[0m\u001b[0m\n",
      "\u001b[0;32m/usr/lib/python3.5/xmlrpc/client.py\u001b[0m in \u001b[0;36mrequest\u001b[0;34m(self, host, handler, request_body, verbose)\u001b[0m\n\u001b[1;32m   1132\u001b[0m         \u001b[0;32mfor\u001b[0m \u001b[0mi\u001b[0m \u001b[0;32min\u001b[0m \u001b[0;34m(\u001b[0m\u001b[0;36m0\u001b[0m\u001b[0;34m,\u001b[0m \u001b[0;36m1\u001b[0m\u001b[0;34m)\u001b[0m\u001b[0;34m:\u001b[0m\u001b[0;34m\u001b[0m\u001b[0m\n\u001b[1;32m   1133\u001b[0m             \u001b[0;32mtry\u001b[0m\u001b[0;34m:\u001b[0m\u001b[0;34m\u001b[0m\u001b[0m\n\u001b[0;32m-> 1134\u001b[0;31m                 \u001b[0;32mreturn\u001b[0m \u001b[0mself\u001b[0m\u001b[0;34m.\u001b[0m\u001b[0msingle_request\u001b[0m\u001b[0;34m(\u001b[0m\u001b[0mhost\u001b[0m\u001b[0;34m,\u001b[0m \u001b[0mhandler\u001b[0m\u001b[0;34m,\u001b[0m \u001b[0mrequest_body\u001b[0m\u001b[0;34m,\u001b[0m \u001b[0mverbose\u001b[0m\u001b[0;34m)\u001b[0m\u001b[0;34m\u001b[0m\u001b[0m\n\u001b[0m\u001b[1;32m   1135\u001b[0m             \u001b[0;32mexcept\u001b[0m \u001b[0mhttp\u001b[0m\u001b[0;34m.\u001b[0m\u001b[0mclient\u001b[0m\u001b[0;34m.\u001b[0m\u001b[0mRemoteDisconnected\u001b[0m\u001b[0;34m:\u001b[0m\u001b[0;34m\u001b[0m\u001b[0m\n\u001b[1;32m   1136\u001b[0m                 \u001b[0;32mif\u001b[0m \u001b[0mi\u001b[0m\u001b[0;34m:\u001b[0m\u001b[0;34m\u001b[0m\u001b[0m\n",
      "\u001b[0;32m/usr/lib/python3.5/xmlrpc/client.py\u001b[0m in \u001b[0;36msingle_request\u001b[0;34m(self, host, handler, request_body, verbose)\u001b[0m\n\u001b[1;32m   1144\u001b[0m         \u001b[0;31m# issue XML-RPC request\u001b[0m\u001b[0;34m\u001b[0m\u001b[0;34m\u001b[0m\u001b[0m\n\u001b[1;32m   1145\u001b[0m         \u001b[0;32mtry\u001b[0m\u001b[0;34m:\u001b[0m\u001b[0;34m\u001b[0m\u001b[0m\n\u001b[0;32m-> 1146\u001b[0;31m             \u001b[0mhttp_conn\u001b[0m \u001b[0;34m=\u001b[0m \u001b[0mself\u001b[0m\u001b[0;34m.\u001b[0m\u001b[0msend_request\u001b[0m\u001b[0;34m(\u001b[0m\u001b[0mhost\u001b[0m\u001b[0;34m,\u001b[0m \u001b[0mhandler\u001b[0m\u001b[0;34m,\u001b[0m \u001b[0mrequest_body\u001b[0m\u001b[0;34m,\u001b[0m \u001b[0mverbose\u001b[0m\u001b[0;34m)\u001b[0m\u001b[0;34m\u001b[0m\u001b[0m\n\u001b[0m\u001b[1;32m   1147\u001b[0m             \u001b[0mresp\u001b[0m \u001b[0;34m=\u001b[0m \u001b[0mhttp_conn\u001b[0m\u001b[0;34m.\u001b[0m\u001b[0mgetresponse\u001b[0m\u001b[0;34m(\u001b[0m\u001b[0;34m)\u001b[0m\u001b[0;34m\u001b[0m\u001b[0m\n\u001b[1;32m   1148\u001b[0m             \u001b[0;32mif\u001b[0m \u001b[0mresp\u001b[0m\u001b[0;34m.\u001b[0m\u001b[0mstatus\u001b[0m \u001b[0;34m==\u001b[0m \u001b[0;36m200\u001b[0m\u001b[0;34m:\u001b[0m\u001b[0;34m\u001b[0m\u001b[0m\n",
      "\u001b[0;32m/usr/lib/python3.5/xmlrpc/client.py\u001b[0m in \u001b[0;36msend_request\u001b[0;34m(self, host, handler, request_body, debug)\u001b[0m\n\u001b[1;32m   1257\u001b[0m         \u001b[0mheaders\u001b[0m\u001b[0;34m.\u001b[0m\u001b[0mappend\u001b[0m\u001b[0;34m(\u001b[0m\u001b[0;34m(\u001b[0m\u001b[0;34m\"User-Agent\"\u001b[0m\u001b[0;34m,\u001b[0m \u001b[0mself\u001b[0m\u001b[0;34m.\u001b[0m\u001b[0muser_agent\u001b[0m\u001b[0;34m)\u001b[0m\u001b[0;34m)\u001b[0m\u001b[0;34m\u001b[0m\u001b[0m\n\u001b[1;32m   1258\u001b[0m         \u001b[0mself\u001b[0m\u001b[0;34m.\u001b[0m\u001b[0msend_headers\u001b[0m\u001b[0;34m(\u001b[0m\u001b[0mconnection\u001b[0m\u001b[0;34m,\u001b[0m \u001b[0mheaders\u001b[0m\u001b[0;34m)\u001b[0m\u001b[0;34m\u001b[0m\u001b[0m\n\u001b[0;32m-> 1259\u001b[0;31m         \u001b[0mself\u001b[0m\u001b[0;34m.\u001b[0m\u001b[0msend_content\u001b[0m\u001b[0;34m(\u001b[0m\u001b[0mconnection\u001b[0m\u001b[0;34m,\u001b[0m \u001b[0mrequest_body\u001b[0m\u001b[0;34m)\u001b[0m\u001b[0;34m\u001b[0m\u001b[0m\n\u001b[0m\u001b[1;32m   1260\u001b[0m         \u001b[0;32mreturn\u001b[0m \u001b[0mconnection\u001b[0m\u001b[0;34m\u001b[0m\u001b[0m\n\u001b[1;32m   1261\u001b[0m \u001b[0;34m\u001b[0m\u001b[0m\n",
      "\u001b[0;32m/usr/lib/python3.5/xmlrpc/client.py\u001b[0m in \u001b[0;36msend_content\u001b[0;34m(self, connection, request_body)\u001b[0m\n\u001b[1;32m   1287\u001b[0m \u001b[0;34m\u001b[0m\u001b[0m\n\u001b[1;32m   1288\u001b[0m         \u001b[0mconnection\u001b[0m\u001b[0;34m.\u001b[0m\u001b[0mputheader\u001b[0m\u001b[0;34m(\u001b[0m\u001b[0;34m\"Content-Length\"\u001b[0m\u001b[0;34m,\u001b[0m \u001b[0mstr\u001b[0m\u001b[0;34m(\u001b[0m\u001b[0mlen\u001b[0m\u001b[0;34m(\u001b[0m\u001b[0mrequest_body\u001b[0m\u001b[0;34m)\u001b[0m\u001b[0;34m)\u001b[0m\u001b[0;34m)\u001b[0m\u001b[0;34m\u001b[0m\u001b[0m\n\u001b[0;32m-> 1289\u001b[0;31m         \u001b[0mconnection\u001b[0m\u001b[0;34m.\u001b[0m\u001b[0mendheaders\u001b[0m\u001b[0;34m(\u001b[0m\u001b[0mrequest_body\u001b[0m\u001b[0;34m)\u001b[0m\u001b[0;34m\u001b[0m\u001b[0m\n\u001b[0m\u001b[1;32m   1290\u001b[0m \u001b[0;34m\u001b[0m\u001b[0m\n\u001b[1;32m   1291\u001b[0m     \u001b[0;31m##\u001b[0m\u001b[0;34m\u001b[0m\u001b[0;34m\u001b[0m\u001b[0m\n",
      "\u001b[0;32m/usr/lib/python3.5/http/client.py\u001b[0m in \u001b[0;36mendheaders\u001b[0;34m(self, message_body)\u001b[0m\n\u001b[1;32m   1145\u001b[0m         \u001b[0;32melse\u001b[0m\u001b[0;34m:\u001b[0m\u001b[0;34m\u001b[0m\u001b[0m\n\u001b[1;32m   1146\u001b[0m             \u001b[0;32mraise\u001b[0m \u001b[0mCannotSendHeader\u001b[0m\u001b[0;34m(\u001b[0m\u001b[0;34m)\u001b[0m\u001b[0;34m\u001b[0m\u001b[0m\n\u001b[0;32m-> 1147\u001b[0;31m         \u001b[0mself\u001b[0m\u001b[0;34m.\u001b[0m\u001b[0m_send_output\u001b[0m\u001b[0;34m(\u001b[0m\u001b[0mmessage_body\u001b[0m\u001b[0;34m)\u001b[0m\u001b[0;34m\u001b[0m\u001b[0m\n\u001b[0m\u001b[1;32m   1148\u001b[0m \u001b[0;34m\u001b[0m\u001b[0m\n\u001b[1;32m   1149\u001b[0m     \u001b[0;32mdef\u001b[0m \u001b[0mrequest\u001b[0m\u001b[0;34m(\u001b[0m\u001b[0mself\u001b[0m\u001b[0;34m,\u001b[0m \u001b[0mmethod\u001b[0m\u001b[0;34m,\u001b[0m \u001b[0murl\u001b[0m\u001b[0;34m,\u001b[0m \u001b[0mbody\u001b[0m\u001b[0;34m=\u001b[0m\u001b[0;32mNone\u001b[0m\u001b[0;34m,\u001b[0m \u001b[0mheaders\u001b[0m\u001b[0;34m=\u001b[0m\u001b[0;34m{\u001b[0m\u001b[0;34m}\u001b[0m\u001b[0;34m)\u001b[0m\u001b[0;34m:\u001b[0m\u001b[0;34m\u001b[0m\u001b[0m\n",
      "\u001b[0;32m/usr/lib/python3.5/http/client.py\u001b[0m in \u001b[0;36m_send_output\u001b[0;34m(self, message_body)\u001b[0m\n\u001b[1;32m    948\u001b[0m         \u001b[0;32mdel\u001b[0m \u001b[0mself\u001b[0m\u001b[0;34m.\u001b[0m\u001b[0m_buffer\u001b[0m\u001b[0;34m[\u001b[0m\u001b[0;34m:\u001b[0m\u001b[0;34m]\u001b[0m\u001b[0;34m\u001b[0m\u001b[0m\n\u001b[1;32m    949\u001b[0m \u001b[0;34m\u001b[0m\u001b[0m\n\u001b[0;32m--> 950\u001b[0;31m         \u001b[0mself\u001b[0m\u001b[0;34m.\u001b[0m\u001b[0msend\u001b[0m\u001b[0;34m(\u001b[0m\u001b[0mmsg\u001b[0m\u001b[0;34m)\u001b[0m\u001b[0;34m\u001b[0m\u001b[0m\n\u001b[0m\u001b[1;32m    951\u001b[0m         \u001b[0;32mif\u001b[0m \u001b[0mmessage_body\u001b[0m \u001b[0;32mis\u001b[0m \u001b[0;32mnot\u001b[0m \u001b[0;32mNone\u001b[0m\u001b[0;34m:\u001b[0m\u001b[0;34m\u001b[0m\u001b[0m\n\u001b[1;32m    952\u001b[0m             \u001b[0mself\u001b[0m\u001b[0;34m.\u001b[0m\u001b[0msend\u001b[0m\u001b[0;34m(\u001b[0m\u001b[0mmessage_body\u001b[0m\u001b[0;34m)\u001b[0m\u001b[0;34m\u001b[0m\u001b[0m\n",
      "\u001b[0;32m/usr/lib/python3.5/http/client.py\u001b[0m in \u001b[0;36msend\u001b[0;34m(self, data)\u001b[0m\n\u001b[1;32m    891\u001b[0m         \u001b[0;32mif\u001b[0m \u001b[0mself\u001b[0m\u001b[0;34m.\u001b[0m\u001b[0msock\u001b[0m \u001b[0;32mis\u001b[0m \u001b[0;32mNone\u001b[0m\u001b[0;34m:\u001b[0m\u001b[0;34m\u001b[0m\u001b[0m\n\u001b[1;32m    892\u001b[0m             \u001b[0;32mif\u001b[0m \u001b[0mself\u001b[0m\u001b[0;34m.\u001b[0m\u001b[0mauto_open\u001b[0m\u001b[0;34m:\u001b[0m\u001b[0;34m\u001b[0m\u001b[0m\n\u001b[0;32m--> 893\u001b[0;31m                 \u001b[0mself\u001b[0m\u001b[0;34m.\u001b[0m\u001b[0mconnect\u001b[0m\u001b[0;34m(\u001b[0m\u001b[0;34m)\u001b[0m\u001b[0;34m\u001b[0m\u001b[0m\n\u001b[0m\u001b[1;32m    894\u001b[0m             \u001b[0;32melse\u001b[0m\u001b[0;34m:\u001b[0m\u001b[0;34m\u001b[0m\u001b[0m\n\u001b[1;32m    895\u001b[0m                 \u001b[0;32mraise\u001b[0m \u001b[0mNotConnected\u001b[0m\u001b[0;34m(\u001b[0m\u001b[0;34m)\u001b[0m\u001b[0;34m\u001b[0m\u001b[0m\n",
      "\u001b[0;32m/usr/lib/python3.5/http/client.py\u001b[0m in \u001b[0;36mconnect\u001b[0;34m(self)\u001b[0m\n\u001b[1;32m    863\u001b[0m         \u001b[0;34m\"\"\"Connect to the host and port specified in __init__.\"\"\"\u001b[0m\u001b[0;34m\u001b[0m\u001b[0m\n\u001b[1;32m    864\u001b[0m         self.sock = self._create_connection(\n\u001b[0;32m--> 865\u001b[0;31m             (self.host,self.port), self.timeout, self.source_address)\n\u001b[0m\u001b[1;32m    866\u001b[0m         \u001b[0mself\u001b[0m\u001b[0;34m.\u001b[0m\u001b[0msock\u001b[0m\u001b[0;34m.\u001b[0m\u001b[0msetsockopt\u001b[0m\u001b[0;34m(\u001b[0m\u001b[0msocket\u001b[0m\u001b[0;34m.\u001b[0m\u001b[0mIPPROTO_TCP\u001b[0m\u001b[0;34m,\u001b[0m \u001b[0msocket\u001b[0m\u001b[0;34m.\u001b[0m\u001b[0mTCP_NODELAY\u001b[0m\u001b[0;34m,\u001b[0m \u001b[0;36m1\u001b[0m\u001b[0;34m)\u001b[0m\u001b[0;34m\u001b[0m\u001b[0m\n\u001b[1;32m    867\u001b[0m \u001b[0;34m\u001b[0m\u001b[0m\n",
      "\u001b[0;32m/usr/lib/python3.5/socket.py\u001b[0m in \u001b[0;36mcreate_connection\u001b[0;34m(address, timeout, source_address)\u001b[0m\n\u001b[1;32m    709\u001b[0m \u001b[0;34m\u001b[0m\u001b[0m\n\u001b[1;32m    710\u001b[0m     \u001b[0;32mif\u001b[0m \u001b[0merr\u001b[0m \u001b[0;32mis\u001b[0m \u001b[0;32mnot\u001b[0m \u001b[0;32mNone\u001b[0m\u001b[0;34m:\u001b[0m\u001b[0;34m\u001b[0m\u001b[0m\n\u001b[0;32m--> 711\u001b[0;31m         \u001b[0;32mraise\u001b[0m \u001b[0merr\u001b[0m\u001b[0;34m\u001b[0m\u001b[0m\n\u001b[0m\u001b[1;32m    712\u001b[0m     \u001b[0;32melse\u001b[0m\u001b[0;34m:\u001b[0m\u001b[0;34m\u001b[0m\u001b[0m\n\u001b[1;32m    713\u001b[0m         \u001b[0;32mraise\u001b[0m \u001b[0merror\u001b[0m\u001b[0;34m(\u001b[0m\u001b[0;34m\"getaddrinfo returns an empty list\"\u001b[0m\u001b[0;34m)\u001b[0m\u001b[0;34m\u001b[0m\u001b[0m\n",
      "\u001b[0;32m/usr/lib/python3.5/socket.py\u001b[0m in \u001b[0;36mcreate_connection\u001b[0;34m(address, timeout, source_address)\u001b[0m\n\u001b[1;32m    700\u001b[0m             \u001b[0;32mif\u001b[0m \u001b[0msource_address\u001b[0m\u001b[0;34m:\u001b[0m\u001b[0;34m\u001b[0m\u001b[0m\n\u001b[1;32m    701\u001b[0m                 \u001b[0msock\u001b[0m\u001b[0;34m.\u001b[0m\u001b[0mbind\u001b[0m\u001b[0;34m(\u001b[0m\u001b[0msource_address\u001b[0m\u001b[0;34m)\u001b[0m\u001b[0;34m\u001b[0m\u001b[0m\n\u001b[0;32m--> 702\u001b[0;31m             \u001b[0msock\u001b[0m\u001b[0;34m.\u001b[0m\u001b[0mconnect\u001b[0m\u001b[0;34m(\u001b[0m\u001b[0msa\u001b[0m\u001b[0;34m)\u001b[0m\u001b[0;34m\u001b[0m\u001b[0m\n\u001b[0m\u001b[1;32m    703\u001b[0m             \u001b[0;32mreturn\u001b[0m \u001b[0msock\u001b[0m\u001b[0;34m\u001b[0m\u001b[0m\n\u001b[1;32m    704\u001b[0m \u001b[0;34m\u001b[0m\u001b[0m\n",
      "\u001b[0;31mConnectionRefusedError\u001b[0m: [Errno 111] Connection refused"
     ]
    }
   ],
   "source": [
    "SafePose = robot.arm.get_tcp_pose() #rm.get_tcp_pose()\n",
    "%store SafePose"
   ]
  },
  {
   "cell_type": "code",
   "execution_count": null,
   "metadata": {},
   "outputs": [],
   "source": [
    "robot.arm.move_speed( aboveTableDrill , 'l' , 0.125 , 0.35 , 0 , 'dummy' , False )"
   ]
  },
  {
   "cell_type": "markdown",
   "metadata": {},
   "source": [
    "# Run this after teaching any poses"
   ]
  },
  {
   "cell_type": "code",
   "execution_count": null,
   "metadata": {},
   "outputs": [],
   "source": [
    "import pickle , traceback\n",
    "\n",
    "def save_names_to_PKL( pklPath , nameStringList ):\n",
    "    pklStruct = {}\n",
    "    print( vars() )\n",
    "    for name in nameStringList:\n",
    "        pklStruct[ name ] = globals()[ name ]\n",
    "        \n",
    "    with open( pklPath , \"wb\" ) as f:\n",
    "        try:\n",
    "            print( \"Pickling\" , pklPath , end = '... ' )\n",
    "            pickle.dump( pklStruct , f )\n",
    "            print( \"Success!\" )\n",
    "        except Exception as er:\n",
    "            print( \"FAILURE! :\" , er )\n",
    "            traceback.print_exc()\n",
    "    print( \"### Completed Writing\" , pklPath , \"###\" )\n",
    "    \n",
    "save_names_to_PKL( \n",
    "    pklPath = \"taughtPoses.pkl\" , \n",
    "    nameStringList = [  \n",
    "        'startPose' ,\n",
    "        'M8_GraspPose' , 'M6_GraspPose' , 'M4_GraspPose' , 'GearShaft1_Setdown' , 'GearShaft2_Setdown' , \n",
    "        'BNC_Ma_Setdown' , 'KeySm_Setdown' , 'KeyLg_Setdown' , 'ShaftSm_Setdown' , 'ShaftLg_Setdown' , \n",
    "        'KeyLg_Grasp' , 'ShaftLg_Grasp' , 'BNC_Fe_Grasp' , 'ShaftSm_Grasp' , \n",
    "        'GearLg_Grasp' , 'GearLg_Grasp' , 'Ether_setdown' , \n",
    "        'M8_1_mag' , 'M8_2_mag' , 'M8_3_mag' , 'M8_4_mag' , 'M8_5_mag' , 'M8_6_mag' ,\n",
    "        'M6_1_mag' , 'M6_2_mag' , 'M6_3_mag' , 'M6_4_mag' , 'M6_5_mag' , 'M6_6_mag' ,\n",
    "        'M4_1_mag' , 'M4_2_mag' , 'M4_3_mag' , 'M4_4_mag' , 'M4_5_mag' , 'M4_6_mag' ,\n",
    "        'releasePose' , 'SAFE_POSE' , 'midDrillPose' , \n",
    "        '_LRG_GEAR_DEX' , '_SML_GEAR_DEX', 'aboveTableDrill'\n",
    "    ]\n",
    ")"
   ]
  },
  {
   "cell_type": "code",
   "execution_count": null,
   "metadata": {},
   "outputs": [],
   "source": []
  }
 ],
 "metadata": {
  "kernelspec": {
   "display_name": "Python 3",
   "language": "python",
   "name": "python3"
  },
  "language_info": {
   "codemirror_mode": {
    "name": "ipython",
    "version": 3
   },
   "file_extension": ".py",
   "mimetype": "text/x-python",
   "name": "python",
   "nbconvert_exporter": "python",
   "pygments_lexer": "ipython3",
   "version": "3.5.2"
  }
 },
 "nbformat": 4,
 "nbformat_minor": 4
}
