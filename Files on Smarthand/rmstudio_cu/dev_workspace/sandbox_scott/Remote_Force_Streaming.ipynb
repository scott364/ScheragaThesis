{
 "cells": [
  {
   "cell_type": "markdown",
   "metadata": {},
   "source": [
    "* This is meant to be run on a computer other than the SmartHand\n",
    "* `dev_rmstudio` is not required\n",
    "* You may choose to sample at a rate greater than or less than the streaming rate, the XML-RPC server will just return the last force reading (sample-and-hold strategy)"
   ]
  },
  {
   "cell_type": "code",
   "execution_count": 1,
   "metadata": {},
   "outputs": [],
   "source": [
    "from remote_FT_client import RemoteFTclient\n",
    "from time import sleep"
   ]
  },
  {
   "cell_type": "code",
   "execution_count": 2,
   "metadata": {},
   "outputs": [
    {
     "name": "stdout",
     "output_type": "stream",
     "text": [
      "Connected to http://192.168.0.103:10000\n",
      "['bias_ft', 'get_ft', 'system.listMethods', 'system.methodHelp', 'system.methodSignature']\n"
     ]
    }
   ],
   "source": [
    "client = RemoteFTclient( '192.168.0.103', 10000 )\n",
    "print( client.prxy.system.listMethods() )"
   ]
  },
  {
   "cell_type": "code",
   "execution_count": 3,
   "metadata": {},
   "outputs": [
    {
     "name": "stdout",
     "output_type": "stream",
     "text": [
      "Get wrist force:\n",
      "\t [-0.2, 0.0, 0.2, 0.01, -0.002, -0.01]\n",
      "\t [-0.2, -0.1, -0.1, -0.001, -0.008, -0.007]\n",
      "\t [-0.2, 0.0, -0.7, 0.015, 0.002, -0.003]\n",
      "\t [-0.2, -0.1, -0.5, 0.014, -0.001, -0.001]\n",
      "\t [-0.4, 0.0, -0.9, 0.008, 0.01899, -0.006]\n",
      "Bias wrist force\n",
      "\t [-0.1, -0.1, 0.3, 0.008, -0.007, -0.002]\n",
      "\t [-0.3, 0.0, 0.1, 0.013, -0.008, -0.005]\n",
      "\t [-0.2, 0.0, -0.3, 0.01799, -0.00899, -0.003]\n",
      "\t [-0.3, 0.0, -0.1, 0.006, 0.001, -0.007]\n",
      "\t [-0.2, 0.0, 0.8, 0.017, 0.002, 0.0]\n"
     ]
    }
   ],
   "source": [
    "print( \"Get wrist force:\" )\n",
    "\n",
    "for i in range(5):\n",
    "    print( '\\t', client.get_wrist_force() )\n",
    "    sleep( 0.020 )\n",
    "    \n",
    "print( \"Bias wrist force\" )\n",
    "client.bias_wrist_force()\n",
    "sleep( 3.0 )\n",
    "\n",
    "for i in range(5):\n",
    "    print( '\\t', client.get_wrist_force() )\n",
    "    sleep( 0.020 )"
   ]
  },
  {
   "cell_type": "code",
   "execution_count": 8,
   "metadata": {},
   "outputs": [
    {
     "name": "stdout",
     "output_type": "stream",
     "text": [
      "\t [6.2, -0.1, -0.1, 0.062, 0.628, -0.08]\n"
     ]
    }
   ],
   "source": [
    "print( '\\t', client.get_wrist_force() )"
   ]
  },
  {
   "cell_type": "code",
   "execution_count": 9,
   "metadata": {},
   "outputs": [
    {
     "name": "stdout",
     "output_type": "stream",
     "text": [
      "\t [5.8, -0.3, -0.8, 0.079, 0.595, -0.074]\n"
     ]
    }
   ],
   "source": [
    "print( '\\t', client.get_wrist_force() )"
   ]
  },
  {
   "cell_type": "code",
   "execution_count": null,
   "metadata": {},
   "outputs": [],
   "source": []
  }
 ],
 "metadata": {
  "kernelspec": {
   "display_name": "Python 3",
   "language": "python",
   "name": "python3"
  },
  "language_info": {
   "codemirror_mode": {
    "name": "ipython",
    "version": 3
   },
   "file_extension": ".py",
   "mimetype": "text/x-python",
   "name": "python",
   "nbconvert_exporter": "python",
   "pygments_lexer": "ipython3",
   "version": "3.6.9"
  }
 },
 "nbformat": 4,
 "nbformat_minor": 4
}
