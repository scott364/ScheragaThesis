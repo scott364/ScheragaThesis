{
 "cells": [
  {
   "cell_type": "code",
   "execution_count": 5,
   "metadata": {},
   "outputs": [
    {
     "name": "stdout",
     "output_type": "stream",
     "text": [
      "Connected by ('192.168.0.102', 37510)\n"
     ]
    },
    {
     "name": "stdin",
     "output_type": "stream",
     "text": [
      " g\n"
     ]
    },
    {
     "name": "stdout",
     "output_type": "stream",
     "text": [
      "[[-0.99934441 -0.00610222  0.03568637 -0.14532579]\n",
      " [-0.00426994  0.99867947  0.05119661 -0.30391228]\n",
      " [-0.03595166  0.05101066 -0.9980508   0.26136942]\n",
      " [ 0.          0.          0.          1.        ]]\n"
     ]
    },
    {
     "name": "stdin",
     "output_type": "stream",
     "text": [
      " end\n"
     ]
    },
    {
     "name": "stdout",
     "output_type": "stream",
     "text": [
      "b'end'\n"
     ]
    }
   ],
   "source": [
    "import socket\n",
    "import numpy as np\n",
    "import struct\n",
    "\n",
    "#HOST = '127.0.0.1'  # Standard loopback interface address (localhost)\n",
    "HOST = '192.168.0.103'\n",
    "\n",
    "#192.168.0.103\n",
    "PORT = 65453       # Port to listen on (non-privileged ports are > 1023)\n",
    "\n",
    "with socket.socket(socket.AF_INET, socket.SOCK_STREAM) as s:\n",
    "    s.bind((HOST, PORT))\n",
    "    s.listen()\n",
    "    \n",
    "    #s.settimeout(0.1)\n",
    "    conn, addr = s.accept()\n",
    "    with conn:\n",
    "        print('Connected by', addr)\n",
    "        s.setblocking(False)\n",
    "        inputstring=0\n",
    "        while True:\n",
    "            #while inputstring!='end':\n",
    "                inputstring=input(\"\") #Press Enter to continue...\n",
    "                if (inputstring=='h' or inputstring=='j' or inputstring=='k' or inputstring=='l' or \n",
    "                    inputstring=='u' or inputstring=='o'or inputstring=='y' or inputstring=='i' or \n",
    "                    inputstring=='z' or inputstring=='x' or inputstring=='d' or inputstring=='c'or\n",
    "                    inputstring=='home'):\n",
    "                    \n",
    "                    data=inputstring.encode('ascii')    \n",
    "                    print(data)\n",
    "                    conn.send(data)\n",
    "                  \n",
    "                if inputstring=='g': \n",
    "                    data=np.array([[-0.99934441,-0.00610222  ,0.03568637 ,-0.14532579],\n",
    "                                   [-0.00426994  ,0.99867947  ,0.05119661 ,-0.30391228],\n",
    "                                   [-0.03595166  ,0.05101066 ,-0.9980508  , 0.26136942],\n",
    "                                   [ 0.          ,0.          ,0.          ,1.        ]])\n",
    "\n",
    "                    print(data)\n",
    "                            #dat=bytes(data[i][j])#.encode('ascii')  arr.tolist()\n",
    "                    dat=struct.pack('ffffffffffffffff',\n",
    "                                data[0][0],data[0][1],data[0][2],data[0][3],\n",
    "                                data[1][0],data[1][1],data[1][2],data[1][3],\n",
    "                                data[2][0],data[2][1],data[2][2],data[2][3],\n",
    "                                data[3][0],data[3][1],data[3][2],data[3][3])\n",
    "                    conn.send(dat)\n",
    "                \n",
    "                    \n",
    "                if inputstring=='end': \n",
    "                    data=b'end'\n",
    "                    print(data)\n",
    "                    conn.send(data) \n",
    "                    break\n",
    "                #data = conn.recv(1024)\n",
    "                \n",
    "                #if not data:\n",
    "                   # break\n",
    "                "
   ]
  },
  {
   "cell_type": "code",
   "execution_count": 2,
   "metadata": {},
   "outputs": [
    {
     "name": "stdout",
     "output_type": "stream",
     "text": [
      "[-0.99934441 -0.00610222  0.03568637 -0.14532579]\n",
      "[-0.99934441, -0.00610222, 0.03568637, -0.14532579]\n"
     ]
    }
   ],
   "source": [
    "data=np.array([[-0.99934441,-0.00610222  ,0.03568637 ,-0.14532579],\n",
    "                                   [-0.00426994  ,0.99867947  ,0.05119661 ,-0.30391228],\n",
    "                                   [-0.03595166  ,0.05101066 ,-0.9980508  , 0.26136942],\n",
    "                                   [ 0.          ,0.          ,0.          ,1.        ]])\n",
    "\n",
    "print(data[i][:])\n",
    "print(data[i][:].tolist())"
   ]
  },
  {
   "cell_type": "code",
   "execution_count": 7,
   "metadata": {},
   "outputs": [
    {
     "name": "stdout",
     "output_type": "stream",
     "text": [
      "-0.99934441\n",
      "-0.00610222\n",
      "0.03568637\n",
      "-0.14532579\n",
      "-0.00426994\n",
      "0.99867947\n",
      "0.05119661\n",
      "-0.30391228\n",
      "-0.03595166\n",
      "0.05101066\n",
      "-0.9980508\n",
      "0.26136942\n",
      "0.0\n",
      "0.0\n",
      "0.0\n",
      "1.0\n"
     ]
    }
   ],
   "source": [
    "import numpy as np\n",
    "\n",
    "a=np.array([[-0.99934441,-0.00610222  ,0.03568637 ,-0.14532579],\n",
    " [-0.00426994  ,0.99867947  ,0.05119661 ,-0.30391228],\n",
    " [-0.03595166  ,0.05101066 ,-0.9980508  , 0.26136942],\n",
    " [ 0.          ,0.          ,0.          ,1.        ]])\n",
    "\n",
    "for i in range(4):\n",
    "    for j in range(4):   \n",
    "        dat=data[i][j]\n",
    "        print(dat)"
   ]
  },
  {
   "cell_type": "code",
   "execution_count": 17,
   "metadata": {},
   "outputs": [
    {
     "name": "stdout",
     "output_type": "stream",
     "text": [
      "[[-0.99934441 -0.00610222  0.03568637]\n",
      " [-0.00426994  0.99867947  0.05119661]\n",
      " [-0.03595166  0.05101066 -0.9980508 ]]\n"
     ]
    }
   ],
   "source": [
    "print(a[0:3,0:3])"
   ]
  },
  {
   "cell_type": "code",
   "execution_count": 11,
   "metadata": {},
   "outputs": [
    {
     "ename": "SyntaxError",
     "evalue": "invalid syntax (<ipython-input-11-fccbde121c31>, line 1)",
     "output_type": "error",
     "traceback": [
      "\u001b[0;36m  File \u001b[0;32m\"<ipython-input-11-fccbde121c31>\"\u001b[0;36m, line \u001b[0;32m1\u001b[0m\n\u001b[0;31m    c=np.ndarray([[-0.99934441 -0.00610222  0.03568637 -0.14532579]\u001b[0m\n\u001b[0m                                                     ^\u001b[0m\n\u001b[0;31mSyntaxError\u001b[0m\u001b[0;31m:\u001b[0m invalid syntax\n"
     ]
    }
   ],
   "source": []
  },
  {
   "cell_type": "code",
   "execution_count": 7,
   "metadata": {},
   "outputs": [
    {
     "name": "stdout",
     "output_type": "stream",
     "text": [
      "b'\\x01\\x00\\x02\\x00\\x05\\x00\\x00\\x00\\xbd\\x01\\x00\\x00\\x00\\x00\\x00\\x00'\n",
      "(True, 2, 5, 445)\n",
      "b'\\x05\\x00\\x00\\x00\\x00\\x00\\x00\\x0033\\x13@'\n",
      "(5, 2.299999952316284)\n"
     ]
    }
   ],
   "source": [
    "import struct\n",
    "  \n",
    "# '?' -> _BOOL , 'h' -> short, 'i' -> int and 'l' -> long\n",
    "var = struct.pack('?hil', True, 2, 5, 445)\n",
    "print(var)\n",
    "  \n",
    "# struct.unpack() return a tuples\n",
    "# Variables V1, V2, V3,.. are returned as elements of tuple\n",
    "tup = struct.unpack('?hil', var)\n",
    "print(tup)\n",
    "  \n",
    "# q -> long long int and f -> float\n",
    "var = struct.pack('qf', 5, 2.3)\n",
    "print(var)\n",
    "tup = struct.unpack('qf', var)\n",
    "print(tup)"
   ]
  },
  {
   "cell_type": "code",
   "execution_count": null,
   "metadata": {},
   "outputs": [],
   "source": []
  }
 ],
 "metadata": {
  "kernelspec": {
   "display_name": "Python 3",
   "language": "python",
   "name": "python3"
  },
  "language_info": {
   "codemirror_mode": {
    "name": "ipython",
    "version": 3
   },
   "file_extension": ".py",
   "mimetype": "text/x-python",
   "name": "python",
   "nbconvert_exporter": "python",
   "pygments_lexer": "ipython3",
   "version": "3.5.2"
  }
 },
 "nbformat": 4,
 "nbformat_minor": 4
}
