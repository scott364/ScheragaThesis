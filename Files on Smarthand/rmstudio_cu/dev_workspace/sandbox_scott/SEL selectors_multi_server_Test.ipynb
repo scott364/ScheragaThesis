{
 "cells": [
  {
   "cell_type": "code",
   "execution_count": 2,
   "metadata": {},
   "outputs": [],
   "source": [
    "from selectors_multi_server import SelectorsMultiServer\n",
    "HOST_SnS = '192.168.0.103'\n",
    "PORT_SnS = 65498\n",
    "HOST_DC = '192.168.0.103'\n",
    "PORT_DC = 65488\n",
    "\n",
    "SnS_server_address = (HOST_SnS, PORT_SnS)\n",
    "DC_server_address = (HOST_DC, PORT_DC)\n",
    "\n",
    "def SnS_read_callback(connection, data):\n",
    "    connection.sendall(data + b\" SnS\\n\")\n",
    "\n",
    "\n",
    "def DC_read_callback(connection, data):\n",
    "    connection.sendall(data + b\" DC\\n\")\n",
    "\n",
    "\n"
   ]
  },
  {
   "cell_type": "code",
   "execution_count": 1,
   "metadata": {},
   "outputs": [
    {
     "ename": "NameError",
     "evalue": "name 'SnS_read_callback' is not defined",
     "output_type": "error",
     "traceback": [
      "\u001b[0;31m---------------------------------------------------------------------------\u001b[0m",
      "\u001b[0;31mNameError\u001b[0m                                 Traceback (most recent call last)",
      "\u001b[0;32m<ipython-input-1-8ac428d44186>\u001b[0m in \u001b[0;36m<module>\u001b[0;34m\u001b[0m\n\u001b[1;32m      1\u001b[0m server_data = {\n\u001b[0;32m----> 2\u001b[0;31m     \u001b[0;34m\"SnS\"\u001b[0m\u001b[0;34m:\u001b[0m \u001b[0;34m(\u001b[0m\u001b[0mSnS_read_callback\u001b[0m\u001b[0;34m,\u001b[0m \u001b[0mSnS_server_address\u001b[0m\u001b[0;34m)\u001b[0m\u001b[0;34m,\u001b[0m\u001b[0;34m\u001b[0m\u001b[0m\n\u001b[0m\u001b[1;32m      3\u001b[0m     \u001b[0;34m\"DC\"\u001b[0m\u001b[0;34m:\u001b[0m \u001b[0;34m(\u001b[0m\u001b[0mDC_read_callback\u001b[0m\u001b[0;34m,\u001b[0m \u001b[0mDC_server_address\u001b[0m\u001b[0;34m)\u001b[0m\u001b[0;34m,\u001b[0m\u001b[0;34m\u001b[0m\u001b[0m\n\u001b[1;32m      4\u001b[0m }\n\u001b[1;32m      5\u001b[0m \u001b[0;34m\u001b[0m\u001b[0m\n",
      "\u001b[0;31mNameError\u001b[0m: name 'SnS_read_callback' is not defined"
     ]
    }
   ],
   "source": [
    "\n",
    "server_data = {\n",
    "    \"SnS\": (SnS_read_callback, SnS_server_address),\n",
    "    \"DC\": (DC_read_callback, DC_server_address),\n",
    "}\n",
    "\n",
    "with SelectorsMultiServer(server_data=server_data) as server:\n",
    "    print(\"server: {server}\".format(server=server))\n",
    "    server.run()\n"
   ]
  },
  {
   "cell_type": "code",
   "execution_count": null,
   "metadata": {},
   "outputs": [],
   "source": []
  }
 ],
 "metadata": {
  "kernelspec": {
   "display_name": "Python 3",
   "language": "python",
   "name": "python3"
  },
  "language_info": {
   "codemirror_mode": {
    "name": "ipython",
    "version": 3
   },
   "file_extension": ".py",
   "mimetype": "text/x-python",
   "name": "python",
   "nbconvert_exporter": "python",
   "pygments_lexer": "ipython3",
   "version": "3.5.2"
  }
 },
 "nbformat": 4,
 "nbformat_minor": 4
}
