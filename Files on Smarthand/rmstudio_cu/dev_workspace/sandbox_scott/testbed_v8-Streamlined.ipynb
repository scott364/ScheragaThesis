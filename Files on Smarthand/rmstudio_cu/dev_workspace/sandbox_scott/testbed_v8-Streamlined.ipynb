{
 "cells": [
  {
   "cell_type": "markdown",
   "metadata": {},
   "source": [
    "# Import Libraries<---RUN"
   ]
  },
  {
   "cell_type": "code",
   "execution_count": 1,
   "metadata": {},
   "outputs": [
    {
     "name": "stdout",
     "output_type": "stream",
     "text": [
      "Loaded: /home/nvidia/dev_rmstudio/rmlib/rmlib/rmtools Exists?: True\n",
      "Loaded: /home/nvidia/dev_rmstudio/rmlib Exists?: True\n",
      "Setting up robot please wait...\n",
      "my_components: {'arm_config': {'default_joint_accel': 0.8, 'ip_address': '192.168.50.119', 'class_name': 'UR5', 'module_name': 'arms.ur5', 'max_joint_accel': 1.4, 'default_linear_accel': 0.8, 'max_joint_speed': 1.05, 'xmlrpc_port': '8003', 'default_joint_speed': 0.7, 'max_linear_accel': 1.2, 'max_linear_speed': 0.25, 'default_linear_speed': 0.1}, 'ft_config': {'remote_ip': '', 'max_workers': 10, 'ip_address': '192.168.0.100', 'class_name': 'OptoForce', 'module_name': 'sensors.ftsensor_optoforce', 'dataHz': 50.0, 'local_ip': '127.0.0.1', 'remote_port': 10000, 'local_port': 20000, 'filter': {'alpha': 0.012, 'beta': 0.035}}, 'hand_config': {'finger_length': 0.0415, 'finger_width_inner': 0.0, 'class_name': 'SmartHand', 'module_name': 'hands.smarthand', 'finger_depth': 0.014, 'finger_width_outer': 0.015}}\n",
      "active_componetns: {'arm': ['arm_config'], 'ft': ['ft_config'], 'hand': ['hand_config']}\n",
      "{'default_joint_accel': 0.8, 'ip_address': '192.168.50.119', 'class_name': 'UR5', 'module_name': 'arms.ur5', 'max_joint_accel': 1.4, 'default_linear_accel': 0.8, 'max_joint_speed': 1.05, 'xmlrpc_port': '8003', 'default_joint_speed': 0.7, 'max_linear_accel': 1.2, 'max_linear_speed': 0.25, 'default_linear_speed': 0.1}\n",
      "<class 'rmlib.arms.ur5.UR5'>\n",
      "Error Connecting to Arm at IP Address: 192.168.50.119\n",
      "{'remote_ip': '', 'max_workers': 10, 'ip_address': '192.168.0.100', 'class_name': 'OptoForce', 'module_name': 'sensors.ftsensor_optoforce', 'dataHz': 50.0, 'local_ip': '127.0.0.1', 'remote_port': 10000, 'local_port': 20000, 'filter': {'alpha': 0.012, 'beta': 0.035}}\n",
      "<class 'rmlib.sensors.ftsensor_optoforce.OptoForce'>\n",
      "Connecting to the force sensor at ('192.168.0.100', 49152) ... SUCCESS!\n",
      "Preparing OptoForce for data transmission ... COMPLETED!\n",
      "Set up server at: {'ip': '127.0.0.1', 'port': 20000}\n",
      "Set up server at: {'ip': '', 'port': 10000}\n",
      "\n",
      " Config Tuple: {'ip': '', 'port': 10000} \n",
      "\n",
      "XML-RPC serving FT data from ('', 10000)\n",
      "\n",
      " Config Tuple: {'ip': '127.0.0.1', 'port': 20000} \n",
      "\n",
      "XML-RPC serving FT data from ('127.0.0.1', 20000)\n",
      "XML-RPC servers RUNNING!\n",
      "{'finger_length': 0.0415, 'finger_width_inner': 0.0, 'class_name': 'SmartHand', 'module_name': 'hands.smarthand', 'finger_depth': 0.014, 'finger_width_outer': 0.015}\n",
      "<class 'rmlib.hands.smarthand.SmartHand'>\n",
      "Robot Ready!\n"
     ]
    },
    {
     "ename": "AttributeError",
     "evalue": "'Robot' object has no attribute 'arm'",
     "output_type": "error",
     "traceback": [
      "\u001b[0;31m---------------------------------------------------------------------------\u001b[0m",
      "\u001b[0;31mAttributeError\u001b[0m                            Traceback (most recent call last)",
      "\u001b[0;32m<ipython-input-1-488b16d838c3>\u001b[0m in \u001b[0;36m<module>\u001b[0;34m\u001b[0m\n\u001b[1;32m     12\u001b[0m \u001b[0;34m\u001b[0m\u001b[0m\n\u001b[1;32m     13\u001b[0m \u001b[0mrobot\u001b[0m \u001b[0;34m=\u001b[0m \u001b[0mrmlib\u001b[0m\u001b[0;34m.\u001b[0m\u001b[0mrobot\u001b[0m\u001b[0;34m.\u001b[0m\u001b[0mRobot\u001b[0m\u001b[0;34m(\u001b[0m\u001b[0mrobotConfig\u001b[0m\u001b[0;34m)\u001b[0m\u001b[0;34m\u001b[0m\u001b[0m\n\u001b[0;32m---> 14\u001b[0;31m \u001b[0maugment_RM\u001b[0m\u001b[0;34m(\u001b[0m\u001b[0mrobot\u001b[0m\u001b[0;34m)\u001b[0m\u001b[0;34m\u001b[0m\u001b[0m\n\u001b[0m\u001b[1;32m     15\u001b[0m \u001b[0;34m\u001b[0m\u001b[0m\n\u001b[1;32m     16\u001b[0m \u001b[0;31m#loads variables attached to this notebook\u001b[0m\u001b[0;34m\u001b[0m\u001b[0;34m\u001b[0m\u001b[0m\n",
      "\u001b[0;32m~/dev_rmstudio/rmlib/rmlib/rmtools/asm_BT_lib/asm_tree_Basic.py\u001b[0m in \u001b[0;36maugment_RM\u001b[0;34m(rmInstance)\u001b[0m\n\u001b[1;32m    142\u001b[0m \u001b[0;31m#     rmInstance.arm.align_tcp = align_tcp\u001b[0m\u001b[0;34m\u001b[0m\u001b[0;34m\u001b[0m\u001b[0m\n\u001b[1;32m    143\u001b[0m     \u001b[0;31m# The new method has to be bound, URL:  https://stackoverflow.com/a/2982\u001b[0m\u001b[0;34m\u001b[0m\u001b[0;34m\u001b[0m\u001b[0m\n\u001b[0;32m--> 144\u001b[0;31m     \u001b[0mrmInstance\u001b[0m\u001b[0;34m.\u001b[0m\u001b[0marm\u001b[0m\u001b[0;34m.\u001b[0m\u001b[0malign_tcp\u001b[0m \u001b[0;34m=\u001b[0m \u001b[0mtypes\u001b[0m\u001b[0;34m.\u001b[0m\u001b[0mMethodType\u001b[0m\u001b[0;34m(\u001b[0m \u001b[0malign_tcp\u001b[0m\u001b[0;34m,\u001b[0m \u001b[0mrmInstance\u001b[0m\u001b[0;34m.\u001b[0m\u001b[0marm\u001b[0m \u001b[0;34m)\u001b[0m\u001b[0;34m\u001b[0m\u001b[0m\n\u001b[0m\u001b[1;32m    145\u001b[0m \u001b[0;34m\u001b[0m\u001b[0m\n\u001b[1;32m    146\u001b[0m     \u001b[0;31m# __ End Move __\u001b[0m\u001b[0;34m\u001b[0m\u001b[0;34m\u001b[0m\u001b[0m\n",
      "\u001b[0;31mAttributeError\u001b[0m: 'Robot' object has no attribute 'arm'"
     ]
    }
   ],
   "source": [
    "####### INIT ######################################################################################\n",
    "\n",
    "from context import rmlib\n",
    "from time import sleep\n",
    "\n",
    "import numpy as np\n",
    "import rmlib\n",
    "\n",
    "from rmlib.rmtools.asm_BT_lib.asm_tree_Basic import augment_RM\n",
    "import rmlib.rmtools as rm\n",
    "from config import robotConfig\n",
    "\n",
    "robot = rmlib.robot.Robot(robotConfig)\n",
    "augment_RM(robot)\n",
    "\n",
    "#loads variables attached to this notebook\n",
    "%store -r  \n",
    "\n",
    "\n",
    "####### LIBS ######################################################################################\n",
    "\n",
    "# Import Pytrees\n",
    "import py_trees\n",
    "#from py_trees.tests import Timeout_Success\n",
    "from py_trees.composites import Sequence , Selector\n",
    "\n",
    "from rmlib.rmtools.asm_BT_lib.asm_tree_Basic import *\n",
    "from rmlib.rmtools.asm_BT_lib.asm_tree_FT_based import *\n",
    "\n",
    "import math\n",
    "from pmath import translate_pose, get_disance_between_poses, pose_components\n",
    "\n",
    "from utils import is_matx_list\n",
    "from math import radians\n",
    "\n",
    "print( \"\\n##!## READY ##!##\" )"
   ]
  },
  {
   "cell_type": "markdown",
   "metadata": {},
   "source": [
    "# Arm Movements<---RUN"
   ]
  },
  {
   "cell_type": "code",
   "execution_count": 2,
   "metadata": {},
   "outputs": [
    {
     "ename": "NameError",
     "evalue": "name 'Move_Arm' is not defined",
     "output_type": "error",
     "traceback": [
      "\u001b[0;31m---------------------------------------------------------------------------\u001b[0m",
      "\u001b[0;31mNameError\u001b[0m                                 Traceback (most recent call last)",
      "\u001b[0;32m<ipython-input-2-38a620b2a8d5>\u001b[0m in \u001b[0;36m<module>\u001b[0;34m\u001b[0m\n\u001b[1;32m     19\u001b[0m \u001b[0;34m\u001b[0m\u001b[0m\n\u001b[1;32m     20\u001b[0m \"\"\"\n\u001b[0;32m---> 21\u001b[0;31m moveNode = Move_Arm( pose  = SafePose , # 4x4 homogeneous coord pose\n\u001b[0m\u001b[1;32m     22\u001b[0m                      \u001b[0mmode\u001b[0m  \u001b[0;34m=\u001b[0m \u001b[0;34m'l'\u001b[0m \u001b[0;34m,\u001b[0m  \u001b[0;31m# { 'l': linear in task space, 'j': linear in joint space }\u001b[0m\u001b[0;34m\u001b[0m\u001b[0m\n\u001b[1;32m     23\u001b[0m                      \u001b[0mspeed\u001b[0m \u001b[0;34m=\u001b[0m \u001b[0;36m0.125\u001b[0m \u001b[0;34m,\u001b[0m\u001b[0;34m\u001b[0m\u001b[0m\n",
      "\u001b[0;31mNameError\u001b[0m: name 'Move_Arm' is not defined"
     ]
    }
   ],
   "source": [
    "#from task_parameters import taskParams , _TB_side , _M8_TB_height , _M6_TB_height , _M4_TB_height\n",
    "\n",
    "_DRILL_CONTACT_PRESS = 11.0\n",
    "\n",
    "#SafePose = robot.arm.get_tcp_pose() #rm.get_tcp_pose()\n",
    "#%store SafePose\n",
    "\n",
    "#BlockInsertPose = robot.arm.get_tcp_pose() #rm.get_tcp_pose()\n",
    "#%store BlockInsertPose\n",
    "\n",
    "%store -r \n",
    "\n",
    "\"\"\"\n",
    "### Move to Safe Pose ###\n",
    "Basic movements are defined in:\n",
    "rmlib/rmlib/rmtools/assembly_trees/asm_tree_Basic.py\n",
    "\n",
    "All of the basic behaviors and trees inherit `py_trees` classes.\n",
    "\n",
    "\"\"\"\n",
    "moveNode = Move_Arm( pose  = SafePose , # 4x4 homogeneous coord pose\n",
    "                     mode  = 'l' ,  # { 'l': linear in task space, 'j': linear in joint space }\n",
    "                     speed = 0.125 , \n",
    "                     accel = 0.35 , \n",
    "                     ctrl  = robot ) # Ref togitkraken `rmlib` object, stored in `robot` in this NB\n",
    "run_BT_until_done(moveNode,HidePrintout=1)#Nverb=0,\n",
    " \n",
    "print('done!')"
   ]
  },
  {
   "cell_type": "markdown",
   "metadata": {},
   "source": [
    "## Safe Pose move"
   ]
  },
  {
   "cell_type": "code",
   "execution_count": 15,
   "metadata": {},
   "outputs": [
    {
     "data": {
      "text/plain": [
       "1"
      ]
     },
     "execution_count": 15,
     "metadata": {},
     "output_type": "execute_result"
    }
   ],
   "source": [
    "robot.hand.deactivate_motors()"
   ]
  },
  {
   "cell_type": "code",
   "execution_count": null,
   "metadata": {},
   "outputs": [],
   "source": [
    "robot.hand.deactivate_motors()\n",
    "moveNode = Move_Arm( pose  = SafePose , # 4x4 homogeneous coord pose\n",
    "                     mode  = 'l' ,  # { 'l': linear in task space, 'j': linear in joint space }\n",
    "                     speed = 0.125 , \n",
    "                     accel = 0.35 , \n",
    "                     ctrl  = robot ) # Ref togitkraken `rmlib` object, stored in `robot` in this NB\n",
    "run_BT_until_done(moveNode,HidePrintout=1)#Nverb=0,\n",
    "print(\"done\")"
   ]
  },
  {
   "cell_type": "code",
   "execution_count": null,
   "metadata": {},
   "outputs": [],
   "source": [
    "\"\"\"\n",
    "print(shaftPreInsertPose_high)\n",
    "print(shaftPreInsertPose_low)\n",
    "print(\"low pos shifts\")\n",
    "PerturbRadius=0\n",
    "print(perturb_pose_radially_XY( shaftPreInsertPose_low, PerturbRadius ))\n",
    "print(perturb_pose_radially_XY( shaftPreInsertPose_low, PerturbRadius ))\n",
    "print(perturb_pose_radially_XY( shaftPreInsertPose_low, PerturbRadius ))\n",
    "\"\"\""
   ]
  },
  {
   "cell_type": "markdown",
   "metadata": {},
   "source": [
    "## Set up BTs<---RUN"
   ]
  },
  {
   "cell_type": "code",
   "execution_count": 3,
   "metadata": {},
   "outputs": [],
   "source": [
    "#Get Shaft and move it above hole, ready for training episode\n",
    "#Return shaft to holder\n",
    "from random import random\n",
    "\n",
    "def make_above_pose( trgtPose, vertOffset = 0.070 ):\n",
    "    \"\"\" Return a pose that is vertically offset  \"\"\"\n",
    "    rtrnPose = trgtPose.copy()\n",
    "    rtrnPose[2,3] += vertOffset\n",
    "    return rtrnPose\n",
    "\n",
    "\n",
    "def perturb_pose_radially_XY( pose, radMax , inches=True ):\n",
    "    if inches==True:\n",
    "        radMax=radMax*0.0254\n",
    "    \"\"\" Return a version of `pose` that is moved in the XY plane up to `radMax` distance \"\"\"\n",
    "    rtrnPose = pose.copy()\n",
    "    dX = dY = 5000.0\n",
    "    while np.linalg.norm( [dX, dY] ) > radMax:\n",
    "        dX = -radMax + 2*radMax*random()\n",
    "        dY = -radMax + 2*radMax*random()\n",
    "    rtrnPose[0,3] += dX\n",
    "    rtrnPose[1,3] += dY\n",
    "    print(  )\n",
    "    return rtrnPose\n",
    "\n",
    "\n",
    "SafePose_moveNode = Move_Arm( pose  = SafePose , # 4x4 homogeneous coord pose\n",
    "                         mode  = 'l' ,  # { 'l': linear in task space, 'j': linear in joint space }\n",
    "                         speed = 0.125 , accel = 0.35 , \n",
    "                         ctrl  = robot ) # Ref togitkraken `rmlib` object, stored in `robot` in this NB\n",
    "    \n",
    "shaftAboveGraspPose_moveNode = Move_Arm( pose  = shaftAboveGraspPose, # BlockInsertPose  SafePose  4x4 homogeneous coord pose\n",
    "                     mode  = 'l' ,  # { 'l': linear in task space, 'j': linear in joint space }\n",
    "                     speed = 0.125 , accel = 0.35 , \n",
    "                     ctrl  = robot ) # Ref to `rmlib` object, stored in `robot` in this NB\n",
    "\n",
    "\n",
    "\n",
    "#shaftGraspPoseV2_low   - low grab point on cylinder\n",
    "#shaftGraspPoseV2   - higher grab point on cylinder, lowest squares on gippers\n",
    "\n",
    "\n",
    "shaftGraspPoseV2_moveNode = Move_Arm( pose  = shaftGraspPoseV2_low, # BlockInsertPose  SafePose  4x4 homogeneous coord pose\n",
    "                     mode  = 'l' ,  # { 'l': linear in task space, 'j': linear in joint space }\n",
    "                     speed = 0.125 , \n",
    "                     accel = 0.35 , \n",
    "                     ctrl  = robot ) # Ref to `rmlib` object, stored in `robot` in this NB\n",
    "\n",
    "graspBehav = Grasp_at_Pose( shaftGraspPoseV2_low, partWidth=0.015 ,\n",
    "                            zApproach=0.050 , zClose=0.0 , wdthNarrow = 0.030 , \n",
    "                            maxIter=5, zFree=0.100 , \n",
    "                            ctrl = robot )\n",
    "\n",
    "shaftPreInsertPose_moveNode_high = Move_Arm( pose  = shaftPreInsertPose_high, # BlockInsertPose  SafePose  4x4 homogeneous coord pose\n",
    "                             mode  = 'l' ,  # { 'l': linear in task space, 'j': linear in joint space }\n",
    "                             speed = 0.125 , accel = 0.35 ,  \n",
    "                             ctrl  = robot ) # Ref to `rmlib` object, stored in `robot` in this NB\n",
    "\n",
    "shaftPreInsertPose_moveNode_low= Move_Arm( pose  = shaftPreInsertPose_low, # BlockInsertPose  SafePose  4x4 homogeneous coord pose\n",
    "                             mode  = 'l' ,  # { 'l': linear in task space, 'j': linear in joint space }\n",
    "                             speed = 0.125 , accel = 0.35 ,  \n",
    "                             ctrl  = robot ) # Ref to `rmlib` object, stored in `robot` in this NB\n",
    "\n",
    "\n",
    "#get shaft from holder, bring it to position above hole target \n",
    "\n",
    "\n",
    "def ShaftFetch(PerturbRadius=0,inchestoggle=True):\n",
    "    #0.15 inches perturb looks good\n",
    "    \n",
    "    fetchTree = Sequence( memory = 1) #memory = 1 \n",
    "\n",
    "\n",
    "    if PerturbRadius == 0:\n",
    "        shaftPreInsertPose_moveNode_low_SHIFTED = Move_Arm( pose  = shaftPreInsertPose_low, # BlockInsertPose  SafePose  4x4 homogeneous coord pose\n",
    "                             mode  = 'l' ,  # { 'l': linear in task space, 'j': linear in joint space }\n",
    "                             speed = 0.125 , accel = 0.35 ,  \n",
    "                             ctrl  = robot ) # Ref to `rmlib` object, stored in `robot` in this NB\n",
    "\n",
    "    else:\n",
    "    #radMax=0.0254/2  # 1 inch in meters\n",
    "        shaftPreInsertPose_low_SHIFTED=perturb_pose_radially_XY( shaftPreInsertPose_low, PerturbRadius,inchestoggle )\n",
    "        shaftPreInsertPose_moveNode_low_SHIFTED = Move_Arm( pose  = shaftPreInsertPose_low_SHIFTED, # BlockInsertPose  SafePose  4x4 homogeneous coord pose\n",
    "                             mode  = 'l' ,  # { 'l': linear in task space, 'j': linear in joint space }\n",
    "                             speed = 0.125 , accel = 0.35 ,  \n",
    "                             ctrl  = robot ) # Ref to `rmlib` object, stored in `robot` in this NB\n",
    "\n",
    "    fetchTree.add_children( [SafePose_moveNode,shaftAboveGraspPose_moveNode,\n",
    "                             graspBehav,shaftAboveGraspPose_moveNode,shaftPreInsertPose_moveNode_high,#SafePose_moveNode,\n",
    "                             shaftPreInsertPose_moveNode_low_SHIFTED] ) \n",
    "    run_BT_until_done(fetchTree,HidePrintout=1)#Nverb=0,\n",
    "    \n",
    "    \n",
    "def ShaftReturn():\n",
    "\n",
    "    returnTree = Sequence( memory = 1 ) #memory = 1 \n",
    "\n",
    "    returnTree.add_children( [shaftPreInsertPose_moveNode_high,#,SafePose_moveNode,\n",
    "                             shaftAboveGraspPose_moveNode,shaftGraspPoseV2_moveNode] ) \n",
    "    run_BT_until_done(returnTree,HidePrintout=1)#Nverb=0,\n",
    "\n",
    "    # 3. Release\n",
    "    robot.hand.release()\n",
    "    \n",
    "    returnTree2 = Sequence( memory = 1 ) #memory = 1 \n",
    "    \n",
    "    returnTree2.add_children( [shaftAboveGraspPose_moveNode,SafePose_moveNode] )\n",
    "    \n",
    "    run_BT_until_done(returnTree2,HidePrintout=1)#Nverb=0,\n",
    "# I may need to add these again!!!\n",
    "# 4. Deactivate motors\n",
    "#robot.hand.deactivate_motors()\n",
    "\n",
    "#dropBehav = Set_Fingers( openState = 1.0 , ctrl = robot )\n",
    "\n",
    "\n",
    "#-------------------------------------------------------------------------------\n",
    "def ShaftReset(PerturbRadius=0,inchestoggle=True):\n",
    "    #0.15 inches perturb looks good\n",
    "    resetTree1 = Sequence( ) #memory = 1 \n",
    "\n",
    "\n",
    "    resetTree1.add_children( [shaftPreInsertPose_moveNode_high,#SafePose_moveNode,\n",
    "                            shaftAboveGraspPose_moveNode,shaftGraspPoseV2_moveNode] ) \n",
    "    run_BT_until_done(resetTree1,HidePrintout=1)#Nverb=0,\n",
    "    \n",
    "    robot.hand.release()\n",
    "    \n",
    "    resetTree2 = Sequence(memory = 1  ) #memory = 1 \n",
    "    \n",
    "\n",
    "    if PerturbRadius == 0:\n",
    "        shaftPreInsertPose_moveNode_low_SHIFTED = Move_Arm( pose  = shaftPreInsertPose_low, # BlockInsertPose  SafePose  4x4 homogeneous coord pose\n",
    "                             mode  = 'l' ,  # { 'l': linear in task space, 'j': linear in joint space }\n",
    "                             speed = 0.125 , accel = 0.35 ,  \n",
    "                             ctrl  = robot ) # Ref to `rmlib` object, stored in `robot` in this NB\n",
    "\n",
    "    else:\n",
    "    #radMax=0.0254/2  # 1 inch in meters\n",
    "        shaftPreInsertPose_low_SHIFTED=perturb_pose_radially_XY( shaftPreInsertPose_low, PerturbRadius, inchestoggle)\n",
    "        shaftPreInsertPose_moveNode_low_SHIFTED = Move_Arm( pose  = shaftPreInsertPose_low_SHIFTED, # BlockInsertPose  SafePose  4x4 homogeneous coord pose\n",
    "                             mode  = 'l' ,  # { 'l': linear in task space, 'j': linear in joint space }\n",
    "                             speed = 0.125 , accel = 0.35 ,  \n",
    "                             ctrl  = robot ) # Ref to `rmlib` object, stored in `robot` in this NB\n",
    "\n",
    "    resetTree2.add_children( [graspBehav,shaftAboveGraspPose_moveNode,shaftPreInsertPose_moveNode_high,#SafePose_moveNode,\n",
    "                             shaftPreInsertPose_moveNode_low_SHIFTED] ) \n",
    "    run_BT_until_done(resetTree2,HidePrintout=1)#Nverb=0,\n",
    "    \n",
    "#move shaft from current position to pose above the hole target, drop shaft in holder\n"
   ]
  },
  {
   "cell_type": "markdown",
   "metadata": {},
   "source": [
    "#### Test BT's"
   ]
  },
  {
   "cell_type": "code",
   "execution_count": 6,
   "metadata": {},
   "outputs": [
    {
     "name": "stdout",
     "output_type": "stream",
     "text": [
      "Fetching\n"
     ]
    }
   ],
   "source": [
    "#\"\"\"\n",
    "print(\"Fetching\")\n",
    "ShaftFetch()\n",
    "#ShaftFetch()\n",
    "#\"\"\""
   ]
  },
  {
   "cell_type": "code",
   "execution_count": 6,
   "metadata": {},
   "outputs": [
    {
     "data": {
      "text/plain": [
       "'\\nTransRotatmatrix=robot.arm.get_tcp_pose() \\nprint(TransRotatmatrix)\\n'"
      ]
     },
     "execution_count": 6,
     "metadata": {},
     "output_type": "execute_result"
    }
   ],
   "source": [
    "#pre+_insert low\n",
    "\"\"\"\n",
    "TransRotatmatrix=robot.arm.get_tcp_pose() \n",
    "print(TransRotatmatrix)\n",
    "\"\"\""
   ]
  },
  {
   "cell_type": "code",
   "execution_count": 7,
   "metadata": {},
   "outputs": [
    {
     "data": {
      "text/plain": [
       "'\\nprint(\"Resetting\")\\nShaftReset(PerturbRadius=0,inchestoggle=True)  #0.15\\nprint(\"reset complete\")\\nrobot.hand.deactivate_motors()\\n'"
      ]
     },
     "execution_count": 7,
     "metadata": {},
     "output_type": "execute_result"
    }
   ],
   "source": [
    "\"\"\"\n",
    "print(\"Resetting\")\n",
    "ShaftReset(PerturbRadius=0,inchestoggle=True)  #0.15\n",
    "print(\"reset complete\")\n",
    "robot.hand.deactivate_motors()\n",
    "\"\"\""
   ]
  },
  {
   "cell_type": "code",
   "execution_count": 8,
   "metadata": {},
   "outputs": [
    {
     "data": {
      "text/plain": [
       "'\\n# half inserted pose \\nTransRotatmatrix=robot.arm.get_tcp_pose() \\nprint(TransRotatmatrix)\\n'"
      ]
     },
     "execution_count": 8,
     "metadata": {},
     "output_type": "execute_result"
    }
   ],
   "source": [
    "\"\"\"\n",
    "# half inserted pose \n",
    "TransRotatmatrix=robot.arm.get_tcp_pose() \n",
    "print(TransRotatmatrix)\n",
    "\"\"\""
   ]
  },
  {
   "cell_type": "code",
   "execution_count": 9,
   "metadata": {},
   "outputs": [
    {
     "data": {
      "text/plain": [
       "'\\nprint(\"Returning\")\\n\\nShaftReturn()\\nprint(\"done\")\\nrobot.hand.deactivate_motors()\\n'"
      ]
     },
     "execution_count": 9,
     "metadata": {},
     "output_type": "execute_result"
    }
   ],
   "source": [
    "\"\"\"\n",
    "print(\"Returning\")\n",
    "\n",
    "ShaftReturn()\n",
    "print(\"done\")\n",
    "robot.hand.deactivate_motors()\n",
    "\"\"\""
   ]
  },
  {
   "cell_type": "code",
   "execution_count": 10,
   "metadata": {},
   "outputs": [],
   "source": [
    "#run_BT_until_done(shaftPreInsertPose_moveNode_high,HidePrintout=1)#Nverb=0,\n",
    "#run_BT_until_done(shaftAboveGraspPose_moveNode,HidePrintout=1)#Nverb=0,\n",
    "#run_BT_until_done(shaftGraspPoseV2_moveNode,HidePrintout=1)#Nverb=0,\n",
    "#shaftAboveGraspPose"
   ]
  },
  {
   "cell_type": "markdown",
   "metadata": {},
   "source": [
    "#### peg grab testing"
   ]
  },
  {
   "cell_type": "code",
   "execution_count": 11,
   "metadata": {},
   "outputs": [
    {
     "data": {
      "text/plain": [
       "'\\ndef exceeds_Z_force2(zLimitF):\\n        #Condition: Return a function that returns 1 if the z reaction limit is reached \\n        def func():\\n            _DEBUG = 0\\n            #Stops when Z reaction exceeds value\\n            wrench = robot.ft.get_wrist_force()\\n            mag_x   = wrench[0]\\n            mag_y   = wrench[1]\\n            mag_z   = wrench[2]\\n            if _DEBUG: \\n                print( \"exceeds_Z_force , wrench:\" , wrench )\\n                print(\"wrench[2]=\",wrench[2], \"    -zLimitF=\",-zLimitF)\\n            if wrench[2] < -zLimitF:\\n                builtins._GLOB_FT_FLAG = 1\\n                #print(\"pass\")\\n                return 1\\n            else:\\n                #print(\"fail\")\\n                return 0\\n        return func\\n'"
      ]
     },
     "execution_count": 11,
     "metadata": {},
     "output_type": "execute_result"
    }
   ],
   "source": [
    "\"\"\"\n",
    "\n",
    "#from scipy.spatial.transform import Rotation as R\n",
    "def rot2rpy(Rt, degrees=False):\n",
    "    #Converts a rotation matrix into rpy / intrinsic xyz euler angle form.\n",
    "    #Args:    Rt (ndarray): The rotation matrix.\n",
    "    #Returns: ndarray: Angles in rpy / intrinsic xyz euler angle form.\n",
    "    \n",
    "    return R.from_matrix(Rt).as_euler('xyz', degrees=degrees)\n",
    "\n",
    "\n",
    "def rpy2rot(rpy, degrees=False):\n",
    "    #Converts rpy / intrinsic xyz euler angles into a rotation matrix.\n",
    "    #Args:    rpy (array-like): rpy / intrinsic xyz euler angles.\n",
    "    #         degrees (bool) : Whether or not euler_angles are in degrees (True), or radians (False).\n",
    "    #Returns: ndarray: The rotation matrix.\n",
    "    \n",
    "    return R.from_euler('xyz', rpy, degrees=degrees).as_matrix()\n",
    "\n",
    "TransRotatmatrix=robot.arm.get_tcp_pose() \n",
    "print(type(TransRotatmatrix))\n",
    "x_pose=TransRotatmatrix[0][3]*39.3701  #convert to inches \n",
    "y_pose=TransRotatmatrix[1][3]*39.3701\n",
    "z_pose=TransRotatmatrix[2][3]*39.3701\n",
    "rpy=rot2rpy(TransRotatmatrix[0:3,0:3],True)\n",
    "roll=rpy[0]  #In degrees!\n",
    "pitch=rpy[1]\n",
    "yaw=rpy[2]\n",
    "print(x_pose,y_pose,z_pose)\n",
    "print(roll,pitch,yaw)\n",
    "\"\"\"\n",
    "\"\"\"\n",
    "def exceeds_Z_force2(zLimitF):\n",
    "        #Condition: Return a function that returns 1 if the z reaction limit is reached \n",
    "        def func():\n",
    "            _DEBUG = 0\n",
    "            #Stops when Z reaction exceeds value\n",
    "            wrench = robot.ft.get_wrist_force()\n",
    "            mag_x   = wrench[0]\n",
    "            mag_y   = wrench[1]\n",
    "            mag_z   = wrench[2]\n",
    "            if _DEBUG: \n",
    "                print( \"exceeds_Z_force , wrench:\" , wrench )\n",
    "                print(\"wrench[2]=\",wrench[2], \"    -zLimitF=\",-zLimitF)\n",
    "            if wrench[2] < -zLimitF:\n",
    "                builtins._GLOB_FT_FLAG = 1\n",
    "                #print(\"pass\")\n",
    "                return 1\n",
    "            else:\n",
    "                #print(\"fail\")\n",
    "                return 0\n",
    "        return func\n",
    "\"\"\""
   ]
  },
  {
   "cell_type": "markdown",
   "metadata": {},
   "source": [
    "## Main Loop<---RUN TO HERE"
   ]
  },
  {
   "cell_type": "code",
   "execution_count": 19,
   "metadata": {},
   "outputs": [
    {
     "name": "stdout",
     "output_type": "stream",
     "text": [
      "Starting up SnS socket on 192.168.0.103 port 65493\n",
      "waiting for SnS connection\n",
      "SnS connection from ('192.168.0.102', 36240)\n",
      "SnS start command sent to client\n",
      "Starting up DC socket on 192.168.0.103 port 65483\n",
      "waiting for DC connection\n",
      "DC connection from ('192.168.0.102', 37086)\n",
      "fetching shaft\n",
      "Closing+shutting down SnS connection\n",
      "Closing+shutting down DC connection\n"
     ]
    },
    {
     "ename": "TypeError",
     "evalue": "children must be behaviours, but you passed in <class 'numpy.ndarray'>",
     "output_type": "error",
     "traceback": [
      "\u001b[0;31m---------------------------------------------------------------------------\u001b[0m",
      "\u001b[0;31mTypeError\u001b[0m                                 Traceback (most recent call last)",
      "\u001b[0;32m<ipython-input-19-355f81adeb9a>\u001b[0m in \u001b[0;36m<module>\u001b[0;34m\u001b[0m\n\u001b[1;32m    217\u001b[0m             \u001b[0;32melif\u001b[0m \u001b[0mcommand\u001b[0m\u001b[0;34m==\u001b[0m\u001b[0;34mb'fetch'\u001b[0m\u001b[0;34m:\u001b[0m\u001b[0;34m\u001b[0m\u001b[0m\n\u001b[1;32m    218\u001b[0m                 \u001b[0mprint\u001b[0m\u001b[0;34m(\u001b[0m\u001b[0;34m\"fetching shaft\"\u001b[0m\u001b[0;34m)\u001b[0m\u001b[0;34m\u001b[0m\u001b[0m\n\u001b[0;32m--> 219\u001b[0;31m                 \u001b[0mShaftFetch\u001b[0m\u001b[0;34m(\u001b[0m\u001b[0mPerturbRadius\u001b[0m\u001b[0;34m=\u001b[0m\u001b[0;36m0\u001b[0m\u001b[0;34m)\u001b[0m\u001b[0;34m\u001b[0m\u001b[0m\n\u001b[0m\u001b[1;32m    220\u001b[0m \u001b[0;34m\u001b[0m\u001b[0m\n\u001b[1;32m    221\u001b[0m                 \u001b[0minputstring\u001b[0m\u001b[0;34m=\u001b[0m\u001b[0;34m'done'\u001b[0m\u001b[0;34m\u001b[0m\u001b[0m\n",
      "\u001b[0;32m<ipython-input-3-98f0c77a8e87>\u001b[0m in \u001b[0;36mShaftFetch\u001b[0;34m(PerturbRadius, inchestoggle)\u001b[0m\n\u001b[1;32m     88\u001b[0m     fetchTree.add_children( [SafePose_moveNode,shaftAboveGraspPose_moveNode,\n\u001b[1;32m     89\u001b[0m                              \u001b[0mgraspBehav\u001b[0m\u001b[0;34m,\u001b[0m\u001b[0mshaftAboveGraspPose_moveNode\u001b[0m\u001b[0;34m,\u001b[0m\u001b[0mshaftPreInsertPose_moveNode_high\u001b[0m\u001b[0;34m,\u001b[0m\u001b[0;31m#SafePose_moveNode,\u001b[0m\u001b[0;34m\u001b[0m\u001b[0m\n\u001b[0;32m---> 90\u001b[0;31m                              shaftPreInsertPose_moveNode_low_SHIFTED] ) \n\u001b[0m\u001b[1;32m     91\u001b[0m     \u001b[0mrun_BT_until_done\u001b[0m\u001b[0;34m(\u001b[0m\u001b[0mfetchTree\u001b[0m\u001b[0;34m,\u001b[0m\u001b[0mHidePrintout\u001b[0m\u001b[0;34m=\u001b[0m\u001b[0;36m1\u001b[0m\u001b[0;34m)\u001b[0m\u001b[0;31m#Nverb=0,\u001b[0m\u001b[0;34m\u001b[0m\u001b[0m\n\u001b[1;32m     92\u001b[0m \u001b[0;34m\u001b[0m\u001b[0m\n",
      "\u001b[0;32m~/.local/lib/python3.5/site-packages/py_trees/composites.py\u001b[0m in \u001b[0;36madd_children\u001b[0;34m(self, children)\u001b[0m\n\u001b[1;32m    156\u001b[0m         \"\"\"\n\u001b[1;32m    157\u001b[0m         \u001b[0;32mfor\u001b[0m \u001b[0mchild\u001b[0m \u001b[0;32min\u001b[0m \u001b[0mchildren\u001b[0m\u001b[0;34m:\u001b[0m\u001b[0;34m\u001b[0m\u001b[0m\n\u001b[0;32m--> 158\u001b[0;31m             \u001b[0mself\u001b[0m\u001b[0;34m.\u001b[0m\u001b[0madd_child\u001b[0m\u001b[0;34m(\u001b[0m\u001b[0mchild\u001b[0m\u001b[0;34m)\u001b[0m\u001b[0;34m\u001b[0m\u001b[0m\n\u001b[0m\u001b[1;32m    159\u001b[0m \u001b[0;34m\u001b[0m\u001b[0m\n\u001b[1;32m    160\u001b[0m     \u001b[0;32mdef\u001b[0m \u001b[0mremove_child\u001b[0m\u001b[0;34m(\u001b[0m\u001b[0mself\u001b[0m\u001b[0;34m,\u001b[0m \u001b[0mchild\u001b[0m\u001b[0;34m)\u001b[0m\u001b[0;34m:\u001b[0m\u001b[0;34m\u001b[0m\u001b[0m\n",
      "\u001b[0;32m~/.local/lib/python3.5/site-packages/py_trees/composites.py\u001b[0m in \u001b[0;36madd_child\u001b[0;34m(self, child)\u001b[0m\n\u001b[1;32m    143\u001b[0m         \u001b[0;31m# if  ( not isinstance(child, behaviour.Behaviour) )  and  ( behaviour.Behaviour not in inspect.getmro( child.__class__ ) ):\u001b[0m\u001b[0;34m\u001b[0m\u001b[0;34m\u001b[0m\u001b[0m\n\u001b[1;32m    144\u001b[0m         \u001b[0;32mif\u001b[0m  \u001b[0;34m(\u001b[0m \u001b[0;32mnot\u001b[0m \u001b[0misinstance\u001b[0m\u001b[0;34m(\u001b[0m \u001b[0mchild\u001b[0m \u001b[0;34m,\u001b[0m \u001b[0mbehaviour\u001b[0m\u001b[0;34m.\u001b[0m\u001b[0mBehaviour\u001b[0m\u001b[0;34m)\u001b[0m \u001b[0;34m)\u001b[0m  \u001b[0;32mand\u001b[0m  \u001b[0;34m(\u001b[0m \u001b[0;32mnot\u001b[0m \u001b[0mname_in_tree\u001b[0m\u001b[0;34m(\u001b[0m \u001b[0mbehaviour\u001b[0m\u001b[0;34m.\u001b[0m\u001b[0mBehaviour\u001b[0m\u001b[0;34m.\u001b[0m\u001b[0m__name__\u001b[0m \u001b[0;34m,\u001b[0m \u001b[0mchild\u001b[0m\u001b[0;34m.\u001b[0m\u001b[0m__class__\u001b[0m \u001b[0;34m)\u001b[0m \u001b[0;34m)\u001b[0m\u001b[0;34m:\u001b[0m\u001b[0;34m\u001b[0m\u001b[0m\n\u001b[0;32m--> 145\u001b[0;31m             \u001b[0;32mraise\u001b[0m \u001b[0mTypeError\u001b[0m\u001b[0;34m(\u001b[0m\u001b[0;34m\"children must be behaviours, but you passed in {}\"\u001b[0m\u001b[0;34m.\u001b[0m\u001b[0mformat\u001b[0m\u001b[0;34m(\u001b[0m\u001b[0mtype\u001b[0m\u001b[0;34m(\u001b[0m\u001b[0mchild\u001b[0m\u001b[0;34m)\u001b[0m\u001b[0;34m)\u001b[0m\u001b[0;34m)\u001b[0m\u001b[0;34m\u001b[0m\u001b[0m\n\u001b[0m\u001b[1;32m    146\u001b[0m         \u001b[0mself\u001b[0m\u001b[0;34m.\u001b[0m\u001b[0mchildren\u001b[0m\u001b[0;34m.\u001b[0m\u001b[0mappend\u001b[0m\u001b[0;34m(\u001b[0m\u001b[0mchild\u001b[0m\u001b[0;34m)\u001b[0m\u001b[0;34m\u001b[0m\u001b[0m\n\u001b[1;32m    147\u001b[0m         \u001b[0mchild\u001b[0m\u001b[0;34m.\u001b[0m\u001b[0mparent\u001b[0m \u001b[0;34m=\u001b[0m \u001b[0mself\u001b[0m\u001b[0;34m\u001b[0m\u001b[0m\n",
      "\u001b[0;31mTypeError\u001b[0m: children must be behaviours, but you passed in <class 'numpy.ndarray'>"
     ]
    }
   ],
   "source": [
    "\n",
    "import socket\n",
    "import numpy as np\n",
    "import struct\n",
    "\n",
    "\n",
    "PORT_SnS= 65493\n",
    "PORT_DC = PORT_SnS-10\n",
    "\n",
    "#for 20 steps\n",
    "relMoveDistance=0.0254/40  # 1 inch in meters\n",
    "Z_MoveDistance=0.0254/20  # 1 inch in meters\n",
    "\n",
    "\n",
    "#0.00125=0.1/80\n",
    "rotation_angle=5 # in degrees\n",
    "rotation_angle=rotation_angle*(math.pi/180)  #convert to radians\n",
    "#maxForce=2.0 #TapFz uses positive values #Newtons\n",
    "inputstring=0\n",
    "forcelimit=8#4.0\n",
    "#condition = EXCEEDS_Z_force\n",
    "#print(dir(condition))\n",
    "verbose=0\n",
    "\n",
    "def exceeds_force(force):\n",
    "        #Condition: Return a function that returns 1 if the z reaction limit is reached \n",
    "        def func():\n",
    "            _DEBUG = 0\n",
    "            #Stops when Z reaction exceeds value\n",
    "            wrench = robot.ft.get_wrist_force()\n",
    "            mag_x   = wrench[0]\n",
    "            mag_y   = wrench[1]\n",
    "            mag_z   = wrench[2]\n",
    "\n",
    "            if (abs(wrench[0]) > force or \n",
    "                abs(wrench[1]) > force or \n",
    "                abs(wrench[2]) > force) :\n",
    "                builtins._GLOB_FT_FLAG = 1\n",
    "                #print(\"pass\")\n",
    "                return 1\n",
    "            else:\n",
    "                #print(\"fail\")\n",
    "                if _DEBUG: \n",
    "                    print( \"exceeds force limit of \", force ,\"N  , wrench:\" , wrench )\n",
    "                return 0\n",
    "        return func     \n",
    "    \n",
    "#for 10 steps:\n",
    "#relMoveDistance=0.0254/20  # 1 inch in meters\n",
    "#Z_MoveDistance=0.0254/10  # 1 inch in meters\n",
    "\n",
    "\n",
    "#Start and Stop socket\n",
    "sock_SnS = socket.socket(socket.AF_INET, socket.SOCK_STREAM)# Create a TCP/IP socket\n",
    "HOST_SnS = '192.168.0.103'\n",
    "\n",
    "server_address_SnS = (HOST_SnS, PORT_SnS)# Bind the socket to the port\n",
    "print('Starting up SnS socket on {} port {}'.format(*server_address_SnS))\n",
    "sock_SnS.setsockopt(socket.SOL_SOCKET, socket.SO_REUSEADDR, 1)\n",
    "sock_SnS.bind(server_address_SnS)\n",
    "\n",
    "sock_SnS.listen(1) # Listen for incoming connections\n",
    "\n",
    "print('waiting for SnS connection')\n",
    "connection_SnS, client_address_SnS = sock_SnS.accept()\n",
    "\n",
    "print('SnS connection from', client_address_SnS)\n",
    "startmsg='start'\n",
    "data1=startmsg.encode('ascii')    \n",
    "connection_SnS.sendall(data1)\n",
    "print('SnS start command sent to client')\n",
    "\n",
    "\n",
    "\n",
    "\n",
    "#Data and command socket\n",
    "sock_DC = socket.socket(socket.AF_INET, socket.SOCK_STREAM)\n",
    "HOST_DC  = '192.168.0.103'\n",
    "\n",
    "# Bind the socket to the port\n",
    "server_address_DC  = (HOST_DC , PORT_DC )\n",
    "print('Starting up DC socket on {} port {}'.format(*server_address_DC))\n",
    "sock_DC.setsockopt(socket.SOL_SOCKET, socket.SO_REUSEADDR, 1)\n",
    "sock_DC.bind(server_address_DC)\n",
    "sock_DC.listen(1)# Listen for incoming connections\n",
    "\n",
    "episodecounter=0\n",
    "\n",
    "robot.ft.bias_wrist_force()   \n",
    "\n",
    "try:\n",
    "    while True:\n",
    "        # Wait for a connection\n",
    "        print('waiting for DC connection')\n",
    "        connection_DC, client_address_DC = sock_DC.accept()\n",
    "\n",
    "        print('DC connection from', client_address_DC)\n",
    "\n",
    "        # Receive the data in small chunks and retransmit it\n",
    "        while True:\n",
    "            command = connection_DC.recv(16)\n",
    "            #print(\"command\",command)\n",
    "            pushTree = Sequence() \n",
    "            translation_New     = [0.0,0.0,0.0] \n",
    "            rotation_New    = [0.0,0.0,0.0] \n",
    "            \n",
    "            #print('received {!r}'.format(command))\n",
    "            if command==b'end':\n",
    "                connection_DC.close()\n",
    "                print(\"Closing+shutting down DC connection\")\n",
    "                break\n",
    "                \n",
    "            if command==b'obs':\n",
    "                #print(\" 1\")\n",
    "                if verbose==1:\n",
    "                    print('sending pose data to DC client')\n",
    "                data=robot.arm.get_tcp_pose() \n",
    "                #print(\" 2\")\n",
    "                #print(data)\n",
    "                        #dat=bytes(data[i][j])#.encode('ascii')  arr.tolist()\n",
    "                posedatabyte=struct.pack('ffffffffffffffff',\n",
    "                            data[0][0],data[0][1],data[0][2],data[0][3],\n",
    "                            data[1][0],data[1][1],data[1][2],data[1][3],\n",
    "                            data[2][0],data[2][1],data[2][2],data[2][3],\n",
    "                            data[3][0],data[3][1],data[3][2],data[3][3])\n",
    "                #print(\" 3\")\n",
    "                connection_DC.sendall(posedatabyte)   #was send  \n",
    "                #print(\" 4\")\n",
    "                \n",
    "            \"\"\"\n",
    "            if command==b'k': \n",
    "                if verbose==1:\n",
    "                    print(\"+x\")\n",
    "                translation_New   = [-1*relMoveDistance, 0.0 , 0.0]  \n",
    "            elif command==b'h': \n",
    "                if verbose==1:\n",
    "                    print(\"-x\") \n",
    "                translation_New   = [relMoveDistance, 0.0 , 0.0]\n",
    "            elif command==b'u': \n",
    "                if verbose==1:\n",
    "                    print(\"+y\")\n",
    "                translation_New   = [0.0, -1*relMoveDistance, 0.0] \n",
    "            elif command==b'j': \n",
    "                if verbose==1:\n",
    "                    print(\"-y\")\n",
    "                translation_New   = [0.0, relMoveDistance, 0.0] \n",
    "            \n",
    "            \"\"\"        \n",
    "            if command==b'k': \n",
    "                if verbose==1:\n",
    "                    print(\"+x, -z\")\n",
    "                translation_New   = [-1*relMoveDistance, 0.0 , -1*Z_MoveDistance]  \n",
    "            elif command==b'h': \n",
    "                if verbose==1:\n",
    "                    print(\"-x , -z\") \n",
    "                translation_New   = [relMoveDistance, 0.0 , -1*Z_MoveDistance]\n",
    "            elif command==b'u': \n",
    "                if verbose==1:\n",
    "                    print(\"+y , -z\")\n",
    "                translation_New   = [0.0, -1*relMoveDistance, -1*Z_MoveDistance] \n",
    "            elif command==b'j': \n",
    "                if verbose==1:\n",
    "                    print(\"-y , -z\")\n",
    "                translation_New   = [0.0, relMoveDistance, -1*Z_MoveDistance]   \n",
    "            elif command==b'o': \n",
    "                if verbose==1:\n",
    "                    print(\"+z\")  \n",
    "                translation_New   =[0.0, 0.0 , Z_MoveDistance]\n",
    "            elif command==b'l':  \n",
    "                if verbose==1:\n",
    "                    print(\"-z\")\n",
    "                translation_New   =[0.0, 0.0 , -1*Z_MoveDistance]    \n",
    "                \n",
    "            if command==b'd': \n",
    "                if verbose==1:\n",
    "                    print(\"+pitch\")\n",
    "                rotation_New   = [-1*rotation_angle, 0.0 , 0.0]  \n",
    "            elif command==b'c': \n",
    "                print(\"-pitch\") \n",
    "                rotation_New   = [rotation_angle, 0.0 , 0.0]\n",
    "            elif command==b'z': \n",
    "                if verbose==1:\n",
    "                    print(\"+yaw\")\n",
    "                rotation_New   = [0.0, -1*rotation_angle, 0.0] \n",
    "            elif command==b'x': \n",
    "                if verbose==1:\n",
    "                    print(\"-yaw\")\n",
    "                rotation_New   = [0.0, rotation_angle, 0.0] \n",
    "            elif command==b'y': \n",
    "                if verbose==1:\n",
    "                    print(\"roll ccw\")  \n",
    "                rotation_New   =[0.0, 0.0 , rotation_angle]\n",
    "            elif command==b'i': \n",
    "                if verbose==1:\n",
    "                    print(\"roll cw\")\n",
    "                rotation_New   =[0.0, 0.0 , -1*rotation_angle] \n",
    "                \n",
    "            if (command==b'h' or command==b'j' or command==b'k' or command==b'l' or \n",
    "                command==b'u' or command==b'o'or command==b'y' or command==b'i' or \n",
    "                command==b'z' or command==b'x' or command==b'd' or command==b'c'):\n",
    "                #print(\"Running BT\")\n",
    "\n",
    "                pushTree.add_child(  \n",
    "                        Move_Arm_Relative( \n",
    "                            translation = translation_New , # Trans. Vec\n",
    "                            rotation    = rotation_New , # Euler angles\n",
    "                            mode = 'l' , speed = 0.125 , accel = 0.35 , \n",
    "                            #stop_cond =exceeds_Z_force2( forcelimit ), #None, None, #\n",
    "                            stop_cond =exceeds_force(forcelimit), #N                        \n",
    "                            frame = 'origin' ,\n",
    "                            cond_success = 0, # Flag true if we are using \"stop_cond()==1\" to mean *success*, otherwise the reverse\n",
    "                            bias_wrist = 0 ,# was 0 # If `stop_cond` is force based, this is a good idea\n",
    "                            _DEBUG =0, ctrl = robot\n",
    "                        ) # NOTE: If no stop_cond is provided, the this behavior returns true only if the full motion has completed\n",
    "                    )\n",
    "                run_BT_until_done(pushTree,HidePrintout=1,BeetleEnable=0)  #Nverb=0 hopefully stops print outputs\n",
    "\n",
    "            elif command==b'fetch':\n",
    "                print(\"fetching shaft\")\n",
    "                ShaftFetch(PerturbRadius=0)\n",
    "                \n",
    "                inputstring='done'\n",
    "                msg=inputstring.encode('ascii')\n",
    "                connection_DC.send(msg)    \n",
    "                episodecounter+=1\n",
    "                  \n",
    "            elif command==b'return':\n",
    "                print(\"returning shaft\")\n",
    "                ShaftReturn()\n",
    "                \n",
    "                inputstring='done'\n",
    "                msg=inputstring.encode('ascii')\n",
    "                connection_DC.send(msg)  \n",
    "                \n",
    "            elif command==b'reset':\n",
    "                print(\"resetting shaft\")\n",
    "                ShaftReset(PerturbRadius=0,inchestoggle=True)  #was 0.1\n",
    "                inputstring='done'\n",
    "                msg=inputstring.encode('ascii')\n",
    "                connection_DC.send(msg)    \n",
    "                \n",
    "                episodecounter+=1\n",
    "                if episodecounter%3==0:\n",
    "                    print(\"Biasing wrist force. Episode:\",episodecounter)\n",
    "                    robot.ft.bias_wrist_force()   \n",
    "                    \n",
    "            elif command==b'fetchobs':\n",
    "                print(\"fetching shaft\")\n",
    "                #this is a hack. Not sure why this combined command occasionally comes in \n",
    "                ShaftFetch()\n",
    "                \n",
    "                inputstring='done'\n",
    "                msg=inputstring.encode('ascii')\n",
    "                connection_DC.send(msg)  \n",
    "\n",
    "                if verbose==1:\n",
    "                    print('sending pose data to DC client')\n",
    "                data=robot.arm.get_tcp_pose() \n",
    "                #print(\" 2\")\n",
    "                #print(data)\n",
    "                        #dat=bytes(data[i][j])#.encode('ascii')  arr.tolist()\n",
    "                posedatabyte=struct.pack('ffffffffffffffff',\n",
    "                            data[0][0],data[0][1],data[0][2],data[0][3],\n",
    "                            data[1][0],data[1][1],data[1][2],data[1][3],\n",
    "                            data[2][0],data[2][1],data[2][2],data[2][3],\n",
    "                            data[3][0],data[3][1],data[3][2],data[3][3])\n",
    "                #print(\" 3\")\n",
    "                connection_DC.sendall(posedatabyte)   #was send  \n",
    "                \n",
    "            if (command!=b'h' and command!=b'j' and command!=b'k' and command!=b'l' and\n",
    "                command!=b'u' and command!=b'o'and command!=b'y' and command!=b'i' and\n",
    "                command!=b'z' and command!=b'x' and command!=b'd' and command!=b'c' and\n",
    "                command!=b'end' and command!=b'obs' and command != b'fetch' \n",
    "                and command != b'return' and command != b'reset' and command!=b''):\n",
    "                print(\"unexpected command:\", command)\n",
    "                \n",
    "            #else:\n",
    "                #print('no data from', client_address_DC)\n",
    "                #break\n",
    "        if command==b'end':\n",
    "            break\n",
    "    stopcommand = connection_SnS.recv(16)\n",
    "    print('received {!r}'.format(stopcommand))\n",
    "    if stopcommand==b'end':\n",
    "        print(\"Closing+shutting down SnS connection\")\n",
    "        connection_SnS.close()                   \n",
    "finally:\n",
    "   \n",
    "        print(\"Closing+shutting down SnS connection\")\n",
    "        connection_SnS.close()    \n",
    "        print(\"Closing+shutting down DC connection\")\n",
    "        connection_DC.close()    "
   ]
  },
  {
   "cell_type": "code",
   "execution_count": 4,
   "metadata": {},
   "outputs": [
    {
     "name": "stdout",
     "output_type": "stream",
     "text": [
      "Closing+shutting down SnS and DC connections\n"
     ]
    }
   ],
   "source": [
    "import socket, array\n",
    "print(\"Closing+shutting down SnS and DC connections\")\n",
    "connection_SnS.close()\n",
    "#connection_SnS.shutdown(SHUT_RDWR)\n",
    "connection_DC.close() "
   ]
  },
  {
   "cell_type": "code",
   "execution_count": null,
   "metadata": {},
   "outputs": [],
   "source": [
    "above target pose:\n",
    "    array([[-0.99934351, -0.00739002,  0.03546743, -0.19067701],\n",
    "       [-0.00697206,  0.99990496,  0.01189363, -0.49435258],\n",
    "       [-0.03555196,  0.01163854, -0.99930006,  0.09755498],\n",
    "       [ 0.        ,  0.        ,  0.        ,  1.        ]])"
   ]
  },
  {
   "cell_type": "code",
   "execution_count": null,
   "metadata": {},
   "outputs": [],
   "source": []
  },
  {
   "cell_type": "markdown",
   "metadata": {},
   "source": [
    "# Utils & Setup"
   ]
  },
  {
   "cell_type": "code",
   "execution_count": 3,
   "metadata": {},
   "outputs": [
    {
     "data": {
      "text/plain": [
       "1"
      ]
     },
     "execution_count": 3,
     "metadata": {},
     "output_type": "execute_result"
    }
   ],
   "source": [
    "robot.hand.deactivate_motors()"
   ]
  },
  {
   "cell_type": "code",
   "execution_count": 24,
   "metadata": {},
   "outputs": [
    {
     "data": {
      "text/plain": [
       "array([[-0.99934351, -0.00739002,  0.03546743, -0.19067701],\n",
       "       [-0.00697206,  0.99990496,  0.01189363, -0.49435258],\n",
       "       [-0.03555196,  0.01163854, -0.99930006,  0.09755498],\n",
       "       [ 0.        ,  0.        ,  0.        ,  1.        ]])"
      ]
     },
     "execution_count": 24,
     "metadata": {},
     "output_type": "execute_result"
    }
   ],
   "source": [
    "robot.arm.get_tcp_pose()"
   ]
  },
  {
   "cell_type": "code",
   "execution_count": 23,
   "metadata": {},
   "outputs": [
    {
     "data": {
      "text/plain": [
       "True"
      ]
     },
     "execution_count": 23,
     "metadata": {},
     "output_type": "execute_result"
    }
   ],
   "source": [
    "robot.hand.set_finger_torque(0.3)"
   ]
  },
  {
   "cell_type": "code",
   "execution_count": 24,
   "metadata": {},
   "outputs": [
    {
     "data": {
      "text/plain": [
       "True"
      ]
     },
     "execution_count": 24,
     "metadata": {},
     "output_type": "execute_result"
    }
   ],
   "source": [
    "robot.hand.set_finger_width(0.0)"
   ]
  },
  {
   "cell_type": "code",
   "execution_count": null,
   "metadata": {},
   "outputs": [],
   "source": [
    "robot.arm.move_speed( midDrillPose , 'l' , 0.125 , 0.35 , 0 , 'dummy' , False )"
   ]
  },
  {
   "cell_type": "code",
   "execution_count": 9,
   "metadata": {},
   "outputs": [
    {
     "name": "stdout",
     "output_type": "stream",
     "text": [
      "Stored 'shaftPreInsertPose_low' (ndarray)\n"
     ]
    }
   ],
   "source": [
    "shaftPreInsertPose_low = robot.arm.get_tcp_pose() #rm.get_tcp_pose()\n",
    "%store shaftPreInsertPose_low"
   ]
  },
  {
   "cell_type": "code",
   "execution_count": null,
   "metadata": {},
   "outputs": [],
   "source": [
    "robot.arm.move_speed( aboveTableDrill , 'l' , 0.125 , 0.35 , 0 , 'dummy' , False )"
   ]
  },
  {
   "cell_type": "markdown",
   "metadata": {},
   "source": [
    "# Run this after teaching any poses"
   ]
  },
  {
   "cell_type": "code",
   "execution_count": null,
   "metadata": {},
   "outputs": [],
   "source": [
    "import pickle , traceback\n",
    "\n",
    "def save_names_to_PKL( pklPath , nameStringList ):\n",
    "    pklStruct = {}\n",
    "    print( vars() )\n",
    "    for name in nameStringList:\n",
    "        pklStruct[ name ] = globals()[ name ]\n",
    "        \n",
    "    with open( pklPath , \"wb\" ) as f:\n",
    "        try:\n",
    "            print( \"Pickling\" , pklPath , end = '... ' )\n",
    "            pickle.dump( pklStruct , f )\n",
    "            print( \"Success!\" )\n",
    "        except Exception as er:\n",
    "            print( \"FAILURE! :\" , er )\n",
    "            traceback.print_exc()\n",
    "    print( \"### Completed Writing\" , pklPath , \"###\" )\n",
    "    \n",
    "save_names_to_PKL( \n",
    "    pklPath = \"taughtPoses.pkl\" , \n",
    "    nameStringList = [  \n",
    "        'startPose' ,\n",
    "        'M8_GraspPose' , 'M6_GraspPose' , 'M4_GraspPose' , 'GearShaft1_Setdown' , 'GearShaft2_Setdown' , \n",
    "        'BNC_Ma_Setdown' , 'KeySm_Setdown' , 'KeyLg_Setdown' , 'ShaftSm_Setdown' , 'ShaftLg_Setdown' , \n",
    "        'KeyLg_Grasp' , 'ShaftLg_Grasp' , 'BNC_Fe_Grasp' , 'ShaftSm_Grasp' , \n",
    "        'GearLg_Grasp' , 'GearLg_Grasp' , 'Ether_setdown' , \n",
    "        'M8_1_mag' , 'M8_2_mag' , 'M8_3_mag' , 'M8_4_mag' , 'M8_5_mag' , 'M8_6_mag' ,\n",
    "        'M6_1_mag' , 'M6_2_mag' , 'M6_3_mag' , 'M6_4_mag' , 'M6_5_mag' , 'M6_6_mag' ,\n",
    "        'M4_1_mag' , 'M4_2_mag' , 'M4_3_mag' , 'M4_4_mag' , 'M4_5_mag' , 'M4_6_mag' ,\n",
    "        'releasePose' , 'SAFE_POSE' , 'midDrillPose' , \n",
    "        '_LRG_GEAR_DEX' , '_SML_GEAR_DEX', 'aboveTableDrill'\n",
    "    ]\n",
    ")"
   ]
  },
  {
   "cell_type": "code",
   "execution_count": null,
   "metadata": {},
   "outputs": [],
   "source": []
  }
 ],
 "metadata": {
  "kernelspec": {
   "display_name": "Python 3 (ipykernel)",
   "language": "python",
   "name": "python3"
  },
  "language_info": {
   "codemirror_mode": {
    "name": "ipython",
    "version": 3
   },
   "file_extension": ".py",
   "mimetype": "text/x-python",
   "name": "python",
   "nbconvert_exporter": "python",
   "pygments_lexer": "ipython3",
   "version": "3.5.2"
  }
 },
 "nbformat": 4,
 "nbformat_minor": 4
}
