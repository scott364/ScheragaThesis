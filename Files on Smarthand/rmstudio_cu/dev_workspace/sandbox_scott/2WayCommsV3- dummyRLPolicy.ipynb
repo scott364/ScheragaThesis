{
 "cells": [
  {
   "cell_type": "markdown",
   "metadata": {},
   "source": [
    "## echo server"
   ]
  },
  {
   "cell_type": "markdown",
   "metadata": {},
   "source": [
    "## Test server"
   ]
  },
  {
   "cell_type": "code",
   "execution_count": 1,
   "metadata": {},
   "outputs": [
    {
     "name": "stdout",
     "output_type": "stream",
     "text": [
      "Loaded: /home/nvidia/dev_rmstudio/rmlib/rmlib/rmtools Exists?: True\n",
      "Loaded: /home/nvidia/dev_rmstudio/rmlib Exists?: True\n",
      "Setting up robot please wait...\n",
      "my_components: {'ft_config': {'class_name': 'OptoForce', 'remote_ip': '', 'max_workers': 10, 'module_name': 'sensors.ftsensor_optoforce', 'filter': {'alpha': 0.012, 'beta': 0.035}, 'remote_port': 10000, 'dataHz': 50.0, 'ip_address': '192.168.0.100', 'local_ip': '127.0.0.1', 'local_port': 20000}, 'cam_config': {'class_name': 'RealSense', 'camera_model': 'd410', 'ci_cam_offset': [-0.036, -0.028, -0.079], 'module_name': 'cameras.realsense', 'pc_cam_offset': [-0.037, -0.033, -0.079]}, 'hand_config': {'class_name': 'SmartHand', 'module_name': 'hands.smarthand', 'finger_length': 0.0415, 'finger_width_inner': 0.0, 'finger_width_outer': 0.015, 'finger_depth': 0.014}, 'arm_config': {'max_linear_speed': 0.25, 'ip_address': '192.168.0.101', 'xmlrpc_port': '8003', 'module_name': 'arms.ur5', 'default_linear_speed': 0.1, 'max_linear_accel': 1.2, 'class_name': 'UR5', 'max_joint_speed': 1.05, 'default_linear_accel': 0.8, 'default_joint_speed': 0.7, 'default_joint_accel': 0.8, 'max_joint_accel': 1.4}}\n",
      "active_componetns: {'arm': ['arm_config'], 'ft': ['ft_config'], 'camera': ['cam_config'], 'hand': ['hand_config']}\n",
      "{'max_linear_speed': 0.25, 'ip_address': '192.168.0.101', 'xmlrpc_port': '8003', 'module_name': 'arms.ur5', 'default_linear_speed': 0.1, 'max_linear_accel': 1.2, 'class_name': 'UR5', 'max_joint_speed': 1.05, 'default_linear_accel': 0.8, 'default_joint_speed': 0.7, 'default_joint_accel': 0.8, 'max_joint_accel': 1.4}\n",
      "<class 'rmlib.arms.ur5.UR5'>\n",
      "{'class_name': 'OptoForce', 'remote_ip': '', 'max_workers': 10, 'module_name': 'sensors.ftsensor_optoforce', 'filter': {'alpha': 0.012, 'beta': 0.035}, 'remote_port': 10000, 'dataHz': 50.0, 'ip_address': '192.168.0.100', 'local_ip': '127.0.0.1', 'local_port': 20000}\n",
      "<class 'rmlib.sensors.ftsensor_optoforce.OptoForce'>\n",
      "Connecting to the force sensor at ('192.168.0.100', 49152) ... SUCCESS!\n",
      "Preparing OptoForce for data transmission ... COMPLETED!\n",
      "Set up server at: {'ip': '127.0.0.1', 'port': 20000}\n",
      "Set up server at: {'ip': '', 'port': 10000}\n",
      "\n",
      " Config Tuple: {'ip': '127.0.0.1', 'port': 20000} \n",
      "\n",
      " Config Tuple:XML-RPC servers RUNNING!\n",
      "{'class_name': 'RealSense', 'camera_model': 'd410', 'ci_cam_offset': [-0.036, -0.028, -0.079], 'module_name': 'cameras.realsense', 'pc_cam_offset': [-0.037, -0.033, -0.079]}\n",
      "\n",
      " {'ip': '', 'port': 10000} \n",
      "XML-RPC serving FT data from ('127.0.0.1', 20000)\n",
      "\n",
      "XML-RPC serving FT data from ('', 10000)\n",
      "<class 'rmlib.cameras.realsense.RealSense'>\n",
      "{'class_name': 'SmartHand', 'module_name': 'hands.smarthand', 'finger_length': 0.0415, 'finger_width_inner': 0.0, 'finger_width_outer': 0.015, 'finger_depth': 0.014}\n",
      "<class 'rmlib.hands.smarthand.SmartHand'>\n",
      "Robot Ready!\n",
      "Functions and Vars added to RMStudio!\n"
     ]
    }
   ],
   "source": [
    "\n",
    "from context import rmlib\n",
    "#Imports \n",
    "from time import sleep\n",
    "import numpy as np\n",
    "import rmlib\n",
    "from rmlib.rmtools.asm_BT_lib.asm_tree_Basic import augment_RM\n",
    "import rmlib.rmtools as rm\n",
    "from config import robotConfig\n",
    "\n",
    "robot = rmlib.robot.Robot( robotConfig )\n",
    "\n",
    "augment_RM( robot )\n"
   ]
  },
  {
   "cell_type": "code",
   "execution_count": 2,
   "metadata": {},
   "outputs": [
    {
     "name": "stdout",
     "output_type": "stream",
     "text": [
      "Starting up SnS socket on 192.168.0.103 port 65498\n",
      "waiting for SnS connection\n",
      "SnS connection from ('192.168.0.102', 58280)\n",
      "SnS start command sent to client\n",
      "Starting up DC socket on 192.168.0.103 port 65488\n",
      "waiting for DC connection\n",
      "DC connection from ('192.168.0.102', 60066)\n",
      "received b'u'\n",
      "received b'k'\n",
      "received b'h'\n",
      "received b'obs'\n",
      "sending pose data to DC client\n",
      "received b'obs'\n",
      "sending pose data to DC client\n",
      "received b'home'\n",
      "received b'end'\n",
      "Closing+shutting down DC connection\n",
      "received b'end'\n",
      "Closing+shutting down SnS connection\n",
      "Closing+shutting down SnS connection\n",
      "Closing+shutting down DC connection\n"
     ]
    }
   ],
   "source": [
    "import socket\n",
    "import numpy as np\n",
    "import struct\n",
    "\n",
    "#Start and Stop socket\n",
    "sock_SnS = socket.socket(socket.AF_INET, socket.SOCK_STREAM)# Create a TCP/IP socket\n",
    "HOST_SnS = '192.168.0.103'\n",
    "PORT_SnS= 65498\n",
    "server_address_SnS = (HOST_SnS, PORT_SnS)# Bind the socket to the port\n",
    "print('Starting up SnS socket on {} port {}'.format(*server_address_SnS))\n",
    "sock_SnS.setsockopt(socket.SOL_SOCKET, socket.SO_REUSEADDR, 1)\n",
    "sock_SnS.bind(server_address_SnS)\n",
    "# Listen for incoming connections\n",
    "sock_SnS.listen(1)\n",
    "\n",
    "\n",
    "\n",
    "# Wait for a connection\n",
    "print('waiting for SnS connection')\n",
    "connection_SnS, client_address_SnS = sock_SnS.accept()\n",
    "\n",
    "print('SnS connection from', client_address_SnS)\n",
    "startmsg='start'\n",
    "data1=startmsg.encode('ascii')    \n",
    "connection_SnS.sendall(data1)\n",
    "print('SnS start command sent to client')\n",
    "\n",
    "#Data and command socket\n",
    "sock_DC = socket.socket(socket.AF_INET, socket.SOCK_STREAM)\n",
    "HOST_DC  = '192.168.0.103'\n",
    "PORT_DC = 65488\n",
    "\n",
    "# Bind the socket to the port\n",
    "server_address_DC  = (HOST_DC , PORT_DC )\n",
    "print('Starting up DC socket on {} port {}'.format(*server_address_DC))\n",
    "sock_DC.setsockopt(socket.SOL_SOCKET, socket.SO_REUSEADDR, 1)\n",
    "sock_DC.bind(server_address_DC)\n",
    "sock_DC.listen(1)# Listen for incoming connections\n",
    "\n",
    "\n",
    "try:\n",
    "    while True:\n",
    "        # Wait for a connection\n",
    "        print('waiting for DC connection')\n",
    "        connection_DC, client_address_DC = sock_DC.accept()\n",
    "\n",
    "        print('DC connection from', client_address_DC)\n",
    "\n",
    "        # Receive the data in small chunks and retransmit it\n",
    "        while True:\n",
    "            command = connection_DC.recv(16)\n",
    "            print('received {!r}'.format(command))\n",
    "            if command==b'end':\n",
    "                connection_DC.close()\n",
    "                print(\"Closing+shutting down DC connection\")\n",
    "                break\n",
    "            if command==b'obs':\n",
    "                print('sending pose data to DC client')\n",
    "                data=robot.arm.get_tcp_pose() \n",
    "                #print(data)\n",
    "                        #dat=bytes(data[i][j])#.encode('ascii')  arr.tolist()\n",
    "                posedatabyte=struct.pack('ffffffffffffffff',\n",
    "                            data[0][0],data[0][1],data[0][2],data[0][3],\n",
    "                            data[1][0],data[1][1],data[1][2],data[1][3],\n",
    "                            data[2][0],data[2][1],data[2][2],data[2][3],\n",
    "                            data[3][0],data[3][1],data[3][2],data[3][3])\n",
    "                connection_DC.sendall(posedatabyte)   #was send   \n",
    "            #else:\n",
    "                #print('no data from', client_address_DC)\n",
    "                #break\n",
    "        if command==b'end':\n",
    "            break\n",
    "    stopcommand = connection_SnS.recv(16)\n",
    "    print('received {!r}'.format(stopcommand))\n",
    "    if stopcommand==b'end':\n",
    "        print(\"Closing+shutting down SnS connection\")\n",
    "        connection_SnS.close()                   \n",
    "finally:\n",
    "   \n",
    "        print(\"Closing+shutting down SnS connection\")\n",
    "        connection_SnS.close()    \n",
    "        print(\"Closing+shutting down DC connection\")\n",
    "        connection_DC.close()    "
   ]
  },
  {
   "cell_type": "code",
   "execution_count": 4,
   "metadata": {},
   "outputs": [
    {
     "name": "stdout",
     "output_type": "stream",
     "text": [
      "blah\n"
     ]
    }
   ],
   "source": [
    "x=0\n",
    "f=5\n",
    "try:\n",
    "    f> 3\n",
    "except:\n",
    "    print(Exception(\"Something went wrong\") )\n",
    "    print(\"testo\")\n",
    "    \n",
    "\n",
    "\n",
    "finally:\n",
    "    print(\"blah\")"
   ]
  },
  {
   "cell_type": "code",
   "execution_count": null,
   "metadata": {},
   "outputs": [],
   "source": []
  },
  {
   "cell_type": "code",
   "execution_count": null,
   "metadata": {},
   "outputs": [],
   "source": []
  }
 ],
 "metadata": {
  "kernelspec": {
   "display_name": "Python 3",
   "language": "python",
   "name": "python3"
  },
  "language_info": {
   "codemirror_mode": {
    "name": "ipython",
    "version": 3
   },
   "file_extension": ".py",
   "mimetype": "text/x-python",
   "name": "python",
   "nbconvert_exporter": "python",
   "pygments_lexer": "ipython3",
   "version": "3.5.2"
  }
 },
 "nbformat": 4,
 "nbformat_minor": 4
}
