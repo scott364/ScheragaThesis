{
 "cells": [
  {
   "cell_type": "markdown",
   "metadata": {},
   "source": [
    "## echo server"
   ]
  },
  {
   "cell_type": "code",
   "execution_count": 1,
   "metadata": {},
   "outputs": [
    {
     "name": "stdout",
     "output_type": "stream",
     "text": [
      "Starting up on 192.168.0.103 port 65452\n",
      "waiting for a connection\n"
     ]
    },
    {
     "ename": "KeyboardInterrupt",
     "evalue": "",
     "output_type": "error",
     "traceback": [
      "\u001b[0;31m---------------------------------------------------------------------------\u001b[0m",
      "\u001b[0;31mKeyboardInterrupt\u001b[0m                         Traceback (most recent call last)",
      "\u001b[0;32m<ipython-input-1-e3fb70426dcf>\u001b[0m in \u001b[0;36m<module>\u001b[0;34m\u001b[0m\n\u001b[1;32m     18\u001b[0m     \u001b[0;31m# Wait for a connection\u001b[0m\u001b[0;34m\u001b[0m\u001b[0;34m\u001b[0m\u001b[0m\n\u001b[1;32m     19\u001b[0m     \u001b[0mprint\u001b[0m\u001b[0;34m(\u001b[0m\u001b[0;34m'waiting for a connection'\u001b[0m\u001b[0;34m)\u001b[0m\u001b[0;34m\u001b[0m\u001b[0m\n\u001b[0;32m---> 20\u001b[0;31m     \u001b[0mconnection\u001b[0m\u001b[0;34m,\u001b[0m \u001b[0mclient_address\u001b[0m \u001b[0;34m=\u001b[0m \u001b[0msock\u001b[0m\u001b[0;34m.\u001b[0m\u001b[0maccept\u001b[0m\u001b[0;34m(\u001b[0m\u001b[0;34m)\u001b[0m\u001b[0;34m\u001b[0m\u001b[0m\n\u001b[0m\u001b[1;32m     21\u001b[0m     \u001b[0;32mtry\u001b[0m\u001b[0;34m:\u001b[0m\u001b[0;34m\u001b[0m\u001b[0m\n\u001b[1;32m     22\u001b[0m         \u001b[0mprint\u001b[0m\u001b[0;34m(\u001b[0m\u001b[0;34m'connection from'\u001b[0m\u001b[0;34m,\u001b[0m \u001b[0mclient_address\u001b[0m\u001b[0;34m)\u001b[0m\u001b[0;34m\u001b[0m\u001b[0m\n",
      "\u001b[0;32m/usr/lib/python3.5/socket.py\u001b[0m in \u001b[0;36maccept\u001b[0;34m(self)\u001b[0m\n\u001b[1;32m    193\u001b[0m         \u001b[0mFor\u001b[0m \u001b[0mIP\u001b[0m \u001b[0msockets\u001b[0m\u001b[0;34m,\u001b[0m \u001b[0mthe\u001b[0m \u001b[0maddress\u001b[0m \u001b[0minfo\u001b[0m \u001b[0;32mis\u001b[0m \u001b[0ma\u001b[0m \u001b[0mpair\u001b[0m \u001b[0;34m(\u001b[0m\u001b[0mhostaddr\u001b[0m\u001b[0;34m,\u001b[0m \u001b[0mport\u001b[0m\u001b[0;34m)\u001b[0m\u001b[0;34m.\u001b[0m\u001b[0;34m\u001b[0m\u001b[0m\n\u001b[1;32m    194\u001b[0m         \"\"\"\n\u001b[0;32m--> 195\u001b[0;31m         \u001b[0mfd\u001b[0m\u001b[0;34m,\u001b[0m \u001b[0maddr\u001b[0m \u001b[0;34m=\u001b[0m \u001b[0mself\u001b[0m\u001b[0;34m.\u001b[0m\u001b[0m_accept\u001b[0m\u001b[0;34m(\u001b[0m\u001b[0;34m)\u001b[0m\u001b[0;34m\u001b[0m\u001b[0m\n\u001b[0m\u001b[1;32m    196\u001b[0m         \u001b[0;31m# If our type has the SOCK_NONBLOCK flag, we shouldn't pass it onto the\u001b[0m\u001b[0;34m\u001b[0m\u001b[0;34m\u001b[0m\u001b[0m\n\u001b[1;32m    197\u001b[0m         \u001b[0;31m# new socket. We do not currently allow passing SOCK_NONBLOCK to\u001b[0m\u001b[0;34m\u001b[0m\u001b[0;34m\u001b[0m\u001b[0m\n",
      "\u001b[0;31mKeyboardInterrupt\u001b[0m: "
     ]
    }
   ],
   "source": [
    "import socket\n",
    "\n",
    "# Create a TCP/IP socket\n",
    "sock = socket.socket(socket.AF_INET, socket.SOCK_STREAM)\n",
    "HOST2 = '192.168.0.103'\n",
    "PORT2= 65452 \n",
    "    \n",
    "# Bind the socket to the port\n",
    "server_address = (HOST2, PORT2)\n",
    "\n",
    "print('Starting up on {} port {}'.format(*server_address))\n",
    "sock.bind(server_address)\n",
    "\n",
    "# Listen for incoming connections\n",
    "sock.listen(1)\n",
    "\n",
    "while True:\n",
    "    # Wait for a connection\n",
    "    print('waiting for a connection')\n",
    "    connection, client_address = sock.accept()\n",
    "    try:\n",
    "        print('connection from', client_address)\n",
    "\n",
    "        # Receive the data in small chunks and retransmit it\n",
    "        while True:\n",
    "            data = connection.recv(16)\n",
    "            print('received {!r}'.format(data))\n",
    "            if data:\n",
    "                print('sending data back to the client')\n",
    "                connection.sendall(data)\n",
    "            else:\n",
    "                print('no data from', client_address)\n",
    "                break\n",
    "\n",
    "    finally:\n",
    "        # Clean up the connection\n",
    "        print(\"Closing current connection\")\n",
    "        connection.close()"
   ]
  },
  {
   "cell_type": "markdown",
   "metadata": {},
   "source": [
    "## Test server"
   ]
  },
  {
   "cell_type": "code",
   "execution_count": 1,
   "metadata": {},
   "outputs": [
    {
     "name": "stdout",
     "output_type": "stream",
     "text": [
      "Loaded: /home/nvidia/dev_rmstudio/rmlib/rmlib/rmtools Exists?: True\n",
      "Loaded: /home/nvidia/dev_rmstudio/rmlib Exists?: True\n",
      "Setting up robot please wait...\n",
      "my_components: {'arm_config': {'ip_address': '192.168.0.101', 'default_joint_accel': 0.8, 'default_linear_speed': 0.1, 'default_joint_speed': 0.7, 'module_name': 'arms.ur5', 'max_linear_accel': 1.2, 'class_name': 'UR5', 'max_joint_speed': 1.05, 'max_linear_speed': 0.25, 'xmlrpc_port': '8003', 'default_linear_accel': 0.8, 'max_joint_accel': 1.4}, 'cam_config': {'pc_cam_offset': [-0.037, -0.033, -0.079], 'module_name': 'cameras.realsense', 'ci_cam_offset': [-0.036, -0.028, -0.079], 'camera_model': 'd410', 'class_name': 'RealSense'}, 'hand_config': {'finger_length': 0.0415, 'finger_depth': 0.014, 'module_name': 'hands.smarthand', 'class_name': 'SmartHand', 'finger_width_outer': 0.015, 'finger_width_inner': 0.0}, 'ft_config': {'max_workers': 10, 'ip_address': '192.168.0.100', 'filter': {'alpha': 0.012, 'beta': 0.035}, 'local_port': 20000, 'remote_port': 10000, 'remote_ip': '', 'module_name': 'sensors.ftsensor_optoforce', 'local_ip': '127.0.0.1', 'dataHz': 50.0, 'class_name': 'OptoForce'}}\n",
      "active_componetns: {'camera': ['cam_config'], 'ft': ['ft_config'], 'hand': ['hand_config'], 'arm': ['arm_config']}\n",
      "{'pc_cam_offset': [-0.037, -0.033, -0.079], 'module_name': 'cameras.realsense', 'ci_cam_offset': [-0.036, -0.028, -0.079], 'camera_model': 'd410', 'class_name': 'RealSense'}\n",
      "<class 'rmlib.cameras.realsense.RealSense'>\n",
      "{'max_workers': 10, 'ip_address': '192.168.0.100', 'filter': {'alpha': 0.012, 'beta': 0.035}, 'local_port': 20000, 'remote_port': 10000, 'remote_ip': '', 'module_name': 'sensors.ftsensor_optoforce', 'local_ip': '127.0.0.1', 'dataHz': 50.0, 'class_name': 'OptoForce'}\n",
      "<class 'rmlib.sensors.ftsensor_optoforce.OptoForce'>\n",
      "Connecting to the force sensor at ('192.168.0.100', 49152) ... SUCCESS!\n",
      "Preparing OptoForce for data transmission ... COMPLETED!\n",
      "Set up server at: {'ip': '127.0.0.1', 'port': 20000}\n",
      "Set up server at: {'ip': '', 'port': 10000}\n",
      "\n",
      " Config Tuple: {'ip': '127.0.0.1', 'port': 20000} \n",
      "\n",
      "XML-RPC serving FT data from ('127.0.0.1', 20000)\n",
      "\n",
      " Config Tuple: {'ip': '', 'port': 10000} \n",
      "\n",
      "XML-RPC serving FT data from ('', 10000)\n",
      "XML-RPC servers RUNNING!\n",
      "{'finger_length': 0.0415, 'finger_depth': 0.014, 'module_name': 'hands.smarthand', 'class_name': 'SmartHand', 'finger_width_outer': 0.015, 'finger_width_inner': 0.0}\n",
      "<class 'rmlib.hands.smarthand.SmartHand'>\n",
      "{'ip_address': '192.168.0.101', 'default_joint_accel': 0.8, 'default_linear_speed': 0.1, 'default_joint_speed': 0.7, 'module_name': 'arms.ur5', 'max_linear_accel': 1.2, 'class_name': 'UR5', 'max_joint_speed': 1.05, 'max_linear_speed': 0.25, 'xmlrpc_port': '8003', 'default_linear_accel': 0.8, 'max_joint_accel': 1.4}\n",
      "<class 'rmlib.arms.ur5.UR5'>\n",
      "Robot Ready!\n",
      "Functions and Vars added to RMStudio!\n"
     ]
    }
   ],
   "source": [
    "\n",
    "from context import rmlib\n",
    "#Imports \n",
    "from time import sleep\n",
    "import numpy as np\n",
    "import rmlib\n",
    "from rmlib.rmtools.asm_BT_lib.asm_tree_Basic import augment_RM\n",
    "import rmlib.rmtools as rm\n",
    "from config import robotConfig\n",
    "\n",
    "robot = rmlib.robot.Robot( robotConfig )\n",
    "\n",
    "augment_RM( robot )\n"
   ]
  },
  {
   "cell_type": "code",
   "execution_count": 2,
   "metadata": {},
   "outputs": [
    {
     "name": "stdout",
     "output_type": "stream",
     "text": [
      "Starting up on 192.168.0.103 port 65458\n",
      "waiting for a connection\n",
      "connection from ('192.168.0.102', 46788)\n",
      "received b'u'\n",
      "sending data back to the client\n",
      "[[-0.99934441 -0.00610222  0.03568637 -0.14532579]\n",
      " [-0.00426994  0.99867947  0.05119661 -0.30391228]\n",
      " [-0.03595166  0.05101066 -0.9980508   0.26136942]\n",
      " [ 0.          0.          0.          1.        ]]\n",
      "received b'h'\n",
      "sending data back to the client\n",
      "[[-0.99934441 -0.00610222  0.03568637 -0.14532579]\n",
      " [-0.00426994  0.99867947  0.05119661 -0.30391228]\n",
      " [-0.03595166  0.05101066 -0.9980508   0.26136942]\n",
      " [ 0.          0.          0.          1.        ]]\n",
      "received b'end'\n",
      "Closing current connection\n",
      "Closing+shutting down current connection\n"
     ]
    }
   ],
   "source": [
    "import socket\n",
    "import numpy as np\n",
    "import struct\n",
    "HOST = '192.168.0.103'\n",
    "PORT= 65458\n",
    "\n",
    "# Create a TCP/IP socket\n",
    "sock = socket.socket(socket.AF_INET, socket.SOCK_STREAM)\n",
    "#sock.connect((HOST, PORT))\n",
    "    \n",
    "# Bind the socket to the port\n",
    "server_address = (HOST, PORT)\n",
    "sock.setsockopt(socket.SOL_SOCKET, socket.SO_REUSEADDR, 1)\n",
    "sock.bind(server_address)\n",
    "print('Starting up on {} port {}'.format(*server_address))\n",
    "\n",
    "# Listen for incoming connections\n",
    "sock.listen(1)\n",
    "\n",
    "try:\n",
    "    while True:\n",
    "        # Wait for a connection\n",
    "        print('waiting for a connection')\n",
    "        connection, client_address = sock.accept()\n",
    "        try:\n",
    "            print('connection from', client_address)\n",
    "\n",
    "            # Receive the data in small chunks and retransmit it\n",
    "            while True:\n",
    "                command = connection.recv(16)\n",
    "                print('received {!r}'.format(command))\n",
    "                if command==b'end':\n",
    "                    break\n",
    "                if command:\n",
    "                    print('sending data back to the client')\n",
    "                    data=np.array([[-0.99934441,-0.00610222  ,0.03568637 ,-0.14532579],\n",
    "                                           [-0.00426994  ,0.99867947  ,0.05119661 ,-0.30391228],\n",
    "                                           [-0.03595166  ,0.05101066 ,-0.9980508  , 0.26136942],\n",
    "                                           [ 0.          ,0.          ,0.          ,1.        ]])\n",
    "\n",
    "                    print(data)\n",
    "                            #dat=bytes(data[i][j])#.encode('ascii')  arr.tolist()\n",
    "                    posedatabyte=struct.pack('ffffffffffffffff',\n",
    "                                data[0][0],data[0][1],data[0][2],data[0][3],\n",
    "                                data[1][0],data[1][1],data[1][2],data[1][3],\n",
    "                                data[2][0],data[2][1],data[2][2],data[2][3],\n",
    "                                data[3][0],data[3][1],data[3][2],data[3][3])\n",
    "                    connection.send(posedatabyte)      \n",
    "                else:\n",
    "                    print('no data from', client_address)\n",
    "                    break\n",
    "                    \n",
    "            if command==b'end':\n",
    "                break \n",
    "        finally:\n",
    "            # Clean up the connection\n",
    "            print(\"Closing current connection\")\n",
    "            connection.close()\n",
    "                   \n",
    "finally:\n",
    "        # Clean up the connection\n",
    "        print(\"Closing+shutting down current connection\")\n",
    "        #connection.shutdown(sock.SHUT_RDWR) \n",
    "        connection.close()        "
   ]
  },
  {
   "cell_type": "code",
   "execution_count": 4,
   "metadata": {},
   "outputs": [
    {
     "name": "stdout",
     "output_type": "stream",
     "text": [
      "blah\n"
     ]
    }
   ],
   "source": [
    "x=0\n",
    "f=5\n",
    "try:\n",
    "    f> 3\n",
    "except:\n",
    "    print(Exception(\"Something went wrong\") )\n",
    "    print(\"testo\")\n",
    "    \n",
    "\n",
    "\n",
    "finally:\n",
    "    print(\"blah\")"
   ]
  },
  {
   "cell_type": "code",
   "execution_count": null,
   "metadata": {},
   "outputs": [],
   "source": []
  },
  {
   "cell_type": "code",
   "execution_count": null,
   "metadata": {},
   "outputs": [],
   "source": []
  }
 ],
 "metadata": {
  "kernelspec": {
   "display_name": "Python 3",
   "language": "python",
   "name": "python3"
  },
  "language_info": {
   "codemirror_mode": {
    "name": "ipython",
    "version": 3
   },
   "file_extension": ".py",
   "mimetype": "text/x-python",
   "name": "python",
   "nbconvert_exporter": "python",
   "pygments_lexer": "ipython3",
   "version": "3.5.2"
  }
 },
 "nbformat": 4,
 "nbformat_minor": 4
}
