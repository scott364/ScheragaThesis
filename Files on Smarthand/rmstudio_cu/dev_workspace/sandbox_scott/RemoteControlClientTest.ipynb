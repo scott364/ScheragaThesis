{
 "cells": [
  {
   "cell_type": "code",
   "execution_count": 7,
   "metadata": {},
   "outputs": [
    {
     "name": "stdout",
     "output_type": "stream",
     "text": [
      "Received b'Hello, world'\n"
     ]
    }
   ],
   "source": [
    "import socket\n",
    "\n",
    "#HOST = '127.0.0.1'  # The server's hostname or IP address\n",
    "HOST = '192.168.0.102'\n",
    "PORT = 65432        # The port used by the server\n",
    "\n",
    "with socket.socket(socket.AF_INET, socket.SOCK_STREAM) as s:\n",
    "    s.connect((HOST, PORT))\n",
    "    message=b'Hello, world'\n",
    "    s.sendall(message)\n",
    "    data = s.recv(1024)\n",
    "\n",
    "print('Received', repr(data))\n"
   ]
  },
  {
   "cell_type": "code",
   "execution_count": 4,
   "metadata": {},
   "outputs": [
    {
     "name": "stdout",
     "output_type": "stream",
     "text": [
      "Received b'z'\n",
      "Received b'x'\n",
      "Received b'd'\n",
      "Received b'c'\n",
      "Received b'u'\n",
      "Received b'h'\n",
      "Received b'k'\n",
      "Received b'j'\n",
      "Received b'j'\n",
      "Received b'o'\n",
      "Received b'l'\n",
      "Received b'home'\n",
      "Received b'end'\n"
     ]
    }
   ],
   "source": [
    "import socket\n",
    "\n",
    "#HOST = '127.0.0.1'  # The server's hostname or IP address\n",
    "HOST = '192.168.0.102'\n",
    "PORT = 65432        # The port used by the server\n",
    "\n",
    "with socket.socket(socket.AF_INET, socket.SOCK_STREAM) as s:\n",
    "    s.connect((HOST, PORT))\n",
    "    #message=b'Hello, world'\n",
    "    #s.sendall(message)\n",
    "    while True:\n",
    "        data = s.recv(1024)  #need to make this non-blocking!!!\n",
    "        print('Received', repr(data))\n",
    "        if data==b'end':\n",
    "            break\n"
   ]
  },
  {
   "cell_type": "code",
   "execution_count": null,
   "metadata": {},
   "outputs": [],
   "source": []
  }
 ],
 "metadata": {
  "kernelspec": {
   "display_name": "Python 3 (ipykernel)",
   "language": "python",
   "name": "python3"
  },
  "language_info": {
   "codemirror_mode": {
    "name": "ipython",
    "version": 3
   },
   "file_extension": ".py",
   "mimetype": "text/x-python",
   "name": "python",
   "nbconvert_exporter": "python",
   "pygments_lexer": "ipython3",
   "version": "3.5.2"
  }
 },
 "nbformat": 4,
 "nbformat_minor": 4
}
