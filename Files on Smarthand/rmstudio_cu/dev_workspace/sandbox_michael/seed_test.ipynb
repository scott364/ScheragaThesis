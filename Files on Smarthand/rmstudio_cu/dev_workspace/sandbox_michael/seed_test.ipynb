{
 "cells": [
  {
   "cell_type": "code",
   "execution_count": 1,
   "metadata": {},
   "outputs": [
    {
     "data": {
      "text/plain": [
       "'3.5.2 (default, Jan 26 2021, 13:30:48) \\n[GCC 5.4.0 20160609]'"
      ]
     },
     "execution_count": 1,
     "metadata": {},
     "output_type": "execute_result"
    }
   ],
   "source": [
    "from sys import version; version"
   ]
  },
  {
   "cell_type": "code",
   "execution_count": 2,
   "metadata": {},
   "outputs": [
    {
     "ename": "ImportError",
     "evalue": "No module named 'rmlib'",
     "output_type": "error",
     "traceback": [
      "\u001b[0;31m---------------------------------------------------------------------------\u001b[0m",
      "\u001b[0;31mImportError\u001b[0m                               Traceback (most recent call last)",
      "\u001b[0;32m<ipython-input-2-dbc88690badd>\u001b[0m in \u001b[0;36m<module>\u001b[0;34m\u001b[0m\n\u001b[1;32m      4\u001b[0m \u001b[0;32mimport\u001b[0m \u001b[0mnumpy\u001b[0m \u001b[0;32mas\u001b[0m \u001b[0mnp\u001b[0m\u001b[0;34m\u001b[0m\u001b[0m\n\u001b[1;32m      5\u001b[0m \u001b[0;34m\u001b[0m\u001b[0m\n\u001b[0;32m----> 6\u001b[0;31m \u001b[0;32mimport\u001b[0m \u001b[0mrmlib\u001b[0m\u001b[0;34m\u001b[0m\u001b[0m\n\u001b[0m\u001b[1;32m      7\u001b[0m \u001b[0;34m\u001b[0m\u001b[0m\n\u001b[1;32m      8\u001b[0m \u001b[0;32mimport\u001b[0m \u001b[0mrmlib\u001b[0m\u001b[0;34m.\u001b[0m\u001b[0mrmtools\u001b[0m \u001b[0;32mas\u001b[0m \u001b[0mrm\u001b[0m\u001b[0;34m\u001b[0m\u001b[0m\n",
      "\u001b[0;31mImportError\u001b[0m: No module named 'rmlib'"
     ]
    }
   ],
   "source": [
    "import datetime\n",
    "today = datetime.date.today()\n",
    "\n",
    "import numpy as np\n",
    "\n",
    "import rmlib\n",
    "\n",
    "import rmlib.rmtools as rm\n",
    "import rmlib.robot as robot\n",
    "\n",
    "robot = robot.Robot()"
   ]
  },
  {
   "cell_type": "code",
   "execution_count": 3,
   "metadata": {},
   "outputs": [],
   "source": [
    "import py_trees\n",
    "\n",
    "from py_trees.composites import Sequence, Selector\n",
    "\n",
    "from rmlib.rmtools.asm_BT_lib.asm_tree_Basic import Move_Arm, run_BT_until_done\n",
    "from rmlib.rmtools.asm_BT_lib.asm_tree_New import Spiral_Insert, Move_Arm_Relative"
   ]
  },
  {
   "cell_type": "code",
   "execution_count": 4,
   "metadata": {},
   "outputs": [],
   "source": [
    "from rmlib.rmtools.asm_BT_lib.asm_tree_logic_flow import Force_Query_DECO"
   ]
  },
  {
   "cell_type": "code",
   "execution_count": 5,
   "metadata": {},
   "outputs": [],
   "source": [
    "start_pose = np.array([[-0.99621024, -0.08461295,  0.02014445, -0.11411503],\n",
    "       [-0.08621264,  0.99125162, -0.09993801, -0.34670874],\n",
    "       [-0.01151217, -0.10129597, -0.99478972,  0.4849095 ],\n",
    "       [ 0.        ,  0.        ,  0.        ,  1.        ]])"
   ]
  },
  {
   "cell_type": "code",
   "execution_count": 6,
   "metadata": {},
   "outputs": [],
   "source": [
    "high_pose = np.array([[-0.9896123 ,  0.00437867,  0.14369523, -0.10349781],\n",
    "       [-0.02732312,  0.97558874, -0.21789918, -0.33015346],\n",
    "       [-0.14114155, -0.21956191, -0.96533498,  0.67858697],\n",
    "       [ 0.        ,  0.        ,  0.        ,  1.        ]])"
   ]
  },
  {
   "cell_type": "code",
   "execution_count": 7,
   "metadata": {},
   "outputs": [],
   "source": [
    "def move_arm(pose):\n",
    "    moveNode = Move_Arm(pose = pose, # 4x4 homogeneous coord pose\n",
    "                     mode  = 'l',  # { 'l': linear in task space, 'j': linear in joint space }\n",
    "                     speed = 0.125, \n",
    "                     accel = 0.35, \n",
    "                     ctrl  = robot) \n",
    "    run_BT_until_done(moveNode)"
   ]
  },
  {
   "cell_type": "code",
   "execution_count": 8,
   "metadata": {},
   "outputs": [],
   "source": [
    "import math\n",
    "def move_arm_twist(twist_deg):\n",
    "    moveNode = Move_Arm_Relative(\n",
    "                    translation=[0.0, 0.0, 0.0],\n",
    "                    rotation=[0.0, 0.0, math.radians(twist_deg)],\n",
    "                    mode=\"l\",\n",
    "                    speed=0.125,\n",
    "                    accel=0.35,\n",
    "#                     stop_cond=ctrl.exceeds_Z_torque(stopTorq),\n",
    "                    frame=\"self\",\n",
    "                    ctrl=robot,\n",
    "                )\n",
    "    run_BT_until_done(moveNode)"
   ]
  },
  {
   "cell_type": "code",
   "execution_count": 9,
   "metadata": {},
   "outputs": [],
   "source": [
    "# # move_arm_twist(15)\n",
    "# import transforms3d \n",
    "# from transforms3d.axangles import axangle2aff\n",
    "# import numpy as np\n",
    "\n",
    "# tilt_angle_deg = -5\n",
    "# tilt_angle = math.radians(tilt_angle_deg)\n",
    "\n",
    "# move_arm(start_pose)\n",
    "# current_pose = robot.arm.get_tcp_pose()\n",
    "# point = current_pose[:3, 3]\n",
    "\n",
    "# M = axangle2aff([1, 0, 0], tilt_angle, point=point)\n",
    "\n",
    "# tilted_pose = np.dot(M, current_pose)\n",
    "# move_arm(tilted_pose)"
   ]
  },
  {
   "cell_type": "code",
   "execution_count": 10,
   "metadata": {},
   "outputs": [
    {
     "name": "stdout",
     "output_type": "stream",
     "text": [
      "About to run <rmlib.rmtools.asm_BT_lib.asm_tree_Basic.Move_Arm object at 0x7f5ed4b760> : Move_Arm at 2021-09-03_15-57-10 with 4.0 Hz update frequency ...\n",
      "Running ...\n",
      "\n",
      "Root node Move_Arm succeeded!\n",
      "\n",
      "\n",
      "Run completed! with status: Status.SUCCESS \n",
      "\n",
      "\n",
      "Root node Move_Arm was killed by the running script!\n"
     ]
    }
   ],
   "source": [
    "move_arm(start_pose)"
   ]
  },
  {
   "cell_type": "code",
   "execution_count": 11,
   "metadata": {},
   "outputs": [
    {
     "name": "stdout",
     "output_type": "stream",
     "text": [
      "About to run <rmlib.rmtools.asm_BT_lib.asm_tree_Basic.Move_Arm object at 0x7f5ed4b4f0> : Move_Arm at 2021-09-03_15-57-10 with 4.0 Hz update frequency ...\n",
      "Running ...\n",
      "\n",
      "Root node Move_Arm succeeded!\n",
      "\n",
      "\n",
      "Run completed! with status: Status.SUCCESS \n",
      "\n",
      "\n",
      "Root node Move_Arm was killed by the running script!\n"
     ]
    }
   ],
   "source": [
    "move_arm(high_pose)"
   ]
  },
  {
   "cell_type": "code",
   "execution_count": 12,
   "metadata": {},
   "outputs": [
    {
     "name": "stdout",
     "output_type": "stream",
     "text": [
      "About to run <rmlib.rmtools.asm_BT_lib.asm_tree_Basic.Move_Arm object at 0x7f5ed4ae50> : Move_Arm at 2021-09-03_15-57-12 with 4.0 Hz update frequency ...\n",
      "Running ...\n",
      "\n",
      "Root node Move_Arm succeeded!\n",
      "\n",
      "\n",
      "Run completed! with status: Status.SUCCESS \n",
      "\n",
      "\n",
      "Root node Move_Arm was killed by the running script!\n"
     ]
    }
   ],
   "source": [
    "move_arm(start_pose)"
   ]
  },
  {
   "cell_type": "code",
   "execution_count": 13,
   "metadata": {},
   "outputs": [
    {
     "name": "stdout",
     "output_type": "stream",
     "text": [
      "Spiral_Insert created with record flag RECORD_KEY\n",
      "Spiral_Insert created in CHASE MODE\n",
      "Move_to_Contact: arg   = 0.025\n",
      "Move_to_Contact: speed = 0.025\n",
      "Max Spiral Steps = ( 100000 - 0.0005 ) / 5e-05 = 1999999990\n",
      "SpiralStep created in CHASE MODE\n",
      "Move_to_Contact: arg   = 0.125\n",
      "Move_to_Contact: speed = 0.125\n"
     ]
    }
   ],
   "source": [
    "insertBehav = Force_Query_DECO(Spiral_Insert(start_pose, \n",
    "                                             ctrl=robot, \n",
    "                                             suppressDrop=True,\n",
    "                                             suppressLateral=True,\n",
    "                                             chaseMode=1))"
   ]
  },
  {
   "cell_type": "code",
   "execution_count": 14,
   "metadata": {},
   "outputs": [
    {
     "name": "stdout",
     "output_type": "stream",
     "text": [
      "About to run <rmlib.rmtools.asm_BT_lib.asm_tree_logic_flow.Force_Query_DECO object at 0x7f5ed22f40> : Force_Query_DECO at 2021-09-03_15-57-15 with 4.0 Hz update frequency ...\n",
      "Running ...\n",
      "\n",
      "COND_At_TCP_Pose , SUCCEEDED: Reached the pose\n",
      "Move_to_Contact: about to MOVE with speed = 0.025\n",
      "mag: -0.31293937864757027 Fstp: -1\n",
      "mag: -0.29429815194453113 Fstp: -1\n",
      "mag: -0.2843355489821988 Fstp: -1\n",
      "mag: 0.002285675727762282 Fstp: -1\n",
      "mag: -0.5712276866215689 Fstp: -1\n",
      "mag: -0.19570479447793332 Fstp: -1\n",
      "mag: -0.009564055777445901 Fstp: -1\n",
      "mag: 0.1679658863795339 Fstp: -1\n",
      "mag: -0.12945429874162073 Fstp: -1\n",
      "mag: -0.07133620184686151 Fstp: -1\n",
      "mag: -0.29379844193317695 Fstp: -1\n",
      "mag: -0.2321676653555187 Fstp: -1\n",
      "mag: -0.1597349368967116 Fstp: -1\n",
      "mag: -0.19344630819614395 Fstp: -1\n",
      "mag: 0.11579910806176485 Fstp: -1\n",
      "mag: -0.15654998078753124 Fstp: -1\n",
      "mag: -0.15576428191707237 Fstp: -1\n",
      "mag: 0.06536963519829442 Fstp: -1\n",
      "mag: -0.25675405436049914 Fstp: -1\n",
      "mag: -0.5058157795938314 Fstp: -1\n",
      "mag: 0.1239851029276906 Fstp: -1\n",
      "mag: 0.10409552479541162 Fstp: -1\n",
      "mag: -0.03014146466375678 Fstp: -1\n",
      "mag: 0.13001070798418368 Fstp: -1\n",
      "mag: -0.41245076012273785 Fstp: -1\n",
      "mag: 0.049573432825127384 Fstp: -1\n",
      "mag: -0.19071502275619423 Fstp: -1\n",
      "mag: -0.0036607592192012817 Fstp: -1\n",
      "mag: -0.05566005751461489 Fstp: -1\n",
      "mag: -0.33866985685017426 Fstp: -1\n",
      "mag: 0.27100737593355007 Fstp: -1\n",
      "mag: -0.2689643153389625 Fstp: -1\n",
      "mag: -0.2554651076134178 Fstp: -1\n",
      "mag: 0.44088165919674793 Fstp: -1\n",
      "mag: -0.3208382196207822 Fstp: -1\n",
      "mag: -0.3754345537199697 Fstp: -1\n",
      "mag: 0.16861574033100624 Fstp: -1\n",
      "mag: -0.29560189731637365 Fstp: -1\n",
      "mag: -0.09803172030296992 Fstp: -1\n",
      "mag: 0.10991972882402479 Fstp: -1\n",
      "mag: -0.5397102171409642 Fstp: -1\n",
      "mag: -0.019009809657291044 Fstp: -1\n",
      "mag: -0.33500324577107676 Fstp: -1\n",
      "mag: -0.16789047752536135 Fstp: -1\n",
      "mag: -0.4367802068773017 Fstp: -1\n",
      "mag: -0.21808766763933818 Fstp: -1\n",
      "mag: -0.645480809667788 Fstp: -1\n",
      "mag: -0.6499676053281291 Fstp: -1\n",
      "mag: -0.3413301197542751 Fstp: -1\n",
      "mag: -0.4321336074353894 Fstp: -1\n",
      "mag: 0.2835373345988046 Fstp: -1\n",
      "mag: -0.34396114951960044 Fstp: -1\n",
      "mag: -0.007919324365502689 Fstp: -1\n",
      "mag: -0.25290264736759127 Fstp: -1\n",
      "mag: -0.022539167908689706 Fstp: -1\n",
      "mag: -0.08954192513920134 Fstp: -1\n",
      "mag: -0.17704166967814672 Fstp: -1\n",
      "mag: -0.46293246855202597 Fstp: -1\n",
      "mag: 0.13798362986926804 Fstp: -1\n",
      "mag: -0.35129129530105274 Fstp: -1\n",
      "mag: -0.24398085273787729 Fstp: -1\n",
      "mag: -0.11645675847830717 Fstp: -1\n",
      "mag: -0.10754017630461021 Fstp: -1\n",
      "mag: -0.4423714355798438 Fstp: -1\n",
      "mag: -0.4064887295717199 Fstp: -1\n",
      "mag: -0.16334365726288524 Fstp: -1\n",
      "mag: -0.44896879489533603 Fstp: -1\n",
      "mag: 0.2706243752509181 Fstp: -1\n",
      "mag: -0.15262888869983726 Fstp: -1\n",
      "mag: -0.39228757055388996 Fstp: -1\n",
      "mag: -0.11757289797969861 Fstp: -1\n",
      "mag: -0.2494341749297746 Fstp: -1\n",
      "mag: -0.1897947191464482 Fstp: -1\n",
      "mag: -0.2793896359435166 Fstp: -1\n",
      "mag: -0.5057378433302802 Fstp: -1\n",
      "mag: -0.20961212166730547 Fstp: -1\n",
      "mag: -0.41694803904829314 Fstp: -1\n",
      "mag: -0.9595261327485787 Fstp: -1\n",
      "mag: -0.268747828562482 Fstp: -1\n",
      "mag: -0.055372911225276766 Fstp: -1\n",
      "mag: -1.746893871226348 Fstp: -1\n",
      "Move_to_Contact: The condition was met!\n",
      "\n",
      "--------- Tick 50 ---------\n",
      "\n",
      "Root node, Name: Force_Query_DECO , Status: Status.RUNNING\n",
      "\n",
      "\n",
      "\n",
      "--------- Tick 100 ---------\n",
      "\n",
      "Root node, Name: Force_Query_DECO , Status: Status.RUNNING\n",
      "\n",
      "\n",
      "\n",
      "--------- Tick 150 ---------\n",
      "\n",
      "Root node, Name: Force_Query_DECO , Status: Status.RUNNING\n",
      "\n",
      "\n",
      "\n",
      "Simulation HALTED by user at 2021-09-03_15-58-08\n",
      "\n",
      "Run completed! with status: Status.RUNNING \n",
      "\n",
      "\n",
      "Root node Force_Query_DECO was killed by the running script!\n"
     ]
    }
   ],
   "source": [
    "run_BT_until_done(insertBehav)"
   ]
  },
  {
   "cell_type": "code",
   "execution_count": null,
   "metadata": {},
   "outputs": [],
   "source": [
    "force_trace = insertBehav.force_trace\n",
    "import pandas as pd\n",
    "\n",
    "# force_df = pd.DataFrame(force_trace, columns=[''])\n",
    "force_df = pd.DataFrame(force_trace)"
   ]
  },
  {
   "cell_type": "code",
   "execution_count": null,
   "metadata": {},
   "outputs": [],
   "source": [
    "import seaborn as sns\n",
    "sns.set_theme(style=\"darkgrid\")"
   ]
  },
  {
   "cell_type": "code",
   "execution_count": null,
   "metadata": {},
   "outputs": [],
   "source": [
    "sns.lineplot(data=force_df)"
   ]
  },
  {
   "cell_type": "code",
   "execution_count": null,
   "metadata": {},
   "outputs": [],
   "source": [
    "robot.hand"
   ]
  },
  {
   "cell_type": "code",
   "execution_count": null,
   "metadata": {},
   "outputs": [],
   "source": [
    "# robot.hand.set_finger_torque(1)"
   ]
  },
  {
   "cell_type": "code",
   "execution_count": null,
   "metadata": {},
   "outputs": [],
   "source": [
    "# robot.hand.get_finger_width()"
   ]
  },
  {
   "cell_type": "code",
   "execution_count": null,
   "metadata": {},
   "outputs": [],
   "source": [
    "# robot.hand.set_finger_width(0)"
   ]
  },
  {
   "cell_type": "code",
   "execution_count": null,
   "metadata": {},
   "outputs": [],
   "source": [
    "#TODO forgiving grasp BT using set finger width and set finger torque"
   ]
  },
  {
   "cell_type": "code",
   "execution_count": null,
   "metadata": {},
   "outputs": [],
   "source": [
    "#TODO: reasoning is the important part of manipulation - combine things"
   ]
  },
  {
   "cell_type": "code",
   "execution_count": null,
   "metadata": {},
   "outputs": [],
   "source": [
    "# Experiment: 1. learn success/fail from force\n",
    "# 2. introduce obstacles\n",
    "# 3. add sensor(camera) and do transfer learning (and pick segemented image)\n",
    "# 4. work with James to do similar thing with insertion (change hole size?)\n",
    "# 5. camera sees that hole will not work"
   ]
  },
  {
   "cell_type": "code",
   "execution_count": null,
   "metadata": {},
   "outputs": [],
   "source": []
  }
 ],
 "metadata": {
  "kernelspec": {
   "display_name": "Python 3 (ipykernel)",
   "language": "python",
   "name": "python3"
  },
  "language_info": {
   "codemirror_mode": {
    "name": "ipython",
    "version": 3
   },
   "file_extension": ".py",
   "mimetype": "text/x-python",
   "name": "python",
   "nbconvert_exporter": "python",
   "pygments_lexer": "ipython3",
   "version": "3.5.2"
  }
 },
 "nbformat": 4,
 "nbformat_minor": 4
}
