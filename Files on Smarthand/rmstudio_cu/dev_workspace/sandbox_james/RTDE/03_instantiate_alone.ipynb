{
 "cells": [
  {
   "cell_type": "markdown",
   "id": "ba7c0e07",
   "metadata": {},
   "source": [
    "# Init"
   ]
  },
  {
   "cell_type": "code",
   "execution_count": 2,
   "id": "5151e154",
   "metadata": {},
   "outputs": [
    {
     "name": "stdout",
     "output_type": "stream",
     "text": [
      "Loaded: /home/scott/dev_rmstudio/rmlib/rmlib/rmtools Exists?: True\n",
      "Loaded: /home/scott/dev_rmstudio/rmlib Exists?: True\n",
      "Loaded!\n"
     ]
    }
   ],
   "source": [
    "import context\n",
    "from config import robotConfig\n",
    "from UR_RTDE_wrapper import RTDEwrapper\n",
    "print( \"Loaded!\" )"
   ]
  },
  {
   "cell_type": "code",
   "execution_count": 4,
   "id": "640e37be",
   "metadata": {},
   "outputs": [
    {
     "name": "stdout",
     "output_type": "stream",
     "text": [
      "Created!\n"
     ]
    }
   ],
   "source": [
    "robotConfig['my_components']['arm_config']['ip_address'] = \"192.168.0.101\"\n",
    "rtde = RTDEwrapper( robotConfig['my_components']['arm_config'], None )\n",
    "print( \"Created!\" )"
   ]
  },
  {
   "cell_type": "markdown",
   "id": "67292720",
   "metadata": {},
   "source": [
    "# Test Status"
   ]
  },
  {
   "cell_type": "code",
   "execution_count": 3,
   "id": "cca6f73b",
   "metadata": {},
   "outputs": [
    {
     "name": "stdout",
     "output_type": "stream",
     "text": [
      "get_status_bits: 0b11 <class 'str'>\n"
     ]
    }
   ],
   "source": [
    "var = rtde.get_status_bits()\n",
    "print( \"get_status_bits:\", var, type( var ) )"
   ]
  },
  {
   "cell_type": "code",
   "execution_count": 4,
   "id": "d0b40331",
   "metadata": {},
   "outputs": [
    {
     "name": "stdout",
     "output_type": "stream",
     "text": [
      "get_safety_status_bits: 0b1 <class 'str'>\n"
     ]
    }
   ],
   "source": [
    "var = rtde.get_safety_status_bits()\n",
    "print( \"get_safety_status_bits:\", var, type( var ) )"
   ]
  },
  {
   "cell_type": "code",
   "execution_count": 5,
   "id": "4a3ea5e8",
   "metadata": {},
   "outputs": [
    {
     "name": "stdout",
     "output_type": "stream",
     "text": [
      "get_tcp_pose_vec: [-0.14820359366340688, -0.3121718106510081, 0.1880753162517681, -0.001494138833348034, 3.11879664099641, 0.0376867485511431] <class 'list'>\n"
     ]
    }
   ],
   "source": [
    "var = rtde.get_tcp_pose_vec()\n",
    "print( \"get_tcp_pose_vec:\", var, type( var ) )"
   ]
  },
  {
   "cell_type": "code",
   "execution_count": 6,
   "id": "4fdb3726",
   "metadata": {},
   "outputs": [
    {
     "name": "stdout",
     "output_type": "stream",
     "text": [
      "get_tcp_pose:\n",
      " [[-0.99422577 -0.10069594  0.03708696 -0.16619304]\n",
      " [-0.09964007  0.99459206  0.02930011 -0.42719366]\n",
      " [-0.0398368   0.02543557 -0.99888241  0.15037835]\n",
      " [ 0.          0.          0.          1.        ]] \n",
      " <class 'numpy.ndarray'>\n"
     ]
    }
   ],
   "source": [
    "var = rtde.get_tcp_pose()\n",
    "print( \"get_tcp_pose:\\n\", var, '\\n', type( var ) )"
   ]
  },
  {
   "cell_type": "code",
   "execution_count": 7,
   "id": "3014e959",
   "metadata": {},
   "outputs": [
    {
     "name": "stdout",
     "output_type": "stream",
     "text": [
      "get_tcp_force:\n",
      " [0.5126203959815534, 5.11470410885203, -10.791137039625498, -2.6115225202582675, -0.44625345097893887, -2.130552248130231] \n",
      " <class 'list'>\n"
     ]
    }
   ],
   "source": [
    "var = rtde.get_tcp_force()\n",
    "print( \"get_tcp_force:\\n\", var, '\\n', type( var ) )"
   ]
  },
  {
   "cell_type": "code",
   "execution_count": 8,
   "id": "50fd968d",
   "metadata": {},
   "outputs": [
    {
     "name": "stdout",
     "output_type": "stream",
     "text": [
      "get_joint_angles:\n",
      " [0.9448217153549194, -1.6357525030719202, 1.6359248161315918, -1.5246718565570276, -1.5515020529376429, -0.7245577017413538] \n",
      " <class 'list'>\n",
      "get_joint_degrees:\n",
      " [54.13429668214769, -93.72171475398126, 93.73158756505542, -87.35726252309334, -88.89451953920977, -41.51409832347827] \n",
      " <class 'list'>\n"
     ]
    }
   ],
   "source": [
    "var = rtde.get_joint_angles()\n",
    "print( \"get_joint_angles:\\n\", var, '\\n', type( var ) )\n",
    "\n",
    "var = rtde.get_joint_degrees()\n",
    "print( \"get_joint_degrees:\\n\", var, '\\n', type( var ) )"
   ]
  },
  {
   "cell_type": "code",
   "execution_count": 9,
   "id": "9c384c4a",
   "metadata": {},
   "outputs": [
    {
     "name": "stdout",
     "output_type": "stream",
     "text": [
      "enable_freedrive:\n",
      " True \n",
      " <class 'bool'>\n"
     ]
    }
   ],
   "source": [
    "var = rtde.enable_freedrive()\n",
    "print( \"enable_freedrive:\\n\", var, '\\n', type( var ) )"
   ]
  },
  {
   "cell_type": "code",
   "execution_count": 10,
   "id": "64c15e64",
   "metadata": {},
   "outputs": [
    {
     "name": "stdout",
     "output_type": "stream",
     "text": [
      "disable_freedrive:\n",
      " True \n",
      " <class 'bool'>\n"
     ]
    }
   ],
   "source": [
    "var = rtde.disable_freedrive()\n",
    "print( \"disable_freedrive:\\n\", var, '\\n', type( var ) )"
   ]
  },
  {
   "cell_type": "markdown",
   "id": "e2dc4af0",
   "metadata": {},
   "source": [
    "# Test Motion"
   ]
  },
  {
   "cell_type": "code",
   "execution_count": 3,
   "id": "b029c267",
   "metadata": {},
   "outputs": [
    {
     "name": "stdout",
     "output_type": "stream",
     "text": [
      "get_tcp_pose:\n",
      " [[-0.99906555  0.03988426  0.01665124 -0.19724808]\n",
      " [ 0.0393354   0.99871092 -0.03208159 -0.45727469]\n",
      " [-0.01790933 -0.03139663 -0.99934654  0.0759012 ]\n",
      " [ 0.          0.          0.          1.        ]]\n",
      "New target pose:\n",
      " [[-0.99906555  0.03988426  0.01665124 -0.19724808]\n",
      " [ 0.0393354   0.99871092 -0.03208159 -0.45727469]\n",
      " [-0.01790933 -0.03139663 -0.99934654  0.1259012 ]\n",
      " [ 0.          0.          0.          1.        ]]\n",
      "Diff:\n",
      " [[0.   0.   0.   0.  ]\n",
      " [0.   0.   0.   0.  ]\n",
      " [0.   0.   0.   0.05]\n",
      " [0.   0.   0.   0.  ]]\n"
     ]
    },
    {
     "data": {
      "text/plain": [
       "True"
      ]
     },
     "execution_count": 3,
     "metadata": {},
     "output_type": "execute_result"
    }
   ],
   "source": [
    "import numpy as np\n",
    "\n",
    "orig = rtde.get_tcp_pose()\n",
    "print( \"get_tcp_pose:\\n\", orig )\n",
    "\n",
    "trgt = orig.copy()\n",
    "trgt[2,3] += 0.050\n",
    "\n",
    "print( \"New target pose:\\n\", trgt )\n",
    "\n",
    "print( \"Diff:\\n\", np.subtract( trgt, orig ) )\n",
    "\n",
    "rtde.move_speed( trgt, move_type = 'l', speed = 0.125, accel = 0.25,\n",
    "                 radius = 0, stop_condition = 'dummy', blocking = True )"
   ]
  },
  {
   "cell_type": "markdown",
   "id": "76feed69",
   "metadata": {},
   "source": [
    "# Test Condition (Blocking)"
   ]
  },
  {
   "cell_type": "markdown",
   "id": "df588179",
   "metadata": {},
   "source": [
    "## First test without condition"
   ]
  },
  {
   "cell_type": "code",
   "execution_count": 4,
   "id": "fc5dcb08",
   "metadata": {},
   "outputs": [
    {
     "name": "stdout",
     "output_type": "stream",
     "text": [
      "Blocking move required 4.462336778640747 seconds to execute\n"
     ]
    }
   ],
   "source": [
    "import time\n",
    "orig = rtde.get_tcp_pose()\n",
    "trgt = orig.copy()\n",
    "trgt[2,3] += 0.050\n",
    "\n",
    "bgn = time.time()\n",
    "rtde.move_speed( trgt, move_type = 'l', speed = 0.012, accel = 0.125,\n",
    "                 radius = 0, stop_condition = 'dummy', blocking = True )\n",
    "print( \"Blocking move required\", time.time()-bgn , \"seconds to execute\" )"
   ]
  },
  {
   "cell_type": "markdown",
   "id": "ac352f8f",
   "metadata": {},
   "source": [
    "## Test with Timeout condition (Blocking)"
   ]
  },
  {
   "cell_type": "code",
   "execution_count": 5,
   "id": "2db25418",
   "metadata": {},
   "outputs": [
    {
     "name": "stdout",
     "output_type": "stream",
     "text": [
      "TIMEOUT!\n",
      "Blocking move required 2.0767970085144043 seconds to execute\n"
     ]
    }
   ],
   "source": [
    "# Test a condition that belongs to an object, which is often the case\n",
    "import time\n",
    "from time import sleep\n",
    "\n",
    "orig = rtde.get_tcp_pose()\n",
    "trgt = orig.copy()\n",
    "trgt[2,3] += 0.100\n",
    "\n",
    "\n",
    "class OutsideCondition:\n",
    "    \"\"\" Simplest timeout condition \"\"\"\n",
    "    \n",
    "    def __init__( self, TO_s ):\n",
    "        self.TO  = TO_s\n",
    "        self.bgn = time.time()\n",
    "        \n",
    "    def cond( self ):\n",
    "        if time.time() - self.bgn >= self.TO:\n",
    "            print( \"TIMEOUT!\" )\n",
    "            return True\n",
    "        else:\n",
    "            return False\n",
    "        \n",
    "\n",
    "TO = OutsideCondition( 2.0 )\n",
    "\n",
    "bgn = time.time()\n",
    "rtde.move_speed( trgt, move_type = 'l', speed = 0.012, accel = 0.125,\n",
    "                 radius = 0, stop_condition = TO.cond, blocking = True )\n",
    "print( \"Blocking move required\", time.time()-bgn , \"seconds to execute\" )"
   ]
  },
  {
   "cell_type": "markdown",
   "id": "98453d80",
   "metadata": {},
   "source": [
    "# Test Condition (Non-Blocking)"
   ]
  },
  {
   "cell_type": "code",
   "execution_count": 6,
   "id": "dd093948",
   "metadata": {},
   "outputs": [
    {
     "name": "stdout",
     "output_type": "stream",
     "text": [
      "Blocking move required 0.13744091987609863 seconds to execute\n",
      "TIMEOUT!\n",
      "COND MET\n"
     ]
    }
   ],
   "source": [
    "# Test a condition that belongs to an object, which is often the case\n",
    "import time\n",
    "from time import sleep\n",
    "\n",
    "orig = rtde.get_tcp_pose()\n",
    "trgt = orig.copy()\n",
    "trgt[2,3] += 0.100\n",
    "\n",
    "\n",
    "class OutsideCondition:\n",
    "    \"\"\" Simplest timeout condition \"\"\"\n",
    "    \n",
    "    def __init__( self, TO_s ):\n",
    "        self.TO  = TO_s\n",
    "        self.bgn = time.time()\n",
    "        \n",
    "    def cond( self ):\n",
    "        if time.time() - self.bgn >= self.TO:\n",
    "            print( \"TIMEOUT!\" )\n",
    "            return True\n",
    "        else:\n",
    "            return False\n",
    "        \n",
    "TO = None\n",
    "TO = OutsideCondition( 2.0 )\n",
    "\n",
    "bgn = time.time()\n",
    "rtde.move_speed( trgt, move_type = 'l', speed = 0.012, accel = 0.125,\n",
    "                 radius = 0, stop_condition = TO.cond, blocking = False )\n",
    "print( \"Blocking move required\", time.time()-bgn , \"seconds to execute\" )"
   ]
  },
  {
   "cell_type": "code",
   "execution_count": null,
   "id": "7e51afda",
   "metadata": {},
   "outputs": [],
   "source": []
  }
 ],
 "metadata": {
  "kernelspec": {
   "display_name": "Python 3",
   "language": "python",
   "name": "python3"
  },
  "language_info": {
   "codemirror_mode": {
    "name": "ipython",
    "version": 3
   },
   "file_extension": ".py",
   "mimetype": "text/x-python",
   "name": "python",
   "nbconvert_exporter": "python",
   "pygments_lexer": "ipython3",
   "version": "3.6.9"
  }
 },
 "nbformat": 4,
 "nbformat_minor": 5
}
