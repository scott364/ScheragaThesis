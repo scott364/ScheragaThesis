{
 "cells": [
  {
   "cell_type": "code",
   "execution_count": 1,
   "metadata": {},
   "outputs": [
    {
     "name": "stdout",
     "output_type": "stream",
     "text": [
      "Loaded: /home/nvidia/dev_rmstudio/rmlib/rmlib/rmtools Exists?: True\n",
      "Loaded: /home/nvidia/dev_rmstudio/rmlib Exists?: True\n",
      "Setting up robot please wait...\n",
      "my_components: {'arm_config': {'max_joint_accel': 1.4, 'ip_address': '192.168.0.101', 'default_linear_accel': 0.8, 'max_joint_speed': 1.05, 'max_linear_accel': 1.2, 'max_linear_speed': 0.25, 'xmlrpc_port': '8003', 'class_name': 'RTDEwrapper', 'default_joint_speed': 0.7, 'default_joint_accel': 0.8, 'module_name': 'arms.UR_RTDE_wrapper', 'default_linear_speed': 0.1}, 'cam_config': {'camera_model': 'd410', 'module_name': 'cameras.realsense', 'class_name': 'RealSense', 'ci_cam_offset': [-0.036, -0.028, -0.079], 'pc_cam_offset': [-0.037, -0.033, -0.079]}, 'ft_config': {'remote_ip': '', 'max_workers': 10, 'filter': {'alpha': 0.012, 'beta': 0.035}, 'dataHz': 50.0, 'class_name': 'OptoForce', 'local_ip': '127.0.0.1', 'ip_address': '192.168.0.100', 'remote_port': 10000, 'module_name': 'sensors.ftsensor_optoforce', 'local_port': 20000}, 'hand_config': {'finger_length': 0.0415, 'finger_width_inner': 0.0, 'finger_width_outer': 0.015, 'class_name': 'SmartHand', 'module_name': 'hands.smarthand', 'finger_depth': 0.014}}\n",
      "active_componetns: {'ft': ['ft_config'], 'hand': ['hand_config'], 'arm': ['arm_config'], 'camera': ['cam_config']}\n",
      "{'remote_ip': '', 'max_workers': 10, 'filter': {'alpha': 0.012, 'beta': 0.035}, 'dataHz': 50.0, 'class_name': 'OptoForce', 'local_ip': '127.0.0.1', 'ip_address': '192.168.0.100', 'remote_port': 10000, 'module_name': 'sensors.ftsensor_optoforce', 'local_port': 20000}\n",
      "<class 'rmlib.sensors.ftsensor_optoforce.OptoForce'>\n",
      "Connecting to the force sensor at ('192.168.0.100', 49152) ... SUCCESS!\n",
      "Preparing OptoForce for data transmission ... COMPLETED!\n",
      "Set up server at: {'port': 20000, 'ip': '127.0.0.1'}\n",
      "Set up server at: {'port': 10000, 'ip': ''}\n",
      "\n",
      " Config Tuple: {'port': 20000, 'ip': '127.0.0.1'} \n",
      "\n",
      " Config Tuple:\n",
      " {'port': 10000, 'ip': ''} \n",
      "\n",
      "XML-RPC serving FT data from ('127.0.0.1', 20000)\n",
      "XML-RPC serving FT data from ('', 10000)\n",
      "XML-RPC servers RUNNING!\n",
      "{'finger_length': 0.0415, 'finger_width_inner': 0.0, 'finger_width_outer': 0.015, 'class_name': 'SmartHand', 'module_name': 'hands.smarthand', 'finger_depth': 0.014}\n",
      "<class 'rmlib.hands.smarthand.SmartHand'>\n",
      "{'max_joint_accel': 1.4, 'ip_address': '192.168.0.101', 'default_linear_accel': 0.8, 'max_joint_speed': 1.05, 'max_linear_accel': 1.2, 'max_linear_speed': 0.25, 'xmlrpc_port': '8003', 'class_name': 'RTDEwrapper', 'default_joint_speed': 0.7, 'default_joint_accel': 0.8, 'module_name': 'arms.UR_RTDE_wrapper', 'default_linear_speed': 0.1}\n",
      "<class 'rmlib.arms.UR_RTDE_wrapper.RTDEwrapper'>\n",
      "{'camera_model': 'd410', 'module_name': 'cameras.realsense', 'class_name': 'RealSense', 'ci_cam_offset': [-0.036, -0.028, -0.079], 'pc_cam_offset': [-0.037, -0.033, -0.079]}\n",
      "<class 'rmlib.cameras.realsense.RealSense'>\n",
      "Robot Ready!\n"
     ]
    }
   ],
   "source": [
    "####### INIT ######################################################################################\n",
    "\n",
    "from context import rmlib\n",
    "import rmlib.rmtools as rm\n",
    "from config import robotConfig\n",
    "\n",
    "robot = rmlib.robot.Robot( robotConfig )\n",
    "\n",
    "#Imports \n",
    "from time import sleep\n",
    "import numpy as np\n",
    "import rmlib\n",
    "from rmlib.rmtools.assembly_trees import augment_RM\n",
    "\n",
    "augment_RM( robot )\n",
    "\n",
    "%store -r"
   ]
  },
  {
   "cell_type": "code",
   "execution_count": 2,
   "metadata": {},
   "outputs": [
    {
     "name": "stdout",
     "output_type": "stream",
     "text": [
      "\n",
      "##!## READY ##!##\n"
     ]
    }
   ],
   "source": [
    "####### LIBS ######################################################################################\n",
    "\n",
    "# Import Pytrees\n",
    "import py_trees\n",
    "from py_trees.tests import Timeout_Success\n",
    "from py_trees.composites import Sequence , Selector\n",
    "\n",
    "from assembly_trees import *\n",
    "\n",
    "import math\n",
    "from pmath import translate_pose , get_disance_between_poses , pose_components\n",
    "\n",
    "from utils import is_matx_list\n",
    "from math import radians\n",
    "\n",
    "print( \"\\n##!## READY ##!##\" )"
   ]
  },
  {
   "cell_type": "code",
   "execution_count": 21,
   "metadata": {},
   "outputs": [],
   "source": [
    "from utils import HeartRate\n",
    "import time\n",
    "\n",
    "def test_FT_latency( N = 100, hz = 50 ):\n",
    "    \"\"\" Attempt to test the data latency for the ft sensor \"\"\"\n",
    "    rate = HeartRate( hz )\n",
    "    data = np.zeros( (N,6) )\n",
    "    dlay = np.zeros( (N)   )\n",
    "    last = time.time()\n",
    "    for i in range(N):\n",
    "        data[i] = robot.ft.get_wrist_force()\n",
    "        now     = time.time()\n",
    "        dlay[i] = now - last\n",
    "        last    = now\n",
    "        rate.sleep()\n",
    "    return {\n",
    "        'avg': np.mean( dlay ),\n",
    "        'avg_freq': 1.0 / np.mean( dlay ),\n",
    "        'max': np.amax( dlay ),\n",
    "        'sum': sum( dlay ),\n",
    "        'delay': dlay,\n",
    "    }"
   ]
  },
  {
   "cell_type": "code",
   "execution_count": 28,
   "metadata": {},
   "outputs": [
    {
     "name": "stdout",
     "output_type": "stream",
     "text": [
      "0.020184551652272543 49.54283935692036 0.028249263763427734 151.38413739204407\n"
     ]
    }
   ],
   "source": [
    "info = test_FT_latency( N = 7500, hz = 50 )\n",
    "print( info['avg'], info['avg_freq'], info['max'], info['sum'] )"
   ]
  },
  {
   "cell_type": "code",
   "execution_count": 29,
   "metadata": {},
   "outputs": [
    {
     "data": {
      "text/plain": [
       "[<matplotlib.lines.Line2D at 0x7f3c0b3358>]"
      ]
     },
     "execution_count": 29,
     "metadata": {},
     "output_type": "execute_result"
    },
    {
     "data": {
      "image/png": "[encoded data removed]",
      "text/plain": [
       "<Figure size 432x288 with 1 Axes>"
      ]
     },
     "metadata": {
      "needs_background": "light"
     },
     "output_type": "display_data"
    }
   ],
   "source": [
    "%matplotlib inline\n",
    "\n",
    "import matplotlib\n",
    "import numpy as np\n",
    "import matplotlib.pyplot as plt\n",
    "\n",
    "plt.plot( info['delay'] )"
   ]
  },
  {
   "cell_type": "code",
   "execution_count": 30,
   "metadata": {},
   "outputs": [],
   "source": [
    "def test_RTDE_latency( N = 100, hz = 50 ):\n",
    "    \"\"\" Attempt to test the data latency for the ft sensor \"\"\"\n",
    "    rate = HeartRate( hz )\n",
    "    data = np.zeros( (N,6) )\n",
    "    dlay = np.zeros( (N)   )\n",
    "    last = time.time()\n",
    "    for i in range(N):\n",
    "        data[i] = robot.arm.get_tcp_pose_vec()\n",
    "        now     = time.time()\n",
    "        dlay[i] = now - last\n",
    "        last    = now\n",
    "        rate.sleep()\n",
    "    return {\n",
    "        'avg': np.mean( dlay ),\n",
    "        'avg_freq': 1.0 / np.mean( dlay ),\n",
    "        'max': np.amax( dlay ),\n",
    "        'sum': sum( dlay ),\n",
    "        'delay': dlay,\n",
    "    }"
   ]
  },
  {
   "cell_type": "code",
   "execution_count": 35,
   "metadata": {},
   "outputs": [
    {
     "name": "stdout",
     "output_type": "stream",
     "text": [
      "0.020007164478302003 49.98209521816604 0.031705617904663086 2.0007164478302\n"
     ]
    }
   ],
   "source": [
    "info = test_FT_latency( N = 100, hz = 50 )\n",
    "print( info['avg'], info['avg_freq'], info['max'], info['sum'] )"
   ]
  },
  {
   "cell_type": "code",
   "execution_count": 36,
   "metadata": {},
   "outputs": [
    {
     "data": {
      "text/plain": [
       "[<matplotlib.lines.Line2D at 0x7f2d1f60b8>]"
      ]
     },
     "execution_count": 36,
     "metadata": {},
     "output_type": "execute_result"
    },
    {
     "data": {
      "image/png": "[encoded data removed]",
      "text/plain": [
       "<Figure size 432x288 with 1 Axes>"
      ]
     },
     "metadata": {
      "needs_background": "light"
     },
     "output_type": "display_data"
    }
   ],
   "source": [
    "%matplotlib inline\n",
    "\n",
    "import matplotlib\n",
    "import numpy as np\n",
    "import matplotlib.pyplot as plt\n",
    "\n",
    "plt.plot( info['delay'] )"
   ]
  },
  {
   "cell_type": "code",
   "execution_count": null,
   "metadata": {},
   "outputs": [],
   "source": []
  }
 ],
 "metadata": {
  "kernelspec": {
   "display_name": "Python 3",
   "language": "python",
   "name": "python3"
  },
  "language_info": {
   "codemirror_mode": {
    "name": "ipython",
    "version": 3
   },
   "file_extension": ".py",
   "mimetype": "text/x-python",
   "name": "python",
   "nbconvert_exporter": "python",
   "pygments_lexer": "ipython3",
   "version": "3.5.2"
  }
 },
 "nbformat": 4,
 "nbformat_minor": 4
}
