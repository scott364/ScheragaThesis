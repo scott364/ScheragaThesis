{
 "cells": [
  {
   "cell_type": "code",
   "execution_count": 7,
   "id": "e5b8c218-0828-4215-9a78-5262f632ccea",
   "metadata": {},
   "outputs": [
    {
     "name": "stdout",
     "output_type": "stream",
     "text": [
      "Converting /home/scott/dev_rmstudio/dev_workspace/sandbox_james/Trees/output/SHAFT-TLT_2021-07-12_15-20-52.xml , Exists?: True , Begin ...\n",
      "There are 163 data points in this file.\n",
      "About to write to /home/scott/logs_2021/outputfile1/SHAFT-TLT_2021-07-12_15-20-52_Fail_RAW.csv ...\n",
      "> > > > > > > > > > > 100%\n",
      "COMPLETE!\n",
      "\n"
     ]
    },
    {
     "data": {
      "text/plain": [
       "'/home/scott/logs_2021/outputfile1/SHAFT-TLT_2021-07-12_15-20-52_Fail_RAW.csv'"
      ]
     },
     "execution_count": 7,
     "metadata": {},
     "output_type": "execute_result"
    }
   ],
   "source": [
    "\n",
    "from data_processing import xml_to_csv_file\n",
    "\n",
    "_dir = \"/home/scott/dev_rmstudio/dev_workspace/sandbox_james/Trees/output\"\n",
    "_dir2 = \"/home/scott/logs_2021\"\n",
    "\n",
    "file1 = '{}/SHAFT-TLT_2021-07-12_15-20-52.xml'.format(_dir)\n",
    "xml_to_csv_file(file1, \"{}/outputfile1\".format(_dir2))"
   ]
  },
  {
   "cell_type": "code",
   "execution_count": null,
   "id": "993a1733-c8ab-4c5a-b314-1fccbe954d47",
   "metadata": {},
   "outputs": [],
   "source": []
  },
  {
   "cell_type": "code",
   "execution_count": null,
   "id": "7bd3b483-2525-4caf-8032-01f564ea36dd",
   "metadata": {},
   "outputs": [],
   "source": []
  },
  {
   "cell_type": "code",
   "execution_count": null,
   "id": "47cdf7f9-f5df-4973-9ef2-9fd060a96c20",
   "metadata": {},
   "outputs": [],
   "source": []
  }
 ],
 "metadata": {
  "kernelspec": {
   "display_name": "Python 3",
   "language": "python",
   "name": "python3"
  },
  "language_info": {
   "codemirror_mode": {
    "name": "ipython",
    "version": 3
   },
   "file_extension": ".py",
   "mimetype": "text/x-python",
   "name": "python",
   "nbconvert_exporter": "python",
   "pygments_lexer": "ipython3",
   "version": "3.6.9"
  }
 },
 "nbformat": 4,
 "nbformat_minor": 5
}
