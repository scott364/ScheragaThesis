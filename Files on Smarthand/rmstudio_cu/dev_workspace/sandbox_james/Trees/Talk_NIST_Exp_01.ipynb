{
 "cells": [
  {
   "cell_type": "markdown",
   "metadata": {},
   "source": [
    "# Init"
   ]
  },
  {
   "cell_type": "code",
   "execution_count": 1,
   "metadata": {},
   "outputs": [
    {
     "name": "stdout",
     "output_type": "stream",
     "text": [
      "Loaded: /home/nvidia/dev_rmstudio/rmlib/rmlib/rmtools Exists?: True\n",
      "Loaded: /home/nvidia/dev_rmstudio/rmlib Exists?: True\n",
      "Setting up robot please wait...\n",
      "my_components: {'hand_config': {'class_name': 'SmartHand', 'module_name': 'hands.smarthand', 'finger_width_inner': 0.0, 'finger_length': 0.0415, 'finger_width_outer': 0.015, 'finger_depth': 0.014}, 'cam_config': {'class_name': 'RealSense', 'ci_cam_offset': [0, 0, 0], 'module_name': 'cameras.realsense', 'camera_model': 'd410', 'pc_cam_offset': [0, 0, 0]}, 'arm_config': {'max_linear_speed': 0.25, 'class_name': 'UR5', 'ip_address': '192.168.0.7', 'max_linear_accel': 1.2, 'xmlrpc_port': '8003', 'max_joint_accel': 1.4, 'max_joint_speed': 1.05, 'module_name': 'arms.ur5', 'default_linear_accel': 0.8, 'default_linear_speed': 0.1, 'default_joint_accel': 0.8, 'default_joint_speed': 0.7}, 'ft_config': {'class_name': 'OptoForce', 'ip_address': '192.168.0.3', 'module_name': 'sensors.ftsensor_optoforce'}}\n",
      "active_componetns: {'hand': ['hand_config'], 'arm': ['arm_config'], 'camera': ['cam_config'], 'ft': ['ft_config']}\n",
      "{'class_name': 'SmartHand', 'module_name': 'hands.smarthand', 'finger_width_inner': 0.0, 'finger_length': 0.0415, 'finger_width_outer': 0.015, 'finger_depth': 0.014}\n",
      "<class 'rmlib.hands.smarthand.SmartHand'>\n",
      "{'max_linear_speed': 0.25, 'class_name': 'UR5', 'ip_address': '192.168.0.7', 'max_linear_accel': 1.2, 'xmlrpc_port': '8003', 'max_joint_accel': 1.4, 'max_joint_speed': 1.05, 'module_name': 'arms.ur5', 'default_linear_accel': 0.8, 'default_linear_speed': 0.1, 'default_joint_accel': 0.8, 'default_joint_speed': 0.7}\n",
      "<class 'rmlib.arms.ur5.UR5'>\n",
      "{'class_name': 'RealSense', 'ci_cam_offset': [0, 0, 0], 'module_name': 'cameras.realsense', 'camera_model': 'd410', 'pc_cam_offset': [0, 0, 0]}\n",
      "<class 'rmlib.cameras.realsense.RealSense'>\n",
      "{'class_name': 'OptoForce', 'ip_address': '192.168.0.3', 'module_name': 'sensors.ftsensor_optoforce'}\n",
      "<class 'rmlib.sensors.ftsensor_optoforce.OptoForce'>\n",
      "Robot Ready!\n",
      "Functions and Vars added to RMStudio!\n",
      "Libs loaded!\n"
     ]
    }
   ],
   "source": [
    "%load_ext autoreload\n",
    "%autoreload 2\n",
    "from context import rmlib\n",
    "import rmlib.rmtools as rm\n",
    "from config import robotConfig\n",
    "\n",
    "\n",
    "robot = rmlib.robot.Robot( robotConfig )\n",
    "\n",
    "#Imports \n",
    "from time import sleep\n",
    "import numpy as np\n",
    "import rmlib\n",
    "from rmlib.rmtools.assembly_trees import augment_RM\n",
    "\n",
    "augment_RM( robot )\n",
    "\n",
    "%store -r\n",
    "\n",
    "####### LIBS #######################################################################################################################################\n",
    "\n",
    "# Import Pytrees\n",
    "import py_trees\n",
    "from py_trees.tests import Timeout_Success\n",
    "from py_trees.composites import Sequence , Selector\n",
    "\n",
    "from assembly_trees import *\n",
    "\n",
    "\n",
    "import math\n",
    "from pmath import translate_pose , get_disance_between_poses , pose_components\n",
    "\n",
    "from utils import is_matx_list\n",
    "from math import radians\n",
    "\n",
    "print( \"Libs loaded!\" )"
   ]
  },
  {
   "cell_type": "markdown",
   "metadata": {},
   "source": [
    "# Global Vars"
   ]
  },
  {
   "cell_type": "code",
   "execution_count": 2,
   "metadata": {},
   "outputs": [],
   "source": [
    "DATA_RATE  = 50\n",
    "SLEEP_TIME =  5.0"
   ]
  },
  {
   "cell_type": "markdown",
   "metadata": {},
   "source": [
    "# Tilt Insert: Shaft Recording"
   ]
  },
  {
   "cell_type": "code",
   "execution_count": null,
   "metadata": {},
   "outputs": [],
   "source": [
    "def get_shaft_insert_tree():\n",
    "    rootNode = Sequence_Recorder(  memory = 0 , dataKey = \"test_DATA\" , flagKey = \"test_FLAG\" , \n",
    "                                   outFileGenFunc = get_XML_outfile_namer( pathPrefix = \"output/\" , namePrefix = \"SHAFT-TLT_\" )  )\n",
    "\n",
    "    recordBehav = Record_Classify( recordFlagKey = \"test_FLAG\" , dataKey = \"test_DATA\" , recordHz = DATA_RATE , ctrl = robot )\n",
    "\n",
    "\n",
    "    insertTree = Sequence( memory = 1 )\n",
    "\n",
    "    goBehav = Jog_Safe( shaftGraspPose , \n",
    "                        zSAFE = 0.100 ,  \n",
    "                        hover = 1 ,  \n",
    "                        ctrl  = robot  )\n",
    "\n",
    "    graspBehav = Grasp_at_Pose( shaftGraspPose, 0.015 ,\n",
    "                                zApproach=0.050 , zClose=0.0 , wdthNarrow = 0.030 , maxIter=5, zFree=0.100 , \n",
    "                                ctrl = robot )\n",
    "\n",
    "    jogBehav = Jog_Safe( shaftPreInsertPose , \n",
    "                        zSAFE = 0.100 ,  \n",
    "                        hover = 0 ,  \n",
    "                        ctrl  = robot  )\n",
    "\n",
    "\n",
    "    tiltBehav = Tilt_Insert( shaftPreInsertPose ,\n",
    "                              tilt_angle_deg = 7.25 , part_offset = 0.016 , dia = 0.015 , \n",
    "                              touch_force = 0.6 , insert_force = 1.5 , max_movement = 0.045 , biasWrist = 1 , offset_dir = np.array([1.0,0.0,0.0]), \n",
    "                              posnMargin = 0.003 , orntMargin = 2.0/180 , finalInsertHandZ = fatPegFullInsertZ , recordFlagKey = \"test_FLAG\" , ctrl = robot )\n",
    "\n",
    "    dropBehav = Set_Fingers( openState = 1.0 , ctrl = robot )    \n",
    "\n",
    "    insertTree.add_children( [ goBehav , graspBehav , jogBehav , tiltBehav , dropBehav ] )\n",
    "\n",
    "    rootNode.add_children( [ recordBehav , insertTree ] )\n",
    "    \n",
    "    return rootNode"
   ]
  },
  {
   "cell_type": "markdown",
   "metadata": {},
   "source": [
    "# Tilt Insert Pipeline"
   ]
  },
  {
   "cell_type": "code",
   "execution_count": null,
   "metadata": {},
   "outputs": [],
   "source": [
    "N = 100\n",
    "from time import sleep\n",
    "\n",
    "for i in range( N ):\n",
    "    \n",
    "    try:\n",
    "        \n",
    "        print( \"Iteration\" , i+1 , \"of\" , N )\n",
    "        \n",
    "        # 1. Reset tree\n",
    "        rootNode = get_shaft_insert_tree()\n",
    "        \n",
    "        # 2. Run tree and generate recording\n",
    "        run_BT_until_done( rootNode , N = 1000 , tickPause = 0.25 , breakOnFailure = 1 , breakOnSuccess = 1 , Nverb = 0 )\n",
    "        \n",
    "        # 3. Release\n",
    "        robot.hand.release()\n",
    "        \n",
    "        # 4. Deactivate motors\n",
    "        robot.hand.deactivate_motors()\n",
    "        \n",
    "        # 5. Move to safe position\n",
    "        robot.arm.move( safeCenterPose )\n",
    "        \n",
    "        # 6. Sleep for human reset\n",
    "        sleep( SLEEP_TIME )\n",
    "\n",
    "    except KeyboardInterrupt:\n",
    "        print( \"Pipeline was STOPPED by user at iteration\" , i+1 )\n",
    "        break"
   ]
  },
  {
   "cell_type": "markdown",
   "metadata": {},
   "source": [
    "# Spiral Insert Process"
   ]
  },
  {
   "cell_type": "code",
   "execution_count": 3,
   "metadata": {},
   "outputs": [],
   "source": [
    "class Tap_Down( py_trees.composites.Sequence ):\n",
    "    \"\"\" For dislodging vertically and pushing down \"\"\"\n",
    "    # SEE Push_and_Twist_to_Level for inspiration\n",
    "    # Push_and_Twist_to_Level is broken\n",
    "    \n",
    "    def __init__( self , goalZ, allowedF = 5, tap_force = 1.0 , zRetract = 0.040, tapWidth = 0.020, \n",
    "                 plungeDistance = 0.070, descendSpeed=0.0125 , zMargin = 0.005, ctrl = None ):\n",
    "        \"\"\" Construct the subtree \"\"\"\n",
    "    \n",
    "        super().__init__( name = \"Tap_Down\" , memory = True )\n",
    "\n",
    "        # ~~ Add Nodes ~~\n",
    "        \n",
    "        # 0. Open the hand\n",
    "        \n",
    "        self.add_child(Set_Fingers( openState = 1.0 , ctrl = ctrl ))\n",
    "        \n",
    "        # 1. Move up\n",
    "        \n",
    "        #self.add_child(Move_Arm_Relative( translation = [0.0,0.0,zRetract] , ctrl = ctrl ))\n",
    "        \n",
    "        # 2. Narrow fingers to distance\n",
    "                       \n",
    "        self.add_child(Set_Fingers( openState = tapWidth , ctrl = ctrl ))\n",
    "                       \n",
    "        \n",
    "        # 3. Tap Loop\n",
    "        \n",
    "        #Tap_Routine = py_trees.composites.Selector()\n",
    "        Tap_Routine = py_trees.composites.Sequence( memory = 1 )\n",
    "        \n",
    "        \n",
    "        Tap_Routine.add_child()\n",
    "        # 3.a Move to contact\n",
    "        \n",
    "        Tap_Routine.add_child()\n",
    "        \n",
    "#         Tap_Routine.add_child(py_trees.decorators.SuccessIsFailure(Move_to_Contact( relMove = [ 0 , 0 , -plungeDistance ] , Fmag = tap_force , \n",
    "#                                               speed = descendSpeed , biasWrist = 1 , ctrl = ctrl )))\n",
    "        \n",
    "        # 3.b Check Z\n",
    "                              \n",
    "        Tap_Routine.add_child(   )\n",
    "        \n",
    "        # 3.c Move to saved pose\n",
    "        \n",
    "#         Tap_Routine.add_child(py_trees.decorators.SuccessIsFailure(Move_Arm_Relative( translation = [ 0 , 0 , 1.7*plungeDistance ] , \n",
    "#                                                                                      speed = descendSpeed,ctrl = ctrl )))\n",
    "        \n",
    "        self.add_child(Run_to_X_Failures_DECO(Tap_Routine, X_allowedFails = allowedF))\n",
    "        \n",
    "        # 4 Move to saved pose\n",
    "        \n",
    "        self.add_child(Move_Arm_Relative( translation = [ 0 , 0 , plungeDistance ] , speed = descendSpeed, ctrl = ctrl ))\n",
    "        "
   ]
  },
  {
   "cell_type": "code",
   "execution_count": null,
   "metadata": {},
   "outputs": [],
   "source": [
    "rootNode = Tap_Down(  goalZ = 0.0472, allowedF = 5, tap_force = 7.0 , zRetract = 0.040, tapWidth = 0.020, \n",
    "                 plungeDistance = 0.10, descendSpeed=0.025 , zMargin = 0.005, ctrl = robot )"
   ]
  },
  {
   "cell_type": "code",
   "execution_count": null,
   "metadata": {},
   "outputs": [],
   "source": []
  },
  {
   "cell_type": "code",
   "execution_count": 6,
   "metadata": {},
   "outputs": [],
   "source": [
    "from math import radians\n",
    "\n",
    "class TwistToggleRelGen:\n",
    "    \"\"\" Generator for a toggled twist motion, Relative \"\"\"\n",
    "    \n",
    "    def __init__( self , twist_deg = 10 , doubleSided = 1 , N = None , ctrl = None ):\n",
    "        \"\"\" Set vars for the twist operation \"\"\"\n",
    "        self.ctrl     = ctrl\n",
    "        self.twistRad = radians( twist_deg )\n",
    "        self.dbblSdd  = doubleSided\n",
    "        self.N        = N\n",
    "        self.factor   = 1.0\n",
    "        self.i        = 1\n",
    "        \n",
    "    def __call__( self ):\n",
    "        \"\"\" Generate the next pose \"\"\"\n",
    "        # 1. Get the hand pose\n",
    "        pose = self.ctrl.arm.get_tcp_pose()\n",
    "        # 2. Calc the next pose\n",
    "        turnRad = 0\n",
    "        if self.dbblSdd:\n",
    "            print( \"double sided\" )\n",
    "            \n",
    "            if self.N != None: \n",
    "                print( \"specified N\" )\n",
    "                # B. If double sided && If iter-limited && if the last iteration, Then turn by hald\n",
    "                if self.i == 1:\n",
    "                    print( \"the first iteration\" )\n",
    "                    turnRad = self.twistRad * 0.5\n",
    "                elif self.N == self.i:\n",
    "                    print( \"the last iteration\" )\n",
    "                    turnRad = self.twistRad * 0.5\n",
    "                # B. If double sided && If iter-limited && if surpassed last iteration, Then do not turn\n",
    "                elif self.N < self.i:\n",
    "                    print( \"too many iteration\" )\n",
    "                    turnRad = 0.0\n",
    "                # C. Else turn by full measure\n",
    "                else:\n",
    "                    print( \"iteration:\" , self.i )\n",
    "                    turnRad = self.twistRad\n",
    "            else:\n",
    "                print( \"no N given\" )\n",
    "                # A. If double sided && If the first iteration, Then turn by half\n",
    "                if self.i == 1:\n",
    "                    print( \"the first iteration\" )\n",
    "                    turnRad = self.twistRad * 0.5\n",
    "                else:\n",
    "                    turnRad = self.twistRad\n",
    "            \n",
    "        # D. Else is not double sided, turn by full measure\n",
    "        else:\n",
    "            print( \"NOT double sided\" )\n",
    "            turnRad = self.twistRad\n",
    "        # 3. Rotate the pose\n",
    "        turnRad *= self.factor\n",
    "        print( \"turnRad =\" , turnRad )\n",
    "        pose    = rotate_pose( pose , [ 0.0 , 0.0 , turnRad ] , dir_pose = 'self' )\n",
    "        # 4. Reverse the direction\n",
    "        self.factor *= -1.0\n",
    "        # 5. Incrment `i`\n",
    "        self.i += 1\n",
    "        # 6. Return the pose\n",
    "        return pose"
   ]
  },
  {
   "cell_type": "code",
   "execution_count": 7,
   "metadata": {},
   "outputs": [],
   "source": [
    "class Tamp_Alternating( py_trees.composites.Sequence ):\n",
    "    \"\"\" Attempt to remedy a jammed insertion \"\"\"\n",
    "    \n",
    "    def __init__( self , zGoal , zMargin = 0.005 , tap_force = 3.0 , plungeDistance = 0.070 , tapWidth = 0.020 ,\n",
    "                  twist_deg = 10 , doubleSided = 1 , \n",
    "                  descendSpeed = 0.0125 , Ntries = 6 , TzStop = 1.8 , ctrl = None ):\n",
    "        \"\"\" Build the subtree \"\"\"\n",
    "        super().__init__( name = \"Tamp_Alternating\" , memory = 1 )\n",
    "        \n",
    "        # -1. set finger width\n",
    "        self.add_child(  Set_Fingers( openState = tapWidth , ctrl = ctrl )  )\n",
    "        \n",
    "        # 0. Instantiate tamp subtree\n",
    "        pushTwist = py_trees.composites.Sequence( name = \"Push_and_Twist_Seq\" , memory = 1 )\n",
    "\n",
    "        # 1. Retract\n",
    "        pushTwist.add_child(  Move_Arm_Relative( translation = [ 0 , 0 , 0.5*plungeDistance ] , speed = descendSpeed , ctrl = ctrl )  )\n",
    "        \n",
    "        # 2. Twist\n",
    "        def cond_Tz( *args ):\n",
    "            \"\"\" Stop at the prescribed wrist torque \"\"\"\n",
    "            wrench = ctrl.ft.get_wrist_force()\n",
    "            if abs( wrench[5] ) > TzStop:\n",
    "                return 1\n",
    "            else:\n",
    "                return 0\n",
    "        \n",
    "        pushTwist.add_child(  Move_Rule_w_Stop_Cond( \n",
    "            TwistToggleRelGen( twist_deg = twist_deg , doubleSided = doubleSided , N = Ntries , ctrl = ctrl ) , \n",
    "            stop_cond    = cond_Tz , \n",
    "            condSuccess  = False   , \n",
    "            relativeRule = 0       , \n",
    "            ctrl         = ctrl \n",
    "        )  )\n",
    "        \n",
    "        # 3. Tamp\n",
    "        pushTwist.add_child(  Move_to_Contact( relMove = [ 0 , 0 , -plungeDistance ] , Fmag = tap_force , speed = descendSpeed , biasWrist = 1 , ctrl = ctrl )  )\n",
    "        \n",
    "        # 4. Check z level\n",
    "        pushTwist.add_child(  At_Z_Level_COND( zGoal , margin = zMargin , ctrl = ctrl )   )\n",
    "        \n",
    "        # 5. In a loop\n",
    "        self.add_child(  \n",
    "            Run_to_X_Failures_DECO(  \n",
    "                pushTwist ,\n",
    "                X_allowedFails = Ntries\n",
    "            )\n",
    "        )"
   ]
  },
  {
   "cell_type": "code",
   "execution_count": 8,
   "metadata": {},
   "outputs": [],
   "source": [
    "rootNode = Tamp_Alternating( zGoal = 0.0472 , zMargin = 0.005 , tap_force = 3.0 , plungeDistance = 0.070 , tapWidth = 0.020 ,\n",
    "                             twist_deg = 90 , doubleSided = 0 , \n",
    "                             descendSpeed = 0.0125 , Ntries = 6 , TzStop = 1.8 , ctrl = robot )"
   ]
  },
  {
   "cell_type": "code",
   "execution_count": 9,
   "metadata": {},
   "outputs": [
    {
     "name": "stdout",
     "output_type": "stream",
     "text": [
      "Root node Tamp_Alternating status: Status.RUNNING\n",
      "Root node Tamp_Alternating status: Status.RUNNING\n",
      "Root node Tamp_Alternating status: Status.RUNNING\n",
      "Root node Tamp_Alternating status: Status.RUNNING\n",
      "Root node Tamp_Alternating status: Status.RUNNING\n",
      "Root node Tamp_Alternating status: Status.RUNNING\n",
      "Root node Tamp_Alternating status: Status.RUNNING\n",
      "Root node Tamp_Alternating status: Status.RUNNING\n",
      "Root node Tamp_Alternating status: Status.RUNNING\n",
      "\n",
      "--------- Tick 10 ---------\n",
      "\n",
      "\n",
      "\n",
      "[-] Tamp_Alternating [*]\n",
      "    --> Set_Fingers [o]\n",
      "    -^- Run_to_X_Failures_DECO [*]\n",
      "        [-] Push_and_Twist_Seq [*]\n",
      "            --> Move_Arm_Relative [*]\n",
      "            --> Move_Rule_w_Stop_Cond [-]\n",
      "            --> Move_to_Contact [-]\n",
      "            --> At_Z_Level_COND [-]\n",
      "\n",
      "Root node Tamp_Alternating status: Status.RUNNING\n",
      "Root node Tamp_Alternating status: Status.RUNNING\n",
      "Root node Tamp_Alternating status: Status.RUNNING\n",
      "Root node Tamp_Alternating status: Status.RUNNING\n",
      "Root node Tamp_Alternating status: Status.RUNNING\n",
      "Root node Tamp_Alternating status: Status.RUNNING\n",
      "NOT double sided\n",
      "turnRad = 1.5707963267948966\n",
      "Root node Tamp_Alternating status: Status.RUNNING\n",
      "Root node Tamp_Alternating status: Status.RUNNING\n",
      "Root node Tamp_Alternating status: Status.RUNNING\n",
      "Root node Tamp_Alternating status: Status.RUNNING\n",
      "\n",
      "--------- Tick 20 ---------\n",
      "\n",
      "\n",
      "\n",
      "[-] Tamp_Alternating [*]\n",
      "    --> Set_Fingers [o]\n",
      "    -^- Run_to_X_Failures_DECO [*]\n",
      "        [-] Push_and_Twist_Seq [*]\n",
      "            --> Move_Arm_Relative [*]\n",
      "            --> Move_Rule_w_Stop_Cond [o]\n",
      "            --> Move_to_Contact [-]\n",
      "            --> At_Z_Level_COND [-]\n",
      "\n",
      "Root node Tamp_Alternating status: Status.RUNNING\n",
      "Root node Tamp_Alternating status: Status.RUNNING\n",
      "Root node Tamp_Alternating status: Status.RUNNING\n",
      "Root node Tamp_Alternating status: Status.RUNNING\n",
      "Root node Tamp_Alternating status: Status.RUNNING\n",
      "Root node Tamp_Alternating status: Status.RUNNING\n",
      "Root node Tamp_Alternating status: Status.RUNNING\n",
      "Root node Tamp_Alternating status: Status.RUNNING\n",
      "Root node Tamp_Alternating status: Status.RUNNING\n",
      "Root node Tamp_Alternating status: Status.RUNNING\n",
      "NOT double sided\n",
      "turnRad = -1.5707963267948966\n",
      "\n",
      "--------- Tick 30 ---------\n",
      "\n",
      "\n",
      "\n",
      "[-] Tamp_Alternating [*]\n",
      "    --> Set_Fingers [o]\n",
      "    -^- Run_to_X_Failures_DECO [*] -- Allowed 2 of 6\n",
      "        [-] Push_and_Twist_Seq [x]\n",
      "            --> Move_Arm_Relative [o]\n",
      "            --> Move_Rule_w_Stop_Cond [o]\n",
      "            --> Move_to_Contact [o]\n",
      "            --> At_Z_Level_COND [x]\n",
      "\n",
      "Root node Tamp_Alternating status: Status.RUNNING\n",
      "Root node Tamp_Alternating status: Status.RUNNING\n",
      "Root node Tamp_Alternating status: Status.RUNNING\n",
      "Root node Tamp_Alternating status: Status.RUNNING\n",
      "Root node Tamp_Alternating status: Status.RUNNING\n",
      "Root node Tamp_Alternating status: Status.RUNNING\n",
      "Root node Tamp_Alternating status: Status.RUNNING\n",
      "Root node Tamp_Alternating status: Status.RUNNING\n",
      "Root node Tamp_Alternating status: Status.RUNNING\n",
      "Root node Tamp_Alternating status: Status.RUNNING\n",
      "\n",
      "--------- Tick 40 ---------\n",
      "\n",
      "\n",
      "\n",
      "[-] Tamp_Alternating [*]\n",
      "    --> Set_Fingers [o]\n",
      "    -^- Run_to_X_Failures_DECO [*]\n",
      "        [-] Push_and_Twist_Seq [*]\n",
      "            --> Move_Arm_Relative [*]\n",
      "            --> Move_Rule_w_Stop_Cond [o]\n",
      "            --> Move_to_Contact [-]\n",
      "            --> At_Z_Level_COND [-]\n",
      "\n",
      "Root node Tamp_Alternating status: Status.RUNNING\n",
      "Root node Tamp_Alternating status: Status.RUNNING\n",
      "Root node Tamp_Alternating status: Status.RUNNING\n",
      "Root node Tamp_Alternating status: Status.RUNNING\n",
      "NOT double sided\n",
      "turnRad = 1.5707963267948966\n",
      "Root node Tamp_Alternating status: Status.RUNNING\n",
      "Root node Tamp_Alternating status: Status.RUNNING\n",
      "Root node Tamp_Alternating status: Status.RUNNING\n",
      "Root node Tamp_Alternating status: Status.RUNNING\n",
      "Root node Tamp_Alternating status: Status.RUNNING\n",
      "Root node Tamp_Alternating status: Status.RUNNING\n",
      "\n",
      "--------- Tick 50 ---------\n",
      "\n",
      "\n",
      "\n",
      "[-] Tamp_Alternating [*]\n",
      "    --> Set_Fingers [o]\n",
      "    -^- Run_to_X_Failures_DECO [*]\n",
      "        [-] Push_and_Twist_Seq [*]\n",
      "            --> Move_Arm_Relative [*]\n",
      "            --> Move_Rule_w_Stop_Cond [o]\n",
      "            --> Move_to_Contact [-]\n",
      "            --> At_Z_Level_COND [-]\n",
      "\n",
      "Root node Tamp_Alternating status: Status.RUNNING\n",
      "Root node Tamp_Alternating status: Status.RUNNING\n",
      "Root node Tamp_Alternating status: Status.RUNNING\n",
      "Root node Tamp_Alternating status: Status.RUNNING\n",
      "Root node Tamp_Alternating status: Status.RUNNING\n",
      "Root node Tamp_Alternating status: Status.RUNNING\n",
      "Root node Tamp_Alternating status: Status.RUNNING\n",
      "Root node Tamp_Alternating status: Status.RUNNING\n",
      "NOT double sided\n",
      "turnRad = -1.5707963267948966\n",
      "Root node Tamp_Alternating status: Status.RUNNING\n",
      "Root node Tamp_Alternating status: Status.RUNNING\n",
      "\n",
      "--------- Tick 60 ---------\n",
      "\n",
      "\n",
      "\n",
      "[-] Tamp_Alternating [*]\n",
      "    --> Set_Fingers [o]\n",
      "    -^- Run_to_X_Failures_DECO [*]\n",
      "        [-] Push_and_Twist_Seq [*]\n",
      "            --> Move_Arm_Relative [*]\n",
      "            --> Move_Rule_w_Stop_Cond [o]\n",
      "            --> Move_to_Contact [-]\n",
      "            --> At_Z_Level_COND [-]\n",
      "\n",
      "Root node Tamp_Alternating status: Status.RUNNING\n",
      "Root node Tamp_Alternating status: Status.RUNNING\n",
      "Root node Tamp_Alternating status: Status.RUNNING\n",
      "Root node Tamp_Alternating status: Status.RUNNING\n",
      "Root node Tamp_Alternating status: Status.RUNNING\n",
      "Root node Tamp_Alternating status: Status.RUNNING\n",
      "Root node Tamp_Alternating status: Status.RUNNING\n",
      "Root node Tamp_Alternating status: Status.RUNNING\n",
      "Root node Tamp_Alternating status: Status.RUNNING\n",
      "Root node Tamp_Alternating status: Status.RUNNING\n",
      "\n",
      "--------- Tick 70 ---------\n",
      "\n",
      "\n",
      "\n",
      "[-] Tamp_Alternating [*]\n",
      "    --> Set_Fingers [o]\n",
      "    -^- Run_to_X_Failures_DECO [*]\n",
      "        [-] Push_and_Twist_Seq [*]\n",
      "            --> Move_Arm_Relative [*]\n",
      "            --> Move_Rule_w_Stop_Cond [o]\n",
      "            --> Move_to_Contact [-]\n",
      "            --> At_Z_Level_COND [-]\n",
      "\n",
      "Root node Tamp_Alternating status: Status.RUNNING\n",
      "Root node Tamp_Alternating status: Status.RUNNING\n",
      "NOT double sided\n",
      "turnRad = 1.5707963267948966\n",
      "Root node Tamp_Alternating status: Status.RUNNING\n",
      "Root node Tamp_Alternating status: Status.RUNNING\n",
      "Root node Tamp_Alternating status: Status.RUNNING\n",
      "Root node Tamp_Alternating status: Status.RUNNING\n",
      "Root node Tamp_Alternating status: Status.RUNNING\n",
      "Root node Tamp_Alternating status: Status.RUNNING\n",
      "Root node Tamp_Alternating status: Status.RUNNING\n",
      "Root node Tamp_Alternating status: Status.RUNNING\n",
      "\n",
      "--------- Tick 80 ---------\n",
      "\n",
      "\n",
      "\n",
      "[-] Tamp_Alternating [*]\n",
      "    --> Set_Fingers [o]\n",
      "    -^- Run_to_X_Failures_DECO [*]\n",
      "        [-] Push_and_Twist_Seq [*]\n",
      "            --> Move_Arm_Relative [*]\n",
      "            --> Move_Rule_w_Stop_Cond [o]\n",
      "            --> Move_to_Contact [-]\n",
      "            --> At_Z_Level_COND [-]\n",
      "\n",
      "Root node Tamp_Alternating status: Status.RUNNING\n",
      "Root node Tamp_Alternating status: Status.RUNNING\n",
      "Root node Tamp_Alternating status: Status.RUNNING\n",
      "Root node Tamp_Alternating status: Status.RUNNING\n",
      "Root node Tamp_Alternating status: Status.RUNNING\n",
      "Root node Tamp_Alternating status: Status.RUNNING\n",
      "NOT double sided\n",
      "turnRad = -1.5707963267948966\n",
      "Root node Tamp_Alternating failed!\n",
      "\n",
      "\n",
      "Simulation completed! with status rootNode.status \n",
      "\n",
      "\n"
     ]
    }
   ],
   "source": [
    "run_BT_until_done( rootNode , N = 1000 , tickPause = 0.25 , breakOnFailure = 1 , breakOnSuccess = 1 , Nverb = 10 )"
   ]
  },
  {
   "cell_type": "code",
   "execution_count": 5,
   "metadata": {},
   "outputs": [],
   "source": [
    "from assembly_trees import _DUMMYPOSE\n",
    "import py_trees\n",
    "\n",
    "def get_spiral_test_tree():\n",
    "    rootNode = Sequence_Recorder(  memory = 0 , dataKey = \"test_DATA\" , flagKey = \"test_FLAG\" , \n",
    "                                   outFileGenFunc = get_XML_outfile_namer( pathPrefix = \"output/\" , namePrefix = \"PULLEY-SPR_\" )  )\n",
    "\n",
    "    recordBehav = Record_Classify( recordFlagKey = \"test_FLAG\" , dataKey = \"test_DATA\" , recordHz = 50 , ctrl = robot )\n",
    "\n",
    "\n",
    "    insertTree = Sequence( memory = 1 )\n",
    "\n",
    "    goBehav = Jog_Safe( wheelGraspPose , \n",
    "                        zSAFE = 0.100 ,  \n",
    "                        hover = 1 ,  \n",
    "                        ctrl  = robot  )\n",
    "\n",
    "    graspBehav = Grasp_at_Pose( wheelGraspPose, 0.026 ,\n",
    "                                zApproach=0.050 , zClose=0.0 , wdthNarrow = 0.040 , maxIter=5, zFree=0.100 , \n",
    "                                ctrl = robot )\n",
    "\n",
    "    jogBehav = Jog_Safe( wheelPreOffsetXPose , #wheelPreOffsetYPose,  # wheelPreInsertPose , \n",
    "                         zSAFE = 0.100 ,  \n",
    "                         hover = 0 ,  \n",
    "                         ctrl  = robot  )\n",
    "\n",
    "    # 1.8 # Lateral torque caused it to bind\n",
    "    insertBehav = Spiral_Insert( wheelPreOffsetXPose , #wheelPreOffsetYPose , # wheelPreInsertPose ,\n",
    "                                 touch_force = 0.8 , drop_force = 0.6 , insert_force = 4 , max_movement = 0.050 , \n",
    "                                 lateralStopTorque = 0.45 , pushbackF = 20.0 , spiralSpeed = 0.002 , descendSpeed = 0.00625 , biasWrist = 1 ,\n",
    "                                 degrees_to_step = 10 , startRadius = 0.0005 , stepSize = 0.00025 ,  max_radius=0.060 ,\n",
    "                                 posnMargin = 0.003 , orntMargin = 2.0/180 , finalInsertHandZ = None , \n",
    "                                 reliefStep_m = 0.00025 , reliefMargin_Nm = 0.04 , reliefN = 10 , # This line tuned 2020-06-18\n",
    "                                 ctrl = robot )\n",
    "\n",
    "    dropBehav = Set_Fingers( openState = 1.0 , ctrl = robot )    \n",
    "\n",
    "    insertTree.add_children( [ goBehav , graspBehav , jogBehav , insertBehav , dropBehav ] )\n",
    "\n",
    "    rootNode.add_children( [ recordBehav , insertTree ] )\n",
    "    \n",
    "    return rootNode\n",
    "\n",
    "    "
   ]
  },
  {
   "cell_type": "markdown",
   "metadata": {},
   "source": [
    "# Spiral Insert: Recording Pipeline"
   ]
  },
  {
   "cell_type": "code",
   "execution_count": 6,
   "metadata": {},
   "outputs": [
    {
     "name": "stdout",
     "output_type": "stream",
     "text": [
      "Iteration 1 of 3\n",
      "COND_At_TCP_Pose , SUCCEEDED: Reached the pose\n",
      "Root node Sequence_Recorder failed!\n",
      "\n",
      "\n",
      "Simulation completed! with status rootNode.status \n",
      "\n",
      "\n",
      "about to WRITE to output/PULLEY-SPR_2020-06-19_03-40-57.xml, writing COMPLETE\n",
      "Iteration 2 of 3\n",
      "COND_At_TCP_Pose , SUCCEEDED: Reached the pose\n",
      "Root node Sequence_Recorder failed!\n",
      "\n",
      "\n",
      "Simulation completed! with status rootNode.status \n",
      "\n",
      "\n",
      "about to WRITE to output/PULLEY-SPR_2020-06-19_03-41-22.xml, writing COMPLETE\n",
      "Iteration 3 of 3\n",
      "COND_At_TCP_Pose , SUCCEEDED: Reached the pose\n",
      "Root node Sequence_Recorder failed!\n",
      "\n",
      "\n",
      "Simulation completed! with status rootNode.status \n",
      "\n",
      "\n",
      "about to WRITE to output/PULLEY-SPR_2020-06-19_03-41-48.xml, writing COMPLETE\n"
     ]
    }
   ],
   "source": [
    "N = 3\n",
    "from time import sleep\n",
    "\n",
    "for i in range( N ):\n",
    "    \n",
    "    try:\n",
    "        \n",
    "        print( \"Iteration\" , i+1 , \"of\" , N )\n",
    "        \n",
    "        # 1. Reset tree\n",
    "        rootNode = get_spiral_test_tree()\n",
    "        \n",
    "        # 2. Run tree and generate recording\n",
    "        run_BT_until_done( rootNode , N = 1000 , tickPause = 0.25 , breakOnFailure = 1 , breakOnSuccess = 1 , Nverb = 0 )\n",
    "        \n",
    "        # 3. Release\n",
    "        robot.hand.release()\n",
    "        \n",
    "        # 4. Deactivate motors\n",
    "        robot.hand.deactivate_motors()\n",
    "        \n",
    "        # 5. Move to safe position\n",
    "        robot.arm.move( safeCenterPose )\n",
    "        \n",
    "        # 6. Sleep for human reset\n",
    "        sleep( SLEEP_TIME )\n",
    "\n",
    "    except KeyboardInterrupt:\n",
    "        print( \"Pipeline was STOPPED by user at iteration\" , i+1 )\n",
    "        break\n",
    "        "
   ]
  },
  {
   "cell_type": "code",
   "execution_count": null,
   "metadata": {},
   "outputs": [],
   "source": []
  },
  {
   "cell_type": "code",
   "execution_count": null,
   "metadata": {},
   "outputs": [],
   "source": [
    "\n",
    "\n"
   ]
  },
  {
   "cell_type": "code",
   "execution_count": null,
   "metadata": {},
   "outputs": [],
   "source": []
  },
  {
   "cell_type": "markdown",
   "metadata": {},
   "source": [
    "# Common Functions"
   ]
  },
  {
   "cell_type": "code",
   "execution_count": 5,
   "metadata": {},
   "outputs": [
    {
     "data": {
      "text/plain": [
       "True"
      ]
     },
     "execution_count": 5,
     "metadata": {},
     "output_type": "execute_result"
    }
   ],
   "source": [
    "robot.arm.align_tcp( robot.arm )"
   ]
  },
  {
   "cell_type": "code",
   "execution_count": 6,
   "metadata": {},
   "outputs": [
    {
     "data": {
      "text/plain": [
       "True"
      ]
     },
     "execution_count": 6,
     "metadata": {},
     "output_type": "execute_result"
    }
   ],
   "source": [
    "robot.hand.grip()"
   ]
  },
  {
   "cell_type": "code",
   "execution_count": 7,
   "metadata": {},
   "outputs": [
    {
     "data": {
      "text/plain": [
       "False"
      ]
     },
     "execution_count": 7,
     "metadata": {},
     "output_type": "execute_result"
    }
   ],
   "source": [
    "robot.hand.release()"
   ]
  },
  {
   "cell_type": "code",
   "execution_count": 9,
   "metadata": {},
   "outputs": [
    {
     "data": {
      "text/plain": [
       "True"
      ]
     },
     "execution_count": 9,
     "metadata": {},
     "output_type": "execute_result"
    }
   ],
   "source": [
    "robot.hand.set_finger_width( 0.020 ) "
   ]
  },
  {
   "cell_type": "code",
   "execution_count": 7,
   "metadata": {},
   "outputs": [],
   "source": [
    "robot.arm.move( wheelPreInsertPose )"
   ]
  },
  {
   "cell_type": "code",
   "execution_count": 8,
   "metadata": {},
   "outputs": [
    {
     "data": {
      "text/plain": [
       "array([[-0.99836891, -0.05700227,  0.00320382, -0.05069704],\n",
       "       [-0.05694098,  0.99823702,  0.01675048, -0.53282457],\n",
       "       [-0.00415299,  0.01654073, -0.99985457,  0.04725475],\n",
       "       [ 0.        ,  0.        ,  0.        ,  1.        ]])"
      ]
     },
     "execution_count": 8,
     "metadata": {},
     "output_type": "execute_result"
    }
   ],
   "source": [
    "robot.arm.get_tcp_pose()"
   ]
  },
  {
   "cell_type": "code",
   "execution_count": 14,
   "metadata": {},
   "outputs": [
    {
     "data": {
      "text/plain": [
       "1"
      ]
     },
     "execution_count": 14,
     "metadata": {},
     "output_type": "execute_result"
    }
   ],
   "source": [
    "robot.hand.deactivate_motors()"
   ]
  },
  {
   "cell_type": "markdown",
   "metadata": {},
   "source": [
    "# Setup"
   ]
  },
  {
   "cell_type": "code",
   "execution_count": null,
   "metadata": {},
   "outputs": [],
   "source": [
    "# wheelGraspPose = robot.arm.get_tcp_pose()\n",
    "# %store wheelGraspPose"
   ]
  },
  {
   "cell_type": "code",
   "execution_count": 9,
   "metadata": {},
   "outputs": [
    {
     "name": "stdout",
     "output_type": "stream",
     "text": [
      "Stored 'wheelPreInsertPose' (ndarray)\n"
     ]
    }
   ],
   "source": [
    "# wheelPreInsertPose = robot.arm.get_tcp_pose()\n",
    "# %store wheelPreInsertPose"
   ]
  },
  {
   "cell_type": "code",
   "execution_count": null,
   "metadata": {},
   "outputs": [],
   "source": [
    "# wheelPostInsertPose = robot.arm.get_tcp_pose()\n",
    "# wheelPostInsertZ = wheelPostInsertPose[2,3]\n",
    "# %store wheelPostInsertPose\n",
    "# %store wheelPostInsertZ"
   ]
  },
  {
   "cell_type": "code",
   "execution_count": 35,
   "metadata": {},
   "outputs": [
    {
     "name": "stdout",
     "output_type": "stream",
     "text": [
      "Stored 'wheelPreOffsetYPose' (ndarray)\n"
     ]
    }
   ],
   "source": [
    "# wheelPreOffsetYPose = robot.arm.get_tcp_pose()\n",
    "# %store wheelPreOffsetYPose"
   ]
  },
  {
   "cell_type": "code",
   "execution_count": 8,
   "metadata": {},
   "outputs": [
    {
     "name": "stdout",
     "output_type": "stream",
     "text": [
      "Stored 'wheelPreOffsetXPose' (ndarray)\n"
     ]
    }
   ],
   "source": [
    "# wheelPreOffsetXPose = robot.arm.get_tcp_pose()\n",
    "# %store wheelPreOffsetXPose"
   ]
  },
  {
   "cell_type": "code",
   "execution_count": null,
   "metadata": {},
   "outputs": [],
   "source": [
    "# shaftGraspPose = robot.arm.get_tcp_pose()\n",
    "# %store shaftGraspPose"
   ]
  },
  {
   "cell_type": "code",
   "execution_count": null,
   "metadata": {},
   "outputs": [],
   "source": [
    "# shaftPreInsertPose = robot.arm.get_tcp_pose()\n",
    "# %store shaftPreInsertPose"
   ]
  },
  {
   "cell_type": "code",
   "execution_count": null,
   "metadata": {},
   "outputs": [],
   "source": [
    "# safeCenterPose = robot.arm.get_tcp_pose()\n",
    "# %store safeCenterPose"
   ]
  },
  {
   "cell_type": "markdown",
   "metadata": {},
   "source": [
    "# TEST: Relieve Wrist Torque\n",
    "1. Put the wrist in a slighly torqued place"
   ]
  },
  {
   "cell_type": "code",
   "execution_count": null,
   "metadata": {},
   "outputs": [],
   "source": [
    "py_trees.logging.level = py_trees.logging.Level.INFO\n",
    "\n",
    "rootNode =  Minimize_Wrist_Torque_XY( numTrials = 10 , marginT=0.10 , moveStep=0.002  , ctrl = robot )\n",
    "\n",
    "\n"
   ]
  },
  {
   "cell_type": "code",
   "execution_count": null,
   "metadata": {},
   "outputs": [],
   "source": [
    "robot.ft.bias_wrist_force()"
   ]
  },
  {
   "cell_type": "markdown",
   "metadata": {},
   "source": [
    "APPLY TORQUE HERE"
   ]
  },
  {
   "cell_type": "code",
   "execution_count": null,
   "metadata": {},
   "outputs": [],
   "source": [
    "print( \"FT before the behavior:\" , robot.ft.get_wrist_force() )\n",
    "\n",
    "run_BT_until_done( rootNode , N = 1000 , tickPause = 0.25 , breakOnFailure = 1 , breakOnSuccess = 1 )\n",
    "\n",
    "print( \"FT After the behavior:\" , robot.ft.get_wrist_force() )"
   ]
  },
  {
   "cell_type": "code",
   "execution_count": null,
   "metadata": {},
   "outputs": [],
   "source": []
  }
 ],
 "metadata": {
  "kernelspec": {
   "display_name": "Python 3",
   "language": "python",
   "name": "python3"
  },
  "language_info": {
   "codemirror_mode": {
    "name": "ipython",
    "version": 3
   },
   "file_extension": ".py",
   "mimetype": "text/x-python",
   "name": "python",
   "nbconvert_exporter": "python",
   "pygments_lexer": "ipython3",
   "version": "3.5.2"
  }
 },
 "nbformat": 4,
 "nbformat_minor": 4
}
