{
 "cells": [
  {
   "cell_type": "markdown",
   "metadata": {},
   "source": [
    "# Init"
   ]
  },
  {
   "cell_type": "code",
   "execution_count": 1,
   "metadata": {},
   "outputs": [
    {
     "name": "stdout",
     "output_type": "stream",
     "text": [
      "Loaded: /home/nvidia/dev_rmstudio/rmlib/rmlib/rmtools Exists?: True\n",
      "Loaded: /home/nvidia/dev_rmstudio/rmlib Exists?: True\n",
      "Setting up robot please wait...\n",
      "my_components: {'hand_config': {'finger_width_inner': 0.0, 'finger_width_outer': 0.015, 'module_name': 'hands.smarthand', 'class_name': 'SmartHand', 'finger_length': 0.0415, 'finger_depth': 0.014}, 'arm_config': {'default_joint_speed': 0.7, 'default_linear_speed': 0.1, 'max_linear_speed': 0.25, 'default_joint_accel': 0.8, 'max_joint_accel': 1.4, 'xmlrpc_port': '8003', 'class_name': 'UR5', 'max_linear_accel': 1.2, 'module_name': 'arms.ur5', 'max_joint_speed': 1.05, 'default_linear_accel': 0.8, 'ip_address': '192.168.0.101'}, 'cam_config': {'module_name': 'cameras.realsense', 'ci_cam_offset': [-0.036, -0.028, -0.079], 'camera_model': 'd410', 'pc_cam_offset': [-0.037, -0.033, -0.079], 'class_name': 'RealSense'}, 'ft_config': {'dataHz': 50.0, 'local_port': 20000, 'remote_port': 10000, 'local_ip': '127.0.0.1', 'filter': {'alpha': 0.012, 'beta': 0.035}, 'class_name': 'OptoForce', 'remote_ip': '', 'module_name': 'sensors.ftsensor_optoforce', 'max_workers': 10, 'ip_address': '192.168.0.100'}}\n",
      "active_componetns: {'camera': ['cam_config'], 'ft': ['ft_config'], 'hand': ['hand_config'], 'arm': ['arm_config']}\n",
      "{'module_name': 'cameras.realsense', 'ci_cam_offset': [-0.036, -0.028, -0.079], 'camera_model': 'd410', 'pc_cam_offset': [-0.037, -0.033, -0.079], 'class_name': 'RealSense'}\n",
      "<class 'rmlib.cameras.realsense.RealSense'>\n",
      "{'dataHz': 50.0, 'local_port': 20000, 'remote_port': 10000, 'local_ip': '127.0.0.1', 'filter': {'alpha': 0.012, 'beta': 0.035}, 'class_name': 'OptoForce', 'remote_ip': '', 'module_name': 'sensors.ftsensor_optoforce', 'max_workers': 10, 'ip_address': '192.168.0.100'}\n",
      "<class 'rmlib.sensors.ftsensor_optoforce.OptoForce'>\n",
      "Connecting to the force sensor at ('192.168.0.100', 49152) ... SUCCESS!\n",
      "Preparing OptoForce for data transmission ... COMPLETED!\n",
      "Set up server at: {'port': 20000, 'ip': '127.0.0.1'}\n",
      "Set up server at: {'port': 10000, 'ip': ''}\n",
      "\n",
      " Config Tuple: {'port': 10000, 'ip': ''} \n",
      "\n",
      " Config Tuple: {'port': 20000, 'ip': '127.0.0.1'} \n",
      "\n",
      "\n",
      "XML-RPC serving FT data from ('', 10000)\n",
      "XML-RPC serving FT data from ('127.0.0.1', 20000)\n",
      "XML-RPC servers RUNNING!\n",
      "{'finger_width_inner': 0.0, 'finger_width_outer': 0.015, 'module_name': 'hands.smarthand', 'class_name': 'SmartHand', 'finger_length': 0.0415, 'finger_depth': 0.014}\n",
      "<class 'rmlib.hands.smarthand.SmartHand'>\n",
      "{'default_joint_speed': 0.7, 'default_linear_speed': 0.1, 'max_linear_speed': 0.25, 'default_joint_accel': 0.8, 'max_joint_accel': 1.4, 'xmlrpc_port': '8003', 'class_name': 'UR5', 'max_linear_accel': 1.2, 'module_name': 'arms.ur5', 'max_joint_speed': 1.05, 'default_linear_accel': 0.8, 'ip_address': '192.168.0.101'}\n",
      "<class 'rmlib.arms.ur5.UR5'>\n",
      "Robot Ready!\n",
      "\n",
      "##!## READY : 2021-07-12 ##!##\n"
     ]
    }
   ],
   "source": [
    "if 0:\n",
    "    import sys\n",
    "    print(\"Python version\")\n",
    "    print(sys.version)\n",
    "    print(\"Version info.\")\n",
    "    print(sys.version_info)\n",
    "\n",
    "%load_ext autoreload\n",
    "%autoreload 2\n",
    "\n",
    "####### INIT ######################################################################################\n",
    "\n",
    "import datetime\n",
    "today = datetime.date.today()\n",
    "\n",
    "from context import rmlib\n",
    "import rmlib.rmtools as rm\n",
    "from config import robotConfig\n",
    "\n",
    "robot = rmlib.robot.Robot( robotConfig )\n",
    "\n",
    "#Imports \n",
    "from time import sleep\n",
    "import numpy as np\n",
    "import rmlib\n",
    "from rmlib.rmtools.assembly_trees import augment_RM\n",
    "\n",
    "augment_RM( robot )\n",
    "\n",
    "%store -r\n",
    "\n",
    "####### LIBS ######################################################################################\n",
    "\n",
    "# Import Pytrees\n",
    "import py_trees\n",
    "from py_trees.tests import Timeout_Success\n",
    "from py_trees.composites import Sequence , Selector\n",
    "\n",
    "from assembly_trees import *\n",
    "\n",
    "import math\n",
    "from pmath import translate_pose , get_disance_between_poses , pose_components\n",
    "\n",
    "from utils import is_matx_list\n",
    "from math import radians\n",
    "\n",
    "print( \"\\n##!## READY :\", today, \"##!##\" )\n",
    "\n",
    "### Timing Test ###\n",
    "if 0:\n",
    "    \n",
    "    import time\n",
    "\n",
    "    N    = 250\n",
    "    data = [ None for i in range(N) ]\n",
    "\n",
    "    print( robot.ft.bias_wrist_force() )\n",
    "    sleep(0.1)\n",
    "\n",
    "    bgn = time.time()\n",
    "\n",
    "    # Take `N` datapoints AQAP\n",
    "    for i in range(N):\n",
    "        data[i] = robot.ft.get_wrist_force()\n",
    "\n",
    "    elapsed = time.time() - bgn\n",
    "\n",
    "    print( elapsed , \"elapsed, Average fetch:\" , elapsed/N )\n",
    "    \n",
    "    for datum in data[:20]:\n",
    "        print( datum )\n",
    "\n",
    "## Bias Test ##\n",
    "if 0:\n",
    "    for i in range(20):\n",
    "        print('##', i+1, '##')\n",
    "        before = robot.ft.get_wrist_force()\n",
    "        bgn    = time.time()\n",
    "        robot.ft.bias_wrist_force()\n",
    "        print( time.time() - bgn , \"[s] bias time\" )\n",
    "        after  = robot.ft.get_wrist_force()\n",
    "        print( after )\n",
    "        print( \"Diff:\" , np.linalg.norm( np.subtract( after, before ) ) , '\\n\\n' )"
   ]
  },
  {
   "cell_type": "markdown",
   "metadata": {},
   "source": [
    "# Diagnostic Tests"
   ]
  },
  {
   "cell_type": "code",
   "execution_count": 2,
   "metadata": {},
   "outputs": [],
   "source": [
    "from utils import HeartRate\n",
    "import time\n",
    "\n",
    "# 2021-06-17: These tests are nearly identical. If you are going to write more, then DRY\n",
    "\n",
    "\n",
    "def test_func_frequency( testFunc, cols = 6, critFunc = None, N = 100, hz = 50 ):\n",
    "    \"\"\" Determine the ability of `testFunc` to maintain the requirement(s) defined by `critFunc` \"\"\"\n",
    "    \n",
    "    def default_criterion( info ):\n",
    "        \"\"\" Return T if observed average frequency is 0.90 of desired or greater, otherwise F \"\"\"\n",
    "        return info['avg_freq'] >= info['test']['des_freq']*0.90\n",
    "    \n",
    "    # 0. If no criterion is given, assume that we are testing periodicity of `testFunc`\n",
    "    if critFunc is None:\n",
    "        critFunc = default_criterion\n",
    "    # 1. Allocate memory and Set timing vars \n",
    "    data = np.zeros( (N,cols) ) # Allocate space for data\n",
    "    dlay = np.zeros( (N)      ) # Allocate space for delays\n",
    "    rate = HeartRate( hz ) # ---- Goal is to avoid dipping below this frequency (Starts clock)\n",
    "    last = time.time() # -------- Start the dealy clock\n",
    "    # 2. Run the timing test\n",
    "    for i in range(N):\n",
    "        data[i] = testFunc.__call__()\n",
    "        now     = time.time()\n",
    "        dlay[i] = now - last\n",
    "        last    = now\n",
    "        rate.sleep()\n",
    "    # 3. Organize test results\n",
    "    results = {\n",
    "        # Test Params #\n",
    "        'test': {\n",
    "            'des_freq': hz, # Desired Frequency\n",
    "            'N'       : N, #- Number of trials\n",
    "        },\n",
    "        # Test Results #\n",
    "        'avg'     : np.mean( dlay ), # ----- Average delay between runs [s]\n",
    "        'avg_freq': 1.0 / np.mean( dlay ), # Average frequency [Hz]\n",
    "        'max'     : np.amax( dlay ), # ----- Max delay between function calls [s]\n",
    "        'sum'     : sum( dlay ), # --------- Total test duration [s]\n",
    "        'delay'   : dlay, # ---------------- Delay data\n",
    "        'data'    : data # ----------------- Function returned data\n",
    "    }\n",
    "    # 3. Evaluate and Return test results\n",
    "    results['pass'] = critFunc( results )\n",
    "    return results\n",
    "\n",
    "\n",
    "def test_FT_latency( N = 100, hz = 50 ):\n",
    "    \"\"\" Attempt to test the data latency for the ft sensor, Return PASS/FAIL result \"\"\"\n",
    "    return test_func_frequency( \n",
    "        robot.ft.get_wrist_force, cols = 6, critFunc = None, \n",
    "        N = N, hz = hz \n",
    "    )['pass']\n",
    "    \n",
    "\n",
    "def test_RTDE_latency( N = 100, hz = 50 ):\n",
    "    \"\"\" Attempt to test the data latency for the ft sensor, Return PASS/FAIL result \"\"\"\n",
    "    return test_func_frequency( \n",
    "        robot.arm.get_tcp_pose_vec, cols = 6, critFunc = None, \n",
    "        N = N, hz = hz \n",
    "    )['pass']"
   ]
  },
  {
   "cell_type": "markdown",
   "metadata": {},
   "source": [
    "# Global Vars"
   ]
  },
  {
   "cell_type": "code",
   "execution_count": 3,
   "metadata": {},
   "outputs": [],
   "source": [
    "DATA_RATE  = 50\n",
    "SLEEP_TIME = 10.0"
   ]
  },
  {
   "cell_type": "markdown",
   "metadata": {},
   "source": [
    "# Tilt Insert: Shaft Recording"
   ]
  },
  {
   "cell_type": "code",
   "execution_count": 4,
   "metadata": {},
   "outputs": [
    {
     "name": "stdout",
     "output_type": "stream",
     "text": [
      "<class '__main__.TiltRecoveryLoop_Simple'> is ready!\n"
     ]
    }
   ],
   "source": [
    "from py_trees.decorators import SuccessIsFailure\n",
    "from py_trees.timers import Timer\n",
    "from pathlib import Path\n",
    "import operator\n",
    "from random import random\n",
    "\n",
    "statusKey = \"insertStatus\" # The name of the current logfile will go here\n",
    "latchAll  = 0\n",
    "\n",
    "\n",
    "def make_above_pose( trgtPose, vertOffset = 0.070 ):\n",
    "    \"\"\" Return a pose that is vertically offset  \"\"\"\n",
    "    rtrnPose = trgtPose.copy()\n",
    "    rtrnPose[2,3] += vertOffset\n",
    "    return rtrnPose\n",
    "\n",
    "\n",
    "def perturb_pose_radially_XY( pose, radMax ):\n",
    "    \"\"\" Return a version of `pose` that is moved in the XY plane up to `radMax` distance \"\"\"\n",
    "    rtrnPose = pose.copy()\n",
    "    dX = dY = 5000.0\n",
    "    while np.linalg.norm( [dX, dY] ) > radMax:\n",
    "        dX = -radMax + 2*radMax*random()\n",
    "        dY = -radMax + 2*radMax*random()\n",
    "    rtrnPose[0,3] += dX\n",
    "    rtrnPose[1,3] += dY\n",
    "    print(  )\n",
    "    return rtrnPose\n",
    "\n",
    "\n",
    "class TiltRecoveryLoop_Simple( py_trees.composites.Sequence ):\n",
    "    \"\"\" Tree for retrying Tilt Insertion until it succeeds, No monitoring \"\"\"\n",
    "    \n",
    "    def setup( self ):\n",
    "        \"\"\" Create a log file when the experiment begins \"\"\"\n",
    "        self.logPath = self.logPathGen()\n",
    "        print( \"Run log stored in\" , self.logPath )\n",
    "        \n",
    "    def arrange_logs_and_write( self ):\n",
    "        \"\"\" Gather everything that was logged, arrange in chrono order, and write to CSV \"\"\"\n",
    "        events = []\n",
    "        for log in self.logs:\n",
    "            events.extend( log.log )\n",
    "            \n",
    "         #  7. Define a timestamp comparison for sorting rows of data\n",
    "        func = operator.itemgetter(0)\n",
    "        def floatGetter(s):\n",
    "            return float(func(s))\n",
    "\n",
    "        #  8. Sort data \n",
    "        sortedEvents = sorted( events, key = floatGetter )\n",
    "        \n",
    "        with open( self.logPath, 'w', newline='') as csvfile:\n",
    "            csvWriter = csv.writer( csvfile )\n",
    "            csvWriter.writerows( sortedEvents )\n",
    "    \n",
    "    def __init__( self, Ntries, dwellTime = 10.0, ctrl = None,\n",
    "                        perturbRad = 0.0 ):\n",
    "        \"\"\" Create a tree \"\"\"\n",
    "        \n",
    "        #### Setup ####\n",
    "        \n",
    "        # 0. Main loop should monitor continuously\n",
    "        super().__init__( name = \"Tilt Insert Loop\", memory = 0 )\n",
    "        \n",
    "        self.zSAFE          = 0.100\n",
    "        self.plungeDistance = 1.5 * self.zSAFE\n",
    "        self.setdownForce   = 1.5\n",
    "        self.descendSpeed   = 0.0225\n",
    "        self.biasWrist      = 1\n",
    "        self.Ntries         = Ntries\n",
    "        self.logs           = list()\n",
    "        self.logPath        = None\n",
    "        self.logPathGen     = get_outfile_namer( pathPrefix = \"output/\" , \n",
    "                                                 namePrefix = \"SHAFT-TLT-EVENT-LOG\",\n",
    "                                                 filePostfix = \"txt\" )\n",
    "        \n",
    "        \n",
    "        #### Monitor Subtree ####\n",
    "        \n",
    "        recordBehav = Record_Classify( \n",
    "            recordFlagKey = \"test_FLAG\" , dataKey = \"test_DATA\" , labelKey = statusKey , \n",
    "            outFileGenFunc = get_outfile_namer( pathPrefix = \"output/\" , \n",
    "                                                namePrefix = \"SHAFT-TLT\" ),\n",
    "            recordHz = DATA_RATE , ctrl = ctrl \n",
    "        )\n",
    "        \n",
    "        self.add_child( recordBehav )\n",
    "        \n",
    "        \n",
    "        #### Experiment Subtree ####\n",
    "        \n",
    "        ### Fetch Subtree ###\n",
    "        fetchTree = Sequence( memory = 1 )\n",
    "        \n",
    "#         print( dir( self ) ) \n",
    "        \n",
    "        pickBgn = EventLogger( msgOrGen = \"Pick:Begin\", latch = latchAll )\n",
    "        self.logs.append( pickBgn )\n",
    "        \n",
    "        #  1. Go to pickup pose\n",
    "        goBehav = Jog_Safe( shaftGraspPose , \n",
    "                            zSAFE = self.zSAFE ,  \n",
    "                            hover = 1 ,  \n",
    "                            ctrl  = ctrl  )\n",
    "\n",
    "        #  2. Pre-close around the shaft\n",
    "        closeBehav = Set_Fingers( openState = 0.040 , ctrl = ctrl )   \n",
    "\n",
    "        #  3. Grasp shaft\n",
    "        graspBehav = Grasp_at_Pose( shaftGraspPose, 0.015 ,\n",
    "                                    zApproach=0.050 , zClose=0.0 , wdthNarrow = 0.030 , \n",
    "                                    maxIter=5, zFree=0.100 , \n",
    "                                    ctrl = ctrl )\n",
    "\n",
    "        behavPreInsertPose = shaftPreInsertPose.copy()\n",
    "        \n",
    "        if perturbRad > 0.0001:\n",
    "            behavPreInsertPose = perturb_pose_radially_XY( shaftPreInsertPose, perturbRad )\n",
    "        \n",
    "        \n",
    "        #  4. Goto pre-insertion pose\n",
    "#         jogBehav = Jog_Safe( shaftPreInsertPose , \n",
    "        jogBehav = Jog_Safe( behavPreInsertPose , \n",
    "                             zSAFE = self.zSAFE ,  \n",
    "                             hover = 0 ,  \n",
    "                             ctrl  = ctrl  )\n",
    "        \n",
    "        pickEnd = EventLogger( msgOrGen = \"Pick:End\", latch = latchAll )\n",
    "        self.logs.append( pickEnd )\n",
    "        \n",
    "        fetchTree.add_children( [ pickBgn, goBehav, closeBehav, graspBehav, jogBehav, pickEnd ] )\n",
    "        \n",
    "        \n",
    "        ### Shortcut Subtree ### \n",
    "        shortTree = Selector( memory = 1 )\n",
    "        shortSeq  = Sequence( memory = 1 )\n",
    "        \n",
    "        #  5. TODO: SHORTCUT HERE (Monitored Version Only)\n",
    "        \n",
    "#         waitBehav = Timer( name=\"Wait for WRITE\", duration=2.0)\n",
    "        \n",
    "        #  6. Sibling to the actual insertion subtree kicks off a thread for recording\n",
    "        \n",
    "        insertBgn = EventLogger( msgOrGen = \"Insert:Begin\", latch = latchAll )\n",
    "        self.logs.append( insertBgn )\n",
    "        \n",
    "        #  7. Insertion behavior\n",
    "#         tiltBehav = Tilt_Insert( shaftPreInsertPose ,\n",
    "        tiltBehav = Tilt_Insert( behavPreInsertPose ,\n",
    "                                 tilt_angle_deg = 7.25 , part_offset = 0.016 , dia = 0.015 , \n",
    "                                 hackFraction = 0.025, \n",
    "                                \n",
    "                                 ## DANGER: EXPERIMENT CHANGE ##\n",
    "                                 touch_force = 3.0 , insert_force = 4.0 , max_movement = 0.085 , \n",
    "                                \n",
    "                                 biasWrist = self.biasWrist , offset_dir = np.array( [ 1.0, 0.0, 0.0 ] ), \n",
    "                                 posnMargin = 0.003 , orntMargin = 2.0/180 , \n",
    "                                 finalInsertHandZ = fatPegFullInsertZ , \n",
    "                                 recordFlagKey = \"test_FLAG\" ,\n",
    "                                 dropSpeed = 0.0313 , dropAccel = 0.080 , ctrl = ctrl )\n",
    "        tiltStatus = Store_Subtree_Status( tiltBehav, statusKey )\n",
    "        \n",
    "        insertEnd = EventLogger( msgOrGen = \"Insert:End\", latch = latchAll )\n",
    "        self.logs.append( insertEnd )\n",
    "        \n",
    "        \n",
    "\n",
    "#         shortSeq.add_children( [waitBehav, insertBgn, tiltStatus, insertEnd] )\n",
    "        shortSeq.add_children( [insertBgn, tiltStatus, insertEnd] )\n",
    "        shortTree.add_children( [ shortSeq, insertEnd ] )\n",
    "        \n",
    "        ### Reset Subtree ###\n",
    "        resetTree = Sequence( memory = 1 )\n",
    "        \n",
    "        resetBgn = EventLogger( msgOrGen = \"Reset:Begin\", latch = latchAll )\n",
    "        self.logs.append( resetBgn )\n",
    "        \n",
    "        \n",
    "        #  8. Goto pickup pose \"goBehav\"\n",
    "        \n",
    "        #  9. Move the shaft gently to the table\n",
    "        placeBehav = Move_to_Contact( relMove = [ 0 , 0 , -self.plungeDistance ] , \n",
    "                                      Fmag = 3.0 , speed = self.descendSpeed , \n",
    "                                      accel = 0.08,\n",
    "                                      biasWrist = self.biasWrist , ctrl = ctrl )\n",
    "        \n",
    "        \n",
    "        #  9. Drop, whether we won or not\n",
    "        dropBehav = Set_Fingers( openState = 1.0 , ctrl = ctrl )\n",
    "        \n",
    "        resetEnd = EventLogger( msgOrGen = \"Reset:End\", latch = latchAll )\n",
    "        self.logs.append( resetEnd )\n",
    "        \n",
    "        \n",
    "        # 10. Construct the reset subtree\n",
    "        resetTree.add_children( [resetBgn, goBehav, placeBehav, dropBehav, resetEnd] )\n",
    "        \n",
    "        \n",
    "        #### Main Retry Loop ####\n",
    "        \n",
    "        #  0. Create the main MC driver\n",
    "        experimentTree = py_trees.composites.Sequence( memory = 1 )\n",
    "        experimentRoot = py_trees.composites.Selector( memory = 1 )\n",
    "        \n",
    "        \n",
    "        #  1. Add the decorator\n",
    "        retryLoop = Run_to_X_Failures_DECO(  \n",
    "            experimentRoot ,\n",
    "            X_allowedFails = Ntries\n",
    "        )\n",
    "        \n",
    "        ### Success Subtree ###\n",
    "        successTree = Sequence( memory = 1 )\n",
    "        successTree.add_children( [goBehav, placeBehav, dropBehav] )\n",
    "        \n",
    "        # We can only reach the successtree after winning the retryLoop\n",
    "        experimentTree.add_children( [retryLoop, successTree] )\n",
    "        self.add_child( experimentTree )\n",
    "\n",
    "        # 11. Add the record/insert/reset siblings as children\n",
    "        experimentRoot.add_children( [\n",
    "            SuccessIsFailure( fetchTree ), \n",
    "#             shortSeq, \n",
    "#             SuccessIsFailure( shortSeq ), \n",
    "            shortSeq,\n",
    "            SuccessIsFailure( resetTree ),\n",
    "        ] )\n",
    "        \n",
    "print( TiltRecoveryLoop_Simple , \"is ready!\" )"
   ]
  },
  {
   "cell_type": "markdown",
   "metadata": {},
   "source": [
    "# Tilt Insert Pipeline"
   ]
  },
  {
   "cell_type": "code",
   "execution_count": null,
   "metadata": {},
   "outputs": [
    {
     "name": "stdout",
     "output_type": "stream",
     "text": [
      "Iteration 1 of 8\n",
      "\n",
      "Using nudge: 0.002 \n",
      "\n",
      "Connected to http://localhost:20000\n",
      "\n",
      "About to run <__main__.TiltRecoveryLoop_Simple object at 0x7fb0442b70> : Tilt Insert Loop at 2021-07-12_15-20-31 with 4.0 Hz update frequency ...\n",
      "Run log stored in output/SHAFT-TLT-EVENT-LOG_2021-07-12_15-20-31.txt\n",
      "Running ...\n",
      "\n",
      "About the start the thread\n",
      "Thread 547087274496 was asked to write output/SHAFT-TLT_2021-07-12_15-20-52.xml\n",
      "Wrote output/SHAFT-TLT_2021-07-12_15-20-52.xml !\n",
      "\n",
      "--------- Tick 100 ---------\n",
      "\n",
      "Root node, Name: Tilt Insert Loop , Status: Status.RUNNING\n",
      "\n",
      "\n",
      "Root node Tilt Insert Loop failed!\n",
      "\n",
      "[-] Tilt Insert Loop [x]\n",
      "    --> Record_Classify [o]\n",
      "    [-] Sequence [x]\n",
      "        -^- Run_to_X_Failures_DECO [x] -- Allowed 1 of 1\n",
      "            [o] Selector [x]\n",
      "                -^- SuccessIsFailure [x] -- success is failure\n",
      "                    [-] Sequence [o]\n",
      "                        --> EventLogger [o]\n",
      "                        [-] Jog_Safe [o]\n",
      "                            --> Move_Arm [o]\n",
      "                            --> Move_Arm [o]\n",
      "                        --> Set_Fingers [o]\n",
      "                        [-] Grasp_at_Pose [o]\n",
      "                            --> Move_Arm [o]\n",
      "                            --> Set_Fingers [o]\n",
      "                            --> Move_Arm [o]\n",
      "                            --> Set_Fingers [o]\n",
      "                            --> Set_Grip_Torque [o]\n",
      "                            --> Move_Arm [o]\n",
      "                            --> Finger_Width_COND [o]\n",
      "                        [-] Jog_Safe [o]\n",
      "                            --> Move_Arm [o]\n",
      "                            --> Move_Arm [o]\n",
      "                            --> Move_Arm [o]\n",
      "                        --> EventLogger [o]\n",
      "                [-] Sequence [x]\n",
      "                    --> EventLogger [o]\n",
      "                    -^- Store_Subtree_Status [x]\n",
      "                        [-] Tilt_Insert [x]\n",
      "                            --> COND_At_TCP_Pose [o]\n",
      "                            --> Move_Arm [o]\n",
      "                            --> Move_to_Contact [o]\n",
      "                            --> Set_BB_Key [o]\n",
      "                            --> Move_Arm_Relative [o]\n",
      "                            --> Move_Arm_Relative [o]\n",
      "                            --> Move_to_Contact [o]\n",
      "                            --> Set_BB_Key [o]\n",
      "                            --> At_Z_Level_COND [x]\n",
      "                    --> EventLogger [-]\n",
      "                -^- SuccessIsFailure [x] -- success is failure\n",
      "                    [-] Sequence [o]\n",
      "                        --> EventLogger [o]\n",
      "                        [-] Jog_Safe [o]\n",
      "                            --> Move_Arm [o]\n",
      "                            --> Move_Arm [o]\n",
      "                        --> Move_to_Contact [o]\n",
      "                        --> Set_Fingers [o]\n",
      "                        --> EventLogger [o]\n",
      "        [-] Sequence [-]\n",
      "            [-] Jog_Safe [o]\n",
      "                --> Move_Arm [o]\n",
      "                --> Move_Arm [o]\n",
      "            --> Move_to_Contact [o]\n",
      "            --> Set_Fingers [o]\n",
      "\n",
      "\n",
      "Run completed! with status: Status.FAILURE \n",
      "\n",
      "\n",
      "Root node Tilt Insert Loop was killed by the running script!\n",
      "About to write logs ...Written!\n",
      "Iteration 2 of 8\n",
      "\n",
      "Using nudge: 0.0 \n",
      "\n",
      "Connected to http://localhost:20000\n",
      "About to run <__main__.TiltRecoveryLoop_Simple object at 0x7f6362a320> : Tilt Insert Loop at 2021-07-12_15-21-19 with 4.0 Hz update frequency ...\n",
      "Run log stored in output/SHAFT-TLT-EVENT-LOG_2021-07-12_15-21-19.txt\n",
      "Running ...\n",
      "\n",
      "About the start the thread\n",
      "Thread 547087274496 was asked to write output/SHAFT-TLT_2021-07-12_15-21-40.xml\n",
      "Wrote output/SHAFT-TLT_2021-07-12_15-21-40.xml !\n",
      "\n",
      "--------- Tick 100 ---------\n",
      "\n",
      "Root node, Name: Tilt Insert Loop , Status: Status.RUNNING\n",
      "\n",
      "\n",
      "Root node Tilt Insert Loop succeeded!\n",
      "\n",
      "\n",
      "Run completed! with status: Status.SUCCESS \n",
      "\n",
      "\n",
      "Root node Tilt Insert Loop was killed by the running script!\n",
      "About to write logs ...Written!\n",
      "Iteration 3 of 8\n",
      "\n",
      "Using nudge: 0.002 \n",
      "\n",
      "Connected to http://localhost:20000\n",
      "\n",
      "About to run <__main__.TiltRecoveryLoop_Simple object at 0x7f60fba860> : Tilt Insert Loop at 2021-07-12_15-22-09 with 4.0 Hz update frequency ...\n",
      "Run log stored in output/SHAFT-TLT-EVENT-LOG_2021-07-12_15-22-09.txt\n",
      "Running ...\n",
      "\n",
      "About the start the thread\n",
      "Thread 547087274496 was asked to write output/SHAFT-TLT_2021-07-12_15-22-31.xml\n",
      "Wrote output/SHAFT-TLT_2021-07-12_15-22-31.xml !\n",
      "\n",
      "--------- Tick 100 ---------\n",
      "\n",
      "Root node, Name: Tilt Insert Loop , Status: Status.RUNNING\n",
      "\n",
      "\n",
      "Root node Tilt Insert Loop failed!\n",
      "\n",
      "[-] Tilt Insert Loop [x]\n",
      "    --> Record_Classify [o]\n",
      "    [-] Sequence [x]\n",
      "        -^- Run_to_X_Failures_DECO [x] -- Allowed 1 of 1\n",
      "            [o] Selector [x]\n",
      "                -^- SuccessIsFailure [x] -- success is failure\n",
      "                    [-] Sequence [o]\n",
      "                        --> EventLogger [o]\n",
      "                        [-] Jog_Safe [o]\n",
      "                            --> Move_Arm [o]\n",
      "                            --> Move_Arm [o]\n",
      "                        --> Set_Fingers [o]\n",
      "                        [-] Grasp_at_Pose [o]\n",
      "                            --> Move_Arm [o]\n",
      "                            --> Set_Fingers [o]\n",
      "                            --> Move_Arm [o]\n",
      "                            --> Set_Fingers [o]\n",
      "                            --> Set_Grip_Torque [o]\n",
      "                            --> Move_Arm [o]\n",
      "                            --> Finger_Width_COND [o]\n",
      "                        [-] Jog_Safe [o]\n",
      "                            --> Move_Arm [o]\n",
      "                            --> Move_Arm [o]\n",
      "                            --> Move_Arm [o]\n",
      "                        --> EventLogger [o]\n",
      "                [-] Sequence [x]\n",
      "                    --> EventLogger [o]\n",
      "                    -^- Store_Subtree_Status [x]\n",
      "                        [-] Tilt_Insert [x]\n",
      "                            --> COND_At_TCP_Pose [o]\n",
      "                            --> Move_Arm [o]\n",
      "                            --> Move_to_Contact [o]\n",
      "                            --> Set_BB_Key [o]\n",
      "                            --> Move_Arm_Relative [o]\n",
      "                            --> Move_Arm_Relative [o]\n",
      "                            --> Move_to_Contact [o]\n",
      "                            --> Set_BB_Key [o]\n",
      "                            --> At_Z_Level_COND [x]\n",
      "                    --> EventLogger [-]\n",
      "                -^- SuccessIsFailure [x] -- success is failure\n",
      "                    [-] Sequence [o]\n",
      "                        --> EventLogger [o]\n",
      "                        [-] Jog_Safe [o]\n",
      "                            --> Move_Arm [o]\n",
      "                            --> Move_Arm [o]\n",
      "                        --> Move_to_Contact [o]\n",
      "                        --> Set_Fingers [o]\n",
      "                        --> EventLogger [o]\n",
      "        [-] Sequence [-]\n",
      "            [-] Jog_Safe [o]\n",
      "                --> Move_Arm [o]\n",
      "                --> Move_Arm [o]\n",
      "            --> Move_to_Contact [o]\n",
      "            --> Set_Fingers [o]\n",
      "\n",
      "\n",
      "Run completed! with status: Status.FAILURE \n",
      "\n",
      "\n",
      "Root node Tilt Insert Loop was killed by the running script!\n",
      "About to write logs ...Written!\n",
      "Iteration 4 of 8\n",
      "\n",
      "Using nudge: 0.0 \n",
      "\n",
      "Connected to http://localhost:20000\n",
      "About to run <__main__.TiltRecoveryLoop_Simple object at 0x7f60fba630> : Tilt Insert Loop at 2021-07-12_15-22-58 with 4.0 Hz update frequency ...\n",
      "Run log stored in output/SHAFT-TLT-EVENT-LOG_2021-07-12_15-22-58.txt\n",
      "Running ...\n",
      "\n",
      "About the start the thread\n",
      "Thread 547087274496 was asked to write output/SHAFT-TLT_2021-07-12_15-23-20.xml\n",
      "Wrote output/SHAFT-TLT_2021-07-12_15-23-20.xml !\n",
      "\n",
      "--------- Tick 100 ---------\n",
      "\n",
      "Root node, Name: Tilt Insert Loop , Status: Status.RUNNING\n",
      "\n",
      "\n",
      "Root node Tilt Insert Loop succeeded!\n",
      "\n",
      "\n",
      "Run completed! with status: Status.SUCCESS \n",
      "\n",
      "\n",
      "Root node Tilt Insert Loop was killed by the running script!\n",
      "About to write logs ...Written!\n",
      "Iteration 5 of 8\n",
      "\n",
      "Using nudge: 0.002 \n",
      "\n",
      "Connected to http://localhost:20000\n",
      "\n",
      "About to run <__main__.TiltRecoveryLoop_Simple object at 0x7f60f92438> : Tilt Insert Loop at 2021-07-12_15-23-47 with 4.0 Hz update frequency ...\n",
      "Run log stored in output/SHAFT-TLT-EVENT-LOG_2021-07-12_15-23-47.txt\n",
      "Running ...\n",
      "\n",
      "About the start the thread\n",
      "Thread 547087274496 was asked to write output/SHAFT-TLT_2021-07-12_15-24-09.xml\n",
      "Wrote output/SHAFT-TLT_2021-07-12_15-24-09.xml !\n",
      "\n",
      "--------- Tick 100 ---------\n",
      "\n",
      "Root node, Name: Tilt Insert Loop , Status: Status.RUNNING\n",
      "\n",
      "\n",
      "Root node Tilt Insert Loop failed!\n",
      "\n",
      "[-] Tilt Insert Loop [x]\n",
      "    --> Record_Classify [o]\n",
      "    [-] Sequence [x]\n",
      "        -^- Run_to_X_Failures_DECO [x] -- Allowed 1 of 1\n",
      "            [o] Selector [x]\n",
      "                -^- SuccessIsFailure [x] -- success is failure\n",
      "                    [-] Sequence [o]\n",
      "                        --> EventLogger [o]\n",
      "                        [-] Jog_Safe [o]\n",
      "                            --> Move_Arm [o]\n",
      "                            --> Move_Arm [o]\n",
      "                        --> Set_Fingers [o]\n",
      "                        [-] Grasp_at_Pose [o]\n",
      "                            --> Move_Arm [o]\n",
      "                            --> Set_Fingers [o]\n",
      "                            --> Move_Arm [o]\n",
      "                            --> Set_Fingers [o]\n",
      "                            --> Set_Grip_Torque [o]\n",
      "                            --> Move_Arm [o]\n",
      "                            --> Finger_Width_COND [o]\n",
      "                        [-] Jog_Safe [o]\n",
      "                            --> Move_Arm [o]\n",
      "                            --> Move_Arm [o]\n",
      "                            --> Move_Arm [o]\n",
      "                        --> EventLogger [o]\n",
      "                [-] Sequence [x]\n",
      "                    --> EventLogger [o]\n",
      "                    -^- Store_Subtree_Status [x]\n",
      "                        [-] Tilt_Insert [x]\n",
      "                            --> COND_At_TCP_Pose [o]\n",
      "                            --> Move_Arm [o]\n",
      "                            --> Move_to_Contact [o]\n",
      "                            --> Set_BB_Key [o]\n",
      "                            --> Move_Arm_Relative [o]\n",
      "                            --> Move_Arm_Relative [o]\n",
      "                            --> Move_to_Contact [o]\n",
      "                            --> Set_BB_Key [o]\n",
      "                            --> At_Z_Level_COND [x]\n",
      "                    --> EventLogger [-]\n",
      "                -^- SuccessIsFailure [x] -- success is failure\n",
      "                    [-] Sequence [o]\n",
      "                        --> EventLogger [o]\n",
      "                        [-] Jog_Safe [o]\n",
      "                            --> Move_Arm [o]\n",
      "                            --> Move_Arm [o]\n",
      "                        --> Move_to_Contact [o]\n",
      "                        --> Set_Fingers [o]\n",
      "                        --> EventLogger [o]\n",
      "        [-] Sequence [-]\n",
      "            [-] Jog_Safe [o]\n",
      "                --> Move_Arm [o]\n",
      "                --> Move_Arm [o]\n",
      "            --> Move_to_Contact [o]\n",
      "            --> Set_Fingers [o]\n",
      "\n",
      "\n",
      "Run completed! with status: Status.FAILURE \n",
      "\n",
      "\n",
      "Root node Tilt Insert Loop was killed by the running script!\n",
      "About to write logs ...Written!\n",
      "Iteration 6 of 8\n",
      "\n",
      "Using nudge: 0.0 \n",
      "\n",
      "Connected to http://localhost:20000\n",
      "About to run <__main__.TiltRecoveryLoop_Simple object at 0x7f60f94dd8> : Tilt Insert Loop at 2021-07-12_15-24-36 with 4.0 Hz update frequency ...\n",
      "Run log stored in output/SHAFT-TLT-EVENT-LOG_2021-07-12_15-24-36.txt\n",
      "Running ...\n",
      "\n"
     ]
    }
   ],
   "source": [
    "N        =  8 # Number of total trials\n",
    "N_retry  =  1 # Number of max tries per trial (including original)\n",
    "stpSleep =  5 # Seconds to pause after each trial\n",
    "div      =  5 # Number of trials between breaks\n",
    "divSleep = 60 # Seconds to pause for each break\n",
    "f_divBrk =  0 # Flag for whether to take a break based on trail number\n",
    "chkHosts  = ['192.168.0.102', '192.168.0.100'] # Ping PC+FT to gauge net health\n",
    "ft_host   = chkHosts[1]\n",
    "pause_s  =  5\n",
    "\n",
    "from time import sleep\n",
    "from http.client import CannotSendRequest\n",
    "from utils import network_thermal_health, temp_trends\n",
    "\n",
    "times = []\n",
    "temps = []\n",
    "tMtrs = []\n",
    "dlays = []\n",
    "\n",
    "for i in range( 1 , N+1 ):\n",
    "    \n",
    "    try:\n",
    "        print( \"Iteration\" , i , \"of\" , N )\n",
    "        health = network_thermal_health( remoteHosts = chkHosts )\n",
    "        T_mtr  = robot.hand.get_motor_temperature()\n",
    "        times.append( health['time']                        )\n",
    "        temps.append( health['avg_temp']                    )\n",
    "        tMtrs.append( sum(T_mtr)/len(T_mtr)                 )\n",
    "        dlays.append( health['network'][ft_host]['latency'] )\n",
    "        \n",
    "        latency = dlays[-1]\n",
    "        i_wait  = 0\n",
    "        \n",
    "        ##### DIAGNOSTICS #####\n",
    "        \n",
    "        while latency > 800.0: #350: #275: #800.0:\n",
    "            i_wait += 1\n",
    "            print( \"\" )\n",
    "            robot.ft.set_pause( 1 )\n",
    "            print( \"\\n\\n... EXCESSIVE LATENCY\", latency, \": ATTEMPT PAUSE?\", \n",
    "                   pause_s, \"seconds! ... Wait #\", i_wait,\"\\n\" )\n",
    "            sleep( pause_s )\n",
    "            chkTemp = network_thermal_health( remoteHosts = chkHosts )['avg_temp']\n",
    "            print( \"Temp Change over rest:\", chkTemp - temps[-1] )\n",
    "            robot.ft.set_pause( 0 )\n",
    "            sleep( 0.5 )\n",
    "            latency = network_thermal_health( remoteHosts = chkHosts )['network'][ft_host]['latency']\n",
    "        \n",
    "        if 0:\n",
    "            print( \"FT   Latency Pass?:\", test_FT_latency()   )\n",
    "            print( \"RTDE Latency Pass?:\", test_RTDE_latency() )\n",
    "        \n",
    "        \n",
    "        # 6. Sleep for human reset\n",
    "        if i > 1:\n",
    "            sleep( stpSleep )\n",
    "        \n",
    "        # Only perturb for half of the trials\n",
    "        if i%2==1:\n",
    "            nudge = 0.002\n",
    "        else:\n",
    "            nudge = 0.000\n",
    "        print( \"\\nUsing nudge:\", nudge, '\\n' )\n",
    "            \n",
    "            \n",
    "        # 1. Reset tree\n",
    "        rootNode = TiltRecoveryLoop_Simple( Ntries=N_retry, ctrl=robot, perturbRad=nudge )\n",
    "        \n",
    "        # 2. Run tree and generate recording\n",
    "        run_BT_until_done( rootNode, N = 5000, tickPause = 0.25, \n",
    "                           breakOnFailure = 1, breakOnSuccess = 1, Nverb = 100 )\n",
    "        \n",
    "        # 3. Release\n",
    "        robot.hand.release()\n",
    "        \n",
    "        # 4. Deactivate motors\n",
    "        robot.hand.deactivate_motors()\n",
    "        \n",
    "        # 5. Move to safe position\n",
    "        robot.arm.move( safeCenterPose )\n",
    "            \n",
    "        print( \"About to write logs\", end = \" ...\" )\n",
    "        rootNode.arrange_logs_and_write()\n",
    "        print( \"Written!\" )\n",
    "        \n",
    "        # If set breaks enabled, take a `divSleep` seconds break after a set of `div` trials\n",
    "        if f_divBrk and (i%div==0) and ((i+1)<N):\n",
    "            robot.ft.set_pause( 1 )\n",
    "            print( \"\\n\\n... Taking a rest for\", divSleep, \"seconds! ...\\n\" )\n",
    "            sleep( divSleep )\n",
    "            chkTemp = network_thermal_health( remoteHosts = chkHost )['avg_temp']\n",
    "            print( \"Temp Change over rest:\", chkTemp - temps[-1] )\n",
    "            robot.ft.set_pause( 0 )\n",
    "            sleep( 0.5 )\n",
    "            \n",
    "        if i == N:\n",
    "            raise KeyboardInterrupt( \"Stop these weird loop errors\" )\n",
    "\n",
    "    except KeyboardInterrupt:\n",
    "        print( \"Pipeline was STOPPED by user at iteration\" , i+1 )\n",
    "        break\n",
    "        \n",
    "    except CannotSendRequest:\n",
    "        print( \"There was a communication error at iteration\" , i+1 )\n",
    "        break\n",
    "        \n",
    "    except ConnectionRefusedError:\n",
    "        print( \"There was a connection refused error at iteration\" , i+1 , \n",
    "               \", Maybe you pressed 'Stop'?\" )\n",
    "        break\n",
    "        \n",
    "    \n",
    "        \n",
    "temp_trends( times, [temps, tMtrs, dlays], ['T_{CPU}', 'T_{MTR}', 'ms'] )"
   ]
  },
  {
   "cell_type": "markdown",
   "metadata": {},
   "source": [
    "# Spiral Insert Process"
   ]
  },
  {
   "cell_type": "code",
   "execution_count": 6,
   "metadata": {},
   "outputs": [
    {
     "name": "stdout",
     "output_type": "stream",
     "text": [
      "A pre-insert pose was defined.\n",
      "Spiral BT Created!\n"
     ]
    }
   ],
   "source": [
    "from assembly_trees import _DUMMYPOSE\n",
    "import py_trees\n",
    "\n",
    "wheelPreInsertPose = wheelPostInsertPose.copy()\n",
    "zApproach = 0.050\n",
    "wheelPreInsertPose[2,3] += zApproach\n",
    "print( \"A pre-insert pose was defined.\" )\n",
    "\n",
    "\n",
    "def get_spiral_test_tree():\n",
    "    rootNode = Sequence_Recorder(  memory = 0 , dataKey = \"test_DATA\" , flagKey = \"test_FLAG\" , \n",
    "                                   outFileGenFunc = get_outfile_namer( pathPrefix = \"output/\" , \n",
    "                                                                           namePrefix = \"GEAR-SPR_\" )  )\n",
    "\n",
    "    recordBehav = Record_Classify( recordFlagKey = \"test_FLAG\" , \n",
    "                                   dataKey       = \"test_DATA\" , \n",
    "                                   recordHz = 50, ctrl = robot )\n",
    "\n",
    "\n",
    "    insertTree = Sequence( memory = 1 )\n",
    "    \n",
    "    waitBehav = Timeout_Success( timeout = 0.20 )\n",
    "\n",
    "    goBehav = Jog_Safe( wheelGraspPose , \n",
    "                        zSAFE = 0.100 ,  \n",
    "                        hover = 1 ,  \n",
    "                        ctrl  = robot  )\n",
    "\n",
    "    graspBehav = Grasp_at_Pose( wheelGraspPose, 0.026 ,\n",
    "                                zApproach=0.050 , zClose=0.0 , wdthNarrow = 0.050 , maxIter=5, zFree=0.100 , \n",
    "                                ctrl = robot )\n",
    "\n",
    "    jogBehav = Jog_Safe( wheelPreInsertPose, \n",
    "                         zSAFE = 0.100 ,  \n",
    "                         hover = 0 ,  \n",
    "                         ctrl  = robot  )\n",
    "\n",
    "    relaxedInsert = Selector( name = \"Spiral_ins_ALWAYSDROP\" , memory = 1 )\n",
    "    \n",
    "    stepFactor = 2.0\n",
    "    \n",
    "    # 1.8 # Lateral torque caused it to bind\n",
    "    insertBehav = Spiral_Insert( \n",
    "        wheelPreInsertPose ,\n",
    "        touch_force = 2.0 , drop_force = 1.0 , insert_force = 9.0 , max_movement = zApproach + 0.030 , \n",
    "        lateralStopTorque = 0.475 , \n",
    "        pushbackF = 20.0 , spiralSpeed = 0.001 , descendSpeed = 0.00625 , biasWrist = 1 ,\n",
    "        degrees_to_step = 3.25*2.0 , \n",
    "        maxAngle = 100 * 360 , startRadius = 0.00005 , \n",
    "        stepSize = 0.000025*1.75 , \n",
    "        max_radius = 0.010 ,\n",
    "        posnMargin = 0.003 , orntMargin = 2.0/180 , \n",
    "        reliefStep_m = 0.0005 , reliefMargin_Nm = 0.050 , reliefN = 15 , \n",
    "        finalInsertHandZ = wheelPostInsertZ , \n",
    "        suppressDrop = 1 , suppressLateral = 0 , \n",
    "        recordFlagKey = \"test_FLAG\" , \n",
    "        ctrl = robot,\n",
    "        chaseMode = 1, chaseStep = 0.00010 , N_chaseMax = 30 \n",
    "    )                    \n",
    "    \n",
    "    dropBehav = Set_Fingers( openState = 0.060 , ctrl = robot ) \n",
    "    \n",
    "    relaxedInsert.add_children( [ insertBehav , py_trees.decorators.SuccessIsFailure( dropBehav ) ] )\n",
    "    \n",
    "    cntrBehav = Jog_Safe( wheelPreInsertPose , #wheelPreOffsetYPose,  # wheelPreInsertPose , \n",
    "                         zSAFE = 0.100 ,  \n",
    "                         hover = 0 ,  \n",
    "                         ctrl  = robot  )\n",
    "    \n",
    "    insertTree.add_children( [ goBehav , graspBehav , jogBehav , relaxedInsert, dropBehav ] ) #, cntrBehav , checkBehav ] )\n",
    "\n",
    "    rootNode.add_children( [ recordBehav , insertTree ] ) #, waitBehav ] )\n",
    "    \n",
    "    return rootNode\n",
    "\n",
    "print( \"Spiral BT Created!\" )"
   ]
  },
  {
   "cell_type": "markdown",
   "metadata": {},
   "source": [
    "# Spiral Insert: Recording Pipeline"
   ]
  },
  {
   "cell_type": "code",
   "execution_count": 7,
   "metadata": {},
   "outputs": [
    {
     "name": "stdout",
     "output_type": "stream",
     "text": [
      "Iteration 1 of 1\n"
     ]
    },
    {
     "ename": "NameError",
     "evalue": "name 'Sequence_Recorder' is not defined",
     "output_type": "error",
     "traceback": [
      "\u001b[0;31m---------------------------------------------------------------------------\u001b[0m",
      "\u001b[0;31mNameError\u001b[0m                                 Traceback (most recent call last)",
      "\u001b[0;32m<ipython-input-7-dcfbcf5d5bad>\u001b[0m in \u001b[0;36m<module>\u001b[0;34m\u001b[0m\n\u001b[1;32m     20\u001b[0m \u001b[0;34m\u001b[0m\u001b[0m\n\u001b[1;32m     21\u001b[0m         \u001b[0;31m# 1. Reset tree\u001b[0m\u001b[0;34m\u001b[0m\u001b[0;34m\u001b[0m\u001b[0m\n\u001b[0;32m---> 22\u001b[0;31m         \u001b[0mrootNode\u001b[0m \u001b[0;34m=\u001b[0m \u001b[0mget_spiral_test_tree\u001b[0m\u001b[0;34m(\u001b[0m\u001b[0;34m)\u001b[0m\u001b[0;34m\u001b[0m\u001b[0m\n\u001b[0m\u001b[1;32m     23\u001b[0m \u001b[0;34m\u001b[0m\u001b[0m\n\u001b[1;32m     24\u001b[0m         \u001b[0;31m# 2. Run tree and generate recording\u001b[0m\u001b[0;34m\u001b[0m\u001b[0;34m\u001b[0m\u001b[0m\n",
      "\u001b[0;32m<ipython-input-6-82b712b200a1>\u001b[0m in \u001b[0;36mget_spiral_test_tree\u001b[0;34m()\u001b[0m\n\u001b[1;32m      9\u001b[0m \u001b[0;34m\u001b[0m\u001b[0m\n\u001b[1;32m     10\u001b[0m \u001b[0;32mdef\u001b[0m \u001b[0mget_spiral_test_tree\u001b[0m\u001b[0;34m(\u001b[0m\u001b[0;34m)\u001b[0m\u001b[0;34m:\u001b[0m\u001b[0;34m\u001b[0m\u001b[0m\n\u001b[0;32m---> 11\u001b[0;31m     rootNode = Sequence_Recorder(  memory = 0 , dataKey = \"test_DATA\" , flagKey = \"test_FLAG\" , \n\u001b[0m\u001b[1;32m     12\u001b[0m                                    outFileGenFunc = get_outfile_namer( pathPrefix = \"output/\" , \n\u001b[1;32m     13\u001b[0m                                                                            namePrefix = \"GEAR-SPR_\" )  )\n",
      "\u001b[0;31mNameError\u001b[0m: name 'Sequence_Recorder' is not defined"
     ]
    }
   ],
   "source": [
    "N        =  1\n",
    "divSleep = 10\n",
    "t_sleep  = 60\n",
    "j        =  1\n",
    "\n",
    "from time import sleep\n",
    "\n",
    "for i in range( 1 , N+1 ):\n",
    "    \n",
    "    try:\n",
    "        \n",
    "        print( \"Iteration\" , i , \"of\" , N )\n",
    "        \n",
    "        # 6. Sleep for human reset\n",
    "        if i > 1:\n",
    "            sleep( divSleep )\n",
    "\n",
    "        # 3. Release\n",
    "        robot.hand.release()\n",
    "        \n",
    "        # 1. Reset tree\n",
    "        rootNode = get_spiral_test_tree()\n",
    "        \n",
    "        # 2. Run tree and generate recording\n",
    "        run_BT_until_done( rootNode , N = 1000 , tickPause = 0.25 , \n",
    "                           breakOnFailure = 1 , breakOnSuccess = 1 , Nverb = 0 )\n",
    "        \n",
    "        # 3. Release\n",
    "        robot.hand.set_finger_width( 0.050 ) \n",
    "        \n",
    "        # 4. Deactivate motors\n",
    "        robot.hand.deactivate_motors()\n",
    "        \n",
    "        # 5. Move to safe position\n",
    "        robot.arm.move( safeCenterPose )\n",
    "\n",
    "    except KeyboardInterrupt:\n",
    "        print( \"Pipeline was STOPPED by user at iteration\" , i+1 )\n",
    "        break\n",
    "        "
   ]
  },
  {
   "cell_type": "markdown",
   "metadata": {},
   "source": [
    "# Common Functions"
   ]
  },
  {
   "cell_type": "code",
   "execution_count": 14,
   "metadata": {},
   "outputs": [
    {
     "data": {
      "text/plain": [
       "True"
      ]
     },
     "execution_count": 14,
     "metadata": {},
     "output_type": "execute_result"
    }
   ],
   "source": [
    "robot.arm.align_tcp( robot.arm )"
   ]
  },
  {
   "cell_type": "code",
   "execution_count": 19,
   "metadata": {},
   "outputs": [
    {
     "data": {
      "text/plain": [
       "True"
      ]
     },
     "execution_count": 19,
     "metadata": {},
     "output_type": "execute_result"
    }
   ],
   "source": [
    "robot.hand.grip()"
   ]
  },
  {
   "cell_type": "code",
   "execution_count": null,
   "metadata": {},
   "outputs": [],
   "source": [
    "robot.hand.release()"
   ]
  },
  {
   "cell_type": "code",
   "execution_count": 18,
   "metadata": {},
   "outputs": [
    {
     "data": {
      "text/plain": [
       "True"
      ]
     },
     "execution_count": 18,
     "metadata": {},
     "output_type": "execute_result"
    }
   ],
   "source": [
    "robot.hand.set_finger_width( 0.040 ) "
   ]
  },
  {
   "cell_type": "code",
   "execution_count": null,
   "metadata": {},
   "outputs": [],
   "source": [
    "robot.arm.move( wheelGraspPose )"
   ]
  },
  {
   "cell_type": "code",
   "execution_count": null,
   "metadata": {},
   "outputs": [],
   "source": [
    "print( robot.arm.get_tcp_pose() )\n",
    "print( robot.arm.get_tcp_pose()[2,3] )\n",
    "print( baseTouchPoseZ )"
   ]
  },
  {
   "cell_type": "code",
   "execution_count": null,
   "metadata": {},
   "outputs": [],
   "source": [
    "robot.ft.get_wrist_force()"
   ]
  },
  {
   "cell_type": "code",
   "execution_count": null,
   "metadata": {},
   "outputs": [],
   "source": [
    "robot.hand.deactivate_motors()"
   ]
  },
  {
   "cell_type": "code",
   "execution_count": null,
   "metadata": {},
   "outputs": [],
   "source": [
    "robot.hand.zero_fingers()"
   ]
  },
  {
   "cell_type": "markdown",
   "metadata": {},
   "source": [
    "# Setup"
   ]
  },
  {
   "cell_type": "markdown",
   "metadata": {},
   "source": [
    "## Behavior: Move to Contact"
   ]
  },
  {
   "cell_type": "code",
   "execution_count": 15,
   "metadata": {},
   "outputs": [
    {
     "name": "stdout",
     "output_type": "stream",
     "text": [
      "FT before the behavior: [-0.7564454078674316, 4.411328315734863, -1.97247314453125, -0.35438072681427, -0.0849374532699585, -0.12160936743021011]\n",
      "Root node Move_to_Contact succeeded!\n",
      "\n",
      "\n",
      "Simulation completed! with status rootNode.status \n",
      "\n",
      "\n",
      "FT After the behavior: [0.8244140148162842, -0.09648436307907104, -13.484954833984375, 0.025869131088256836, 0.23348236083984375, -0.008314445614814758]\n"
     ]
    }
   ],
   "source": [
    "rootNode =  Move_to_Contact( Fmag = 2.5 , relMove = [0.000, 0.000, -0.100] , biasWrist = 1 , \n",
    "                         mode = 'l' , speed = 0.0625 , accel = 0.17 , ctrl = robot )\n",
    "print( \"FT before the behavior:\" , robot.ft.get_wrist_force() )\n",
    "run_BT_until_done( rootNode , N = 1000 , tickPause = 0.25 , breakOnFailure = 1 , breakOnSuccess = 1 )\n",
    "print( \"FT After the behavior:\" , robot.ft.get_wrist_force() )"
   ]
  },
  {
   "cell_type": "markdown",
   "metadata": {},
   "source": [
    "## Behavior: Relieve Wrist Torque"
   ]
  },
  {
   "cell_type": "code",
   "execution_count": 18,
   "metadata": {},
   "outputs": [
    {
     "name": "stdout",
     "output_type": "stream",
     "text": [
      "FT before the behavior: [0.22441411018371582, -0.2964843511581421, -11.6849365234375, 0.04186904430389404, 0.12548232078552246, -0.005314454436302185]\n",
      "Root node Minimize_Wrist_Torque_XY succeeded!\n",
      "\n",
      "\n",
      "Simulation completed! with status rootNode.status \n",
      "\n",
      "\n",
      "FT After the behavior: [-1.375585913658142, -0.396484375, -11.6849365234375, 0.04386913776397705, -0.11851763725280762, -0.00931444764137268]\n"
     ]
    }
   ],
   "source": [
    "rootNode =  Minimize_Wrist_Torque_XY( numTrials = 30 , marginT=0.05 , moveStep=0.0005  , ctrl = robot )\n",
    "print( \"FT before the behavior:\" , robot.ft.get_wrist_force() )\n",
    "run_BT_until_done( rootNode , N = 1000 , tickPause = 0.25 , breakOnFailure = 1 , breakOnSuccess = 1 )\n",
    "print( \"FT After the behavior:\" , robot.ft.get_wrist_force() )\n"
   ]
  },
  {
   "cell_type": "markdown",
   "metadata": {},
   "source": [
    "## Setup Actions"
   ]
  },
  {
   "cell_type": "code",
   "execution_count": 7,
   "metadata": {},
   "outputs": [],
   "source": [
    "robot.arm.move( shaftPreInsertPose )"
   ]
  },
  {
   "cell_type": "code",
   "execution_count": 8,
   "metadata": {},
   "outputs": [
    {
     "data": {
      "text/plain": [
       "True"
      ]
     },
     "execution_count": 8,
     "metadata": {},
     "output_type": "execute_result"
    }
   ],
   "source": [
    "robot.hand.set_finger_width( 0.030 ) "
   ]
  },
  {
   "cell_type": "code",
   "execution_count": 9,
   "metadata": {},
   "outputs": [
    {
     "data": {
      "text/plain": [
       "True"
      ]
     },
     "execution_count": 9,
     "metadata": {},
     "output_type": "execute_result"
    }
   ],
   "source": [
    "robot.hand.grip()"
   ]
  },
  {
   "cell_type": "code",
   "execution_count": 6,
   "metadata": {},
   "outputs": [
    {
     "data": {
      "text/plain": [
       "False"
      ]
     },
     "execution_count": 6,
     "metadata": {},
     "output_type": "execute_result"
    }
   ],
   "source": [
    "robot.hand.release()"
   ]
  },
  {
   "cell_type": "code",
   "execution_count": 7,
   "metadata": {},
   "outputs": [
    {
     "data": {
      "text/plain": [
       "True"
      ]
     },
     "execution_count": 7,
     "metadata": {},
     "output_type": "execute_result"
    }
   ],
   "source": [
    "robot.arm.align_tcp()"
   ]
  },
  {
   "cell_type": "markdown",
   "metadata": {},
   "source": [
    "### Gear Poses"
   ]
  },
  {
   "cell_type": "code",
   "execution_count": 13,
   "metadata": {},
   "outputs": [
    {
     "name": "stdout",
     "output_type": "stream",
     "text": [
      "Stored 'wheelGraspPose' (ndarray)\n"
     ]
    }
   ],
   "source": [
    "# wheelGraspPose = robot.arm.get_tcp_pose()\n",
    "# %store wheelGraspPose"
   ]
  },
  {
   "cell_type": "code",
   "execution_count": 19,
   "metadata": {},
   "outputs": [
    {
     "name": "stdout",
     "output_type": "stream",
     "text": [
      "Stored 'wheelPostInsertPose' (ndarray)\n",
      "Stored 'wheelPostInsertZ' (float64)\n",
      "Stored 'wheelPreInsertPose' (ndarray)\n"
     ]
    }
   ],
   "source": [
    "# wheelPostInsertPose = robot.arm.get_tcp_pose()\n",
    "# wheelPostInsertZ = wheelPostInsertPose[2,3]\n",
    "# %store wheelPostInsertPose\n",
    "# %store wheelPostInsertZ\n",
    "# wheelPreInsertPose = wheelPostInsertPose.copy()\n",
    "# zApproach = 0.070\n",
    "# wheelPreInsertPose[2,3] += zApproach\n",
    "# %store wheelPreInsertPose"
   ]
  },
  {
   "cell_type": "code",
   "execution_count": null,
   "metadata": {},
   "outputs": [],
   "source": [
    "# wheelPreOffsetYPose = robot.arm.get_tcp_pose()\n",
    "# %store wheelPreOffsetYPose"
   ]
  },
  {
   "cell_type": "code",
   "execution_count": null,
   "metadata": {},
   "outputs": [],
   "source": [
    "# wheelPreOffsetXPose = robot.arm.get_tcp_pose()\n",
    "# %store wheelPreOffsetXPose"
   ]
  },
  {
   "cell_type": "markdown",
   "metadata": {},
   "source": [
    "### Shaft Poses"
   ]
  },
  {
   "cell_type": "code",
   "execution_count": 10,
   "metadata": {},
   "outputs": [
    {
     "name": "stdout",
     "output_type": "stream",
     "text": [
      "Stored 'shaftGraspPose' (ndarray)\n"
     ]
    }
   ],
   "source": [
    "# shaftGraspPose = robot.arm.get_tcp_pose()\n",
    "# %store shaftGraspPose"
   ]
  },
  {
   "cell_type": "code",
   "execution_count": 11,
   "metadata": {},
   "outputs": [
    {
     "name": "stdout",
     "output_type": "stream",
     "text": [
      "Stored 'shaftPreInsertPose' (ndarray)\n"
     ]
    }
   ],
   "source": [
    "# shaftPreInsertPose = robot.arm.get_tcp_pose()\n",
    "# %store shaftPreInsertPose"
   ]
  },
  {
   "cell_type": "markdown",
   "metadata": {},
   "source": [
    "### General Poses"
   ]
  },
  {
   "cell_type": "code",
   "execution_count": 6,
   "metadata": {},
   "outputs": [
    {
     "name": "stdout",
     "output_type": "stream",
     "text": [
      "Stored 'safeCenterPose' (ndarray)\n"
     ]
    }
   ],
   "source": [
    "# safeCenterPose = robot.arm.get_tcp_pose()\n",
    "# %store safeCenterPose"
   ]
  },
  {
   "cell_type": "code",
   "execution_count": 27,
   "metadata": {},
   "outputs": [
    {
     "name": "stdout",
     "output_type": "stream",
     "text": [
      "Stored 'baseTouchPose' (ndarray)\n",
      "Stored 'baseTouchPoseZ' (float64)\n"
     ]
    }
   ],
   "source": [
    "# baseTouchPose  = robot.arm.get_tcp_pose()\n",
    "# baseTouchPoseZ = baseTouchPose[2,3]\n",
    "# %store baseTouchPose\n",
    "# %store baseTouchPoseZ"
   ]
  },
  {
   "cell_type": "code",
   "execution_count": null,
   "metadata": {},
   "outputs": [],
   "source": []
  }
 ],
 "metadata": {
  "kernelspec": {
   "display_name": "Python 3",
   "language": "python",
   "name": "python3"
  },
  "language_info": {
   "codemirror_mode": {
    "name": "ipython",
    "version": 3
   },
   "file_extension": ".py",
   "mimetype": "text/x-python",
   "name": "python",
   "nbconvert_exporter": "python",
   "pygments_lexer": "ipython3",
   "version": "3.5.2"
  }
 },
 "nbformat": 4,
 "nbformat_minor": 4
}
