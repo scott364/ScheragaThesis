{
 "cells": [
  {
   "cell_type": "code",
   "execution_count": 1,
   "metadata": {},
   "outputs": [],
   "source": [
    "import subprocess, sys\n",
    "\n",
    "with open(\"stdout.txt\",\"wb\") as out, open(\"stderr.txt\",\"wb\") as err:\n",
    "    # https://stackoverflow.com/a/2331376\n",
    "    proc = subprocess.Popen( [ '/usr/bin/python3.6', '98_serverTest.py' ] , \n",
    "                             stdout = out, stderr = err,\n",
    "                             start_new_session = True) \n",
    "\n",
    "\n",
    "\n",
    "# _VRB  = 1\n",
    "# sproc = subprocess.run( [ 'python3', '99_serverTest.py' ] , \n",
    "#                         stdout=(None if _VRB else subprocess.DEVNULL) , \n",
    "#                         stderr=(subprocess.STDOUT if _VRB else subprocess.DEVNULL) ) "
   ]
  },
  {
   "cell_type": "code",
   "execution_count": 2,
   "metadata": {},
   "outputs": [
    {
     "name": "stdout",
     "output_type": "stream",
     "text": [
      "Process 13889 is running\n"
     ]
    }
   ],
   "source": [
    "res = proc.poll()\n",
    "pid = proc.pid\n",
    "if res is None:\n",
    "    print( \"Process\" , pid , \"is running\" )\n",
    "else:\n",
    "    print( \"Process\" , pid , \"terminated with code\" , res )\n"
   ]
  },
  {
   "cell_type": "code",
   "execution_count": 3,
   "metadata": {},
   "outputs": [],
   "source": [
    "sproc = None\n",
    "with open(\"testout.txt\",\"wb\") as out, open(\"testerr.txt\",\"wb\") as err:\n",
    "    sproc = subprocess.Popen( [ '/usr/bin/python3.6', '99_clientTest.py' ],\n",
    "        stdout = out, stderr = err,\n",
    "    ) "
   ]
  },
  {
   "cell_type": "code",
   "execution_count": 4,
   "metadata": {},
   "outputs": [
    {
     "name": "stdout",
     "output_type": "stream",
     "text": [
      "Process 13890 is running\n"
     ]
    }
   ],
   "source": [
    "res = sproc.poll()\n",
    "pid = sproc.pid\n",
    "if res is None:\n",
    "    print( \"Process\" , pid , \"is running\" )\n",
    "else:\n",
    "    print( \"Process\" , pid , \"terminated with code\" , res )"
   ]
  },
  {
   "cell_type": "code",
   "execution_count": 5,
   "metadata": {},
   "outputs": [],
   "source": [
    "proc.kill()"
   ]
  },
  {
   "cell_type": "code",
   "execution_count": 6,
   "metadata": {},
   "outputs": [
    {
     "name": "stdout",
     "output_type": "stream",
     "text": [
      "Process 13889 was terminated by signal 9\n"
     ]
    }
   ],
   "source": [
    "res = proc.poll()\n",
    "pid = proc.pid\n",
    "if res < 0:\n",
    "    print( \"Process\" , pid , \"was terminated by signal\", -res )\n",
    "elif res is None:\n",
    "    print( \"Process\" , pid , \"is still running...\" )\n",
    "else:\n",
    "    print( \"Something else happened to\" , pid , \"?, Exit code:\" , res )"
   ]
  }
 ],
 "metadata": {
  "kernelspec": {
   "display_name": "Python 3",
   "language": "python",
   "name": "python3"
  },
  "language_info": {
   "codemirror_mode": {
    "name": "ipython",
    "version": 3
   },
   "file_extension": ".py",
   "mimetype": "text/x-python",
   "name": "python",
   "nbconvert_exporter": "python",
   "pygments_lexer": "ipython3",
   "version": "3.5.2"
  }
 },
 "nbformat": 4,
 "nbformat_minor": 5
}
