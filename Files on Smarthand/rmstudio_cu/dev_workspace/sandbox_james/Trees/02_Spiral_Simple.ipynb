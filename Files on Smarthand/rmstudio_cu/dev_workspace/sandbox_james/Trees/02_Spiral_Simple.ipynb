{
 "cells": [
  {
   "cell_type": "markdown",
   "metadata": {},
   "source": [
    "# Init"
   ]
  },
  {
   "cell_type": "code",
   "execution_count": 1,
   "metadata": {},
   "outputs": [
    {
     "name": "stdout",
     "output_type": "stream",
     "text": [
      "Loaded: /home/nvidia/dev_rmstudio/rmlib/rmlib/rmtools Exists?: True\n",
      "Loaded: /home/nvidia/dev_rmstudio/rmlib Exists?: True\n",
      "Setting up robot please wait...\n",
      "my_components: {'hand_config': {'finger_length': 0.0415, 'module_name': 'hands.smarthand', 'finger_depth': 0.014, 'finger_width_outer': 0.015, 'finger_width_inner': 0.0, 'class_name': 'SmartHand'}, 'arm_config': {'default_joint_accel': 0.8, 'default_linear_speed': 0.1, 'default_joint_speed': 0.7, 'max_joint_accel': 1.4, 'max_joint_speed': 1.05, 'ip_address': '192.168.0.101', 'xmlrpc_port': '8003', 'max_linear_speed': 0.25, 'module_name': 'arms.ur5', 'default_linear_accel': 0.8, 'max_linear_accel': 1.2, 'class_name': 'UR5'}, 'cam_config': {'ci_cam_offset': [-0.036, -0.028, -0.079], 'pc_cam_offset': [-0.037, -0.033, -0.079], 'module_name': 'cameras.realsense', 'class_name': 'RealSense', 'camera_model': 'd410'}, 'ft_config': {'ip_address': '192.168.0.100', 'dataHz': 50.0, 'module_name': 'sensors.ftsensor_optoforce', 'max_workers': 10, 'remote_ip': '', 'local_ip': '127.0.0.1', 'local_port': 20000, 'remote_port': 10000, 'class_name': 'OptoForce', 'filter': {'alpha': 0.012, 'beta': 0.035}}}\n",
      "active_componetns: {'arm': ['arm_config'], 'ft': ['ft_config'], 'hand': ['hand_config'], 'camera': ['cam_config']}\n",
      "{'default_joint_accel': 0.8, 'default_linear_speed': 0.1, 'default_joint_speed': 0.7, 'max_joint_accel': 1.4, 'max_joint_speed': 1.05, 'ip_address': '192.168.0.101', 'xmlrpc_port': '8003', 'max_linear_speed': 0.25, 'module_name': 'arms.ur5', 'default_linear_accel': 0.8, 'max_linear_accel': 1.2, 'class_name': 'UR5'}\n",
      "<class 'rmlib.arms.ur5.UR5'>\n",
      "{'ip_address': '192.168.0.100', 'dataHz': 50.0, 'module_name': 'sensors.ftsensor_optoforce', 'max_workers': 10, 'remote_ip': '', 'local_ip': '127.0.0.1', 'local_port': 20000, 'remote_port': 10000, 'class_name': 'OptoForce', 'filter': {'alpha': 0.012, 'beta': 0.035}}\n",
      "<class 'rmlib.sensors.ftsensor_optoforce.OptoForce'>\n",
      "Connecting to the force sensor at ('192.168.0.100', 49152) ... SUCCESS!\n",
      "Preparing OptoForce for data transmission ... COMPLETED!\n",
      "Set up server at: {'ip': '127.0.0.1', 'port': 20000}\n",
      "Set up server at: {'ip': '', 'port': 10000}\n",
      "\n",
      " Config Tuple: {'ip': '127.0.0.1', 'port': 20000} \n",
      "\n",
      " Config Tuple: {'ip': '', 'port': 10000} \n",
      "\n",
      "\n",
      "XML-RPC serving FT data from ('127.0.0.1', 20000)\n",
      "XML-RPC serving FT data from ('', 10000)\n",
      "XML-RPC servers RUNNING!\n",
      "{'finger_length': 0.0415, 'module_name': 'hands.smarthand', 'finger_depth': 0.014, 'finger_width_outer': 0.015, 'finger_width_inner': 0.0, 'class_name': 'SmartHand'}\n",
      "<class 'rmlib.hands.smarthand.SmartHand'>\n",
      "{'ci_cam_offset': [-0.036, -0.028, -0.079], 'pc_cam_offset': [-0.037, -0.033, -0.079], 'module_name': 'cameras.realsense', 'class_name': 'RealSense', 'camera_model': 'd410'}\n",
      "<class 'rmlib.cameras.realsense.RealSense'>\n",
      "Robot Ready!\n",
      "\n",
      "##!## READY : 2021-06-29 ##!##\n"
     ]
    }
   ],
   "source": [
    "%load_ext autoreload\n",
    "%autoreload 2\n",
    "\n",
    "####### INIT ######################################################################################\n",
    "\n",
    "import datetime\n",
    "today = datetime.date.today()\n",
    "\n",
    "from context import rmlib\n",
    "import rmlib.rmtools as rm\n",
    "from config import robotConfig\n",
    "\n",
    "robot = rmlib.robot.Robot( robotConfig )\n",
    "\n",
    "## Imports ##\n",
    "from time import sleep\n",
    "import numpy as np\n",
    "import rmlib\n",
    "from rmlib.rmtools.assembly_trees import augment_RM\n",
    "\n",
    "augment_RM( robot )\n",
    "\n",
    "%store -r\n",
    "\n",
    "####### LIBS ######################################################################################\n",
    "\n",
    "## Import Pytrees ##\n",
    "import py_trees\n",
    "from py_trees.tests import Timeout_Success\n",
    "from py_trees.composites import Sequence , Selector\n",
    "\n",
    "from assembly_trees import *\n",
    "\n",
    "import math\n",
    "from pmath import translate_pose , get_disance_between_poses , pose_components\n",
    "\n",
    "from utils import is_matx_list, network_thermal_health\n",
    "from pprint import pprint\n",
    "from math import radians\n",
    "\n",
    "if 0:\n",
    "    print( \"\\n# Wrist Sensor Check #\" )\n",
    "    print( robot.ft.get_wrist_force() )\n",
    "    print( robot.ft.bias_wrist_force() )\n",
    "    sleep( 0.1 )\n",
    "    print( robot.ft.get_wrist_force() )\n",
    "\n",
    "print( \"\\n##!## READY :\", today, \"##!##\" )"
   ]
  },
  {
   "cell_type": "markdown",
   "metadata": {},
   "source": [
    "# Global Vars"
   ]
  },
  {
   "cell_type": "code",
   "execution_count": 2,
   "metadata": {},
   "outputs": [],
   "source": [
    "DATA_RATE  = 50\n",
    "SLEEP_TIME = 10.0"
   ]
  },
  {
   "cell_type": "markdown",
   "metadata": {},
   "source": [
    "# Spiral Insert Process"
   ]
  },
  {
   "cell_type": "code",
   "execution_count": 3,
   "metadata": {},
   "outputs": [
    {
     "name": "stdout",
     "output_type": "stream",
     "text": [
      "A pre-insert pose was defined.\n",
      "Spiral BT Created!\n"
     ]
    }
   ],
   "source": [
    "wheelPreInsertPose = wheelPostInsertPose.copy()\n",
    "zApproach = 0.050\n",
    "wheelPreInsertPose[2,3] += zApproach\n",
    "print( \"A pre-insert pose was defined.\" )\n",
    "\n",
    "from py_trees.decorators import SuccessIsFailure\n",
    "from py_trees.timers import Timer\n",
    "from pathlib import Path\n",
    "import operator\n",
    "from random import random\n",
    "\n",
    "statusKey = \"insertStatus\" # The name of the current logfile will go here\n",
    "latchAll  = 0\n",
    "\n",
    "\n",
    "def make_above_pose( trgtPose, vertOffset = 0.070 ):\n",
    "    \"\"\" Return a pose that is vertically offset  \"\"\"\n",
    "    rtrnPose = trgtPose.copy()\n",
    "    rtrnPose[2,3] += vertOffset\n",
    "    return rtrnPose\n",
    "\n",
    "\n",
    "def perturb_pose_radially_XY( pose, radMax ):\n",
    "    \"\"\" Return a version of `pose` that is moved in the XY plane up to `radMax` distance \"\"\"\n",
    "    rtrnPose = pose.copy()\n",
    "    dX = dY = 5000.0\n",
    "    while np.linalg.norm( [dX, dY] ) > radMax:\n",
    "        dX = -radMax + 2*radMax*random()\n",
    "        dY = -radMax + 2*radMax*random()\n",
    "    rtrnPose[0,3] += dX\n",
    "    rtrnPose[1,3] += dY\n",
    "    return rtrnPose\n",
    "\n",
    "\n",
    "class SpiralRecoveryLoop_Simple( py_trees.composites.Sequence ):\n",
    "    \"\"\" Tree for retrying Spiral Insertion until it succeeds, No monitoring \"\"\"\n",
    "\n",
    "    def setup( self ):\n",
    "        \"\"\" Create a log file when the experiment begins \"\"\"\n",
    "        self.logPath = self.logPathGen()\n",
    "        print( \"Run log stored in\" , self.logPath )\n",
    "        \n",
    "    def arrange_logs_and_write( self ):\n",
    "        \"\"\" Gather everything that was logged, arrange in chrono order, and write to CSV \"\"\"\n",
    "        events = []\n",
    "        for log in self.logs:\n",
    "            events.extend( log.log )\n",
    "            \n",
    "         #  7. Define a timestamp comparison for sorting rows of data\n",
    "        func = operator.itemgetter(0)\n",
    "        def floatGetter(s):\n",
    "            return float(func(s))\n",
    "\n",
    "        #  8. Sort data \n",
    "        sortedEvents = sorted( events, key = floatGetter )\n",
    "        \n",
    "        with open( self.logPath, 'w', newline='') as csvfile:\n",
    "            csvWriter = csv.writer( csvfile )\n",
    "            csvWriter.writerows( sortedEvents )\n",
    "            \n",
    "        \n",
    "    def __init__( self, Ntries, dwellTime = 10.0, ctrl = None,\n",
    "                        perturbRad = 0.0 ):\n",
    "        \"\"\" Create a tree \"\"\"\n",
    "        \n",
    "        #### Setup ####\n",
    "        \n",
    "        # 0. Main loop should monitor continuously\n",
    "        super().__init__( name = \"Tilt Insert Loop\", memory = 0 )\n",
    "        \n",
    "        self.zSAFE          = 0.100\n",
    "        self.plungeDistance = 1.5 * self.zSAFE\n",
    "        self.setdownForce   = 3.0\n",
    "        self.descendSpeed   = 0.045\n",
    "        self.biasWrist      = 1\n",
    "        self.Ntries         = Ntries\n",
    "        self.logs           = list()\n",
    "        self.logPath        = None\n",
    "        self.logPathGen     = get_outfile_namer( pathPrefix = \"output/\" , \n",
    "                                                 namePrefix = \"GEAR-SPR-EVENT-LOG\",\n",
    "                                                 filePostfix = \"txt\" )\n",
    "    \n",
    "    \n",
    "        #### Monitor Subtree ####\n",
    "        \n",
    "        recordBehav = Record_Classify( \n",
    "            recordFlagKey = \"test_FLAG\" , dataKey = \"test_DATA\" , labelKey = statusKey , \n",
    "            outFileGenFunc = get_outfile_namer( pathPrefix = \"output/\" , \n",
    "                                                namePrefix = \"GEAR-SPR\" ),\n",
    "            recordHz = DATA_RATE , ctrl = ctrl \n",
    "        )\n",
    "        \n",
    "        self.add_child( recordBehav )\n",
    "    \n",
    "    \n",
    "        #### Experiment Subtree ####\n",
    "        \n",
    "        ### Fetch Subtree ###\n",
    "        fetchTree = Sequence( memory = 1 )\n",
    "        \n",
    "        print( dir( self ) ) \n",
    "        \n",
    "        pickBgn = EventLogger( msgOrGen = \"Pick:Begin\", latch = latchAll )\n",
    "        self.logs.append( pickBgn )\n",
    "        \n",
    "        #  1. Go to pickup pose\n",
    "        goBehav = Jog_Safe( wheelGraspPose , \n",
    "                            zSAFE = self.zSAFE ,  \n",
    "                            hover = 1 ,  \n",
    "                            ctrl  = ctrl  )\n",
    "    \n",
    "        #  2. Pre-close around the gear\n",
    "        closeBehav = Set_Fingers( openState = 0.045 , ctrl = ctrl )   \n",
    "\n",
    "        #  3. Grasp gear\n",
    "        graspBehav = Grasp_at_Pose( wheelGraspPose, 0.026 ,\n",
    "                                    zApproach=0.050 , zClose=0.0 , \n",
    "                                    wdthNarrow = 0.050 , maxIter=5, zFree=0.100 , \n",
    "                                    ctrl = robot )\n",
    "        \n",
    "        behavPreInsertPose = wheelPreInsertPose.copy()\n",
    "        \n",
    "        if perturbRad > 0.0001:\n",
    "            behavPreInsertPose = perturb_pose_radially_XY( wheelPreInsertPose, perturbRad )\n",
    "        \n",
    "        #  4. Goto pre-insertion pose\n",
    "#         jogBehav = Jog_Safe( wheelPreInsertPose, \n",
    "        jogBehav = Jog_Safe( behavPreInsertPose, \n",
    "                             zSAFE = 0.100 ,  \n",
    "                             hover = 0 ,  \n",
    "                             ctrl  = robot  )\n",
    "        \n",
    "        pickEnd = EventLogger( msgOrGen = \"Pick:End\", latch = latchAll )\n",
    "        self.logs.append( pickEnd )\n",
    "        \n",
    "        fetchTree.add_children( [ pickBgn, goBehav, closeBehav, graspBehav, jogBehav, pickEnd ] )\n",
    "        \n",
    "        \n",
    "        ### Shortcut Subtree ### \n",
    "        shortTree = Selector( memory = 1 )\n",
    "        shortSeq  = Sequence( memory = 1 )\n",
    "        \n",
    "        #  5. TODO: SHORTCUT HERE (Monitored Version Only)\n",
    "        \n",
    "        waitBehav = Timer( name=\"Wait for WRITE\", duration=2.0)\n",
    "        \n",
    "        #  6. Sibling to the actual insertion subtree kicks off a thread for recording\n",
    "        \n",
    "        insertBgn = EventLogger( msgOrGen = \"Insert:Begin\", latch = latchAll )\n",
    "        self.logs.append( insertBgn )\n",
    "        \n",
    "        \n",
    "        stepFactor = 2.0\n",
    "\n",
    "        #  7. Insertion behavior\n",
    "        insertBehav = Spiral_Insert( \n",
    "#             wheelPreInsertPose ,\n",
    "            behavPreInsertPose ,\n",
    "            touch_force = 3.5 , drop_force = 2.0 , insert_force = 8.0 , \n",
    "            max_movement = zApproach + 0.030 , \n",
    "            lateralStopTorque = 0.800 , \n",
    "            pushbackF = 20.0 , spiralSpeed = 0.001 , descendSpeed = 0.00625 , biasWrist = 1 ,\n",
    "            degrees_to_step = 3.25*2.0 , \n",
    "            maxAngle = 100 * 360 , startRadius = 0.00005 , \n",
    "            stepSize = 0.000025*1.75 , \n",
    "            max_radius = 0.010 ,\n",
    "            posnMargin = 0.003 , orntMargin = 2.0/180 , \n",
    "            reliefStep_m = 0.0005 , reliefMargin_Nm = 0.050 , reliefN = 15 , \n",
    "            finalInsertHandZ = wheelPostInsertZ , \n",
    "            suppressDrop = 1 , suppressLateral = 0 , \n",
    "            recordFlagKey = \"test_FLAG\" , \n",
    "            ctrl = robot,\n",
    "            chaseMode = 1, chaseStep = 0.00010 , N_chaseMax = 10 \n",
    "        )   \n",
    "        \n",
    "        insertStatus = Store_Subtree_Status( insertBehav, statusKey )\n",
    "        \n",
    "        insertEnd = EventLogger( msgOrGen = \"Insert:End\", latch = latchAll )\n",
    "        self.logs.append( insertEnd )\n",
    "        \n",
    "        shortSeq.add_children( [ waitBehav, insertBgn, insertStatus, insertEnd ] )\n",
    "        shortTree.add_children( [ shortSeq, insertEnd ] )\n",
    "        \n",
    "        ### Reset Subtree ###\n",
    "        resetTree = Sequence( memory = 1 )\n",
    "        resetBgn  = EventLogger( msgOrGen = \"Reset:Begin\", latch = latchAll )\n",
    "        self.logs.append( resetBgn )\n",
    "        \n",
    "        #  8. Goto pickup pose \"goBehav\" (re-used)\n",
    "        \n",
    "        #  9. Move the shaft gently to the table\n",
    "        placeBehav = Move_to_Contact( relMove = [ 0 , 0 , -self.plungeDistance ] , \n",
    "                                      Fmag = self.setdownForce , speed = self.descendSpeed , \n",
    "                                      accel = 0.17,\n",
    "                                      biasWrist = self.biasWrist , ctrl = ctrl )\n",
    "        \n",
    "        #  9. Drop, whether we won or not\n",
    "        dropBehav = Set_Fingers( openState = 1.0 , ctrl = ctrl )\n",
    "        \n",
    "        resetEnd = EventLogger( msgOrGen = \"Reset:End\", latch = latchAll )\n",
    "        self.logs.append( resetEnd )\n",
    "        \n",
    "        \n",
    "        # 10. Construct the reset subtree\n",
    "        resetTree.add_children( [resetBgn, goBehav, placeBehav, dropBehav, resetEnd] )\n",
    "        \n",
    "         #### Main Retry Loop ####\n",
    "        \n",
    "        #  0. Create the main MC driver\n",
    "        experimentTree = py_trees.composites.Sequence( memory = 1 )\n",
    "        experimentRoot = py_trees.composites.Selector( memory = 1 )\n",
    "        \n",
    "        \n",
    "        #  1. Add the decorator\n",
    "        retryLoop = Run_to_X_Failures_DECO(  \n",
    "            experimentRoot ,\n",
    "            X_allowedFails = Ntries\n",
    "        )\n",
    "        \n",
    "        ### Success Subtree ###\n",
    "        successTree = Sequence( memory = 1 )\n",
    "        successTree.add_children( [goBehav, placeBehav, dropBehav] )\n",
    "        \n",
    "        # We can only reach the successtree after winning the retryLoop\n",
    "        experimentTree.add_children( [retryLoop, successTree] )\n",
    "        self.add_child( experimentTree )\n",
    "\n",
    "        # 11. Add the record/insert/reset siblings as children\n",
    "        experimentRoot.add_children( [\n",
    "            SuccessIsFailure( fetchTree ), \n",
    "            shortSeq,\n",
    "            SuccessIsFailure( resetTree ),\n",
    "        ] )\n",
    "\n",
    "print( \"Spiral BT Created!\" )"
   ]
  },
  {
   "cell_type": "markdown",
   "metadata": {},
   "source": [
    "# Spiral Insert: Recording Pipeline"
   ]
  },
  {
   "cell_type": "code",
   "execution_count": 4,
   "metadata": {},
   "outputs": [
    {
     "name": "stdout",
     "output_type": "stream",
     "text": [
      "Iteration 1 of 2\n",
      "\n",
      "Using nudge: 0.002 \n",
      "\n",
      "Connected to http://localhost:20000\n",
      "['Ntries', '_DEBUG', '__class__', '__delattr__', '__dict__', '__dir__', '__doc__', '__eq__', '__format__', '__ge__', '__getattribute__', '__gt__', '__hash__', '__init__', '__le__', '__lt__', '__module__', '__ne__', '__new__', '__reduce__', '__reduce_ex__', '__repr__', '__setattr__', '__sizeof__', '__str__', '__subclasshook__', '__weakref__', 'add_child', 'add_children', 'arrange_logs_and_write', 'attach_blackboard_client', 'biasWrist', 'blackboards', 'blackbox_level', 'children', 'current_child', 'current_index', 'descendSpeed', 'feedback_message', 'has_parent_with_instance_type', 'has_parent_with_name', 'id', 'initialise', 'insert_child', 'iterate', 'iterator', 'logPath', 'logPathGen', 'logger', 'logs', 'memory', 'name', 'parent', 'plungeDistance', 'prepend_child', 'qualified_name', 'remove_all_children', 'remove_child', 'remove_child_by_id', 'replace_child', 'setdownForce', 'setup', 'setup_subtree', 'setup_with_descendants', 'shutdown', 'status', 'stop', 'terminate', 'tick', 'tick_once', 'tip', 'tree', 'update', 'verbose_info_string', 'visit', 'zSAFE']\n",
      "About to run <__main__.SpiralRecoveryLoop_Simple object at 0x7f4c091978> : Tilt Insert Loop at 2021-06-29_22-32-12 with 4.0 Hz update frequency ...\n",
      "Run log stored in output/GEAR-SPR-EVENT-LOG_2021-06-29_22-32-12.txt\n",
      "Running ...\n",
      "\n",
      "About the start the thread\n",
      "Thread 546639098368 was asked to write output/GEAR-SPR_2021-06-29_22-32-40.xml\n",
      "Wrote output/GEAR-SPR_2021-06-29_22-32-40.xml !\n",
      "Root node Tilt Insert Loop failed!\n",
      "\n",
      "[-] Tilt Insert Loop [x]\n",
      "    --> Record_Classify [o]\n",
      "    [-] Sequence [x]\n",
      "        -^- Run_to_X_Failures_DECO [x] -- Allowed 1 of 1\n",
      "            [o] Selector [x]\n",
      "                -^- SuccessIsFailure [x] -- success is failure\n",
      "                    [-] Sequence [o]\n",
      "                        --> EventLogger [o]\n",
      "                        [-] Jog_Safe [o]\n",
      "                            --> Move_Arm [o]\n",
      "                            --> Move_Arm [o]\n",
      "                        --> Set_Fingers [o]\n",
      "                        [-] Grasp_at_Pose [o]\n",
      "                            --> Move_Arm [o]\n",
      "                            --> Set_Fingers [o]\n",
      "                            --> Move_Arm [o]\n",
      "                            --> Set_Fingers [o]\n",
      "                            --> Set_Grip_Torque [o]\n",
      "                            --> Move_Arm [o]\n",
      "                            --> Finger_Width_COND [o]\n",
      "                        [-] Jog_Safe [o]\n",
      "                            --> Move_Arm [o]\n",
      "                            --> Move_Arm [o]\n",
      "                            --> Move_Arm [o]\n",
      "                        --> EventLogger [o]\n",
      "                [-] Sequence [x]\n",
      "                    --> Wait for WRITE [o] -- timer ran out [2.0]\n",
      "                    --> EventLogger [o]\n",
      "                    -^- Store_Subtree_Status [x]\n",
      "                        [-] Spiral_Insert [x]\n",
      "                            --> COND_At_TCP_Pose [o]\n",
      "                            --> Move_to_Contact [o]\n",
      "                            --> Set_BB_Key [o]\n",
      "                            [o] Selector [x]\n",
      "                                [-] Sequence [x]\n",
      "                                    -^- Run_to_X_Failures_DECO [x] -- Allowed 228 of 228\n",
      "                                        --> Move_Rule_w_Stop_Cond [x]\n",
      "                                    [-] Minimize_Wrist_Torque_XY [-]\n",
      "                                        -^- Run_to_X_Failures_DECO [-]\n",
      "                                            --> Move_Rule_w_Stop_Cond [-]\n",
      "                                    --> Move_Arm_Relative [-]\n",
      "                                    --> Move_to_Contact [-]\n",
      "                                    --> Move_Arm_Relative [-]\n",
      "                                    --> Move_to_Contact [-]\n",
      "                                    --> Move_Arm_Relative [-]\n",
      "                                    --> Move_to_Contact [-]\n",
      "                                    --> Set_BB_Key [-]\n",
      "                                    --> At_Z_Level_COND [-]\n",
      "                                -^- SuccessIsFailure [x] -- success is failure\n",
      "                                    --> Set_BB_Key [o]\n",
      "                    --> EventLogger [-]\n",
      "                -^- SuccessIsFailure [x] -- success is failure\n",
      "                    [-] Sequence [o]\n",
      "                        --> EventLogger [o]\n",
      "                        [-] Jog_Safe [o]\n",
      "                            --> Move_Arm [o]\n",
      "                            --> Move_Arm [o]\n",
      "                        --> Move_to_Contact [o]\n",
      "                        --> Set_Fingers [o]\n",
      "                        --> EventLogger [o]\n",
      "        [-] Sequence [-]\n",
      "            [-] Jog_Safe [o]\n",
      "                --> Move_Arm [o]\n",
      "                --> Move_Arm [o]\n",
      "            --> Move_to_Contact [o]\n",
      "            --> Set_Fingers [o]\n",
      "\n",
      "\n",
      "Run completed! with status: Status.FAILURE \n",
      "\n",
      "\n",
      "Root node Tilt Insert Loop was killed by the running script!\n",
      "Iteration 2 of 2\n",
      "\n",
      "Using nudge: 0.0 \n",
      "\n",
      "Connected to http://localhost:20000\n",
      "['Ntries', '_DEBUG', '__class__', '__delattr__', '__dict__', '__dir__', '__doc__', '__eq__', '__format__', '__ge__', '__getattribute__', '__gt__', '__hash__', '__init__', '__le__', '__lt__', '__module__', '__ne__', '__new__', '__reduce__', '__reduce_ex__', '__repr__', '__setattr__', '__sizeof__', '__str__', '__subclasshook__', '__weakref__', 'add_child', 'add_children', 'arrange_logs_and_write', 'attach_blackboard_client', 'biasWrist', 'blackboards', 'blackbox_level', 'children', 'current_child', 'current_index', 'descendSpeed', 'feedback_message', 'has_parent_with_instance_type', 'has_parent_with_name', 'id', 'initialise', 'insert_child', 'iterate', 'iterator', 'logPath', 'logPathGen', 'logger', 'logs', 'memory', 'name', 'parent', 'plungeDistance', 'prepend_child', 'qualified_name', 'remove_all_children', 'remove_child', 'remove_child_by_id', 'replace_child', 'setdownForce', 'setup', 'setup_subtree', 'setup_with_descendants', 'shutdown', 'status', 'stop', 'terminate', 'tick', 'tick_once', 'tip', 'tree', 'update', 'verbose_info_string', 'visit', 'zSAFE']\n",
      "About to run <__main__.SpiralRecoveryLoop_Simple object at 0x7f45af5cf8> : Tilt Insert Loop at 2021-06-29_22-34-04 with 4.0 Hz update frequency ...\n",
      "Run log stored in output/GEAR-SPR-EVENT-LOG_2021-06-29_22-34-04.txt\n",
      "Running ...\n",
      "\n",
      "About the start the thread\n",
      "Thread 546639098368 was asked to write output/GEAR-SPR_2021-06-29_22-34-32.xml\n",
      "Wrote output/GEAR-SPR_2021-06-29_22-34-32.xml !\n",
      "Root node Tilt Insert Loop failed!\n",
      "\n",
      "[-] Tilt Insert Loop [x]\n",
      "    --> Record_Classify [o]\n",
      "    [-] Sequence [x]\n",
      "        -^- Run_to_X_Failures_DECO [x] -- Allowed 1 of 1\n",
      "            [o] Selector [x]\n",
      "                -^- SuccessIsFailure [x] -- success is failure\n",
      "                    [-] Sequence [o]\n",
      "                        --> EventLogger [o]\n",
      "                        [-] Jog_Safe [o]\n",
      "                            --> Move_Arm [o]\n",
      "                            --> Move_Arm [o]\n",
      "                        --> Set_Fingers [o]\n",
      "                        [-] Grasp_at_Pose [o]\n",
      "                            --> Move_Arm [o]\n",
      "                            --> Set_Fingers [o]\n",
      "                            --> Move_Arm [o]\n",
      "                            --> Set_Fingers [o]\n",
      "                            --> Set_Grip_Torque [o]\n",
      "                            --> Move_Arm [o]\n",
      "                            --> Finger_Width_COND [o]\n",
      "                        [-] Jog_Safe [o]\n",
      "                            --> Move_Arm [o]\n",
      "                            --> Move_Arm [o]\n",
      "                            --> Move_Arm [o]\n",
      "                        --> EventLogger [o]\n",
      "                [-] Sequence [x]\n",
      "                    --> Wait for WRITE [o] -- timer ran out [2.0]\n",
      "                    --> EventLogger [o]\n",
      "                    -^- Store_Subtree_Status [x]\n",
      "                        [-] Spiral_Insert [x]\n",
      "                            --> COND_At_TCP_Pose [o]\n",
      "                            --> Move_to_Contact [o]\n",
      "                            --> Set_BB_Key [o]\n",
      "                            [o] Selector [x]\n",
      "                                [-] Sequence [x]\n",
      "                                    -^- Run_to_X_Failures_DECO [x] -- Allowed 228 of 228\n",
      "                                        --> Move_Rule_w_Stop_Cond [x]\n",
      "                                    [-] Minimize_Wrist_Torque_XY [-]\n",
      "                                        -^- Run_to_X_Failures_DECO [-]\n",
      "                                            --> Move_Rule_w_Stop_Cond [-]\n",
      "                                    --> Move_Arm_Relative [-]\n",
      "                                    --> Move_to_Contact [-]\n",
      "                                    --> Move_Arm_Relative [-]\n",
      "                                    --> Move_to_Contact [-]\n",
      "                                    --> Move_Arm_Relative [-]\n",
      "                                    --> Move_to_Contact [-]\n",
      "                                    --> Set_BB_Key [-]\n",
      "                                    --> At_Z_Level_COND [-]\n",
      "                                -^- SuccessIsFailure [x] -- success is failure\n",
      "                                    --> Set_BB_Key [o]\n",
      "                    --> EventLogger [-]\n",
      "                -^- SuccessIsFailure [x] -- success is failure\n",
      "                    [-] Sequence [o]\n",
      "                        --> EventLogger [o]\n",
      "                        [-] Jog_Safe [o]\n",
      "                            --> Move_Arm [o]\n",
      "                            --> Move_Arm [o]\n",
      "                        --> Move_to_Contact [o]\n",
      "                        --> Set_Fingers [o]\n",
      "                        --> EventLogger [o]\n",
      "        [-] Sequence [-]\n",
      "            [-] Jog_Safe [o]\n",
      "                --> Move_Arm [o]\n",
      "                --> Move_Arm [o]\n",
      "            --> Move_to_Contact [o]\n",
      "            --> Set_Fingers [o]\n",
      "\n",
      "\n",
      "Run completed! with status: Status.FAILURE \n",
      "\n",
      "\n",
      "Root node Tilt Insert Loop was killed by the running script!\n",
      "{'BCPU-therm': 51.5,\n",
      " 'GPU-therm': 49.0,\n",
      " 'MCPU-therm': 51.5,\n",
      " 'Tboard_tegra': 47.0,\n",
      " 'Tdiode_tegra': 48.25,\n",
      " 'avg_temp': 49.574999999999996,\n",
      " 'network': {'192.168.0.100': {'latency': 333.0},\n",
      "             '192.168.0.102': {'latency': 256.0}},\n",
      " 'thermal-fan-est': 50.2,\n",
      " 'time': 1625027636.2946472}\n",
      "{'BCPU-therm': 51.0,\n",
      " 'GPU-therm': 49.5,\n",
      " 'MCPU-therm': 51.0,\n",
      " 'Tboard_tegra': 48.0,\n",
      " 'Tdiode_tegra': 48.5,\n",
      " 'avg_temp': 49.73333333333333,\n",
      " 'network': {'192.168.0.100': {'latency': 301.0},\n",
      "             '192.168.0.102': {'latency': 271.0}},\n",
      " 'thermal-fan-est': 50.4,\n",
      " 'time': 1625027745.184241}\n"
     ]
    }
   ],
   "source": [
    "N        =  2\n",
    "N_retry  =  1 # Number of max tries per trial (including original)\n",
    "stpSleep =  8\n",
    "divSleep = 30\n",
    "div      =  5\n",
    "j        =  1\n",
    "checks   = list()\n",
    "chkHosts  = ['192.168.0.102', '192.168.0.100'] # Ping PC+FT to gauge net health\n",
    "ft_host   = chkHosts[1]\n",
    "\n",
    "from time import sleep\n",
    "\n",
    "for i in range( 1 , N+1 ):\n",
    "    \n",
    "    try:\n",
    "        \n",
    "        print( \"Iteration\" , i , \"of\" , N )\n",
    "        \n",
    "        # 6. Sleep for human reset\n",
    "        if i > 1:\n",
    "            sleep( stpSleep )\n",
    "\n",
    "        # 3. Release\n",
    "        robot.hand.release()\n",
    "        \n",
    "        # 1. Reset tree\n",
    "\n",
    "        # Only perturb for half of the trials\n",
    "        if i%2==1:\n",
    "            nudge = 0.002\n",
    "#             nudge = 0.004\n",
    "        else:\n",
    "            nudge = 0.000\n",
    "        print( \"\\nUsing nudge:\", nudge, '\\n' )\n",
    "        \n",
    "        rootNode = SpiralRecoveryLoop_Simple( Ntries = N_retry, ctrl = robot, perturbRad = nudge )\n",
    "        \n",
    "        # 2. Run tree and generate recording\n",
    "        run_BT_until_done( rootNode, N = 5000, tickPause = 0.25, \n",
    "                           breakOnFailure = 1, breakOnSuccess = 1, Nverb = 1000 )\n",
    "        \n",
    "        # 3. Release\n",
    "        robot.hand.set_finger_width( 0.050 ) \n",
    "        \n",
    "        # 4. Deactivate motors\n",
    "        robot.hand.deactivate_motors()\n",
    "        \n",
    "        # 5. Move to safe position\n",
    "        robot.arm.move( safeCenterPose )\n",
    "        \n",
    "        rootNode.arrange_logs_and_write()\n",
    "        \n",
    "        checks.append( \n",
    "            network_thermal_health( remoteHosts=chkHosts ) # Ping optoforce raspi\n",
    "        )\n",
    "        \n",
    "        if i%div==0:\n",
    "            sleep( divSleep )\n",
    "            \n",
    "        rootNode = None\n",
    "\n",
    "    except KeyboardInterrupt:\n",
    "        print( \"Pipeline was STOPPED by user at iteration\" , i+1 )\n",
    "        break\n",
    "        \n",
    "#     if i > N:\n",
    "#         break\n",
    "    \n",
    "\n",
    "for chk in checks:\n",
    "    pprint( chk )"
   ]
  },
  {
   "cell_type": "markdown",
   "metadata": {},
   "source": [
    "# Tilt Insert: Shaft Recording"
   ]
  },
  {
   "cell_type": "code",
   "execution_count": null,
   "metadata": {},
   "outputs": [],
   "source": [
    "from py_trees.decorators import SuccessIsFailure\n",
    "from py_trees.timers import Timer\n",
    "from pathlib import Path\n",
    "import operator\n",
    "\n",
    "statusKey = \"insertStatus\" # The name of the current logfile will go here\n",
    "latchAll  = 0\n",
    "\n",
    "# ASMBB.set( eventKey, \"test.txt\" )\n",
    "\n",
    "# class TiltRecoveryLoop_Simple( Run_to_X_Failures_DECO ):\n",
    "class TiltRecoveryLoop_Simple( py_trees.composites.Sequence ):\n",
    "    \"\"\" Tree for retrying Spiral Insertion until it succeeds, No monitoring \"\"\"\n",
    "    \n",
    "    def setup( self ):\n",
    "        \"\"\" Create a log file when the experiment begins \"\"\"\n",
    "        self.logPath = self.logPathGen()\n",
    "        print( \"Run log stored in\" , self.logPath )\n",
    "        \n",
    "    def arrange_logs_and_write( self ):\n",
    "        \"\"\" Gather everything that was logged, arrange in chrono order, and write to CSV \"\"\"\n",
    "        events = []\n",
    "        for log in self.logs:\n",
    "            events.extend( log.log )\n",
    "            \n",
    "         #  7. Define a timestamp comparison for sorting rows of data\n",
    "        func = operator.itemgetter(0)\n",
    "        def floatGetter(s):\n",
    "            return float(func(s))\n",
    "\n",
    "        #  8. Sort data \n",
    "        sortedEvents = sorted( events, key = floatGetter )\n",
    "        \n",
    "        with open( self.logPath, 'w', newline='') as csvfile:\n",
    "            csvWriter = csv.writer( csvfile )\n",
    "            csvWriter.writerows( sortedEvents )\n",
    "    \n",
    "    def __init__( self, Ntries, dwellTime = 10.0, ctrl = None ):\n",
    "        \"\"\" Create a tree \"\"\"\n",
    "        \n",
    "        #### Setup ####\n",
    "        \n",
    "        # 0. Main loop should monitor continuously\n",
    "        super().__init__( name = \"Tilt Insert Loop\", memory = 0 )\n",
    "        \n",
    "        self.zSAFE          = 0.100\n",
    "        self.plungeDistance = 1.5 * self.zSAFE\n",
    "        self.setdownForce   = 1.0\n",
    "        self.descendSpeed   = 0.045\n",
    "        self.biasWrist      = 1\n",
    "        self.Ntries         = Ntries\n",
    "        self.logs           = list()\n",
    "        self.logPath        = None\n",
    "        self.logPathGen     = get_outfile_namer( pathPrefix = \"output/\" , \n",
    "                                                 namePrefix = \"SHAFT-TLT-EVENT-LOG\",\n",
    "                                                 filePostfix = \"txt\" )\n",
    "        \n",
    "        \n",
    "        #### Monitor Subtree ####\n",
    "        \n",
    "        recordBehav = Record_Classify( \n",
    "            recordFlagKey = \"test_FLAG\" , dataKey = \"test_DATA\" , labelKey = statusKey , \n",
    "            outFileGenFunc = get_outfile_namer( pathPrefix = \"output/\" , \n",
    "                                                    namePrefix = \"SHAFT-TLT\" ),\n",
    "            recordHz = DATA_RATE , ctrl = ctrl \n",
    "        )\n",
    "        \n",
    "        self.add_child( recordBehav )\n",
    "        \n",
    "        \n",
    "        #### Experiment Subtree ####\n",
    "        \n",
    "        ### Fetch Subtree ###\n",
    "        fetchTree = Sequence( memory = 1 )\n",
    "        \n",
    "        print( dir( self ) ) \n",
    "        \n",
    "        pickBgn = EventLogger( msgOrGen = \"Pick:Begin\", latch = latchAll )\n",
    "        self.logs.append( pickBgn )\n",
    "        \n",
    "        #  1. Go to pickup pose\n",
    "        goBehav = Jog_Safe( shaftGraspPose , \n",
    "                            zSAFE = self.zSAFE ,  \n",
    "                            hover = 1 ,  \n",
    "                            ctrl  = ctrl  )\n",
    "\n",
    "        #  2. Pre-close around the shaft\n",
    "        closeBehav = Set_Fingers( openState = 0.040 , ctrl = ctrl )   \n",
    "\n",
    "        #  3. Grasp shaft\n",
    "        graspBehav = Grasp_at_Pose( shaftGraspPose, 0.015 ,\n",
    "                                    zApproach=0.050 , zClose=0.0 , wdthNarrow = 0.030 , maxIter=5, zFree=0.100 , \n",
    "                                    ctrl = ctrl )\n",
    "\n",
    "        #  4. Goto pre-insertion pose\n",
    "        jogBehav = Jog_Safe( shaftPreInsertPose , \n",
    "                             zSAFE = self.zSAFE ,  \n",
    "                             hover = 0 ,  \n",
    "                             ctrl  = ctrl  )\n",
    "        \n",
    "        pickEnd = EventLogger( msgOrGen = \"Pick:End\", latch = latchAll )\n",
    "        self.logs.append( pickEnd )\n",
    "        \n",
    "        fetchTree.add_children( [ pickBgn, goBehav, closeBehav, graspBehav, jogBehav, pickEnd ] )\n",
    "        \n",
    "        \n",
    "        ### Shortcut Subtree ### \n",
    "        shortTree = Selector( memory = 1 )\n",
    "        shortSeq  = Sequence( memory = 1 )\n",
    "        \n",
    "        #  5. TODO: SHORTCUT HERE (Monitored Version Only)\n",
    "        \n",
    "        waitBehav = Timer( name=\"Wait for WRITE\", duration=2.0)\n",
    "        \n",
    "        #  6. Sibling to the actual insertion subtree kicks off a thread for recording\n",
    "        \n",
    "        insertBgn = EventLogger( msgOrGen = \"Insert:Begin\", latch = latchAll )\n",
    "        self.logs.append( insertBgn )\n",
    "        \n",
    "        \n",
    "        #  7. Insertion behavior\n",
    "        tiltBehav = Tilt_Insert( shaftPreInsertPose ,\n",
    "                                 tilt_angle_deg = 7.25 , part_offset = 0.016 , dia = 0.015 , \n",
    "                                 touch_force = 0.6 , insert_force = 1.5 , max_movement = 0.045 , \n",
    "                                 biasWrist = 1 , offset_dir = np.array( [ 1.0, 0.0, 0.0 ] ), \n",
    "                                 posnMargin = 0.003 , orntMargin = 2.0/180 , \n",
    "                                 finalInsertHandZ = fatPegFullInsertZ , \n",
    "                                 recordFlagKey = \"test_FLAG\" ,\n",
    "                                 dropSpeed = 0.0313 , ctrl = ctrl )\n",
    "        tiltStatus = Store_Subtree_Status( tiltBehav, statusKey )\n",
    "        \n",
    "        insertEnd = EventLogger( msgOrGen = \"Insert:End\", latch = latchAll )\n",
    "        self.logs.append( insertEnd )\n",
    "        \n",
    "        \n",
    "#         shortSeq.add_children( [waitBehav, insertBgn, tiltBehav, insertEnd] )\n",
    "        shortSeq.add_children( [waitBehav, insertBgn, tiltStatus, insertEnd] )\n",
    "#         shortSeq.add_children( [tiltBehav, waitBehav, ] )\n",
    "#         shortSeq.add_children( [recordBehav, tiltBehav] )\n",
    "        shortTree.add_children( [ shortSeq, insertEnd ] )\n",
    "        \n",
    "        ### Reset Subtree ###\n",
    "        resetTree = Sequence( memory = 1 )\n",
    "        \n",
    "        resetBgn = EventLogger( msgOrGen = \"Reset:Begin\", latch = latchAll )\n",
    "        self.logs.append( resetBgn )\n",
    "        \n",
    "        \n",
    "        #  8. Goto pickup pose \"goBehav\"\n",
    "        \n",
    "        #  9. Move the shaft gently to the table\n",
    "        placeBehav = Move_to_Contact( relMove = [ 0 , 0 , -self.plungeDistance ] , \n",
    "                                      Fmag = self.setdownForce , speed = self.descendSpeed , \n",
    "                                      accel = 0.17,\n",
    "                                      biasWrist = self.biasWrist , ctrl = ctrl )\n",
    "        \n",
    "        \n",
    "        #  9. Drop, whether we won or not\n",
    "        dropBehav = Set_Fingers( openState = 1.0 , ctrl = ctrl )\n",
    "        \n",
    "        resetEnd = EventLogger( msgOrGen = \"Reset:End\", latch = latchAll )\n",
    "        self.logs.append( resetEnd )\n",
    "        \n",
    "        \n",
    "        # 10. Construct the reset subtree\n",
    "        resetTree.add_children( [resetBgn, goBehav, placeBehav, dropBehav, resetEnd] )\n",
    "        \n",
    "        \n",
    "        #### Main Retry Loop ####\n",
    "        \n",
    "        #  0. Create the main MC driver\n",
    "        experimentTree = py_trees.composites.Sequence( memory = 1 )\n",
    "        experimentRoot = py_trees.composites.Selector( memory = 1 )\n",
    "        \n",
    "        \n",
    "        #  1. Add the decorator\n",
    "        retryLoop = Run_to_X_Failures_DECO(  \n",
    "            experimentRoot ,\n",
    "            X_allowedFails = Ntries\n",
    "        )\n",
    "        \n",
    "        ### Success Subtree ###\n",
    "        successTree = Sequence( memory = 1 )\n",
    "        successTree.add_children( [goBehav, placeBehav, dropBehav] )\n",
    "        \n",
    "        # We can only reach the successtree after winning the retryLoop\n",
    "        experimentTree.add_children( [retryLoop, successTree] )\n",
    "        self.add_child( experimentTree )\n",
    "\n",
    "        # 11. Add the record/insert/reset siblings as children\n",
    "        experimentRoot.add_children( [\n",
    "            SuccessIsFailure( fetchTree ), \n",
    "#             shortSeq, \n",
    "#             SuccessIsFailure( shortSeq ), \n",
    "            shortSeq,\n",
    "            SuccessIsFailure( resetTree ),\n",
    "        ] )\n",
    "        \n",
    "        \n",
    "        \n",
    "    "
   ]
  },
  {
   "cell_type": "markdown",
   "metadata": {},
   "source": [
    "# Tilt Insert Pipeline"
   ]
  },
  {
   "cell_type": "code",
   "execution_count": 4,
   "metadata": {},
   "outputs": [
    {
     "name": "stdout",
     "output_type": "stream",
     "text": [
      "Iteration 1 of 3\n",
      "['Ntries', '_DEBUG', '__class__', '__delattr__', '__dict__', '__dir__', '__doc__', '__eq__', '__format__', '__ge__', '__getattribute__', '__gt__', '__hash__', '__init__', '__le__', '__lt__', '__module__', '__ne__', '__new__', '__reduce__', '__reduce_ex__', '__repr__', '__setattr__', '__sizeof__', '__str__', '__subclasshook__', '__weakref__', 'add_child', 'add_children', 'arrange_logs_and_write', 'attach_blackboard_client', 'biasWrist', 'blackboards', 'blackbox_level', 'children', 'current_child', 'current_index', 'descendSpeed', 'feedback_message', 'has_parent_with_instance_type', 'has_parent_with_name', 'id', 'initialise', 'insert_child', 'iterate', 'iterator', 'logPath', 'logPathGen', 'logger', 'logs', 'memory', 'name', 'parent', 'plungeDistance', 'prepend_child', 'qualified_name', 'remove_all_children', 'remove_child', 'remove_child_by_id', 'replace_child', 'setdownForce', 'setup', 'setup_subtree', 'setup_with_descendants', 'shutdown', 'status', 'stop', 'terminate', 'tick', 'tick_once', 'tip', 'tree', 'update', 'verbose_info_string', 'visit', 'zSAFE']\n",
      "About to run <__main__.TiltRecoveryLoop_Simple object at 0x7f44028c50> : Tilt Insert Loop at 2021-04-08_14-30-54 with 4.0 Hz update frequency ...\n",
      "Run log stored in output/SHAFT-TLT-EVENT-LOG_2021-04-08_14-30-54.txt\n",
      "Running ...\n",
      "\n",
      "Set_BB_Key: Set key:val - test_FLAG : True\n",
      "Set_BB_Key: Set key:val - test_FLAG : False\n",
      "About the start the thread\n",
      "Thread 546477928960 detach_and_record_XML: Started thread 546477928960 was asked to write output/SHAFT-TLT_2021-04-08_14-31-14.xml\n",
      "waiting for response ...\n",
      "detach_and_record_XML: Last run was 27.67485761642456 seconds ago\n",
      "Wrote output/SHAFT-TLT_2021-04-08_14-31-14.xml !\n",
      "\n",
      "--------- Tick 100 ---------\n",
      "\n",
      "Root node, Name: Tilt Insert Loop , Status: Status.RUNNING\n",
      "\n",
      "\n",
      "[-] Tilt Insert Loop [*]\n",
      "    --> Record_Classify [o]\n",
      "    [-] Sequence [*]\n",
      "        -^- Run_to_X_Failures_DECO [o]\n",
      "            [o] Selector [o]\n",
      "                -^- SuccessIsFailure [x] -- success is failure\n",
      "                    [-] Sequence [o]\n",
      "                        --> EventLogger [o]\n",
      "                        [-] Jog_Safe [*]\n",
      "                            --> Move_Arm [o]\n",
      "                            --> Move_Arm [*]\n",
      "                        --> Set_Fingers [o]\n",
      "                        [-] Grasp_at_Pose [o]\n",
      "                            --> Move_Arm [o]\n",
      "                            --> Set_Fingers [o]\n",
      "                            --> Move_Arm [o]\n",
      "                            --> Bias_Wrist [o]\n",
      "                            --> Set_Fingers [o]\n",
      "                            --> Set_Grip_Torque [o]\n",
      "                            --> Move_Arm [o]\n",
      "                            --> Finger_Width_COND [o]\n",
      "                        [-] Jog_Safe [o]\n",
      "                            --> Move_Arm [o]\n",
      "                            --> Move_Arm [o]\n",
      "                            --> Move_Arm [o]\n",
      "                        --> EventLogger [o]\n",
      "                [-] Sequence [o]\n",
      "                    --> Wait for WRITE [o] -- timer ran out [2.0]\n",
      "                    --> EventLogger [o]\n",
      "                    -^- Store_Subtree_Status [o]\n",
      "                        [-] Tilt_Insert [o]\n",
      "                            --> COND_At_TCP_Pose [o]\n",
      "                            --> Move_Arm [o]\n",
      "                            --> Move_to_Contact [o]\n",
      "                            --> Set_BB_Key [o]\n",
      "                            --> Move_Arm_Relative [o]\n",
      "                            --> Move_Arm_Relative [o]\n",
      "                            --> Move_to_Contact [o]\n",
      "                            --> Set_BB_Key [o]\n",
      "                            --> At_Z_Level_COND [o]\n",
      "                    --> EventLogger [o]\n",
      "                -^- SuccessIsFailure [-]\n",
      "                    [-] Sequence [-]\n",
      "                        --> EventLogger [-]\n",
      "                        [-] Jog_Safe [*]\n",
      "                            --> Move_Arm [o]\n",
      "                            --> Move_Arm [*]\n",
      "                        --> Move_to_Contact [-]\n",
      "                        --> Set_Fingers [-]\n",
      "                        --> EventLogger [-]\n",
      "        [-] Sequence [*]\n",
      "            [-] Jog_Safe [*]\n",
      "                --> Move_Arm [o]\n",
      "                --> Move_Arm [*]\n",
      "            --> Move_to_Contact [-]\n",
      "            --> Set_Fingers [-]\n",
      "\n",
      "Root node Tilt Insert Loop succeeded!\n",
      "\n",
      "\n",
      "Run completed! with status: Status.SUCCESS \n",
      "\n",
      "\n",
      "Root node Tilt Insert Loop was killed by the running script!\n",
      "Iteration 2 of 3\n",
      "['Ntries', '_DEBUG', '__class__', '__delattr__', '__dict__', '__dir__', '__doc__', '__eq__', '__format__', '__ge__', '__getattribute__', '__gt__', '__hash__', '__init__', '__le__', '__lt__', '__module__', '__ne__', '__new__', '__reduce__', '__reduce_ex__', '__repr__', '__setattr__', '__sizeof__', '__str__', '__subclasshook__', '__weakref__', 'add_child', 'add_children', 'arrange_logs_and_write', 'attach_blackboard_client', 'biasWrist', 'blackboards', 'blackbox_level', 'children', 'current_child', 'current_index', 'descendSpeed', 'feedback_message', 'has_parent_with_instance_type', 'has_parent_with_name', 'id', 'initialise', 'insert_child', 'iterate', 'iterator', 'logPath', 'logPathGen', 'logger', 'logs', 'memory', 'name', 'parent', 'plungeDistance', 'prepend_child', 'qualified_name', 'remove_all_children', 'remove_child', 'remove_child_by_id', 'replace_child', 'setdownForce', 'setup', 'setup_subtree', 'setup_with_descendants', 'shutdown', 'status', 'stop', 'terminate', 'tick', 'tick_once', 'tip', 'tree', 'update', 'verbose_info_string', 'visit', 'zSAFE']\n",
      "About to run <__main__.TiltRecoveryLoop_Simple object at 0x7f7c159dd8> : Tilt Insert Loop at 2021-04-08_14-31-40 with 4.0 Hz update frequency ...\n",
      "Run log stored in output/SHAFT-TLT-EVENT-LOG_2021-04-08_14-31-40.txt\n",
      "Running ...\n",
      "\n",
      "Set_BB_Key: Set key:val - test_FLAG : True\n",
      "Set_BB_Key: Set key:val - test_FLAG : False\n",
      "About the start the thread\n",
      "Thread 546477928960 was asked to write output/SHAFT-TLT_2021-04-08_14-32-00.xml\n",
      "detach_and_record_XML: Started thread 546477928960 waiting for response ...\n",
      "detach_and_record_XML: Last run was 46.14119029045105 seconds ago\n",
      "Wrote output/SHAFT-TLT_2021-04-08_14-32-00.xml !\n",
      "\n",
      "--------- Tick 100 ---------\n",
      "\n",
      "Root node, Name: Tilt Insert Loop , Status: Status.RUNNING\n",
      "\n",
      "\n",
      "[-] Tilt Insert Loop [*]\n",
      "    --> Record_Classify [o]\n",
      "    [-] Sequence [*]\n",
      "        -^- Run_to_X_Failures_DECO [o]\n",
      "            [o] Selector [o]\n",
      "                -^- SuccessIsFailure [x] -- success is failure\n",
      "                    [-] Sequence [o]\n",
      "                        --> EventLogger [o]\n",
      "                        [-] Jog_Safe [*]\n",
      "                            --> Move_Arm [o]\n",
      "                            --> Move_Arm [*]\n",
      "                        --> Set_Fingers [o]\n",
      "                        [-] Grasp_at_Pose [o]\n",
      "                            --> Move_Arm [o]\n",
      "                            --> Set_Fingers [o]\n",
      "                            --> Move_Arm [o]\n",
      "                            --> Bias_Wrist [o]\n",
      "                            --> Set_Fingers [o]\n",
      "                            --> Set_Grip_Torque [o]\n",
      "                            --> Move_Arm [o]\n",
      "                            --> Finger_Width_COND [o]\n",
      "                        [-] Jog_Safe [o]\n",
      "                            --> Move_Arm [o]\n",
      "                            --> Move_Arm [o]\n",
      "                            --> Move_Arm [o]\n",
      "                        --> EventLogger [o]\n",
      "                [-] Sequence [o]\n",
      "                    --> Wait for WRITE [o] -- timer ran out [2.0]\n",
      "                    --> EventLogger [o]\n",
      "                    -^- Store_Subtree_Status [o]\n",
      "                        [-] Tilt_Insert [o]\n",
      "                            --> COND_At_TCP_Pose [o]\n",
      "                            --> Move_Arm [o]\n",
      "                            --> Move_to_Contact [o]\n",
      "                            --> Set_BB_Key [o]\n",
      "                            --> Move_Arm_Relative [o]\n",
      "                            --> Move_Arm_Relative [o]\n",
      "                            --> Move_to_Contact [o]\n",
      "                            --> Set_BB_Key [o]\n",
      "                            --> At_Z_Level_COND [o]\n",
      "                    --> EventLogger [o]\n",
      "                -^- SuccessIsFailure [-]\n",
      "                    [-] Sequence [-]\n",
      "                        --> EventLogger [-]\n",
      "                        [-] Jog_Safe [*]\n",
      "                            --> Move_Arm [o]\n",
      "                            --> Move_Arm [*]\n",
      "                        --> Move_to_Contact [-]\n",
      "                        --> Set_Fingers [-]\n",
      "                        --> EventLogger [-]\n",
      "        [-] Sequence [*]\n",
      "            [-] Jog_Safe [*]\n",
      "                --> Move_Arm [o]\n",
      "                --> Move_Arm [*]\n",
      "            --> Move_to_Contact [-]\n",
      "            --> Set_Fingers [-]\n",
      "\n",
      "Root node Tilt Insert Loop succeeded!\n",
      "\n",
      "\n",
      "Run completed! with status: Status.SUCCESS \n",
      "\n",
      "\n",
      "Root node Tilt Insert Loop was killed by the running script!\n",
      "Iteration 3 of 3\n",
      "['Ntries', '_DEBUG', '__class__', '__delattr__', '__dict__', '__dir__', '__doc__', '__eq__', '__format__', '__ge__', '__getattribute__', '__gt__', '__hash__', '__init__', '__le__', '__lt__', '__module__', '__ne__', '__new__', '__reduce__', '__reduce_ex__', '__repr__', '__setattr__', '__sizeof__', '__str__', '__subclasshook__', '__weakref__', 'add_child', 'add_children', 'arrange_logs_and_write', 'attach_blackboard_client', 'biasWrist', 'blackboards', 'blackbox_level', 'children', 'current_child', 'current_index', 'descendSpeed', 'feedback_message', 'has_parent_with_instance_type', 'has_parent_with_name', 'id', 'initialise', 'insert_child', 'iterate', 'iterator', 'logPath', 'logPathGen', 'logger', 'logs', 'memory', 'name', 'parent', 'plungeDistance', 'prepend_child', 'qualified_name', 'remove_all_children', 'remove_child', 'remove_child_by_id', 'replace_child', 'setdownForce', 'setup', 'setup_subtree', 'setup_with_descendants', 'shutdown', 'status', 'stop', 'terminate', 'tick', 'tick_once', 'tip', 'tree', 'update', 'verbose_info_string', 'visit', 'zSAFE']\n",
      "About to run <__main__.TiltRecoveryLoop_Simple object at 0x7f783e5d30> : Tilt Insert Loop at 2021-04-08_14-32-26 with 4.0 Hz update frequency ...\n",
      "Run log stored in output/SHAFT-TLT-EVENT-LOG_2021-04-08_14-32-26.txt\n",
      "Running ...\n",
      "\n",
      "Set_BB_Key: Set key:val - test_FLAG : True\n",
      "Set_BB_Key: Set key:val - test_FLAG : False\n",
      "About the start the thread\n",
      "Threaddetach_and_record_XML: Started thread 546477928960 waiting for response ...\n",
      "detach_and_record_XML: Last run was 45.695276737213135 seconds ago\n",
      " 546477928960 was asked to write output/SHAFT-TLT_2021-04-08_14-32-46.xml\n",
      "Wrote output/SHAFT-TLT_2021-04-08_14-32-46.xml !\n",
      "\n",
      "--------- Tick 100 ---------\n",
      "\n",
      "Root node, Name: Tilt Insert Loop , Status: Status.RUNNING\n",
      "\n",
      "\n",
      "[-] Tilt Insert Loop [*]\n",
      "    --> Record_Classify [o]\n",
      "    [-] Sequence [*]\n",
      "        -^- Run_to_X_Failures_DECO [o]\n",
      "            [o] Selector [o]\n",
      "                -^- SuccessIsFailure [x] -- success is failure\n",
      "                    [-] Sequence [o]\n",
      "                        --> EventLogger [o]\n",
      "                        [-] Jog_Safe [o]\n",
      "                            --> Move_Arm [o]\n",
      "                            --> Move_Arm [o]\n",
      "                        --> Set_Fingers [o]\n",
      "                        [-] Grasp_at_Pose [o]\n",
      "                            --> Move_Arm [o]\n",
      "                            --> Set_Fingers [o]\n",
      "                            --> Move_Arm [o]\n",
      "                            --> Bias_Wrist [o]\n",
      "                            --> Set_Fingers [o]\n",
      "                            --> Set_Grip_Torque [o]\n",
      "                            --> Move_Arm [o]\n",
      "                            --> Finger_Width_COND [o]\n",
      "                        [-] Jog_Safe [o]\n",
      "                            --> Move_Arm [o]\n",
      "                            --> Move_Arm [o]\n",
      "                            --> Move_Arm [o]\n",
      "                        --> EventLogger [o]\n",
      "                [-] Sequence [o]\n",
      "                    --> Wait for WRITE [o] -- timer ran out [2.0]\n",
      "                    --> EventLogger [o]\n",
      "                    -^- Store_Subtree_Status [o]\n",
      "                        [-] Tilt_Insert [o]\n",
      "                            --> COND_At_TCP_Pose [o]\n",
      "                            --> Move_Arm [o]\n",
      "                            --> Move_to_Contact [o]\n",
      "                            --> Set_BB_Key [o]\n",
      "                            --> Move_Arm_Relative [o]\n",
      "                            --> Move_Arm_Relative [o]\n",
      "                            --> Move_to_Contact [o]\n",
      "                            --> Set_BB_Key [o]\n",
      "                            --> At_Z_Level_COND [o]\n",
      "                    --> EventLogger [o]\n",
      "                -^- SuccessIsFailure [-]\n",
      "                    [-] Sequence [-]\n",
      "                        --> EventLogger [-]\n",
      "                        [-] Jog_Safe [o]\n",
      "                            --> Move_Arm [o]\n",
      "                            --> Move_Arm [o]\n",
      "                        --> Move_to_Contact [o]\n",
      "                        --> Set_Fingers [*]\n",
      "                        --> EventLogger [-]\n",
      "        [-] Sequence [*]\n",
      "            [-] Jog_Safe [o]\n",
      "                --> Move_Arm [o]\n",
      "                --> Move_Arm [o]\n",
      "            --> Move_to_Contact [o]\n",
      "            --> Set_Fingers [*]\n",
      "\n",
      "Root node Tilt Insert Loop succeeded!\n",
      "\n",
      "\n",
      "Run completed! with status: Status.SUCCESS \n",
      "\n",
      "\n",
      "Root node Tilt Insert Loop was killed by the running script!\n"
     ]
    }
   ],
   "source": [
    "N        =  3\n",
    "divSleep =  5\n",
    "t_sleep  =  5\n",
    "j        =  1\n",
    "\n",
    "N_sleep = int( N / divSleep )\n",
    "\n",
    "from time import sleep\n",
    "\n",
    "for i in range( 1 , N+1 ):\n",
    "    \n",
    "    try:\n",
    "        \n",
    "        print( \"Iteration\" , i , \"of\" , N )\n",
    "        \n",
    "        # 6. Sleep for human reset\n",
    "        if i > 1:\n",
    "            sleep( divSleep )\n",
    "        \n",
    "        # 1. Reset tree\n",
    "#         rootNode = get_shaft_insert_tree()\n",
    "        rootNode = TiltRecoveryLoop_Simple( Ntries = 3, ctrl = robot )\n",
    "        \n",
    "        # 2. Run tree and generate recording\n",
    "        run_BT_until_done( rootNode, N = 1000, tickPause = 0.25, \n",
    "                           breakOnFailure = 1, breakOnSuccess = 1, Nverb = 0 )\n",
    "        \n",
    "        # 3. Release\n",
    "        robot.hand.release()\n",
    "        \n",
    "        # 4. Deactivate motors\n",
    "        robot.hand.deactivate_motors()\n",
    "        \n",
    "        # 5. Move to safe position\n",
    "        robot.arm.move( safeCenterPose )\n",
    "            \n",
    "        rootNode.arrange_logs_and_write()\n",
    "\n",
    "    except KeyboardInterrupt:\n",
    "        print( \"Pipeline was STOPPED by user at iteration\" , i+1 )\n",
    "        break"
   ]
  },
  {
   "cell_type": "markdown",
   "metadata": {},
   "source": [
    "# Common Functions"
   ]
  },
  {
   "cell_type": "code",
   "execution_count": 5,
   "metadata": {},
   "outputs": [
    {
     "data": {
      "text/plain": [
       "True"
      ]
     },
     "execution_count": 5,
     "metadata": {},
     "output_type": "execute_result"
    }
   ],
   "source": [
    "robot.arm.align_tcp( )"
   ]
  },
  {
   "cell_type": "code",
   "execution_count": 19,
   "metadata": {},
   "outputs": [
    {
     "data": {
      "text/plain": [
       "True"
      ]
     },
     "execution_count": 19,
     "metadata": {},
     "output_type": "execute_result"
    }
   ],
   "source": [
    "robot.hand.grip()"
   ]
  },
  {
   "cell_type": "code",
   "execution_count": null,
   "metadata": {},
   "outputs": [],
   "source": [
    "robot.hand.release()"
   ]
  },
  {
   "cell_type": "code",
   "execution_count": 6,
   "metadata": {},
   "outputs": [
    {
     "data": {
      "text/plain": [
       "True"
      ]
     },
     "execution_count": 6,
     "metadata": {},
     "output_type": "execute_result"
    }
   ],
   "source": [
    "robot.hand.set_finger_width( 0.040 ) "
   ]
  },
  {
   "cell_type": "code",
   "execution_count": null,
   "metadata": {},
   "outputs": [],
   "source": [
    "robot.arm.move( wheelGraspPose )"
   ]
  },
  {
   "cell_type": "code",
   "execution_count": null,
   "metadata": {},
   "outputs": [],
   "source": [
    "print( robot.arm.get_tcp_pose() )\n",
    "print( robot.arm.get_tcp_pose()[2,3] )\n",
    "print( baseTouchPoseZ )"
   ]
  },
  {
   "cell_type": "code",
   "execution_count": null,
   "metadata": {},
   "outputs": [],
   "source": [
    "robot.ft.get_wrist_force()"
   ]
  },
  {
   "cell_type": "code",
   "execution_count": null,
   "metadata": {},
   "outputs": [],
   "source": [
    "robot.hand.deactivate_motors()"
   ]
  },
  {
   "cell_type": "code",
   "execution_count": null,
   "metadata": {},
   "outputs": [],
   "source": [
    "robot.hand.zero_fingers()"
   ]
  },
  {
   "cell_type": "markdown",
   "metadata": {},
   "source": [
    "# Setup"
   ]
  },
  {
   "cell_type": "markdown",
   "metadata": {},
   "source": [
    "## Behavior: Move to Contact"
   ]
  },
  {
   "cell_type": "code",
   "execution_count": 15,
   "metadata": {},
   "outputs": [
    {
     "name": "stdout",
     "output_type": "stream",
     "text": [
      "FT before the behavior: [-0.7564454078674316, 4.411328315734863, -1.97247314453125, -0.35438072681427, -0.0849374532699585, -0.12160936743021011]\n",
      "Root node Move_to_Contact succeeded!\n",
      "\n",
      "\n",
      "Simulation completed! with status rootNode.status \n",
      "\n",
      "\n",
      "FT After the behavior: [0.8244140148162842, -0.09648436307907104, -13.484954833984375, 0.025869131088256836, 0.23348236083984375, -0.008314445614814758]\n"
     ]
    }
   ],
   "source": [
    "rootNode =  Move_to_Contact( Fmag = 2.5 , relMove = [0.000, 0.000, -0.100] , biasWrist = 1 , \n",
    "                         mode = 'l' , speed = 0.0625 , accel = 0.17 , ctrl = robot )\n",
    "print( \"FT before the behavior:\" , robot.ft.get_wrist_force() )\n",
    "run_BT_until_done( rootNode , N = 1000 , tickPause = 0.25 , breakOnFailure = 1 , breakOnSuccess = 1 )\n",
    "print( \"FT After the behavior:\" , robot.ft.get_wrist_force() )"
   ]
  },
  {
   "cell_type": "markdown",
   "metadata": {},
   "source": [
    "## Behavior: Relieve Wrist Torque"
   ]
  },
  {
   "cell_type": "code",
   "execution_count": 18,
   "metadata": {},
   "outputs": [
    {
     "name": "stdout",
     "output_type": "stream",
     "text": [
      "FT before the behavior: [0.22441411018371582, -0.2964843511581421, -11.6849365234375, 0.04186904430389404, 0.12548232078552246, -0.005314454436302185]\n",
      "Root node Minimize_Wrist_Torque_XY succeeded!\n",
      "\n",
      "\n",
      "Simulation completed! with status rootNode.status \n",
      "\n",
      "\n",
      "FT After the behavior: [-1.375585913658142, -0.396484375, -11.6849365234375, 0.04386913776397705, -0.11851763725280762, -0.00931444764137268]\n"
     ]
    }
   ],
   "source": [
    "rootNode =  Minimize_Wrist_Torque_XY( numTrials = 30 , marginT=0.05 , moveStep=0.0005  , ctrl = robot )\n",
    "print( \"FT before the behavior:\" , robot.ft.get_wrist_force() )\n",
    "run_BT_until_done( rootNode , N = 1000 , tickPause = 0.25 , breakOnFailure = 1 , breakOnSuccess = 1 )\n",
    "print( \"FT After the behavior:\" , robot.ft.get_wrist_force() )\n"
   ]
  },
  {
   "cell_type": "markdown",
   "metadata": {},
   "source": [
    "## Setup Actions"
   ]
  },
  {
   "cell_type": "code",
   "execution_count": 2,
   "metadata": {},
   "outputs": [],
   "source": [
    "robot.arm.move( wheelGraspPose )"
   ]
  },
  {
   "cell_type": "code",
   "execution_count": 5,
   "metadata": {},
   "outputs": [],
   "source": [
    "robot.arm.move( wheelPreInsertPose )"
   ]
  },
  {
   "cell_type": "code",
   "execution_count": 5,
   "metadata": {},
   "outputs": [
    {
     "data": {
      "text/plain": [
       "True"
      ]
     },
     "execution_count": 5,
     "metadata": {},
     "output_type": "execute_result"
    }
   ],
   "source": [
    "robot.arm.align_tcp()"
   ]
  },
  {
   "cell_type": "code",
   "execution_count": 7,
   "metadata": {},
   "outputs": [
    {
     "data": {
      "text/plain": [
       "True"
      ]
     },
     "execution_count": 7,
     "metadata": {},
     "output_type": "execute_result"
    }
   ],
   "source": [
    "robot.hand.set_finger_width( 0.040 ) "
   ]
  },
  {
   "cell_type": "code",
   "execution_count": 14,
   "metadata": {},
   "outputs": [
    {
     "data": {
      "text/plain": [
       "True"
      ]
     },
     "execution_count": 14,
     "metadata": {},
     "output_type": "execute_result"
    }
   ],
   "source": [
    "robot.hand.set_finger_width( 0.0 ) "
   ]
  },
  {
   "cell_type": "code",
   "execution_count": 11,
   "metadata": {},
   "outputs": [
    {
     "data": {
      "text/plain": [
       "True"
      ]
     },
     "execution_count": 11,
     "metadata": {},
     "output_type": "execute_result"
    }
   ],
   "source": [
    "robot.hand.set_finger_torque( 0.2 ) "
   ]
  },
  {
   "cell_type": "code",
   "execution_count": 13,
   "metadata": {},
   "outputs": [
    {
     "data": {
      "text/plain": [
       "True"
      ]
     },
     "execution_count": 13,
     "metadata": {},
     "output_type": "execute_result"
    }
   ],
   "source": [
    "robot.hand.set_finger_torque( 1 ) "
   ]
  },
  {
   "cell_type": "code",
   "execution_count": 8,
   "metadata": {},
   "outputs": [
    {
     "data": {
      "text/plain": [
       "True"
      ]
     },
     "execution_count": 8,
     "metadata": {},
     "output_type": "execute_result"
    }
   ],
   "source": [
    "robot.hand.grip()"
   ]
  },
  {
   "cell_type": "code",
   "execution_count": 4,
   "metadata": {},
   "outputs": [
    {
     "name": "stdout",
     "output_type": "stream",
     "text": [
      "['__class__', '__delattr__', '__dict__', '__dir__', '__doc__', '__eq__', '__format__', '__ge__', '__getattribute__', '__gt__', '__hash__', '__init__', '__le__', '__lt__', '__module__', '__ne__', '__new__', '__reduce__', '__reduce_ex__', '__repr__', '__setattr__', '__sizeof__', '__str__', '__subclasshook__', '__weakref__', 'align_tcp', 'arm_default_joint_accel', 'arm_default_joint_speed', 'arm_default_linear_accel', 'arm_default_linear_speed', 'arm_max_joint_accel', 'arm_max_joint_speed', 'arm_max_linear_accel', 'arm_max_linear_speed', 'brake_release', 'common_poses', 'connected', 'disable_freedrive', 'dummy_stop', 'enable_freedrive', 'get_joint_angles', 'get_safety_status_bits', 'get_status_bits', 'get_tcp_force', 'get_tcp_pose', 'get_tcp_pose_vec', 'kill_rtde', 'move', 'move_speed', 'move_timed', 'move_to_common_pose', 'power_off', 'power_on', 'proxy', 'robot_arm_ip', 'rotate_tcp', 'rtde_process', 's', 's_dashboard', 'send_command_to_robot', 'send_script_to_robot', 'set_joint_angles', 'set_joint_angles_speed', 'set_joint_angles_timed', 'set_tool_digital_outputs', 'start_rtde', 'translate_tcp', 'wait_until_robot_is_finished', 'xmlrpc_port']\n"
     ]
    }
   ],
   "source": [
    "print( dir( robot.arm ) )"
   ]
  },
  {
   "cell_type": "markdown",
   "metadata": {},
   "source": [
    "### Gear Poses"
   ]
  },
  {
   "cell_type": "code",
   "execution_count": 9,
   "metadata": {},
   "outputs": [
    {
     "name": "stdout",
     "output_type": "stream",
     "text": [
      "Stored 'wheelGraspPose' (ndarray)\n"
     ]
    }
   ],
   "source": [
    "# wheelGraspPose = robot.-"
   ]
  },
  {
   "cell_type": "code",
   "execution_count": 10,
   "metadata": {},
   "outputs": [],
   "source": [
    "# wheelPostInsertPose = robot.arm.get_tcp_pose()\n",
    "# wheelPostInsertZ = wheelPostInsertPose[2,3]\n",
    "# %store wheelPostInsertPose\n",
    "# %store wheelPostInsertZ"
   ]
  },
  {
   "cell_type": "code",
   "execution_count": 7,
   "metadata": {},
   "outputs": [
    {
     "name": "stdout",
     "output_type": "stream",
     "text": [
      "Stored 'wheelPostInsertPose' (ndarray)\n"
     ]
    }
   ],
   "source": [
    "# wheelPostInsertPose[0,3] += 0.001\n",
    "# wheelPostInsertPose[1,3] += 0.002\n",
    "# %store wheelPostInsertPose"
   ]
  },
  {
   "cell_type": "code",
   "execution_count": 8,
   "metadata": {},
   "outputs": [
    {
     "name": "stdout",
     "output_type": "stream",
     "text": [
      "Stored 'wheelPreInsertPose' (ndarray)\n"
     ]
    }
   ],
   "source": [
    "# wheelPreInsertPose = wheelPostInsertPose.copy()\n",
    "# zApproach = 0.070\n",
    "# wheelPreInsertPose[2,3] += zApproach\n",
    "# %store wheelPreInsertPose"
   ]
  },
  {
   "cell_type": "code",
   "execution_count": null,
   "metadata": {},
   "outputs": [],
   "source": [
    "# wheelPreOffsetYPose = robot.arm.get_tcp_pose()\n",
    "# %store wheelPreOffsetYPose"
   ]
  },
  {
   "cell_type": "code",
   "execution_count": null,
   "metadata": {},
   "outputs": [],
   "source": [
    "# wheelPreOffsetXPose = robot.arm.get_tcp_pose()\n",
    "# %store wheelPreOffsetXPose"
   ]
  },
  {
   "cell_type": "markdown",
   "metadata": {},
   "source": [
    "### Shaft Poses"
   ]
  },
  {
   "cell_type": "code",
   "execution_count": 25,
   "metadata": {},
   "outputs": [
    {
     "name": "stdout",
     "output_type": "stream",
     "text": [
      "Stored 'shaftGraspPose' (ndarray)\n"
     ]
    }
   ],
   "source": [
    "# shaftGraspPose = robot.arm.get_tcp_pose()\n",
    "# %store shaftGraspPose"
   ]
  },
  {
   "cell_type": "code",
   "execution_count": 26,
   "metadata": {},
   "outputs": [
    {
     "name": "stdout",
     "output_type": "stream",
     "text": [
      "Stored 'shaftPreInsertPose' (ndarray)\n"
     ]
    }
   ],
   "source": [
    "# shaftPreInsertPose = robot.arm.get_tcp_pose()\n",
    "# %store shaftPreInsertPose"
   ]
  },
  {
   "cell_type": "markdown",
   "metadata": {},
   "source": [
    "### General Poses"
   ]
  },
  {
   "cell_type": "code",
   "execution_count": 6,
   "metadata": {},
   "outputs": [
    {
     "name": "stdout",
     "output_type": "stream",
     "text": [
      "Stored 'safeCenterPose' (ndarray)\n"
     ]
    }
   ],
   "source": [
    "# safeCenterPose = robot.arm.get_tcp_pose()\n",
    "# %store safeCenterPose"
   ]
  },
  {
   "cell_type": "code",
   "execution_count": 27,
   "metadata": {},
   "outputs": [
    {
     "name": "stdout",
     "output_type": "stream",
     "text": [
      "Stored 'baseTouchPose' (ndarray)\n",
      "Stored 'baseTouchPoseZ' (float64)\n"
     ]
    }
   ],
   "source": [
    "# baseTouchPose  = robot.arm.get_tcp_pose()\n",
    "# baseTouchPoseZ = baseTouchPose[2,3]\n",
    "# %store baseTouchPose\n",
    "# %store baseTouchPoseZ"
   ]
  },
  {
   "cell_type": "code",
   "execution_count": null,
   "metadata": {},
   "outputs": [],
   "source": []
  }
 ],
 "metadata": {
  "kernelspec": {
   "display_name": "Python 3",
   "language": "python",
   "name": "python3"
  },
  "language_info": {
   "codemirror_mode": {
    "name": "ipython",
    "version": 3
   },
   "file_extension": ".py",
   "mimetype": "text/x-python",
   "name": "python",
   "nbconvert_exporter": "python",
   "pygments_lexer": "ipython3",
   "version": "3.5.2"
  }
 },
 "nbformat": 4,
 "nbformat_minor": 4
}
