{
 "cells": [
  {
   "cell_type": "markdown",
   "metadata": {},
   "source": [
    "# Init"
   ]
  },
  {
   "cell_type": "code",
   "execution_count": 1,
   "metadata": {},
   "outputs": [
    {
     "name": "stdout",
     "output_type": "stream",
     "text": [
      "Loaded: /home/nvidia/dev_rmstudio/rmlib/rmlib/rmtools Exists?: True\n",
      "Loaded: /home/nvidia/dev_rmstudio/rmlib Exists?: True\n",
      "Setting up robot please wait...\n",
      "my_components: {'hand_config': {'class_name': 'SmartHand', 'finger_width_outer': 0.015, 'finger_length': 0.0415, 'finger_depth': 0.014, 'module_name': 'hands.smarthand', 'finger_width_inner': 0.0}, 'ft_config': {'class_name': 'OptoForce', 'ip_address': '192.168.0.3', 'module_name': 'sensors.ftsensor_optoforce'}, 'cam_config': {'class_name': 'RealSense', 'ci_cam_offset': [0, 0, 0], 'pc_cam_offset': [0, 0, 0], 'camera_model': 'd410', 'module_name': 'cameras.realsense'}, 'arm_config': {'max_linear_speed': 0.25, 'ip_address': '192.168.0.7', 'max_joint_speed': 1.05, 'default_linear_accel': 0.8, 'default_joint_accel': 0.8, 'module_name': 'arms.ur5', 'class_name': 'UR5', 'xmlrpc_port': '8003', 'max_linear_accel': 1.2, 'max_joint_accel': 1.4, 'default_joint_speed': 0.7, 'default_linear_speed': 0.1}}\n",
      "active_componetns: {'ft': ['ft_config'], 'hand': ['hand_config'], 'arm': ['arm_config'], 'camera': ['cam_config']}\n",
      "{'class_name': 'OptoForce', 'ip_address': '192.168.0.3', 'module_name': 'sensors.ftsensor_optoforce'}\n",
      "<class 'rmlib.sensors.ftsensor_optoforce.OptoForce'>\n",
      "{'class_name': 'SmartHand', 'finger_width_outer': 0.015, 'finger_length': 0.0415, 'finger_depth': 0.014, 'module_name': 'hands.smarthand', 'finger_width_inner': 0.0}\n",
      "<class 'rmlib.hands.smarthand.SmartHand'>\n",
      "{'max_linear_speed': 0.25, 'ip_address': '192.168.0.7', 'max_joint_speed': 1.05, 'default_linear_accel': 0.8, 'default_joint_accel': 0.8, 'module_name': 'arms.ur5', 'class_name': 'UR5', 'xmlrpc_port': '8003', 'max_linear_accel': 1.2, 'max_joint_accel': 1.4, 'default_joint_speed': 0.7, 'default_linear_speed': 0.1}\n",
      "<class 'rmlib.arms.ur5.UR5'>\n",
      "{'class_name': 'RealSense', 'ci_cam_offset': [0, 0, 0], 'pc_cam_offset': [0, 0, 0], 'camera_model': 'd410', 'module_name': 'cameras.realsense'}\n",
      "<class 'rmlib.cameras.realsense.RealSense'>\n",
      "Robot Ready!\n",
      "\n",
      "##!## READY ##!##\n"
     ]
    }
   ],
   "source": [
    "%load_ext autoreload\n",
    "%autoreload 2\n",
    "from context import rmlib\n",
    "import rmlib.rmtools as rm\n",
    "from config import robotConfig\n",
    "\n",
    "robot = rmlib.robot.Robot( robotConfig )\n",
    "\n",
    "#Imports \n",
    "from time import sleep\n",
    "import numpy as np\n",
    "import rmlib\n",
    "from rmlib.rmtools.assembly_trees import augment_RM\n",
    "\n",
    "augment_RM( robot )\n",
    "\n",
    "%store -r\n",
    "\n",
    "####### LIBS #######################################################################################################################################\n",
    "\n",
    "# Import Pytrees\n",
    "import py_trees\n",
    "from py_trees.tests import Timeout_Success\n",
    "from py_trees.composites import Sequence , Selector\n",
    "\n",
    "from assembly_trees import *\n",
    "\n",
    "\n",
    "import math\n",
    "from pmath import translate_pose , get_disance_between_poses , pose_components\n",
    "\n",
    "from utils import is_matx_list\n",
    "from math import radians\n",
    "\n",
    "print( \"\\n##!## READY ##!##\" )"
   ]
  },
  {
   "cell_type": "markdown",
   "metadata": {},
   "source": [
    "# Global Vars"
   ]
  },
  {
   "cell_type": "code",
   "execution_count": 2,
   "metadata": {},
   "outputs": [],
   "source": [
    "DATA_RATE  = 25\n",
    "SLEEP_TIME = 10.0"
   ]
  },
  {
   "cell_type": "markdown",
   "metadata": {},
   "source": [
    "# Spiral Insert Process"
   ]
  },
  {
   "cell_type": "code",
   "execution_count": 3,
   "metadata": {},
   "outputs": [
    {
     "name": "stdout",
     "output_type": "stream",
     "text": [
      "A pre-insert pose was defined.\n",
      "Spiral BT Created!\n"
     ]
    }
   ],
   "source": [
    "from assembly_trees import _DUMMYPOSE\n",
    "import py_trees\n",
    "\n",
    "wheelPreInsertPose = wheelPostInsertPose.copy()\n",
    "zApproach = 0.050\n",
    "wheelPreInsertPose[2,3] += zApproach\n",
    "print( \"A pre-insert pose was defined.\" )\n",
    "\n",
    "\n",
    "def get_spiral_test_tree():\n",
    "    rootNode = Sequence_Recorder(  memory = 0 , dataKey = \"test_DATA\" , flagKey = \"test_FLAG\" , \n",
    "                                   outFileGenFunc = get_XML_outfile_namer( pathPrefix = \"output/\" , \n",
    "                                                                           namePrefix = \"GEAR-SPR_\" )  )\n",
    "\n",
    "    recordBehav = Record_Classify( recordFlagKey = \"test_FLAG\" , \n",
    "                                   dataKey       = \"test_DATA\" , \n",
    "                                   recordHz = 50, ctrl = robot )\n",
    "\n",
    "\n",
    "    insertTree = Sequence( memory = 1 )\n",
    "    \n",
    "    waitBehav = Timeout_Success( timeout = 0.20 )\n",
    "\n",
    "    goBehav = Jog_Safe( wheelGraspPose , \n",
    "                        zSAFE = 0.100 ,  \n",
    "                        hover = 1 ,  \n",
    "                        ctrl  = robot  )\n",
    "\n",
    "    graspBehav = Grasp_at_Pose( wheelGraspPose, 0.026 ,\n",
    "                                zApproach=0.050 , zClose=0.0 , wdthNarrow = 0.050 , maxIter=5, zFree=0.100 , \n",
    "                                ctrl = robot )\n",
    "\n",
    "    jogBehav = Jog_Safe( wheelPreInsertPose, \n",
    "                         zSAFE = 0.100 ,  \n",
    "                         hover = 0 ,  \n",
    "                         ctrl  = robot  )\n",
    "\n",
    "    relaxedInsert = Selector( name = \"Spiral_ins_ALWAYSDROP\" , memory = 1 )\n",
    "    \n",
    "    stepFactor = 2.0\n",
    "    \n",
    "    # 1.8 # Lateral torque caused it to bind\n",
    "    insertBehav = Spiral_Insert( \n",
    "        wheelPreInsertPose ,\n",
    "        touch_force = 2.0 , drop_force = 1.0 , insert_force = 9.0 , max_movement = zApproach + 0.030 , \n",
    "        lateralStopTorque = 0.475 , \n",
    "        pushbackF = 20.0 , spiralSpeed = 0.001 , descendSpeed = 0.00625 , biasWrist = 1 ,\n",
    "        degrees_to_step = 3.25*2.0 , \n",
    "        maxAngle = 100 * 360 , startRadius = 0.00005 , \n",
    "        stepSize = 0.000025*1.75 , \n",
    "        max_radius = 0.010 ,\n",
    "        posnMargin = 0.003 , orntMargin = 2.0/180 , \n",
    "        reliefStep_m = 0.0005 , reliefMargin_Nm = 0.050 , reliefN = 15 , \n",
    "        finalInsertHandZ = wheelPostInsertZ , \n",
    "        suppressDrop = 1 , suppressLateral = 0 , \n",
    "        recordFlagKey = \"test_FLAG\" , \n",
    "        ctrl = robot,\n",
    "        chaseMode = 1, chaseStep = 0.00010 , N_chaseMax = 30 \n",
    "    )                    \n",
    "    \n",
    "    dropBehav = Set_Fingers( openState = 0.060 , ctrl = robot ) \n",
    "    \n",
    "    relaxedInsert.add_children( [ insertBehav , py_trees.decorators.SuccessIsFailure( dropBehav ) ] )\n",
    "    \n",
    "    cntrBehav = Jog_Safe( wheelPreInsertPose , #wheelPreOffsetYPose,  # wheelPreInsertPose , \n",
    "                         zSAFE = 0.100 ,  \n",
    "                         hover = 0 ,  \n",
    "                         ctrl  = robot  )\n",
    "    \n",
    "    insertTree.add_children( [ goBehav , graspBehav , jogBehav , relaxedInsert, dropBehav ] ) #, cntrBehav , checkBehav ] )\n",
    "\n",
    "    rootNode.add_children( [ recordBehav , insertTree ] ) #, waitBehav ] )\n",
    "    \n",
    "    return rootNode\n",
    "\n",
    "print( \"Spiral BT Created!\" )"
   ]
  },
  {
   "cell_type": "markdown",
   "metadata": {},
   "source": [
    "# Spiral Insert: Recording Pipeline"
   ]
  },
  {
   "cell_type": "code",
   "execution_count": 4,
   "metadata": {},
   "outputs": [
    {
     "name": "stdout",
     "output_type": "stream",
     "text": [
      "Iteration 1 of 1\n",
      "Root node Sequence_Recorder failed!\n",
      "\n",
      "\n",
      "Simulation completed! with status rootNode.status \n",
      "\n",
      "\n"
     ]
    }
   ],
   "source": [
    "N        =  1\n",
    "divSleep = 10\n",
    "t_sleep  = 60\n",
    "j        =  1\n",
    "\n",
    "from time import sleep\n",
    "\n",
    "for i in range( 1 , N+1 ):\n",
    "    \n",
    "    try:\n",
    "        \n",
    "        print( \"Iteration\" , i , \"of\" , N )\n",
    "        \n",
    "        # 6. Sleep for human reset\n",
    "        if i > 1:\n",
    "            sleep( divSleep )\n",
    "\n",
    "        # 3. Release\n",
    "        robot.hand.release()\n",
    "        \n",
    "        # 1. Reset tree\n",
    "        rootNode = get_spiral_test_tree()\n",
    "        \n",
    "        # 2. Run tree and generate recording\n",
    "        run_BT_until_done( rootNode , N = 1000 , tickPause = 0.25 , \n",
    "                           breakOnFailure = 1 , breakOnSuccess = 1 , Nverb = 0 )\n",
    "        \n",
    "        # 3. Release\n",
    "        robot.hand.set_finger_width( 0.050 ) \n",
    "        \n",
    "        # 4. Deactivate motors\n",
    "        robot.hand.deactivate_motors()\n",
    "        \n",
    "        # 5. Move to safe position\n",
    "        robot.arm.move( safeCenterPose )\n",
    "\n",
    "    except KeyboardInterrupt:\n",
    "        print( \"Pipeline was STOPPED by user at iteration\" , i+1 )\n",
    "        break\n",
    "        "
   ]
  },
  {
   "cell_type": "markdown",
   "metadata": {},
   "source": [
    "# Tilt Insert: Shaft Recording"
   ]
  },
  {
   "cell_type": "code",
   "execution_count": 3,
   "metadata": {},
   "outputs": [],
   "source": [
    "def get_shaft_insert_tree():\n",
    "    rootNode = Sequence_Recorder(  memory = 0 , dataKey = \"test_DATA\" , flagKey = \"test_FLAG\" , \n",
    "                                   outFileGenFunc = get_XML_outfile_namer( pathPrefix = \"output/\" , namePrefix = \"SHAFT-TLT_\" )  )\n",
    "\n",
    "    recordBehav = Record_Classify( recordFlagKey = \"test_FLAG\" , dataKey = \"test_DATA\" , recordHz = DATA_RATE , ctrl = robot )\n",
    "\n",
    "\n",
    "    insertTree = Sequence( memory = 1 )\n",
    "\n",
    "    goBehav = Jog_Safe( shaftGraspPose , \n",
    "                        zSAFE = 0.100 ,  \n",
    "                        hover = 1 ,  \n",
    "                        ctrl  = robot  )\n",
    "\n",
    "    closeBehav = Set_Fingers( openState = 0.040 , ctrl = robot )   \n",
    "    \n",
    "    graspBehav = Grasp_at_Pose( shaftGraspPose, 0.015 ,\n",
    "                                zApproach=0.050 , zClose=0.0 , wdthNarrow = 0.030 , maxIter=5, zFree=0.100 , \n",
    "                                ctrl = robot )\n",
    "\n",
    "    jogBehav = Jog_Safe( shaftPreInsertPose , \n",
    "                        zSAFE = 0.100 ,  \n",
    "                        hover = 0 ,  \n",
    "                        ctrl  = robot  )\n",
    "\n",
    "\n",
    "    tiltBehav = Tilt_Insert( shaftPreInsertPose ,\n",
    "                              tilt_angle_deg = 7.25 , part_offset = 0.016 , dia = 0.015 , \n",
    "                              touch_force = 0.6 , insert_force = 1.5 , max_movement = 0.045 , biasWrist = 1 , offset_dir = np.array([1.0,0.0,0.0]), \n",
    "                              posnMargin = 0.003 , orntMargin = 2.0/180 , finalInsertHandZ = fatPegFullInsertZ , recordFlagKey = \"test_FLAG\" , \n",
    "                              dropSpeed = 0.0625 , ctrl = robot )\n",
    "\n",
    "    dropBehav = Set_Fingers( openState = 1.0 , ctrl = robot )    \n",
    "\n",
    "    insertTree.add_children( [ goBehav , closeBehav , graspBehav , jogBehav , tiltBehav , dropBehav ] )\n",
    "\n",
    "    rootNode.add_children( [ recordBehav , insertTree ] )\n",
    "    \n",
    "    return rootNode"
   ]
  },
  {
   "cell_type": "markdown",
   "metadata": {},
   "source": [
    "# Tilt Insert Pipeline"
   ]
  },
  {
   "cell_type": "code",
   "execution_count": 4,
   "metadata": {},
   "outputs": [
    {
     "name": "stdout",
     "output_type": "stream",
     "text": [
      "Iteration 1 of 3\n",
      "Root node Sequence_Recorder failed!\n",
      "\n",
      "\n",
      "Simulation completed! with status rootNode.status \n",
      "\n",
      "\n",
      "Iteration 2 of 3\n",
      "Root node Sequence_Recorder failed!\n",
      "\n",
      "\n",
      "Simulation completed! with status rootNode.status \n",
      "\n",
      "\n",
      "Iteration 3 of 3\n",
      "Root node Sequence_Recorder failed!\n",
      "\n",
      "\n",
      "Simulation completed! with status rootNode.status \n",
      "\n",
      "\n"
     ]
    }
   ],
   "source": [
    "N        =  3\n",
    "divSleep = 10\n",
    "t_sleep  = 90\n",
    "j        =  1\n",
    "\n",
    "N_sleep = int( N / divSleep )\n",
    "\n",
    "from time import sleep\n",
    "\n",
    "for i in range( 1 , N+1 ):\n",
    "    \n",
    "    try:\n",
    "        \n",
    "        print( \"Iteration\" , i , \"of\" , N )\n",
    "        \n",
    "        # 6. Sleep for human reset\n",
    "        if i > 1:\n",
    "            sleep( divSleep )\n",
    "        \n",
    "        # 1. Reset tree\n",
    "        rootNode = get_shaft_insert_tree()\n",
    "        \n",
    "        # 2. Run tree and generate recording\n",
    "        run_BT_until_done( rootNode , N = 1000 , tickPause = 0.25 , breakOnFailure = 1 , breakOnSuccess = 1 , Nverb = 0 )\n",
    "        \n",
    "        # 3. Release\n",
    "        robot.hand.release()\n",
    "        \n",
    "        # 4. Deactivate motors\n",
    "        robot.hand.deactivate_motors()\n",
    "        \n",
    "        # 5. Move to safe position\n",
    "        robot.arm.move( safeCenterPose )\n",
    "        \n",
    "        # TODO: Is this rest the same as a shutdown\n",
    "        if i%divSleep == 0:\n",
    "            print( \"Sleep\" , j , \"of\" , N_sleep , \", Sleep for\" , t_sleep , \"seconds...\" )\n",
    "            sleep( t_sleep )\n",
    "            j += 1\n",
    "\n",
    "    except KeyboardInterrupt:\n",
    "        print( \"Pipeline was STOPPED by user at iteration\" , i+1 )\n",
    "        break"
   ]
  },
  {
   "cell_type": "markdown",
   "metadata": {},
   "source": [
    "# Testing"
   ]
  },
  {
   "cell_type": "code",
   "execution_count": null,
   "metadata": {},
   "outputs": [],
   "source": []
  },
  {
   "cell_type": "code",
   "execution_count": null,
   "metadata": {},
   "outputs": [],
   "source": [
    "N = 10\n",
    "from time import sleep\n",
    "\n",
    "for i in range( N ):\n",
    "    \n",
    "    try:\n",
    "        \n",
    "        print( \"Iteration\" , i+1 , \"of\" , N )\n",
    "            \n",
    "#         robot.ft.set_stream_Hz200()\n",
    "        \n",
    "#         print( robot.ft.get_wrist_force() )\n",
    "        \n",
    "        robot.hand.release()\n",
    "        \n",
    "        robot.arm.move( wheelPreInsertPose )\n",
    "        \n",
    "        # 1. Reset tree\n",
    "        rootNode = Tamp_Alternating( zGoal = 0.0472 , zMargin = 0.005 , tap_force = 5.0 , plungeDistance = 0.100 , tapWidth = 0.020 ,\n",
    "                                   twist_deg = 90 , doubleSided = 0 , retract_m = 0.040 , \n",
    "                                   descendSpeed = 0.0125 , Ntries = 1 , TzStop = 1.8 , ctrl = robot )\n",
    "        \n",
    "        # 2. Run tree and generate recording\n",
    "        run_BT_until_done( rootNode , N = 1000 , tickPause = 0.25 , breakOnFailure = 1 , breakOnSuccess = 1 , Nverb = 0 )\n",
    "        \n",
    "        # 3. Release\n",
    "        robot.hand.release()\n",
    "        \n",
    "        # 4. Deactivate motors\n",
    "        robot.hand.deactivate_motors()\n",
    "        \n",
    "        # 5. Move to safe position\n",
    "#         robot.arm.move( safeCenterPose )\n",
    "\n",
    "        # 6. Sleep for human reset\n",
    "        sleep( 5 )\n",
    "        \n",
    "        \n",
    "    except KeyboardInterrupt:\n",
    "        print( \"Pipeline was STOPPED by user at iteration\" , i+1 )\n",
    "        break"
   ]
  },
  {
   "cell_type": "markdown",
   "metadata": {},
   "source": [
    "# Common Functions"
   ]
  },
  {
   "cell_type": "code",
   "execution_count": 21,
   "metadata": {},
   "outputs": [
    {
     "data": {
      "text/plain": [
       "True"
      ]
     },
     "execution_count": 21,
     "metadata": {},
     "output_type": "execute_result"
    }
   ],
   "source": [
    "robot.arm.align_tcp( robot.arm )"
   ]
  },
  {
   "cell_type": "code",
   "execution_count": 19,
   "metadata": {},
   "outputs": [
    {
     "data": {
      "text/plain": [
       "True"
      ]
     },
     "execution_count": 19,
     "metadata": {},
     "output_type": "execute_result"
    }
   ],
   "source": [
    "robot.hand.grip()"
   ]
  },
  {
   "cell_type": "code",
   "execution_count": null,
   "metadata": {},
   "outputs": [],
   "source": [
    "robot.hand.release()"
   ]
  },
  {
   "cell_type": "code",
   "execution_count": 18,
   "metadata": {},
   "outputs": [
    {
     "data": {
      "text/plain": [
       "True"
      ]
     },
     "execution_count": 18,
     "metadata": {},
     "output_type": "execute_result"
    }
   ],
   "source": [
    "robot.hand.set_finger_width( 0.040 ) "
   ]
  },
  {
   "cell_type": "code",
   "execution_count": null,
   "metadata": {},
   "outputs": [],
   "source": [
    "robot.arm.move( wheelGraspPose )"
   ]
  },
  {
   "cell_type": "code",
   "execution_count": null,
   "metadata": {},
   "outputs": [],
   "source": [
    "print( robot.arm.get_tcp_pose() )\n",
    "print( robot.arm.get_tcp_pose()[2,3] )\n",
    "print( baseTouchPoseZ )"
   ]
  },
  {
   "cell_type": "code",
   "execution_count": null,
   "metadata": {},
   "outputs": [],
   "source": [
    "robot.ft.get_wrist_force()"
   ]
  },
  {
   "cell_type": "code",
   "execution_count": null,
   "metadata": {},
   "outputs": [],
   "source": [
    "robot.hand.deactivate_motors()"
   ]
  },
  {
   "cell_type": "code",
   "execution_count": null,
   "metadata": {},
   "outputs": [],
   "source": [
    "robot.hand.zero_fingers()"
   ]
  },
  {
   "cell_type": "markdown",
   "metadata": {},
   "source": [
    "# Setup"
   ]
  },
  {
   "cell_type": "markdown",
   "metadata": {},
   "source": [
    "### Gear Poses"
   ]
  },
  {
   "cell_type": "code",
   "execution_count": 20,
   "metadata": {},
   "outputs": [
    {
     "name": "stdout",
     "output_type": "stream",
     "text": [
      "Stored 'wheelGraspPose' (ndarray)\n"
     ]
    }
   ],
   "source": [
    "# wheelGraspPose = robot.arm.get_tcp_pose()\n",
    "# %store wheelGraspPose"
   ]
  },
  {
   "cell_type": "code",
   "execution_count": 28,
   "metadata": {},
   "outputs": [
    {
     "name": "stdout",
     "output_type": "stream",
     "text": [
      "Stored 'wheelPostInsertPose' (ndarray)\n",
      "Stored 'wheelPostInsertZ' (float64)\n"
     ]
    }
   ],
   "source": [
    "# wheelPostInsertPose = robot.arm.get_tcp_pose()\n",
    "# wheelPostInsertZ = wheelPostInsertPose[2,3]\n",
    "# %store wheelPostInsertPose\n",
    "# %store wheelPostInsertZ\n",
    "# wheelPreInsertPose = wheelPostInsertPose.copy()\n",
    "# zApproach = 0.070\n",
    "# wheelPreInsertPose[2,3] += zApproach\n",
    "# %store wheelPreInsertPose"
   ]
  },
  {
   "cell_type": "code",
   "execution_count": null,
   "metadata": {},
   "outputs": [],
   "source": [
    "# wheelPreOffsetYPose = robot.arm.get_tcp_pose()\n",
    "# %store wheelPreOffsetYPose"
   ]
  },
  {
   "cell_type": "code",
   "execution_count": null,
   "metadata": {},
   "outputs": [],
   "source": [
    "# wheelPreOffsetXPose = robot.arm.get_tcp_pose()\n",
    "# %store wheelPreOffsetXPose"
   ]
  },
  {
   "cell_type": "markdown",
   "metadata": {},
   "source": [
    "### Shaft Poses"
   ]
  },
  {
   "cell_type": "code",
   "execution_count": 13,
   "metadata": {},
   "outputs": [
    {
     "name": "stdout",
     "output_type": "stream",
     "text": [
      "Stored 'shaftGraspPose' (ndarray)\n"
     ]
    }
   ],
   "source": [
    "# shaftGraspPose = robot.arm.get_tcp_pose()\n",
    "# %store shaftGraspPose"
   ]
  },
  {
   "cell_type": "code",
   "execution_count": 14,
   "metadata": {},
   "outputs": [
    {
     "name": "stdout",
     "output_type": "stream",
     "text": [
      "Stored 'shaftPreInsertPose' (ndarray)\n"
     ]
    }
   ],
   "source": [
    "# shaftPreInsertPose = robot.arm.get_tcp_pose()\n",
    "# %store shaftPreInsertPose"
   ]
  },
  {
   "cell_type": "markdown",
   "metadata": {},
   "source": [
    "### General Poses"
   ]
  },
  {
   "cell_type": "code",
   "execution_count": 6,
   "metadata": {},
   "outputs": [
    {
     "name": "stdout",
     "output_type": "stream",
     "text": [
      "Stored 'safeCenterPose' (ndarray)\n"
     ]
    }
   ],
   "source": [
    "# safeCenterPose = robot.arm.get_tcp_pose()\n",
    "# %store safeCenterPose"
   ]
  },
  {
   "cell_type": "code",
   "execution_count": 7,
   "metadata": {},
   "outputs": [
    {
     "name": "stdout",
     "output_type": "stream",
     "text": [
      "Stored 'baseTouchPose' (ndarray)\n",
      "Stored 'baseTouchPoseZ' (float64)\n"
     ]
    }
   ],
   "source": [
    "# baseTouchPose  = robot.arm.get_tcp_pose()\n",
    "# baseTouchPoseZ = baseTouchPose[2,3]\n",
    "# %store baseTouchPose\n",
    "# %store baseTouchPoseZ"
   ]
  },
  {
   "cell_type": "markdown",
   "metadata": {},
   "source": [
    "# TEST: Relieve Wrist Torque\n",
    "1. Put the wrist in a slighly torqued place"
   ]
  },
  {
   "cell_type": "code",
   "execution_count": 22,
   "metadata": {},
   "outputs": [],
   "source": [
    "py_trees.logging.level = py_trees.logging.Level.INFO\n",
    "\n",
    "rootNode =  Minimize_Wrist_Torque_XY( numTrials = 10 , marginT=0.10 , moveStep=0.002  , ctrl = robot )\n",
    "\n",
    "\n"
   ]
  },
  {
   "cell_type": "code",
   "execution_count": 26,
   "metadata": {},
   "outputs": [
    {
     "name": "stdout",
     "output_type": "stream",
     "text": [
      "FT before the bias: [0.04999995231628418, 0.0, 0.199981689453125, 0.003000020980834961, -0.0015000104904174805, 0.0]\n",
      "FT after  the bias: [0.0, 0.0, 0.0, 0.0004999637603759766, -0.0004999637603759766, -0.0004999935626983643]\n"
     ]
    }
   ],
   "source": [
    "print( \"FT before the bias:\" , robot.ft.get_wrist_force() )\n",
    "robot.ft.bias_wrist_force()\n",
    "sleep(1)\n",
    "print( \"FT after  the bias:\" , robot.ft.get_wrist_force() )"
   ]
  },
  {
   "cell_type": "markdown",
   "metadata": {},
   "source": [
    "APPLY TORQUE HERE"
   ]
  },
  {
   "cell_type": "code",
   "execution_count": 27,
   "metadata": {},
   "outputs": [
    {
     "name": "stdout",
     "output_type": "stream",
     "text": [
      "FT before the behavior: [0.6000001430511475, 1.399999976158142, 1.04998779296875, -0.24875009059906006, 0.04674994945526123, -0.007749989628791809]\n",
      "Root node Minimize_Wrist_Torque_XY succeeded!\n",
      "\n",
      "\n",
      "Simulation completed! with status rootNode.status \n",
      "\n",
      "\n",
      "FT After the behavior: [0.04375004768371582, 0.0, 0.240631103515625, 0.0010156631469726562, 0.00267183780670166, -0.000734373927116394]\n"
     ]
    }
   ],
   "source": [
    "print( \"FT before the behavior:\" , robot.ft.get_wrist_force() )\n",
    "\n",
    "run_BT_until_done( rootNode , N = 1000 , tickPause = 0.25 , breakOnFailure = 1 , breakOnSuccess = 1 )\n",
    "\n",
    "print( \"FT After the behavior:\" , robot.ft.get_wrist_force() )"
   ]
  }
 ],
 "metadata": {
  "kernelspec": {
   "display_name": "Python 3",
   "language": "python",
   "name": "python3"
  },
  "language_info": {
   "codemirror_mode": {
    "name": "ipython",
    "version": 3
   },
   "file_extension": ".py",
   "mimetype": "text/x-python",
   "name": "python",
   "nbconvert_exporter": "python",
   "pygments_lexer": "ipython3",
   "version": "3.6.9"
  }
 },
 "nbformat": 4,
 "nbformat_minor": 4
}
