{
 "cells": [
  {
   "cell_type": "markdown",
   "metadata": {},
   "source": [
    "# Import Libraries First"
   ]
  },
  {
   "cell_type": "code",
   "execution_count": 1,
   "metadata": {},
   "outputs": [
    {
     "name": "stdout",
     "output_type": "stream",
     "text": [
      "Loaded: /home/nvidia/dev_rmstudio/rmlib/rmlib/rmtools Exists?: True\n",
      "Loaded: /home/nvidia/dev_rmstudio/rmlib Exists?: True\n",
      "Loading {'active_components': {'hand': ['hand_config'], 'ft': ['ft_config'], 'arm': ['arm_config'], 'camera': ['cam_config']}, 'my_components': {'hand_config': {'module_name': 'hands.smarthand', 'class_name': 'SmartHand', 'finger_width_inner': 0.0, 'finger_depth': 0.014, 'finger_length': 0.0415, 'finger_width_outer': 0.015}, 'arm_config': {'xmlrpc_port': '8003', 'class_name': 'UR5', 'max_joint_speed': 1.05, 'ip_address': '192.168.0.101', 'default_linear_speed': 0.1, 'max_joint_accel': 1.4, 'default_joint_accel': 0.8, 'module_name': 'arms.ur5', 'max_linear_accel': 1.2, 'default_joint_speed': 0.7, 'default_linear_accel': 0.8, 'max_linear_speed': 0.25}, 'cam_config': {'ci_cam_offset': [-0.036, -0.028, -0.079], 'module_name': 'cameras.realsense', 'class_name': 'RealSense', 'camera_model': 'd410', 'pc_cam_offset': [-0.037, -0.033, -0.079]}, 'ft_config': {'local_port': 20000, 'module_name': 'sensors.ftsensor_optoforce', 'class_name': 'OptoForce', 'remote_ip': '', 'local_ip': '127.0.0.1', 'ip_address': '192.168.0.100', 'remote_port': 10000, 'max_workers': 10, 'filter': {'beta': 0.035, 'alpha': 0.012}, 'dataHz': 50.0}}} ... Setting up robot please wait...\n",
      "Loading hand ... {'module_name': 'hands.smarthand', 'class_name': 'SmartHand', 'finger_width_inner': 0.0, 'finger_depth': 0.014, 'finger_length': 0.0415, 'finger_width_outer': 0.015}\n",
      "<class 'rmlib.hands.smarthand.SmartHand'>\n",
      "Done!\n",
      "Loading ft ... {'local_port': 20000, 'module_name': 'sensors.ftsensor_optoforce', 'class_name': 'OptoForce', 'remote_ip': '', 'local_ip': '127.0.0.1', 'ip_address': '192.168.0.100', 'remote_port': 10000, 'max_workers': 10, 'filter': {'beta': 0.035, 'alpha': 0.012}, 'dataHz': 50.0}\n",
      "<class 'rmlib.sensors.ftsensor_optoforce.OptoForce'>\n",
      "Done!\n",
      "Loading arm ... {'xmlrpc_port': '8003', 'class_name': 'UR5', 'max_joint_speed': 1.05, 'ip_address': '192.168.0.101', 'default_linear_speed': 0.1, 'max_joint_accel': 1.4, 'default_joint_accel': 0.8, 'module_name': 'arms.ur5', 'max_linear_accel': 1.2, 'default_joint_speed': 0.7, 'default_linear_accel': 0.8, 'max_linear_speed': 0.25}\n",
      "<class 'rmlib.arms.ur5.UR5'>\n",
      "Done!\n",
      "Loading camera ... {'ci_cam_offset': [-0.036, -0.028, -0.079], 'module_name': 'cameras.realsense', 'class_name': 'RealSense', 'camera_model': 'd410', 'pc_cam_offset': [-0.037, -0.033, -0.079]}\n",
      "<class 'rmlib.cameras.realsense.RealSense'>\n",
      "Done!\n",
      "Robot Ready!\n",
      "Functions and Vars added to RMStudio!\n",
      "DrillSemaphore created with: ['M6', 'M8', 'M4']\n",
      "Libs loaded!\n",
      "Unpickling taughtPoses.pkl... Got:  <class 'dict'> with 41 elements\n",
      "### Read 41 vars from taughtPoses.pkl into global dict ###\n",
      "Unpickling dct.pkl... Got:  <class 'dict'> with 1 elements\n",
      "### Read 1 vars from dct.pkl into global dict ###\n"
     ]
    }
   ],
   "source": [
    "%load_ext autoreload\n",
    "%autoreload 2\n",
    "from context import rmlib\n",
    "import rmlib.rmtools as rm\n",
    "from config import robotConfig\n",
    "\n",
    "robot = rmlib.robot.Robot( robotConfig )\n",
    "\n",
    "#Imports \n",
    "from time import sleep\n",
    "import numpy as np\n",
    "import rmlib\n",
    "from rmlib.rmtools.assembly_trees.asm_tree_Basic import augment_RM\n",
    "\n",
    "augment_RM( robot )\n",
    "\n",
    "%store -r\n",
    "\n",
    "####### LIBS #######################################################################################################################################\n",
    "\n",
    "# Import Pytrees\n",
    "import py_trees\n",
    "from py_trees.tests import Timeout_Success\n",
    "from py_trees.composites import Sequence , Selector\n",
    "from py_trees.decorators import FailureIsSuccess , SuccessIsFailure\n",
    "\n",
    "# import \n",
    "from rmlib.rmtools.assembly_trees.asm_tree_Basic import *\n",
    "\n",
    "from rmlib.rmtools.assembly_trees.asm_tree_FT_based import ( \n",
    "    Bias_Wrist , Spiral_Insert , Tilt_Insert , Spin_Press , Move_to_Contact , SpiralStep\n",
    ")\n",
    "    \n",
    "from rmlib.rmtools.assembly_trees.asm_tree_drill import *\n",
    "\n",
    "from rmlib.rmtools.assembly_trees.asm_tree_logic_flow import Run_to_X_Failures_DECO\n",
    "\n",
    "import math\n",
    "from pmath import *\n",
    "\n",
    "from utils import is_matx_list\n",
    "from math import radians\n",
    "\n",
    "print( \"Libs loaded!\" )\n",
    "\n",
    "from task_parameters import taskParams , _TB_side , _M8_TB_height , _M6_TB_height , _M4_TB_height\n",
    "\n",
    "_DRILL_CONTACT_PRESS = 11.0\n",
    "\n",
    "import pickle , traceback\n",
    "\n",
    "def save_names_to_PKL( pklPath , nameStringList ):\n",
    "    pklStruct = {}\n",
    "    print( vars() )\n",
    "    for name in nameStringList:\n",
    "        pklStruct[ name ] = globals()[ name ]\n",
    "        \n",
    "    with open( pklPath , \"wb\" ) as f:\n",
    "        try:\n",
    "            print( \"Pickling\" , pklPath , end = '... ' )\n",
    "            pickle.dump( pklStruct , f )\n",
    "            print( \"Success!\" )\n",
    "        except Exception as er:\n",
    "            print( \"FAILURE! :\" , er )\n",
    "            traceback.print_exc()\n",
    "    print( \"### Completed Writing\" , pklPath , \"###\" )\n",
    "    \n",
    "def load_names_from_PKL_to_global( pklPath , nameStringList ):\n",
    "    n = 0\n",
    "    with open( pklPath , \"rb\" ) as f:\n",
    "        try:\n",
    "            print( \"Unpickling\" , pklPath , end = '... ' )\n",
    "            pklStruct = pickle.load( f )\n",
    "            print( \"Got: \" , type( pklStruct ) , \"with\" , len( pklStruct ) , \"elements\" )\n",
    "            globDict = globals()\n",
    "            for name in nameStringList:\n",
    "                try:\n",
    "                    globals()[ name ] = pklStruct[ name ]\n",
    "                    n += 1\n",
    "                except:\n",
    "                    print( \"Could not load '\" + str( name ) + \"'! Continue ...\" )\n",
    "        except Exception as er:\n",
    "            print( \"FAILURE! :\" , er )\n",
    "            traceback.print_exc()\n",
    "            \n",
    "    print( \"### Read\" , n , \"vars from\" , pklPath , \"into global dict ###\" )\n",
    "\n",
    "load_names_from_PKL_to_global( \n",
    "    pklPath = \"taughtPoses.pkl\" , \n",
    "    nameStringList = [  \n",
    "        'M8_GraspPose' , 'M6_GraspPose' , 'M4_GraspPose' , 'GearShaft1_Setdown' , 'GearShaft2_Setdown' , \n",
    "        'BNC_Ma_Setdown' , 'KeySm_Setdown' , 'KeyLg_Setdown' , 'ShaftSm_Setdown' , 'ShaftLg_Setdown' , \n",
    "        'KeyLg_Grasp' , 'ShaftLg_Grasp' , 'BNC_Fe_Grasp' , 'ShaftSm_Grasp' , \n",
    "        'GearLg_Grasp' , 'GearLg_Grasp' , 'Ether_setdown' , \n",
    "        'M8_1_mag' , 'M8_2_mag' , 'M8_3_mag' , 'M8_4_mag' , 'M8_5_mag' , 'M8_6_mag' ,\n",
    "        'M6_1_mag' , 'M6_2_mag' , 'M6_3_mag' , 'M6_4_mag' , 'M6_5_mag' , 'M6_6_mag' ,\n",
    "        'M4_1_mag' , 'M4_2_mag' , 'M4_3_mag' , 'M4_4_mag' , 'M4_5_mag' , 'M4_6_mag' ,\n",
    "        'releasePose' , 'SAFE_POSE' , 'midDrillPose' ,\n",
    "        '_LRG_GEAR_DEX' , '_SML_GEAR_DEX', 'aboveTableDrill'\n",
    "    ]\n",
    ")\n",
    "\n",
    "load_names_from_PKL_to_global( \n",
    "    pklPath = \"dct.pkl\" , \n",
    "    nameStringList = [ \"dct\" ]\n",
    ")\n",
    "\n",
    "\n",
    "## BIAS TEST ##\n",
    "if 0:\n",
    "    for i in range(40):\n",
    "        print('##', i+1, '##')\n",
    "        before = robot.ft.get_wrist_force()\n",
    "        bgn    = time.time()\n",
    "        robot.ft.bias_wrist_force()\n",
    "        print( time.time() - bgn , \"[s] bias time\" )\n",
    "        after  = robot.ft.get_wrist_force()\n",
    "        print( after )\n",
    "        print( \"Diff:\" , np.linalg.norm( np.subtract( after, before ) ) , '\\n\\n' )"
   ]
  },
  {
   "cell_type": "markdown",
   "metadata": {},
   "source": [
    "# Arm Movements\n",
    "## Move to Absolute Pose `Move_Arm`"
   ]
  },
  {
   "cell_type": "code",
   "execution_count": 2,
   "metadata": {},
   "outputs": [],
   "source": [
    "\"\"\"\n",
    "### Move to Safe Pose ###\n",
    "Basic movements are defined in:\n",
    "rmlib/rmlib/rmtools/assembly_trees/asm_tree_Basic.py\n",
    "\n",
    "All of the basic behaviors and trees inherit `py_trees` classes.\n",
    "\"\"\" \n",
    "\n",
    "moveNode = Move_Arm( pose  = SAFE_POSE , # 4x4 homogeneous coord pose\n",
    "                     mode  = 'l' ,  # { 'l': linear in task space, 'j': linear in joint space }\n",
    "                     speed = 0.125 , \n",
    "                     accel = 0.35 , \n",
    "                     ctrl  = robot ) # Ref to `rmlib` object, stored in `robot` in this NB"
   ]
  },
  {
   "cell_type": "markdown",
   "metadata": {},
   "source": [
    "## Run Behavior\n",
    "`run_BT_until_done` is a function that ticks the node object provided as an argument at regular intervals.  It will report the final status of the root node and print and ASCII tree representation.   \n",
    "The default args are likely adequate for your purpose, but it can be found at  \n",
    "rmlib/rmlib/rmtools/assembly_trees/asm_tree_Basic.py"
   ]
  },
  {
   "cell_type": "code",
   "execution_count": 4,
   "metadata": {},
   "outputs": [
    {
     "name": "stdout",
     "output_type": "stream",
     "text": [
      "### RUN BT Move_Arm ###\n",
      "\n",
      "Root node Move_Arm succeeded!\n",
      "\n",
      "--> Move_Arm [o]\n",
      "\n",
      "\n",
      "Run completed! with status Status.SUCCESS after 1.5300235748291016 seconds.\n",
      "\n",
      "\n",
      "\n",
      "### BT SESSION OVER ###\n"
     ]
    }
   ],
   "source": [
    "run_BT_until_done( moveNode )"
   ]
  },
  {
   "cell_type": "markdown",
   "metadata": {},
   "source": [
    "## Pose Math, Move to Contact, and Tree Building"
   ]
  },
  {
   "cell_type": "code",
   "execution_count": 7,
   "metadata": {},
   "outputs": [],
   "source": [
    "# Calc a pose 10cm below the `SAFE_POSE`\n",
    "lowPose = translate_pose( \n",
    "    SAFE_POSE , \n",
    "    [ 0.0 , 0.0 , -0.100 ] , # Translation vector\n",
    "    dir_pose = 'origin' # { 'origin': lab frame, 'self': relative the argument pose }\n",
    ")\n",
    "# Location:  rmlib/rmlib/rmtools/pmath.py"
   ]
  },
  {
   "cell_type": "markdown",
   "metadata": {},
   "source": [
    "The following cell builds a sequence that makes a relative move, then stores the final pose under a global dictionary key for later retrieval.  \n",
    "For most 'procedure-like' trees, a Sequence with Memory is used.  \n",
    "The memory option prevents completed actions from being ticked again until the entire `Sequence` has completed.  \n",
    "Behaviors will be executed in the order added."
   ]
  },
  {
   "cell_type": "code",
   "execution_count": 8,
   "metadata": {},
   "outputs": [
    {
     "name": "stdout",
     "output_type": "stream",
     "text": [
      "\n"
     ]
    }
   ],
   "source": [
    "pushTree = Sequence( memory = 1 ) \n",
    "\n",
    "poseKey = \"TouchdownPose\" # String key to store pose that will be used by another tree\n",
    "\n",
    "# 1. Move to a pose conveniently close to the table\n",
    "pushTree.add_child(\n",
    "    Move_Arm( pose = lowPose , mode = 'l',  speed = 0.125 , accel = 0.35 , ctrl = robot ) \n",
    ")\n",
    "\n",
    "# 2. Close the fingers in prep for a probing action\n",
    "pushTree.add_child(\n",
    "    Set_Fingers( \n",
    "        openState = 0.0 , # Dist b/n fingers in [m], Anything larger than 0.095 interpreted as fully open\n",
    "        ctrl = robot , # rmlib ref\n",
    "        waitSec = 0.25 # OpenCM does not block execution, so pause to let fingers physically close\n",
    "    )\n",
    ")\n",
    "\n",
    "\"\"\"\n",
    "### Move Until Reaction Force Encountered ###\n",
    "Force-based actions are defined in:\n",
    "rmlib/rmlib/rmtools/assembly_trees/asm_tree_FT_based.py\n",
    "\"\"\" \n",
    "\n",
    "# 3. Approach the table at a **gentle speed** and stop when a small reaction force is observed \n",
    "pushTree.add_child(\n",
    "    Move_to_Contact( \n",
    "        Fmag      = 3.0 , # Reaction force that triggers stop, Forces below 1.5N aren't reliably detected\n",
    "        relMove   = [0.0, 0.0, -1.0] , # Specify a move the goes *beyond* where you expect to end up\n",
    "        biasWrist = 1 , # Bias wrist before beginning motion (Sorry, currently this takes 1-8 seconds)\n",
    "        mode      = 'l' , \n",
    "        speed     = 0.040 , accel = 0.04 , # **gentle speed**\n",
    "        pull      = 0 , # For pulling actions, reaction force tugs on hand rather than pushes\n",
    "        ctrl      = robot\n",
    "    ) # NOTE: This behav. may be used for absolute pose if an argument for `pose` is provided\n",
    ")\n",
    "\n",
    "# 4. Remember where we landed\n",
    "pushTree.add_child(\n",
    "    Store_Current_Pose( \n",
    "        keyString = poseKey , # Blackboard dict key\n",
    "        ctrl = robot , \n",
    "        setOnce = True # Set this flag to prevent the value from being modified once stored\n",
    "    )\n",
    ")\n",
    "\n",
    "# 5. Relative move back up, no condition\n",
    "pushTree.add_child(\n",
    "    Move_Arm_Relative( \n",
    "        translation = [ -0.035, -0.035, 0.070 ] , # Trans. Vec\n",
    "        rotation    = [0.0,0.0,0.0] , # Euler angles\n",
    "        mode = 'l' , speed = 0.125 , accel = 0.35 , \n",
    "        stop_cond = None , # A custon stop condition can be passed here if desired\n",
    "        frame = 'origin' ,\n",
    "        cond_success = 1 , # Flag true if we are using \"stop_cond()==1\" to mean *success*, otherwise the reverse\n",
    "        bias_wrist = 0 , # If `stop_cond` is force based, this is a good idea\n",
    "        ctrl = robot\n",
    "    ) # NOTE: If no stop_cond is provided, the this behavior returns true only if the full motion has completed\n",
    ")\n",
    "\n",
    "# 6. Now let's recover the pose that we stored before\n",
    "pushTree.add_child(\n",
    "    Move_Arm( BB_key = poseKey , # Blackboard dict key passed to `BB_key` instead of a `pose` arg\n",
    "              mode = 'l',  speed = 0.063 , accel = 0.17 , ctrl = robot ) \n",
    ")\n",
    "\n",
    "# 7. It's a good idea to return to a known safe pose between activities\n",
    "pushTree.add_child(\n",
    "    Move_Arm( pose  = SAFE_POSE , ctrl = robot )\n",
    ")\n",
    "\n",
    "# 8. Open the fingers\n",
    "pushTree.add_child(\n",
    "    Set_Fingers( openState = 1.0 , ctrl = robot , waitSec = 0.0 )\n",
    ")\n",
    "\n",
    "print()"
   ]
  },
  {
   "cell_type": "markdown",
   "metadata": {},
   "source": [
    "You have created something beautiful, and you only wish to see your creation flourish:"
   ]
  },
  {
   "cell_type": "code",
   "execution_count": 9,
   "metadata": {},
   "outputs": [
    {
     "name": "stdout",
     "output_type": "stream",
     "text": [
      "### RUN BT Sequence ###\n",
      "\n",
      "about to bias\n",
      "about to fetch\n",
      "get reading\n",
      "bias complete!\n",
      "Root node Sequence succeeded!\n",
      "\n",
      "[-] Sequence [o]\n",
      "    --> Move_Arm [o]\n",
      "    --> Set_Fingers [o]\n",
      "    --> Move_to_Contact [o]\n",
      "    --> Store_Current_Pose [o]\n",
      "    --> Move_Arm_Relative [o]\n",
      "    --> Move_Arm [o]\n",
      "    --> Move_Arm [o]\n",
      "    --> Set_Fingers [o]\n",
      "\n",
      "\n",
      "Run completed! with status Status.SUCCESS after 16.47796130180359 seconds.\n",
      "\n",
      "\n",
      "\n",
      "### BT SESSION OVER ###\n"
     ]
    }
   ],
   "source": [
    "run_BT_until_done( pushTree )"
   ]
  },
  {
   "cell_type": "markdown",
   "metadata": {},
   "source": [
    "# Drill Operations\n",
    "### **Mind drill clearance, it is very tall now!**\n",
    "### Do not keep drill grasped for too long, hand overheats!"
   ]
  },
  {
   "cell_type": "code",
   "execution_count": 16,
   "metadata": {},
   "outputs": [],
   "source": [
    "# Adjust this up in increments of 0.5-1.0 if you are having trouble picking up drill\n",
    "_DRILL_CONTACT_PRESS = 11.0 # Too aggressive and holders move out of place over time\n",
    "\n",
    "_LONG_DRILL_SAFE_Z = 0.250 # <-- VERY IMPORTANT - AVOID BREAKING DRILL"
   ]
  },
  {
   "cell_type": "markdown",
   "metadata": {},
   "source": [
    "## Take M4"
   ]
  },
  {
   "cell_type": "code",
   "execution_count": 17,
   "metadata": {},
   "outputs": [
    {
     "name": "stdout",
     "output_type": "stream",
     "text": [
      "### RUN BT Unholster_Drill ###\n",
      "\n",
      "M4 checked OUT!\n",
      "Root node Unholster_Drill succeeded!\n",
      "\n",
      "[-] Unholster_Drill [o]\n",
      "    --> Move_Arm [o]\n",
      "    --> Move_Arm [o]\n",
      "    --> Set_Grip_Torque [o]\n",
      "    --> Set_Fingers [o]\n",
      "    --> Move_Arm [o]\n",
      "    --> Set_Fingers [o]\n",
      "    --> Move_to_Contact [o]\n",
      "    --> Set_Grip_Torque [o]\n",
      "    [o] Recover_or_Quit [o]\n",
      "        -^- Run_to_X_Failures_DECO [o]\n",
      "            [o] Attached_Recover [o]\n",
      "                --> COND_Drill_Attached [o]\n",
      "                [-] Recovery_Sequence [-]\n",
      "                    --> Set_Fingers [-]\n",
      "                    --> Set_Grip_Torque [-]\n",
      "                    --> Move_Arm [-]\n",
      "                    --> Set_Fingers [-]\n",
      "                    --> Move_to_Contact [-]\n",
      "                    --> Set_Grip_Torque [-]\n",
      "                    --> COND_Drill_Attached [-]\n",
      "        [-] Give_Up [-]\n",
      "            --> Set_Fingers [-]\n",
      "            --> Move_Arm [-]\n",
      "            --> Set_Fingers [-]\n",
      "    [-] Got_It [o]\n",
      "        --> COND_Drill_Attached [o]\n",
      "        --> Check_OUT_Drill [o]\n",
      "        --> Move_Arm [o]\n",
      "        --> Move_Arm [o]\n",
      "        --> Move_Arm [o]\n",
      "\n",
      "\n",
      "Run completed! with status Status.SUCCESS after 22.64782953262329 seconds.\n",
      "\n",
      "\n",
      "\n",
      "### BT SESSION OVER ###\n"
     ]
    }
   ],
   "source": [
    "testTree = Unholster_Drill( \n",
    "    M4_GraspPose , \n",
    "    'M4' , \n",
    "    betweenPose = midDrillPose , \n",
    "    zApproach=0.20, zClose=0.040, zRetry=0.030 , Tpliant = 0.3 , \n",
    "    wdthNarrow = 0.038 , maxIter=5, drillPress = _DRILL_CONTACT_PRESS , \n",
    "    zFree=_LONG_DRILL_SAFE_Z , # <-- VERY IMPORTANT - AVOID BREAKING DRILL\n",
    "    ctrl = robot \n",
    ")\n",
    "\n",
    "run_BT_until_done( testTree , N = 90000 , \n",
    "                   tickPause = 0.25 , \n",
    "                   breakOnFailure = 1 , breakOnSuccess = 1 , \n",
    "                   Nverb = 100 )"
   ]
  },
  {
   "cell_type": "markdown",
   "metadata": {},
   "source": [
    "## Jog, Lightly Tap with Drill, return Drill\n",
    "`Jog_Safe` is a behavior that traverses the hand at a safe height `zSAFE` to a pose "
   ]
  },
  {
   "cell_type": "code",
   "execution_count": 20,
   "metadata": {},
   "outputs": [
    {
     "data": {
      "text/plain": [
       "UUID('dba1d47e-f4ba-4ee5-9a0b-c57e0294edfe')"
      ]
     },
     "execution_count": 20,
     "metadata": {},
     "output_type": "execute_result"
    }
   ],
   "source": [
    "tapTree = Sequence( memory = 1 ) \n",
    "\n",
    "# 1. Traverse to a position above the probe location\n",
    "tapTree.add_child(\n",
    "    Jog_Safe( aboveTableDrill , # Destination\n",
    "              zSAFE = _LONG_DRILL_SAFE_Z , # <-- VERY IMPORTANT - AVOID BREAKING DRILL\n",
    "              hover = 1 , # Flag: remain at `zSAFE` instead of descending\n",
    "              ctrl  = robot  )\n",
    ")\n",
    "\n",
    "# 2. Approach the table at a **gentle speed** and stop when a small reaction force is observed \n",
    "tapTree.add_child(\n",
    "    Move_to_Contact( \n",
    "        Fmag      = 3.0 , # Reaction force that triggers stop, Forces below 1.5N aren't reliably detected\n",
    "        relMove   = [0.0, 0.0, -1.0] , # Specify a move the goes *beyond* where you expect to end up\n",
    "        biasWrist = 1 , # Bias wrist before beginning motion (Sorry, currently this takes 1-8 seconds)\n",
    "        mode      = 'l' , \n",
    "        speed     = 0.040 , accel = 0.04 , # **gentle speed**\n",
    "        pull      = 0 , # For pulling actions, reaction force tugs on hand rather than pushes\n",
    "        ctrl      = robot\n",
    "    ) # NOTE: This behav. may be used for absolute pose if an argument for `pose` is provided\n",
    ")\n",
    "\n",
    "# 3. Back up\n",
    "tapTree.add_child(\n",
    "    Move_Arm_Relative( \n",
    "        translation = [ 0.0, 0.0, 0.020 ] , # Trans. Vec\n",
    "        rotation    = [0.0,0.0,0.0] , # Euler angles\n",
    "        ctrl = robot\n",
    "    )\n",
    ")\n",
    "\n",
    "# 4. set_drill_torque(200)\n",
    "tapTree.add_child(  Set_Drill_Torque( drillTorque = 200 , ctrl = robot )  )\n",
    "\n",
    "# 4.1. Activate Drill\n",
    "tapTree.add_child(\n",
    "    Turn_Drill_CW( ctrl = robot )\n",
    ")\n",
    "\n",
    "# 5. Maintain Pressure for Dwell Time (Assumes vertical pressure)\n",
    "tapTree.add_child(\n",
    "    Maintain_Z_Pressure( \n",
    "        timeOut_s = 5.0 , # Time to dwell [s]\n",
    "        plungeMove = 1 , # Flag for move-to-contact\n",
    "        plungeDepth=0.050 , # Distance to move down\n",
    "        descendSpeed=0.030 , \n",
    "        zPress=20.0 , # [N] Pressure to maintain, ()\n",
    "        maxZStep=0.010 , biasWrist=1 ,\n",
    "        ctrl = robot\n",
    "    )\n",
    ")\n",
    "\n",
    "# 6. Reverse drill to avoid embarrassing loss of bit\n",
    "tapTree.add_child(\n",
    "    Turn_Drill_CCW( ctrl = robot )\n",
    ")\n",
    "\n",
    "# 7. Back up\n",
    "tapTree.add_child(\n",
    "    Move_Arm_Relative( \n",
    "        translation = [ 0.0, 0.0, 0.040 ] , # Trans. Vec\n",
    "        rotation    = [0.0,0.0,0.0] , # Euler angles\n",
    "        speed     = 0.060 , accel = 0.06 , # **gentle speed**\n",
    "        ctrl = robot\n",
    "    )\n",
    ")\n",
    "\n",
    "# 8. Stop drill\n",
    "tapTree.add_child(\n",
    "    Halt_Drill( ctrl = robot )\n",
    ")\n",
    "\n",
    "# 8. Return drill\n",
    "tapTree.add_child(\n",
    "    Holster_Drill( \n",
    "        M4_GraspPose , \n",
    "        'M4' , \n",
    "        betweenPose = midDrillPose , \n",
    "        zApproach=0.20, \n",
    "        zClose=0.040, \n",
    "        Tpliant = 0.3 ,  \n",
    "        wdthNarrow = 0.038 , maxIter=5, drillPress=_DRILL_CONTACT_PRESS , \n",
    "        zFree= _LONG_DRILL_SAFE_Z , # <-- VERY IMPORTANT - AVOID BREAKING DRILL\n",
    "        driverLen = 0.160 ,\n",
    "        ctrl = robot \n",
    "    )\n",
    ")"
   ]
  },
  {
   "cell_type": "code",
   "execution_count": 21,
   "metadata": {},
   "outputs": [
    {
     "name": "stdout",
     "output_type": "stream",
     "text": [
      "### RUN BT Sequence ###\n",
      "\n",
      "def condition_false():\n",
      "    \"\"\" Always return False \"\"\"\n",
      "    return False\n",
      "\n",
      "Maintain_Z_Pressure: self.ctrl.maintain_z_pressure ran for 9.249039888381958 seconds!\n",
      "Halt_Drill: Ended with drill ATTACHED!\n",
      "Root node Sequence succeeded!\n",
      "\n",
      "[-] Sequence [o]\n",
      "    [-] Jog_Safe [o]\n",
      "        --> Move_Arm [o]\n",
      "        --> Move_Arm [o]\n",
      "    --> Move_to_Contact [o]\n",
      "    --> Move_Arm_Relative [o]\n",
      "    --> Set_Drill_Torque [o]\n",
      "    --> Turn_Drill_CW [o]\n",
      "    --> Maintain_Z_Pressure [o]\n",
      "    --> Turn_Drill_CCW [o]\n",
      "    --> Move_Arm_Relative [o]\n",
      "    --> Halt_Drill [o]\n",
      "    [-] Holster_Drill [o]\n",
      "        [-] COND_Holding_Drill [o]\n",
      "            --> COND_Drill_Checked_Out [o]\n",
      "            --> COND_Drill_Attached [o]\n",
      "        --> COND_Drill_Attached [o]\n",
      "        [-] Jog_Safe [o]\n",
      "            --> Move_Arm [o]\n",
      "            --> Move_Arm [o]\n",
      "        --> Move_Arm [o]\n",
      "        --> Move_Arm [o]\n",
      "        --> Move_Arm [o]\n",
      "        --> Move_to_Contact [o]\n",
      "        --> Set_Grip_Torque [o]\n",
      "        --> Set_Fingers [o]\n",
      "        --> Move_Arm [o]\n",
      "        --> Set_Fingers [o]\n",
      "        --> Move_Arm [o]\n",
      "        -^- Negator_DECO [o] -- Negate:\n",
      "            --> COND_Drill_Attached [x]\n",
      "        [-] Jog_Safe [o]\n",
      "            --> Move_Arm [o]\n",
      "            --> Move_Arm [o]\n",
      "        --> Set_Grip_Torque [o]\n",
      "        --> Check_OUT_Drill [o]\n",
      "\n",
      "\n",
      "Run completed! with status Status.SUCCESS after 43.79633951187134 seconds.\n",
      "\n",
      "\n",
      "\n",
      "### BT SESSION OVER ###\n"
     ]
    }
   ],
   "source": [
    "run_BT_until_done( tapTree )"
   ]
  },
  {
   "cell_type": "markdown",
   "metadata": {},
   "source": [
    "## Test M6"
   ]
  },
  {
   "cell_type": "code",
   "execution_count": 22,
   "metadata": {},
   "outputs": [
    {
     "name": "stdout",
     "output_type": "stream",
     "text": [
      "### RUN BT Sequence ###\n",
      "\n",
      "M6 checked OUT!\n",
      "Root node Sequence succeeded!\n",
      "\n",
      "[-] Sequence [o]\n",
      "    [-] Unholster_Drill [o]\n",
      "        --> Move_Arm [o]\n",
      "        --> Move_Arm [o]\n",
      "        --> Set_Grip_Torque [o]\n",
      "        --> Set_Fingers [o]\n",
      "        --> Move_Arm [o]\n",
      "        --> Set_Fingers [o]\n",
      "        --> Move_to_Contact [o]\n",
      "        --> Set_Grip_Torque [o]\n",
      "        [o] Recover_or_Quit [o]\n",
      "            -^- Run_to_X_Failures_DECO [o]\n",
      "                [o] Attached_Recover [o]\n",
      "                    --> COND_Drill_Attached [o]\n",
      "                    [-] Recovery_Sequence [-]\n",
      "                        --> Set_Fingers [-]\n",
      "                        --> Set_Grip_Torque [-]\n",
      "                        --> Move_Arm [-]\n",
      "                        --> Set_Fingers [-]\n",
      "                        --> Move_to_Contact [-]\n",
      "                        --> Set_Grip_Torque [-]\n",
      "                        --> COND_Drill_Attached [-]\n",
      "            [-] Give_Up [-]\n",
      "                --> Set_Fingers [-]\n",
      "                --> Move_Arm [-]\n",
      "                --> Set_Fingers [-]\n",
      "        [-] Got_It [o]\n",
      "            --> COND_Drill_Attached [o]\n",
      "            --> Check_OUT_Drill [o]\n",
      "            --> Move_Arm [o]\n",
      "            --> Move_Arm [o]\n",
      "            --> Move_Arm [o]\n",
      "    [-] Holster_Drill [o]\n",
      "        [-] COND_Holding_Drill [o]\n",
      "            --> COND_Drill_Checked_Out [o]\n",
      "            --> COND_Drill_Attached [o]\n",
      "        --> COND_Drill_Attached [o]\n",
      "        [-] Jog_Safe [o]\n",
      "            --> Move_Arm [o]\n",
      "            --> Move_Arm [o]\n",
      "        --> Move_Arm [o]\n",
      "        --> Move_Arm [o]\n",
      "        --> Move_Arm [o]\n",
      "        --> Move_to_Contact [o]\n",
      "        --> Set_Grip_Torque [o]\n",
      "        --> Set_Fingers [o]\n",
      "        --> Move_Arm [o]\n",
      "        --> Set_Fingers [o]\n",
      "        --> Move_Arm [o]\n",
      "        -^- Negator_DECO [o] -- Negate:\n",
      "            --> COND_Drill_Attached [x]\n",
      "        [-] Jog_Safe [o]\n",
      "            --> Move_Arm [o]\n",
      "            --> Move_Arm [o]\n",
      "        --> Set_Grip_Torque [o]\n",
      "        --> Check_OUT_Drill [o]\n",
      "    --> Move_Arm [o]\n",
      "\n",
      "\n",
      "Run completed! with status Status.SUCCESS after 43.634227991104126 seconds.\n",
      "\n",
      "\n",
      "\n",
      "### BT SESSION OVER ###\n"
     ]
    }
   ],
   "source": [
    "testTree = Sequence( memory = 1 ) \n",
    "\n",
    "testTree.add_child(\n",
    "    Unholster_Drill( \n",
    "        M6_GraspPose , \n",
    "        'M6' , \n",
    "        betweenPose = midDrillPose , \n",
    "        zApproach=0.20, zClose=0.040, zRetry=0.030 , Tpliant = 0.3 , \n",
    "        wdthNarrow = 0.038 , maxIter=5, drillPress = _DRILL_CONTACT_PRESS , \n",
    "        zFree= 0.200 , \n",
    "        ctrl = robot \n",
    "    )\n",
    ")\n",
    "\n",
    "testTree.add_child(\n",
    "    Holster_Drill( \n",
    "        M6_GraspPose , \n",
    "        'M6' , \n",
    "        betweenPose = midDrillPose , \n",
    "        zApproach=0.20, \n",
    "        zClose=0.040, \n",
    "        Tpliant = 0.3 ,  \n",
    "        wdthNarrow = 0.038 , maxIter=5, drillPress=_DRILL_CONTACT_PRESS , \n",
    "        zFree= 0.200 , \n",
    "        driverLen = 0.160 ,\n",
    "        ctrl = robot \n",
    "    )\n",
    ")\n",
    "\n",
    "testTree.add_child(\n",
    "    Move_Arm( pose  = SAFE_POSE , # 4x4 homogeneous coord pose\n",
    "              mode  = 'l' ,  # { 'l': linear in task space, 'j': linear in joint space }\n",
    "              speed = 0.125 , \n",
    "              accel = 0.35 , \n",
    "              ctrl  = robot )\n",
    ")\n",
    "\n",
    "run_BT_until_done( testTree )"
   ]
  },
  {
   "cell_type": "markdown",
   "metadata": {},
   "source": [
    "# Point Clouds"
   ]
  },
  {
   "cell_type": "code",
   "execution_count": 23,
   "metadata": {},
   "outputs": [
    {
     "name": "stdout",
     "output_type": "stream",
     "text": [
      "Cloud_Pipeline object created from components:  [<class 'cloud_proc.cloud_capturing.Cloud_Capturing'>, <class 'cloud_proc.cloud_poses.Cloud_Poses'>, <class 'cloud_proc.cloud_segmentation.Cloud_Segmentation'>, <class 'cloud_proc.cloud_processing.Cloud_Processing'>, <class 'cloud_proc.viewer_threejs.Viewer'>]\n"
     ]
    }
   ],
   "source": [
    "from cloud_proc.cloud_pipeline import Cloud_Pipeline\n",
    "CPL = Cloud_Pipeline()"
   ]
  },
  {
   "cell_type": "code",
   "execution_count": 24,
   "metadata": {},
   "outputs": [
    {
     "data": {
      "text/plain": [
       "True"
      ]
     },
     "execution_count": 24,
     "metadata": {},
     "output_type": "execute_result"
    }
   ],
   "source": [
    "robot.arm.move_speed( SAFE_POSE , 'l' , 0.125 , 0.35 , 0 , 'dummy' , False )\n",
    "robot.hand.set_finger_torque(0.3)\n",
    "robot.hand.set_finger_width(1.0)"
   ]
  },
  {
   "cell_type": "code",
   "execution_count": 25,
   "metadata": {},
   "outputs": [
    {
     "name": "stdout",
     "output_type": "stream",
     "text": [
      "set_disparity_shift_dist: Got distance: 0.2557657378789513 , Apply Offset: -0.079\n"
     ]
    }
   ],
   "source": [
    "robot.camera.set_disparity_shift_dist( SAFE_POSE[2,3] - 0.030 ) # Fetch Z\n",
    "# Capture pnt Cloud and transform to lab frame\n",
    "cloudInLabFrame = transform_points( robot.camera.get_cloud() , robot.get_base_to_camera_pose() )"
   ]
  },
  {
   "cell_type": "code",
   "execution_count": 26,
   "metadata": {},
   "outputs": [
    {
     "data": {
      "application/vnd.jupyter.widget-view+json": {
       "model_id": "a9b056d5fe1944bf9239675d06dd10dd",
       "version_major": 2,
       "version_minor": 0
      },
      "text/plain": [
       "Renderer(camera=PerspectiveCamera(aspect=1.6, fov=90.0, position=(0.29025132362526374, 1.0650937462534142, 3.0…"
      ]
     },
     "metadata": {},
     "output_type": "display_data"
    },
    {
     "data": {
      "application/vnd.jupyter.widget-view+json": {
       "model_id": "929f0091ceaa4a6a9f9bc229d13fc716",
       "version_major": 2,
       "version_minor": 0
      },
      "text/plain": [
       "HBox(children=(Label(value='Point size:'), FloatSlider(value=0.001, max=0.01, step=1e-05), Label(value='Backgr…"
      ]
     },
     "metadata": {},
     "output_type": "display_data"
    }
   ],
   "source": [
    "view = CPL.PC_Viewer()\n",
    "view.add_cloud( cloudInLabFrame )\n",
    "view.show()"
   ]
  },
  {
   "cell_type": "markdown",
   "metadata": {},
   "source": [
    "# Utils & Setup"
   ]
  },
  {
   "cell_type": "code",
   "execution_count": 27,
   "metadata": {},
   "outputs": [
    {
     "data": {
      "text/plain": [
       "1"
      ]
     },
     "execution_count": 27,
     "metadata": {},
     "output_type": "execute_result"
    }
   ],
   "source": [
    "robot.hand.deactivate_motors()"
   ]
  },
  {
   "cell_type": "code",
   "execution_count": 28,
   "metadata": {},
   "outputs": [
    {
     "data": {
      "text/plain": [
       "array([[-9.99999059e-01,  1.37103935e-03,  3.72023956e-05,\n",
       "        -9.15039339e-02],\n",
       "       [ 1.37109829e-03,  9.99997726e-01,  1.63343855e-03,\n",
       "        -2.49352707e-01],\n",
       "       [-3.49628024e-05,  1.63348803e-03, -9.99998665e-01,\n",
       "         2.85757773e-01],\n",
       "       [ 0.00000000e+00,  0.00000000e+00,  0.00000000e+00,\n",
       "         1.00000000e+00]])"
      ]
     },
     "execution_count": 28,
     "metadata": {},
     "output_type": "execute_result"
    }
   ],
   "source": [
    "robot.arm.get_tcp_pose()"
   ]
  },
  {
   "cell_type": "code",
   "execution_count": 5,
   "metadata": {},
   "outputs": [
    {
     "data": {
      "text/plain": [
       "True"
      ]
     },
     "execution_count": 5,
     "metadata": {},
     "output_type": "execute_result"
    }
   ],
   "source": [
    "robot.hand.set_finger_torque(0.3)"
   ]
  },
  {
   "cell_type": "code",
   "execution_count": 6,
   "metadata": {},
   "outputs": [
    {
     "data": {
      "text/plain": [
       "True"
      ]
     },
     "execution_count": 6,
     "metadata": {},
     "output_type": "execute_result"
    }
   ],
   "source": [
    "robot.hand.set_finger_width(0.0)"
   ]
  },
  {
   "cell_type": "code",
   "execution_count": 2,
   "metadata": {},
   "outputs": [
    {
     "data": {
      "text/plain": [
       "1"
      ]
     },
     "execution_count": 2,
     "metadata": {},
     "output_type": "execute_result"
    }
   ],
   "source": [
    "robot.hand.deactivate_motors()"
   ]
  },
  {
   "cell_type": "code",
   "execution_count": 18,
   "metadata": {},
   "outputs": [],
   "source": [
    "# M4_GraspPose = robot.arm.get_tcp_pose() #rm.get_tcp_pose()\n",
    "# %store M4_GraspPose"
   ]
  },
  {
   "cell_type": "code",
   "execution_count": 19,
   "metadata": {},
   "outputs": [
    {
     "data": {
      "text/plain": [
       "True"
      ]
     },
     "execution_count": 19,
     "metadata": {},
     "output_type": "execute_result"
    }
   ],
   "source": [
    "robot.arm.move_speed( midDrillPose , 'l' , 0.125 , 0.35 , 0 , 'dummy' , False )"
   ]
  },
  {
   "cell_type": "code",
   "execution_count": 20,
   "metadata": {},
   "outputs": [],
   "source": [
    "# midDrillPose = robot.arm.get_tcp_pose() #rm.get_tcp_pose()\n",
    "# %store midDrillPose"
   ]
  },
  {
   "cell_type": "code",
   "execution_count": 21,
   "metadata": {},
   "outputs": [],
   "source": [
    "# aboveTableDrill = robot.arm.get_tcp_pose() #rm.get_tcp_pose()\n",
    "# %store aboveTableDrill"
   ]
  },
  {
   "cell_type": "code",
   "execution_count": 22,
   "metadata": {},
   "outputs": [
    {
     "data": {
      "text/plain": [
       "True"
      ]
     },
     "execution_count": 22,
     "metadata": {},
     "output_type": "execute_result"
    }
   ],
   "source": [
    "robot.arm.move_speed( aboveTableDrill , 'l' , 0.125 , 0.35 , 0 , 'dummy' , False )"
   ]
  },
  {
   "cell_type": "markdown",
   "metadata": {},
   "source": [
    "# Run this after teaching any poses"
   ]
  },
  {
   "cell_type": "code",
   "execution_count": 23,
   "metadata": {},
   "outputs": [
    {
     "name": "stdout",
     "output_type": "stream",
     "text": [
      "{'nameStringList': ['startPose', 'M8_GraspPose', 'M6_GraspPose', 'M4_GraspPose', 'GearShaft1_Setdown', 'GearShaft2_Setdown', 'BNC_Ma_Setdown', 'KeySm_Setdown', 'KeyLg_Setdown', 'ShaftSm_Setdown', 'ShaftLg_Setdown', 'KeyLg_Grasp', 'ShaftLg_Grasp', 'BNC_Fe_Grasp', 'ShaftSm_Grasp', 'GearLg_Grasp', 'GearLg_Grasp', 'Ether_setdown', 'M8_1_mag', 'M8_2_mag', 'M8_3_mag', 'M8_4_mag', 'M8_5_mag', 'M8_6_mag', 'M6_1_mag', 'M6_2_mag', 'M6_3_mag', 'M6_4_mag', 'M6_5_mag', 'M6_6_mag', 'M4_1_mag', 'M4_2_mag', 'M4_3_mag', 'M4_4_mag', 'M4_5_mag', 'M4_6_mag', 'releasePose', 'SAFE_POSE', 'midDrillPose', '_LRG_GEAR_DEX', '_SML_GEAR_DEX', 'aboveTableDrill'], 'pklStruct': {}, 'pklPath': 'taughtPoses.pkl'}\n",
      "Pickling taughtPoses.pkl... Success!\n",
      "### Completed Writing taughtPoses.pkl ###\n"
     ]
    }
   ],
   "source": [
    "import pickle , traceback\n",
    "\n",
    "save_names_to_PKL( \n",
    "    pklPath = \"taughtPoses.pkl\" , \n",
    "    nameStringList = [  \n",
    "        'startPose' ,\n",
    "        'M8_GraspPose' , 'M6_GraspPose' , 'M4_GraspPose' , 'GearShaft1_Setdown' , 'GearShaft2_Setdown' , \n",
    "        'BNC_Ma_Setdown' , 'KeySm_Setdown' , 'KeyLg_Setdown' , 'ShaftSm_Setdown' , 'ShaftLg_Setdown' , \n",
    "        'KeyLg_Grasp' , 'ShaftLg_Grasp' , 'BNC_Fe_Grasp' , 'ShaftSm_Grasp' , \n",
    "        'GearLg_Grasp' , 'GearLg_Grasp' , 'Ether_setdown' , \n",
    "        'M8_1_mag' , 'M8_2_mag' , 'M8_3_mag' , 'M8_4_mag' , 'M8_5_mag' , 'M8_6_mag' ,\n",
    "        'M6_1_mag' , 'M6_2_mag' , 'M6_3_mag' , 'M6_4_mag' , 'M6_5_mag' , 'M6_6_mag' ,\n",
    "        'M4_1_mag' , 'M4_2_mag' , 'M4_3_mag' , 'M4_4_mag' , 'M4_5_mag' , 'M4_6_mag' ,\n",
    "        'releasePose' , 'SAFE_POSE' , 'midDrillPose' , \n",
    "        '_LRG_GEAR_DEX' , '_SML_GEAR_DEX', 'aboveTableDrill'\n",
    "    ]\n",
    ")"
   ]
  },
  {
   "cell_type": "code",
   "execution_count": null,
   "metadata": {},
   "outputs": [],
   "source": []
  }
 ],
 "metadata": {
  "kernelspec": {
   "display_name": "Python 3",
   "language": "python",
   "name": "python3"
  },
  "language_info": {
   "codemirror_mode": {
    "name": "ipython",
    "version": 3
   },
   "file_extension": ".py",
   "mimetype": "text/x-python",
   "name": "python",
   "nbconvert_exporter": "python",
   "pygments_lexer": "ipython3",
   "version": "3.5.2"
  },
  "toc-autonumbering": true,
  "toc-showmarkdowntxt": false
 },
 "nbformat": 4,
 "nbformat_minor": 4
}
