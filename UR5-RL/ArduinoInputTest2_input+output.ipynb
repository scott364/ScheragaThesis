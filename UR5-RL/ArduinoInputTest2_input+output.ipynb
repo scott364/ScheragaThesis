{
 "cells": [
  {
   "cell_type": "code",
   "execution_count": null,
   "id": "04d66957-568a-412b-b6d9-8e3d304c8127",
   "metadata": {},
   "outputs": [],
   "source": [
    "#Run in terminal\n",
    "#sudo chmod 666 /dev/ttyACM1\n",
    "\n",
    "#sudo chmod a+rw /dev/ttyACM0"
   ]
  },
  {
   "cell_type": "code",
   "execution_count": 6,
   "id": "09553c9b-3caf-4a6b-ada5-888b47b0de17",
   "metadata": {},
   "outputs": [
    {
     "name": "stdout",
     "output_type": "stream",
     "text": [
      "[<serial.tools.list_ports_linux.SysFS object at 0x7f63804f3650>, <serial.tools.list_ports_linux.SysFS object at 0x7f63804f3710>]\n",
      "port= /dev/ttyACM1\n"
     ]
    }
   ],
   "source": [
    "import time\n",
    "import serial\n",
    "import serial.tools.list_ports\n",
    "ports = serial.tools.list_ports.comports()\n",
    "\n",
    "# Take a looksudo chmod a+rw /dev/ttyACM0\n",
    "print(ports)\n",
    "\n",
    "[port.manufacturer for port in ports]\n",
    "\n",
    "def find_arduino(port=None):\n",
    "    \"\"\"Get the name of the port that is connected to Arduino.\"\"\"\n",
    "    if port is None:\n",
    "        ports = serial.tools.list_ports.comports()\n",
    "        for p in ports:\n",
    "            if p.manufacturer is not None and \"SparkFun\" in p.manufacturer:\n",
    "                port = p.device\n",
    "    return port\n",
    "\n",
    "arduinoport = find_arduino()\n",
    "\n",
    "print(\"port=\",arduinoport)\n",
    "arduinoserial = serial.Serial(arduinoport,9600)"
   ]
  },
  {
   "cell_type": "code",
   "execution_count": 7,
   "id": "fd944ffc-dd9e-42cb-a869-a5e495e7bda0",
   "metadata": {},
   "outputs": [
    {
     "name": "stdout",
     "output_type": "stream",
     "text": [
      "b'0\\r\\n'\n",
      "no contact\n"
     ]
    }
   ],
   "source": [
    "\n",
    "\n",
    "\n",
    "\n",
    "#while True:\n",
    "#sio = io.TextIOWrapper(io.BufferedRWPair(ser, ser))\n",
    "arduinoserial.write(b'q\\n')\n",
    "\n",
    "b = arduinoserial.readline()\n",
    "print(b)\n",
    "if b== b'1\\r\\n':\n",
    "    print(\"contact\")\n",
    "else:\n",
    "    print(\"no contact\")"
   ]
  },
  {
   "cell_type": "code",
   "execution_count": null,
   "id": "a645797f-6847-42bd-a70a-0494e6d91b93",
   "metadata": {},
   "outputs": [],
   "source": []
  },
  {
   "cell_type": "code",
   "execution_count": null,
   "id": "eae9c522-6668-4ce2-8c1e-542985b3274c",
   "metadata": {},
   "outputs": [],
   "source": []
  }
 ],
 "metadata": {
  "kernelspec": {
   "display_name": "Python 3 (ipykernel)",
   "language": "python",
   "name": "python3"
  },
  "language_info": {
   "codemirror_mode": {
    "name": "ipython",
    "version": 3
   },
   "file_extension": ".py",
   "mimetype": "text/x-python",
   "name": "python",
   "nbconvert_exporter": "python",
   "pygments_lexer": "ipython3",
   "version": "3.7.11"
  }
 },
 "nbformat": 4,
 "nbformat_minor": 5
}
