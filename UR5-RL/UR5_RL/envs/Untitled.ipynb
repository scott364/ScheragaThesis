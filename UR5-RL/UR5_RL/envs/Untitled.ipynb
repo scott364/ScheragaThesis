{
 "cells": [
  {
   "cell_type": "code",
   "execution_count": 23,
   "id": "a2a26d46-b70b-40a5-8adc-a31b352e5e31",
   "metadata": {},
   "outputs": [
    {
     "name": "stdout",
     "output_type": "stream",
     "text": [
      "[[-0.99937006 -0.00793447  0.03459093 -0.23718183]\n",
      " [-0.00750209  0.99989233  0.01261162 -0.59998911]\n",
      " [-0.03468727  0.01234417 -0.99932198  0.0638135 ]\n",
      " [ 0.          0.          0.          1.        ]]\n",
      "\n",
      "[[-0.99937006 -0.00793447  0.03459093 -0.23718183]\n",
      " [-0.00750209  0.99989233  0.01261162 -0.59998911]\n",
      " [-0.03468727  0.01234417 -0.99932198  0.0638135 ]]\n",
      "hello\n",
      "-9.337872365283001 -23.621631259611 2.5123438763499997\n",
      "179.29228725251474 1.9878329916962305 -179.56989892877252\n",
      "output\n",
      "[[-0.59846007 -0.47945786  0.64184555]\n",
      " [-0.80115264  0.35815445 -0.47945786]\n",
      " [ 0.         -0.80115264 -0.59846007]]\n"
     ]
    }
   ],
   "source": [
    "import numpy as np\n",
    "from scipy.spatial.transform import Rotation as R\n",
    "TransRotatmatrix=np.array([\n",
    "[-0.99937006,-0.00793447 ,0.03459093, -0.23718183],\n",
    "[-0.00750209 , 0.99989233  ,0.01261162 ,-0.59998911],\n",
    "[-0.03468727  ,0.01234417 ,-0.99932198 , 0.0638135 ],\n",
    "[ 0.         , 0.       ,   0.      ,    1.        ]])\n",
    "\n",
    "def rot2rpy(Rt, degrees=False):\n",
    "    \"\"\" Converts a rotation matrix into rpy / intrinsic xyz euler angle form.\n",
    "    Args:    Rt (ndarray): The rotation matrix.\n",
    "    Returns: ndarray: Angles in rpy / intrinsic xyz euler angle form.\n",
    "    \"\"\"\n",
    "    return R.from_matrix(Rt).as_euler('xyz', degrees=degrees)\n",
    "\n",
    "\n",
    "def rpy2rot(rpy, degrees=False):\n",
    "    \"\"\"Converts rpy / intrinsic xyz euler angles into a rotation matrix.\n",
    "    Args:    rpy (array-like): rpy / intrinsic xyz euler angles.\n",
    "             degrees (bool) : Whether or not euler_angles are in degrees (True), or radians (False).\n",
    "    Returns: ndarray: The rotation matrix.\n",
    "    \"\"\"\n",
    "    return R.from_euler('xyz', rpy, degrees=degrees).as_matrix()\n",
    "\n",
    "#TransRotatmatrix=robot.arm.get_tcp_pose() \n",
    "print(TransRotatmatrix)\n",
    "x_pose=TransRotatmatrix[0][3]*39.3701  #convert to inches \n",
    "y_pose=TransRotatmatrix[1][3]*39.3701\n",
    "z_pose=TransRotatmatrix[2][3]*39.3701\n",
    "print(\"\")\n",
    "print(TransRotatmatrix[0:3][0:3])\n",
    "print(\"hello\")\n",
    "rpy=rot2rpy(TransRotatmatrix[0:3,0:3],True)\n",
    "roll=rpy[0]  #In degrees!\n",
    "pitch=rpy[1]\n",
    "yaw=rpy[2]\n",
    "print(x_pose,y_pose,z_pose)\n",
    "print(roll,pitch,yaw)\n",
    "\n",
    "rpy=[180, 0, -180]\n",
    "mat=rpy2rot(rpy)\n",
    "\n",
    "print(\"output\")\n",
    "print(mat)\n",
    "\n",
    "\n",
    "\n"
   ]
  },
  {
   "cell_type": "code",
   "execution_count": 30,
   "id": "92e24590-bf5c-43ca-a2ce-8f05d618232e",
   "metadata": {},
   "outputs": [
    {
     "name": "stdout",
     "output_type": "stream",
     "text": [
      "output\n",
      "[[-1.00000000e+00 -1.22464680e-16 -1.49975978e-32]\n",
      " [-1.22464680e-16  1.00000000e+00  1.22464680e-16]\n",
      " [ 0.00000000e+00  1.22464680e-16 -1.00000000e+00]]\n"
     ]
    }
   ],
   "source": [
    "rpy=[180, 0, -180]\n",
    "mat=rpy2rot(rpy,True)\n",
    "\n",
    "print(\"output\")\n",
    "print(mat)\n"
   ]
  },
  {
   "cell_type": "code",
   "execution_count": 29,
   "id": "f57b9e1c-9115-49ae-a002-bfd67918ed96",
   "metadata": {},
   "outputs": [
    {
     "name": "stdout",
     "output_type": "stream",
     "text": [
      "[-1.26759687e+02  3.13864642e-08 -1.26759687e+02]\n"
     ]
    }
   ],
   "source": [
    "BlockInsertPoseV2=np.array(\n",
    "[[-0.59846007, -0.47945786 , 0.64184555,-0.23718183],\n",
    " [-0.80115264 , 0.35815445, -0.47945786,-0.59998911],\n",
    " [ 0.        , -0.80115264 ,-0.59846007, 0.0638135 ],\n",
    " [ 0.         , 0.       ,   0.      ,    1.        ]])\n",
    "\n",
    "rpy2=rot2rpy(BlockInsertPoseV2[0:3,0:3],True)\n",
    "rpy=rot2rpy(mat,True)\n",
    "print(rpy2)"
   ]
  },
  {
   "cell_type": "code",
   "execution_count": 34,
   "id": "131ad6e2-405e-4653-9e7f-db089bd3847c",
   "metadata": {},
   "outputs": [
    {
     "name": "stdout",
     "output_type": "stream",
     "text": [
      "[ 180.    0. -180.]\n"
     ]
    }
   ],
   "source": [
    "BlockInsertPoseV2=np.array(\n",
    "[[-1 ,0,0,                   -0.23718183],\n",
    " [-1.22464680e-16 ,  1,  0,                 -0.59998911],\n",
    " [ 0 , 0, -1,                 0.0638135],\n",
    " [ 0.   , 0.  ,   0.      ,    1.        ]])\n",
    "rpy2=rot2rpy(BlockInsertPoseV2[0:3,0:3],True)\n",
    "rpy=rot2rpy(mat,True)\n",
    "print(rpy2)"
   ]
  },
  {
   "cell_type": "code",
   "execution_count": null,
   "id": "9467d577-0beb-4313-933f-781bf8fde467",
   "metadata": {},
   "outputs": [],
   "source": []
  }
 ],
 "metadata": {
  "kernelspec": {
   "display_name": "Python 3",
   "language": "python",
   "name": "python3"
  },
  "language_info": {
   "codemirror_mode": {
    "name": "ipython",
    "version": 3
   },
   "file_extension": ".py",
   "mimetype": "text/x-python",
   "name": "python",
   "nbconvert_exporter": "python",
   "pygments_lexer": "ipython3",
   "version": "3.6.9"
  }
 },
 "nbformat": 4,
 "nbformat_minor": 5
}
