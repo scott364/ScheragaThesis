{
 "cells": [
  {
   "cell_type": "code",
   "execution_count": 5,
   "id": "df60df45-657f-48ff-a922-3c040a13574b",
   "metadata": {},
   "outputs": [
    {
     "name": "stdout",
     "output_type": "stream",
     "text": [
      "[[ 1  2  3  4]\n",
      " [ 5  6  7  8]\n",
      " [ 9 10 11 12]]\n",
      "[[ 2  3  4]\n",
      " [ 6  7  8]\n",
      " [10 11 12]]\n",
      "after concat\n",
      "[[ 2  3  4 13]\n",
      " [ 6  7  8 14]\n",
      " [10 11 12 15]]\n"
     ]
    }
   ],
   "source": [
    "import numpy as np\n",
    "arr = np.array([[1,2,3,4], [5,6,7,8], [9,10,11,12]])\n",
    "print(arr)\n",
    "#  array([[ 1,  2,  3,  4],\n",
    "#         [ 5,  6,  7,  8],\n",
    "#         [ 9, 10, 11, 12]])\n",
    "arr = np.delete(arr, 0, 1)\n",
    "print(arr)\n",
    "newcol=np.array([[13],[14],[15]])\n",
    "arr =np.concatenate((arr, newcol), 1)\n",
    "print(\"after concat\")\n",
    "print(arr)"
   ]
  },
  {
   "cell_type": "code",
   "execution_count": 9,
   "id": "2ce106a2-7f9b-4052-93ee-aef6ff623d7b",
   "metadata": {},
   "outputs": [],
   "source": [
    "xforce_normalized=1\n",
    "yforce_normalized=2\n",
    "zforce_normalized=3\n",
    "rolltorque_normalized=4\n",
    "pitchtorque_normalized=5\n",
    "\n",
    "\n",
    "FT_list_x_normalized=[]\n",
    "FT_list_y_normalized=[]\n",
    "FT_list_z_normalized=[]\n",
    "FT_list_roll_normalized=[]\n",
    "FT_list_pitch_normalized=[]"
   ]
  },
  {
   "cell_type": "code",
   "execution_count": 15,
   "id": "05514c52-d820-4972-bb23-6c13ae125aaa",
   "metadata": {},
   "outputs": [
    {
     "name": "stdout",
     "output_type": "stream",
     "text": [
      "(5, 0)\n",
      "after concat\n",
      "[[1. 9. 8.]\n",
      " [2. 9. 8.]\n",
      " [3. 9. 8.]\n",
      " [4. 9. 8.]\n",
      " [5. 9. 8.]]\n",
      "[[9. 8.]\n",
      " [9. 8.]\n",
      " [9. 8.]\n",
      " [9. 8.]\n",
      " [9. 8.]]\n",
      "(5, 2)\n"
     ]
    }
   ],
   "source": [
    "arr2= np.array([[],[],[],[],[]])\n",
    "print(arr2.shape)\n",
    "\n",
    "newcol=np.array([[xforce_normalized],[yforce_normalized],[zforce_normalized],[rolltorque_normalized],[pitchtorque_normalized]])\n",
    "\n",
    "\n",
    "newcol2=np.array([[9],[9],[9],[9],[9]])\n",
    "newcol3=np.array([[8],[8],[8],[8],[8]])\n",
    "arr2 =np.concatenate((arr2, newcol), 1)\n",
    "arr2 =np.concatenate((arr2, newcol2), 1)\n",
    "arr2 =np.concatenate((arr2, newcol3), 1)\n",
    "print(\"after concat\")\n",
    "print(arr2)\n",
    "arr3 = np.delete(arr2, 0, 1)\n",
    "\n",
    "print(arr3)\n",
    "print(arr3.shape)"
   ]
  },
  {
   "cell_type": "code",
   "execution_count": 16,
   "id": "116854f0-291b-47b4-b820-30c44b15011d",
   "metadata": {},
   "outputs": [
    {
     "name": "stdout",
     "output_type": "stream",
     "text": [
      "(5, 2)\n",
      "2\n"
     ]
    }
   ],
   "source": [
    "print(arr3.shape)\n",
    "print(arr3.shape[1])"
   ]
  },
  {
   "cell_type": "code",
   "execution_count": null,
   "id": "d36cbbe6-7a01-4b61-a92c-169e60f7f546",
   "metadata": {},
   "outputs": [],
   "source": []
  }
 ],
 "metadata": {
  "kernelspec": {
   "display_name": "Python 3 (ipykernel)",
   "language": "python",
   "name": "python3"
  },
  "language_info": {
   "codemirror_mode": {
    "name": "ipython",
    "version": 3
   },
   "file_extension": ".py",
   "mimetype": "text/x-python",
   "name": "python",
   "nbconvert_exporter": "python",
   "pygments_lexer": "ipython3",
   "version": "3.7.11"
  }
 },
 "nbformat": 4,
 "nbformat_minor": 5
}
