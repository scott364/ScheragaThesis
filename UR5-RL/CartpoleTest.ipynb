{
 "cells": [
  {
   "cell_type": "code",
   "execution_count": null,
   "id": "3ba46597-44d5-425d-bd1f-feef9b22f6fb",
   "metadata": {},
   "outputs": [],
   "source": [
    "from stable_baselines import PPO2\n",
    "\n",
    "# For recurrent policies, with PPO2, the number of environments run in parallel\n",
    "# should be a multiple of nminibatches.\n",
    "model = PPO2('MlpLstmPolicy', 'CartPole-v1', nminibatches=1, verbose=1)\n",
    "model.learn(50000)\n",
    "\n",
    "# Retrieve the env\n",
    "env = model.get_env()\n",
    "\n",
    "obs = env.reset()\n",
    "# Passing state=None to the predict function means\n",
    "# it is the initial state\n",
    "state = None\n",
    "# When using VecEnv, done is a vector\n",
    "done = [False for _ in range(env.num_envs)]\n",
    "for _ in range(1000):\n",
    "    # We need to pass the previous state and a mask for recurrent policies\n",
    "    # to reset lstm state when a new episode begin\n",
    "    action, state = model.predict(obs, state=state, mask=done)\n",
    "    obs, reward , done, _ = env.step(action)\n",
    "    # Note: with VecEnv, env.reset() is automatically called\n",
    "\n",
    "    # Show the env\n",
    "    env.render()"
   ]
  },
  {
   "cell_type": "code",
   "execution_count": null,
   "id": "efdbddb7-6c37-4857-89b3-548db801012a",
   "metadata": {},
   "outputs": [],
   "source": [
    "\n",
    "# Retrieve the env\n",
    "env = model.get_env()\n",
    "\n",
    "obs = env.reset()\n",
    "# Passing state=None to the predict function means\n",
    "# it is the initial state\n",
    "state = None\n",
    "# When using VecEnv, done is a vector\n",
    "done = [False for _ in range(env.num_envs)]\n",
    "for _ in range(1000):\n",
    "    # We need to pass the previous state and a mask for recurrent policies\n",
    "    # to reset lstm state when a new episode begin\n",
    "    action, state = model.predict(obs, state=state, mask=done)\n",
    "    obs, reward , done, _ = env.step(action)\n",
    "    # Note: with VecEnv, env.reset() is automatically called\n",
    "\n",
    "    # Show the env\n",
    "    env.render()"
   ]
  },
  {
   "cell_type": "markdown",
   "id": "b60d6850-76df-44a6-9a79-cfbc85b9271d",
   "metadata": {},
   "source": [
    "## Pretraining"
   ]
  },
  {
   "cell_type": "code",
   "execution_count": 6,
   "id": "2e65755a-8648-4b2e-8590-821a096ae050",
   "metadata": {},
   "outputs": [
    {
     "ename": "ModuleNotFoundError",
     "evalue": "No module named 'mpi4py'",
     "output_type": "error",
     "traceback": [
      "\u001b[0;31m---------------------------------------------------------------------------\u001b[0m",
      "\u001b[0;31mModuleNotFoundError\u001b[0m                       Traceback (most recent call last)",
      "\u001b[0;32m<ipython-input-6-75157bfd34a0>\u001b[0m in \u001b[0;36m<module>\u001b[0;34m\u001b[0m\n\u001b[1;32m      1\u001b[0m \u001b[0;32mimport\u001b[0m \u001b[0mgym\u001b[0m\u001b[0;34m\u001b[0m\u001b[0;34m\u001b[0m\u001b[0m\n\u001b[1;32m      2\u001b[0m \u001b[0;34m\u001b[0m\u001b[0m\n\u001b[0;32m----> 3\u001b[0;31m \u001b[0;32mfrom\u001b[0m \u001b[0mstable_baselines\u001b[0m\u001b[0;34m.\u001b[0m\u001b[0mgail\u001b[0m \u001b[0;32mimport\u001b[0m \u001b[0mgenerate_expert_traj\u001b[0m\u001b[0;34m\u001b[0m\u001b[0;34m\u001b[0m\u001b[0m\n\u001b[0m\u001b[1;32m      4\u001b[0m \u001b[0;34m\u001b[0m\u001b[0m\n\u001b[1;32m      5\u001b[0m \u001b[0menv\u001b[0m \u001b[0;34m=\u001b[0m \u001b[0mgym\u001b[0m\u001b[0;34m.\u001b[0m\u001b[0mmake\u001b[0m\u001b[0;34m(\u001b[0m\u001b[0;34m\"CartPole-v1\"\u001b[0m\u001b[0;34m)\u001b[0m\u001b[0;34m\u001b[0m\u001b[0;34m\u001b[0m\u001b[0m\n",
      "\u001b[0;32m~/anaconda3/envs/thesis/lib/python3.6/site-packages/stable_baselines/gail/__init__.py\u001b[0m in \u001b[0;36m<module>\u001b[0;34m\u001b[0m\n\u001b[0;32m----> 1\u001b[0;31m \u001b[0;32mfrom\u001b[0m \u001b[0mstable_baselines\u001b[0m\u001b[0;34m.\u001b[0m\u001b[0mgail\u001b[0m\u001b[0;34m.\u001b[0m\u001b[0mmodel\u001b[0m \u001b[0;32mimport\u001b[0m \u001b[0mGAIL\u001b[0m\u001b[0;34m\u001b[0m\u001b[0;34m\u001b[0m\u001b[0m\n\u001b[0m\u001b[1;32m      2\u001b[0m \u001b[0;32mfrom\u001b[0m \u001b[0mstable_baselines\u001b[0m\u001b[0;34m.\u001b[0m\u001b[0mgail\u001b[0m\u001b[0;34m.\u001b[0m\u001b[0mdataset\u001b[0m\u001b[0;34m.\u001b[0m\u001b[0mdataset\u001b[0m \u001b[0;32mimport\u001b[0m \u001b[0mExpertDataset\u001b[0m\u001b[0;34m,\u001b[0m \u001b[0mDataLoader\u001b[0m\u001b[0;34m\u001b[0m\u001b[0;34m\u001b[0m\u001b[0m\n\u001b[1;32m      3\u001b[0m \u001b[0;32mfrom\u001b[0m \u001b[0mstable_baselines\u001b[0m\u001b[0;34m.\u001b[0m\u001b[0mgail\u001b[0m\u001b[0;34m.\u001b[0m\u001b[0mdataset\u001b[0m\u001b[0;34m.\u001b[0m\u001b[0mrecord_expert\u001b[0m \u001b[0;32mimport\u001b[0m \u001b[0mgenerate_expert_traj\u001b[0m\u001b[0;34m\u001b[0m\u001b[0;34m\u001b[0m\u001b[0m\n",
      "\u001b[0;32m~/anaconda3/envs/thesis/lib/python3.6/site-packages/stable_baselines/gail/model.py\u001b[0m in \u001b[0;36m<module>\u001b[0;34m\u001b[0m\n\u001b[0;32m----> 1\u001b[0;31m \u001b[0;32mfrom\u001b[0m \u001b[0mstable_baselines\u001b[0m\u001b[0;34m.\u001b[0m\u001b[0mtrpo_mpi\u001b[0m \u001b[0;32mimport\u001b[0m \u001b[0mTRPO\u001b[0m\u001b[0;34m\u001b[0m\u001b[0;34m\u001b[0m\u001b[0m\n\u001b[0m\u001b[1;32m      2\u001b[0m \u001b[0;34m\u001b[0m\u001b[0m\n\u001b[1;32m      3\u001b[0m \u001b[0;34m\u001b[0m\u001b[0m\n\u001b[1;32m      4\u001b[0m \u001b[0;32mclass\u001b[0m \u001b[0mGAIL\u001b[0m\u001b[0;34m(\u001b[0m\u001b[0mTRPO\u001b[0m\u001b[0;34m)\u001b[0m\u001b[0;34m:\u001b[0m\u001b[0;34m\u001b[0m\u001b[0;34m\u001b[0m\u001b[0m\n\u001b[1;32m      5\u001b[0m     \"\"\"\n",
      "\u001b[0;32m~/anaconda3/envs/thesis/lib/python3.6/site-packages/stable_baselines/trpo_mpi/__init__.py\u001b[0m in \u001b[0;36m<module>\u001b[0;34m\u001b[0m\n\u001b[0;32m----> 1\u001b[0;31m \u001b[0;32mfrom\u001b[0m \u001b[0mstable_baselines\u001b[0m\u001b[0;34m.\u001b[0m\u001b[0mtrpo_mpi\u001b[0m\u001b[0;34m.\u001b[0m\u001b[0mtrpo_mpi\u001b[0m \u001b[0;32mimport\u001b[0m \u001b[0mTRPO\u001b[0m\u001b[0;34m\u001b[0m\u001b[0;34m\u001b[0m\u001b[0m\n\u001b[0m",
      "\u001b[0;32m~/anaconda3/envs/thesis/lib/python3.6/site-packages/stable_baselines/trpo_mpi/trpo_mpi.py\u001b[0m in \u001b[0;36m<module>\u001b[0;34m\u001b[0m\n\u001b[1;32m      4\u001b[0m \u001b[0;34m\u001b[0m\u001b[0m\n\u001b[1;32m      5\u001b[0m \u001b[0;32mimport\u001b[0m \u001b[0mgym\u001b[0m\u001b[0;34m\u001b[0m\u001b[0;34m\u001b[0m\u001b[0m\n\u001b[0;32m----> 6\u001b[0;31m \u001b[0;32mfrom\u001b[0m \u001b[0mmpi4py\u001b[0m \u001b[0;32mimport\u001b[0m \u001b[0mMPI\u001b[0m\u001b[0;34m\u001b[0m\u001b[0;34m\u001b[0m\u001b[0m\n\u001b[0m\u001b[1;32m      7\u001b[0m \u001b[0;32mimport\u001b[0m \u001b[0mtensorflow\u001b[0m \u001b[0;32mas\u001b[0m \u001b[0mtf\u001b[0m\u001b[0;34m\u001b[0m\u001b[0;34m\u001b[0m\u001b[0m\n\u001b[1;32m      8\u001b[0m \u001b[0;32mimport\u001b[0m \u001b[0mnumpy\u001b[0m \u001b[0;32mas\u001b[0m \u001b[0mnp\u001b[0m\u001b[0;34m\u001b[0m\u001b[0;34m\u001b[0m\u001b[0m\n",
      "\u001b[0;31mModuleNotFoundError\u001b[0m: No module named 'mpi4py'"
     ]
    }
   ],
   "source": [
    "import gym\n",
    "\n",
    "from stable_baselines.gail import generate_expert_traj\n",
    "\n",
    "env = gym.make(\"CartPole-v1\")\n",
    "# Here the expert is a random agent\n",
    "# but it can be any python function, e.g. a PID controller\n",
    "def dummy_expert(_obs):\n",
    "    \"\"\"\n",
    "    Random agent. It samples actions randomly\n",
    "    from the action space of the environment.\n",
    "\n",
    "    :param _obs: (np.ndarray) Current observation\n",
    "    :return: (np.ndarray) action taken by the expert\n",
    "    \"\"\"\n",
    "    return env.action_space.sample()\n",
    "# Data will be saved in a numpy archive named `expert_cartpole.npz`\n",
    "# when using something different than an RL expert,\n",
    "# you must pass the environment object explicitly\n",
    "generate_expert_traj(dummy_expert, 'dummy_expert_cartpole', env, n_episodes=10)"
   ]
  },
  {
   "cell_type": "code",
   "execution_count": null,
   "id": "64c87aef-abc5-4eb2-92e1-bad53b2fc925",
   "metadata": {},
   "outputs": [],
   "source": []
  }
 ],
 "metadata": {
  "kernelspec": {
   "display_name": "Python 3",
   "language": "python",
   "name": "python3"
  },
  "language_info": {
   "codemirror_mode": {
    "name": "ipython",
    "version": 3
   },
   "file_extension": ".py",
   "mimetype": "text/x-python",
   "name": "python",
   "nbconvert_exporter": "python",
   "pygments_lexer": "ipython3",
   "version": "3.6.9"
  }
 },
 "nbformat": 4,
 "nbformat_minor": 5
}
