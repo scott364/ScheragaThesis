{
 "cells": [
  {
   "cell_type": "code",
   "execution_count": 9,
   "id": "aad28014-38d6-4d8e-8bcc-fe8d3ea96d82",
   "metadata": {},
   "outputs": [],
   "source": [
    "from datetime import date\n",
    "import csv\n",
    "\n",
    "todaydate = today.strftime(\"%m_%d_%Y\")"
   ]
  },
  {
   "cell_type": "code",
   "execution_count": 10,
   "id": "6d6cc2a2-bc60-452a-adea-6cac29f6852a",
   "metadata": {},
   "outputs": [],
   "source": [
    "\n",
    "print(\"d1 =\", todaydate)\n",
    "\n"
   ]
  },
  {
   "cell_type": "code",
   "execution_count": 13,
   "id": "d91904ca-e178-4bc9-9e01-17a131f494dd",
   "metadata": {},
   "outputs": [
    {
     "name": "stdout",
     "output_type": "stream",
     "text": [
      "rewardlist_09_13_2021.csv\n"
     ]
    }
   ],
   "source": [
    "today = date.today()\n",
    "todaydate = today.strftime(\"%m_%d_%Y\")\n",
    "rewardlistfilename=\"rewardlist_\"+todaydate+'.csv'\n",
    "print(filename)\n",
    "with open(rewardlistfilename, mode='a') as outputfile:\n",
    "            writer = csv.writer(outputfile, delimiter=',', quotechar='\"', quoting=csv.QUOTE_MINIMAL)\n",
    "\n",
    "                #employee_writer.writerow(['John Smith', 'Accounting', 'November'])\n",
    "                #employee_writer.writerow(['Erica Meyers', 'IT', 'March'])\n",
    "            writer.writerow([1])\n",
    "                \n",
    "                "
   ]
  },
  {
   "cell_type": "code",
   "execution_count": null,
   "id": "eeeda4e1-8a8c-4034-99ad-b888de532be4",
   "metadata": {},
   "outputs": [],
   "source": []
  }
 ],
 "metadata": {
  "kernelspec": {
   "display_name": "Python 3",
   "language": "python",
   "name": "python3"
  },
  "language_info": {
   "codemirror_mode": {
    "name": "ipython",
    "version": 3
   },
   "file_extension": ".py",
   "mimetype": "text/x-python",
   "name": "python",
   "nbconvert_exporter": "python",
   "pygments_lexer": "ipython3",
   "version": "3.6.9"
  }
 },
 "nbformat": 4,
 "nbformat_minor": 5
}
