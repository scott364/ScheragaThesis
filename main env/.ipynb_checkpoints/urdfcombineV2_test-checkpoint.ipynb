{
 "cells": [
  {
   "cell_type": "markdown",
   "metadata": {},
   "source": [
    "## code 1"
   ]
  },
  {
   "cell_type": "code",
   "execution_count": 1,
   "metadata": {},
   "outputs": [],
   "source": [
    "import time\n",
    "import os\n",
    "import sys\n",
    "import pybullet as p\n",
    "from cairo_simulator.core.utils import ASSETS_PATH\n",
    "from cairo_simulator.core.log import Logger\n",
    "from cairo_simulator.core.link import *\n",
    "from cairo_simulator.core.simulator import Simulator, SimObject\n",
    "from cairo_simulator.devices.manipulators import *\n",
    "from manipulatorsMOD import SawyerMOD\n",
    "from utils import load_configuration, save_config_to_configuration_file, manual_control, create_cuboid_obstacle\n",
    "from pybullet_utils import bullet_client as bc\n",
    "from pybullet_utils import urdfEditor as ed\n",
    "import pybullet_data\n",
    "import time\n",
    "\n",
    "def main():\n",
    "    use_ros = False\n",
    "    use_real_time = True\n",
    "    logger = Logger()\n",
    "    sim = Simulator(logger=logger, use_ros=use_ros, use_real_time=use_real_time) # Initialize the Simulator\n",
    "    p.setGravity(0,0,-9.81)\n",
    "    p.setPhysicsEngineParameter(enableFileCaching=0)\n",
    "    ground_plane = SimObject(\"Ground\", \"plane.urdf\", [0,0,0])\n",
    "    table = SimObject('table', 'NEWtable.urdf',  (0.9, 0.1, .47),(1.5708*2,0,0),fixed_base=1)\n",
    "\n",
    "    p.configureDebugVisualizer(p.COV_ENABLE_GUI,0) #disable explorer and camera views\n",
    "    p.configureDebugVisualizer(p.COV_ENABLE_RENDERING,1)\n",
    "    \n",
    "    \n",
    "    \"\"\"\n",
    "    #dofindex=[3, 8, 9, 10, 11, 13, 16]\n",
    "    [4, 9, 10, 11, 12, 14, 17]\n",
    "    #['right_j0', 'right_j1', 'right_j2', 'right_j3', 'right_j4', 'right_j5', 'right_j6']\n",
    "    \"\"\"\n",
    "    \n",
    "    \n",
    "    # URDF Combine V2--------------------------------\n",
    "    #https://github.com/bulletphysics/bullet3/blob/master/examples/pybullet/gym/pybullet_utils/examples/combineUrdf.py\n",
    "    p0 = bc.BulletClient(connection_mode=p.DIRECT)\n",
    "    p0.setAdditionalSearchPath(pybullet_data.getDataPath())\n",
    "    p1 = bc.BulletClient(connection_mode=p.DIRECT)\n",
    "    p1.setAdditionalSearchPath(pybullet_data.getDataPath())\n",
    "\n",
    "    #husky = p1.loadURDF(\"1block.urdf\", flags=p0.URDF_USE_IMPLICIT_CYLINDER)\n",
    "    #husky = p1.loadURDF(\"C_hole.urdf\", flags=p0.URDF_USE_IMPLICIT_CYLINDER)\n",
    "    \n",
    "    #husky = p1.loadURDF(ASSETS_PATH +'sawyer_description/urdf/sawyer_static_classic.urdf', flags=p0.URDF_USE_IMPLICIT_CYLINDER)\n",
    "    husky = p1.loadURDF(ASSETS_PATH +'sawyer_description/urdf/sawyer_static.urdf', flags=p0.URDF_USE_IMPLICIT_CYLINDER)\n",
    "\n",
    "    kuka = p0.loadURDF(\"1block.urdf\")\n",
    "    ed0 = ed.UrdfEditor()\n",
    "    ed0.initializeFromBulletBody(husky, p1._client)\n",
    "    ed1 = ed.UrdfEditor()\n",
    "    ed1.initializeFromBulletBody(kuka, p0._client)\n",
    "    \n",
    "    parentLinkIndex = 18\n",
    "    jointPivotXYZInParent = [0, 0, 0] \n",
    "    jointPivotRPYInParent = [0, 0, 0]\n",
    "    jointPivotXYZInChild = [0, -0.15, 0] \n",
    "    jointPivotRPYInChild = [0, 0, 0]\n",
    "    \n",
    "    newjoint = ed0.joinUrdf(ed1, parentLinkIndex, jointPivotXYZInParent, jointPivotRPYInParent,\n",
    "                            jointPivotXYZInChild, jointPivotRPYInChild, p0._client, p1._client)\n",
    "    newjoint.joint_type = p0.JOINT_FIXED\n",
    "\n",
    "    ed0.saveUrdf(ASSETS_PATH +'sawyer_description/urdf/combined5.urdf')\n",
    "    #sawyer_robot = SawyerMOD(robot_name=\"sawyer0\",position=[0, 0, 0.8], fixed_base=1)\n",
    "    \n",
    "    #p1.loadURDF(ASSETS_PATH +'sawyer_description/urdf/sawyer_static_classic.urdf', flags=p0.URDF_USE_IMPLICIT_CYLINDER)\n",
    "    #p1.loadURDF(ASSETS_PATH +'sawyer_description/urdf/combined5.urdf', flags=p0.URDF_USE_IMPLICIT_CYLINDER)\n",
    "\n",
    "    \n",
    "    #print(sawyer_robot._arm_dof_indices) # #these correspond to the links\n",
    "    #print(sawyer_robot._arm_dof_names) #['right_j0', 'right_j1', 'right_j2', 'right_j3', 'right_j4', 'right_j5', 'right_j6']\n",
    "    \n",
    "    \"\"\"\n",
    "    \n",
    "    sawyer_robot = SawyerMOD(robot_name=\"sawyer0\"\n",
    "                           ,position=[0, 0, 0.8], fixed_base=1)\n",
    "    \"\"\"\n",
    "    \n",
    "    orn = [0, 0, 0, 1]\n",
    "\n",
    "    \n",
    "    #ed0.createMultiBody(basePosition=[0, 0, .8], baseOrientation=orn)\n",
    "    \"\"\"\n",
    "    husky3 = SawyerMOD(robot_name=\"sawyer0\", \n",
    "                             urdf_file='combined5.urdf'\n",
    "                           ,position=[0, 0, 0.8], fixed_base=1)\n",
    "    \"\"\"\n",
    "    \n",
    "    husky3 = SawyerMOD(robot_name=\"sawyer0\"\n",
    "                           ,position=[0, 0, 0.8], fixed_base=1)\n",
    "    \n",
    "    \"\"\"\"\"\"\n",
    "    \n",
    "    # URDF Combine V2--------------------------------\n",
    "\n",
    "    #manual_control(sawyer_robot)    \n",
    "    try:\n",
    "        while True:\n",
    "            sim.step()\n",
    "    except KeyboardInterrupt:\n",
    "        p.disconnect()\n",
    "        sys.exit(0)"
   ]
  },
  {
   "cell_type": "code",
   "execution_count": null,
   "metadata": {},
   "outputs": [],
   "source": [
    "main()\n"
   ]
  },
  {
   "cell_type": "code",
   "execution_count": null,
   "metadata": {},
   "outputs": [],
   "source": [
    "\n"
   ]
  },
  {
   "cell_type": "code",
   "execution_count": null,
   "metadata": {},
   "outputs": [
    {
     "name": "stdout",
     "output_type": "stream",
     "text": [
      "1\n",
      "1\n"
     ]
    }
   ],
   "source": []
  },
  {
   "cell_type": "code",
   "execution_count": null,
   "metadata": {},
   "outputs": [],
   "source": []
  },
  {
   "cell_type": "markdown",
   "metadata": {},
   "source": [
    "## code 2\n"
   ]
  },
  {
   "cell_type": "code",
   "execution_count": 4,
   "metadata": {},
   "outputs": [
    {
     "ename": "Exception",
     "evalue": "Simulator must be instantiated before creating a SimObject.",
     "output_type": "error",
     "traceback": [
      "\u001b[0;31m---------------------------------------------------------------------------\u001b[0m",
      "\u001b[0;31mException\u001b[0m                                 Traceback (most recent call last)",
      "\u001b[0;32m<ipython-input-4-47dbbf51019c>\u001b[0m in \u001b[0;36m<module>\u001b[0;34m\u001b[0m\n\u001b[1;32m     50\u001b[0m \u001b[0;34m\u001b[0m\u001b[0m\n\u001b[1;32m     51\u001b[0m \u001b[0;31m#ed0.createMultiBody([(0.69, -0.1, .530)], orn)  #works\u001b[0m\u001b[0;34m\u001b[0m\u001b[0;34m\u001b[0m\u001b[0;34m\u001b[0m\u001b[0m\n\u001b[0;32m---> 52\u001b[0;31m \u001b[0msim_obj3\u001b[0m \u001b[0;34m=\u001b[0m \u001b[0mSimObject\u001b[0m\u001b[0;34m(\u001b[0m\u001b[0;34m'hole3'\u001b[0m\u001b[0;34m,\u001b[0m\u001b[0;34m\"combined.urdf\"\u001b[0m\u001b[0;34m,\u001b[0m \u001b[0;34m(\u001b[0m\u001b[0;36m0.69\u001b[0m\u001b[0;34m,\u001b[0m \u001b[0;34m-\u001b[0m\u001b[0;36m0.4\u001b[0m\u001b[0;34m,\u001b[0m \u001b[0;36m.530\u001b[0m\u001b[0;34m)\u001b[0m\u001b[0;34m,\u001b[0m\u001b[0;34m(\u001b[0m\u001b[0;36m0\u001b[0m\u001b[0;34m,\u001b[0m\u001b[0;36m0\u001b[0m\u001b[0;34m,\u001b[0m\u001b[0;36m0\u001b[0m\u001b[0;34m)\u001b[0m\u001b[0;34m,\u001b[0m\u001b[0mfixed_base\u001b[0m\u001b[0;34m=\u001b[0m\u001b[0;36m0\u001b[0m\u001b[0;34m)\u001b[0m\u001b[0;34m\u001b[0m\u001b[0;34m\u001b[0m\u001b[0m\n\u001b[0m",
      "\u001b[0;32m~/ScheragaThesis/cairo_simulator/src/cairo_simulator/core/simulator.py\u001b[0m in \u001b[0;36m__init__\u001b[0;34m(self, object_name, model_file_or_sim_id, position, orientation, fixed_base)\u001b[0m\n\u001b[1;32m    446\u001b[0m         \u001b[0;32melse\u001b[0m\u001b[0;34m:\u001b[0m\u001b[0;34m\u001b[0m\u001b[0;34m\u001b[0m\u001b[0m\n\u001b[1;32m    447\u001b[0m             raise Exception(\n\u001b[0;32m--> 448\u001b[0;31m                 \"Simulator must be instantiated before creating a SimObject.\")\n\u001b[0m\u001b[1;32m    449\u001b[0m \u001b[0;34m\u001b[0m\u001b[0m\n\u001b[1;32m    450\u001b[0m     \u001b[0;32mdef\u001b[0m \u001b[0m__init_ros\u001b[0m\u001b[0;34m(\u001b[0m\u001b[0mself\u001b[0m\u001b[0;34m)\u001b[0m\u001b[0;34m:\u001b[0m\u001b[0;34m\u001b[0m\u001b[0;34m\u001b[0m\u001b[0m\n",
      "\u001b[0;31mException\u001b[0m: Simulator must be instantiated before creating a SimObject."
     ]
    }
   ],
   "source": []
  },
  {
   "cell_type": "code",
   "execution_count": 2,
   "metadata": {},
   "outputs": [
    {
     "name": "stdin",
     "output_type": "stream",
     "text": [
      " aaa\n"
     ]
    },
    {
     "name": "stdout",
     "output_type": "stream",
     "text": [
      "ehllo aaa\n"
     ]
    }
   ],
   "source": []
  },
  {
   "cell_type": "code",
   "execution_count": null,
   "metadata": {},
   "outputs": [],
   "source": []
  },
  {
   "cell_type": "code",
   "execution_count": null,
   "metadata": {},
   "outputs": [],
   "source": []
  }
 ],
 "metadata": {
  "kernelspec": {
   "display_name": "Python 3",
   "language": "python",
   "name": "python3"
  },
  "language_info": {
   "codemirror_mode": {
    "name": "ipython",
    "version": 3
   },
   "file_extension": ".py",
   "mimetype": "text/x-python",
   "name": "python",
   "nbconvert_exporter": "python",
   "pygments_lexer": "ipython3",
   "version": "3.6.9"
  }
 },
 "nbformat": 4,
 "nbformat_minor": 4
}
