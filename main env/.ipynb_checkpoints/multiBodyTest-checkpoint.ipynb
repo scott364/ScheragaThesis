{
 "cells": [
  {
   "cell_type": "code",
   "execution_count": 1,
   "metadata": {},
   "outputs": [],
   "source": [
    "import time\n",
    "import os\n",
    "import sys\n",
    "import pybullet as p\n",
    "from cairo_simulator.core.utils import ASSETS_PATH\n",
    "from cairo_simulator.core.log import Logger\n",
    "from cairo_simulator.core.link import *\n",
    "from cairo_simulator.core.simulator import Simulator, SimObject\n",
    "from cairo_simulator.devices.manipulators import Sawyer\n",
    "from utils import load_configuration, save_config_to_configuration_file, manual_control, create_cuboid_obstacle\n",
    "from pybullet_utils import bullet_client as bc\n",
    "from pybullet_utils import urdfEditor as ed\n",
    "import pybullet_data\n",
    "import time\n",
    "\n",
    "def main():\n",
    "    use_ros = False\n",
    "    use_real_time = True\n",
    "    logger = Logger()\n",
    "    sim = Simulator(logger=logger, use_ros=use_ros, use_real_time=use_real_time) # Initialize the Simulator\n",
    "    p.setGravity(0,0,-9.81)\n",
    "    p.configureDebugVisualizer(p.COV_ENABLE_RENDERING,0)\n",
    "    #added numSolverIterations modification to hopefully increase \"stiffness\" of held block\n",
    "    #p.setPhysicsEngineParameter(enableFileCaching=0,numSolverIterations=100, numSubSteps=100) #numSolverIterations=100, numSubSteps=10) #\n",
    "    p.setPhysicsEngineParameter(enableFileCaching=0)\n",
    "    \n",
    "    ground_plane = SimObject(\"Ground\", \"plane.urdf\", [0,0,0])\n",
    "    table = SimObject('table', 'NEWtable.urdf',  (0.9, 0.1, .47),(1.5708*2,0,0),fixed_base=1)\n",
    "    #print(p.getNumJoints(table.get_simulator_id()))\n",
    "    \n",
    "    p.configureDebugVisualizer(p.COV_ENABLE_RENDERING,1)\n",
    "\n",
    "    sim_obj0 = SimObject('hole1', '1block.urdf',  (0.69, -0.2, .530),(0,0,0),fixed_base=0) \n",
    "    sim_obj1 = SimObject('hole1', '1.5hole.urdf',  (0.69, 0.1, .530),(0,0,0),fixed_base=0) \n",
    "    \n",
    "    \n",
    "    while True:\n",
    "            xoffset=0\n",
    "    try:\n",
    "        while True:\n",
    "            sim.step()\n",
    "    except KeyboardInterrupt:\n",
    "        p.disconnect()\n",
    "        sys.exit(0)"
   ]
  },
  {
   "cell_type": "code",
   "execution_count": null,
   "metadata": {},
   "outputs": [],
   "source": [
    "main()"
   ]
  },
  {
   "cell_type": "code",
   "execution_count": null,
   "metadata": {},
   "outputs": [],
   "source": []
  }
 ],
 "metadata": {
  "kernelspec": {
   "display_name": "Python 3",
   "language": "python",
   "name": "python3"
  },
  "language_info": {
   "codemirror_mode": {
    "name": "ipython",
    "version": 3
   },
   "file_extension": ".py",
   "mimetype": "text/x-python",
   "name": "python",
   "nbconvert_exporter": "python",
   "pygments_lexer": "ipython3",
   "version": "3.6.9"
  }
 },
 "nbformat": 4,
 "nbformat_minor": 4
}
