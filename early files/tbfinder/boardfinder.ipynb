{
 "cells": [
  {
   "cell_type": "code",
   "execution_count": 7,
   "metadata": {
    "scrolled": true
   },
   "outputs": [],
   "source": [
    "import numpy as np\n",
    "from mpl_toolkits import mplot3d\n",
    "import matplotlib.pyplot as plt\n",
    "from numpy import genfromtxt\n",
    "\n",
    "import open3d as o3d\n",
    "%matplotlib notebook\n",
    "\n",
    "data = genfromtxt('largestCloud.csv', delimiter=',')"
   ]
  },
  {
   "cell_type": "code",
   "execution_count": 8,
   "metadata": {},
   "outputs": [
    {
     "name": "stdout",
     "output_type": "stream",
     "text": [
      "[[-0.15600199 -0.23572526  0.00878815]\n",
      " [-0.15240096 -0.23814208  0.0075276 ]\n",
      " [-0.13455915 -0.23609526  0.0051014 ]\n",
      " ...\n",
      " [-0.16273912 -0.49623942  0.00432637]\n",
      " [ 0.05986541 -0.53210573 -0.00286444]\n",
      " [ 0.05790634 -0.35795721 -0.00235283]]\n"
     ]
    }
   ],
   "source": [
    "print(data)"
   ]
  },
  {
   "cell_type": "code",
   "execution_count": 12,
   "metadata": {
    "scrolled": false
   },
   "outputs": [
    {
     "ename": "TypeError",
     "evalue": "read_point_cloud(): incompatible function arguments. The following argument types are supported:\n    1. (filename: unicode, format: unicode = u'auto', remove_nan_points: bool = True, remove_infinite_points: bool = True, print_progress: bool = False) -> open3d.open3d.geometry.PointCloud\n\nInvoked with: array([[-0.15600199, -0.23572526,  0.00878815],\n       [-0.15240096, -0.23814208,  0.0075276 ],\n       [-0.13455915, -0.23609526,  0.0051014 ],\n       ...,\n       [-0.16273912, -0.49623942,  0.00432637],\n       [ 0.05986541, -0.53210573, -0.00286444],\n       [ 0.05790634, -0.35795721, -0.00235283]])",
     "output_type": "error",
     "traceback": [
      "\u001b[0;31m---------------------------------------------------------------------------\u001b[0m",
      "\u001b[0;31mTypeError\u001b[0m                                 Traceback (most recent call last)",
      "\u001b[0;32m<ipython-input-12-bf5cd425c45b>\u001b[0m in \u001b[0;36m<module>\u001b[0;34m()\u001b[0m\n\u001b[1;32m      6\u001b[0m \u001b[0;31m#ax.scatter(data[:,0], data[:,1], data[:,2], marker='.')\u001b[0m\u001b[0;34m\u001b[0m\u001b[0;34m\u001b[0m\u001b[0m\n\u001b[1;32m      7\u001b[0m \u001b[0;34m\u001b[0m\u001b[0m\n\u001b[0;32m----> 8\u001b[0;31m \u001b[0mpcd\u001b[0m \u001b[0;34m=\u001b[0m \u001b[0mo3d\u001b[0m\u001b[0;34m.\u001b[0m\u001b[0mio\u001b[0m\u001b[0;34m.\u001b[0m\u001b[0mread_point_cloud\u001b[0m\u001b[0;34m(\u001b[0m\u001b[0mdata\u001b[0m\u001b[0;34m)\u001b[0m\u001b[0;34m\u001b[0m\u001b[0m\n\u001b[0m\u001b[1;32m      9\u001b[0m \u001b[0;32mprint\u001b[0m\u001b[0;34m(\u001b[0m\u001b[0mpcd\u001b[0m\u001b[0;34m)\u001b[0m\u001b[0;34m\u001b[0m\u001b[0m\n\u001b[1;32m     10\u001b[0m \u001b[0;32mprint\u001b[0m\u001b[0;34m(\u001b[0m\u001b[0mnp\u001b[0m\u001b[0;34m.\u001b[0m\u001b[0masarray\u001b[0m\u001b[0;34m(\u001b[0m\u001b[0mpcd\u001b[0m\u001b[0;34m.\u001b[0m\u001b[0mpoints\u001b[0m\u001b[0;34m)\u001b[0m\u001b[0;34m)\u001b[0m\u001b[0;34m\u001b[0m\u001b[0m\n",
      "\u001b[0;31mTypeError\u001b[0m: read_point_cloud(): incompatible function arguments. The following argument types are supported:\n    1. (filename: unicode, format: unicode = u'auto', remove_nan_points: bool = True, remove_infinite_points: bool = True, print_progress: bool = False) -> open3d.open3d.geometry.PointCloud\n\nInvoked with: array([[-0.15600199, -0.23572526,  0.00878815],\n       [-0.15240096, -0.23814208,  0.0075276 ],\n       [-0.13455915, -0.23609526,  0.0051014 ],\n       ...,\n       [-0.16273912, -0.49623942,  0.00432637],\n       [ 0.05986541, -0.53210573, -0.00286444],\n       [ 0.05790634, -0.35795721, -0.00235283]])"
     ]
    }
   ],
   "source": [
    "\n",
    "#fig = plt.figure()\n",
    "#ax = plt.axes(projection='3d')\n",
    "#ax.plot3D(data[:,0], data[:,1], data[:,2], 'gray')\n",
    "#ax.scatter3D(data[:,0], data[:,1], data[:,2], cmap='Greens')\n",
    "#ax.scatter(data[:,0], data[:,1], data[:,2], marker='.')\n",
    "\n",
    "pcd = o3d.io.read_point_cloud(data)\n",
    "print(pcd)\n",
    "print(np.asarray(pcd.points))\n",
    "o3d.visualization.draw_geometries([pcd], zoom=0.3412,\n",
    "                                  front=[0.4257, -0.2125, -0.8795],\n",
    "                                  lookat=[2.6172, 2.0475, 1.532],\n",
    "                                  up=[-0.0694, -0.9768, 0.2024])\n",
    "\n",
    "#http://www.open3d.org/docs/release/tutorial/Basic/pointcloud.html"
   ]
  },
  {
   "cell_type": "code",
   "execution_count": null,
   "metadata": {},
   "outputs": [],
   "source": []
  }
 ],
 "metadata": {
  "kernelspec": {
   "display_name": "Python 3",
   "language": "python",
   "name": "python3"
  },
  "language_info": {
   "codemirror_mode": {
    "name": "ipython",
    "version": 2
   },
   "file_extension": ".py",
   "mimetype": "text/x-python",
   "name": "python",
   "nbconvert_exporter": "python",
   "pygments_lexer": "ipython2",
   "version": "2.7.17"
  }
 },
 "nbformat": 4,
 "nbformat_minor": 4
}
