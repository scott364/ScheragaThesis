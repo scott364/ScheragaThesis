{
 "cells": [
  {
   "cell_type": "markdown",
   "metadata": {},
   "source": [
    "# Introduction\n",
    "\"Deep learning\" is a specific flavor of machine learning that uses neural networks to approximate arbitrary functions to classify or regress data, or to serve as a controller.\n",
    "\n",
    "<center>\n",
    "    <img src=\"figs/ann_applications.png\" width=\"50%\"><br>\n",
    "    (c) Sarah Aguasvivas\n",
    "</center>\n",
    "    \n",
    "While artificial neural networks have long time been one out of many go-to methods to address these problems, recent advances in computing, in particular graphical processing units (GPU) and the availability of large datasets, has led to the ability to train very, very large neural networks that have led to revolutionary results in many fields including computer vision, natural language processing, as well as video and speech processing.\n",
    "\n",
    "Not too long ago, neural networks have been considered \"deep\" with more than 2 layers. Today, \"deep\" refers to neural networks with hundreds of layers or more. This is still shy of the human brain, or even tiny areas thereof, which contains 100 billion neurons, each with thousands of synapses connecting a single neuron to thousands of others."
   ]
  },
  {
   "cell_type": "markdown",
   "metadata": {},
   "source": [
    "## Goal of this class\n",
    "The goal of this class is provide a headstart into machine learning with deep neural networks starting from the available open-source tools. As starting point serves the keras library, a Python interface to popular deep neural network tools Theano and Tensorflow, and examples from the book \"Deep Learning with Keras\".\n",
    "\n",
    "The drawback of this approach is that the students will not be exposed to the theoretical foundations of deep learning to the extent that could be expected from a university graduate level course. Exploration of examples is therefore accompanied by reading the relevant literature and presenting them to class via Jupyter notebooks (this format).\n",
    "\n",
    "The practice of model development and training is learned by two mini-projects that involve applying deep learning tools to data from the UCI Machine learning repository as well as a final project involving data from a current research project.\n",
    "\n",
    "## Grading\n",
    "The final grade will be computed using the following key:\n",
    "\n",
    "- 10% In-class participation\n",
    "- 10% Homework 1: Implementing a simple classification/regression problem\n",
    "- 10% Homework 2: Classification/regression on time series data\n",
    "- 30% Jupyter notebook summary of a selected paper\n",
    "- 40% Final project\n",
    "- Extra credit: narrated YouTube video\n",
    "\n",
    "All deliverables will need to be pushed as IPhython notebooks to a public github repository. This repository is automatically rendered as a public Jupyter lab server, allowing everyone to run and temporarily modify (but not save) your work.\n",
    "\n",
    "As all deliverables are public, there is a strict late policy. Late submissions will be deducted one letter grade.\n",
    "\n",
    "## What you need\n",
    "- You will need Python 3 and a series of libraries that is listed here\n",
    "- You will need a copy of Jupyter Lab on your personal machine\n",
    "- You will need a version of git to commit your notebook files to the class' repository\n",
    "- You will need an account on github.com and make pull requests to submit to the class' repository"
   ]
  }
 ],
 "metadata": {
  "kernelspec": {
   "display_name": "Python 3",
   "language": "python",
   "name": "python3"
  },
  "language_info": {
   "codemirror_mode": {
    "name": "ipython",
    "version": 3
   },
   "file_extension": ".py",
   "mimetype": "text/x-python",
   "name": "python",
   "nbconvert_exporter": "python",
   "pygments_lexer": "ipython3",
   "version": "3.6.5"
  }
 },
 "nbformat": 4,
 "nbformat_minor": 2
}
