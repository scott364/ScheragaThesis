{
 "cells": [
  {
   "cell_type": "markdown",
   "metadata": {},
   "source": [
    "# Artificial Neural Networks: The simple Perceptron\n",
    "\n",
    "<a href=\"https://mybinder.org/v2/gh/correll/deep-learning/master\">Launch this notebook interactively</a> <img src=\"https://mybinder.org/badge_logo.svg\">\n",
    "\n",
    "Artificial neural networks are inspired by neurons and synapses in the human brain and have been studied since the 1950ies. One of the earliest model is the <a href=\"https://en.wikipedia.org/wiki/Perceptron\">Perceptron</a>, which can classify an input vector $x$ of dimension $m$ into two classes. Graphically, a Perceptron has $m$ inputs, $x_1$ to $x_m$, each modulated by a weight $w_1$ to $w_m$, respectively, as well as a treshold $b$, and outputs either zero or one. \n",
    "\n",
    "<img src=\"figs/perceptron.svg\" width=\"30%\">\n",
    "\n",
    "Formally, the Perceptron classifies whether $x$ lies above or below a hyperplane defined by the weights $w$:\n",
    "\n",
    "\\begin{equation}\n",
    "f(x)=\\begin{cases}\n",
    "1 \\qquad wx+b > 0\\\\\n",
    "0 \\qquad otherwise\n",
    "\\end{cases}\n",
    "\\end{equation}\n",
    "\n",
    "Here, $wx=\\sum_{i=1}^mw_ix_i$ is the <a href=\"https://en.wikipedia.org/wiki/Dot_product\">dot product</a>. To better understand this, we will train a simple Perceptron on a very simple artificial dataset with $m=2$ so that it can be shown in a scatter plot.\n",
    "\n",
    "To create the data, we manually define an array $x$ with pairs of floating point numbers, which we assign a class \"0\" or \"1\" in a vector $d$. "
   ]
  },
  {
   "cell_type": "code",
   "execution_count": 9,
   "metadata": {},
   "outputs": [],
   "source": [
    "import numpy as np\n",
    "\n",
    "# Synthetic data with data pairs x1,x2 in x and associated classes in d\n",
    "x=np.array([[2.1,3.4],[2.5,3.5],[2,1],[3,4],[3,3],[4,2],[3,1],[4,1],[3.5,2]])\n",
    "d=np.array([0,0,1,0,0,1,0,1,1])\n",
    "\n",
    "# Adding a column of '1' in front of x so that w_0 is the offset\n",
    "x=np.append(np.ones((len(x),1)),x,1)"
   ]
  },
  {
   "cell_type": "markdown",
   "metadata": {},
   "source": [
    "We are appending a column of '1' to the vector x, which simplifies $wx+b$ to $wx$ with $w_0$ taking up the role of $b$. This is illustrated in the figure above, where the bias $b$ is replaced by $w_0$ and input $x_0=1$.\n",
    "\n",
    "This example also introduces a powerful Python library to manipulate vectors, arrays and matrices: numpy. To learn more, check out the following tutorial:\n",
    "\n",
    "- <a href=\"https://likegeeks.com/numpy-array-tutorial/\">NumPy array tutorial</a>\n",
    "\n",
    "We can display such a dataset using a scatter plot, using different colors for each class:"
   ]
  },
  {
   "cell_type": "code",
   "execution_count": 10,
   "metadata": {},
   "outputs": [
    {
     "data": {
      "text/plain": [
       "Text(0.5,1,'Simple 2D Data Set')"
      ]
     },
     "execution_count": 10,
     "metadata": {},
     "output_type": "execute_result"
    },
    {
     "data": {
      "image/png": "[encoded data removed]",
      "text/plain": [
       "<Figure size 432x288 with 1 Axes>"
      ]
     },
     "metadata": {},
     "output_type": "display_data"
    }
   ],
   "source": [
    "import matplotlib.pyplot as plt \n",
    "%matplotlib inline \n",
    "\n",
    "colors=('red','green')\n",
    "for i in range(2):\n",
    "    px = x[:, 1][d == i] # Only selects rows of the same class\n",
    "    py = x[:, 2][d == i]\n",
    "    plt.scatter(px, py, c=colors[i])\n",
    "\n",
    "plt.xlabel(\"X_1\")\n",
    "plt.ylabel(\"X_2\")\n",
    "plt.title(\"Simple 2D Data Set\")"
   ]
  },
  {
   "cell_type": "markdown",
   "metadata": {},
   "source": [
    "This example also introduces another powerful Python library: matplotlib. To learn more, check out the following tutorial:\n",
    "\n",
    "- <a href=\"https://matplotlib.org/3.1.1/tutorials/index.html\">Matplotlib tutorial</a>"
   ]
  },
  {
   "cell_type": "markdown",
   "metadata": {},
   "source": [
    "## Training\n",
    "\n",
    "Training the Perceptron, that is finding appropriate values for $w$ and $b$ that separate the data into two classes, is a simple iterative process:\n",
    "\n",
    "1. Initialize the weights with zeros or a small random number\n",
    "2. Compute the prediction $y_j=f(wx_j+b)$ for each data point $x_j$. A suitable choice for $f()$ is the Heaviside step function, e.g.\n",
    "3. Calculate the mismatch between prediction $y_j$ and the true class $d_j$ to update the weights\n",
    "\\begin{equation}\n",
    "w(t+1)=w(t)+r(d_j-y_j)*x_j\n",
    "\\end{equation}\n",
    "\n",
    "Repeat steps 2 and 3 until a termination criteria, such as a decreasing error or maximum number of iterations, is reached."
   ]
  },
  {
   "cell_type": "code",
   "execution_count": 20,
   "metadata": {},
   "outputs": [
    {
     "name": "stdout",
     "output_type": "stream",
     "text": [
      "The error is  0.1111111111111111\n",
      "The weight vector is  [-0.6   0.84 -1.09]\n"
     ]
    }
   ],
   "source": [
    "# Initializing the weights with zeros\n",
    "w=np.zeros(x.shape[1])\n",
    "\n",
    "# Initializing the perceptron predictions to zero\n",
    "y=np.zeros(len(x))\n",
    "\n",
    "# Perceptron learning parameters\n",
    "r=0.1 # learning rate\n",
    "iterations=100 # number of iterations\n",
    "\n",
    "for i in range(iterations):\n",
    "    for j in range(len(x)): # do this for every entry of x\n",
    "        y[j]=np.heaviside(np.dot(w,x[j,:]),1) # calculate the dot product and implement the \n",
    "                                              # cut-off using the Heaviside function\n",
    "        dw=r*(d[j]-y[j])*x[j,:] # use learning rate to update weights\n",
    "        w=w+dw\n",
    "        \n",
    "error=0;\n",
    "for j in range(len(x)):\n",
    "    error+=abs(d[j]-y[j])\n",
    "error=error/len(x)\n",
    "\n",
    "print('The error is ', error)\n",
    "print('The weight vector is ', w)"
   ]
  },
  {
   "cell_type": "markdown",
   "metadata": {},
   "source": [
    "### Geometric intepretation of the simple Perceptron\n",
    "What is the geometric interpretation of the weight vector? It is a separating hyperplane, that is a 1D line when $m=2$. This can be seen as follows: writing the dot product out yields\n",
    "\n",
    "\\begin{equation}\n",
    "w_1x_1+w_2x_2+b=0\n",
    "\\end{equation}\n",
    "\n",
    "As we plot $x_1$ along the x-axis and $x_2$ along the y-axis, we can write\n",
    "\n",
    "\\begin{equation}\n",
    "w_1x+w_2y+b=0\n",
    "\\end{equation}\n",
    "\n",
    "This can be rewritten into\n",
    "\\begin{equation}\n",
    "y=-\\frac{w1}{w2}x-\\frac{b}{w_2}\n",
    "\\end{equation}\n",
    "\n",
    "and displayed within the scatter plot.\n"
   ]
  },
  {
   "cell_type": "code",
   "execution_count": 15,
   "metadata": {},
   "outputs": [
    {
     "data": {
      "text/plain": [
       "[<matplotlib.lines.Line2D at 0x112ca0898>]"
      ]
     },
     "execution_count": 15,
     "metadata": {},
     "output_type": "execute_result"
    },
    {
     "data": {
      "image/png": "[encoded data removed]",
      "text/plain": [
       "<Figure size 432x288 with 1 Axes>"
      ]
     },
     "metadata": {},
     "output_type": "display_data"
    }
   ],
   "source": [
    "\n",
    "colors=('red','green')\n",
    "for i in range(2):\n",
    "    px = x[:, 1][d == i]\n",
    "    py = x[:, 2][d == i]\n",
    "    plt.scatter(px, py, c=colors[i])\n",
    "\n",
    "plt.xlabel(\"X_1\")\n",
    "plt.ylabel(\"X_2\")\n",
    "plt.title(\"Simple Perceptron\")\n",
    "\n",
    "lx=np.linspace(min(x[:,1]),max(x[:,1]),100)\n",
    "plt.plot(lx,-w[1]/w[2]*lx-w[0]/w[2])"
   ]
  },
  {
   "cell_type": "markdown",
   "metadata": {},
   "source": [
    "Notice that the above algorithm works for any dimension of $m$, but only two dimensional data can reasonably be shown in a scatter plot."
   ]
  },
  {
   "cell_type": "markdown",
   "metadata": {},
   "source": [
    "## Observations and Exercises\n",
    "\n",
    "- Learning is an iterative process, requiring parameters (learning rate) and multiple presentations of the data-set. <i>Experiment with different values for the learning rate, what would you expect if the learning rate is too slow, too high? Can you verify this hypothesis in a 2D example? Why not?</i>\n",
    "\n",
    "- Each single perceptron can only contribute a straight hyperplane, more perceptrons are needed to piece more complex shapes together. <i>Experiment with additional data points. Can you find a configuration that cannot be separated by a curve?</i>\n",
    "\n",
    "- The more data, the longer training takes.<i>Measure how much more time it takes when doubling the number of data points for a constant number of iterations (you can also do this by analyzing the algorithm by hand).</i>\n",
    "\n",
    "- Learning requires a termination criterion. Either the error is below a certain threshold, shrinks smaller than a certain rate, or a certain number of iterations is reached. <i>Experiment with the code. Can you plot the error vs. the number of iterations and thereby determine a suitable number of iterations?</i>\n",
    "\n",
    "- The Heaviside function is a unit-step. A feature is therefore contributing only binary, and the distance from the separating hyperplane is not taken into account. This makes learning difficult, a smooth function might be better.<i>Think about the training algorithm. Does anything else need to change to train with a smooth activation function?</i>\n",
    "\n",
    "- The error is only calculated based on training data. How does the algorithm generalize for new data?<i>Experiment with additonal data points and test your classifier.</i>\n",
    "\n",
    "\n"
   ]
  },
  {
   "cell_type": "markdown",
   "metadata": {},
   "source": [
    "# Literature\n",
    "\n",
    "<a href=\"https://psycnet.apa.org/record/1959-09865-001\">Rosenblatt, F. (1958). The perceptron: a probabilistic model for information storage and organization in the brain. Psychological review, 65(6), 386.</a>\n",
    "\n"
   ]
  }
 ],
 "metadata": {
  "kernelspec": {
   "display_name": "Python 3",
   "language": "python",
   "name": "python3"
  },
  "language_info": {
   "codemirror_mode": {
    "name": "ipython",
    "version": 3
   },
   "file_extension": ".py",
   "mimetype": "text/x-python",
   "name": "python",
   "nbconvert_exporter": "python",
   "pygments_lexer": "ipython3",
   "version": "3.6.5"
  }
 },
 "nbformat": 4,
 "nbformat_minor": 2
}
