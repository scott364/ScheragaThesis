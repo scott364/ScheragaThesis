{
 "cells": [
  {
   "cell_type": "code",
   "execution_count": null,
   "id": "45f7a7c4-f90a-46de-b1d3-33c857ac495e",
   "metadata": {},
   "outputs": [],
   "source": []
  },
  {
   "cell_type": "code",
   "execution_count": 2,
   "id": "f968e9ef-b0ea-4411-adca-72928803ddbd",
   "metadata": {},
   "outputs": [
    {
     "name": "stdout",
     "output_type": "stream",
     "text": [
      "URL List: ['https://google.com', 'https://youtube.com', 'https://wikipedia.com', 'https://medium.com']\n",
      "https://wikipedia.com - Status: 200\n",
      "https://google.com - Status: 200\n",
      "https://youtube.com - Status: 200\n",
      "https://medium.com - Status: 200\n"
     ]
    }
   ],
   "source": [
    "import threading\n",
    "import requests\n",
    "\n",
    "def connect_to_urls(urls):\n",
    "    for url in urls:\n",
    "        r = requests.get(url)\n",
    "        print(f\"{url} - Status: {r.status_code}\")\n",
    "\n",
    "if __name__ == '__main__':\n",
    "    \n",
    "    url_list = ['https://google.com', 'https://youtube.com', 'https://wikipedia.com', 'https://medium.com']\n",
    "    print(f\"URL List: {url_list}\")\n",
    "    \n",
    "    t1 = threading.Thread(target=connect_to_urls, args=(url_list[:2],)) # Create Thread 1\n",
    "    t2 = threading.Thread(target=connect_to_urls, args=(url_list[2:],)) # Create Thread 2\n",
    "\n",
    "    t1.start()  # Thread 1 starts here\n",
    "    t2.start()  # Thread 2 starts here"
   ]
  },
  {
   "cell_type": "code",
   "execution_count": 10,
   "id": "a41ad041-283e-410f-b203-051a2ef20ba6",
   "metadata": {},
   "outputs": [
    {
     "name": "stdout",
     "output_type": "stream",
     "text": [
      "Square: 100\n",
      "Cube: 1000\n",
      "Done!\n"
     ]
    }
   ],
   "source": [
    "# Python program to illustrate the concept\n",
    "# of threading\n",
    "# importing the threading module\n",
    "import threading\n",
    "  \n",
    "def print_cube(num):\n",
    "    \"\"\"\n",
    "    function to print cube of given num\n",
    "    \"\"\"\n",
    "    print(\"Cube: {}\".format(num * num * num))\n",
    "  \n",
    "def print_square(num):\n",
    "    \"\"\"\n",
    "    function to print square of given num\n",
    "    \"\"\"\n",
    "    print(\"Square: {}\".format(num * num))\n",
    "  \n",
    "\n",
    "# creating thread\n",
    "t1 = threading.Thread(target=print_square, args=(10,))\n",
    "t2 = threading.Thread(target=print_cube, args=(10,))\n",
    "\n",
    "# starting thread 1\n",
    "t1.start()\n",
    "# starting thread 2\n",
    "t2.start()\n",
    "\n",
    "# wait until thread 1 is completely executed\n",
    "t1.join()\n",
    "# wait until thread 2 is completely executed\n",
    "t2.join()\n",
    "\n",
    "# both threads completely executed\n",
    "print(\"Done!\")"
   ]
  },
  {
   "cell_type": "code",
   "execution_count": null,
   "id": "748bda90-aacb-433f-ab16-cbb6d068940a",
   "metadata": {},
   "outputs": [],
   "source": []
  },
  {
   "cell_type": "code",
   "execution_count": null,
   "id": "89875946-3811-4ca1-b9a0-32f39d20ee59",
   "metadata": {},
   "outputs": [],
   "source": []
  }
 ],
 "metadata": {
  "kernelspec": {
   "display_name": "Python 3",
   "language": "python",
   "name": "python3"
  },
  "language_info": {
   "codemirror_mode": {
    "name": "ipython",
    "version": 3
   },
   "file_extension": ".py",
   "mimetype": "text/x-python",
   "name": "python",
   "nbconvert_exporter": "python",
   "pygments_lexer": "ipython3",
   "version": "3.6.9"
  }
 },
 "nbformat": 4,
 "nbformat_minor": 5
}
