{
 "cells": [
  {
   "cell_type": "markdown",
   "id": "302211c4-11d6-4a75-bb7e-2bfb24d5392a",
   "metadata": {},
   "source": [
    "* This is meant to be run on a computer other than the SmartHand\n",
    "* `dev_rmstudio` is not required\n",
    "* You may choose to sample at a rate greater than or less than the streaming rate, the XML-RPC server will just return the last force reading (sample-and-hold strategy)"
   ]
  },
  {
   "cell_type": "markdown",
   "id": "300dff9b-32ef-4b69-9f75-ea803e398c7a",
   "metadata": {},
   "source": [
    "## IN ORDER FOR THIS CODE TO FUNCTION, a robot object must be created in a smarthand notebook!!!"
   ]
  },
  {
   "cell_type": "code",
   "execution_count": 5,
   "id": "7efe381d-db8e-40df-9672-eadd2c53bfff",
   "metadata": {},
   "outputs": [],
   "source": [
    "from remote_FT_client import RemoteFTclient\n",
    "from time import sleep"
   ]
  },
  {
   "cell_type": "code",
   "execution_count": 6,
   "id": "d498275a-59af-452a-b788-5eee2cdf8478",
   "metadata": {},
   "outputs": [
    {
     "name": "stdout",
     "output_type": "stream",
     "text": [
      "Connected to http://192.168.0.103:10000\n",
      "['bias_ft', 'get_ft', 'system.listMethods', 'system.methodHelp', 'system.methodSignature']\n"
     ]
    }
   ],
   "source": [
    "client = RemoteFTclient( '192.168.0.103', 10000 )\n",
    "print( client.prxy.system.listMethods() )"
   ]
  },
  {
   "cell_type": "code",
   "execution_count": 7,
   "id": "24355c81-f8b5-448f-86d8-f72a29209339",
   "metadata": {},
   "outputs": [
    {
     "name": "stdout",
     "output_type": "stream",
     "text": [
      "Get wrist force:\n",
      "\t [0.0, 0.0, 1.3, -0.004, -0.006, 0.0]\n",
      "\t [0.1, 0.0, 1.9, -0.02, -0.012, -0.001]\n",
      "\t [0.1, 0.0, 0.3, -0.011, -0.021, -0.002]\n",
      "\t [0.1, 0.0, 0.4, -0.00899, -0.011, -0.002]\n",
      "\t [0.0, 0.0, 0.0, 0.004, 0.003, -0.002]\n",
      "Bias wrist force\n",
      "\t [0.2, -0.1, 0.1, -0.01, -0.008, 0.0]\n",
      "\t [0.1, -0.1, 0.4, -0.01799, -0.00899, -0.004]\n",
      "\t [0.1, 0.0, 0.6, -0.013, -0.00899, 0.003]\n",
      "\t [0.0, 0.0, -0.7, 0.006, -0.003, -0.002]\n",
      "\t [0.1, -0.1, -0.3, -0.014, -0.001, -0.002]\n"
     ]
    }
   ],
   "source": [
    "print( \"Get wrist force:\" )\n",
    "\n",
    "for i in range(5):\n",
    "    print( '\\t', client.get_wrist_force() )\n",
    "    sleep( 0.020 )\n",
    "    \n",
    "print( \"Bias wrist force\" )\n",
    "client.bias_wrist_force()\n",
    "sleep( 3.0 )\n",
    "\n",
    "for i in range(5):\n",
    "    print( '\\t', client.get_wrist_force() )\n",
    "    sleep( 0.020 )"
   ]
  },
  {
   "cell_type": "code",
   "execution_count": 5,
   "id": "d4311c75-85f7-41d9-8109-a5b8f8a39774",
   "metadata": {},
   "outputs": [
    {
     "name": "stdout",
     "output_type": "stream",
     "text": [
      "\t [0.2, -0.3, -2.9, 0.008, -0.008, -0.014]\n"
     ]
    }
   ],
   "source": [
    "print( '\\t', client.get_wrist_force() )"
   ]
  },
  {
   "cell_type": "code",
   "execution_count": null,
   "id": "9389ff30-68cb-4d5b-b3b2-8ce639a308f9",
   "metadata": {},
   "outputs": [],
   "source": [
    "print( '\\t', client.get_wrist_force() )"
   ]
  },
  {
   "cell_type": "code",
   "execution_count": null,
   "id": "91bacec4-8154-474e-8148-7981ebfd5596",
   "metadata": {},
   "outputs": [],
   "source": []
  }
 ],
 "metadata": {
  "kernelspec": {
   "display_name": "Python 3",
   "language": "python",
   "name": "python3"
  },
  "language_info": {
   "codemirror_mode": {
    "name": "ipython",
    "version": 3
   },
   "file_extension": ".py",
   "mimetype": "text/x-python",
   "name": "python",
   "nbconvert_exporter": "python",
   "pygments_lexer": "ipython3",
   "version": "3.6.9"
  }
 },
 "nbformat": 4,
 "nbformat_minor": 5
}
