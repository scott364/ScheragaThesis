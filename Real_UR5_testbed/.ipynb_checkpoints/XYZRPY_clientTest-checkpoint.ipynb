{
 "cells": [
  {
   "cell_type": "code",
   "execution_count": 6,
   "id": "a847e54c-e2e0-4329-a46f-744ae0050182",
   "metadata": {},
   "outputs": [
    {
     "name": "stdout",
     "output_type": "stream",
     "text": [
      "Connected by ('192.168.0.103', 35732)\n",
      "b'Hello, world'\n",
      "b''\n"
     ]
    }
   ],
   "source": [
    "#old\n",
    "\n",
    "import socket\n",
    "\n",
    "#HOST = '127.0.0.1'  # Standard loopback interface address (localhost)\n",
    "HOST = '192.168.0.102'\n",
    "\n",
    "#192.168.0.103\n",
    "PORT = 65432        # Port to listen on (non-privileged ports are > 1023)\n",
    "\n",
    "with socket.socket(socket.AF_INET, socket.SOCK_STREAM) as s:\n",
    "    s.bind((HOST, PORT))\n",
    "    s.listen()\n",
    "    conn, addr = s.accept()\n",
    "    with conn:\n",
    "        print('Connected by', addr)\n",
    "        while True:\n",
    "            data = conn.recv(1024)\n",
    "            print (data)\n",
    "            if not data:\n",
    "                break\n",
    "            conn.sendall(data)"
   ]
  },
  {
   "cell_type": "code",
   "execution_count": 1,
   "id": "28047c10-f0c9-4bc6-8c8d-65d1abf1eaa3",
   "metadata": {},
   "outputs": [
    {
     "name": "stdout",
     "output_type": "stream",
     "text": [
      "Connected by ('192.168.0.103', 57688)\n"
     ]
    },
    {
     "name": "stdin",
     "output_type": "stream",
     "text": [
      " o\n"
     ]
    },
    {
     "name": "stdout",
     "output_type": "stream",
     "text": [
      "b'o'\n"
     ]
    },
    {
     "name": "stdin",
     "output_type": "stream",
     "text": [
      " o\n"
     ]
    },
    {
     "name": "stdout",
     "output_type": "stream",
     "text": [
      "b'o'\n"
     ]
    },
    {
     "name": "stdin",
     "output_type": "stream",
     "text": [
      " o\n"
     ]
    },
    {
     "name": "stdout",
     "output_type": "stream",
     "text": [
      "b'o'\n"
     ]
    },
    {
     "name": "stdin",
     "output_type": "stream",
     "text": [
      " o\n"
     ]
    },
    {
     "name": "stdout",
     "output_type": "stream",
     "text": [
      "b'o'\n"
     ]
    },
    {
     "name": "stdin",
     "output_type": "stream",
     "text": [
      " d\n"
     ]
    },
    {
     "name": "stdout",
     "output_type": "stream",
     "text": [
      "b'd'\n"
     ]
    },
    {
     "name": "stdin",
     "output_type": "stream",
     "text": [
      " c\n"
     ]
    },
    {
     "name": "stdout",
     "output_type": "stream",
     "text": [
      "b'c'\n"
     ]
    },
    {
     "name": "stdin",
     "output_type": "stream",
     "text": [
      " z\n"
     ]
    },
    {
     "name": "stdout",
     "output_type": "stream",
     "text": [
      "b'z'\n"
     ]
    },
    {
     "name": "stdin",
     "output_type": "stream",
     "text": [
      " x\n"
     ]
    },
    {
     "name": "stdout",
     "output_type": "stream",
     "text": [
      "b'x'\n"
     ]
    },
    {
     "name": "stdin",
     "output_type": "stream",
     "text": [
      " home\n"
     ]
    },
    {
     "name": "stdout",
     "output_type": "stream",
     "text": [
      "b'home'\n"
     ]
    },
    {
     "name": "stdin",
     "output_type": "stream",
     "text": [
      " end\n"
     ]
    },
    {
     "name": "stdout",
     "output_type": "stream",
     "text": [
      "b'end'\n"
     ]
    }
   ],
   "source": [
    "import socket\n",
    "\n",
    "#HOST = '127.0.0.1'  # Standard loopback interface address (localhost)\n",
    "HOST = '192.168.0.102'\n",
    "\n",
    "#192.168.0.103\n",
    "PORT = 65432        # Port to listen on (non-privileged ports are > 1023)\n",
    "\n",
    "with socket.socket(socket.AF_INET, socket.SOCK_STREAM) as s:\n",
    "    s.bind((HOST, PORT))\n",
    "    s.listen()\n",
    "    \n",
    "    #s.settimeout(0.1)\n",
    "    conn, addr = s.accept()\n",
    "    with conn:\n",
    "        print('Connected by', addr)\n",
    "        s.setblocking(False)\n",
    "        inputstring=0\n",
    "        while True:\n",
    "            #while inputstring!='end':\n",
    "                inputstring=input(\"\") #Press Enter to continue...\n",
    "                if (inputstring=='h' or inputstring=='j' or inputstring=='k' or inputstring=='l' or \n",
    "                    inputstring=='u' or inputstring=='o'or inputstring=='y' or inputstring=='i' or \n",
    "                    inputstring=='z' or inputstring=='x' or inputstring=='d' or inputstring=='c'or\n",
    "                    inputstring=='home'):\n",
    "                    \n",
    "                    data=inputstring.encode('ascii')    \n",
    "                    print(data)\n",
    "                    conn.send(data)\n",
    "                  \n",
    "                    \n",
    "                if inputstring=='end': \n",
    "                    data=b'end'\n",
    "                    print(data)\n",
    "                    conn.send(data) \n",
    "                    break\n",
    "                #data = conn.recv(1024)\n",
    "                \n",
    "                #if not data:\n",
    "                #    break\n",
    "                "
   ]
  },
  {
   "cell_type": "code",
   "execution_count": null,
   "id": "87e0fe68-1f23-418e-9982-0702f8d218ed",
   "metadata": {},
   "outputs": [],
   "source": []
  }
 ],
 "metadata": {
  "kernelspec": {
   "display_name": "Python 3",
   "language": "python",
   "name": "python3"
  },
  "language_info": {
   "codemirror_mode": {
    "name": "ipython",
    "version": 3
   },
   "file_extension": ".py",
   "mimetype": "text/x-python",
   "name": "python",
   "nbconvert_exporter": "python",
   "pygments_lexer": "ipython3",
   "version": "3.6.9"
  }
 },
 "nbformat": 4,
 "nbformat_minor": 5
}
