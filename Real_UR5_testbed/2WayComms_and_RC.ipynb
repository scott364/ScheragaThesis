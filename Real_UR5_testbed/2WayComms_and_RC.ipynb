{
 "cells": [
  {
   "cell_type": "code",
   "execution_count": null,
   "id": "0ca7d546-3db1-4e45-9926-9214c4eefe8a",
   "metadata": {},
   "outputs": [],
   "source": [
    "from remote_FT_client import RemoteFTclient\n",
    "from time import sleep"
   ]
  },
  {
   "cell_type": "code",
   "execution_count": null,
   "id": "70bf25b0-bba1-4384-9e32-58a5b020127c",
   "metadata": {},
   "outputs": [],
   "source": [
    "client = RemoteFTclient( '192.168.0.103', 10000 )\n",
    "print( client.prxy.system.listMethods() )"
   ]
  },
  {
   "cell_type": "code",
   "execution_count": null,
   "id": "46fbc590-88ce-485f-af44-26753792880b",
   "metadata": {},
   "outputs": [],
   "source": [
    "print( \"Get wrist force:\" )\n",
    "\n",
    "for i in range(5):\n",
    "    print( '\\t', client.get_wrist_force() )\n",
    "    sleep( 0.020 )\n",
    "    \n",
    "print( \"Bias wrist force\" )\n",
    "client.bias_wrist_force()\n",
    "sleep( 3.0 )\n",
    "\n",
    "for i in range(5):\n",
    "    print( '\\t', client.get_wrist_force() )\n",
    "    sleep( 0.020 )"
   ]
  },
  {
   "cell_type": "markdown",
   "id": "7b82a309-773f-4bf3-af0c-d305a63cd2fc",
   "metadata": {},
   "source": [
    "## echo client"
   ]
  },
  {
   "cell_type": "code",
   "execution_count": 4,
   "id": "904b3d2e-6cc0-4a4f-b53c-989bcd0cd58d",
   "metadata": {},
   "outputs": [
    {
     "name": "stdout",
     "output_type": "stream",
     "text": [
      "connecting to 192.168.0.103 port 65452\n",
      "sending b'This is our message. It is very long but will only be transmitted in chunks of 16 at a time'\n",
      "received b'This is our mess'\n",
      "received b'age. It is very '\n",
      "received b'long but will on'\n",
      "received b'ly be transmitte'\n",
      "received b'd in chunks of 1'\n",
      "received b'6 at a time'\n",
      "closing socket\n"
     ]
    }
   ],
   "source": [
    "import socket\n",
    "HOST2 = '192.168.0.103'\n",
    "PORT2= 65452 \n",
    "# Create a TCP/IP socket\n",
    "sock = socket.socket(socket.AF_INET, socket.SOCK_STREAM)\n",
    "\n",
    "# Connect the socket to the port where the server is listening\n",
    "server_address = (HOST2, PORT2)\n",
    "print('connecting to {} port {}'.format(*server_address))\n",
    "sock.connect(server_address)\n",
    "\n",
    "try:\n",
    "\n",
    "    # Send data\n",
    "    message = b'This is our message. It is very long but will only be transmitted in chunks of 16 at a time'\n",
    "    print('sending {!r}'.format(message))\n",
    "    sock.sendall(message)\n",
    "\n",
    "    # Look for the response\n",
    "    amount_received = 0\n",
    "    amount_expected = len(message)\n",
    "\n",
    "    while amount_received < amount_expected:\n",
    "        data = sock.recv(16)\n",
    "        amount_received += len(data)\n",
    "        print('received {!r}'.format(data))\n",
    "\n",
    "finally:\n",
    "    print('closing socket')\n",
    "    sock.close()"
   ]
  },
  {
   "cell_type": "markdown",
   "id": "d81a587b-cdf9-4da9-86b5-889c40f7b50d",
   "metadata": {},
   "source": [
    "## test client"
   ]
  },
  {
   "cell_type": "code",
   "execution_count": 56,
   "id": "52ae6a18-5035-48d3-973a-06dc025bbbf1",
   "metadata": {},
   "outputs": [
    {
     "name": "stdout",
     "output_type": "stream",
     "text": [
      "Connected to http://192.168.0.103:10000\n",
      "['bias_ft', 'get_ft', 'system.listMethods', 'system.methodHelp', 'system.methodSignature']\n",
      "connecting to 192.168.0.103 port 65458\n",
      "Bias wrist force\n"
     ]
    },
    {
     "name": "stdin",
     "output_type": "stream",
     "text": [
      " u\n"
     ]
    },
    {
     "name": "stdout",
     "output_type": "stream",
     "text": [
      "x -5.445417581295967 y -13.895916417065264 z 9.773463360512256\n",
      "roll 179.3467723689798 pitch 2.030107685956797 yaw -179.59301568370455\n",
      "Forces and Torques:\n",
      "[0.13999999999999999, -0.06000000000000001, -0.16, -0.0024000000000000002, -0.0008, 0]\n"
     ]
    },
    {
     "name": "stdin",
     "output_type": "stream",
     "text": [
      " l\n"
     ]
    },
    {
     "name": "stdout",
     "output_type": "stream",
     "text": [
      "x -5.446202532652021 y -13.895239411187172 z 8.771782711099089\n",
      "roll 179.34614273454196 pitch 2.0307321446585553 yaw -179.59956254274005\n",
      "Forces and Torques:\n",
      "[0.06000000000000001, -0.02, 0.06000000000000001, -0.020198, 0.0006000000000000001, 0]\n"
     ]
    },
    {
     "name": "stdin",
     "output_type": "stream",
     "text": [
      " u\n"
     ]
    },
    {
     "name": "stdout",
     "output_type": "stream",
     "text": [
      "x -5.446334531198442 y -14.896120442739129 z 8.772504303152859\n",
      "roll 179.34806821972842 pitch 2.0281666634866458 yaw -179.5966967802325\n",
      "Forces and Torques:\n",
      "[0.08, 0.0, 0.6, -0.017193999999999997, -0.0006019999999999998, 0]\n"
     ]
    },
    {
     "name": "stdin",
     "output_type": "stream",
     "text": [
      " j\n"
     ]
    },
    {
     "name": "stdout",
     "output_type": "stream",
     "text": [
      "x -5.446982790726423 y -13.895131465709209 z 8.770037396985293\n",
      "roll 179.33896779242235 pitch 2.0306079410777698 yaw -179.59412143283876\n",
      "Forces and Torques:\n",
      "[0.02, -0.02, 0.76, -0.0088, -0.0024020000000000005, 0]\n"
     ]
    },
    {
     "name": "stdin",
     "output_type": "stream",
     "text": [
      " j\n"
     ]
    },
    {
     "name": "stdout",
     "output_type": "stream",
     "text": [
      "x -5.446207225933671 y -12.93161012941599 z 8.770846988070012\n",
      "roll 179.35118157969913 pitch 2.037566610507936 yaw -179.59646015927478\n",
      "Forces and Torques:\n",
      "[0.14, -0.9, 0.45999999999999996, 0.038398, 0.014598, 0]\n"
     ]
    },
    {
     "name": "stdin",
     "output_type": "stream",
     "text": [
      " end\n"
     ]
    },
    {
     "name": "stdout",
     "output_type": "stream",
     "text": [
      "closing socket\n"
     ]
    }
   ],
   "source": [
    "import socket\n",
    "import numpy as np\n",
    "import struct\n",
    "from scipy.spatial.transform import Rotation as R\n",
    "from remote_FT_client import RemoteFTclient\n",
    "from time import sleep\n",
    "\n",
    "FTclient = RemoteFTclient( '192.168.0.103', 10000 )\n",
    "print( FTclient.prxy.system.listMethods() )\n",
    "\n",
    "def rot2rpy(Rt, degrees=False):\n",
    "    \"\"\" Converts a rotation matrix into rpy / intrinsic xyz euler angle form.\n",
    "    Args:    Rt (ndarray): The rotation matrix.\n",
    "    Returns: ndarray: Angles in rpy / intrinsic xyz euler angle form.\n",
    "    \"\"\"\n",
    "    return R.from_matrix(Rt).as_euler('xyz', degrees=degrees)\n",
    "\n",
    "\n",
    "def rpy2rot(rpy, degrees=False):\n",
    "    \"\"\"Converts rpy / intrinsic xyz euler angles into a rotation matrix.\n",
    "    Args:    rpy (array-like): rpy / intrinsic xyz euler angles.\n",
    "             degrees (bool) : Whether or not euler_angles are in degrees (True), or radians (False).\n",
    "    Returns: ndarray: The rotation matrix.\n",
    "    \"\"\"\n",
    "    return R.from_euler('xyz', rpy, degrees=degrees).as_matrix()\n",
    "\n",
    "HOST2 = '192.168.0.103'\n",
    "PORT2= 65458\n",
    "# Create a TCP/IP socket\n",
    "sock = socket.socket(socket.AF_INET, socket.SOCK_STREAM)\n",
    "\n",
    "# Connect the socket to the port where the server is listening\n",
    "server_address = (HOST2, PORT2)\n",
    "print('connecting to {} port {}'.format(*server_address))\n",
    "sock.connect(server_address)\n",
    "print( \"Bias wrist force\" )\n",
    "FTclient.bias_wrist_force()\n",
    "try:\n",
    "     while True:\n",
    "        # Send data\n",
    "\n",
    "        inputstring=0\n",
    "        #while True:\n",
    "            #while inputstring!='end':\n",
    "        inputstring=input(\"\") #Press Enter to continue...\n",
    "        if (inputstring=='h' or inputstring=='j' or inputstring=='k' or inputstring=='l' or \n",
    "            inputstring=='u' or inputstring=='o'or inputstring=='y' or inputstring=='i' or \n",
    "            inputstring=='z' or inputstring=='x' or inputstring=='d' or inputstring=='c'or\n",
    "            inputstring=='home',inputstring=='end'):\n",
    "\n",
    "            data1=inputstring.encode('ascii')    \n",
    "            sock.sendall(data1)\n",
    "        if (inputstring=='end'):\n",
    "            break\n",
    "        \"\"\"\n",
    "        data = sock.recv(16)\n",
    "            #amount_received += len(data)\n",
    "        print('received {!r}'.format(data))\n",
    "        \"\"\"\n",
    "\n",
    "        data = sock.recv(64)  #48 bytes\n",
    "        #print(data)\n",
    "        #value = struct.unpack('f',data)\n",
    "        unpacked = struct.unpack('ffffffffffffffff', data)\n",
    "        #print(unpacked)\n",
    "        #print('Received', repr(data))\n",
    "        TransRotatmatrix=np.zeros([4,4])\n",
    "        for i in range(4):\n",
    "            TransRotatmatrix[i][:]=unpacked[0+(4*i):4+(4*i)]\n",
    "        #print(TransRotatmatrix)\n",
    "        rpy=rot2rpy(TransRotatmatrix[0:3,0:3],True)\n",
    "        x=TransRotatmatrix[0][3]*39.3701  #convert to inches \n",
    "        y=TransRotatmatrix[1][3]*39.3701\n",
    "        z=TransRotatmatrix[2][3]*39.3701\n",
    "        roll=rpy[0]  #In degrees!\n",
    "        pitch=rpy[1]\n",
    "        yaw=rpy[2]\n",
    "        print(\"x\",x,\"y\",y,\"z\",z)\n",
    "        print(\"roll\",roll,\"pitch\",pitch,\"yaw\",yaw)\n",
    "\n",
    "        \"\"\"\"\"\"\n",
    "        forcesamples=5\n",
    "        FT_list=[]\n",
    "        AVG_FT_list=[0]*6  #3 forces 3 torques\n",
    "        for i in range(5):  #get 5 force samples\n",
    "            FT_list.append(FTclient.get_wrist_force())\n",
    "            sleep( 0.020 )            \n",
    "        for i in range(len(FT_list)): \n",
    "            #print(\"i:\",i)\n",
    "            AVG_FT_list[i]=0\n",
    "            for j in range(len(FT_list)):  \n",
    "                AVG_FT_list[i]+=FT_list[j][i]    \n",
    "            AVG_FT_list[i]=AVG_FT_list[i]/(len(FT_list))\n",
    "        print(\"Forces and Torques:\")\n",
    "        print(AVG_FT_list)\n",
    "        #print( \"Bias wrist force\" )\n",
    "        #FTclient.bias_wrist_force()\n",
    "        #sleep( 3.0 )\n",
    "        \"\"\"\"\"\"\n",
    "    \n",
    "finally:\n",
    "    \n",
    "    print('closing socket')\n",
    "    sock.close()"
   ]
  },
  {
   "cell_type": "code",
   "execution_count": null,
   "id": "115a268b-3fa9-41ca-8934-972b3219e531",
   "metadata": {},
   "outputs": [],
   "source": []
  },
  {
   "cell_type": "code",
   "execution_count": 53,
   "id": "846788f4-2bcd-4ec7-b62b-78afb8b4d91c",
   "metadata": {},
   "outputs": [
    {
     "name": "stdout",
     "output_type": "stream",
     "text": [
      "LL len 3\n",
      "[0.16666666666666666, 0.0, 0.6333333333333333, 0.019666666666666666, 0.0016666666666666668, -0.007333333333333333]\n"
     ]
    }
   ],
   "source": [
    "a=[0.2, -0.1, 0.1, 0.013, 0.001, -0.007]\n",
    "b=[0.2, 0.0, 0.5, 0.033, 0.006, -0.008]\n",
    "c=[0.1, 0.1, 1.3, 0.013, -0.002, -0.007]\n",
    "d=[0.1, 0.1, 1.2, 0.017, -0.001, -0.008]\n",
    "e=[0.0, 0.1, 0.4, 0.026, -0.001, -0.00899]\n",
    "\n",
    "LL=[]\n",
    "LL.append(a)\n",
    "LL.append(b)\n",
    "LL.append(c)\n",
    "L2=[0]*6\n",
    "print(\"LL len\",len(LL))\n",
    "for i in range(len(a)): \n",
    "    #print(\"i:\",i)\n",
    "    L2[i]=0\n",
    "    for j in range(len(LL)):  \n",
    "        L2[i]+=LL[j][i]    \n",
    "    L2[i]=L2[i]/(len(LL))\n"
   ]
  },
  {
   "cell_type": "code",
   "execution_count": null,
   "id": "af326199-b7dd-4e9a-b9a2-e4d2b05537f5",
   "metadata": {},
   "outputs": [],
   "source": []
  }
 ],
 "metadata": {
  "kernelspec": {
   "display_name": "Python 3",
   "language": "python",
   "name": "python3"
  },
  "language_info": {
   "codemirror_mode": {
    "name": "ipython",
    "version": 3
   },
   "file_extension": ".py",
   "mimetype": "text/x-python",
   "name": "python",
   "nbconvert_exporter": "python",
   "pygments_lexer": "ipython3",
   "version": "3.6.9"
  }
 },
 "nbformat": 4,
 "nbformat_minor": 5
}
