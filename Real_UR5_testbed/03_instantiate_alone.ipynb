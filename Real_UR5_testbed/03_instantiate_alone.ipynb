{
 "cells": [
  {
   "cell_type": "markdown",
   "id": "8b7012b4",
   "metadata": {},
   "source": [
    "# Init"
   ]
  },
  {
   "cell_type": "code",
   "execution_count": 1,
   "id": "714e3274",
   "metadata": {},
   "outputs": [
    {
     "name": "stdout",
     "output_type": "stream",
     "text": [
      "Loaded: /home/scott/dev_rmstudio/rmlib/rmlib/rmtools Exists?: True\n",
      "Loaded: /home/scott/dev_rmstudio/rmlib Exists?: True\n",
      "Loaded!\n"
     ]
    }
   ],
   "source": [
    "import context\n",
    "from config import robotConfig\n",
    "from UR_RTDE_wrapper import RTDEwrapper\n",
    "print( \"Loaded!\" )"
   ]
  },
  {
   "cell_type": "code",
   "execution_count": 3,
   "id": "4eb98c3a",
   "metadata": {},
   "outputs": [
    {
     "name": "stdout",
     "output_type": "stream",
     "text": [
      "Created!\n"
     ]
    }
   ],
   "source": [
    "robotConfig['my_components']['arm_config']['ip_address'] = \"192.168.0.101\"\n",
    "rtde = RTDEwrapper( robotConfig['my_components']['arm_config'], None )\n",
    "print( \"Created!\" )"
   ]
  },
  {
   "cell_type": "markdown",
   "id": "854303a7",
   "metadata": {},
   "source": [
    "# Test Status"
   ]
  },
  {
   "cell_type": "code",
   "execution_count": 3,
   "id": "915d5bbb",
   "metadata": {},
   "outputs": [
    {
     "name": "stdout",
     "output_type": "stream",
     "text": [
      "get_status_bits: 0b11 <class 'str'>\n"
     ]
    }
   ],
   "source": [
    "var = rtde.get_status_bits()\n",
    "print( \"get_status_bits:\", var, type( var ) )"
   ]
  },
  {
   "cell_type": "code",
   "execution_count": 6,
   "id": "e9296ff8",
   "metadata": {},
   "outputs": [
    {
     "name": "stdout",
     "output_type": "stream",
     "text": [
      "get_safety_status_bits: 0b1 <class 'str'>\n"
     ]
    }
   ],
   "source": [
    "var = rtde.get_safety_status_bits()\n",
    "print( \"get_safety_status_bits:\", var, type( var ) )"
   ]
  },
  {
   "cell_type": "code",
   "execution_count": 5,
   "id": "696e986e",
   "metadata": {},
   "outputs": [
    {
     "name": "stdout",
     "output_type": "stream",
     "text": [
      "get_tcp_pose_vec: [-0.1459477794168426, -0.3153451021102023, 0.19125039797344479, -0.008701077917144308, 3.1138871938502275, 0.019909065786114632] <class 'list'>\n"
     ]
    }
   ],
   "source": [
    "var = rtde.get_tcp_pose_vec()\n",
    "print( \"get_tcp_pose_vec:\", var, type( var ) )"
   ]
  },
  {
   "cell_type": "code",
   "execution_count": 4,
   "id": "91eb915d",
   "metadata": {},
   "outputs": [
    {
     "name": "stdout",
     "output_type": "stream",
     "text": [
      "get_tcp_pose:\n",
      " [[-0.99960231 -0.00575209  0.02760697 -0.1459508 ]\n",
      " [-0.00539814  0.9999025   0.0128782  -0.31533694]\n",
      " [-0.02767836  0.01272405 -0.9995359   0.1912343 ]\n",
      " [ 0.          0.          0.          1.        ]] \n",
      " <class 'numpy.ndarray'>\n"
     ]
    }
   ],
   "source": [
    "var = rtde.get_tcp_pose()\n",
    "print( \"get_tcp_pose:\\n\", var, '\\n', type( var ) )"
   ]
  },
  {
   "cell_type": "code",
   "execution_count": 10,
   "id": "5f2db90d",
   "metadata": {},
   "outputs": [
    {
     "name": "stdout",
     "output_type": "stream",
     "text": [
      "get_tcp_force:\n",
      " [-4.29530225713023, -8.8445346868358, -5.594714070026336, 2.7039305767777537, -0.49619902071205385, 0.5813904255737924] \n",
      " <class 'list'>\n"
     ]
    }
   ],
   "source": [
    "var = rtde.get_tcp_force()\n",
    "print( \"get_tcp_force:\\n\", var, '\\n', type( var ) )"
   ]
  },
  {
   "cell_type": "code",
   "execution_count": 8,
   "id": "a5ed13d7",
   "metadata": {},
   "outputs": [
    {
     "name": "stdout",
     "output_type": "stream",
     "text": [
      "get_joint_angles:\n",
      " [0.8009634613990784, -1.9169562498675745, 1.7536840438842773, -1.3782809416400355, -1.5533941427813929, -0.774698559437887] \n",
      " <class 'list'>\n",
      "get_joint_degrees:\n",
      " [45.89182588235682, -109.83350262863769, 100.47869431400414, -78.96968093929095, -89.00292830171621, -44.386957850655676] \n",
      " <class 'list'>\n"
     ]
    }
   ],
   "source": [
    "var = rtde.get_joint_angles()\n",
    "print( \"get_joint_angles:\\n\", var, '\\n', type( var ) )\n",
    "\n",
    "var = rtde.get_joint_degrees()\n",
    "print( \"get_joint_degrees:\\n\", var, '\\n', type( var ) )"
   ]
  },
  {
   "cell_type": "code",
   "execution_count": 9,
   "id": "f61c5424",
   "metadata": {},
   "outputs": [
    {
     "name": "stdout",
     "output_type": "stream",
     "text": [
      "enable_freedrive:\n",
      " True \n",
      " <class 'bool'>\n"
     ]
    }
   ],
   "source": [
    "var = rtde.enable_freedrive()\n",
    "print( \"enable_freedrive:\\n\", var, '\\n', type( var ) )"
   ]
  },
  {
   "cell_type": "code",
   "execution_count": 10,
   "id": "7295f70b",
   "metadata": {},
   "outputs": [
    {
     "name": "stdout",
     "output_type": "stream",
     "text": [
      "disable_freedrive:\n",
      " True \n",
      " <class 'bool'>\n"
     ]
    }
   ],
   "source": [
    "var = rtde.disable_freedrive()\n",
    "print( \"disable_freedrive:\\n\", var, '\\n', type( var ) )"
   ]
  },
  {
   "cell_type": "markdown",
   "id": "7d604a2f",
   "metadata": {},
   "source": [
    "# Test Motion"
   ]
  },
  {
   "cell_type": "code",
   "execution_count": 11,
   "id": "2932c87f",
   "metadata": {},
   "outputs": [
    {
     "name": "stdout",
     "output_type": "stream",
     "text": [
      "get_tcp_pose:\n",
      " [[-0.99960434 -0.00576407  0.02753087 -0.14596495]\n",
      " [-0.00541185  0.99990278  0.01285105 -0.31533313]\n",
      " [-0.02760226  0.01269697 -0.99953834  0.19126315]\n",
      " [ 0.          0.          0.          1.        ]]\n",
      "New target pose:\n",
      " [[-0.99960434 -0.00576407  0.02753087 -0.14596495]\n",
      " [-0.00541185  0.99990278  0.01285105 -0.31533313]\n",
      " [-0.02760226  0.01269697 -0.99953834  0.24126315]\n",
      " [ 0.          0.          0.          1.        ]]\n",
      "Diff:\n",
      " [[0.   0.   0.   0.  ]\n",
      " [0.   0.   0.   0.  ]\n",
      " [0.   0.   0.   0.05]\n",
      " [0.   0.   0.   0.  ]]\n"
     ]
    },
    {
     "data": {
      "text/plain": [
       "True"
      ]
     },
     "execution_count": 11,
     "metadata": {},
     "output_type": "execute_result"
    }
   ],
   "source": [
    "import numpy as np\n",
    "\n",
    "orig = rtde.get_tcp_pose()\n",
    "print( \"get_tcp_pose:\\n\", orig )\n",
    "\n",
    "trgt = orig.copy()\n",
    "trgt[2,3] += 0.050\n",
    "\n",
    "print( \"New target pose:\\n\", trgt )\n",
    "\n",
    "print( \"Diff:\\n\", np.subtract( trgt, orig ) )\n",
    "\n",
    "rtde.move_speed( trgt, move_type = 'l', speed = 0.125, accel = 0.25,\n",
    "                 radius = 0, stop_condition = 'dummy', blocking = True )"
   ]
  },
  {
   "cell_type": "markdown",
   "id": "8f10b655",
   "metadata": {},
   "source": [
    "# Test Condition (Blocking)"
   ]
  },
  {
   "cell_type": "markdown",
   "id": "49884e62",
   "metadata": {},
   "source": [
    "## First test without condition"
   ]
  },
  {
   "cell_type": "code",
   "execution_count": 4,
   "id": "cc0a99b9",
   "metadata": {},
   "outputs": [
    {
     "name": "stdout",
     "output_type": "stream",
     "text": [
      "Blocking move required 4.462336778640747 seconds to execute\n"
     ]
    }
   ],
   "source": [
    "import time\n",
    "orig = rtde.get_tcp_pose()\n",
    "trgt = orig.copy()\n",
    "trgt[2,3] += 0.050\n",
    "\n",
    "bgn = time.time()\n",
    "rtde.move_speed( trgt, move_type = 'l', speed = 0.012, accel = 0.125,\n",
    "                 radius = 0, stop_condition = 'dummy', blocking = True )\n",
    "print( \"Blocking move required\", time.time()-bgn , \"seconds to execute\" )"
   ]
  },
  {
   "cell_type": "markdown",
   "id": "8b93fda6",
   "metadata": {},
   "source": [
    "## Test with Timeout condition (Blocking)"
   ]
  },
  {
   "cell_type": "code",
   "execution_count": 5,
   "id": "14759ff1",
   "metadata": {},
   "outputs": [
    {
     "name": "stdout",
     "output_type": "stream",
     "text": [
      "TIMEOUT!\n",
      "Blocking move required 2.0767970085144043 seconds to execute\n"
     ]
    }
   ],
   "source": [
    "# Test a condition that belongs to an object, which is often the case\n",
    "import time\n",
    "from time import sleep\n",
    "\n",
    "orig = rtde.get_tcp_pose()\n",
    "trgt = orig.copy()\n",
    "trgt[2,3] += 0.100\n",
    "\n",
    "\n",
    "class OutsideCondition:\n",
    "    \"\"\" Simplest timeout condition \"\"\"\n",
    "    \n",
    "    def __init__( self, TO_s ):\n",
    "        self.TO  = TO_s\n",
    "        self.bgn = time.time()\n",
    "        \n",
    "    def cond( self ):\n",
    "        if time.time() - self.bgn >= self.TO:\n",
    "            print( \"TIMEOUT!\" )\n",
    "            return True\n",
    "        else:\n",
    "            return False\n",
    "        \n",
    "\n",
    "TO = OutsideCondition( 2.0 )\n",
    "\n",
    "bgn = time.time()\n",
    "rtde.move_speed( trgt, move_type = 'l', speed = 0.012, accel = 0.125,\n",
    "                 radius = 0, stop_condition = TO.cond, blocking = True )\n",
    "print( \"Blocking move required\", time.time()-bgn , \"seconds to execute\" )"
   ]
  },
  {
   "cell_type": "markdown",
   "id": "72762572",
   "metadata": {},
   "source": [
    "# Test Condition (Non-Blocking)"
   ]
  },
  {
   "cell_type": "code",
   "execution_count": 6,
   "id": "a48c06e3",
   "metadata": {},
   "outputs": [
    {
     "name": "stdout",
     "output_type": "stream",
     "text": [
      "Blocking move required 0.13744091987609863 seconds to execute\n",
      "TIMEOUT!\n",
      "COND MET\n"
     ]
    }
   ],
   "source": [
    "# Test a condition that belongs to an object, which is often the case\n",
    "import time\n",
    "from time import sleep\n",
    "\n",
    "orig = rtde.get_tcp_pose()\n",
    "trgt = orig.copy()\n",
    "trgt[2,3] += 0.100\n",
    "\n",
    "\n",
    "class OutsideCondition:\n",
    "    \"\"\" Simplest timeout condition \"\"\"\n",
    "    \n",
    "    def __init__( self, TO_s ):\n",
    "        self.TO  = TO_s\n",
    "        self.bgn = time.time()\n",
    "        \n",
    "    def cond( self ):\n",
    "        if time.time() - self.bgn >= self.TO:\n",
    "            print( \"TIMEOUT!\" )\n",
    "            return True\n",
    "        else:\n",
    "            return False\n",
    "        \n",
    "TO = None\n",
    "TO = OutsideCondition( 2.0 )\n",
    "\n",
    "bgn = time.time()\n",
    "rtde.move_speed( trgt, move_type = 'l', speed = 0.012, accel = 0.125,\n",
    "                 radius = 0, stop_condition = TO.cond, blocking = False )\n",
    "print( \"Blocking move required\", time.time()-bgn , \"seconds to execute\" )"
   ]
  },
  {
   "cell_type": "code",
   "execution_count": null,
   "id": "1b663c01",
   "metadata": {},
   "outputs": [],
   "source": []
  }
 ],
 "metadata": {
  "kernelspec": {
   "display_name": "Python 3",
   "language": "python",
   "name": "python3"
  },
  "language_info": {
   "codemirror_mode": {
    "name": "ipython",
    "version": 3
   },
   "file_extension": ".py",
   "mimetype": "text/x-python",
   "name": "python",
   "nbconvert_exporter": "python",
   "pygments_lexer": "ipython3",
   "version": "3.6.9"
  }
 },
 "nbformat": 4,
 "nbformat_minor": 5
}
