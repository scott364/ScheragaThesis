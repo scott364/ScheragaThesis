{
 "cells": [
  {
   "cell_type": "code",
   "execution_count": 8,
   "id": "948beb63-a0c1-4752-82a6-f44706e25059",
   "metadata": {},
   "outputs": [
    {
     "name": "stdout",
     "output_type": "stream",
     "text": [
      "(-0.9993444085121155, -0.00610222015529871, 0.035686369985342026, -0.14532579481601715, -0.004269939847290516, 0.9986794590950012, 0.05119660869240761, -0.30391228199005127, -0.035951659083366394, 0.05101066082715988, -0.9980508089065552, 0.26136940717697144, 0.0, 0.0, 0.0, 1.0)\n"
     ]
    }
   ],
   "source": [
    "import socket\n",
    "import struct\n",
    "#HOST = '127.0.0.1'  # The server's hostname or IP address\n",
    "HOST = '192.168.0.103'\n",
    "PORT = 65452      # The port used by the server\n",
    "\n",
    "with socket.socket(socket.AF_INET, socket.SOCK_STREAM) as s:\n",
    "    s.connect((HOST, PORT))\n",
    "    #message=b'Hello, world'\n",
    "    #s.sendall(message)\n",
    "    while True:\n",
    "        #data = s.recv(1024)  #need to make this non-blocking!!!\n",
    "        data = s.recv(64)  #48 bytes\n",
    "        #print(data)\n",
    "        if data==b'end':\n",
    "            break\n",
    "        #value = struct.unpack('f',data)\n",
    "        unpacked = struct.unpack('ffffffffffffffff', data)\n",
    "        print(unpacked)\n",
    "        #print('Received', repr(data))\n",
    "        \n",
    "        \n"
   ]
  },
  {
   "cell_type": "code",
   "execution_count": 16,
   "id": "87e0fe68-1f23-418e-9982-0702f8d218ed",
   "metadata": {},
   "outputs": [
    {
     "name": "stdout",
     "output_type": "stream",
     "text": [
      "(0.0, 0.0, 0.0, 1.0)\n",
      "(-0.9993444085121155,)\n"
     ]
    }
   ],
   "source": [
    "\n",
    "\n",
    "\n",
    "\n",
    "\n",
    "import struct\n",
    "\n",
    "packed = b'\\x00\\x00\\x00\\x00\\x00\\x00\\x00\\x00\\x00\\x00\\x00\\x00\\x00\\x00\\x80?'\n",
    "packed2=  b'\"\\xf5\\xc7\\xbb\\xdf+\\x12=I\\xd0\\x14\\xbe\\xda\\xea\\x8b\\xbbu\\xa9\\x7f?\\x89\\xb3Q=d\\x9a\\x9b\\xbe\\x0cB\\x13\\xbd\\x8e\\xf0P=B\\x80\\x7f\\xbf6\\xd2\\x85>'                                 \n",
    "packed3=b'\\t\\xd5\\x7f\\xbf'\n",
    "\n",
    "\n",
    "unpacked = struct.unpack('ffff', packed)\n",
    "print(unpacked)\n",
    "unpacked3 = struct.unpack('f', packed3)\n",
    "print(unpacked3)"
   ]
  },
  {
   "cell_type": "code",
   "execution_count": null,
   "id": "553b3846-2ea9-42bc-adcc-40d8445a0f3f",
   "metadata": {},
   "outputs": [],
   "source": []
  }
 ],
 "metadata": {
  "kernelspec": {
   "display_name": "Python 3",
   "language": "python",
   "name": "python3"
  },
  "language_info": {
   "codemirror_mode": {
    "name": "ipython",
    "version": 3
   },
   "file_extension": ".py",
   "mimetype": "text/x-python",
   "name": "python",
   "nbconvert_exporter": "python",
   "pygments_lexer": "ipython3",
   "version": "3.6.9"
  }
 },
 "nbformat": 4,
 "nbformat_minor": 5
}
