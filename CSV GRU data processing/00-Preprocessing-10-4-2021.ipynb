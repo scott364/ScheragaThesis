{
 "cells": [
  {
   "cell_type": "markdown",
   "metadata": {},
   "source": [
    "In this notebook, we'll be using a GRU model for a time series prediction task and we will compare the performance of the GRU model against an LSTM model as well. The dataset that we will be using is the Hourly Energy Consumption dataset which can be found on [Kaggle](https://www.kaggle.com/robikscube/hourly-energy-consumption). The dataset contains power consumption data across different regions around the United States recorded on an hourly basis.\n",
    "\n",
    "You can run the code implementation in this article on FloydHub using their GPUs on the cloud by clicking the following link and using the main.ipynb notebook.\n",
    "\n",
    "[![Run on FloydHub](https://static.floydhub.com/button/button-small.svg)](https://floydhub.com/run?template=https://github.com/gabrielloye/https://github.com/gabrielloye/GRU_Prediction)\n",
    "\n",
    "This will speed up the training process significantly. Alternatively, the link to the GitHub repository can be found [here]().\n",
    "\n",
    "The goal of this implementation is to create a model that can accurately predict the energy usage in the next hour given historical usage data. We will be using both the GRU and LSTM model to train on a set of historical data and evaluate both models on an unseen test set. To do so, we’ll start with feature selection, data-preprocessing, followed by defining, training and eventually evaluating the models.\n",
    "\n",
    "We will be using the PyTorch library to implement both types of models along with other common Python libraries used in data analytics."
   ]
  },
  {
   "cell_type": "code",
   "execution_count": 2,
   "metadata": {},
   "outputs": [
    {
     "name": "stderr",
     "output_type": "stream",
     "text": [
      "In /home/scott/.local/lib/python3.6/site-packages/matplotlib/mpl-data/stylelib/_classic_test.mplstyle: \n",
      "The text.latex.preview rcparam was deprecated in Matplotlib 3.3 and will be removed two minor releases later.\n",
      "In /home/scott/.local/lib/python3.6/site-packages/matplotlib/mpl-data/stylelib/_classic_test.mplstyle: \n",
      "The mathtext.fallback_to_cm rcparam was deprecated in Matplotlib 3.3 and will be removed two minor releases later.\n",
      "In /home/scott/.local/lib/python3.6/site-packages/matplotlib/mpl-data/stylelib/_classic_test.mplstyle: Support for setting the 'mathtext.fallback_to_cm' rcParam is deprecated since 3.3 and will be removed two minor releases later; use 'mathtext.fallback : 'cm' instead.\n",
      "In /home/scott/.local/lib/python3.6/site-packages/matplotlib/mpl-data/stylelib/_classic_test.mplstyle: \n",
      "The validate_bool_maybe_none function was deprecated in Matplotlib 3.3 and will be removed two minor releases later.\n",
      "In /home/scott/.local/lib/python3.6/site-packages/matplotlib/mpl-data/stylelib/_classic_test.mplstyle: \n",
      "The savefig.jpeg_quality rcparam was deprecated in Matplotlib 3.3 and will be removed two minor releases later.\n",
      "In /home/scott/.local/lib/python3.6/site-packages/matplotlib/mpl-data/stylelib/_classic_test.mplstyle: \n",
      "The keymap.all_axes rcparam was deprecated in Matplotlib 3.3 and will be removed two minor releases later.\n",
      "In /home/scott/.local/lib/python3.6/site-packages/matplotlib/mpl-data/stylelib/_classic_test.mplstyle: \n",
      "The animation.avconv_path rcparam was deprecated in Matplotlib 3.3 and will be removed two minor releases later.\n",
      "In /home/scott/.local/lib/python3.6/site-packages/matplotlib/mpl-data/stylelib/_classic_test.mplstyle: \n",
      "The animation.avconv_args rcparam was deprecated in Matplotlib 3.3 and will be removed two minor releases later.\n"
     ]
    }
   ],
   "source": [
    "#https://blog.floydhub.com/gru-with-pytorch/\n",
    "\n",
    "import os\n",
    "import time\n",
    "import csv\n",
    "import numpy as np\n",
    "import pandas as pd\n",
    "import matplotlib.pyplot as plt\n",
    "\n",
    "import random\n",
    "from datetime import datetime\n",
    "\n",
    "import torch\n",
    "import torch.nn as nn\n",
    "from torch.utils.data import TensorDataset, DataLoader\n",
    "\n",
    "from tqdm import tqdm_notebook\n",
    "from sklearn.preprocessing import MinMaxScaler,QuantileTransformer\n",
    "from sklearn.model_selection import train_test_split\n",
    "# Define data root directory\n",
    "\n",
    "#data_dir = \"./data/\"\n",
    "#print(os.listdir(data_dir))"
   ]
  },
  {
   "cell_type": "code",
   "execution_count": 8,
   "metadata": {},
   "outputs": [],
   "source": [
    "normalizeddataframe=pd.read_csv('forcetorquebuttonresults_10_04_2021.csv')#.head()\n",
    "originaldataframe=normalizeddataframe"
   ]
  },
  {
   "cell_type": "code",
   "execution_count": 12,
   "metadata": {},
   "outputs": [
    {
     "name": "stdout",
     "output_type": "stream",
     "text": [
      "(4764, 30)\n",
      "       header0   header1   header2   header3   header4   header5   header6  \\\n",
      "0    -0.068855 -0.044869 -0.060737 -0.075361 -0.049069 -0.019544 -0.066683   \n",
      "1     0.083175  0.155638  0.126217  0.112803  0.075403  0.100354  0.084586   \n",
      "2     0.078092  0.086802  0.076653  0.074929  0.075920  0.069810  0.099747   \n",
      "3    -0.029845 -0.042764 -0.039745 -0.038515 -0.031443 -0.039363 -0.033070   \n",
      "4    -0.010229 -0.003806 -0.011523 -0.018237 -0.005753 -0.001511 -0.012752   \n",
      "...        ...       ...       ...       ...       ...       ...       ...   \n",
      "4759 -0.144416 -0.442895 -0.450188 -0.467356 -0.538750 -0.676004 -0.958254   \n",
      "4760  0.207471 -0.304285 -0.146263 -0.361858 -0.225798 -1.211925 -1.467426   \n",
      "4761  0.098536  0.378223  0.397413  0.427082  0.507462  0.571873  0.792655   \n",
      "4762  0.171117  0.520219  0.552286  0.655644  0.889633  1.264238  1.244124   \n",
      "4763  0.000000  0.000000  0.000000  0.000000  0.000000  0.000000  0.000000   \n",
      "\n",
      "       header7   header8   header9  ...  header20  header21  header22  \\\n",
      "0    -0.084285 -0.049307 -0.074307  ... -0.137846 -0.159575 -0.148706   \n",
      "1     0.143607  0.163844  0.113997  ...  0.141468  0.158580  0.159871   \n",
      "2     0.061390  0.050926  0.062522  ...  0.071468  0.062736  0.071322   \n",
      "3    -0.046535 -0.042488 -0.045918  ... -0.043184 -0.048987 -0.051655   \n",
      "4    -0.005732 -0.004790 -0.002455  ...  0.026081  0.014039  0.007763   \n",
      "...        ...       ...       ...  ...       ...       ...       ...   \n",
      "4759 -1.139672 -1.240798 -1.470983  ...  0.116967  0.261258  0.260298   \n",
      "4760 -1.233514 -1.165482 -1.293845  ...  0.436955  0.201482  0.467779   \n",
      "4761  0.924444  1.059930  1.220495  ... -0.011112 -0.097340 -0.111628   \n",
      "4762  1.196082  1.102280  1.066908  ...  1.391801  1.440451  1.422310   \n",
      "4763  0.000000  0.000000  0.000000  ...  0.000000  0.000000  0.000000   \n",
      "\n",
      "      header23  header24  header25  header26  header27  header28  header29  \n",
      "0    -0.126249 -0.146782 -0.001653 -0.128269  0.013886 -0.126177 -0.127295  \n",
      "1     0.187795  0.136271 -0.150319 -0.021592 -0.099143  0.186733  0.176069  \n",
      "2     0.064001  0.059087  0.023605  0.022489  0.020512  0.051655  0.022502  \n",
      "3    -0.051720 -0.045953  0.123342  0.069035  0.116190 -0.036966 -0.042520  \n",
      "4     0.012226  0.008117  0.067288  0.006604  0.072314  0.009038  0.010170  \n",
      "...        ...       ...       ...       ...       ...       ...       ...  \n",
      "4759  0.344592  0.341933  0.369893  0.508364  0.460406  0.445421  0.631181  \n",
      "4760  0.486852  0.370273  0.546368  0.347518  0.242049  0.416787  0.027068  \n",
      "4761 -0.145037 -0.160853 -0.197824 -0.311660 -0.326870 -0.319749 -0.461275  \n",
      "4762  1.415059  1.435928  1.469928  1.539826  1.553726  1.555692  1.592294  \n",
      "4763  0.000000  0.000000  0.000000  0.000000  0.000000  0.000000  1.000000  \n",
      "\n",
      "[4764 rows x 30 columns]\n"
     ]
    }
   ],
   "source": [
    "print(normalizeddataframe.shape)\n",
    "print(normalizeddataframe)\n"
   ]
  },
  {
   "cell_type": "markdown",
   "metadata": {},
   "source": [
    "We have a total of **12** *.csv* files containing hourly energy trend data (*'est_hourly.paruqet'* and *'pjm_hourly_est.csv'* are not used). In our next step, we will be reading these files and pre-processing these data in this order:\n",
    "- Getting the time data of each individual time step and generalizing them\n",
    "    - Hour of the day *i.e. 0-23*\n",
    "    - Day of the week *i.e. 1-7*\n",
    "    - Month *i.e. 1-12*\n",
    "    - Day of the year *i.e. 1-365*\n",
    "    \n",
    "    \n",
    "- Scale the data to values between 0 and 1\n",
    "    - Algorithms tend to perform better or converge faster when features are on a relatively similar scale and/or close to normally distributed\n",
    "    - Scaling preserves the shape of the original distribution and doesn't reduce the importance of outliers.\n",
    "    \n",
    "    \n",
    "- Group the data into sequences to be used as inputs to the model and store their corresponding labels\n",
    "    - The **sequence length** or **lookback period** is the number of data points in history that the model will use to make the prediction\n",
    "    - The label will be the next data point in time after the last one in the input sequence\n",
    "    \n",
    "\n",
    "- The inputs and labels will then be split into training and test sets"
   ]
  },
  {
   "cell_type": "code",
   "execution_count": 10,
   "metadata": {},
   "outputs": [
    {
     "name": "stdout",
     "output_type": "stream",
     "text": [
      "-0.14936999999999934\n",
      "-0.014936999999999978\n"
     ]
    }
   ],
   "source": [
    "#Un Normalize data\n",
    "\n",
    "xforcemin=-10\n",
    "xforcemax=10\n",
    "yforcemin=-10\n",
    "yforcemax=10\n",
    "\n",
    "zforcemin=-15\n",
    "zforcemax=10\n",
    "rolltorquemin=-2\n",
    "rolltorquemax=2\n",
    "pitchtorquemin=-2\n",
    "pitchtorquemax=2\n",
    "yawtorquemin=-.1\n",
    "yawtorquemax=.1\n",
    "\n",
    "xforce_normalized=-0.014937\n",
    "\n",
    "xforce_original=(((xforce_normalized+1)/2)*(xforcemax-xforcemin)+xforcemin)\n",
    "print(xforce_original)\n",
    "xforce_normalized2=((xforce_original-xforcemin)/(xforcemax-xforcemin)*2)-1\n",
    "\n",
    "print(xforce_normalized2)"
   ]
  },
  {
   "cell_type": "code",
   "execution_count": 17,
   "metadata": {},
   "outputs": [
    {
     "name": "stdout",
     "output_type": "stream",
     "text": [
      "794.0\n"
     ]
    }
   ],
   "source": [
    "a=4764/6\n",
    "print(a)"
   ]
  },
  {
   "cell_type": "code",
   "execution_count": 18,
   "metadata": {},
   "outputs": [
    {
     "name": "stdout",
     "output_type": "stream",
     "text": [
      "data output to file\n"
     ]
    }
   ],
   "source": [
    "normalizeddataframe=pd.read_csv('forcetorquebuttonresults_10_04_2021.csv')#.head()\n",
    "originaldataframe=normalizeddataframe\n",
    "#unnormalizerange=range(0,5,575)\n",
    "#print(unnormalizerange)\n",
    "\n",
    "for i in range(0,795,6):\n",
    "  \n",
    "    originaldataframe.iloc[i]=(((normalizeddataframe.iloc[i]+1)/2)*(xforcemax-xforcemin)+xforcemin)\n",
    "    originaldataframe.iloc[i+1]=(((normalizeddataframe.iloc[i+1]+1)/2)*(yforcemax-yforcemin)+yforcemin)\n",
    "    originaldataframe.iloc[i+2]=(((normalizeddataframe.iloc[i+2]+1)/2)*(zforcemax-zforcemin)+zforcemin)\n",
    "    originaldataframe.iloc[i+3]=(((normalizeddataframe.iloc[i+3]+1)/2)*(rolltorquemax-rolltorquemin)+rolltorquemin)\n",
    "    originaldataframe.iloc[i+4]=(((normalizeddataframe.iloc[i+4]+1)/2)*(pitchtorquemax-pitchtorquemin)+pitchtorquemin)\n",
    "    \n",
    "\n",
    "originaldataframe\n",
    "originaldataframe.to_csv('forcetorquebuttonresults_unnormalized_10_04_2021.csv', index=False)  \n",
    "print(\"data output to file\")\n"
   ]
  },
  {
   "cell_type": "code",
   "execution_count": 20,
   "metadata": {},
   "outputs": [
    {
     "name": "stdout",
     "output_type": "stream",
     "text": [
      "(4764, 30)\n",
      "xforcemin= -47.44705974939552 xforcemax= 43.25664007930645\n",
      "yforcemin= -85.6046291498482 yforcemax= 83.31844701378286\n",
      "zforcemin= -135.31193455377723 zforcemax= -8.138808388443245\n",
      "rolltorquemin= -11.993303627339632 rolltorquemax= 12.234356901329193\n",
      "pitchtorquemin= -14.201129403557673 pitchtorquemax= 13.41306238100583\n"
     ]
    }
   ],
   "source": [
    "#Find new min and max values for each set of data\n",
    "\n",
    "originaldataframe=pd.read_csv('forcetorquebuttonresults_unnormalized_10_04_2021.csv')#.head()\n",
    "print(originaldataframe.shape)\n",
    "xforcemin=999\n",
    "xforcemax=-999\n",
    "yforcemin=999\n",
    "yforcemax=-999\n",
    "zforcemin=999\n",
    "zforcemax=-999\n",
    "rolltorquemin=999\n",
    "rolltorquemax=-999\n",
    "pitchtorquemin=999\n",
    "pitchtorquemax=-999\n",
    "\n",
    "\n",
    "for i in range(0,575,6):\n",
    "    xtempmin=originaldataframe.iloc[i].min(axis=0)\n",
    "    xtempmax=originaldataframe.iloc[i].max(axis=0)\n",
    "    ytempmin=originaldataframe.iloc[i+1].min(axis=0)\n",
    "    ytempmax=originaldataframe.iloc[i+1].max(axis=0)\n",
    "    ztempmin=originaldataframe.iloc[i+2].min(axis=0)\n",
    "    ztempmax=originaldataframe.iloc[i+2].max(axis=0)\n",
    "    rolltempmin=originaldataframe.iloc[i+3].min(axis=0)\n",
    "    rolltempmax=originaldataframe.iloc[i+3].max(axis=0)\n",
    "    pitchtempmin=originaldataframe.iloc[i+4].min(axis=0)\n",
    "    pitchtempmax=originaldataframe.iloc[i+4].max(axis=0)\n",
    "    \n",
    "    if xtempmin<xforcemin:\n",
    "        xforcemin=xtempmin\n",
    "    if ytempmin<yforcemin:\n",
    "        yforcemin=ytempmin\n",
    "    if ztempmin<zforcemin:\n",
    "        zforcemin=ztempmin\n",
    "        #print(\"row\",i+2,\"new min =\",zforcemin)\n",
    "    #if ztempmin<-50:\n",
    "        #print(\"row\",i+2,\"low z =\",zforcemin)\n",
    "        \n",
    "    if rolltempmin<rolltorquemin:\n",
    "        rolltorquemin=rolltempmin\n",
    "   \n",
    "        \n",
    "    if xtempmax>xforcemax:\n",
    "        xforcemax=xtempmax\n",
    "    if ytempmax>yforcemax:\n",
    "        yforcemax=ytempmax\n",
    "    if ztempmax>zforcemax:\n",
    "        zforcemax=ztempmax\n",
    "        #print(\"new max=\",zforcemax)\n",
    "    if rolltempmax>rolltorquemax:\n",
    "        rolltorquemax=rolltempmax\n",
    "\n",
    "    if pitchtempmin<pitchtorquemin:\n",
    "        pitchtorquemin=pitchtempmin    \n",
    "        \n",
    "    if pitchtempmax>pitchtorquemax:\n",
    "        pitchtorquemax=pitchtempmax   \n",
    "   \n",
    " \n",
    "    \n",
    "print(\"xforcemin=\",xforcemin,\"xforcemax=\",xforcemax)\n",
    "print(\"yforcemin=\",yforcemin,\"yforcemax=\",yforcemax)\n",
    "print(\"zforcemin=\",zforcemin,\"zforcemax=\",zforcemax)\n",
    "print(\"rolltorquemin=\",rolltorquemin,\"rolltorquemax=\",rolltorquemax)\n",
    "print(\"pitchtorquemin=\",pitchtorquemin,\"pitchtorquemax=\",pitchtorquemax)\n",
    "\n",
    "\n",
    "\n",
    "\n"
   ]
  },
  {
   "cell_type": "code",
   "execution_count": 26,
   "metadata": {},
   "outputs": [
    {
     "name": "stdout",
     "output_type": "stream",
     "text": [
      "[-2.13580609 -1.62501489 -1.96292695 -2.27435977 -1.71444458 -1.08568324\n",
      " -2.08955734 -2.46441344 -1.71952682 -2.25193258 -2.16704046 -1.10043617\n",
      " -1.7972183  -1.70087116  1.07284313  3.85918658  1.61955377 11.21871584\n",
      "  8.48336554  6.77072468 -3.60504638 -4.06777907 -3.83631587 -3.35808455\n",
      " -3.79535659 -0.7046921  -3.40109483 -0.37376795 -3.35653875 -3.38036297]\n",
      "xforcearray []\n",
      "(0,)\n",
      "[-2.13580609 -1.62501489 -1.96292695 -2.27435977 -1.71444458 -1.08568324\n",
      " -2.08955734 -2.46441344 -1.71952682 -2.25193258 -2.16704046 -1.10043617\n",
      " -1.7972183  -1.70087116  1.07284313  3.85918658  1.61955377 11.21871584\n",
      "  8.48336554  6.77072468 -3.60504638 -4.06777907 -3.83631587 -3.35808455\n",
      " -3.79535659 -0.7046921  -3.40109483 -0.37376795 -3.35653875 -3.38036297]\n",
      "(30,)\n"
     ]
    }
   ],
   "source": [
    "originaldataframe=pd.read_csv('forcetorquebuttonresults_unnormalized_10_04_2021.csv')#.head()\n",
    "#Create quantile transformers\n",
    "\n",
    "xforcearray=np.array([])\n",
    "#print(xforcearray)\n",
    "\n",
    "temparray=pd.DataFrame(originaldataframe.iloc[0]).to_numpy()\n",
    "temparray=temparray.T.flatten()\n",
    "#print(temparray)\n",
    "#print(temparray)\n",
    "\n",
    "#print(temparray[0])\n",
    "#xforcearray=temparray\n",
    "\n",
    "print(temparray)\n",
    "print(\"xforcearray\",xforcearray)\n",
    "print(xforcearray.shape)\n",
    "\n",
    "xforcearray=np.append(xforcearray,temparray)\n",
    "print(xforcearray)\n",
    "print(xforcearray.shape)"
   ]
  },
  {
   "cell_type": "code",
   "execution_count": 33,
   "metadata": {},
   "outputs": [
    {
     "name": "stdout",
     "output_type": "stream",
     "text": [
      "(23820,)\n",
      "(23820,)\n",
      "(23820,)\n",
      "(23820,)\n",
      "(23820,)\n",
      "[-2.13580609 -1.62501489 -1.96292695 -2.27435977 -1.71444458 -1.08568324\n",
      " -2.08955734 -2.46441344 -1.71952682 -2.25193258]\n"
     ]
    }
   ],
   "source": [
    "originaldataframe=pd.read_csv('forcetorquebuttonresults_unnormalized_10_04_2021.csv')#.head()\n",
    "\n",
    "xforcearray=np.array([])\n",
    "yforcearray=np.array([])\n",
    "zforcearray=np.array([])\n",
    "rolltorquearray=np.array([])\n",
    "pitchtorquearray=np.array([])\n",
    "\n",
    "\n",
    "\n",
    "for i in range(0,4764,6):\n",
    "    \n",
    "    x_temparray=pd.DataFrame(originaldataframe.iloc[i]).to_numpy()\n",
    "    y_temparray=pd.DataFrame(originaldataframe.iloc[i+1]).to_numpy()\n",
    "    z_temparray=pd.DataFrame(originaldataframe.iloc[i+2]).to_numpy()\n",
    "    roll_temparray=pd.DataFrame(originaldataframe.iloc[i+3]).to_numpy()\n",
    "    pitch_temparray=pd.DataFrame(originaldataframe.iloc[i+4]).to_numpy()\n",
    "    \n",
    "    xforcearray=np.append(xforcearray,x_temparray.T.flatten())\n",
    "    yforcearray=np.append(yforcearray,y_temparray.T.flatten())\n",
    "    zforcearray=np.append(zforcearray,z_temparray.T.flatten())\n",
    "    rolltorquearray=np.append(rolltorquearray,roll_temparray.T.flatten())\n",
    "    pitchtorquearray=np.append(pitchtorquearray,pitch_temparray.T.flatten())\n",
    "\n",
    "print(xforcearray.shape)\n",
    "print(yforcearray.shape)\n",
    "print(zforcearray.shape)\n",
    "print(rolltorquearray.shape)\n",
    "print(pitchtorquearray.shape)\n",
    "print(xforcearray[0:10])"
   ]
  },
  {
   "cell_type": "markdown",
   "metadata": {},
   "source": [
    "## Fit transformers"
   ]
  },
  {
   "cell_type": "code",
   "execution_count": 34,
   "metadata": {},
   "outputs": [
    {
     "name": "stdout",
     "output_type": "stream",
     "text": [
      "fit complete\n"
     ]
    }
   ],
   "source": [
    "#https://scikit-learn.org/stable/auto_examples/preprocessing/plot_all_scaling.html#results\n",
    "\n",
    "xforcearray=np.sort(xforcearray)\n",
    "#xforcearray_transformer = QuantileTransformer(n_quantiles=4, random_state=0)\n",
    "xforcearray_transformer =MinMaxScaler()\n",
    "xforcearray=xforcearray.reshape(-1, 1)\n",
    "xforcearray_transformer.fit(xforcearray)\n",
    "x_transformed=xforcearray_transformer.transform(xforcearray)\n",
    "\n",
    "yforcearray=np.sort(yforcearray)\n",
    "#xforcearray_transformer = QuantileTransformer(n_quantiles=4, random_state=0)\n",
    "yforcearray_transformer =MinMaxScaler()\n",
    "yforcearray=yforcearray.reshape(-1, 1)\n",
    "yforcearray_transformer.fit(yforcearray)\n",
    "y_transformed=yforcearray_transformer.transform(yforcearray)\n",
    "\n",
    "zforcearray=np.sort(zforcearray)\n",
    "#xforcearray_transformer = QuantileTransformer(n_quantiles=4, random_state=0)\n",
    "zforcearray_transformer =MinMaxScaler()\n",
    "zforcearray=zforcearray.reshape(-1, 1)\n",
    "zforcearray_transformer.fit(zforcearray)\n",
    "z_transformed=zforcearray_transformer.transform(zforcearray)\n",
    "\n",
    "rolltorquearray=np.sort(rolltorquearray)\n",
    "#xforcearray_transformer = QuantileTransformer(n_quantiles=4, random_state=0)\n",
    "rolltorquearray_transformer =MinMaxScaler()\n",
    "rolltorquearray=rolltorquearray.reshape(-1, 1)\n",
    "rolltorquearray_transformer.fit(rolltorquearray)\n",
    "roll_transformed=rolltorquearray_transformer.transform(rolltorquearray)\n",
    "\n",
    "pitchtorquearray=np.sort(pitchtorquearray)\n",
    "#pitchtorquearray_transformer= QuantileTransformer(n_quantiles=4, random_state=0)\n",
    "pitchtorquearray_transformer =MinMaxScaler()\n",
    "pitchtorquearray=pitchtorquearray.reshape(-1, 1)\n",
    "pitchtorquearray_transformer.fit(pitchtorquearray)\n",
    "pitch_transformed=pitchtorquearray_transformer.transform(pitchtorquearray)\n",
    "\n",
    "print(\"fit complete\")"
   ]
  },
  {
   "cell_type": "code",
   "execution_count": 35,
   "metadata": {},
   "outputs": [
    {
     "data": {
      "image/png": "[encoded data removed]",
      "text/plain": [
       "<Figure size 1440x720 with 6 Axes>"
      ]
     },
     "metadata": {
      "needs_background": "light"
     },
     "output_type": "display_data"
    },
    {
     "data": {
      "image/png": "[encoded data removed]",
      "text/plain": [
       "<Figure size 432x288 with 1 Axes>"
      ]
     },
     "metadata": {
      "needs_background": "light"
     },
     "output_type": "display_data"
    }
   ],
   "source": [
    "fig = plt.figure(figsize=(20, 10)) #figsize=(25, 80)\n",
    "ax1 = plt.subplot(2, 3, 1)\n",
    "ax1.plot(xforcearray)\n",
    "plt.title(\"Force:X\")\n",
    "ax2 = plt.subplot(2, 3, 2)\n",
    "ax2.plot(yforcearray)\n",
    "plt.title(\"Force:Y\")\n",
    "ax3 = plt.subplot(2, 3, 3)\n",
    "ax3.plot(zforcearray)\n",
    "plt.title(\"Force:Z\")\n",
    "ax4 = plt.subplot(2, 3, 4)\n",
    "ax4.plot(rolltorquearray)\n",
    "plt.title(\"Torque:Roll\")\n",
    "ax5 = plt.subplot(2, 3, 5)\n",
    "ax5.plot(pitchtorquearray)\n",
    "plt.title(\"Torque:Pitch\")\n",
    "ax6 = plt.subplot(2, 3, 6)    \n",
    "ax6.plot(x_transformed, label=\"Force:X\")\n",
    "ax6.plot(y_transformed, label=\"Force:Y\")\n",
    "ax6.plot(z_transformed, label=\"Force:Z\")\n",
    "ax6.plot(roll_transformed, label=\"Torque:Roll\")\n",
    "ax6.plot(pitch_transformed, label=\"Torque:Pitch\")\n",
    "handles, labels = ax6.get_legend_handles_labels()\n",
    "ax6.legend(handles, labels,loc='lower right')\n",
    "\n",
    "plt.title(\"All plots, Transformed to betwen 0 and 1\")\n",
    "plt.show()\n",
    "\n",
    "\n",
    "plt.plot(x_transformed, label=\"Force:X\")\n",
    "plt.title(\"Force:X\")\n",
    "plt.show()"
   ]
  },
  {
   "cell_type": "markdown",
   "metadata": {},
   "source": [
    "## Generate normalized data according to transformers. "
   ]
  },
  {
   "cell_type": "code",
   "execution_count": 44,
   "metadata": {},
   "outputs": [
    {
     "name": "stdout",
     "output_type": "stream",
     "text": [
      "(4764, 30)\n",
      "794.0\n",
      "795\n"
     ]
    }
   ],
   "source": [
    "\n",
    "print(originaldataframe.shape)\n",
    "print(originaldataframe.shape[0]/6)  #795 total episodes. Galues go from 0 to 794\n",
    "print(int((originaldataframe.shape[0]/6)+1))"
   ]
  },
  {
   "cell_type": "code",
   "execution_count": 45,
   "metadata": {},
   "outputs": [
    {
     "name": "stdout",
     "output_type": "stream",
     "text": [
      "data output to file complete\n"
     ]
    }
   ],
   "source": [
    "originaldataframe=pd.read_csv('forcetorquebuttonresults_unnormalized_10_04_2021.csv')#.head()\n",
    "\n",
    "transformeddataframe=originaldataframe\n",
    "headers=[]\n",
    "for i in range(30):\n",
    "    label=str(i)\n",
    "    headers.append(\"header\"+label)\n",
    "\n",
    "#for i in range(0,575,6):\n",
    "for i in range(0,int((originaldataframe.shape[0]/6)+1),6):\n",
    "   # transformeddataframe.iloc[i]=xforcearray_transformer.transform(originaldataframe.iloc[i])\n",
    "   \n",
    "    x_temparray=pd.DataFrame(originaldataframe.iloc[i]).to_numpy()\n",
    "    #print(x_temparray)\n",
    "    x_temparray=x_temparray.T\n",
    "    #print(x_temparray)\n",
    "    x_temparraytransformed=xforcearray_transformer.transform(x_temparray)\n",
    "    #print(\"x_temparraytransformed\",x_temparraytransformed[0])\n",
    "    transformeddataframe.iloc[i]= x_temparraytransformed[0]\n",
    "    #print(transformeddataframe.iloc[i])\n",
    "    \n",
    "    y_temparray=pd.DataFrame(originaldataframe.iloc[i+1]).to_numpy()\n",
    "    y_temparray=y_temparray.T\n",
    "    y_temparraytransformed=yforcearray_transformer.transform(y_temparray)\n",
    "    transformeddataframe.iloc[i+1]= y_temparraytransformed[0]\n",
    "    \n",
    "    z_temparray=pd.DataFrame(originaldataframe.iloc[i+2]).to_numpy()\n",
    "    z_temparray=z_temparray.T\n",
    "    z_temparraytransformed=zforcearray_transformer.transform(z_temparray)\n",
    "    transformeddataframe.iloc[i+2]= z_temparraytransformed[0]\n",
    "    \n",
    "    roll_temparray=pd.DataFrame(originaldataframe.iloc[i+3]).to_numpy()\n",
    "    roll_temparray=roll_temparray.T\n",
    "    roll_temparraytransformed=rolltorquearray_transformer.transform(roll_temparray)\n",
    "    transformeddataframe.iloc[i+3]= roll_temparraytransformed[0]\n",
    "    \n",
    "    pitch_temparray=pd.DataFrame(originaldataframe.iloc[i+4]).to_numpy()\n",
    "    pitch_temparray=pitch_temparray.T\n",
    "    pitch_temparraytransformed=pitchtorquearray_transformer.transform(pitch_temparray)\n",
    "    transformeddataframe.iloc[i+4]= pitch_temparraytransformed[0]\n",
    "    \n",
    "#uncomment below to update file\n",
    "transformeddataframe.to_csv('forcetorquebuttonresults_renormalized_10_04_2021.csv', index=False)  \n",
    "print(\"data output to file complete\") "
   ]
  },
  {
   "cell_type": "markdown",
   "metadata": {},
   "source": [
    "## Cutting data to final 10 timesteps of every episode"
   ]
  },
  {
   "cell_type": "code",
   "execution_count": 3,
   "metadata": {},
   "outputs": [
    {
     "name": "stdout",
     "output_type": "stream",
     "text": [
      "Empty DataFrame\n",
      "Columns: [header0, header1, header2, header3, header4, header5, header6, header7, header8, header9]\n",
      "Index: []\n"
     ]
    }
   ],
   "source": [
    "\n",
    "choppedheaders=[]\n",
    "for i in range(10):\n",
    "    label=str(i)\n",
    "    choppedheaders.append(\"header\"+label)\n",
    "\n",
    "headers=[]\n",
    "for i in range(30):\n",
    "    label=str(i)\n",
    "    headers.append(\"header\"+label)\n",
    "    \n",
    "normalizeddata=pd.read_csv('forcetorquebuttonresults_renormalized_10_04_2021.csv')#.head()\n",
    "choppeddata= pd.DataFrame(columns=choppedheaders)\n",
    "print(choppeddata)\n"
   ]
  },
  {
   "cell_type": "code",
   "execution_count": 48,
   "metadata": {},
   "outputs": [
    {
     "name": "stdout",
     "output_type": "stream",
     "text": [
      "[0.9320387053945564, 0.9282097718417166, 0.9289430937458234, 0.927668759320267, 0.9288175326242226, 0.9316630441428084, 0.9303023581597668, 0.9301425574393516, 0.928305892304143, 0.9277495585457108]\n",
      "    header0  header1   header2   header3   header4   header5   header6  \\\n",
      "0  0.932039  0.92821  0.928943  0.927669  0.928818  0.931663  0.930302   \n",
      "1  0.932039  0.92821  0.928943  0.927669  0.928818  0.931663  0.930302   \n",
      "\n",
      "    header7   header8  header9  \n",
      "0  0.930143  0.928306  0.92775  \n",
      "1  0.930143  0.928306  0.92775  \n"
     ]
    }
   ],
   "source": [
    "h=11\n",
    "i=570\n",
    "\n",
    "choppedheaders=[]\n",
    "for i in range(10):\n",
    "    label=str(i)\n",
    "    choppedheaders.append(\"header\"+label)\n",
    "    \n",
    "    \n",
    "a=normalizeddata[headers[(h-9):h+1]].iloc[i+5]\n",
    "a=a.tolist()\n",
    "print(a)\n",
    "\n",
    "df = pd.DataFrame(columns=choppedheaders)\n",
    "#print(\"choppedheaders\",choppedheaders)\n",
    "#print(choppedheaders.type())\n",
    "df.loc[len(df)]=a\n",
    "df.loc[len(df)]=a\n",
    "print(df)\n",
    "  \n",
    "# append rows to an empty DataFrame\n",
    "#df = df.append({'Name' : 'Ankit', 'Articles' : 97, 'Improved' : 2200}, \n",
    "#                ignore_index = True)"
   ]
  },
  {
   "cell_type": "code",
   "execution_count": 51,
   "metadata": {},
   "outputs": [
    {
     "data": {
      "text/plain": [
       "4765"
      ]
     },
     "execution_count": 51,
     "metadata": {},
     "output_type": "execute_result"
    }
   ],
   "source": [
    "int((normalizeddata.shape[0])+1)"
   ]
  },
  {
   "cell_type": "code",
   "execution_count": 53,
   "metadata": {},
   "outputs": [
    {
     "name": "stdout",
     "output_type": "stream",
     "text": [
      "data output to file complete\n"
     ]
    }
   ],
   "source": [
    "\n",
    "choppedheaders=[]\n",
    "lookback=10 #save only the last 11 timesteps\n",
    "for i in range(lookback):  \n",
    "    label=str(i)\n",
    "    choppedheaders.append(\"header\"+label)\n",
    "\n",
    "choppeddata = pd.DataFrame(columns=choppedheaders)\n",
    "\n",
    "\n",
    "for i in range(0,int((normalizeddata.shape[0])-1),6):\n",
    "    #print(\"\")\n",
    "    for h in range(len(headers)):\n",
    "        successflag=False\n",
    "        if normalizeddata[headers[h]].iloc[i+5]==1:\n",
    "            tempdata0=(normalizeddata[headers[(h-(lookback-1)):h+1]].iloc[i]).tolist()\n",
    "            tempdata1=(normalizeddata[headers[(h-(lookback-1)):h+1]].iloc[i+1]).tolist()\n",
    "            tempdata2=(normalizeddata[headers[(h-(lookback-1)):h+1]].iloc[i+2]).tolist()\n",
    "            tempdata3=(normalizeddata[headers[(h-(lookback-1)):h+1]].iloc[i+3]).tolist()\n",
    "            tempdata4=(normalizeddata[headers[(h-(lookback-1)):h+1]].iloc[i+4]).tolist()\n",
    "            tempdata5=(normalizeddata[headers[(h-(lookback-1)):h+1]].iloc[i+5]).tolist()\n",
    "            \n",
    "            #tempdata=tempdata.tolist()\n",
    "            choppeddata.loc[len(choppeddata)]=tempdata0 #add list of data to new row in dataframe\n",
    "            choppeddata.loc[len(choppeddata)]=tempdata1 \n",
    "            choppeddata.loc[len(choppeddata)]=tempdata2 \n",
    "            choppeddata.loc[len(choppeddata)]=tempdata3 \n",
    "            choppeddata.loc[len(choppeddata)]=tempdata4 \n",
    "            choppeddata.loc[len(choppeddata)]=tempdata5 \n",
    "            successflag=True\n",
    "            break\n",
    "          \n",
    "    if successflag==False:\n",
    "        # if run was not successful, grab the last 11 timesteps from the run. I may need to sample more?\n",
    "        tempdata0=(normalizeddata[headers[(len(headers)-(lookback)):(len(headers))]].iloc[i]).tolist()\n",
    "        tempdata1=(normalizeddata[headers[(len(headers)-(lookback)):(len(headers))]].iloc[i+1]).tolist()\n",
    "        tempdata2=(normalizeddata[headers[(len(headers)-(lookback)):(len(headers))]].iloc[i+2]).tolist()\n",
    "        tempdata3=(normalizeddata[headers[(len(headers)-(lookback)):(len(headers))]].iloc[i+3]).tolist()\n",
    "        tempdata4=(normalizeddata[headers[(len(headers)-(lookback)):(len(headers))]].iloc[i+4]).tolist()\n",
    "        tempdata5=(normalizeddata[headers[(len(headers)-(lookback)):(len(headers))]].iloc[i+5]).tolist()\n",
    "        choppeddata.loc[len(choppeddata)]=tempdata0 #add list of data to new row in dataframe\n",
    "        choppeddata.loc[len(choppeddata)]=tempdata1 \n",
    "        choppeddata.loc[len(choppeddata)]=tempdata2 \n",
    "        choppeddata.loc[len(choppeddata)]=tempdata3 \n",
    "        choppeddata.loc[len(choppeddata)]=tempdata4 \n",
    "        choppeddata.loc[len(choppeddata)]=tempdata5 \n",
    "\n",
    "            \n",
    "            \n",
    "            #print(\"col:\",headers[(h-11):h],\"row:\", i+5)\n",
    "            #print(\"values:\",normalizeddata[headers[(h-11):h+1]].iloc[i+5])\n",
    "            \n",
    "            \n",
    "            \n",
    "            \n",
    "choppeddata.to_csv('choppeddata_10_04_2021.csv', index=False)  \n",
    "print(\"data output to file complete\")          "
   ]
  },
  {
   "cell_type": "markdown",
   "metadata": {},
   "source": [
    "## Output data set with equal quantities of successful and failed runs."
   ]
  },
  {
   "cell_type": "code",
   "execution_count": 7,
   "metadata": {},
   "outputs": [
    {
     "name": "stdout",
     "output_type": "stream",
     "text": [
      "(4764, 30)\n",
      "794.0\n"
     ]
    }
   ],
   "source": [
    "print(normalizeddata.shape)\n",
    "print(normalizeddata.shape[0]/6)"
   ]
  },
  {
   "cell_type": "code",
   "execution_count": 10,
   "metadata": {},
   "outputs": [
    {
     "name": "stdout",
     "output_type": "stream",
     "text": [
      "successcounter 1\n",
      "successcounter 2\n",
      "successcounter 3\n",
      "successcounter 4\n",
      "successcounter 5\n",
      "successcounter 6\n",
      "successcounter 7\n",
      "successcounter 8\n",
      "successcounter 9\n",
      "successcounter 10\n",
      "successcounter 11\n",
      "successcounter 12\n",
      "successcounter 13\n",
      "successcounter 14\n",
      "successcounter 15\n",
      "successcounter 16\n",
      "successcounter 17\n",
      "successcounter 18\n",
      "successcounter 19\n",
      "successcounter 20\n",
      "successcounter 21\n",
      "successcounter 22\n",
      "successcounter 23\n",
      "successcounter 24\n",
      "successcounter 25\n",
      "successcounter 26\n",
      "successcounter 27\n",
      "successcounter 28\n",
      "successcounter 29\n",
      "successcounter 30\n",
      "successcounter 31\n",
      "successcounter 32\n",
      "successcounter 33\n",
      "successcounter 34\n",
      "successcounter 35\n",
      "successcounter 36\n",
      "successcounter 37\n",
      "successcounter 38\n",
      "successcounter 39\n",
      "successcounter 40\n",
      "successcounter 41\n",
      "successcounter 42\n",
      "successcounter 43\n",
      "successcounter 44\n",
      "successcounter 45\n",
      "successcounter 46\n",
      "successcounter 47\n",
      "successcounter 48\n",
      "successcounter 49\n",
      "successcounter 50\n",
      "successcounter 51\n",
      "successcounter 52\n",
      "successcounter 53\n",
      "successcounter 54\n",
      "successcounter 55\n",
      "successcounter 56\n",
      "successcounter 57\n",
      "successcounter 58\n",
      "successcounter 59\n",
      "successcounter 60\n",
      "successcounter 61\n",
      "successcounter 62\n",
      "successcounter 63\n",
      "successcounter 64\n",
      "successcounter 65\n",
      "successcounter 66\n",
      "successcounter 67\n",
      "successcounter 68\n",
      "successcounter 69\n",
      "successcounter 70\n",
      "successcounter 71\n",
      "successcounter 72\n",
      "successcounter 73\n",
      "successcounter 74\n",
      "successcounter 75\n",
      "successcounter 76\n",
      "successcounter 77\n",
      "successcounter 78\n",
      "successcounter 79\n",
      "successcounter 80\n",
      "successcounter 81\n",
      "successcounter 82\n",
      "successcounter 83\n",
      "successcounter 84\n",
      "successcounter 85\n",
      "successcounter 86\n",
      "successcounter 87\n",
      "successcounter 88\n",
      "successcounter 89\n",
      "successcounter 90\n",
      "successcounter 91\n",
      "successcounter 92\n",
      "successcounter 93\n",
      "successcounter 94\n",
      "successcounter 95\n",
      "successcounter 96\n",
      "successcounter 97\n",
      "successcounter 98\n",
      "successcounter 99\n",
      "successcounter 100\n",
      "successcounter 101\n",
      "successcounter 102\n",
      "successcounter 103\n",
      "successcounter 104\n",
      "successcounter 105\n",
      "successcounter 106\n",
      "successcounter 107\n",
      "successcounter 108\n",
      "successcounter 109\n",
      "successcounter 110\n",
      "successcounter 111\n",
      "successcounter 112\n",
      "successcounter 113\n",
      "successcounter 114\n",
      "successcounter 115\n",
      "successcounter 116\n",
      "successcounter 117\n",
      "successcounter 118\n",
      "successcounter 119\n",
      "successcounter 120\n",
      "data output to file complete\n"
     ]
    }
   ],
   "source": [
    "headers=[]\n",
    "for i in range(30):\n",
    "    label=str(i)\n",
    "    headers.append(\"header\"+label)\n",
    "    \n",
    "choppedheaders=[]\n",
    "for i in range(10):\n",
    "    label=str(i)\n",
    "    choppedheaders.append(\"header\"+label)\n",
    "    \n",
    "normalizeddata=pd.read_csv('forcetorquebuttonresults_renormalized_10_04_2021.csv')#.head()\n",
    "\n",
    "choppeddata = pd.DataFrame(columns=choppedheaders)\n",
    "failcounter=0\n",
    "successcounter=0\n",
    "lookback=10\n",
    "\n",
    "for i in range(0,int((normalizeddata.shape[0])-1),6):\n",
    "    #print(\"\")\n",
    "    for h in range(len(headers)):\n",
    "        successflag=False\n",
    "        if normalizeddata[headers[h]].iloc[i+5]==1 and successcounter<120:\n",
    "            tempdata0=(normalizeddata[headers[(h-(lookback-1)):h+1]].iloc[i]).tolist()\n",
    "            tempdata1=(normalizeddata[headers[(h-(lookback-1)):h+1]].iloc[i+1]).tolist()\n",
    "            tempdata2=(normalizeddata[headers[(h-(lookback-1)):h+1]].iloc[i+2]).tolist()\n",
    "            tempdata3=(normalizeddata[headers[(h-(lookback-1)):h+1]].iloc[i+3]).tolist()\n",
    "            tempdata4=(normalizeddata[headers[(h-(lookback-1)):h+1]].iloc[i+4]).tolist()\n",
    "            tempdata5=(normalizeddata[headers[(h-(lookback-1)):h+1]].iloc[i+5]).tolist()\n",
    "            \n",
    "            #tempdata=tempdata.tolist()\n",
    "            choppeddata.loc[len(choppeddata)]=tempdata0 #add list of data to new row in dataframe\n",
    "            choppeddata.loc[len(choppeddata)]=tempdata1 \n",
    "            choppeddata.loc[len(choppeddata)]=tempdata2 \n",
    "            choppeddata.loc[len(choppeddata)]=tempdata3 \n",
    "            choppeddata.loc[len(choppeddata)]=tempdata4 \n",
    "            choppeddata.loc[len(choppeddata)]=tempdata5 \n",
    "            successflag=True\n",
    "            successcounter+=1\n",
    "            print(\"successcounter\",successcounter)\n",
    "            break\n",
    "        elif normalizeddata[headers[h]].iloc[i+5]==1:\n",
    "            successflag=True\n",
    "            break\n",
    "    if successflag==False:\n",
    "        # if run was not successful, grab the last 11 timesteps from the run. I may need to sample more?\n",
    "        tempdata0=(normalizeddata[headers[(len(headers)-(lookback)):(len(headers))]].iloc[i]).tolist()\n",
    "        tempdata1=(normalizeddata[headers[(len(headers)-(lookback)):(len(headers))]].iloc[i+1]).tolist()\n",
    "        tempdata2=(normalizeddata[headers[(len(headers)-(lookback)):(len(headers))]].iloc[i+2]).tolist()\n",
    "        tempdata3=(normalizeddata[headers[(len(headers)-(lookback)):(len(headers))]].iloc[i+3]).tolist()\n",
    "        tempdata4=(normalizeddata[headers[(len(headers)-(lookback)):(len(headers))]].iloc[i+4]).tolist()\n",
    "        tempdata5=(normalizeddata[headers[(len(headers)-(lookback)):(len(headers))]].iloc[i+5]).tolist()\n",
    "        choppeddata.loc[len(choppeddata)]=tempdata0 #add list of data to new row in dataframe\n",
    "        choppeddata.loc[len(choppeddata)]=tempdata1 \n",
    "        choppeddata.loc[len(choppeddata)]=tempdata2 \n",
    "        choppeddata.loc[len(choppeddata)]=tempdata3 \n",
    "        choppeddata.loc[len(choppeddata)]=tempdata4 \n",
    "        choppeddata.loc[len(choppeddata)]=tempdata5 \n",
    "\n",
    "            \n",
    "            \n",
    "            #print(\"col:\",headers[(h-11):h],\"row:\", i+5)\n",
    "            #print(\"values:\",normalizeddata[headers[(h-11):h+1]].iloc[i+5])\n",
    "            \n",
    "            \n",
    "            \n",
    "            \n",
    "choppeddata.to_csv('choppeddata_10_04_2021_equalsuccessfail.csv', index=False)  \n",
    "print(\"data output to file complete\")          "
   ]
  },
  {
   "cell_type": "code",
   "execution_count": 11,
   "metadata": {},
   "outputs": [
    {
     "name": "stdout",
     "output_type": "stream",
     "text": [
      "(1440, 10)\n"
     ]
    }
   ],
   "source": [
    "equaldata=pd.read_csv('choppeddata_10_04_2021_equalsuccessfail.csv')#.head()\n",
    "print(equaldata.shape)"
   ]
  },
  {
   "cell_type": "code",
   "execution_count": 12,
   "metadata": {},
   "outputs": [
    {
     "name": "stdout",
     "output_type": "stream",
     "text": [
      "240.0\n"
     ]
    }
   ],
   "source": [
    "print(equaldata.shape[0]/6)"
   ]
  },
  {
   "cell_type": "code",
   "execution_count": 8,
   "metadata": {},
   "outputs": [
    {
     "data": {
      "text/plain": [
       "(4764, 10)"
      ]
     },
     "execution_count": 8,
     "metadata": {},
     "output_type": "execute_result"
    }
   ],
   "source": [
    "choppeddata.shape"
   ]
  },
  {
   "cell_type": "code",
   "execution_count": null,
   "metadata": {},
   "outputs": [],
   "source": []
  }
 ],
 "metadata": {
  "kernelspec": {
   "display_name": "Python 3 (ipykernel)",
   "language": "python",
   "name": "python3"
  },
  "language_info": {
   "codemirror_mode": {
    "name": "ipython",
    "version": 3
   },
   "file_extension": ".py",
   "mimetype": "text/x-python",
   "name": "python",
   "nbconvert_exporter": "python",
   "pygments_lexer": "ipython3",
   "version": "3.7.11"
  }
 },
 "nbformat": 4,
 "nbformat_minor": 4
}
