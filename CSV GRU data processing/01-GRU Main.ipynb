{
 "cells": [
  {
   "cell_type": "markdown",
   "metadata": {},
   "source": [
    "In this notebook, we'll be using a GRU model for a time series prediction task and we will compare the performance of the GRU model against an LSTM model as well. The dataset that we will be using is the Hourly Energy Consumption dataset which can be found on [Kaggle](https://www.kaggle.com/robikscube/hourly-energy-consumption). The dataset contains power consumption data across different regions around the United States recorded on an hourly basis.\n",
    "\n",
    "You can run the code implementation in this article on FloydHub using their GPUs on the cloud by clicking the following link and using the main.ipynb notebook.\n",
    "\n",
    "[![Run on FloydHub](https://static.floydhub.com/button/button-small.svg)](https://floydhub.com/run?template=https://github.com/gabrielloye/https://github.com/gabrielloye/GRU_Prediction)\n",
    "\n",
    "This will speed up the training process significantly. Alternatively, the link to the GitHub repository can be found [here]().\n",
    "\n",
    "The goal of this implementation is to create a model that can accurately predict the energy usage in the next hour given historical usage data. We will be using both the GRU and LSTM model to train on a set of historical data and evaluate both models on an unseen test set. To do so, we’ll start with feature selection, data-preprocessing, followed by defining, training and eventually evaluating the models.\n",
    "\n",
    "We will be using the PyTorch library to implement both types of models along with other common Python libraries used in data analytics."
   ]
  },
  {
   "cell_type": "code",
   "execution_count": 2,
   "metadata": {},
   "outputs": [],
   "source": [
    "#https://www.python-engineer.com/posts/pytorch-rnn-lstm-gru/\n",
    "\n",
    "#https://blog.floydhub.com/gru-with-pytorch/\n",
    "\n",
    "import os\n",
    "import time\n",
    "import csv\n",
    "import numpy as np\n",
    "import pandas as pd\n",
    "import matplotlib.pyplot as plt\n",
    "\n",
    "import random\n",
    "from datetime import datetime\n",
    "\n",
    "import torch\n",
    "import torch.nn as nn\n",
    "from torch.utils.data import TensorDataset, DataLoader\n",
    "import torch.nn.functional as F\n",
    "import torch.optim as optim\n",
    "\n",
    "from tqdm import tqdm_notebook\n",
    "from sklearn.preprocessing import MinMaxScaler,QuantileTransformer\n",
    "from sklearn.model_selection import train_test_split\n",
    "\n",
    "\n",
    "\n",
    "\n",
    "\n",
    "\n",
    "### Local ###\n",
    "#from data_processing import *\n",
    "\n",
    "\n",
    "\n",
    "# Define data root directory\n",
    "\n",
    "#data_dir = \"./data/\"\n",
    "#print(os.listdir(data_dir))"
   ]
  },
  {
   "cell_type": "markdown",
   "metadata": {},
   "source": [
    "We have a total of **12** *.csv* files containing hourly energy trend data (*'est_hourly.paruqet'* and *'pjm_hourly_est.csv'* are not used). In our next step, we will be reading these files and pre-processing these data in this order:\n",
    "- Getting the time data of each individual time step and generalizing them\n",
    "    - Hour of the day *i.e. 0-23*\n",
    "    - Day of the week *i.e. 1-7*\n",
    "    - Month *i.e. 1-12*\n",
    "    - Day of the year *i.e. 1-365*\n",
    "    \n",
    "    \n",
    "- Scale the data to values between 0 and 1\n",
    "    - Algorithms tend to perform better or converge faster when features are on a relatively similar scale and/or close to normally distributed\n",
    "    - Scaling preserves the shape of the original distribution and doesn't reduce the importance of outliers.\n",
    "    \n",
    "    \n",
    "- Group the data into sequences to be used as inputs to the model and store their corresponding labels\n",
    "    - The **sequence length** or **lookback period** is the number of data points in history that the model will use to make the prediction\n",
    "    - The label will be the next data point in time after the last one in the input sequence\n",
    "    \n",
    "\n",
    "- The inputs and labels will then be split into training and test sets"
   ]
  },
  {
   "cell_type": "code",
   "execution_count": 3,
   "metadata": {},
   "outputs": [
    {
     "name": "stdout",
     "output_type": "stream",
     "text": [
      "[0. 0. 1. 0. 0. 0. 0. 0. 1. 0. 0. 0. 0. 1. 0. 1. 0. 0. 1. 1. 0. 1. 1. 1.\n",
      " 1. 1. 1. 1. 1. 1. 1. 1. 0. 1. 0. 0. 0. 1. 0. 0. 0. 1. 1. 1. 1. 1. 0. 0.\n",
      " 1. 1. 0. 0. 0. 0. 1. 0. 1. 1. 1. 0. 1. 1. 1. 1. 1. 1. 1. 1. 1. 1. 1. 1.\n",
      " 1. 1. 1. 0. 1. 1. 0. 0. 1. 0. 1. 1. 0. 1. 1. 1. 1. 1. 1. 1. 1. 1. 1. 1.]\n"
     ]
    }
   ],
   "source": [
    "choppeddata=pd.read_csv('choppeddata_9_21_2021.csv')#.head()\n",
    "\n",
    "choppedheaders=[]\n",
    "lookback=11 #save only the last 11 timesteps\n",
    "for i in range(lookback):  \n",
    "    label=str(i)\n",
    "    choppedheaders.append(\"header\"+label)\n",
    "\n",
    "#put chopped data in np.arrays\n",
    "State=np.zeros((96,5,11)) #96 runs,with 5 sets of data (x,y,z,roll,pitch) each, and each run is 11 timesteps long\n",
    "Labels=np.zeros((96,11)) #96 runs, each run is 11 timesteps long\n",
    "runcounter=0\n",
    "\n",
    "for i in range(0,575,6):\n",
    "            State[runcounter][0][:]=(choppeddata[choppedheaders[:]].iloc[i]).tolist()\n",
    "            State[runcounter][1][:]=(choppeddata[choppedheaders[:]].iloc[i+1]).tolist()\n",
    "            State[runcounter][2][:]=(choppeddata[choppedheaders[:]].iloc[i+2]).tolist()\n",
    "            State[runcounter][3][:]=(choppeddata[choppedheaders[:]].iloc[i+3]).tolist()\n",
    "            State[runcounter][4][:]=(choppeddata[choppedheaders[:]].iloc[i+4]).tolist()\n",
    "            Labels[runcounter][:]=(choppeddata[choppedheaders[:]].iloc[i+5]).tolist()  #labels   \n",
    "            runcounter+=1\n",
    "#print(State[0])\n",
    "#print(Labels)\n",
    "print(Labels[:,10]) #just getting finals labels"
   ]
  },
  {
   "cell_type": "code",
   "execution_count": 4,
   "metadata": {},
   "outputs": [
    {
     "name": "stdout",
     "output_type": "stream",
     "text": [
      "[[ 0  1  2]\n",
      " [ 3  4  5]\n",
      " [ 6  7  8]\n",
      " [ 9 10 11]]\n",
      "(4, 3)\n",
      "[ 2  5  8 11]\n"
     ]
    }
   ],
   "source": [
    "j = np.array([[ 0,  1,  2],\n",
    "              [ 3,  4,  5],\n",
    "              [ 6,  7,  8],\n",
    "              [ 9, 10, 11]])\n",
    "print(j)\n",
    "print(j.shape)\n",
    "print(j[:,2])"
   ]
  },
  {
   "cell_type": "code",
   "execution_count": 5,
   "metadata": {},
   "outputs": [
    {
     "name": "stdout",
     "output_type": "stream",
     "text": [
      "(96, 5, 11)\n",
      "Train\n",
      "[[0.66067274 0.70430639 0.67520184 0.68615223 0.67641444 0.68186801\n",
      "  0.6758689  0.68460397 0.68511599 0.70822891 0.72352148]\n",
      " [0.59001962 0.57353245 0.60273334 0.61739001 0.59798504 0.60680647\n",
      "  0.59784728 0.59608482 0.60003762 0.60154628 0.58328973]\n",
      " [0.86593884 0.83491177 0.94853401 0.93162722 0.9459562  0.93877476\n",
      "  0.94461182 0.93864763 0.94677179 0.92434139 0.93277732]\n",
      " [0.42719015 0.44386521 0.42301241 0.40947675 0.42378999 0.42103409\n",
      "  0.42091323 0.42617751 0.42432461 0.41765465 0.43021535]\n",
      " [0.68492613 0.73713396 0.71732474 0.72483717 0.72541902 0.72632117\n",
      "  0.72377245 0.73094436 0.72926961 0.74526455 0.75568234]]\n",
      "72\n",
      "Test\n",
      "[[0.50901364 0.53791286 0.51748383 0.53651339 0.53188663 0.52694585\n",
      "  0.5205152  0.51844995 0.53539513 0.53282207 0.51940971]\n",
      " [0.45338884 0.47082336 0.46394748 0.44508077 0.45347655 0.42774596\n",
      "  0.44400104 0.43419636 0.42854116 0.42113377 0.43428465]\n",
      " [0.87219985 0.94368344 0.93634421 0.94400243 0.93876059 0.93731456\n",
      "  0.94509448 0.94018378 0.9326403  0.93959207 0.90537104]\n",
      " [0.56127783 0.55701783 0.5577849  0.57835875 0.57050771 0.58683968\n",
      "  0.57835769 0.58553005 0.58957983 0.59637244 0.58583786]\n",
      " [0.54292365 0.56247124 0.55369696 0.5645506  0.55805379 0.55435267\n",
      "  0.55444977 0.55478551 0.56086609 0.56180994 0.55298571]]\n",
      "[1.]\n"
     ]
    }
   ],
   "source": [
    "#X= range(0,575,6)\n",
    "#y= range(0,575,6)\n",
    "\n",
    "X=State\n",
    "y=Labels[:,10]\n",
    "print(X.shape)\n",
    "\n",
    "y=y.reshape(96,1)\n",
    "\n",
    "random_seed=int(time.time())\n",
    "#print(int(time.time()))\n",
    "train_x, test_x, train_y,test_y = train_test_split(X, y, test_size=.25, #0.33, \n",
    "                                                   random_state=random_seed)\n",
    "print(\"Train\")\n",
    "print(train_x[0])\n",
    "print(train_y.size)\n",
    "print(\"Test\")\n",
    "print(test_x[0])\n",
    "print(test_y[0])\n"
   ]
  },
  {
   "cell_type": "code",
   "execution_count": 6,
   "metadata": {},
   "outputs": [
    {
     "name": "stdout",
     "output_type": "stream",
     "text": [
      "(72, 5, 11)\n"
     ]
    }
   ],
   "source": [
    "print(train_x.shape)  #example was (980185, 90, 5)"
   ]
  },
  {
   "cell_type": "markdown",
   "metadata": {},
   "source": [
    "We have a total of 980,185 sequences of training data\n",
    "\n",
    "To improve the speed of our training, we can process the data in batches so that the model does not need to update its weights as frequently. The Torch *Dataset* and *DataLoader* classes are useful for splitting our data into batches and shuffling them."
   ]
  },
  {
   "cell_type": "code",
   "execution_count": 7,
   "metadata": {},
   "outputs": [],
   "source": [
    "batch_size = 8\n",
    "#a batch size of 64, i.e. each element in the dataloader iterable will return a batch of 64 features and labels.\n",
    "\n",
    "train_data = TensorDataset(torch.from_numpy(train_x), torch.from_numpy(train_y))\n",
    "train_loader = DataLoader(train_data, shuffle=True, batch_size=batch_size, drop_last=True)\n",
    "\n",
    "test_data   = TensorDataset( torch.from_numpy( test_x ), torch.from_numpy( test_y ) )\n",
    "test_loader = DataLoader( test_data, shuffle = True, batch_size = batch_size, drop_last = True )\n"
   ]
  },
  {
   "cell_type": "code",
   "execution_count": 8,
   "metadata": {},
   "outputs": [
    {
     "name": "stdout",
     "output_type": "stream",
     "text": [
      "<torch.utils.data.dataloader.DataLoader object at 0x7f40bdaf3350>\n"
     ]
    }
   ],
   "source": [
    "print(train_loader)"
   ]
  },
  {
   "cell_type": "markdown",
   "metadata": {},
   "source": [
    "We can also check if we have any GPUs to speed up our training time by many folds. If you’re using FloydHub with GPU to run this code, the training time will be significantly reduced."
   ]
  },
  {
   "cell_type": "code",
   "execution_count": 9,
   "metadata": {},
   "outputs": [
    {
     "name": "stdout",
     "output_type": "stream",
     "text": [
      "cpu\n"
     ]
    }
   ],
   "source": [
    "# torch.cuda.is_available() checks and returns a Boolean True if a GPU is available, else it'll return False\n",
    "is_cuda = torch.cuda.is_available()\n",
    "\n",
    "# If we have a GPU available, we'll set our device to GPU. We'll use this device variable later in our code.\n",
    "if is_cuda:\n",
    "    device = torch.device(\"cuda\")\n",
    "else:\n",
    "    device = torch.device(\"cpu\")\n",
    "    \n",
    "print(device)\n",
    "\n",
    "\n",
    "def get_torch_device( v=0 ):\n",
    "    # torch.cuda.is_available() checks and returns a Boolean True if a GPU is available, else it'll return False\n",
    "    is_cuda = torch.cuda.is_available()\n",
    "    # If we have a GPU available, we'll set our device to GPU. We'll use this device variable later in our code.\n",
    "    if is_cuda:\n",
    "        device = torch.device(\"cuda\")\n",
    "        if v:  print( \"CUDA Available!\" )\n",
    "    else:\n",
    "        device = torch.device(\"cpu\")\n",
    "        if v:  print( \"NO CUDA\" )\n",
    "    return device"
   ]
  },
  {
   "cell_type": "code",
   "execution_count": 11,
   "metadata": {},
   "outputs": [],
   "source": [
    "class GRUNet(nn.Module):\n",
    "    def __init__(self, input_dim, hidden_dim, output_dim, n_layers, drop_prob=0.2):\n",
    "        super(GRUNet, self).__init__()\n",
    "        self.hidden_dim = hidden_dim\n",
    "        self.n_layers = n_layers\n",
    "        \n",
    "        self.gru = nn.GRU(input_dim, hidden_dim, n_layers, batch_first=True, dropout=drop_prob)\n",
    "        self.fc = nn.Linear(hidden_dim, output_dim)\n",
    "        self.relu = nn.ReLU()\n",
    "        \n",
    "    def forward(self, x, h):\n",
    "        out, h = self.gru(x, h)\n",
    "        out = self.fc(self.relu(out[:,-1]))\n",
    "        return out, h\n",
    "    \n",
    "    def init_hidden(self, batch_size):\n",
    "        weight = next(self.parameters()).data\n",
    "        hidden = weight.new(self.n_layers, batch_size, self.hidden_dim).zero_().to(device)\n",
    "        return hidden\n",
    "def train(train_loader, learn_rate, hidden_dim=128, EPOCHS=500, model_type=\"GRU\"):\n",
    "    losslist=[]\n",
    "    # Setting common hyperparameters\n",
    "    input_dim = next(iter(train_loader))[0].shape[2]  #  = 11\n",
    "    #print(input_dim)\n",
    "    #print(\"input_dim\",input_dim)\n",
    "    output_dim = 1\n",
    "    n_layers = 2\n",
    "    # Instantiating the models\n",
    "    if model_type == \"GRU\":\n",
    "        model = GRUNet(input_dim, hidden_dim, output_dim, n_layers)\n",
    "    else:\n",
    "        model = LSTMNet(input_dim, hidden_dim, output_dim, n_layers)\n",
    "    model.to(device)\n",
    "    \n",
    "    # Defining loss function and optimizer\n",
    "    criterion = nn.MSELoss()\n",
    "    optimizer = torch.optim.Adam(model.parameters(), lr=learn_rate)\n",
    "    \n",
    "    model.train()\n",
    "    print(\"Starting Training of {} model\".format(model_type))\n",
    "    epoch_times = []\n",
    "    # Start training loop\n",
    "    for epoch in range(1,EPOCHS+1):\n",
    "        start_time = time.clock()\n",
    "        h = model.init_hidden(batch_size)\n",
    "        avg_loss = 0.\n",
    "        counter = 0\n",
    "        for x, label in train_loader:\n",
    "            #print(\"x\",x)\n",
    "            #print(\"label\",label)\n",
    "            counter += 1\n",
    "            if model_type == \"GRU\":\n",
    "                h = h.data\n",
    "            else:\n",
    "                h = tuple([e.data for e in h])\n",
    "            model.zero_grad()\n",
    "            \n",
    "            out, h = model(x.to(device).float(), h)\n",
    "            #print(\"out\",out)\n",
    "            loss = criterion(out, label.to(device).float())\n",
    "            loss.backward()\n",
    "            optimizer.step()\n",
    "            avg_loss += loss.item()\n",
    "            \n",
    "            if counter%20000 == 0:\n",
    "                print(\"Epoch {}......Step: {}/{}....... Average Loss for Epoch: {}\".format(epoch, counter, len(train_loader), avg_loss/counter))\n",
    "        current_time = time.clock()\n",
    "        if epoch%20 == 0:\n",
    "            print(\"Epoch {}/{} Done, Total Loss: {}\".format(epoch, EPOCHS, avg_loss/len(train_loader)))\n",
    "        \n",
    "            print(\"Total Time Elapsed: {} seconds\".format(str(current_time-start_time)))\n",
    "        losslist.append(avg_loss/len(train_loader))\n",
    "        epoch_times.append(current_time-start_time)\n",
    "    print(\"Total Training Time: {} seconds\".format(str(sum(epoch_times))))\n",
    "    plt.plot(losslist)\n",
    "    plt.title(\"Loss\")\n",
    "    plt.show()\n",
    "    return model\n",
    "\n",
    "def evaluate(model, test_x, test_y):\n",
    "    model.eval()\n",
    "    outputs = []\n",
    "    targets = []\n",
    "    start_time = time.clock()\n",
    "    #for i in test_x.keys():\n",
    "    for i in range( len( test_x ) ):    \n",
    "        inp = torch.from_numpy(np.array(test_x[i])) # should be 5x1\n",
    "        labs = torch.from_numpy(np.array(test_y[i])) #should be 1x1\n",
    "        h = model.init_hidden(inp.shape[0])\n",
    "        #print(\"inp\",inp)\n",
    "        #print(\"labs\",labs)\n",
    "        #print(\"h\",h)\n",
    "        out, h = model(inp.to(device).float(), h)\n",
    "        #outputs.append(label_scalers[i].inverse_transform(out.cpu().detach().numpy()).reshape(-1))\n",
    "        #targets.append(label_scalers[i].inverse_transform(labs.numpy()).reshape(-1))\n",
    "        outputs.append( out.cpu().detach().numpy().reshape(-1) )\n",
    "        targets.append( labs.numpy().reshape(-1) )\n",
    "        \n",
    "    print(\"Evaluation Time: {}\".format(str(time.clock()-start_time)))\n",
    "    sMAPE = 0\n",
    "    for i in range(len(outputs)):\n",
    "        sMAPE += np.mean(abs(outputs[i]-targets[i])/(targets[i]+outputs[i])/2)/len(outputs)\n",
    "    print(\"sMAPE: {}%\".format(sMAPE*100))\n",
    "    return outputs, targets, sMAPE\n",
    "                               \n",
    "def evaluate2(model, test_x, test_y):\n",
    "    model.eval()\n",
    "    outputs = []\n",
    "    targets = []\n",
    "    start_time = time.clock()\n",
    "    #for i in test_x.keys():\n",
    "    #for i in range( len( test_x ) ):    \n",
    "    inp = torch.from_numpy(np.array(test_x)) # should be 5x1\n",
    "    labs = torch.from_numpy(np.array(test_y)) #should be 1x1\n",
    "    h = model.init_hidden(inp.shape[0])\n",
    "    #print(\"inp\",inp)\n",
    "    #print(\"labs\",labs)\n",
    "    #print(\"h\",h)\n",
    "    out, h = model(inp.to(device).float(), h)\n",
    "    #outputs.append(label_scalers[i].inverse_transform(out.cpu().detach().numpy()).reshape(-1))\n",
    "    #targets.append(label_scalers[i].inverse_transform(labs.numpy()).reshape(-1))\n",
    "    outputs.append( out.cpu().detach().numpy().reshape(-1) )\n",
    "    targets.append( labs.numpy().reshape(-1) )\n",
    "        \n",
    "    print(\"Evaluation Time: {}\".format(str(time.clock()-start_time)))\n",
    "    sMAPE = 0\n",
    "    for i in range(len(outputs)):\n",
    "        sMAPE += np.mean(abs(outputs[i]-targets[i])/(targets[i]+outputs[i])/2)/len(outputs)\n",
    "    print(\"sMAPE: {}%\".format(sMAPE*100))\n",
    "    return outputs, targets, sMAPE                               "
   ]
  },
  {
   "cell_type": "code",
   "execution_count": 12,
   "metadata": {},
   "outputs": [
    {
     "name": "stdout",
     "output_type": "stream",
     "text": [
      "Starting Training of GRU model\n"
     ]
    },
    {
     "name": "stderr",
     "output_type": "stream",
     "text": [
      "/home/scott/anaconda3/envs/thesis/lib/python3.7/site-packages/ipykernel_launcher.py:44: DeprecationWarning: time.clock has been deprecated in Python 3.3 and will be removed from Python 3.8: use time.perf_counter or time.process_time instead\n",
      "/home/scott/anaconda3/envs/thesis/lib/python3.7/site-packages/ipykernel_launcher.py:67: DeprecationWarning: time.clock has been deprecated in Python 3.3 and will be removed from Python 3.8: use time.perf_counter or time.process_time instead\n"
     ]
    },
    {
     "name": "stdout",
     "output_type": "stream",
     "text": [
      "Epoch 20/500 Done, Total Loss: 0.22824055949846903\n",
      "Total Time Elapsed: 0.42497700000000016 seconds\n",
      "Epoch 40/500 Done, Total Loss: 0.19123266554541057\n",
      "Total Time Elapsed: 0.4442619999999984 seconds\n",
      "Epoch 60/500 Done, Total Loss: 0.17814971009890238\n",
      "Total Time Elapsed: 0.4034720000000007 seconds\n",
      "Epoch 80/500 Done, Total Loss: 0.1593889743089676\n",
      "Total Time Elapsed: 0.6687569999999994 seconds\n",
      "Epoch 100/500 Done, Total Loss: 0.15321586115492714\n",
      "Total Time Elapsed: 0.42043499999999767 seconds\n",
      "Epoch 120/500 Done, Total Loss: 0.14536812322007286\n",
      "Total Time Elapsed: 0.4496299999999991 seconds\n",
      "Epoch 140/500 Done, Total Loss: 0.12950144045882755\n",
      "Total Time Elapsed: 0.4932539999999932 seconds\n",
      "Epoch 160/500 Done, Total Loss: 0.12104778985182445\n",
      "Total Time Elapsed: 0.5323429999999973 seconds\n",
      "Epoch 180/500 Done, Total Loss: 0.09544661061631309\n",
      "Total Time Elapsed: 0.4245559999999955 seconds\n",
      "Epoch 200/500 Done, Total Loss: 0.10965718825658162\n",
      "Total Time Elapsed: 0.540645000000012 seconds\n",
      "Epoch 220/500 Done, Total Loss: 0.08863654422263305\n",
      "Total Time Elapsed: 0.44190500000000554 seconds\n",
      "Epoch 240/500 Done, Total Loss: 0.08956929689480199\n",
      "Total Time Elapsed: 0.5819390000000055 seconds\n",
      "Epoch 260/500 Done, Total Loss: 0.06796769001003769\n",
      "Total Time Elapsed: 0.4074280000000101 seconds\n",
      "Epoch 280/500 Done, Total Loss: 0.0678834304627445\n",
      "Total Time Elapsed: 0.4728849999999909 seconds\n",
      "Epoch 300/500 Done, Total Loss: 0.04670616818798913\n",
      "Total Time Elapsed: 0.40542500000000814 seconds\n",
      "Epoch 320/500 Done, Total Loss: 0.05341275667564736\n",
      "Total Time Elapsed: 0.44967900000000327 seconds\n",
      "Epoch 340/500 Done, Total Loss: 0.05258671628932158\n",
      "Total Time Elapsed: 0.39531900000000064 seconds\n",
      "Epoch 360/500 Done, Total Loss: 0.029484884451246925\n",
      "Total Time Elapsed: 0.4163649999999848 seconds\n",
      "Epoch 380/500 Done, Total Loss: 0.03053841708848874\n",
      "Total Time Elapsed: 0.4128649999999823 seconds\n",
      "Epoch 400/500 Done, Total Loss: 0.027470300077564187\n",
      "Total Time Elapsed: 0.5336110000000076 seconds\n",
      "Epoch 420/500 Done, Total Loss: 0.028780218834678333\n",
      "Total Time Elapsed: 0.5489200000000096 seconds\n",
      "Epoch 440/500 Done, Total Loss: 0.028523726026631065\n",
      "Total Time Elapsed: 0.5549200000000098 seconds\n",
      "Epoch 460/500 Done, Total Loss: 0.02204495823631684\n",
      "Total Time Elapsed: 0.47408300000000736 seconds\n",
      "Epoch 480/500 Done, Total Loss: 0.02136075325931112\n",
      "Total Time Elapsed: 0.5663520000000233 seconds\n",
      "Epoch 500/500 Done, Total Loss: 0.018526237457990646\n",
      "Total Time Elapsed: 0.5834270000000004 seconds\n",
      "Total Training Time: 245.814909 seconds\n"
     ]
    },
    {
     "data": {
      "image/png": "[encoded data removed]",
      "text/plain": [
       "<Figure size 432x288 with 1 Axes>"
      ]
     },
     "metadata": {
      "needs_background": "light"
     },
     "output_type": "display_data"
    }
   ],
   "source": [
    "lr = 0.001#0.001\n",
    "gru_model = train(train_loader, lr, model_type=\"GRU\")\n",
    "\n",
    "#The target size means the label size!"
   ]
  },
  {
   "cell_type": "code",
   "execution_count": 37,
   "metadata": {},
   "outputs": [
    {
     "ename": "RuntimeError",
     "evalue": "CUDA error: unspecified launch failure",
     "output_type": "error",
     "traceback": [
      "\u001b[0;31m---------------------------------------------------------------------------\u001b[0m",
      "\u001b[0;31mRuntimeError\u001b[0m                              Traceback (most recent call last)",
      "\u001b[0;32m/tmp/ipykernel_81968/3312255129.py\u001b[0m in \u001b[0;36m<module>\u001b[0;34m\u001b[0m\n\u001b[1;32m      4\u001b[0m \u001b[0mlabs\u001b[0m \u001b[0;34m=\u001b[0m \u001b[0mtorch\u001b[0m\u001b[0;34m.\u001b[0m\u001b[0mfrom_numpy\u001b[0m\u001b[0;34m(\u001b[0m\u001b[0mnp\u001b[0m\u001b[0;34m.\u001b[0m\u001b[0marray\u001b[0m\u001b[0;34m(\u001b[0m\u001b[0mtest_y\u001b[0m\u001b[0;34m)\u001b[0m\u001b[0;34m)\u001b[0m\u001b[0;34m\u001b[0m\u001b[0;34m\u001b[0m\u001b[0m\n\u001b[1;32m      5\u001b[0m \u001b[0;31m#h = model.init_hidden(inp.shape[0])\u001b[0m\u001b[0;34m\u001b[0m\u001b[0;34m\u001b[0m\u001b[0;34m\u001b[0m\u001b[0m\n\u001b[0;32m----> 6\u001b[0;31m \u001b[0mh\u001b[0m \u001b[0;34m=\u001b[0m \u001b[0mmodel\u001b[0m\u001b[0;34m.\u001b[0m\u001b[0minit_hidden\u001b[0m\u001b[0;34m(\u001b[0m\u001b[0minp\u001b[0m\u001b[0;34m.\u001b[0m\u001b[0mshape\u001b[0m\u001b[0;34m[\u001b[0m\u001b[0;36m0\u001b[0m\u001b[0;34m]\u001b[0m\u001b[0;34m)\u001b[0m\u001b[0;34m\u001b[0m\u001b[0;34m\u001b[0m\u001b[0m\n\u001b[0m\u001b[1;32m      7\u001b[0m \u001b[0;31m#print(\"inp\",inp)\u001b[0m\u001b[0;34m\u001b[0m\u001b[0;34m\u001b[0m\u001b[0;34m\u001b[0m\u001b[0m\n\u001b[1;32m      8\u001b[0m \u001b[0;34m\u001b[0m\u001b[0m\n",
      "\u001b[0;32m/tmp/ipykernel_81968/2830187747.py\u001b[0m in \u001b[0;36minit_hidden\u001b[0;34m(self, batch_size)\u001b[0m\n\u001b[1;32m     16\u001b[0m     \u001b[0;32mdef\u001b[0m \u001b[0minit_hidden\u001b[0m\u001b[0;34m(\u001b[0m\u001b[0mself\u001b[0m\u001b[0;34m,\u001b[0m \u001b[0mbatch_size\u001b[0m\u001b[0;34m)\u001b[0m\u001b[0;34m:\u001b[0m\u001b[0;34m\u001b[0m\u001b[0;34m\u001b[0m\u001b[0m\n\u001b[1;32m     17\u001b[0m         \u001b[0mweight\u001b[0m \u001b[0;34m=\u001b[0m \u001b[0mnext\u001b[0m\u001b[0;34m(\u001b[0m\u001b[0mself\u001b[0m\u001b[0;34m.\u001b[0m\u001b[0mparameters\u001b[0m\u001b[0;34m(\u001b[0m\u001b[0;34m)\u001b[0m\u001b[0;34m)\u001b[0m\u001b[0;34m.\u001b[0m\u001b[0mdata\u001b[0m\u001b[0;34m\u001b[0m\u001b[0;34m\u001b[0m\u001b[0m\n\u001b[0;32m---> 18\u001b[0;31m         \u001b[0mhidden\u001b[0m \u001b[0;34m=\u001b[0m \u001b[0mweight\u001b[0m\u001b[0;34m.\u001b[0m\u001b[0mnew\u001b[0m\u001b[0;34m(\u001b[0m\u001b[0mself\u001b[0m\u001b[0;34m.\u001b[0m\u001b[0mn_layers\u001b[0m\u001b[0;34m,\u001b[0m \u001b[0mbatch_size\u001b[0m\u001b[0;34m,\u001b[0m \u001b[0mself\u001b[0m\u001b[0;34m.\u001b[0m\u001b[0mhidden_dim\u001b[0m\u001b[0;34m)\u001b[0m\u001b[0;34m.\u001b[0m\u001b[0mzero_\u001b[0m\u001b[0;34m(\u001b[0m\u001b[0;34m)\u001b[0m\u001b[0;34m.\u001b[0m\u001b[0mto\u001b[0m\u001b[0;34m(\u001b[0m\u001b[0mdevice\u001b[0m\u001b[0;34m)\u001b[0m\u001b[0;34m\u001b[0m\u001b[0;34m\u001b[0m\u001b[0m\n\u001b[0m\u001b[1;32m     19\u001b[0m         \u001b[0;32mreturn\u001b[0m \u001b[0mhidden\u001b[0m\u001b[0;34m\u001b[0m\u001b[0;34m\u001b[0m\u001b[0m\n\u001b[1;32m     20\u001b[0m \u001b[0;32mdef\u001b[0m \u001b[0mtrain\u001b[0m\u001b[0;34m(\u001b[0m\u001b[0mtrain_loader\u001b[0m\u001b[0;34m,\u001b[0m \u001b[0mlearn_rate\u001b[0m\u001b[0;34m,\u001b[0m \u001b[0mhidden_dim\u001b[0m\u001b[0;34m=\u001b[0m\u001b[0;36m128\u001b[0m\u001b[0;34m,\u001b[0m \u001b[0mEPOCHS\u001b[0m\u001b[0;34m=\u001b[0m\u001b[0;36m1000\u001b[0m\u001b[0;34m,\u001b[0m \u001b[0mmodel_type\u001b[0m\u001b[0;34m=\u001b[0m\u001b[0;34m\"GRU\"\u001b[0m\u001b[0;34m)\u001b[0m\u001b[0;34m:\u001b[0m\u001b[0;34m\u001b[0m\u001b[0;34m\u001b[0m\u001b[0m\n",
      "\u001b[0;31mRuntimeError\u001b[0m: CUDA error: unspecified launch failure"
     ]
    }
   ],
   "source": [
    "model=gru_model\n",
    "i=1\n",
    "inp = torch.from_numpy(np.array(test_x))\n",
    "labs = torch.from_numpy(np.array(test_y))\n",
    "#h = model.init_hidden(inp.shape[0])\n",
    "h = model.init_hidden(inp.shape[0])\n",
    "#print(\"inp\",inp)\n",
    "\n",
    "#print(\"INP SHAPE\",inp.shape)\n",
    "#print(\"INP SHAPE[0]\",inp.shape[0])\n",
    "#print(\"labs\",labs)\n",
    "#print(\"h\",h)\n",
    "#print(\"h.shape\",h.shape)\n",
    "#print(inp.to(device).float())\n",
    "#print(inp.to(device).float().shape)\n",
    "print(inp.to(device).float().shape)\n",
    "\n",
    "out, h = model(inp.to(device).float(), h)\n",
    "#print(out)"
   ]
  },
  {
   "cell_type": "code",
   "execution_count": 26,
   "metadata": {},
   "outputs": [
    {
     "name": "stdout",
     "output_type": "stream",
     "text": [
      "Evaluation Time: 0.022149999999999892\n",
      "sMAPE: 1.055325718671533%\n",
      "[array([-7.3618658e-02,  9.8243004e-01,  9.6595168e-01,  9.7385561e-01,\n",
      "       -1.0710596e-01,  9.7495830e-01,  1.0029546e+00, -1.1340419e-02,\n",
      "        9.4081098e-01,  1.5489599e-02,  1.0237291e+00, -1.4569107e-03,\n",
      "        9.9926215e-01,  9.6292406e-01,  1.0372440e+00,  9.9232954e-01,\n",
      "       -2.0386243e-02,  1.8636370e-02,  9.8773569e-01,  9.9762005e-01,\n",
      "       -4.2590111e-02,  9.7904545e-01,  1.0026344e+00,  9.5723277e-01,\n",
      "       -9.3992986e-04,  9.9707299e-01,  6.0111932e-02,  1.0196114e+00,\n",
      "        9.9926394e-01,  9.8935169e-01,  6.1628096e-02,  9.5956409e-01,\n",
      "        9.6774179e-01,  9.8263341e-01,  9.9145943e-01,  9.9661845e-01,\n",
      "        1.0162412e+00,  1.0472741e+00,  1.0231850e+00, -8.1685539e-03,\n",
      "        9.7263831e-01,  1.4361089e-02,  1.0271791e+00,  4.4654958e-02,\n",
      "        8.7298211e-03,  9.5959789e-01,  6.3012298e-03, -1.7566899e-02,\n",
      "        9.9679643e-01,  9.8661357e-01,  9.6943319e-01,  6.6272609e-02,\n",
      "        9.3804735e-01,  4.6346039e-02,  9.8781985e-01, -1.7333798e-02,\n",
      "        8.4618086e-01,  9.9601346e-01, -7.6258622e-02, -2.2871695e-02,\n",
      "        9.8578924e-01, -1.5715437e-02,  3.2791104e-03,  6.0087796e-03,\n",
      "        1.0029367e+00, -3.6124475e-02,  2.8371276e-02,  1.0001315e+00,\n",
      "        1.2075361e-03,  9.8650938e-01,  9.6186149e-01,  1.4843686e-02],\n",
      "      dtype=float32)]\n",
      "0.9749583\n"
     ]
    },
    {
     "name": "stderr",
     "output_type": "stream",
     "text": [
      "/home/scott/anaconda3/envs/thesis/lib/python3.7/site-packages/ipykernel_launcher.py:110: DeprecationWarning: time.clock has been deprecated in Python 3.3 and will be removed from Python 3.8: use time.perf_counter or time.process_time instead\n",
      "/home/scott/anaconda3/envs/thesis/lib/python3.7/site-packages/ipykernel_launcher.py:125: DeprecationWarning: time.clock has been deprecated in Python 3.3 and will be removed from Python 3.8: use time.perf_counter or time.process_time instead\n"
     ]
    }
   ],
   "source": [
    "#gru_outputs, targets, gru_sMAPE = evaluate2(gru_model, test_x, test_y)\n",
    "gru_outputs, targets, gru_sMAPE = evaluate2(gru_model, train_x, train_y)\n",
    "#print(test_y)\n",
    "print(gru_outputs)\n",
    "print(gru_outputs[0][5])"
   ]
  },
  {
   "cell_type": "code",
   "execution_count": 14,
   "metadata": {},
   "outputs": [
    {
     "name": "stdout",
     "output_type": "stream",
     "text": [
      "Evaluation Time: 0.0166579999999783\n",
      "sMAPE: 11.10482370706016%\n",
      "24\n",
      "72\n",
      "1.0171337\n",
      "successess vs training data= 66 /72\n",
      "Evaluation Time: 0.022106000000007953\n",
      "sMAPE: 26.959528698024055%\n",
      "1.0 1.0005274 tensor(1.0005)\n",
      "0.0 1.0269966 tensor(1.0270)\n",
      "0.0 1.0669843 tensor(1.0670)\n",
      "0.0 0.020787999 tensor(0.0208)\n",
      "1.0 1.073992 tensor(1.0740)\n",
      "0.0 0.24167858 tensor(0.2417)\n",
      "1.0 0.93969786 tensor(0.9397)\n",
      "1.0 0.5938621 tensor(0.5939)\n",
      "0.0 0.8885737 tensor(0.8886)\n",
      "0.0 0.9044461 tensor(0.9044)\n",
      "0.0 1.1014279 tensor(1.1014)\n",
      "0.0 0.17135726 tensor(0.1714)\n",
      "1.0 0.34176075 tensor(0.3418)\n",
      "1.0 0.5907218 tensor(0.5907)\n",
      "0.0 0.99151444 tensor(0.9915)\n",
      "1.0 1.1222554 tensor(1.1223)\n",
      "0.0 0.9993213 tensor(0.9993)\n",
      "1.0 1.059385 tensor(1.0594)\n",
      "1.0 0.9743906 tensor(0.9744)\n",
      "0.0 0.6269203 tensor(0.6269)\n",
      "1.0 0.5327496 tensor(0.5327)\n",
      "1.0 0.03923215 tensor(0.0392)\n",
      "1.0 0.21191923 tensor(0.2119)\n",
      "0.0 0.9050136 tensor(0.9050)\n",
      "successess vs test data= 10 /72\n"
     ]
    },
    {
     "name": "stderr",
     "output_type": "stream",
     "text": [
      "/home/scott/anaconda3/envs/thesis/lib/python3.7/site-packages/ipykernel_launcher.py:110: DeprecationWarning: time.clock has been deprecated in Python 3.3 and will be removed from Python 3.8: use time.perf_counter or time.process_time instead\n",
      "/home/scott/anaconda3/envs/thesis/lib/python3.7/site-packages/ipykernel_launcher.py:125: DeprecationWarning: time.clock has been deprecated in Python 3.3 and will be removed from Python 3.8: use time.perf_counter or time.process_time instead\n"
     ]
    }
   ],
   "source": [
    "#print(test_y.reshape(-1))\n",
    "\n",
    "m = nn.ReLU()\n",
    "#m = nn.Sigmoid()\n",
    "#output = m(input)\n",
    "\n",
    "gru_outputs, targets, gru_sMAPE = evaluate2(gru_model, train_x, train_y)\n",
    "#print(test_y)\n",
    "#print(gru_outputs)\n",
    "#print(gru_outputs[0][5])\n",
    "\n",
    "\n",
    "testy=test_y.reshape(-1)\n",
    "trainy=train_y.reshape(-1)\n",
    "\n",
    "print(testy.size)\n",
    "print(trainy.size)\n",
    "print(gru_outputs[0][4])\n",
    "successcounter=0\n",
    "for i in range(72):\n",
    "    #print(testy[i],gru_outputs[0][i],m(torch.tensor(gru_outputs[0][i])))\n",
    "    #print(train[i],gru_outputs[0][i],m(torch.tensor(gru_outputs[0][i])))\n",
    "    #print(trainy[i],gru_outputs[0][i], m(torch.tensor(gru_outputs[0][i])))\n",
    "    \n",
    "    \n",
    "    if abs(trainy[i]-gru_outputs[0][i])<0.2 :\n",
    "        successcounter+=1\n",
    "    #print(testy[i])\n",
    "    #print\n",
    "    #output = m(input)\n",
    "print(\"successess vs training data=\" ,successcounter,\"/72\")\n",
    "\n",
    "\n",
    "successcounter=0\n",
    "\n",
    "gru_outputs, targets, gru_sMAPE = evaluate2(gru_model, test_x, test_y)\n",
    "\n",
    "for i in range(24):\n",
    "    #print(testy[i],gru_outputs[0][i],m(torch.tensor(gru_outputs[0][i])))\n",
    "    #print(train[i],gru_outputs[0][i],m(torch.tensor(gru_outputs[0][i])))\n",
    "    print(trainy[i],gru_outputs[0][i], m(torch.tensor(gru_outputs[0][i])))\n",
    "    \n",
    "    \n",
    "    if abs(testy[i]-gru_outputs[0][i])<0.2 :\n",
    "        successcounter+=1\n",
    "    #print(testy[i])\n",
    "    #print\n",
    "    #output = m(input)\n",
    "print(\"successess vs test data=\" ,successcounter,\"/72\")\n"
   ]
  },
  {
   "cell_type": "code",
   "execution_count": null,
   "metadata": {
    "scrolled": true
   },
   "outputs": [],
   "source": []
  }
 ],
 "metadata": {
  "kernelspec": {
   "display_name": "Python 3 (ipykernel)",
   "language": "python",
   "name": "python3"
  },
  "language_info": {
   "codemirror_mode": {
    "name": "ipython",
    "version": 3
   },
   "file_extension": ".py",
   "mimetype": "text/x-python",
   "name": "python",
   "nbconvert_exporter": "python",
   "pygments_lexer": "ipython3",
   "version": "3.7.11"
  }
 },
 "nbformat": 4,
 "nbformat_minor": 4
}
