{
 "cells": [
  {
   "cell_type": "markdown",
   "metadata": {},
   "source": [
    "In this notebook, we'll be using a GRU model for a time series prediction task and we will compare the performance of the GRU model against an LSTM model as well. The dataset that we will be using is the Hourly Energy Consumption dataset which can be found on [Kaggle](https://www.kaggle.com/robikscube/hourly-energy-consumption). The dataset contains power consumption data across different regions around the United States recorded on an hourly basis.\n",
    "\n",
    "You can run the code implementation in this article on FloydHub using their GPUs on the cloud by clicking the following link and using the main.ipynb notebook.\n",
    "\n",
    "[![Run on FloydHub](https://static.floydhub.com/button/button-small.svg)](https://floydhub.com/run?template=https://github.com/gabrielloye/https://github.com/gabrielloye/GRU_Prediction)\n",
    "\n",
    "This will speed up the training process significantly. Alternatively, the link to the GitHub repository can be found [here]().\n",
    "\n",
    "The goal of this implementation is to create a model that can accurately predict the energy usage in the next hour given historical usage data. We will be using both the GRU and LSTM model to train on a set of historical data and evaluate both models on an unseen test set. To do so, we’ll start with feature selection, data-preprocessing, followed by defining, training and eventually evaluating the models.\n",
    "\n",
    "We will be using the PyTorch library to implement both types of models along with other common Python libraries used in data analytics."
   ]
  },
  {
   "cell_type": "code",
   "execution_count": 1,
   "metadata": {},
   "outputs": [
    {
     "name": "stderr",
     "output_type": "stream",
     "text": [
      "In /home/scott/.local/lib/python3.6/site-packages/matplotlib/mpl-data/stylelib/_classic_test.mplstyle: \n",
      "The text.latex.preview rcparam was deprecated in Matplotlib 3.3 and will be removed two minor releases later.\n",
      "In /home/scott/.local/lib/python3.6/site-packages/matplotlib/mpl-data/stylelib/_classic_test.mplstyle: \n",
      "The mathtext.fallback_to_cm rcparam was deprecated in Matplotlib 3.3 and will be removed two minor releases later.\n",
      "In /home/scott/.local/lib/python3.6/site-packages/matplotlib/mpl-data/stylelib/_classic_test.mplstyle: Support for setting the 'mathtext.fallback_to_cm' rcParam is deprecated since 3.3 and will be removed two minor releases later; use 'mathtext.fallback : 'cm' instead.\n",
      "In /home/scott/.local/lib/python3.6/site-packages/matplotlib/mpl-data/stylelib/_classic_test.mplstyle: \n",
      "The validate_bool_maybe_none function was deprecated in Matplotlib 3.3 and will be removed two minor releases later.\n",
      "In /home/scott/.local/lib/python3.6/site-packages/matplotlib/mpl-data/stylelib/_classic_test.mplstyle: \n",
      "The savefig.jpeg_quality rcparam was deprecated in Matplotlib 3.3 and will be removed two minor releases later.\n",
      "In /home/scott/.local/lib/python3.6/site-packages/matplotlib/mpl-data/stylelib/_classic_test.mplstyle: \n",
      "The keymap.all_axes rcparam was deprecated in Matplotlib 3.3 and will be removed two minor releases later.\n",
      "In /home/scott/.local/lib/python3.6/site-packages/matplotlib/mpl-data/stylelib/_classic_test.mplstyle: \n",
      "The animation.avconv_path rcparam was deprecated in Matplotlib 3.3 and will be removed two minor releases later.\n",
      "In /home/scott/.local/lib/python3.6/site-packages/matplotlib/mpl-data/stylelib/_classic_test.mplstyle: \n",
      "The animation.avconv_args rcparam was deprecated in Matplotlib 3.3 and will be removed two minor releases later.\n"
     ]
    }
   ],
   "source": [
    "#https://blog.floydhub.com/gru-with-pytorch/\n",
    "\n",
    "import os\n",
    "import time\n",
    "import csv\n",
    "import numpy as np\n",
    "import pandas as pd\n",
    "import matplotlib.pyplot as plt\n",
    "\n",
    "import random\n",
    "from datetime import datetime\n",
    "\n",
    "import torch\n",
    "import torch.nn as nn\n",
    "from torch.utils.data import TensorDataset, DataLoader\n",
    "\n",
    "from tqdm import tqdm_notebook\n",
    "from sklearn.preprocessing import MinMaxScaler,QuantileTransformer\n",
    "from sklearn.model_selection import train_test_split\n",
    "# Define data root directory\n",
    "\n",
    "#data_dir = \"./data/\"\n",
    "#print(os.listdir(data_dir))"
   ]
  },
  {
   "cell_type": "code",
   "execution_count": 2,
   "metadata": {},
   "outputs": [],
   "source": [
    "normalizeddataframe=pd.read_csv('forcetorquebuttonresults_09_21_2021.csv')#.head()\n",
    "originaldataframe=normalizeddataframe"
   ]
  },
  {
   "cell_type": "code",
   "execution_count": 79,
   "metadata": {},
   "outputs": [],
   "source": [
    "\n",
    "#normalizeddataframe\n"
   ]
  },
  {
   "cell_type": "markdown",
   "metadata": {},
   "source": [
    "We have a total of **12** *.csv* files containing hourly energy trend data (*'est_hourly.paruqet'* and *'pjm_hourly_est.csv'* are not used). In our next step, we will be reading these files and pre-processing these data in this order:\n",
    "- Getting the time data of each individual time step and generalizing them\n",
    "    - Hour of the day *i.e. 0-23*\n",
    "    - Day of the week *i.e. 1-7*\n",
    "    - Month *i.e. 1-12*\n",
    "    - Day of the year *i.e. 1-365*\n",
    "    \n",
    "    \n",
    "- Scale the data to values between 0 and 1\n",
    "    - Algorithms tend to perform better or converge faster when features are on a relatively similar scale and/or close to normally distributed\n",
    "    - Scaling preserves the shape of the original distribution and doesn't reduce the importance of outliers.\n",
    "    \n",
    "    \n",
    "- Group the data into sequences to be used as inputs to the model and store their corresponding labels\n",
    "    - The **sequence length** or **lookback period** is the number of data points in history that the model will use to make the prediction\n",
    "    - The label will be the next data point in time after the last one in the input sequence\n",
    "    \n",
    "\n",
    "- The inputs and labels will then be split into training and test sets"
   ]
  },
  {
   "cell_type": "code",
   "execution_count": 3,
   "metadata": {},
   "outputs": [
    {
     "name": "stdout",
     "output_type": "stream",
     "text": [
      "-0.14936999999999934\n",
      "-0.014936999999999978\n"
     ]
    }
   ],
   "source": [
    "#Un Normalize data\n",
    "\n",
    "xforcemin=-10\n",
    "xforcemax=10\n",
    "yforcemin=-10\n",
    "yforcemax=10\n",
    "\n",
    "zforcemin=-15\n",
    "zforcemax=10\n",
    "rolltorquemin=-2\n",
    "rolltorquemax=2\n",
    "pitchtorquemin=-2\n",
    "pitchtorquemax=2\n",
    "yawtorquemin=-.1\n",
    "yawtorquemax=.1\n",
    "\n",
    "xforce_normalized=-0.014937\n",
    "\n",
    "xforce_original=(((xforce_normalized+1)/2)*(xforcemax-xforcemin)+xforcemin)\n",
    "print(xforce_original)\n",
    "xforce_normalized2=((xforce_original-xforcemin)/(xforcemax-xforcemin)*2)-1\n",
    "\n",
    "print(xforce_normalized2)"
   ]
  },
  {
   "cell_type": "code",
   "execution_count": null,
   "metadata": {},
   "outputs": [],
   "source": [
    "normalizeddataframe=pd.read_csv('forcetorquebuttonresults_09_21_2021.csv')#.head()\n",
    "originaldataframe=normalizeddataframe\n",
    "#unnormalizerange=range(0,5,575)\n",
    "#print(unnormalizerange)\n",
    "\n",
    "for i in range(0,575,6):\n",
    "  \n",
    "    originaldataframe.iloc[i]=(((normalizeddataframe.iloc[i]+1)/2)*(xforcemax-xforcemin)+xforcemin)\n",
    "    originaldataframe.iloc[i+1]=(((normalizeddataframe.iloc[i+1]+1)/2)*(yforcemax-yforcemin)+yforcemin)\n",
    "    originaldataframe.iloc[i+2]=(((normalizeddataframe.iloc[i+2]+1)/2)*(zforcemax-zforcemin)+zforcemin)\n",
    "    originaldataframe.iloc[i+3]=(((normalizeddataframe.iloc[i+3]+1)/2)*(rolltorquemax-rolltorquemin)+rolltorquemin)\n",
    "    originaldataframe.iloc[i+4]=(((normalizeddataframe.iloc[i+4]+1)/2)*(pitchtorquemax-pitchtorquemin)+pitchtorquemin)\n",
    "    \n",
    "\n",
    "originaldataframe\n",
    "originaldataframe.to_csv('forcetorquebuttonresults_unnormalized_09_21_2021.csv', index=False)  \n",
    "print(\"data output to file\")\n"
   ]
  },
  {
   "cell_type": "code",
   "execution_count": 4,
   "metadata": {},
   "outputs": [
    {
     "name": "stdout",
     "output_type": "stream",
     "text": [
      "xforcemin= -22.0667781829834 xforcemax= 21.32257652282715\n",
      "yforcemin= -33.593490600585945 yforcemax= 21.48625946044922\n",
      "zforcemin= -134.9068450927734 zforcemax= 7.664425373077393\n",
      "rolltorquemin= -4.071350574493408 rolltorquemax= 5.534818649291992\n",
      "pitchtorquemin= -5.719254970550537 pitchtorquemax= 5.162374019622803\n"
     ]
    }
   ],
   "source": [
    "#Find new min and max values for each set of data\n",
    "\n",
    "originaldataframe=pd.read_csv('forcetorquebuttonresults_unnormalized_09_21_2021.csv')#.head()\n",
    "\n",
    "xforcemin=999\n",
    "xforcemax=-999\n",
    "yforcemin=999\n",
    "yforcemax=-999\n",
    "zforcemin=999\n",
    "zforcemax=-999\n",
    "rolltorquemin=999\n",
    "rolltorquemax=-999\n",
    "pitchtorquemin=999\n",
    "pitchtorquemax=-999\n",
    "\n",
    "\n",
    "for i in range(0,575,6):\n",
    "    xtempmin=originaldataframe.iloc[i].min(axis=0)\n",
    "    xtempmax=originaldataframe.iloc[i].max(axis=0)\n",
    "    ytempmin=originaldataframe.iloc[i+1].min(axis=0)\n",
    "    ytempmax=originaldataframe.iloc[i+1].max(axis=0)\n",
    "    ztempmin=originaldataframe.iloc[i+2].min(axis=0)\n",
    "    ztempmax=originaldataframe.iloc[i+2].max(axis=0)\n",
    "    rolltempmin=originaldataframe.iloc[i+3].min(axis=0)\n",
    "    rolltempmax=originaldataframe.iloc[i+3].max(axis=0)\n",
    "    pitchtempmin=originaldataframe.iloc[i+4].min(axis=0)\n",
    "    pitchtempmax=originaldataframe.iloc[i+4].max(axis=0)\n",
    "    \n",
    "    if xtempmin<xforcemin:\n",
    "        xforcemin=xtempmin\n",
    "    if ytempmin<yforcemin:\n",
    "        yforcemin=ytempmin\n",
    "    if ztempmin<zforcemin:\n",
    "        zforcemin=ztempmin\n",
    "        #print(\"row\",i+2,\"new min =\",zforcemin)\n",
    "    #if ztempmin<-50:\n",
    "        #print(\"row\",i+2,\"low z =\",zforcemin)\n",
    "        \n",
    "    if rolltempmin<rolltorquemin:\n",
    "        rolltorquemin=rolltempmin\n",
    "   \n",
    "        \n",
    "    if xtempmax>xforcemax:\n",
    "        xforcemax=xtempmax\n",
    "    if ytempmax>yforcemax:\n",
    "        yforcemax=ytempmax\n",
    "    if ztempmax>zforcemax:\n",
    "        zforcemax=ztempmax\n",
    "        #print(\"new max=\",zforcemax)\n",
    "    if rolltempmax>rolltorquemax:\n",
    "        rolltorquemax=rolltempmax\n",
    "\n",
    "    if pitchtempmin<pitchtorquemin:\n",
    "        pitchtorquemin=pitchtempmin    \n",
    "        \n",
    "    if pitchtempmax>pitchtorquemax:\n",
    "        pitchtorquemax=pitchtempmax   \n",
    "   \n",
    " \n",
    "    \n",
    "print(\"xforcemin=\",xforcemin,\"xforcemax=\",xforcemax)\n",
    "print(\"yforcemin=\",yforcemin,\"yforcemax=\",yforcemax)\n",
    "print(\"zforcemin=\",zforcemin,\"zforcemax=\",zforcemax)\n",
    "print(\"rolltorquemin=\",rolltorquemin,\"rolltorquemax=\",rolltorquemax)\n",
    "print(\"pitchtorquemin=\",pitchtorquemin,\"pitchtorquemax=\",pitchtorquemax)\n",
    "\n",
    "\n",
    "\n",
    "\n"
   ]
  },
  {
   "cell_type": "code",
   "execution_count": 5,
   "metadata": {},
   "outputs": [
    {
     "name": "stdout",
     "output_type": "stream",
     "text": [
      "[ -0.14936759  -0.61143404  -0.27686498   0.21767901  -0.24998239\n",
      "  -0.44087735  -0.45018634  -0.41802108  -0.01219231  -0.41934395\n",
      "  -0.08511478  -0.314464    -0.45472708  -0.6606493   -3.08227301\n",
      "  -6.09093666  -5.0157218   -4.37792492  -9.19834518 -10.03257656\n",
      " -10.49871826  -4.71077108 -11.2093792  -10.05767536  -4.09307671\n",
      "  -5.84370804 -10.09924603  -8.57146549  -8.30761814  -1.93388212]\n",
      "xforcearray []\n",
      "(0,)\n",
      "[ -0.14936759  -0.61143404  -0.27686498   0.21767901  -0.24998239\n",
      "  -0.44087735  -0.45018634  -0.41802108  -0.01219231  -0.41934395\n",
      "  -0.08511478  -0.314464    -0.45472708  -0.6606493   -3.08227301\n",
      "  -6.09093666  -5.0157218   -4.37792492  -9.19834518 -10.03257656\n",
      " -10.49871826  -4.71077108 -11.2093792  -10.05767536  -4.09307671\n",
      "  -5.84370804 -10.09924603  -8.57146549  -8.30761814  -1.93388212]\n",
      "(30,)\n"
     ]
    }
   ],
   "source": [
    "originaldataframe=pd.read_csv('forcetorquebuttonresults_unnormalized_09_21_2021.csv')#.head()\n",
    "#Create quantile transformers\n",
    "\n",
    "xforcearray=np.array([])\n",
    "#print(xforcearray)\n",
    "\n",
    "temparray=pd.DataFrame(originaldataframe.iloc[0]).to_numpy()\n",
    "temparray=temparray.T.flatten()\n",
    "#print(temparray)\n",
    "#print(temparray)\n",
    "\n",
    "#print(temparray[0])\n",
    "#xforcearray=temparray\n",
    "\n",
    "print(temparray)\n",
    "print(\"xforcearray\",xforcearray)\n",
    "print(xforcearray.shape)\n",
    "\n",
    "xforcearray=np.append(xforcearray,temparray)\n",
    "print(xforcearray)\n",
    "print(xforcearray.shape)"
   ]
  },
  {
   "cell_type": "code",
   "execution_count": 6,
   "metadata": {},
   "outputs": [
    {
     "name": "stdout",
     "output_type": "stream",
     "text": [
      "(2880,)\n",
      "[-0.14936759 -0.61143404 -0.27686498  0.21767901 -0.24998239 -0.44087735\n",
      " -0.45018634 -0.41802108 -0.01219231 -0.41934395]\n"
     ]
    }
   ],
   "source": [
    "originaldataframe=pd.read_csv('forcetorquebuttonresults_unnormalized_09_21_2021.csv')#.head()\n",
    "\n",
    "xforcearray=np.array([])\n",
    "yforcearray=np.array([])\n",
    "zforcearray=np.array([])\n",
    "rolltorquearray=np.array([])\n",
    "pitchtorquearray=np.array([])\n",
    "\n",
    "\n",
    "for i in range(0,575,6):\n",
    "    \n",
    "    x_temparray=pd.DataFrame(originaldataframe.iloc[i]).to_numpy()\n",
    "    y_temparray=pd.DataFrame(originaldataframe.iloc[i+1]).to_numpy()\n",
    "    z_temparray=pd.DataFrame(originaldataframe.iloc[i+2]).to_numpy()\n",
    "    roll_temparray=pd.DataFrame(originaldataframe.iloc[i+3]).to_numpy()\n",
    "    pitch_temparray=pd.DataFrame(originaldataframe.iloc[i+4]).to_numpy()\n",
    "    \n",
    "    xforcearray=np.append(xforcearray,x_temparray.T.flatten())\n",
    "    yforcearray=np.append(yforcearray,y_temparray.T.flatten())\n",
    "    zforcearray=np.append(zforcearray,z_temparray.T.flatten())\n",
    "    rolltorquearray=np.append(rolltorquearray,roll_temparray.T.flatten())\n",
    "    pitchtorquearray=np.append(pitchtorquearray,pitch_temparray.T.flatten())\n",
    "\n",
    "print(xforcearray.shape)\n",
    "print(xforcearray[0:10])"
   ]
  },
  {
   "cell_type": "markdown",
   "metadata": {},
   "source": [
    "## Fit transformers"
   ]
  },
  {
   "cell_type": "code",
   "execution_count": 7,
   "metadata": {},
   "outputs": [
    {
     "name": "stdout",
     "output_type": "stream",
     "text": [
      "fit complete\n"
     ]
    }
   ],
   "source": [
    "#https://scikit-learn.org/stable/auto_examples/preprocessing/plot_all_scaling.html#results\n",
    "\n",
    "xforcearray=np.sort(xforcearray)\n",
    "#xforcearray_transformer = QuantileTransformer(n_quantiles=4, random_state=0)\n",
    "xforcearray_transformer =MinMaxScaler()\n",
    "xforcearray=xforcearray.reshape(-1, 1)\n",
    "xforcearray_transformer.fit(xforcearray)\n",
    "x_transformed=xforcearray_transformer.transform(xforcearray)\n",
    "\n",
    "yforcearray=np.sort(yforcearray)\n",
    "#xforcearray_transformer = QuantileTransformer(n_quantiles=4, random_state=0)\n",
    "yforcearray_transformer =MinMaxScaler()\n",
    "yforcearray=yforcearray.reshape(-1, 1)\n",
    "yforcearray_transformer.fit(yforcearray)\n",
    "y_transformed=yforcearray_transformer.transform(yforcearray)\n",
    "\n",
    "zforcearray=np.sort(zforcearray)\n",
    "#xforcearray_transformer = QuantileTransformer(n_quantiles=4, random_state=0)\n",
    "zforcearray_transformer =MinMaxScaler()\n",
    "zforcearray=zforcearray.reshape(-1, 1)\n",
    "zforcearray_transformer.fit(zforcearray)\n",
    "z_transformed=zforcearray_transformer.transform(zforcearray)\n",
    "\n",
    "rolltorquearray=np.sort(rolltorquearray)\n",
    "#xforcearray_transformer = QuantileTransformer(n_quantiles=4, random_state=0)\n",
    "rolltorquearray_transformer =MinMaxScaler()\n",
    "rolltorquearray=rolltorquearray.reshape(-1, 1)\n",
    "rolltorquearray_transformer.fit(rolltorquearray)\n",
    "roll_transformed=rolltorquearray_transformer.transform(rolltorquearray)\n",
    "\n",
    "pitchtorquearray=np.sort(pitchtorquearray)\n",
    "#pitchtorquearray_transformer= QuantileTransformer(n_quantiles=4, random_state=0)\n",
    "pitchtorquearray_transformer =MinMaxScaler()\n",
    "pitchtorquearray=pitchtorquearray.reshape(-1, 1)\n",
    "pitchtorquearray_transformer.fit(pitchtorquearray)\n",
    "pitch_transformed=pitchtorquearray_transformer.transform(pitchtorquearray)\n",
    "\n",
    "print(\"fit complete\")"
   ]
  },
  {
   "cell_type": "code",
   "execution_count": 8,
   "metadata": {},
   "outputs": [
    {
     "data": {
      "image/png": "[encoded data removed]",
      "text/plain": [
       "<Figure size 1440x720 with 6 Axes>"
      ]
     },
     "metadata": {
      "needs_background": "light"
     },
     "output_type": "display_data"
    }
   ],
   "source": [
    "fig = plt.figure(figsize=(20, 10)) #figsize=(25, 80)\n",
    "ax1 = plt.subplot(2, 3, 1)\n",
    "ax1.plot(xforcearray)\n",
    "plt.title(\"Force:X\")\n",
    "ax2 = plt.subplot(2, 3, 2)\n",
    "ax2.plot(yforcearray)\n",
    "plt.title(\"Force:Y\")\n",
    "ax3 = plt.subplot(2, 3, 3)\n",
    "ax3.plot(zforcearray)\n",
    "plt.title(\"Force:Z\")\n",
    "ax4 = plt.subplot(2, 3, 4)\n",
    "ax4.plot(rolltorquearray)\n",
    "plt.title(\"Torque:Roll\")\n",
    "ax5 = plt.subplot(2, 3, 5)\n",
    "ax5.plot(pitchtorquearray)\n",
    "plt.title(\"Torque:Pitch\")\n",
    "ax6 = plt.subplot(2, 3, 6)    \n",
    "ax6.plot(x_transformed, label=\"Force:X\")\n",
    "ax6.plot(y_transformed, label=\"Force:Y\")\n",
    "ax6.plot(z_transformed, label=\"Force:Z\")\n",
    "ax6.plot(roll_transformed, label=\"Torque:Roll\")\n",
    "ax6.plot(pitch_transformed, label=\"Torque:Pitch\")\n",
    "handles, labels = ax6.get_legend_handles_labels()\n",
    "ax6.legend(handles, labels,loc='lower right')\n",
    "\n",
    "plt.title(\"All plots, Transformed to betwen 0 and 1\")\n",
    "plt.show()"
   ]
  },
  {
   "cell_type": "markdown",
   "metadata": {},
   "source": [
    "## Generate normalized data according to transformers. "
   ]
  },
  {
   "cell_type": "code",
   "execution_count": 9,
   "metadata": {},
   "outputs": [
    {
     "name": "stdout",
     "output_type": "stream",
     "text": [
      "data output to file complete\n"
     ]
    }
   ],
   "source": [
    "originaldataframe=pd.read_csv('forcetorquebuttonresults_unnormalized_09_21_2021.csv')#.head()\n",
    "\n",
    "transformeddataframe=originaldataframe\n",
    "headers=[]\n",
    "for i in range(30):\n",
    "    label=str(i)\n",
    "    headers.append(\"header\"+label)\n",
    "\n",
    "#for i in range(0,575,6):\n",
    "for i in range(0,575,6):\n",
    "   # transformeddataframe.iloc[i]=xforcearray_transformer.transform(originaldataframe.iloc[i])\n",
    "   \n",
    "    x_temparray=pd.DataFrame(originaldataframe.iloc[i]).to_numpy()\n",
    "    #print(x_temparray)\n",
    "    x_temparray=x_temparray.T\n",
    "    #print(x_temparray)\n",
    "    x_temparraytransformed=xforcearray_transformer.transform(x_temparray)\n",
    "    #print(\"x_temparraytransformed\",x_temparraytransformed[0])\n",
    "    transformeddataframe.iloc[i]= x_temparraytransformed[0]\n",
    "    #print(transformeddataframe.iloc[i])\n",
    "    \n",
    "    y_temparray=pd.DataFrame(originaldataframe.iloc[i+1]).to_numpy()\n",
    "    y_temparray=y_temparray.T\n",
    "    y_temparraytransformed=yforcearray_transformer.transform(y_temparray)\n",
    "    transformeddataframe.iloc[i+1]= y_temparraytransformed[0]\n",
    "    \n",
    "    z_temparray=pd.DataFrame(originaldataframe.iloc[i+2]).to_numpy()\n",
    "    z_temparray=z_temparray.T\n",
    "    z_temparraytransformed=zforcearray_transformer.transform(z_temparray)\n",
    "    transformeddataframe.iloc[i+2]= z_temparraytransformed[0]\n",
    "    \n",
    "    roll_temparray=pd.DataFrame(originaldataframe.iloc[i+3]).to_numpy()\n",
    "    roll_temparray=roll_temparray.T\n",
    "    roll_temparraytransformed=rolltorquearray_transformer.transform(roll_temparray)\n",
    "    transformeddataframe.iloc[i+3]= roll_temparraytransformed[0]\n",
    "    \n",
    "    pitch_temparray=pd.DataFrame(originaldataframe.iloc[i+4]).to_numpy()\n",
    "    pitch_temparray=pitch_temparray.T\n",
    "    pitch_temparraytransformed=pitchtorquearray_transformer.transform(pitch_temparray)\n",
    "    transformeddataframe.iloc[i+4]= pitch_temparraytransformed[0]\n",
    "    \n",
    "#uncomment below to update file\n",
    "transformeddataframe.to_csv('forcetorquebuttonresults_renormalized_09_21_2021.csv', index=False)  \n",
    "print(\"data output to file complete\") "
   ]
  },
  {
   "cell_type": "markdown",
   "metadata": {},
   "source": [
    "## Cutting data to final 11 timesteps of every episode"
   ]
  },
  {
   "cell_type": "code",
   "execution_count": 38,
   "metadata": {},
   "outputs": [
    {
     "name": "stdout",
     "output_type": "stream",
     "text": [
      "Empty DataFrame\n",
      "Columns: [header0, header1, header2, header3, header4, header5, header6, header7, header8, header9, header10]\n",
      "Index: []\n"
     ]
    }
   ],
   "source": [
    "\n",
    "choppedheaders=[]\n",
    "for i in range(11):\n",
    "    label=str(i)\n",
    "    choppedheaders.append(\"header\"+label)\n",
    "\n",
    "headers=[]\n",
    "for i in range(30):\n",
    "    label=str(i)\n",
    "    headers.append(\"header\"+label)\n",
    "    \n",
    "normalizeddata=pd.read_csv('forcetorquebuttonresults_renormalized_09_21_2021.csv')#.head()\n",
    "choppeddata= pd.DataFrame(columns=choppedheaders)\n",
    "print(choppeddata)\n"
   ]
  },
  {
   "cell_type": "code",
   "execution_count": 87,
   "metadata": {},
   "outputs": [
    {
     "name": "stdout",
     "output_type": "stream",
     "text": [
      "[0.4214526649653892, 0.4207181907338735, 0.4222225193301544, 0.4194923585535837, 0.42049250963498375, 0.41998638942668215, 0.4188977291632261, 0.4194833437115316, 0.4197231254799746, 0.41960955654168497, 0.43776164836415615]\n",
      "    header0   header1   header2   header3   header4   header5   header6  \\\n",
      "0  0.421453  0.420718  0.422223  0.419492  0.420493  0.419986  0.418898   \n",
      "1  0.421453  0.420718  0.422223  0.419492  0.420493  0.419986  0.418898   \n",
      "\n",
      "    header7   header8  header9  header10  \n",
      "0  0.419483  0.419723  0.41961  0.437762  \n",
      "1  0.419483  0.419723  0.41961  0.437762  \n"
     ]
    }
   ],
   "source": [
    "h=12\n",
    "i=570\n",
    "\n",
    "choppedheaders=[]\n",
    "for i in range(11):\n",
    "    label=str(i)\n",
    "    choppedheaders.append(\"header\"+label)\n",
    "    \n",
    "    \n",
    "a=normalizeddata[headers[(h-10):h+1]].iloc[i+5]\n",
    "a=a.tolist()\n",
    "print(a)\n",
    "\n",
    "df = pd.DataFrame(columns=choppedheaders)\n",
    "#print(\"choppedheaders\",choppedheaders)\n",
    "#print(choppedheaders.type())\n",
    "df.loc[len(df)]=a\n",
    "df.loc[len(df)]=a\n",
    "print(df)\n",
    "  \n",
    "# append rows to an empty DataFrame\n",
    "#df = df.append({'Name' : 'Ankit', 'Articles' : 97, 'Improved' : 2200}, \n",
    "#                ignore_index = True)"
   ]
  },
  {
   "cell_type": "code",
   "execution_count": 101,
   "metadata": {},
   "outputs": [
    {
     "name": "stdout",
     "output_type": "stream",
     "text": [
      "len(headers) 30\n",
      "data output to file complete\n"
     ]
    }
   ],
   "source": [
    "\n",
    "choppedheaders=[]\n",
    "lookback=11 #save only the last 11 timesteps\n",
    "for i in range(lookback):  \n",
    "    label=str(i)\n",
    "    choppedheaders.append(\"header\"+label)\n",
    "\n",
    "choppeddata = pd.DataFrame(columns=choppedheaders)\n",
    "\n",
    "\n",
    "for i in range(0,575,6):\n",
    "    #print(\"\")\n",
    "    for h in range(len(headers)):\n",
    "        successflag=False\n",
    "        if normalizeddata[headers[h]].iloc[i+5]==1:\n",
    "            tempdata0=(normalizeddata[headers[(h-(10)):h+1]].iloc[i]).tolist()\n",
    "            tempdata1=(normalizeddata[headers[(h-(10)):h+1]].iloc[i+1]).tolist()\n",
    "            tempdata2=(normalizeddata[headers[(h-(10)):h+1]].iloc[i+2]).tolist()\n",
    "            tempdata3=(normalizeddata[headers[(h-(10)):h+1]].iloc[i+3]).tolist()\n",
    "            tempdata4=(normalizeddata[headers[(h-(10)):h+1]].iloc[i+4]).tolist()\n",
    "            tempdata5=(normalizeddata[headers[(h-(10)):h+1]].iloc[i+5]).tolist()\n",
    "            \n",
    "            #tempdata=tempdata.tolist()\n",
    "            choppeddata.loc[len(choppeddata)]=tempdata0 #add list of data to new row in dataframe\n",
    "            choppeddata.loc[len(choppeddata)]=tempdata1 \n",
    "            choppeddata.loc[len(choppeddata)]=tempdata2 \n",
    "            choppeddata.loc[len(choppeddata)]=tempdata3 \n",
    "            choppeddata.loc[len(choppeddata)]=tempdata4 \n",
    "            choppeddata.loc[len(choppeddata)]=tempdata5 \n",
    "            successflag=True\n",
    "            break\n",
    "          \n",
    "    if successflag==False:\n",
    "        # if run was not successful, grab the last 11 timesteps from the run. I may need to sample more?\n",
    "        tempdata0=(normalizeddata[headers[(len(headers)-(11)):(len(headers))]].iloc[i]).tolist()\n",
    "        tempdata1=(normalizeddata[headers[(len(headers)-(11)):(len(headers))]].iloc[i+1]).tolist()\n",
    "        tempdata2=(normalizeddata[headers[(len(headers)-(11)):(len(headers))]].iloc[i+2]).tolist()\n",
    "        tempdata3=(normalizeddata[headers[(len(headers)-(11)):(len(headers))]].iloc[i+3]).tolist()\n",
    "        tempdata4=(normalizeddata[headers[(len(headers)-(11)):(len(headers))]].iloc[i+4]).tolist()\n",
    "        tempdata5=(normalizeddata[headers[(len(headers)-(11)):(len(headers))]].iloc[i+5]).tolist()\n",
    "        choppeddata.loc[len(choppeddata)]=tempdata0 #add list of data to new row in dataframe\n",
    "        choppeddata.loc[len(choppeddata)]=tempdata1 \n",
    "        choppeddata.loc[len(choppeddata)]=tempdata2 \n",
    "        choppeddata.loc[len(choppeddata)]=tempdata3 \n",
    "        choppeddata.loc[len(choppeddata)]=tempdata4 \n",
    "        choppeddata.loc[len(choppeddata)]=tempdata5 \n",
    "\n",
    "            \n",
    "            \n",
    "            #print(\"col:\",headers[(h-11):h],\"row:\", i+5)\n",
    "            #print(\"values:\",normalizeddata[headers[(h-11):h+1]].iloc[i+5])\n",
    "            \n",
    "            \n",
    "            \n",
    "            \n",
    "choppeddata.to_csv('choppeddata_9_21_2021.csv', index=False)  \n",
    "print(\"data output to file complete\")          "
   ]
  }
 ],
 "metadata": {
  "kernelspec": {
   "display_name": "Python 3",
   "language": "python",
   "name": "python3"
  },
  "language_info": {
   "codemirror_mode": {
    "name": "ipython",
    "version": 3
   },
   "file_extension": ".py",
   "mimetype": "text/x-python",
   "name": "python",
   "nbconvert_exporter": "python",
   "pygments_lexer": "ipython3",
   "version": "3.6.9"
  }
 },
 "nbformat": 4,
 "nbformat_minor": 4
}
