{
 "cells": [
  {
   "cell_type": "markdown",
   "metadata": {},
   "source": [
    "In this notebook, we'll be using a GRU model for a time series prediction task and we will compare the performance of the GRU model against an LSTM model as well. The dataset that we will be using is the Hourly Energy Consumption dataset which can be found on [Kaggle](https://www.kaggle.com/robikscube/hourly-energy-consumption). The dataset contains power consumption data across different regions around the United States recorded on an hourly basis.\n",
    "\n",
    "You can run the code implementation in this article on FloydHub using their GPUs on the cloud by clicking the following link and using the main.ipynb notebook.\n",
    "\n",
    "[![Run on FloydHub](https://static.floydhub.com/button/button-small.svg)](https://floydhub.com/run?template=https://github.com/gabrielloye/https://github.com/gabrielloye/GRU_Prediction)\n",
    "\n",
    "This will speed up the training process significantly. Alternatively, the link to the GitHub repository can be found [here]().\n",
    "\n",
    "The goal of this implementation is to create a model that can accurately predict the energy usage in the next hour given historical usage data. We will be using both the GRU and LSTM model to train on a set of historical data and evaluate both models on an unseen test set. To do so, we’ll start with feature selection, data-preprocessing, followed by defining, training and eventually evaluating the models.\n",
    "\n",
    "We will be using the PyTorch library to implement both types of models along with other common Python libraries used in data analytics."
   ]
  },
  {
   "cell_type": "code",
   "execution_count": 13,
   "metadata": {},
   "outputs": [],
   "source": [
    "#https://www.python-engineer.com/posts/pytorch-rnn-lstm-gru/\n",
    "\n",
    "#https://blog.floydhub.com/gru-with-pytorch/\n",
    "\n",
    "import os\n",
    "import time\n",
    "import csv\n",
    "import numpy as np\n",
    "import pandas as pd\n",
    "import matplotlib.pyplot as plt\n",
    "\n",
    "import random\n",
    "from datetime import datetime\n",
    "\n",
    "import torch\n",
    "import torch.nn as nn\n",
    "from torch.utils.data import TensorDataset, DataLoader\n",
    "import torch.nn.functional as F\n",
    "import torch.optim as optim\n",
    "\n",
    "from tqdm import tqdm_notebook\n",
    "from sklearn.preprocessing import MinMaxScaler,QuantileTransformer\n",
    "from sklearn.model_selection import train_test_split\n",
    "\n",
    "\n",
    "\n",
    "\n",
    "\n",
    "\n",
    "### Local ###\n",
    "#from data_processing import *\n",
    "\n",
    "\n",
    "\n",
    "# Define data root directory\n",
    "\n",
    "#data_dir = \"./data/\"\n",
    "#print(os.listdir(data_dir))"
   ]
  },
  {
   "cell_type": "markdown",
   "metadata": {},
   "source": [
    "We have a total of **12** *.csv* files containing hourly energy trend data (*'est_hourly.paruqet'* and *'pjm_hourly_est.csv'* are not used). In our next step, we will be reading these files and pre-processing these data in this order:\n",
    "- Getting the time data of each individual time step and generalizing them\n",
    "    - Hour of the day *i.e. 0-23*\n",
    "    - Day of the week *i.e. 1-7*\n",
    "    - Month *i.e. 1-12*\n",
    "    - Day of the year *i.e. 1-365*\n",
    "    \n",
    "    \n",
    "- Scale the data to values between 0 and 1\n",
    "    - Algorithms tend to perform better or converge faster when features are on a relatively similar scale and/or close to normally distributed\n",
    "    - Scaling preserves the shape of the original distribution and doesn't reduce the importance of outliers.\n",
    "    \n",
    "    \n",
    "- Group the data into sequences to be used as inputs to the model and store their corresponding labels\n",
    "    - The **sequence length** or **lookback period** is the number of data points in history that the model will use to make the prediction\n",
    "    - The label will be the next data point in time after the last one in the input sequence\n",
    "    \n",
    "\n",
    "- The inputs and labels will then be split into training and test sets"
   ]
  },
  {
   "cell_type": "code",
   "execution_count": 14,
   "metadata": {},
   "outputs": [
    {
     "name": "stdout",
     "output_type": "stream",
     "text": [
      "cuda\n"
     ]
    }
   ],
   "source": [
    "# torch.cuda.is_available() checks and returns a Boolean True if a GPU is available, else it'll return False\n",
    "is_cuda = torch.cuda.is_available()\n",
    "\n",
    "# If we have a GPU available, we'll set our device to GPU. We'll use this device variable later in our code.\n",
    "if is_cuda:\n",
    "    device = torch.device(\"cuda\")\n",
    "else:\n",
    "    device = torch.device(\"cpu\")\n",
    "    \n",
    "print(device)\n",
    "\n",
    "\n",
    "def get_torch_device( v=0 ):\n",
    "    # torch.cuda.is_available() checks and returns a Boolean True if a GPU is available, else it'll return False\n",
    "    is_cuda = torch.cuda.is_available()\n",
    "    # If we have a GPU available, we'll set our device to GPU. We'll use this device variable later in our code.\n",
    "    if is_cuda:\n",
    "        device = torch.device(\"cuda\")\n",
    "        if v:  print( \"CUDA Available!\" )\n",
    "    else:\n",
    "        device = torch.device(\"cpu\")\n",
    "        if v:  print( \"NO CUDA\" )\n",
    "    return device"
   ]
  },
  {
   "cell_type": "code",
   "execution_count": 15,
   "metadata": {},
   "outputs": [
    {
     "name": "stdout",
     "output_type": "stream",
     "text": [
      "(1440, 10)\n",
      "(3960, 10)\n",
      "(5400, 10)\n"
     ]
    }
   ],
   "source": [
    "#choppeddata=pd.read_csv('choppeddata_10_06_2021.csv')#.head()\n",
    "choppeddata1=pd.read_csv('choppeddata_10_04_2021_equalsuccessfail.csv')#.head()\n",
    "choppeddata2=pd.read_csv('choppeddata_10_06_2021_equalsuccessfail.csv')#.head()\n",
    "print(choppeddata1.shape)\n",
    "print(choppeddata2.shape)\n",
    "frames = [choppeddata1, choppeddata2]\n",
    "choppeddata = pd.concat(frames)\n",
    "print(choppeddata.shape)"
   ]
  },
  {
   "cell_type": "code",
   "execution_count": 16,
   "metadata": {},
   "outputs": [
    {
     "name": "stdout",
     "output_type": "stream",
     "text": [
      "(5400, 10)\n",
      "total runs: 900\n"
     ]
    }
   ],
   "source": [
    "print(choppeddata.shape)\n",
    "runqty=int(choppeddata.shape[0]/6)\n",
    "print(\"total runs:\",runqty)\n",
    "choppedheaders=[]\n",
    "lookback=10 #save only the last 11 timesteps\n",
    "for i in range(lookback):  \n",
    "    label=str(i)\n",
    "    choppedheaders.append(\"header\"+label)\n",
    "\n",
    "#put chopped data in np.arrays\n",
    "State=np.zeros((runqty,5,lookback)) #96 runs,with 5 sets of data (x,y,z,roll,pitch) each, and each run is 11 timesteps long\n",
    "Labels=np.zeros((runqty,lookback)) #96 runs, each run is 11 timesteps long\n",
    "runcounter=0\n",
    "\n",
    "for i in range(0,choppeddata.shape[0],6):\n",
    "            State[runcounter][0][:]=(choppeddata[choppedheaders[:]].iloc[i]).tolist()\n",
    "            State[runcounter][1][:]=(choppeddata[choppedheaders[:]].iloc[i+1]).tolist()\n",
    "            State[runcounter][2][:]=(choppeddata[choppedheaders[:]].iloc[i+2]).tolist()\n",
    "            State[runcounter][3][:]=(choppeddata[choppedheaders[:]].iloc[i+3]).tolist()\n",
    "            State[runcounter][4][:]=(choppeddata[choppedheaders[:]].iloc[i+4]).tolist()\n",
    "            Labels[runcounter][:]=(choppeddata[choppedheaders[:]].iloc[i+5]).tolist()  #labels   \n",
    "            runcounter+=1\n",
    "#print(State[0])\n",
    "#print(Labels)\n",
    "#print(Labels[:,9]) #just getting finals labels"
   ]
  },
  {
   "cell_type": "code",
   "execution_count": 17,
   "metadata": {},
   "outputs": [
    {
     "name": "stdout",
     "output_type": "stream",
     "text": [
      "x.shape (900, 5, 10)\n",
      "Test set Y size 11250\n",
      "Train set Y size 675\n",
      "Test set C size 11250\n",
      "Test set Y size 225\n"
     ]
    }
   ],
   "source": [
    "#X= range(0,575,6)\n",
    "#y= range(0,575,6)\n",
    "\n",
    "X=State\n",
    "y=Labels[:,lookback-1]\n",
    "print(\"x.shape\",X.shape)\n",
    "\n",
    "y=y.reshape(runqty,1)\n",
    "\n",
    "random_seed=int(time.time())\n",
    "#print(int(time.time()))\n",
    "train_x, test_x, train_y,test_y = train_test_split(X, y, test_size=.25, #0.33, \n",
    "                                                   random_state=random_seed)\n",
    "#print(\"Train\")\n",
    "#print(train_x[0])\n",
    "#print(train_y[0])\n",
    "print(\"Test set Y size\", test_x.size)\n",
    "print(\"Train set Y size\", train_y.size)\n",
    "#print(test_x[0])\n",
    "#print(test_y[0])\n",
    "print(\"Test set C size\", test_x.size)\n",
    "print(\"Test set Y size\", test_y.size)"
   ]
  },
  {
   "cell_type": "markdown",
   "metadata": {},
   "source": [
    "We have a total of 980,185 sequences of training data\n",
    "\n",
    "To improve the speed of our training, we can process the data in batches so that the model does not need to update its weights as frequently. The Torch *Dataset* and *DataLoader* classes are useful for splitting our data into batches and shuffling them."
   ]
  },
  {
   "cell_type": "code",
   "execution_count": 18,
   "metadata": {},
   "outputs": [
    {
     "name": "stdout",
     "output_type": "stream",
     "text": [
      "<torch.utils.data.dataloader.DataLoader object at 0x7f0741cefc90>\n"
     ]
    }
   ],
   "source": [
    "batch_size = 4\n",
    "#a batch size of 64, i.e. each element in the dataloader iterable will return a batch of 64 features and labels.\n",
    "\n",
    "train_data = TensorDataset(torch.from_numpy(train_x), torch.from_numpy(train_y))\n",
    "train_loader = DataLoader(train_data, shuffle=True, batch_size=batch_size, drop_last=True)\n",
    "\n",
    "test_data   = TensorDataset( torch.from_numpy( test_x ), torch.from_numpy( test_y ) )\n",
    "test_loader = DataLoader( test_data, shuffle = True, batch_size = batch_size, drop_last = True )\n",
    "print(train_loader)"
   ]
  },
  {
   "cell_type": "markdown",
   "metadata": {},
   "source": [
    "We can also check if we have any GPUs to speed up our training time by many folds. If you’re using FloydHub with GPU to run this code, the training time will be significantly reduced."
   ]
  },
  {
   "cell_type": "code",
   "execution_count": 19,
   "metadata": {},
   "outputs": [],
   "source": [
    "class GRUNet(nn.Module):\n",
    "    def __init__(self, input_dim, hidden_dim, output_dim, n_layers, drop_prob=0.2):\n",
    "        super(GRUNet, self).__init__()\n",
    "        self.hidden_dim = hidden_dim\n",
    "        self.n_layers = n_layers\n",
    "        \n",
    "        self.gru = nn.GRU(input_dim, hidden_dim, n_layers, batch_first=True, dropout=drop_prob)\n",
    "        self.fc = nn.Linear(hidden_dim, output_dim)\n",
    "        self.relu = nn.ReLU()\n",
    "        \n",
    "    def forward(self, x, h):\n",
    "        out, h = self.gru(x, h)\n",
    "        out = self.fc(self.relu(out[:,-1]))\n",
    "        return out, h\n",
    "    \n",
    "    def init_hidden(self, batch_size):\n",
    "        weight = next(self.parameters()).data\n",
    "        hidden = weight.new(self.n_layers, batch_size, self.hidden_dim).zero_().to(device)\n",
    "        return hidden\n",
    "def train(train_loader, learn_rate, hidden_dim=128, EPOCHS=400, model_type=\"GRU\"):\n",
    "\n",
    "    losslist=[]\n",
    "    # Setting common hyperparameters\n",
    "    input_dim = next(iter(train_loader))[0].shape[2]  #  = 11\n",
    "    #print(input_dim)\n",
    "    #print(\"input_dim\",input_dim)\n",
    "    output_dim = 1\n",
    "    n_layers = 2\n",
    "    # Instantiating the models\n",
    "    if model_type == \"GRU\":\n",
    "        model = GRUNet(input_dim, hidden_dim, output_dim, n_layers)\n",
    "    else:\n",
    "        model = LSTMNet(input_dim, hidden_dim, output_dim, n_layers)\n",
    "    model.to(device)\n",
    "    \n",
    "    # Defining loss function and optimizer\n",
    "    criterion = nn.MSELoss()\n",
    "    optimizer = torch.optim.Adam(model.parameters(), lr=learn_rate)\n",
    "    \n",
    "    model.train()\n",
    "    print(\"Starting Training of {} model\".format(model_type))\n",
    "    epoch_times = []\n",
    "    # Start training loop\n",
    "    for epoch in range(1,EPOCHS+1):\n",
    "        start_time = time.clock()\n",
    "        h = model.init_hidden(batch_size)\n",
    "        avg_loss = 0.\n",
    "        counter = 0\n",
    "        for x, label in train_loader:\n",
    "            #print(\"x\",x)\n",
    "            #print(\"label\",label)\n",
    "            counter += 1\n",
    "            if model_type == \"GRU\":\n",
    "                h = h.data\n",
    "            else:\n",
    "                h = tuple([e.data for e in h])\n",
    "            model.zero_grad()\n",
    "            \n",
    "            out, h = model(x.to(device).float(), h)\n",
    "            #print(\"out\",out)\n",
    "            loss = criterion(out, label.to(device).float())\n",
    "            loss.backward()\n",
    "            optimizer.step()\n",
    "            avg_loss += loss.item()\n",
    "            \n",
    "            if counter%20000 == 0:\n",
    "                print(\"Epoch {}......Step: {}/{}....... Average Loss for Epoch: {}\".format(epoch, counter, len(train_loader), avg_loss/counter))\n",
    "        current_time = time.clock()\n",
    "        if epoch%40 == 0:\n",
    "            print(\"Epoch {}/{} Done, Total Loss: {}   Time Elapsed: {} seconds\".format(epoch, EPOCHS, avg_loss/len(train_loader),str(current_time-start_time)))\n",
    "        \n",
    "            #print(\"Total\".format())\n",
    "        losslist.append(avg_loss/len(train_loader))\n",
    "        epoch_times.append(current_time-start_time)\n",
    "    print(\"Total Training Time: {} seconds\".format(str(sum(epoch_times))))\n",
    "    plt.plot(losslist)\n",
    "    plt.title(\"Loss\")\n",
    "    plt.show()\n",
    "    return model\n",
    "\n",
    "def evaluate(model, test_x, test_y):\n",
    "    model.eval()\n",
    "    outputs = []\n",
    "    targets = []\n",
    "    start_time = time.clock()\n",
    "    #for i in test_x.keys():\n",
    "    for i in range( len( test_x ) ):    \n",
    "        inp = torch.from_numpy(np.array(test_x[i])) # should be 5x1\n",
    "        labs = torch.from_numpy(np.array(test_y[i])) #should be 1x1\n",
    "        h = model.init_hidden(inp.shape[0])\n",
    "        #print(\"inp\",inp)\n",
    "        #print(\"labs\",labs)\n",
    "        #print(\"h\",h)\n",
    "        out, h = model(inp.to(device).float(), h)\n",
    "        #outputs.append(label_scalers[i].inverse_transform(out.cpu().detach().numpy()).reshape(-1))\n",
    "        #targets.append(label_scalers[i].inverse_transform(labs.numpy()).reshape(-1))\n",
    "        outputs.append( out.cpu().detach().numpy().reshape(-1) )\n",
    "        targets.append( labs.numpy().reshape(-1) )\n",
    "        \n",
    "    print(\"Evaluation Time: {}\".format(str(time.clock()-start_time)))\n",
    "    sMAPE = 0\n",
    "    for i in range(len(outputs)):\n",
    "        sMAPE += np.mean(abs(outputs[i]-targets[i])/(targets[i]+outputs[i])/2)/len(outputs)\n",
    "    print(\"sMAPE: {}%\".format(sMAPE*100))\n",
    "    return outputs, targets, sMAPE\n",
    "                               \n",
    "def evaluate2(model, test_x, test_y):\n",
    "    model.eval()\n",
    "    outputs = []\n",
    "    targets = []  #labels\n",
    "    start_time = time.clock()\n",
    "    #for i in test_x.keys():\n",
    "    #for i in range( len( test_x ) ):    \n",
    "    inp = torch.from_numpy(np.array(test_x)) # should be 5x1\n",
    "    labs = torch.from_numpy(np.array(test_y)) #should be 1x1\n",
    "    h = model.init_hidden(inp.shape[0])\n",
    "    #print(\"inp\",inp)\n",
    "    #print(\"labs\",labs)\n",
    "    #print(\"h\",h)\n",
    "    out, h = model(inp.to(device).float(), h)\n",
    "    #outputs.append(label_scalers[i].inverse_transform(out.cpu().detach().numpy()).reshape(-1))\n",
    "    #targets.append(label_scalers[i].inverse_transform(labs.numpy()).reshape(-1))\n",
    "    outputs.append( out.cpu().detach().numpy().reshape(-1) )\n",
    "    targets.append( labs.numpy().reshape(-1) )\n",
    "        \n",
    "    print(\"Evaluation Time: {}\".format(str(time.clock()-start_time)))\n",
    "    sMAPE = 0\n",
    "    for i in range(len(outputs)):\n",
    "        sMAPE += np.mean(abs(outputs[i]-targets[i])/(targets[i]+outputs[i])/2)/len(outputs)\n",
    "    print(\"sMAPE: {}%\".format(sMAPE*100))\n",
    "    return outputs, targets, sMAPE                               \n",
    "\n",
    "def evaluatefull(model, train_x, train_y, test_x, test_y,maxdifference=0.2, verbose=False):\n",
    "\n",
    "    m = nn.ReLU()\n",
    "    #m = nn.Sigmoid()\n",
    "    #output = m(input)\n",
    "    print(\"Vs Training Set\")\n",
    "    gru_outputs, targets, gru_sMAPE = evaluate2(gru_model, train_x, train_y)\n",
    "    #print(test_y)\n",
    "    #print(gru_outputs)\n",
    "    #print(gru_outputs[0][5])\n",
    "\n",
    "\n",
    "    testy=test_y.reshape(-1)\n",
    "    trainy=train_y.reshape(-1)\n",
    "\n",
    "\n",
    "    #print(\"Train size:\",trainy.size)\n",
    "    print(gru_outputs[0][4])\n",
    "    train_successcounter=0\n",
    "    for i in range(int(trainy.size)):\n",
    "        #print(testy[i],gru_outputs[0][i],m(torch.tensor(gru_outputs[0][i])))\n",
    "        #print(train[i],gru_outputs[0][i],m(torch.tensor(gru_outputs[0][i])))\n",
    "\n",
    "\n",
    "        #print(trainy[i],gru_outputs[0][i], m(torch.tensor(gru_outputs[0][i])))\n",
    "\n",
    "\n",
    "        if abs(trainy[i]-gru_outputs[0][i])<maxdifference :\n",
    "            train_successcounter+=1\n",
    "        #print(testy[i])\n",
    "        #print\n",
    "        #output = m(input)\n",
    "\n",
    "\n",
    "\n",
    "    test_successcounter=0\n",
    "    print(\"Vs Test Set\")\n",
    "    gru_outputs, targets, gru_sMAPE = evaluate2(gru_model, test_x, test_y)\n",
    "    #print(\"test size: \",testy.size)\n",
    "\n",
    "    for i in range(int(testy.size)):\n",
    "\n",
    "\n",
    "        #, m(torch.tensor(gru_outputs[0][i])))\n",
    "\n",
    "\n",
    "        if abs(testy[i]-gru_outputs[0][i])<maxdifference :\n",
    "            test_successcounter+=1\n",
    "            if verbose==True:\n",
    "                print(testy[i],gru_outputs[0][i], \"OK\" )\n",
    "        else:\n",
    "            if verbose==True:\n",
    "                print(testy[i],gru_outputs[0][i], \"X\" )\n",
    "            #print(testy[i])\n",
    "        #print\n",
    "        #output = m(input)\n",
    "    print(\"\")\n",
    "    print(\" vs training data=\" ,train_successcounter,\"/\",trainy.size, \" vs test data=\" ,\n",
    "          test_successcounter,\"/\",testy.size,int(100*test_successcounter/testy.size),\"%\", \"at max difference\",maxdifference )\n",
    "    return ( train_successcounter ,test_successcounter)\n",
    "\n",
    "\n"
   ]
  },
  {
   "cell_type": "code",
   "execution_count": 20,
   "metadata": {},
   "outputs": [
    {
     "name": "stdout",
     "output_type": "stream",
     "text": [
      "x.shape (900, 5, 10)\n",
      "Starting Training of GRU model\n"
     ]
    },
    {
     "name": "stderr",
     "output_type": "stream",
     "text": [
      "/home/scott/anaconda3/envs/thesis/lib/python3.7/site-packages/ipykernel_launcher.py:45: DeprecationWarning: time.clock has been deprecated in Python 3.3 and will be removed from Python 3.8: use time.perf_counter or time.process_time instead\n",
      "/home/scott/anaconda3/envs/thesis/lib/python3.7/site-packages/ipykernel_launcher.py:68: DeprecationWarning: time.clock has been deprecated in Python 3.3 and will be removed from Python 3.8: use time.perf_counter or time.process_time instead\n"
     ]
    },
    {
     "name": "stdout",
     "output_type": "stream",
     "text": [
      "Epoch 40/400 Done, Total Loss: 0.06357896540326433   Time Elapsed: 0.3338050000000017 seconds\n",
      "Epoch 80/400 Done, Total Loss: 0.03824003696181102   Time Elapsed: 0.336075000000001 seconds\n",
      "Epoch 120/400 Done, Total Loss: 0.021012369704684324   Time Elapsed: 0.33417999999999637 seconds\n",
      "Epoch 160/400 Done, Total Loss: 0.01988982594758411   Time Elapsed: 0.33264299999999736 seconds\n",
      "Epoch 200/400 Done, Total Loss: 0.012661660934966113   Time Elapsed: 0.32404099999999403 seconds\n",
      "Epoch 240/400 Done, Total Loss: 0.013495476071728348   Time Elapsed: 0.3335209999999904 seconds\n",
      "Epoch 280/400 Done, Total Loss: 0.009456205845167244   Time Elapsed: 0.3386509999999987 seconds\n",
      "Epoch 320/400 Done, Total Loss: 0.00829827775671566   Time Elapsed: 0.3346250000000026 seconds\n",
      "Epoch 360/400 Done, Total Loss: 0.004471902155750112   Time Elapsed: 0.33835100000001717 seconds\n",
      "Epoch 400/400 Done, Total Loss: 0.00667905818331097   Time Elapsed: 0.3367839999999944 seconds\n",
      "Total Training Time: 134.02700100000015 seconds\n"
     ]
    },
    {
     "data": {
      "image/png": "[encoded data removed]",
      "text/plain": [
       "<Figure size 432x288 with 1 Axes>"
      ]
     },
     "metadata": {
      "needs_background": "light"
     },
     "output_type": "display_data"
    },
    {
     "name": "stdout",
     "output_type": "stream",
     "text": [
      "Vs Training Set\n",
      "Evaluation Time: 0.0017100000000027649\n",
      "sMAPE: 3.4859063614425265%\n",
      "0.9986303\n",
      "Vs Test Set\n",
      "Evaluation Time: 0.0007420000000024629\n",
      "sMAPE: 9.06711065722803%\n",
      "\n",
      " vs training data= 671 / 675  vs test data= 171 / 225 76 % at max difference 0.2\n",
      "Vs Training Set\n",
      "Evaluation Time: 0.0016750000000058662\n",
      "sMAPE: 3.4859063614425265%\n",
      "0.9986303\n",
      "Vs Test Set\n",
      "Evaluation Time: 0.00070999999999799\n",
      "sMAPE: 9.06711065722803%\n",
      "\n",
      " vs training data= 672 / 675  vs test data= 187 / 225 83 % at max difference 0.3\n",
      "Vs Training Set\n",
      "Evaluation Time: 0.0017259999999907905\n",
      "sMAPE: 3.4859063614425265%\n",
      "0.9986303\n",
      "Vs Test Set\n",
      "Evaluation Time: 0.0008180000000095333\n",
      "sMAPE: 9.06711065722803%\n",
      "\n",
      " vs training data= 674 / 675  vs test data= 193 / 225 85 % at max difference 0.4\n",
      "Vs Training Set\n",
      "Evaluation Time: 0.0020499999999969987\n",
      "sMAPE: 3.4859063614425265%\n",
      "0.9986303\n",
      "Vs Test Set\n",
      "Evaluation Time: 0.0011310000000150922\n",
      "sMAPE: 9.06711065722803%\n",
      "\n",
      " vs training data= 674 / 675  vs test data= 198 / 225 88 % at max difference 0.5\n"
     ]
    },
    {
     "name": "stderr",
     "output_type": "stream",
     "text": [
      "/home/scott/anaconda3/envs/thesis/lib/python3.7/site-packages/ipykernel_launcher.py:111: DeprecationWarning: time.clock has been deprecated in Python 3.3 and will be removed from Python 3.8: use time.perf_counter or time.process_time instead\n",
      "/home/scott/anaconda3/envs/thesis/lib/python3.7/site-packages/ipykernel_launcher.py:126: DeprecationWarning: time.clock has been deprecated in Python 3.3 and will be removed from Python 3.8: use time.perf_counter or time.process_time instead\n"
     ]
    }
   ],
   "source": [
    "lr = 0.001\n",
    "batch_size = 4\n",
    "#a batch size of 64, i.e. each element in the dataloader iterable will return a batch of 64 features and labels.\n",
    "\n",
    "X=State\n",
    "y=Labels[:,lookback-1]\n",
    "print(\"x.shape\",X.shape)\n",
    "y=y.reshape(runqty,1)\n",
    "\n",
    "\n",
    "random_seed=int(time.time())\n",
    "train_x, test_x, train_y,test_y = train_test_split(X, y, test_size=.25, #0.33, \n",
    "                                                   random_state=random_seed)\n",
    "\n",
    "train_data = TensorDataset(torch.from_numpy(train_x), torch.from_numpy(train_y))\n",
    "train_loader = DataLoader(train_data, shuffle=True, batch_size=batch_size, drop_last=True)\n",
    "test_data   = TensorDataset( torch.from_numpy( test_x ), torch.from_numpy( test_y ) )\n",
    "test_loader = DataLoader( test_data, shuffle = True, batch_size = batch_size, drop_last = True )\n",
    "\n",
    "\n",
    "gru_model = train(train_loader, lr , hidden_dim=128, EPOCHS=400, model_type=\"GRU\")\n",
    "train2 ,test2=evaluatefull(gru_model, train_x, train_y, test_x, test_y,maxdifference=.2)\n",
    "train3 ,test3=evaluatefull(gru_model, train_x, train_y, test_x, test_y,maxdifference=.3)\n",
    "train4 ,test4=evaluatefull(gru_model, train_x, train_y, test_x, test_y,maxdifference=.4)\n",
    "train5 ,test5=evaluatefull(gru_model, train_x, train_y, test_x, test_y,maxdifference=.5)\n",
    "\n"
   ]
  },
  {
   "cell_type": "code",
   "execution_count": null,
   "metadata": {},
   "outputs": [],
   "source": []
  },
  {
   "cell_type": "code",
   "execution_count": 28,
   "metadata": {},
   "outputs": [],
   "source": [
    "def evaluate_episode(model, data,  maxdifference=0.2, verbose=False):\n",
    "\n",
    "   \n",
    "    model.eval()\n",
    "    inp = torch.from_numpy(np.array(data)) # should be 5x1\n",
    "    h = model.init_hidden(inp.shape[0])\n",
    "    #print(\"inp\",inp)\n",
    "    #print(\"labs\",labs)\n",
    "    #print(\"h\",h)\n",
    "    out, h = model(inp.to(device).float(), h)\n",
    "    print(\"model output\",out)\n",
    "    return out"
   ]
  },
  {
   "cell_type": "code",
   "execution_count": 22,
   "metadata": {},
   "outputs": [
    {
     "name": "stdout",
     "output_type": "stream",
     "text": [
      "10_09_2021\n",
      "model saved\n"
     ]
    },
    {
     "name": "stderr",
     "output_type": "stream",
     "text": [
      "/home/scott/anaconda3/envs/thesis/lib/python3.7/site-packages/torch/serialization.py:360: UserWarning: Couldn't retrieve source code for container of type GRUNet. It won't be checked for correctness upon loading.\n",
      "  \"type \" + obj.__name__ + \". It won't be checked \"\n"
     ]
    }
   ],
   "source": [
    "import time\n",
    "from datetime import date\n",
    "\n",
    "today = date.today()    \n",
    "todaydate = today.strftime(\"%m_%d_%Y\")\n",
    "print(todaydate)\n",
    "torch.save(gru_model,\"currentmodel_\"+todaydate+\".pt\")\n",
    "print(\"model saved\")"
   ]
  },
  {
   "cell_type": "markdown",
   "metadata": {
    "tags": []
   },
   "source": [
    "## Test model on new data"
   ]
  },
  {
   "cell_type": "code",
   "execution_count": 58,
   "metadata": {},
   "outputs": [
    {
     "data": {
      "text/plain": [
       "5"
      ]
     },
     "execution_count": 58,
     "metadata": {},
     "output_type": "execute_result"
    }
   ],
   "source": [
    "random.randint(0,7)"
   ]
  },
  {
   "cell_type": "code",
   "execution_count": 25,
   "metadata": {},
   "outputs": [
    {
     "name": "stdout",
     "output_type": "stream",
     "text": [
      "loaded\n"
     ]
    }
   ],
   "source": [
    "#gru_model2 = GRUNet(*args, **kwargs)\n",
    "    \n",
    "gru_model3=torch.load('currentmodel_10_09_2021.pt')\n",
    "gru_model3.eval()\n",
    "print(\"loaded\")"
   ]
  },
  {
   "cell_type": "code",
   "execution_count": 52,
   "metadata": {},
   "outputs": [
    {
     "name": "stdout",
     "output_type": "stream",
     "text": [
      "(225, 5, 10)\n",
      "(5, 10)\n",
      "(5, 3)\n",
      "[[-0.41598449 -0.48132973 -0.44741783 -0.49742732 -0.46301374 -0.45173812\n",
      "  -0.46220655 -0.41048059]\n",
      " [ 0.79108181  0.94027185  1.12645254  1.4330987   1.62386818  1.92677612\n",
      "   2.16939278  2.38598022]\n",
      " [ 0.23628934  0.20311255  0.34421491  0.29940971  0.30118705  0.44750244\n",
      "   0.40626368  0.3069746 ]\n",
      " [-0.59817326 -0.68643975 -0.80639684 -1.05010879 -1.22281921 -1.47080076\n",
      "  -1.69736433 -1.91802967]\n",
      " [-0.43602973 -0.46514735 -0.45832756 -0.47793537 -0.48555279 -0.43413097\n",
      "  -0.41795737 -0.40478635]]\n"
     ]
    }
   ],
   "source": [
    "print(test_x.shape)\n",
    "print(test_x[207].shape)\n",
    "print(test_x[207, 0:5, 0:3].shape)\n",
    "print(test_x[207, 0:5, 0:8])\n",
    "#print(test_x[207][0:2])"
   ]
  },
  {
   "cell_type": "code",
   "execution_count": 65,
   "metadata": {},
   "outputs": [
    {
     "name": "stdout",
     "output_type": "stream",
     "text": [
      "index= 127\n",
      "(1, 5, 10)\n",
      "model output tensor([[0.1675]], device='cuda:0', grad_fn=<AddmmBackward>)\n",
      "actual [0.]\n"
     ]
    }
   ],
   "source": [
    "\n",
    "\"\"\"\n",
    "exampledata=np.expand_dims(test_x[207, 0:5, 0:8], axis=0)\n",
    "\n",
    "print(exampledata.shape)\n",
    "evaluate_episode(gru_model3, exampledata)\n",
    "\n",
    "print(\"actual\",test_y[207])\n",
    "\n",
    "\"\"\"\n",
    "randomindex=random.randint(0,225)\n",
    "print(\"index=\",randomindex)\n",
    "\n",
    "exampledata=np.expand_dims(test_x[randomindex, 0:5, 0:10], axis=0)\n",
    "\n",
    "print(exampledata.shape)\n",
    "evaluate_episode(gru_model3, exampledata)\n",
    "\n",
    "print(\"actual\",test_y[randomindex])"
   ]
  },
  {
   "cell_type": "code",
   "execution_count": 61,
   "metadata": {},
   "outputs": [
    {
     "name": "stdout",
     "output_type": "stream",
     "text": [
      "torch.Size([225, 5, 10])\n"
     ]
    }
   ],
   "source": [
    "model=gru_model\n",
    "i=1\n",
    "inp = torch.from_numpy(np.array(test_x))\n",
    "labs = torch.from_numpy(np.array(test_y))\n",
    "#h = model.init_hidden(inp.shape[0])\n",
    "h = model.init_hidden(inp.shape[0])\n",
    "#print(\"inp\",inp)\n",
    "\n",
    "#print(\"INP SHAPE\",inp.shape)\n",
    "#print(\"INP SHAPE[0]\",inp.shape[0])\n",
    "#print(\"labs\",labs)\n",
    "#print(\"h\",h)\n",
    "#print(\"h.shape\",h.shape)\n",
    "#print(inp.to(device).float())\n",
    "#print(inp.to(device).float().shape)\n",
    "print(inp.to(device).float().shape)\n",
    "\n",
    "out, h = model(inp.to(device).float(), h)\n",
    "#print(out)"
   ]
  },
  {
   "cell_type": "code",
   "execution_count": null,
   "metadata": {},
   "outputs": [],
   "source": [
    "#print(test_y.reshape(-1))\n"
   ]
  },
  {
   "cell_type": "markdown",
   "metadata": {},
   "source": [
    "## hyperparameter testing"
   ]
  },
  {
   "cell_type": "code",
   "execution_count": null,
   "metadata": {
    "scrolled": true
   },
   "outputs": [],
   "source": [
    "lr = 0.001\n",
    "batch_size = 4\n",
    "#a batch size of 64, i.e. each element in the dataloader iterable will return a batch of 64 features and labels.\n",
    "\n",
    "X=State\n",
    "y=Labels[:,lookback-1]\n",
    "print(\"x.shape\",X.shape)\n",
    "y=y.reshape(runqty,1)\n",
    "\n",
    "\n",
    "\n",
    "#print(int(time.time()))\n",
    "\n",
    "trainlist2=[]\n",
    "testlist2=[]\n",
    "trainlist3=[]\n",
    "testlist3=[]\n",
    "trainlist4=[]\n",
    "testlist4=[]\n",
    "trainlist5=[]\n",
    "testlist5=[]\n",
    "\n",
    "trainlist2b=[]\n",
    "testlist2b=[]\n",
    "trainlist3b=[]\n",
    "testlist3b=[]\n",
    "trainlist4b=[]\n",
    "testlist4b=[]\n",
    "trainlist5b=[]\n",
    "testlist5b=[]\n",
    "test_size=.25\n",
    "for i in range(5):\n",
    "    random_seed=int(time.time())\n",
    "    train_x, test_x, train_y,test_y = train_test_split(X, y, test_size=.25, #0.33, \n",
    "                                                       random_state=random_seed)\n",
    "\n",
    "    train_data = TensorDataset(torch.from_numpy(train_x), torch.from_numpy(train_y))\n",
    "    train_loader = DataLoader(train_data, shuffle=True, batch_size=batch_size, drop_last=True)\n",
    "    test_data   = TensorDataset( torch.from_numpy( test_x ), torch.from_numpy( test_y ) )\n",
    "    test_loader = DataLoader( test_data, shuffle = True, batch_size = batch_size, drop_last = True )\n",
    "\n",
    "\n",
    "    gru_model = train(train_loader, lr , hidden_dim=128, EPOCHS=400, model_type=\"GRU\")\n",
    "    train2 ,test2=evaluatefull(gru_model, train_x, train_y, test_x, test_y,maxdifference=.2)\n",
    "    train3 ,test3=evaluatefull(gru_model, train_x, train_y, test_x, test_y,maxdifference=.3)\n",
    "    train4 ,test4=evaluatefull(gru_model, train_x, train_y, test_x, test_y,maxdifference=.4)\n",
    "    train5 ,test5=evaluatefull(gru_model, train_x, train_y, test_x, test_y,maxdifference=.5)\n",
    "    trainlist2.append(train2)\n",
    "    testlist2.append(test2)\n",
    "    trainlist3.append(train3)\n",
    "    testlist3.append(test3)\n",
    "    trainlist4.append(train4)\n",
    "    testlist4.append(test4)\n",
    "    trainlist5.append(train5)\n",
    "    testlist5.append(test5)\n",
    " \n",
    "\n",
    "\n",
    "\n",
    "\n",
    "test_size=.33\n",
    "for i in range(5):\n",
    "    random_seed=int(time.time())\n",
    "    train_x, test_x, train_y,test_y = train_test_split(X, y, test_size=.33, #0.33, \n",
    "                                                       random_state=random_seed)\n",
    "\n",
    "    train_data = TensorDataset(torch.from_numpy(train_x), torch.from_numpy(train_y))\n",
    "    train_loader = DataLoader(train_data, shuffle=True, batch_size=batch_size, drop_last=True)\n",
    "    test_data   = TensorDataset( torch.from_numpy( test_x ), torch.from_numpy( test_y ) )\n",
    "    test_loader = DataLoader( test_data, shuffle = True, batch_size = batch_size, drop_last = True )\n",
    "\n",
    "\n",
    "    gru_model = train(train_loader, lr , hidden_dim=128, EPOCHS=400, model_type=\"GRU\")\n",
    "    train2 ,test2=evaluatefull(gru_model, train_x, train_y, test_x, test_y,maxdifference=.2)\n",
    "    train3 ,test3=evaluatefull(gru_model, train_x, train_y, test_x, test_y,maxdifference=.3)\n",
    "    train4 ,test4=evaluatefull(gru_model, train_x, train_y, test_x, test_y,maxdifference=.4)\n",
    "    train5 ,test5=evaluatefull(gru_model, train_x, train_y, test_x, test_y,maxdifference=.5)\n",
    "    trainlist2b.append(train2)\n",
    "    testlist2bappend(test2)\n",
    "    trainlist3b.append(train3)\n",
    "    testlist3b.append(test3)\n",
    "    trainlist4b.append(train4)\n",
    "    testlist4b.append(test4)\n",
    "    trainlist5b.append(train5)\n",
    "    testlist5b.append(test5)\n",
    "\n",
    "    \n",
    "print(\"at test_size= .25 : \")\n",
    "print(\"trainlist2\",trainlist2)\n",
    "print(\"trainlist3\",trainlist3)\n",
    "print(\"trainlist4\",trainlist4)\n",
    "print(\"trainlist5\",trainlist5)\n",
    "\n",
    "print(\"testlist2\",testlist2)\n",
    "print(\"testlist3\",testlist3)\n",
    "print(\"testlist4\",testlist4)\n",
    "print(\"testlist5\",testlist5)\n",
    "\n",
    "print(\"at test_size=.33 : \")\n",
    "print(\"trainlist2\",trainlist2b)\n",
    "print(\"trainlist3\",trainlist3b)\n",
    "print(\"trainlist4\",trainlist4b)\n",
    "print(\"trainlist5\",trainlist5b)\n",
    "\n",
    "print(\"testlist2\",testlist2b)\n",
    "print(\"testlist3\",testlist3b)\n",
    "print(\"testlist4\",testlist4b)\n",
    "print(\"testlist5\",testlist5b)\n",
    " \n",
    "\n",
    "#vs training data= 490 / 495  vs test data= 128 / 165 (77%) from 128 hidden dim,  batch size of 4, lr =0.001,test_size=.25,  400 epoch\n",
    "#vs training data= 492 / 495  vs test data= 130 / 165 (78%) from 128 hidden dim,  batch size of 4, lr =0.0005,test_size=.25,  400 epoch\n",
    "#vs training data= 411 / 495  vs test data= 103 / 165 62%) from 128 hidden dim,  batch size of 4, lr =0.0001,test_size=.25,  400 epoch\n",
    "#vs training data= 451 / 495  vs test data= 113 / 165 68%) from 128 hidden dim,  batch size of 4, lr =0.0001,test_size=.25,  600 epoch\n",
    "#vs training data= 472 / 495  vs test data= 133 / 165 80%) from 128 hidden dim,  batch size of 4, lr =0.002,test_size=.25,  600 epoch\n",
    "\n",
    "\n",
    "#vs training data= 472 / 495  vs test data= 133 / 165 80%) from 128 hidden dim,  batch size of 4, lr =0.002,test_size=.25,  400 epoch\n",
    "#vs training data= 487 / 495  vs test data= 134 / 165 81% at 0.2 cuttoff\n",
    " #vs training data= 490 / 495  vs test data= 142 / 165 86.06060606060606 % at 0.3 cuttoff\n",
    " # vs training data= 491 / 495  vs test data= 146 / 165 88.48484848484848 % at 0.4 cuttoff\n",
    "\n",
    "\n",
    "\n",
    "\n",
    "\n",
    "\n",
    "#With full data set (uneven amts of success/fail) from 128 hidden dim,  batch size of 4, lr =0.0005,test_size=.25,  400 epoch\n",
    "#vs training data= 893 / 900  vs test data= 227 / 300 75 % at max difference 0.2\n",
    "# vs training data= 898 / 900  vs test data= 238 / 300 79 % at max difference 0.3\n",
    "# vs training data= 900 / 900  vs test data= 240 / 300 80 % at max difference 0.4\n",
    "# vs training data= 900 / 900  vs test data= 243 / 300 81 % at max difference 0.5\n",
    "\n",
    "\n",
    "#with even success/fail amounts (10-6):\n",
    "\n",
    "# vs training data= 494 / 495  vs test data= 131 / 165 79 % at max difference 0.2\n",
    "# vs training data= 495 / 495  vs test data= 138 / 165 83 % at max difference 0.3\n",
    "# vs training data= 495 / 495  vs test data= 140 / 165 84 % at max difference 0.4\n",
    "# vs training data= 495 / 495  vs test data= 144 / 165 87 % at max difference 0.5\n",
    "\n",
    "#with even success/fail amounts (10-4 and 10-6): (batch size of 4\n",
    "# vs training data= 653 / 675  vs test data= 168 / 225 74 % at max difference 0.2\n",
    "#vs training data= 663 / 675  vs test data= 180 / 225 80 % at max difference 0.3\n",
    "# vs training data= 667 / 675  vs test data= 189 / 225 84 % at max difference 0.4\n",
    "#vs training data= 670 / 675  vs test data= 196 / 225 87 % at max difference 0.5\n",
    "\n",
    "#with even success/fail amounts (10-4 and 10-6) (batch size of 8):\n",
    "# vs training data= 670 / 675  vs test data= 174 / 225 77 % at max difference 0.2\n",
    "# vs training data= 673 / 675  vs test data= 190 / 225 84 % at max difference 0.3\n",
    "# vs training data= 675 / 675  vs test data= 191 / 225 84 % at max difference 0.4\n",
    "# vs training data= 675 / 675  vs test data= 193 / 225 85 % at max difference 0.5\n",
    "\n",
    "#with even success/fail amounts (10-4 and 10-6) (batch size of 2):\n",
    "# vs training data= 662 / 675  vs test data= 178 / 225 79 % at max difference 0.2\n",
    "# vs training data= 673 / 675  vs test data= 186 / 225 82 % at max difference 0.3\n",
    "# vs training data= 673 / 675  vs test data= 191 / 225 84 % at max difference 0.4\n",
    "# vs training data= 674 / 675  vs test data= 199 / 225 88 % at max difference 0.5\n",
    "\n",
    "#with even success/fail amounts (10-4 and 10-6) (batch size of 2, lr=0.0005):\n",
    "# vs training data= 673 / 675  vs test data= 175 / 225 77 % at max difference 0.2\n",
    "# vs training data= 674 / 675  vs test data= 189 / 225 84 % at max difference 0.3\n",
    "# vs training data= 674 / 675  vs test data= 197 / 225 87 % at max difference 0.4\n",
    "# vs training data= 675 / 675  vs test data= 204 / 225 90 % at max difference 0.5\n",
    "\n",
    "#with even success/fail amounts (10-4 and 10-6) (batch size of 4, lr=0.002):\n",
    "# vs training data= 588 / 675  vs test data= 175 / 225 77 % at max difference 0.2\n",
    "#vs training data= 626 / 675  vs test data= 187 / 225 83 % at max difference 0.3\n",
    "## vs training data= 637 / 675  vs test data= 197 / 225 87 % at max difference 0.4\n",
    "# vs training data= 648 / 675  vs test data= 204 / 225 90 % at max difference 0.5\n",
    "\n",
    "#The target size means the label size!"
   ]
  }
 ],
 "metadata": {
  "kernelspec": {
   "display_name": "Python 3 (ipykernel)",
   "language": "python",
   "name": "python3"
  },
  "language_info": {
   "codemirror_mode": {
    "name": "ipython",
    "version": 3
   },
   "file_extension": ".py",
   "mimetype": "text/x-python",
   "name": "python",
   "nbconvert_exporter": "python",
   "pygments_lexer": "ipython3",
   "version": "3.7.11"
  }
 },
 "nbformat": 4,
 "nbformat_minor": 4
}
