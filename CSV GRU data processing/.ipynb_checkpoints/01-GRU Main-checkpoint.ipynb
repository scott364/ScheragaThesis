{
 "cells": [
  {
   "cell_type": "markdown",
   "metadata": {},
   "source": [
    "In this notebook, we'll be using a GRU model for a time series prediction task and we will compare the performance of the GRU model against an LSTM model as well. The dataset that we will be using is the Hourly Energy Consumption dataset which can be found on [Kaggle](https://www.kaggle.com/robikscube/hourly-energy-consumption). The dataset contains power consumption data across different regions around the United States recorded on an hourly basis.\n",
    "\n",
    "You can run the code implementation in this article on FloydHub using their GPUs on the cloud by clicking the following link and using the main.ipynb notebook.\n",
    "\n",
    "[![Run on FloydHub](https://static.floydhub.com/button/button-small.svg)](https://floydhub.com/run?template=https://github.com/gabrielloye/https://github.com/gabrielloye/GRU_Prediction)\n",
    "\n",
    "This will speed up the training process significantly. Alternatively, the link to the GitHub repository can be found [here]().\n",
    "\n",
    "The goal of this implementation is to create a model that can accurately predict the energy usage in the next hour given historical usage data. We will be using both the GRU and LSTM model to train on a set of historical data and evaluate both models on an unseen test set. To do so, we’ll start with feature selection, data-preprocessing, followed by defining, training and eventually evaluating the models.\n",
    "\n",
    "We will be using the PyTorch library to implement both types of models along with other common Python libraries used in data analytics."
   ]
  },
  {
   "cell_type": "code",
   "execution_count": 1,
   "metadata": {},
   "outputs": [
    {
     "name": "stderr",
     "output_type": "stream",
     "text": [
      "In /home/scott/.local/lib/python3.6/site-packages/matplotlib/mpl-data/stylelib/_classic_test.mplstyle: \n",
      "The text.latex.preview rcparam was deprecated in Matplotlib 3.3 and will be removed two minor releases later.\n",
      "In /home/scott/.local/lib/python3.6/site-packages/matplotlib/mpl-data/stylelib/_classic_test.mplstyle: \n",
      "The mathtext.fallback_to_cm rcparam was deprecated in Matplotlib 3.3 and will be removed two minor releases later.\n",
      "In /home/scott/.local/lib/python3.6/site-packages/matplotlib/mpl-data/stylelib/_classic_test.mplstyle: Support for setting the 'mathtext.fallback_to_cm' rcParam is deprecated since 3.3 and will be removed two minor releases later; use 'mathtext.fallback : 'cm' instead.\n",
      "In /home/scott/.local/lib/python3.6/site-packages/matplotlib/mpl-data/stylelib/_classic_test.mplstyle: \n",
      "The validate_bool_maybe_none function was deprecated in Matplotlib 3.3 and will be removed two minor releases later.\n",
      "In /home/scott/.local/lib/python3.6/site-packages/matplotlib/mpl-data/stylelib/_classic_test.mplstyle: \n",
      "The savefig.jpeg_quality rcparam was deprecated in Matplotlib 3.3 and will be removed two minor releases later.\n",
      "In /home/scott/.local/lib/python3.6/site-packages/matplotlib/mpl-data/stylelib/_classic_test.mplstyle: \n",
      "The keymap.all_axes rcparam was deprecated in Matplotlib 3.3 and will be removed two minor releases later.\n",
      "In /home/scott/.local/lib/python3.6/site-packages/matplotlib/mpl-data/stylelib/_classic_test.mplstyle: \n",
      "The animation.avconv_path rcparam was deprecated in Matplotlib 3.3 and will be removed two minor releases later.\n",
      "In /home/scott/.local/lib/python3.6/site-packages/matplotlib/mpl-data/stylelib/_classic_test.mplstyle: \n",
      "The animation.avconv_args rcparam was deprecated in Matplotlib 3.3 and will be removed two minor releases later.\n"
     ]
    }
   ],
   "source": [
    "#https://www.python-engineer.com/posts/pytorch-rnn-lstm-gru/\n",
    "\n",
    "#https://blog.floydhub.com/gru-with-pytorch/\n",
    "\n",
    "import os\n",
    "import time\n",
    "import csv\n",
    "import numpy as np\n",
    "import pandas as pd\n",
    "import matplotlib.pyplot as plt\n",
    "\n",
    "import random\n",
    "from datetime import datetime\n",
    "\n",
    "import torch\n",
    "import torch.nn as nn\n",
    "from torch.utils.data import TensorDataset, DataLoader\n",
    "import torch.nn.functional as F\n",
    "import torch.optim as optim\n",
    "\n",
    "from tqdm import tqdm_notebook\n",
    "from sklearn.preprocessing import MinMaxScaler,QuantileTransformer\n",
    "from sklearn.model_selection import train_test_split\n",
    "\n",
    "\n",
    "\n",
    "\n",
    "\n",
    "\n",
    "### Local ###\n",
    "#from data_processing import *\n",
    "\n",
    "\n",
    "\n",
    "# Define data root directory\n",
    "\n",
    "#data_dir = \"./data/\"\n",
    "#print(os.listdir(data_dir))"
   ]
  },
  {
   "cell_type": "markdown",
   "metadata": {},
   "source": [
    "We have a total of **12** *.csv* files containing hourly energy trend data (*'est_hourly.paruqet'* and *'pjm_hourly_est.csv'* are not used). In our next step, we will be reading these files and pre-processing these data in this order:\n",
    "- Getting the time data of each individual time step and generalizing them\n",
    "    - Hour of the day *i.e. 0-23*\n",
    "    - Day of the week *i.e. 1-7*\n",
    "    - Month *i.e. 1-12*\n",
    "    - Day of the year *i.e. 1-365*\n",
    "    \n",
    "    \n",
    "- Scale the data to values between 0 and 1\n",
    "    - Algorithms tend to perform better or converge faster when features are on a relatively similar scale and/or close to normally distributed\n",
    "    - Scaling preserves the shape of the original distribution and doesn't reduce the importance of outliers.\n",
    "    \n",
    "    \n",
    "- Group the data into sequences to be used as inputs to the model and store their corresponding labels\n",
    "    - The **sequence length** or **lookback period** is the number of data points in history that the model will use to make the prediction\n",
    "    - The label will be the next data point in time after the last one in the input sequence\n",
    "    \n",
    "\n",
    "- The inputs and labels will then be split into training and test sets"
   ]
  },
  {
   "cell_type": "code",
   "execution_count": 2,
   "metadata": {},
   "outputs": [
    {
     "name": "stdout",
     "output_type": "stream",
     "text": [
      "[[0.27735378 0.26661055 0.40000611 0.25023186 0.27677533 0.41424219\n",
      "  0.37389517 0.27581724 0.3110282  0.31710912 0.46400543]\n",
      " [0.56315052 0.57954961 0.5818278  0.58090968 0.53162291 0.54802549\n",
      "  0.55059242 0.54762166 0.52668456 0.51825401 0.53976031]\n",
      " [0.85986378 0.78037356 0.77334782 0.77890898 0.78463198 0.77979283\n",
      "  0.93127611 0.93926496 0.93533267 0.94344913 0.93128845]\n",
      " [0.46247134 0.44671463 0.45213433 0.44932497 0.48087943 0.48424637\n",
      "  0.48025341 0.47566825 0.49441604 0.49760116 0.49163918]\n",
      " [0.29442925 0.28496873 0.37848349 0.28663437 0.29311135 0.39597582\n",
      "  0.36943065 0.29519415 0.31469048 0.32070428 0.42058123]]\n",
      "[0. 0. 0. 0. 0. 0. 0. 0. 0. 0. 0.]\n"
     ]
    }
   ],
   "source": [
    "choppeddata=pd.read_csv('choppeddata_9_21_2021.csv')#.head()\n",
    "\n",
    "choppedheaders=[]\n",
    "lookback=11 #save only the last 11 timesteps\n",
    "for i in range(lookback):  \n",
    "    label=str(i)\n",
    "    choppedheaders.append(\"header\"+label)\n",
    "\n",
    "#put chopped data in np.arrays\n",
    "State=np.zeros((96,5,11)) #96 runs,with 5 sets of data (x,y,z,roll,pitch) each, and each run is 11 timesteps long\n",
    "Labels=np.zeros((96,11)) #96 runs, each run is 11 timesteps long\n",
    "runcounter=0\n",
    "\n",
    "for i in range(0,575,6):\n",
    "            State[runcounter][0][:]=(choppeddata[choppedheaders[:]].iloc[i]).tolist()\n",
    "            State[runcounter][1][:]=(choppeddata[choppedheaders[:]].iloc[i+1]).tolist()\n",
    "            State[runcounter][2][:]=(choppeddata[choppedheaders[:]].iloc[i+2]).tolist()\n",
    "            State[runcounter][3][:]=(choppeddata[choppedheaders[:]].iloc[i+3]).tolist()\n",
    "            State[runcounter][4][:]=(choppeddata[choppedheaders[:]].iloc[i+4]).tolist()\n",
    "            Labels[runcounter][:]=(choppeddata[choppedheaders[:]].iloc[i+5]).tolist()  #labels   \n",
    "            runcounter+=1\n",
    "print(State[0])\n",
    "print(Labels[0])"
   ]
  },
  {
   "cell_type": "code",
   "execution_count": 3,
   "metadata": {},
   "outputs": [
    {
     "name": "stdout",
     "output_type": "stream",
     "text": [
      "Train\n",
      "[[0.40539547 0.31443459 0.341721   0.4050648  0.40182568 0.40766046\n",
      "  0.399578   0.40480583 0.39891334 0.40167018 0.39993624]\n",
      " [0.75253834 0.74760889 0.69387439 0.67836455 0.68019756 0.68148563\n",
      "  0.69561342 0.6366178  0.65612821 0.6504404  0.66142242]\n",
      " [0.80009078 0.81216116 0.82171327 0.95050878 0.943081   0.94995447\n",
      "  0.94334595 0.94540174 0.94667555 0.94469142 0.87575717]\n",
      " [0.28119582 0.27539747 0.31247541 0.33037702 0.328287   0.32922454\n",
      "  0.31871721 0.3620868  0.35313335 0.35808517 0.34557225]\n",
      " [0.44886968 0.38029385 0.39406757 0.4394908  0.43427474 0.4361103\n",
      "  0.43719741 0.43797787 0.43632384 0.4372016  0.43181407]]\n",
      "[0. 0. 0. 0. 0. 0. 0. 0. 0. 0. 1.]\n",
      "Test\n",
      "[[0.54781388 0.52467338 0.48279334 0.48698063 0.48984306 0.4812084\n",
      "  0.43468989 0.45365582 0.34357181 0.33510071 0.36711351]\n",
      " [0.61362526 0.60508136 0.6198988  0.62654126 0.62657678 0.62042025\n",
      "  0.62153308 0.62722235 0.63083059 0.61136368 0.6168552 ]\n",
      " [0.94571654 0.94512104 0.9449886  0.9473057  0.94689729 0.94814949\n",
      "  0.94713247 0.95044657 0.94978776 0.94704503 0.90339739]\n",
      " [0.4464449  0.44559737 0.43851592 0.42770514 0.4293067  0.43107131\n",
      "  0.43309377 0.42648234 0.42348729 0.43006206 0.42811067]\n",
      " [0.60503292 0.56460493 0.53574909 0.53239289 0.52669087 0.51615493\n",
      "  0.48094559 0.480777   0.40060828 0.3806612  0.39393745]]\n",
      "[0. 0. 0. 0. 0. 0. 0. 0. 0. 0. 1.]\n"
     ]
    }
   ],
   "source": [
    "#X= range(0,575,6)\n",
    "#y= range(0,575,6)\n",
    "\n",
    "X=State\n",
    "y=Labels\n",
    " \n",
    "random_seed=int(time.time())\n",
    "#print(int(time.time()))\n",
    "train_x, test_x, train_y,test_y = train_test_split(X, y, test_size=0.33, random_state=random_seed)\n",
    "print(\"Train\")\n",
    "print(train_x[0])\n",
    "print(train_y[0])\n",
    "print(\"Test\")\n",
    "print(test_x[0])\n",
    "print(test_y[0])\n"
   ]
  },
  {
   "cell_type": "code",
   "execution_count": 4,
   "metadata": {},
   "outputs": [
    {
     "name": "stdout",
     "output_type": "stream",
     "text": [
      "(64, 5, 11)\n"
     ]
    }
   ],
   "source": [
    "print(train_x.shape)  #example was (980185, 90, 5)"
   ]
  },
  {
   "cell_type": "markdown",
   "metadata": {},
   "source": [
    "We have a total of 980,185 sequences of training data\n",
    "\n",
    "To improve the speed of our training, we can process the data in batches so that the model does not need to update its weights as frequently. The Torch *Dataset* and *DataLoader* classes are useful for splitting our data into batches and shuffling them."
   ]
  },
  {
   "cell_type": "code",
   "execution_count": 5,
   "metadata": {},
   "outputs": [],
   "source": [
    "batch_size = 8\n",
    "#a batch size of 64, i.e. each element in the dataloader iterable will return a batch of 64 features and labels.\n",
    "\n",
    "train_data = TensorDataset(torch.from_numpy(train_x), torch.from_numpy(train_y))\n",
    "train_loader = DataLoader(train_data, shuffle=True, batch_size=batch_size, drop_last=True)\n",
    "\n",
    "test_data   = TensorDataset( torch.from_numpy( test_x ), torch.from_numpy( test_y ) )\n",
    "test_loader = DataLoader( test_data, shuffle = True, batch_size = batch_size, drop_last = True )\n"
   ]
  },
  {
   "cell_type": "code",
   "execution_count": 6,
   "metadata": {},
   "outputs": [
    {
     "name": "stdout",
     "output_type": "stream",
     "text": [
      "<torch.utils.data.dataloader.DataLoader object at 0x7f3e30d76470>\n"
     ]
    }
   ],
   "source": [
    "print(train_loader)"
   ]
  },
  {
   "cell_type": "markdown",
   "metadata": {},
   "source": [
    "We can also check if we have any GPUs to speed up our training time by many folds. If you’re using FloydHub with GPU to run this code, the training time will be significantly reduced."
   ]
  },
  {
   "cell_type": "code",
   "execution_count": 7,
   "metadata": {},
   "outputs": [
    {
     "name": "stdout",
     "output_type": "stream",
     "text": [
      "cpu\n"
     ]
    }
   ],
   "source": [
    "# torch.cuda.is_available() checks and returns a Boolean True if a GPU is available, else it'll return False\n",
    "is_cuda = torch.cuda.is_available()\n",
    "\n",
    "# If we have a GPU available, we'll set our device to GPU. We'll use this device variable later in our code.\n",
    "if is_cuda:\n",
    "    device = torch.device(\"cuda\")\n",
    "else:\n",
    "    device = torch.device(\"cpu\")\n",
    "    \n",
    "print(device)\n",
    "\n",
    "\n",
    "def get_torch_device( v=0 ):\n",
    "    # torch.cuda.is_available() checks and returns a Boolean True if a GPU is available, else it'll return False\n",
    "    is_cuda = torch.cuda.is_available()\n",
    "    # If we have a GPU available, we'll set our device to GPU. We'll use this device variable later in our code.\n",
    "    if is_cuda:\n",
    "        device = torch.device(\"cuda\")\n",
    "        if v:  print( \"CUDA Available!\" )\n",
    "    else:\n",
    "        device = torch.device(\"cpu\")\n",
    "        if v:  print( \"NO CUDA\" )\n",
    "    return device"
   ]
  },
  {
   "cell_type": "code",
   "execution_count": 9,
   "metadata": {},
   "outputs": [
    {
     "name": "stdout",
     "output_type": "stream",
     "text": [
      "Training...\n",
      "\n",
      "GRU with Input: 11 , Hidden: 256 , Output: 2 ...\n",
      "\n",
      "Starting Training of GRU model ...\n"
     ]
    },
    {
     "ename": "AttributeError",
     "evalue": "'NoneType' object has no attribute 'data'",
     "output_type": "error",
     "traceback": [
      "\u001b[0;31m---------------------------------------------------------------------------\u001b[0m",
      "\u001b[0;31mAttributeError\u001b[0m                            Traceback (most recent call last)",
      "\u001b[0;32m<ipython-input-9-5b6e5910edcc>\u001b[0m in \u001b[0;36m<module>\u001b[0;34m\u001b[0m\n\u001b[1;32m      1\u001b[0m \u001b[0mlr\u001b[0m \u001b[0;34m=\u001b[0m \u001b[0;36m0.001\u001b[0m\u001b[0;34m\u001b[0m\u001b[0;34m\u001b[0m\u001b[0m\n\u001b[0;32m----> 2\u001b[0;31m \u001b[0mgru_model\u001b[0m \u001b[0;34m=\u001b[0m \u001b[0mtrain\u001b[0m\u001b[0;34m(\u001b[0m\u001b[0mtrain_loader\u001b[0m\u001b[0;34m,\u001b[0m \u001b[0mlr\u001b[0m\u001b[0;34m,\u001b[0m\u001b[0mbatch_size\u001b[0m\u001b[0;34m=\u001b[0m\u001b[0;36m8\u001b[0m\u001b[0;34m)\u001b[0m\u001b[0;34m\u001b[0m\u001b[0;34m\u001b[0m\u001b[0m\n\u001b[0m",
      "\u001b[0;32m<ipython-input-8-402094d05e27>\u001b[0m in \u001b[0;36mtrain\u001b[0;34m(train_loader, learn_rate, batch_size, hidden_dim, output_dim, n_layers, EPOCHS, alpha)\u001b[0m\n\u001b[1;32m    114\u001b[0m                 \u001b[0mh\u001b[0m       \u001b[0;34m=\u001b[0m \u001b[0malpha\u001b[0m\u001b[0;34m*\u001b[0m\u001b[0mhn\u001b[0m  \u001b[0;34m+\u001b[0m \u001b[0;34m(\u001b[0m\u001b[0;36m1\u001b[0m\u001b[0;34m-\u001b[0m\u001b[0malpha\u001b[0m\u001b[0;34m)\u001b[0m\u001b[0;34m*\u001b[0m\u001b[0mhp\u001b[0m\u001b[0;34m\u001b[0m\u001b[0;34m\u001b[0m\u001b[0m\n\u001b[1;32m    115\u001b[0m             \u001b[0;32melse\u001b[0m\u001b[0;34m:\u001b[0m\u001b[0;34m\u001b[0m\u001b[0;34m\u001b[0m\u001b[0m\n\u001b[0;32m--> 116\u001b[0;31m                 \u001b[0mh\u001b[0m \u001b[0;34m=\u001b[0m \u001b[0mh\u001b[0m\u001b[0;34m.\u001b[0m\u001b[0mdata\u001b[0m\u001b[0;34m\u001b[0m\u001b[0;34m\u001b[0m\u001b[0m\n\u001b[0m\u001b[1;32m    117\u001b[0m                 \u001b[0;31m# 6. Get predict and new hidden state\u001b[0m\u001b[0;34m\u001b[0m\u001b[0;34m\u001b[0m\u001b[0;34m\u001b[0m\u001b[0m\n\u001b[1;32m    118\u001b[0m                 \u001b[0mout\u001b[0m\u001b[0;34m,\u001b[0m \u001b[0mh\u001b[0m \u001b[0;34m=\u001b[0m \u001b[0mmodel\u001b[0m\u001b[0;34m(\u001b[0m \u001b[0mx\u001b[0m\u001b[0;34m.\u001b[0m\u001b[0mto\u001b[0m\u001b[0;34m(\u001b[0m\u001b[0mdevice\u001b[0m\u001b[0;34m)\u001b[0m\u001b[0;34m.\u001b[0m\u001b[0mfloat\u001b[0m\u001b[0;34m(\u001b[0m\u001b[0;34m)\u001b[0m\u001b[0;34m,\u001b[0m \u001b[0mh\u001b[0m \u001b[0;34m)\u001b[0m\u001b[0;34m\u001b[0m\u001b[0;34m\u001b[0m\u001b[0m\n",
      "\u001b[0;31mAttributeError\u001b[0m: 'NoneType' object has no attribute 'data'"
     ]
    }
   ],
   "source": [
    "lr = 0.001\n",
    "gru_model = train(train_loader, lr,batch_size=8)"
   ]
  },
  {
   "cell_type": "code",
   "execution_count": 77,
   "metadata": {},
   "outputs": [],
   "source": [
    "class GRUNet(nn.Module):\n",
    "    def __init__(self, input_dim, hidden_dim, output_dim, n_layers, drop_prob=0.2):\n",
    "        super(GRUNet, self).__init__()\n",
    "        self.hidden_dim = hidden_dim\n",
    "        self.n_layers = n_layers\n",
    "        \n",
    "        self.gru = nn.GRU(input_dim, hidden_dim, n_layers, batch_first=True, dropout=drop_prob)\n",
    "        self.fc = nn.Linear(hidden_dim, output_dim)\n",
    "        self.relu = nn.ReLU()\n",
    "        \n",
    "    def forward(self, x, h):\n",
    "        out, h = self.gru(x, h)\n",
    "        out = self.fc(self.relu(out[:,-1]))\n",
    "        return out, h\n",
    "    \n",
    "    def init_hidden(self, batch_size):\n",
    "        weight = next(self.parameters()).data\n",
    "        hidden = weight.new(self.n_layers, batch_size, self.hidden_dim).zero_().to(device)\n",
    "        return hidden\n",
    "def train(train_loader, learn_rate, hidden_dim=64, EPOCHS=5, model_type=\"GRU\"):\n",
    "    \n",
    "    # Setting common hyperparameters\n",
    "    input_dim = next(iter(train_loader))[0].shape[2]  #  = 11\n",
    "    #print(\"input_dim\",input_dim)\n",
    "    output_dim = 11\n",
    "    n_layers = 2\n",
    "    # Instantiating the models\n",
    "    if model_type == \"GRU\":\n",
    "        model = GRUNet(input_dim, hidden_dim, output_dim, n_layers)\n",
    "    else:\n",
    "        model = LSTMNet(input_dim, hidden_dim, output_dim, n_layers)\n",
    "    model.to(device)\n",
    "    \n",
    "    # Defining loss function and optimizer\n",
    "    criterion = nn.MSELoss()\n",
    "    optimizer = torch.optim.Adam(model.parameters(), lr=learn_rate)\n",
    "    \n",
    "    model.train()\n",
    "    print(\"Starting Training of {} model\".format(model_type))\n",
    "    epoch_times = []\n",
    "    # Start training loop\n",
    "    for epoch in range(1,EPOCHS+1):\n",
    "        start_time = time.clock()\n",
    "        h = model.init_hidden(batch_size)\n",
    "        avg_loss = 0.\n",
    "        counter = 0\n",
    "        for x, label in train_loader:\n",
    "            counter += 1\n",
    "            if model_type == \"GRU\":\n",
    "                h = h.data\n",
    "            else:\n",
    "                h = tuple([e.data for e in h])\n",
    "            model.zero_grad()\n",
    "            \n",
    "            out, h = model(x.to(device).float(), h)\n",
    "            loss = criterion(out, label.to(device).float())\n",
    "            loss.backward()\n",
    "            optimizer.step()\n",
    "            avg_loss += loss.item()\n",
    "            if counter%200 == 0:\n",
    "                print(\"Epoch {}......Step: {}/{}....... Average Loss for Epoch: {}\".format(epoch, counter, len(train_loader), avg_loss/counter))\n",
    "        current_time = time.clock()\n",
    "        print(\"Epoch {}/{} Done, Total Loss: {}\".format(epoch, EPOCHS, avg_loss/len(train_loader)))\n",
    "        print(\"Total Time Elapsed: {} seconds\".format(str(current_time-start_time)))\n",
    "        epoch_times.append(current_time-start_time)\n",
    "    print(\"Total Training Time: {} seconds\".format(str(sum(epoch_times))))\n",
    "    return model\n",
    "\n",
    "def evaluate(model, test_x, test_y):\n",
    "    model.eval()\n",
    "    outputs = []\n",
    "    targets = []\n",
    "    start_time = time.clock()\n",
    "    #for i in test_x.keys():\n",
    "    for i in range( len( test_x ) ):    \n",
    "        inp = torch.from_numpy(np.array(test_x)[i]) # should be 5x1\n",
    "        labs = torch.from_numpy(np.array(test_y[i])) #should be 1x1\n",
    "        h = model.init_hidden(inp.shape[0])\n",
    "        #print(\"inp\",inp)\n",
    "        #print(\"labs\",labs)\n",
    "        #print(\"h\",h)\n",
    "        out, h = model(inp.to(device).float(), h)\n",
    "        #outputs.append(label_scalers[i].inverse_transform(out.cpu().detach().numpy()).reshape(-1))\n",
    "        #targets.append(label_scalers[i].inverse_transform(labs.numpy()).reshape(-1))\n",
    "        outputs.append( out.cpu().detach().numpy().reshape(-1) )\n",
    "        targets.append( labs.numpy().reshape(-1) )\n",
    "        \n",
    "    print(\"Evaluation Time: {}\".format(str(time.clock()-start_time)))\n",
    "    sMAPE = 0\n",
    "    for i in range(len(outputs)):\n",
    "        sMAPE += np.mean(abs(outputs[i]-targets[i])/(targets[i]+outputs[i])/2)/len(outputs)\n",
    "    print(\"sMAPE: {}%\".format(sMAPE*100))\n",
    "    return outputs, targets, sMAPE"
   ]
  },
  {
   "cell_type": "code",
   "execution_count": 78,
   "metadata": {},
   "outputs": [
    {
     "name": "stdout",
     "output_type": "stream",
     "text": [
      "Starting Training of GRU model\n",
      "Epoch 1/5 Done, Total Loss: 0.03722783434204757\n",
      "Total Time Elapsed: 0.3100810000000003 seconds\n",
      "Epoch 2/5 Done, Total Loss: 0.024139864835888147\n",
      "Total Time Elapsed: 0.25616999999999734 seconds\n",
      "Epoch 3/5 Done, Total Loss: 0.020770379924215376\n",
      "Total Time Elapsed: 0.2584789999999977 seconds\n",
      "Epoch 4/5 Done, Total Loss: 0.022062607808038592\n",
      "Total Time Elapsed: 0.25701799999999864 seconds\n",
      "Epoch 5/5 Done, Total Loss: 0.020740614039823413\n",
      "Total Time Elapsed: 0.2526989999999998 seconds\n",
      "Total Training Time: 1.3344469999999937 seconds\n"
     ]
    }
   ],
   "source": [
    "lr = 0.001\n",
    "gru_model = train(train_loader, lr, model_type=\"GRU\")"
   ]
  },
  {
   "cell_type": "code",
   "execution_count": 72,
   "metadata": {},
   "outputs": [
    {
     "name": "stdout",
     "output_type": "stream",
     "text": [
      "tensor([[-1.4086e-02, -6.0219e-03,  4.1642e-02, -1.6095e-02,  5.6613e-03,\n",
      "         -2.0674e-03, -3.2131e-03, -1.8629e-02, -6.0395e-03,  1.0921e-02,\n",
      "          5.4747e-01],\n",
      "        [-1.3201e-02, -4.8687e-03,  3.7036e-02, -1.6419e-02,  3.7723e-03,\n",
      "         -6.4013e-03, -2.5587e-03, -1.8187e-02, -4.7280e-03,  1.4584e-02,\n",
      "          5.6907e-01],\n",
      "        [-1.4211e-02, -6.0222e-03,  4.1011e-02, -1.5537e-02,  4.2788e-03,\n",
      "         -3.9017e-03, -3.4968e-03, -1.7982e-02, -7.1083e-03,  1.2374e-02,\n",
      "          5.4199e-01],\n",
      "        [-1.3055e-02, -4.4857e-03,  3.1844e-02, -2.1391e-02,  2.7604e-03,\n",
      "         -7.7797e-03, -3.1675e-03, -2.1791e-02, -3.5933e-03,  1.8636e-02,\n",
      "          5.9519e-01],\n",
      "        [-1.3453e-02, -4.6706e-03,  3.6728e-02, -1.6767e-02,  3.6640e-03,\n",
      "         -5.9912e-03, -2.5351e-03, -1.8593e-02, -5.0201e-03,  1.4725e-02,\n",
      "          5.6738e-01],\n",
      "        [-1.3607e-02, -6.1279e-03,  4.2681e-02, -1.2811e-02,  4.5003e-03,\n",
      "         -4.6837e-03, -2.7325e-03, -1.6155e-02, -7.0204e-03,  1.1456e-02,\n",
      "          5.3830e-01],\n",
      "        [-1.3561e-02, -6.4632e-03,  4.5625e-02, -1.3080e-02,  5.6489e-03,\n",
      "         -1.4780e-03, -2.1717e-03, -1.6925e-02, -6.4291e-03,  9.4107e-03,\n",
      "          5.3580e-01],\n",
      "        [-1.3942e-02, -5.7620e-03,  4.1249e-02, -1.5192e-02,  4.1795e-03,\n",
      "         -3.6393e-03, -3.1998e-03, -1.7654e-02, -7.0375e-03,  1.2272e-02,\n",
      "          5.4163e-01],\n",
      "        [-1.2973e-02, -6.5489e-03,  5.1562e-02, -6.6738e-03,  4.7298e-03,\n",
      "          1.1603e-03, -2.1366e-03, -1.1513e-02, -1.0007e-02,  6.1552e-03,\n",
      "          4.8288e-01],\n",
      "        [-1.3417e-02, -5.6329e-03,  4.1100e-02, -1.4669e-02,  4.4259e-03,\n",
      "         -3.8889e-03, -2.5778e-03, -1.7153e-02, -6.0576e-03,  1.2266e-02,\n",
      "          5.5003e-01],\n",
      "        [-1.3514e-02, -5.7701e-03,  4.8613e-02, -8.0716e-03,  2.0801e-03,\n",
      "          9.7321e-04, -1.9119e-03, -1.4474e-02, -1.0173e-02,  8.1309e-03,\n",
      "          4.9047e-01],\n",
      "        [-1.4149e-02, -6.3633e-03,  4.2161e-02, -1.5526e-02,  4.7408e-03,\n",
      "         -2.7912e-03, -3.3799e-03, -1.7975e-02, -7.0409e-03,  1.1646e-02,\n",
      "          5.4270e-01],\n",
      "        [-1.2976e-02, -4.7764e-03,  3.5466e-02, -1.6825e-02,  3.2468e-03,\n",
      "         -7.3374e-03, -2.8508e-03, -1.7648e-02, -4.7572e-03,  1.5431e-02,\n",
      "          5.7329e-01],\n",
      "        [-1.4070e-02, -5.6458e-03,  3.8273e-02, -1.7569e-02,  4.1553e-03,\n",
      "         -4.9161e-03, -3.4173e-03, -1.9762e-02, -6.0900e-03,  1.4218e-02,\n",
      "          5.5941e-01],\n",
      "        [-1.3485e-02, -5.9801e-03,  4.1342e-02, -1.5027e-02,  4.5432e-03,\n",
      "         -3.6494e-03, -2.7134e-03, -1.7458e-02, -6.1006e-03,  1.1916e-02,\n",
      "          5.5018e-01],\n",
      "        [-1.3865e-02, -5.7798e-03,  4.0521e-02, -1.5958e-02,  4.6861e-03,\n",
      "         -3.9949e-03, -3.3316e-03, -1.7548e-02, -6.2205e-03,  1.2596e-02,\n",
      "          5.4914e-01],\n",
      "        [-1.2414e-02, -5.0894e-03,  3.0210e-02, -2.3460e-02,  2.7645e-03,\n",
      "         -8.9770e-03, -2.9861e-03, -2.2971e-02, -2.9680e-03,  2.0602e-02,\n",
      "          6.0908e-01],\n",
      "        [-1.2195e-02, -4.8686e-03,  4.6841e-02, -6.0804e-03,  5.8572e-03,\n",
      "         -4.3691e-03,  1.7068e-04, -1.1868e-02, -6.9137e-03,  9.5227e-03,\n",
      "          5.2158e-01],\n",
      "        [-1.3180e-02, -3.8823e-03,  4.2825e-02, -9.4323e-03,  2.4974e-03,\n",
      "         -4.9821e-03, -2.5329e-03, -1.2946e-02, -7.0081e-03,  1.0629e-02,\n",
      "          5.2576e-01],\n",
      "        [-1.4056e-02, -5.9078e-03,  4.5925e-02, -1.1673e-02,  3.9479e-03,\n",
      "          1.0344e-03, -3.3651e-03, -1.5042e-02, -8.6701e-03,  9.0551e-03,\n",
      "          5.1278e-01],\n",
      "        [-1.3738e-02, -5.8399e-03,  4.1420e-02, -1.5197e-02,  4.7396e-03,\n",
      "         -3.5573e-03, -3.0483e-03, -1.7474e-02, -6.3749e-03,  1.1954e-02,\n",
      "          5.4775e-01],\n",
      "        [-1.2977e-02, -4.5315e-03,  3.6114e-02, -1.6895e-02,  3.1783e-03,\n",
      "         -6.3748e-03, -2.5034e-03, -1.8270e-02, -4.8076e-03,  1.5188e-02,\n",
      "          5.7091e-01],\n",
      "        [-1.3520e-02, -5.3153e-03,  4.0641e-02, -1.4657e-02,  4.7736e-03,\n",
      "         -4.2160e-03, -2.7092e-03, -1.7049e-02, -5.9222e-03,  1.1992e-02,\n",
      "          5.4996e-01],\n",
      "        [-1.3129e-02, -5.2753e-03,  3.2285e-02, -2.2167e-02,  2.6407e-03,\n",
      "         -6.3971e-03, -4.0511e-03, -2.2525e-02, -3.7249e-03,  1.7911e-02,\n",
      "          5.9755e-01],\n",
      "        [-1.3849e-02, -6.3162e-03,  4.3640e-02, -1.4427e-02,  5.2112e-03,\n",
      "         -2.3993e-03, -2.9821e-03, -1.7586e-02, -6.8986e-03,  1.0044e-02,\n",
      "          5.3703e-01],\n",
      "        [-1.4005e-02, -5.9980e-03,  4.1405e-02, -1.5229e-02,  4.8013e-03,\n",
      "         -3.3959e-03, -3.1309e-03, -1.7799e-02, -6.4643e-03,  1.1776e-02,\n",
      "          5.4660e-01],\n",
      "        [-1.4674e-02, -5.4136e-03,  3.9805e-02, -1.7721e-02,  3.1441e-03,\n",
      "         -1.8724e-03, -2.7621e-03, -2.1444e-02, -6.3283e-03,  1.4340e-02,\n",
      "          5.5313e-01],\n",
      "        [-1.2903e-02, -5.6023e-03,  4.1751e-02, -1.3671e-02,  4.9868e-03,\n",
      "         -3.0378e-03, -1.8030e-03, -1.7646e-02, -6.9564e-03,  1.1038e-02,\n",
      "          5.3827e-01],\n",
      "        [-1.3391e-02, -5.1241e-03,  4.0275e-02, -1.4440e-02,  4.5678e-03,\n",
      "         -4.8675e-03, -2.5143e-03, -1.6652e-02, -5.4052e-03,  1.2166e-02,\n",
      "          5.5304e-01],\n",
      "        [-1.5191e-02, -6.1098e-03,  3.6500e-02, -2.1212e-02,  4.0809e-03,\n",
      "         -5.0306e-03, -4.7481e-03, -2.2477e-02, -4.4995e-03,  1.5197e-02,\n",
      "          5.8037e-01],\n",
      "        [-1.2858e-02, -5.3733e-03,  3.5297e-02, -1.9280e-02,  3.9674e-03,\n",
      "         -5.9977e-03, -2.4297e-03, -2.0270e-02, -3.6985e-03,  1.5897e-02,\n",
      "          5.8536e-01],\n",
      "        [-1.3855e-02, -5.8475e-03,  4.4099e-02, -1.2413e-02,  4.2883e-03,\n",
      "         -2.7912e-03, -2.8324e-03, -1.6135e-02, -8.1532e-03,  1.0852e-02,\n",
      "          5.2289e-01]], grad_fn=<AddmmBackward>)\n"
     ]
    }
   ],
   "source": [
    "model=gru_model\n",
    "i=1\n",
    "inp = torch.from_numpy(np.array(test_x))\n",
    "labs = torch.from_numpy(np.array(test_y))\n",
    "#h = model.init_hidden(inp.shape[0])\n",
    "h = model.init_hidden(inp.shape[0])\n",
    "#print(\"inp\",inp)\n",
    "#print(\"INP SHAPE\",inp.shape)\n",
    "#print(\"INP SHAPE[0]\",inp.shape[0])\n",
    "#print(\"labs\",labs)\n",
    "#print(\"h\",h)\n",
    "#print(\"h.shape\",h.shape)\n",
    "#print(inp.to(device).float())\n",
    "#print(inp.to(device).float().shape)\n",
    "\n",
    "\n",
    "out, h = model(inp.to(device).float(), h)\n",
    "print(out)"
   ]
  },
  {
   "cell_type": "code",
   "execution_count": 76,
   "metadata": {},
   "outputs": [
    {
     "name": "stdout",
     "output_type": "stream",
     "text": [
      "Evaluation Time: 0.03812200000000132\n",
      "sMAPE: 2.996084209654857%\n"
     ]
    }
   ],
   "source": [
    "gru_outputs, targets, gru_sMAPE = evaluate(gru_model, test_x, test_y)"
   ]
  },
  {
   "cell_type": "code",
   "execution_count": null,
   "metadata": {},
   "outputs": [],
   "source": []
  },
  {
   "cell_type": "code",
   "execution_count": null,
   "metadata": {
    "scrolled": true
   },
   "outputs": [],
   "source": []
  }
 ],
 "metadata": {
  "kernelspec": {
   "display_name": "Python 3",
   "language": "python",
   "name": "python3"
  },
  "language_info": {
   "codemirror_mode": {
    "name": "ipython",
    "version": 3
   },
   "file_extension": ".py",
   "mimetype": "text/x-python",
   "name": "python",
   "nbconvert_exporter": "python",
   "pygments_lexer": "ipython3",
   "version": "3.6.9"
  }
 },
 "nbformat": 4,
 "nbformat_minor": 4
}
