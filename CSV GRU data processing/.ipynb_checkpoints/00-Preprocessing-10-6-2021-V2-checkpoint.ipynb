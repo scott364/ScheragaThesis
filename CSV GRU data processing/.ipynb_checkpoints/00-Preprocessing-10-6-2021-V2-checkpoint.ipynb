{
 "cells": [
  {
   "cell_type": "markdown",
   "metadata": {},
   "source": [
    "In this notebook, we'll be using a GRU model for a time series prediction task and we will compare the performance of the GRU model against an LSTM model as well. The dataset that we will be using is the Hourly Energy Consumption dataset which can be found on [Kaggle](https://www.kaggle.com/robikscube/hourly-energy-consumption). The dataset contains power consumption data across different regions around the United States recorded on an hourly basis.\n",
    "\n",
    "You can run the code implementation in this article on FloydHub using their GPUs on the cloud by clicking the following link and using the main.ipynb notebook.\n",
    "\n",
    "[![Run on FloydHub](https://static.floydhub.com/button/button-small.svg)](https://floydhub.com/run?template=https://github.com/gabrielloye/https://github.com/gabrielloye/GRU_Prediction)\n",
    "\n",
    "This will speed up the training process significantly. Alternatively, the link to the GitHub repository can be found [here]().\n",
    "\n",
    "The goal of this implementation is to create a model that can accurately predict the energy usage in the next hour given historical usage data. We will be using both the GRU and LSTM model to train on a set of historical data and evaluate both models on an unseen test set. To do so, we’ll start with feature selection, data-preprocessing, followed by defining, training and eventually evaluating the models.\n",
    "\n",
    "We will be using the PyTorch library to implement both types of models along with other common Python libraries used in data analytics."
   ]
  },
  {
   "cell_type": "code",
   "execution_count": 2,
   "metadata": {},
   "outputs": [],
   "source": [
    "#https://blog.floydhub.com/gru-with-pytorch/\n",
    "\n",
    "import os\n",
    "import time\n",
    "import csv\n",
    "import numpy as np\n",
    "import pandas as pd\n",
    "import matplotlib.pyplot as plt\n",
    "\n",
    "import random\n",
    "from datetime import datetime\n",
    "\n",
    "import torch\n",
    "import torch.nn as nn\n",
    "from torch.utils.data import TensorDataset, DataLoader\n",
    "\n",
    "from tqdm import tqdm_notebook\n",
    "from sklearn.preprocessing import MinMaxScaler,QuantileTransformer\n",
    "from sklearn.model_selection import train_test_split\n",
    "from sklearn.utils.random import sample_without_replacement\n",
    "import random\n",
    "# Define data root directory\n",
    "\n",
    "#data_dir = \"./data/\"\n",
    "#print(os.listdir(data_dir))"
   ]
  },
  {
   "cell_type": "code",
   "execution_count": 3,
   "metadata": {},
   "outputs": [],
   "source": [
    "normalizeddataframe=pd.read_csv('forcetorquebuttonresults_10_06_2021.csv')#.head()\n",
    "originaldataframe=normalizeddataframe"
   ]
  },
  {
   "cell_type": "code",
   "execution_count": 4,
   "metadata": {},
   "outputs": [
    {
     "name": "stdout",
     "output_type": "stream",
     "text": [
      "(7200, 30)\n",
      "7200\n"
     ]
    }
   ],
   "source": [
    "print(normalizeddataframe.shape)\n",
    "print(normalizeddataframe.shape[0])\n"
   ]
  },
  {
   "cell_type": "markdown",
   "metadata": {},
   "source": [
    "We have a total of **12** *.csv* files containing hourly energy trend data (*'est_hourly.paruqet'* and *'pjm_hourly_est.csv'* are not used). In our next step, we will be reading these files and pre-processing these data in this order:\n",
    "- Getting the time data of each individual time step and generalizing them\n",
    "    - Hour of the day *i.e. 0-23*\n",
    "    - Day of the week *i.e. 1-7*\n",
    "    - Month *i.e. 1-12*\n",
    "    - Day of the year *i.e. 1-365*\n",
    "    \n",
    "    \n",
    "- Scale the data to values between 0 and 1\n",
    "    - Algorithms tend to perform better or converge faster when features are on a relatively similar scale and/or close to normally distributed\n",
    "    - Scaling preserves the shape of the original distribution and doesn't reduce the importance of outliers.\n",
    "    \n",
    "    \n",
    "- Group the data into sequences to be used as inputs to the model and store their corresponding labels\n",
    "    - The **sequence length** or **lookback period** is the number of data points in history that the model will use to make the prediction\n",
    "    - The label will be the next data point in time after the last one in the input sequence\n",
    "    \n",
    "\n",
    "- The inputs and labels will then be split into training and test sets"
   ]
  },
  {
   "cell_type": "code",
   "execution_count": 7,
   "metadata": {},
   "outputs": [
    {
     "name": "stdout",
     "output_type": "stream",
     "text": [
      "-0.14936999999999934\n",
      "-0.014936999999999978\n"
     ]
    }
   ],
   "source": [
    "#Un Normalize data\n",
    "\n",
    "\n",
    "\n",
    "xforce_normalized=-0.014937\n",
    "\n",
    "xforce_original=(((xforce_normalized+1)/2)*(xforcemax-xforcemin)+xforcemin)\n",
    "print(xforce_original)\n",
    "xforce_normalized2=((xforce_original-xforcemin)/(xforcemax-xforcemin)*2)-1\n",
    "\n",
    "print(xforce_normalized2)"
   ]
  },
  {
   "cell_type": "code",
   "execution_count": 5,
   "metadata": {},
   "outputs": [
    {
     "name": "stdout",
     "output_type": "stream",
     "text": [
      "794.0\n",
      "1200\n"
     ]
    }
   ],
   "source": [
    "#a=4764/6\n",
    "#print(a)\n",
    "\n",
    "print(int(normalizeddataframe.shape[0]/6))"
   ]
  },
  {
   "cell_type": "code",
   "execution_count": 8,
   "metadata": {},
   "outputs": [
    {
     "name": "stdout",
     "output_type": "stream",
     "text": [
      "data output to file\n"
     ]
    }
   ],
   "source": [
    "normalizeddataframe=pd.read_csv('forcetorquebuttonresults_10_06_2021.csv')#.head()\n",
    "originaldataframe=normalizeddataframe\n",
    "#unnormalizerange=range(0,5,575)\n",
    "#print(unnormalizerange)\n",
    "\n",
    "xforcemin=-10\n",
    "xforcemax=10\n",
    "yforcemin=-10\n",
    "yforcemax=10\n",
    "\n",
    "zforcemin=-15\n",
    "zforcemax=10\n",
    "rolltorquemin=-2\n",
    "rolltorquemax=2\n",
    "pitchtorquemin=-2\n",
    "pitchtorquemax=2\n",
    "yawtorquemin=-.1\n",
    "yawtorquemax=.1\n",
    "\n",
    "for i in range(0,int(normalizeddataframe.shape[0]),6):\n",
    "  \n",
    "    originaldataframe.iloc[i]=(((normalizeddataframe.iloc[i]+1)/2)*(xforcemax-xforcemin)+xforcemin)\n",
    "    originaldataframe.iloc[i+1]=(((normalizeddataframe.iloc[i+1]+1)/2)*(yforcemax-yforcemin)+yforcemin)\n",
    "    originaldataframe.iloc[i+2]=(((normalizeddataframe.iloc[i+2]+1)/2)*(zforcemax-zforcemin)+zforcemin)\n",
    "    originaldataframe.iloc[i+3]=(((normalizeddataframe.iloc[i+3]+1)/2)*(rolltorquemax-rolltorquemin)+rolltorquemin)\n",
    "    originaldataframe.iloc[i+4]=(((normalizeddataframe.iloc[i+4]+1)/2)*(pitchtorquemax-pitchtorquemin)+pitchtorquemin)\n",
    "    \n",
    "\n",
    "originaldataframe\n",
    "originaldataframe.to_csv('forcetorquebuttonresults_unnormalized_10_06_2021.csv', index=False)  \n",
    "print(\"data output to file\")\n"
   ]
  },
  {
   "cell_type": "code",
   "execution_count": 5,
   "metadata": {},
   "outputs": [
    {
     "name": "stdout",
     "output_type": "stream",
     "text": [
      "(7200, 30)\n",
      "xforcemin= -22.230667114257805 xforcemax= 17.042375564575195\n",
      "yforcemin= -22.726051330566413 yforcemax= 35.29412078857422\n",
      "zforcemin= -126.84883117675778 zforcemax= 7.810553550720215\n",
      "rolltorquemin= -6.410152912139893 rolltorquemax= 3.671941757202149\n",
      "pitchtorquemin= -5.011936187744141 pitchtorquemax= 3.922976493835449\n"
     ]
    }
   ],
   "source": [
    "#Find new min and max values for each set of data\n",
    "\n",
    "originaldataframe=pd.read_csv('forcetorquebuttonresults_unnormalized_10_06_2021.csv')#.head()\n",
    "print(originaldataframe.shape)\n",
    "xforcemin=999\n",
    "xforcemax=-999\n",
    "yforcemin=999\n",
    "yforcemax=-999\n",
    "zforcemin=999\n",
    "zforcemax=-999\n",
    "rolltorquemin=999\n",
    "rolltorquemax=-999\n",
    "pitchtorquemin=999\n",
    "pitchtorquemax=-999\n",
    "\n",
    "\n",
    "for i in range(0,575,6):\n",
    "    xtempmin=originaldataframe.iloc[i].min(axis=0)\n",
    "    xtempmax=originaldataframe.iloc[i].max(axis=0)\n",
    "    ytempmin=originaldataframe.iloc[i+1].min(axis=0)\n",
    "    ytempmax=originaldataframe.iloc[i+1].max(axis=0)\n",
    "    ztempmin=originaldataframe.iloc[i+2].min(axis=0)\n",
    "    ztempmax=originaldataframe.iloc[i+2].max(axis=0)\n",
    "    rolltempmin=originaldataframe.iloc[i+3].min(axis=0)\n",
    "    rolltempmax=originaldataframe.iloc[i+3].max(axis=0)\n",
    "    pitchtempmin=originaldataframe.iloc[i+4].min(axis=0)\n",
    "    pitchtempmax=originaldataframe.iloc[i+4].max(axis=0)\n",
    "    \n",
    "    if xtempmin<xforcemin:\n",
    "        xforcemin=xtempmin\n",
    "    if ytempmin<yforcemin:\n",
    "        yforcemin=ytempmin\n",
    "    if ztempmin<zforcemin:\n",
    "        zforcemin=ztempmin\n",
    "        #print(\"row\",i+2,\"new min =\",zforcemin)\n",
    "    #if ztempmin<-50:\n",
    "        #print(\"row\",i+2,\"low z =\",zforcemin)\n",
    "        \n",
    "    if rolltempmin<rolltorquemin:\n",
    "        rolltorquemin=rolltempmin\n",
    "   \n",
    "        \n",
    "    if xtempmax>xforcemax:\n",
    "        xforcemax=xtempmax\n",
    "    if ytempmax>yforcemax:\n",
    "        yforcemax=ytempmax\n",
    "    if ztempmax>zforcemax:\n",
    "        zforcemax=ztempmax\n",
    "        #print(\"new max=\",zforcemax)\n",
    "    if rolltempmax>rolltorquemax:\n",
    "        rolltorquemax=rolltempmax\n",
    "\n",
    "    if pitchtempmin<pitchtorquemin:\n",
    "        pitchtorquemin=pitchtempmin    \n",
    "        \n",
    "    if pitchtempmax>pitchtorquemax:\n",
    "        pitchtorquemax=pitchtempmax   \n",
    "   \n",
    " \n",
    "    \n",
    "print(\"xforcemin=\",xforcemin,\"xforcemax=\",xforcemax)\n",
    "print(\"yforcemin=\",yforcemin,\"yforcemax=\",yforcemax)\n",
    "print(\"zforcemin=\",zforcemin,\"zforcemax=\",zforcemax)\n",
    "print(\"rolltorquemin=\",rolltorquemin,\"rolltorquemax=\",rolltorquemax)\n",
    "print(\"pitchtorquemin=\",pitchtorquemin,\"pitchtorquemax=\",pitchtorquemax)\n",
    "\n",
    "\n",
    "\n",
    "\n"
   ]
  },
  {
   "cell_type": "code",
   "execution_count": 10,
   "metadata": {},
   "outputs": [
    {
     "name": "stdout",
     "output_type": "stream",
     "text": [
      "[-0.38371107 -0.46302348  0.04506418 -0.5125801   0.904589   -0.28851596\n",
      "  0.96290171  1.7063899  -1.83390522 -0.06415987  3.80460715  3.075104\n",
      "  5.97340536  0.02843975  1.98027706  2.44510412 -1.75635695 -0.77543527\n",
      " -0.67004275  3.00724626  3.20980525  2.72190237  7.22309446 -0.55252874\n",
      " -0.35685888  0.25577372  0.90019143 -2.79025817 -6.09597921 -4.58737516]\n",
      "xforcearray []\n",
      "(0,)\n",
      "[-0.38371107 -0.46302348  0.04506418 -0.5125801   0.904589   -0.28851596\n",
      "  0.96290171  1.7063899  -1.83390522 -0.06415987  3.80460715  3.075104\n",
      "  5.97340536  0.02843975  1.98027706  2.44510412 -1.75635695 -0.77543527\n",
      " -0.67004275  3.00724626  3.20980525  2.72190237  7.22309446 -0.55252874\n",
      " -0.35685888  0.25577372  0.90019143 -2.79025817 -6.09597921 -4.58737516]\n",
      "(30,)\n"
     ]
    }
   ],
   "source": [
    "originaldataframe=pd.read_csv('forcetorquebuttonresults_unnormalized_10_06_2021.csv')#.head()\n",
    "#Create quantile transformers\n",
    "\n",
    "xforcearray=np.array([])\n",
    "#print(xforcearray)\n",
    "\n",
    "temparray=pd.DataFrame(originaldataframe.iloc[0]).to_numpy()\n",
    "temparray=temparray.T.flatten()\n",
    "#print(temparray)\n",
    "#print(temparray)\n",
    "\n",
    "#print(temparray[0])\n",
    "#xforcearray=temparray\n",
    "\n",
    "print(temparray)\n",
    "print(\"xforcearray\",xforcearray)\n",
    "print(xforcearray.shape)\n",
    "\n",
    "xforcearray=np.append(xforcearray,temparray)\n",
    "print(xforcearray)\n",
    "print(xforcearray.shape)"
   ]
  },
  {
   "cell_type": "code",
   "execution_count": 76,
   "metadata": {},
   "outputs": [
    {
     "name": "stdout",
     "output_type": "stream",
     "text": [
      "(7200, 30)\n",
      "1200\n",
      "(6000,)\n",
      "(6000,)\n",
      "(6000,)\n",
      "(6000,)\n",
      "(6000,)\n",
      "[-0.38371107 -0.46302348  0.04506418 -0.5125801   0.904589   -0.28851596\n",
      "  0.96290171  1.7063899  -1.83390522 -0.06415987]\n"
     ]
    }
   ],
   "source": [
    "originaldataframe=pd.read_csv('forcetorquebuttonresults_unnormalized_10_06_2021.csv')#.head()\n",
    "\n",
    "xforcearray=np.array([])\n",
    "yforcearray=np.array([])\n",
    "zforcearray=np.array([])\n",
    "rolltorquearray=np.array([])\n",
    "pitchtorquearray=np.array([])\n",
    "print(normalizeddataframe.shape)\n",
    "print(int(normalizeddataframe.shape[0]/6))\n",
    "\n",
    "for i in range(0,int(normalizeddataframe.shape[0]/6),6):\n",
    "    \n",
    "    x_temparray=pd.DataFrame(originaldataframe.iloc[i]).to_numpy()\n",
    "    y_temparray=pd.DataFrame(originaldataframe.iloc[i+1]).to_numpy()\n",
    "    z_temparray=pd.DataFrame(originaldataframe.iloc[i+2]).to_numpy()\n",
    "    roll_temparray=pd.DataFrame(originaldataframe.iloc[i+3]).to_numpy()\n",
    "    pitch_temparray=pd.DataFrame(originaldataframe.iloc[i+4]).to_numpy()\n",
    "    \n",
    "    xforcearray=np.append(xforcearray,x_temparray.T.flatten())\n",
    "    yforcearray=np.append(yforcearray,y_temparray.T.flatten())\n",
    "    zforcearray=np.append(zforcearray,z_temparray.T.flatten())\n",
    "    rolltorquearray=np.append(rolltorquearray,roll_temparray.T.flatten())\n",
    "    pitchtorquearray=np.append(pitchtorquearray,pitch_temparray.T.flatten())\n",
    "\n",
    "print(xforcearray.shape)\n",
    "print(yforcearray.shape)\n",
    "print(zforcearray.shape)\n",
    "print(rolltorquearray.shape)\n",
    "print(pitchtorquearray.shape)\n",
    "print(xforcearray[0:10])"
   ]
  },
  {
   "cell_type": "markdown",
   "metadata": {},
   "source": [
    "## Fit transformers"
   ]
  },
  {
   "cell_type": "code",
   "execution_count": 77,
   "metadata": {},
   "outputs": [
    {
     "name": "stdout",
     "output_type": "stream",
     "text": [
      "fit complete\n"
     ]
    }
   ],
   "source": [
    "#https://scikit-learn.org/stable/auto_examples/preprocessing/plot_all_scaling.html#results\n",
    "\n",
    "xforcearray=np.sort(xforcearray)\n",
    "#xforcearray_transformer = QuantileTransformer(n_quantiles=4, random_state=0)\n",
    "xforcearray_transformer =MinMaxScaler()\n",
    "xforcearray=xforcearray.reshape(-1, 1)\n",
    "xforcearray_transformer.fit(xforcearray)\n",
    "x_transformed=xforcearray_transformer.transform(xforcearray)\n",
    "\n",
    "yforcearray=np.sort(yforcearray)\n",
    "#xforcearray_transformer = QuantileTransformer(n_quantiles=4, random_state=0)\n",
    "yforcearray_transformer =MinMaxScaler()\n",
    "yforcearray=yforcearray.reshape(-1, 1)\n",
    "yforcearray_transformer.fit(yforcearray)\n",
    "y_transformed=yforcearray_transformer.transform(yforcearray)\n",
    "\n",
    "zforcearray=np.sort(zforcearray)\n",
    "#xforcearray_transformer = QuantileTransformer(n_quantiles=4, random_state=0)\n",
    "zforcearray_transformer =MinMaxScaler()\n",
    "zforcearray=zforcearray.reshape(-1, 1)\n",
    "zforcearray_transformer.fit(zforcearray)\n",
    "z_transformed=zforcearray_transformer.transform(zforcearray)\n",
    "\n",
    "rolltorquearray=np.sort(rolltorquearray)\n",
    "#xforcearray_transformer = QuantileTransformer(n_quantiles=4, random_state=0)\n",
    "rolltorquearray_transformer =MinMaxScaler()\n",
    "rolltorquearray=rolltorquearray.reshape(-1, 1)\n",
    "rolltorquearray_transformer.fit(rolltorquearray)\n",
    "roll_transformed=rolltorquearray_transformer.transform(rolltorquearray)\n",
    "\n",
    "pitchtorquearray=np.sort(pitchtorquearray)\n",
    "#pitchtorquearray_transformer= QuantileTransformer(n_quantiles=4, random_state=0)\n",
    "pitchtorquearray_transformer =MinMaxScaler()\n",
    "pitchtorquearray=pitchtorquearray.reshape(-1, 1)\n",
    "pitchtorquearray_transformer.fit(pitchtorquearray)\n",
    "pitch_transformed=pitchtorquearray_transformer.transform(pitchtorquearray)\n",
    "\n",
    "print(\"fit complete\")"
   ]
  },
  {
   "cell_type": "code",
   "execution_count": 78,
   "metadata": {},
   "outputs": [
    {
     "data": {
      "image/png": "[encoded data removed]",
      "text/plain": [
       "<Figure size 1080x576 with 6 Axes>"
      ]
     },
     "metadata": {
      "needs_background": "light"
     },
     "output_type": "display_data"
    }
   ],
   "source": [
    "fig = plt.figure(figsize=(15, 8)) #figsize=(25, 80)\n",
    "ax1 = plt.subplot(2, 3, 1)\n",
    "ax1.plot(xforcearray)\n",
    "plt.title(\"Force:X\")\n",
    "ax2 = plt.subplot(2, 3, 2)\n",
    "ax2.plot(yforcearray)\n",
    "plt.title(\"Force:Y\")\n",
    "ax3 = plt.subplot(2, 3, 3)\n",
    "ax3.plot(zforcearray)\n",
    "plt.title(\"Force:Z\")\n",
    "ax4 = plt.subplot(2, 3, 4)\n",
    "ax4.plot(rolltorquearray)\n",
    "plt.title(\"Torque:Roll\")\n",
    "ax5 = plt.subplot(2, 3, 5)\n",
    "ax5.plot(pitchtorquearray)\n",
    "plt.title(\"Torque:Pitch\")\n",
    "ax6 = plt.subplot(2, 3, 6)    \n",
    "ax6.plot(x_transformed, label=\"Force:X\")\n",
    "ax6.plot(y_transformed, label=\"Force:Y\")\n",
    "ax6.plot(z_transformed, label=\"Force:Z\")\n",
    "ax6.plot(roll_transformed, label=\"Torque:Roll\")\n",
    "ax6.plot(pitch_transformed, label=\"Torque:Pitch\")\n",
    "handles, labels = ax6.get_legend_handles_labels()\n",
    "ax6.legend(handles, labels,loc='lower right')\n",
    "\n",
    "plt.title(\"All plots, Transformed to betwen 0 and 1\")\n",
    "plt.show()\n",
    "\n",
    "\n",
    "#plt.plot(x_transformed, label=\"Force:X\")\n",
    "#plt.title(\"Force:X\")\n",
    "#plt.show()"
   ]
  },
  {
   "cell_type": "markdown",
   "metadata": {},
   "source": [
    "## Generate normalized data according to transformers. "
   ]
  },
  {
   "cell_type": "code",
   "execution_count": 44,
   "metadata": {},
   "outputs": [
    {
     "name": "stdout",
     "output_type": "stream",
     "text": [
      "(4764, 30)\n",
      "794.0\n",
      "795\n"
     ]
    }
   ],
   "source": [
    "\n",
    "print(originaldataframe.shape)\n",
    "print(originaldataframe.shape[0]/6)  #795 total episodes. Galues go from 0 to 794\n",
    "print(int((originaldataframe.shape[0]/6)+1))"
   ]
  },
  {
   "cell_type": "code",
   "execution_count": 79,
   "metadata": {},
   "outputs": [
    {
     "name": "stdout",
     "output_type": "stream",
     "text": [
      "data output to file complete1\n"
     ]
    }
   ],
   "source": [
    "originaldataframe=pd.read_csv('forcetorquebuttonresults_unnormalized_10_06_2021.csv')#.head()\n",
    "\n",
    "transformeddataframe=originaldataframe\n",
    "headers=[]\n",
    "for i in range(30):\n",
    "    label=str(i)\n",
    "    headers.append(\"header\"+label)\n",
    "\n",
    "#for i in range(0,575,6):\n",
    "for i in range(0,int((originaldataframe.shape[0]/6)+1),6):\n",
    "   # transformeddataframe.iloc[i]=xforcearray_transformer.transform(originaldataframe.iloc[i])\n",
    "   \n",
    "    x_temparray=pd.DataFrame(originaldataframe.iloc[i]).to_numpy()\n",
    "    #print(x_temparray)\n",
    "    x_temparray=x_temparray.T\n",
    "    #print(x_temparray)\n",
    "    x_temparraytransformed=xforcearray_transformer.transform(x_temparray)\n",
    "    #print(\"x_temparraytransformed\",x_temparraytransformed[0])\n",
    "    transformeddataframe.iloc[i]= x_temparraytransformed[0]\n",
    "    #print(transformeddataframe.iloc[i])\n",
    "    \n",
    "    y_temparray=pd.DataFrame(originaldataframe.iloc[i+1]).to_numpy()\n",
    "    y_temparray=y_temparray.T\n",
    "    y_temparraytransformed=yforcearray_transformer.transform(y_temparray)\n",
    "    transformeddataframe.iloc[i+1]= y_temparraytransformed[0]\n",
    "    \n",
    "    z_temparray=pd.DataFrame(originaldataframe.iloc[i+2]).to_numpy()\n",
    "    z_temparray=z_temparray.T\n",
    "    z_temparraytransformed=zforcearray_transformer.transform(z_temparray)\n",
    "    transformeddataframe.iloc[i+2]= z_temparraytransformed[0]\n",
    "    \n",
    "    roll_temparray=pd.DataFrame(originaldataframe.iloc[i+3]).to_numpy()\n",
    "    roll_temparray=roll_temparray.T\n",
    "    roll_temparraytransformed=rolltorquearray_transformer.transform(roll_temparray)\n",
    "    transformeddataframe.iloc[i+3]= roll_temparraytransformed[0]\n",
    "    \n",
    "    pitch_temparray=pd.DataFrame(originaldataframe.iloc[i+4]).to_numpy()\n",
    "    pitch_temparray=pitch_temparray.T\n",
    "    pitch_temparraytransformed=pitchtorquearray_transformer.transform(pitch_temparray)\n",
    "    transformeddataframe.iloc[i+4]= pitch_temparraytransformed[0]\n",
    "    \n",
    "#uncomment below to update file\n",
    "transformeddataframe.to_csv('forcetorquebuttonresults_renormalized_10_06_2021.csv', index=False)  \n",
    "print(\"data output to file complete1\") "
   ]
  },
  {
   "cell_type": "code",
   "execution_count": 10,
   "metadata": {},
   "outputs": [
    {
     "name": "stdout",
     "output_type": "stream",
     "text": [
      "(3960, 10)\n",
      "3960\n",
      "660.0\n",
      "xforcemin= -2.311346244812012 xforcemax= 1.9456636428833007\n",
      "yforcemin= -2.8277559280395512 yforcemax= 4.810685729980468\n",
      "zforcemin= -10.68392822265625 zforcemax= 0.9918702012071186\n",
      "rolltorquemin= -4.4861321449279785 rolltorquemax= 2.510671138763428\n",
      "pitchtorquemin= -3.026318311691284 pitchtorquemax= 2.405967235565185\n"
     ]
    }
   ],
   "source": [
    "#Find new min and max values for each set of data\n",
    "\n",
    "#originaldataframe=pd.read_csv('forcetorquebuttonresults_renormalized_10_06_2021.csv')#.head()\n",
    "originaldataframe=pd.read_csv('choppeddata_10_06_2021_equalsuccessfail.csv')#.head()\n",
    "print(originaldataframe.shape)\n",
    "print(originaldataframe.shape[0])\n",
    "print(originaldataframe.shape[0]/6)\n",
    "xforcemin=999\n",
    "xforcemax=-999\n",
    "yforcemin=999\n",
    "yforcemax=-999\n",
    "zforcemin=999\n",
    "zforcemax=-999\n",
    "rolltorquemin=999\n",
    "rolltorquemax=-999\n",
    "pitchtorquemin=999\n",
    "pitchtorquemax=-999\n",
    "\n",
    "\n",
    "for i in range(0,int(originaldataframe.shape[0]),6):\n",
    "    xtempmin=originaldataframe.iloc[i].min(axis=0)\n",
    "    xtempmax=originaldataframe.iloc[i].max(axis=0)\n",
    "    ytempmin=originaldataframe.iloc[i+1].min(axis=0)\n",
    "    ytempmax=originaldataframe.iloc[i+1].max(axis=0)\n",
    "    ztempmin=originaldataframe.iloc[i+2].min(axis=0)\n",
    "    ztempmax=originaldataframe.iloc[i+2].max(axis=0)\n",
    "    rolltempmin=originaldataframe.iloc[i+3].min(axis=0)\n",
    "    rolltempmax=originaldataframe.iloc[i+3].max(axis=0)\n",
    "    pitchtempmin=originaldataframe.iloc[i+4].min(axis=0)\n",
    "    pitchtempmax=originaldataframe.iloc[i+4].max(axis=0)\n",
    "    \n",
    "    if xtempmin<xforcemin:\n",
    "        xforcemin=xtempmin\n",
    "    if ytempmin<yforcemin:\n",
    "        yforcemin=ytempmin\n",
    "    if ztempmin<zforcemin:\n",
    "        zforcemin=ztempmin\n",
    "        #print(\"row\",i+2,\"new min =\",zforcemin)\n",
    "    #if ztempmin<-50:\n",
    "        #print(\"row\",i+2,\"low z =\",zforcemin)\n",
    "        \n",
    "    if rolltempmin<rolltorquemin:\n",
    "        rolltorquemin=rolltempmin\n",
    "   \n",
    "        \n",
    "    if xtempmax>xforcemax:\n",
    "        xforcemax=xtempmax\n",
    "    if ytempmax>yforcemax:\n",
    "        yforcemax=ytempmax\n",
    "    if ztempmax>zforcemax:\n",
    "        zforcemax=ztempmax\n",
    "        #print(\"new max=\",zforcemax)\n",
    "    if rolltempmax>rolltorquemax:\n",
    "        rolltorquemax=rolltempmax\n",
    "\n",
    "    if pitchtempmin<pitchtorquemin:\n",
    "        pitchtorquemin=pitchtempmin    \n",
    "        \n",
    "    if pitchtempmax>pitchtorquemax:\n",
    "        pitchtorquemax=pitchtempmax   \n",
    "   \n",
    " \n",
    "    \n",
    "print(\"xforcemin=\",xforcemin,\"xforcemax=\",xforcemax)\n",
    "print(\"yforcemin=\",yforcemin,\"yforcemax=\",yforcemax)\n",
    "print(\"zforcemin=\",zforcemin,\"zforcemax=\",zforcemax)\n",
    "print(\"rolltorquemin=\",rolltorquemin,\"rolltorquemax=\",rolltorquemax)\n",
    "print(\"pitchtorquemin=\",pitchtorquemin,\"pitchtorquemax=\",pitchtorquemax)\n",
    "\n",
    "\n"
   ]
  },
  {
   "cell_type": "markdown",
   "metadata": {},
   "source": [
    "## Cutting data to final 10 timesteps of every episode"
   ]
  },
  {
   "cell_type": "code",
   "execution_count": 80,
   "metadata": {},
   "outputs": [
    {
     "name": "stdout",
     "output_type": "stream",
     "text": [
      "Empty DataFrame\n",
      "Columns: [header0, header1, header2, header3, header4, header5, header6, header7, header8, header9]\n",
      "Index: []\n"
     ]
    }
   ],
   "source": [
    "\n",
    "choppedheaders=[]\n",
    "for i in range(10):\n",
    "    label=str(i)\n",
    "    choppedheaders.append(\"header\"+label)\n",
    "\n",
    "headers=[]\n",
    "for i in range(30):\n",
    "    label=str(i)\n",
    "    headers.append(\"header\"+label)\n",
    "    \n",
    "normalizeddata=pd.read_csv('forcetorquebuttonresults_renormalized_10_06_2021.csv')#.head()\n",
    "choppeddata= pd.DataFrame(columns=choppedheaders)\n",
    "print(choppeddata)\n"
   ]
  },
  {
   "cell_type": "code",
   "execution_count": 81,
   "metadata": {},
   "outputs": [
    {
     "name": "stdout",
     "output_type": "stream",
     "text": [
      "[0.9382722191577816, 0.936652995403635, 0.9356529591157126, 0.9378478187788948, 0.9380606061345532, 0.9372844114728536, 0.9387022807013048, 0.93789119807265, 0.937141213502412, 0.939661046872144]\n",
      "    header0   header1   header2   header3   header4   header5   header6  \\\n",
      "0  0.938272  0.936653  0.935653  0.937848  0.938061  0.937284  0.938702   \n",
      "1  0.938272  0.936653  0.935653  0.937848  0.938061  0.937284  0.938702   \n",
      "\n",
      "    header7   header8   header9  \n",
      "0  0.937891  0.937141  0.939661  \n",
      "1  0.937891  0.937141  0.939661  \n"
     ]
    }
   ],
   "source": [
    "h=11\n",
    "i=570\n",
    "\n",
    "choppedheaders=[]\n",
    "for i in range(10):\n",
    "    label=str(i)\n",
    "    choppedheaders.append(\"header\"+label)\n",
    "    \n",
    "    \n",
    "a=normalizeddata[headers[(h-9):h+1]].iloc[i+5]\n",
    "a=a.tolist()\n",
    "print(a)\n",
    "\n",
    "df = pd.DataFrame(columns=choppedheaders)\n",
    "#print(\"choppedheaders\",choppedheaders)\n",
    "#print(choppedheaders.type())\n",
    "df.loc[len(df)]=a\n",
    "df.loc[len(df)]=a\n",
    "print(df)\n",
    "  \n",
    "# append rows to an empty DataFrame\n",
    "#df = df.append({'Name' : 'Ankit', 'Articles' : 97, 'Improved' : 2200}, \n",
    "#                ignore_index = True)"
   ]
  },
  {
   "cell_type": "code",
   "execution_count": 51,
   "metadata": {},
   "outputs": [
    {
     "data": {
      "text/plain": [
       "4765"
      ]
     },
     "execution_count": 51,
     "metadata": {},
     "output_type": "execute_result"
    }
   ],
   "source": []
  },
  {
   "cell_type": "code",
   "execution_count": 82,
   "metadata": {},
   "outputs": [
    {
     "name": "stdout",
     "output_type": "stream",
     "text": [
      "data output to file complete\n"
     ]
    }
   ],
   "source": [
    "\n",
    "choppedheaders=[]\n",
    "lookback=10 #save only the last 11 timesteps\n",
    "for i in range(lookback):  \n",
    "    label=str(i)\n",
    "    choppedheaders.append(\"header\"+label)\n",
    "\n",
    "choppeddata = pd.DataFrame(columns=choppedheaders)\n",
    "\n",
    "\n",
    "for i in range(0,int((normalizeddata.shape[0])-1),6):\n",
    "    #print(\"\")\n",
    "    for h in range(len(headers)):\n",
    "        successflag=False\n",
    "        if normalizeddata[headers[h]].iloc[i+5]==1:\n",
    "            tempdata0=(normalizeddata[headers[(h-(lookback-1)):h+1]].iloc[i]).tolist()\n",
    "            tempdata1=(normalizeddata[headers[(h-(lookback-1)):h+1]].iloc[i+1]).tolist()\n",
    "            tempdata2=(normalizeddata[headers[(h-(lookback-1)):h+1]].iloc[i+2]).tolist()\n",
    "            tempdata3=(normalizeddata[headers[(h-(lookback-1)):h+1]].iloc[i+3]).tolist()\n",
    "            tempdata4=(normalizeddata[headers[(h-(lookback-1)):h+1]].iloc[i+4]).tolist()\n",
    "            tempdata5=(normalizeddata[headers[(h-(lookback-1)):h+1]].iloc[i+5]).tolist()\n",
    "            \n",
    "            #tempdata=tempdata.tolist()\n",
    "            choppeddata.loc[len(choppeddata)]=tempdata0 #add list of data to new row in dataframe\n",
    "            choppeddata.loc[len(choppeddata)]=tempdata1 \n",
    "            choppeddata.loc[len(choppeddata)]=tempdata2 \n",
    "            choppeddata.loc[len(choppeddata)]=tempdata3 \n",
    "            choppeddata.loc[len(choppeddata)]=tempdata4 \n",
    "            choppeddata.loc[len(choppeddata)]=tempdata5 \n",
    "            successflag=True\n",
    "            break\n",
    "          \n",
    "    if successflag==False:\n",
    "        # if run was not successful, grab the last 11 timesteps from the run. I may need to sample more?\n",
    "        tempdata0=(normalizeddata[headers[(len(headers)-(lookback)):(len(headers))]].iloc[i]).tolist()\n",
    "        tempdata1=(normalizeddata[headers[(len(headers)-(lookback)):(len(headers))]].iloc[i+1]).tolist()\n",
    "        tempdata2=(normalizeddata[headers[(len(headers)-(lookback)):(len(headers))]].iloc[i+2]).tolist()\n",
    "        tempdata3=(normalizeddata[headers[(len(headers)-(lookback)):(len(headers))]].iloc[i+3]).tolist()\n",
    "        tempdata4=(normalizeddata[headers[(len(headers)-(lookback)):(len(headers))]].iloc[i+4]).tolist()\n",
    "        tempdata5=(normalizeddata[headers[(len(headers)-(lookback)):(len(headers))]].iloc[i+5]).tolist()\n",
    "        choppeddata.loc[len(choppeddata)]=tempdata0 #add list of data to new row in dataframe\n",
    "        choppeddata.loc[len(choppeddata)]=tempdata1 \n",
    "        choppeddata.loc[len(choppeddata)]=tempdata2 \n",
    "        choppeddata.loc[len(choppeddata)]=tempdata3 \n",
    "        choppeddata.loc[len(choppeddata)]=tempdata4 \n",
    "        choppeddata.loc[len(choppeddata)]=tempdata5 \n",
    "\n",
    "            \n",
    "            \n",
    "            #print(\"col:\",headers[(h-11):h],\"row:\", i+5)\n",
    "            #print(\"values:\",normalizeddata[headers[(h-11):h+1]].iloc[i+5])\n",
    "            \n",
    "            \n",
    "            \n",
    "            \n",
    "choppeddata.to_csv('choppeddata_10_06_2021.csv', index=False)  \n",
    "print(\"data output to file complete\")          "
   ]
  },
  {
   "cell_type": "markdown",
   "metadata": {},
   "source": [
    "## Output data set with equal quantities of successful and failed runs."
   ]
  },
  {
   "cell_type": "code",
   "execution_count": 29,
   "metadata": {},
   "outputs": [
    {
     "name": "stdout",
     "output_type": "stream",
     "text": [
      "7200\n",
      "Runs: 1200\n",
      "10\n",
      "total successes 870\n",
      "total failures 330\n"
     ]
    }
   ],
   "source": [
    "#First get qty of successes and fails\n",
    "\n",
    "\n",
    "#print(normalizeddata.shape)\n",
    "#print(normalizeddata.shape[0]/6)\n",
    "headers=[]\n",
    "for i in range(30):\n",
    "    label=str(i)\n",
    "    headers.append(\"header\"+label)\n",
    "    \n",
    "choppedheaders=[]\n",
    "for i in range(10):\n",
    "    label=str(i)\n",
    "    choppedheaders.append(\"header\"+label)\n",
    "    \n",
    "#normalizeddata=pd.read_csv('forcetorquebuttonresults_renormalized_10_06_2021.csv')#.head()\n",
    "successcounter=0\n",
    "choppeddata=pd.read_csv('choppeddata_10_06_2021.csv')  \n",
    "print(choppeddata.shape[0])\n",
    "print(\"Runs:\",int(choppeddata.shape[0]/6))\n",
    "print(choppeddata.shape[1])\n",
    "for i in range(0,int((choppeddata.shape[0])-1),6):\n",
    "    #print(\"\")\n",
    "    \n",
    "        successflag=False\n",
    "        if choppeddata[headers[int((choppeddata.shape[1]-1))]].iloc[i+5]==1: # and successcounter<0:\n",
    "            successflag=True\n",
    "            successcounter+=1\n",
    "            #\n",
    "totalfailures=int(choppeddata.shape[0]/6)-successcounter  \n",
    "totalsuccess=successcounter\n",
    "print(\"total successes\",totalsuccess)            \n",
    "print(\"total failures\",totalfailures)               \n",
    "#--------------------------------------------------------"
   ]
  },
  {
   "cell_type": "code",
   "execution_count": 12,
   "metadata": {},
   "outputs": [
    {
     "name": "stdout",
     "output_type": "stream",
     "text": [
      "choppeddata.shape[1]-1 9\n"
     ]
    }
   ],
   "source": [
    "print(\"choppeddata.shape[1]-1\",choppeddata.shape[1]-1)"
   ]
  },
  {
   "cell_type": "code",
   "execution_count": 35,
   "metadata": {},
   "outputs": [
    {
     "name": "stdout",
     "output_type": "stream",
     "text": [
      "successes added to file= 330\n",
      "fails added to file= 330\n",
      "data output to file complete\n"
     ]
    }
   ],
   "source": [
    "totalsuccesses=successcounter\n",
    "\n",
    "\n",
    "successdata = pd.DataFrame(columns=choppedheaders)\n",
    "fulldata = pd.DataFrame(columns=choppedheaders)\n",
    "\n",
    "failcounterB=0\n",
    "successcounterB=0\n",
    "lookback=10\n",
    "\n",
    "\n",
    "\n",
    "for i in range(0,int((choppeddata.shape[0])-1),6):\n",
    "    #print(\"\")\n",
    "   \n",
    "    successflag=False\n",
    "    randomselector=random.randint(0, int(totalsuccess)) #randomly select successes based on number of fails\n",
    "    if (choppeddata[choppedheaders[choppeddata.shape[1]-1]].iloc[i+5]==1 and \n",
    "        (randomselector<=totalfailures) and successcounterB<totalfailures): \n",
    "        tempdata0=(choppeddata[choppedheaders[:]].iloc[i]).tolist()\n",
    "        tempdata1=(choppeddata[choppedheaders[:]].iloc[i+1]).tolist()\n",
    "        tempdata2=(choppeddata[choppedheaders[:]].iloc[i+2]).tolist()\n",
    "        tempdata3=(choppeddata[choppedheaders[:]].iloc[i+3]).tolist()\n",
    "        tempdata4=(choppeddata[choppedheaders[:]].iloc[i+4]).tolist()\n",
    "        tempdata5=(choppeddata[choppedheaders[:]].iloc[i+5]).tolist()\n",
    "\n",
    "        #tempdata=tempdata.tolist()\n",
    "        fulldata.loc[len(fulldata)]=tempdata0 #add list of data to new row in dataframe\n",
    "        fulldata.loc[len(fulldata)]=tempdata1 \n",
    "        fulldata.loc[len(fulldata)]=tempdata2 \n",
    "        fulldata.loc[len(fulldata)]=tempdata3 \n",
    "        fulldata.loc[len(fulldata)]=tempdata4 \n",
    "        fulldata.loc[len(fulldata)]=tempdata5 \n",
    "        successflag=True\n",
    "        successcounterB+=1\n",
    "        #\n",
    "        \n",
    "    elif choppeddata[headers[choppeddata.shape[1]-1]].iloc[i+5]==1:\n",
    "        successflag=True\n",
    "            \n",
    "    if successflag==False:\n",
    "        # if run was not successful, grab the last 11 timesteps from the run. I may need to sample more?\n",
    "        tempdata0=(choppeddata[choppedheaders[:]].iloc[i]).tolist()\n",
    "        tempdata1=(choppeddata[choppedheaders[:]].iloc[i+1]).tolist()\n",
    "        tempdata2=(choppeddata[choppedheaders[:]].iloc[i+2]).tolist()\n",
    "        tempdata3=(choppeddata[choppedheaders[:]].iloc[i+3]).tolist()\n",
    "        tempdata4=(choppeddata[choppedheaders[:]].iloc[i+4]).tolist()\n",
    "        tempdata5=(choppeddata[choppedheaders[:]].iloc[i+5]).tolist()\n",
    "        fulldata.loc[len(fulldata)]=tempdata0 #add list of data to new row in dataframe\n",
    "        fulldata.loc[len(fulldata)]=tempdata1 \n",
    "        fulldata.loc[len(fulldata)]=tempdata2 \n",
    "        fulldata.loc[len(fulldata)]=tempdata3 \n",
    "        fulldata.loc[len(fulldata)]=tempdata4 \n",
    "        fulldata.loc[len(fulldata)]=tempdata5 \n",
    "        failcounterB+=1\n",
    "\n",
    "            \n",
    "                        \n",
    "            #print(\"col:\",headers[(h-11):h],\"row:\", i+5)\n",
    "            #print(\"values:\",normalizeddata[headers[(h-11):h+1]].iloc[i+5])\n",
    "print(\"successes added to file=\",successcounterB)   \n",
    "print(\"fails added to file=\",failcounterB)  \n",
    "            \n",
    "fulldata.to_csv('choppeddata_10_06_2021_equalsuccessfail.csv', index=False)  \n",
    "print(\"data output to file complete\")   \n",
    "\n",
    "       "
   ]
  },
  {
   "cell_type": "code",
   "execution_count": 22,
   "metadata": {},
   "outputs": [
    {
     "name": "stdout",
     "output_type": "stream",
     "text": [
      "1980\n",
      "Full data shape before sucesses: (1980, 10)\n",
      "1980\n",
      "sucesses data shape: (1980, 10)\n",
      "330\n"
     ]
    }
   ],
   "source": [
    "print(fulldata.shape[0])\n",
    "print(\"Full data shape before sucesses:\",fulldata.shape)\n",
    "\n",
    "\n",
    "print(successdata.shape[0])\n",
    "print(\"sucesses data shape:\",successdata.shape)\n",
    "\n",
    "print(int(successdata.shape[0]/6))\n"
   ]
  },
  {
   "cell_type": "code",
   "execution_count": 73,
   "metadata": {},
   "outputs": [
    {
     "name": "stdout",
     "output_type": "stream",
     "text": [
      "5220\n",
      "Full data shape: (1980, 10)\n",
      "870\n",
      "failcounter 0\n",
      "Full data shape: (3960, 10)\n"
     ]
    }
   ],
   "source": [
    "##Randomly sample successful runs, and they are more numerous than failed runs, and the \"types\" of successfully runs might change as RL training progresses\n",
    "\n",
    "success_all_index=[*range(0,int((successdata.shape[0])),6)]\n",
    "\n",
    "    \n",
    "success_randomsampled_index=sample_without_replacement(n_population=870, n_samples=failcounter)\n",
    "\n",
    "#print(success_random_index)\n",
    "\n",
    "for i in range(len(success_random_index)):\n",
    "    #print(success_all_index[success_randomsampled_index[i]])\n",
    "    tempdata0=(successdata[choppedheaders[:]].iloc[i]).tolist()\n",
    "    tempdata1=(successdata[choppedheaders[:]].iloc[i+1]).tolist()\n",
    "    tempdata2=(successdata[choppedheaders[:]].iloc[i+2]).tolist()\n",
    "    tempdata3=(successdata[choppedheaders[:]].iloc[i+3]).tolist()\n",
    "    tempdata4=(successdata[choppedheaders[:]].iloc[i+4]).tolist()\n",
    "    tempdata5=(successdata[choppedheaders[:]].iloc[i+5]).tolist()\n",
    "\n",
    "    #tempdata=tempdata.tolist()\n",
    "    fulldata.loc[len(fulldata)]=tempdata0 #add list of data to new row in dataframe\n",
    "    fulldata.loc[len(fulldata)]=tempdata1 \n",
    "    fulldata.loc[len(fulldata)]=tempdata2 \n",
    "    fulldata.loc[len(fulldata)]=tempdata3 \n",
    "    fulldata.loc[len(fulldata)]=tempdata4 \n",
    "    fulldata.loc[len(fulldata)]=tempdata5 \n",
    "    \n",
    "print(\"Full data shape:\",fulldata.shape)\n",
    "\n",
    "fulldata.to_csv('choppeddata_10_06_2021_equalsuccessfail.csv', index=False)  \n",
    "print(\"data output to file complete\")  "
   ]
  },
  {
   "cell_type": "code",
   "execution_count": 75,
   "metadata": {},
   "outputs": [
    {
     "data": {
      "text/plain": [
       "660.0"
      ]
     },
     "execution_count": 75,
     "metadata": {},
     "output_type": "execute_result"
    }
   ],
   "source": [
    "  3960/6"
   ]
  },
  {
   "cell_type": "code",
   "execution_count": 74,
   "metadata": {},
   "outputs": [
    {
     "name": "stdout",
     "output_type": "stream",
     "text": [
      "data output to file complete\n"
     ]
    }
   ],
   "source": []
  },
  {
   "cell_type": "code",
   "execution_count": 28,
   "metadata": {},
   "outputs": [
    {
     "name": "stdout",
     "output_type": "stream",
     "text": [
      "(2700, 10)\n"
     ]
    }
   ],
   "source": [
    "equaldata=pd.read_csv('choppeddata_10_06_2021_equalsuccessfail.csv')#.head()\n",
    "print(equaldata.shape)"
   ]
  },
  {
   "cell_type": "code",
   "execution_count": 12,
   "metadata": {},
   "outputs": [
    {
     "name": "stdout",
     "output_type": "stream",
     "text": [
      "240.0\n"
     ]
    }
   ],
   "source": [
    "print(equaldata.shape[0]/6)"
   ]
  },
  {
   "cell_type": "code",
   "execution_count": 8,
   "metadata": {},
   "outputs": [
    {
     "data": {
      "text/plain": [
       "(4764, 10)"
      ]
     },
     "execution_count": 8,
     "metadata": {},
     "output_type": "execute_result"
    }
   ],
   "source": [
    "choppeddata.shape"
   ]
  },
  {
   "cell_type": "code",
   "execution_count": null,
   "metadata": {},
   "outputs": [],
   "source": []
  }
 ],
 "metadata": {
  "kernelspec": {
   "display_name": "Python 3 (ipykernel)",
   "language": "python",
   "name": "python3"
  },
  "language_info": {
   "codemirror_mode": {
    "name": "ipython",
    "version": 3
   },
   "file_extension": ".py",
   "mimetype": "text/x-python",
   "name": "python",
   "nbconvert_exporter": "python",
   "pygments_lexer": "ipython3",
   "version": "3.7.11"
  }
 },
 "nbformat": 4,
 "nbformat_minor": 4
}
