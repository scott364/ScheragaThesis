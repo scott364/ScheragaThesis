{
 "cells": [
  {
   "cell_type": "markdown",
   "metadata": {},
   "source": [
    "In this notebook, we'll be using a GRU model for a time series prediction task and we will compare the performance of the GRU model against an LSTM model as well. The dataset that we will be using is the Hourly Energy Consumption dataset which can be found on [Kaggle](https://www.kaggle.com/robikscube/hourly-energy-consumption). The dataset contains power consumption data across different regions around the United States recorded on an hourly basis.\n",
    "\n",
    "You can run the code implementation in this article on FloydHub using their GPUs on the cloud by clicking the following link and using the main.ipynb notebook.\n",
    "\n",
    "[![Run on FloydHub](https://static.floydhub.com/button/button-small.svg)](https://floydhub.com/run?template=https://github.com/gabrielloye/https://github.com/gabrielloye/GRU_Prediction)\n",
    "\n",
    "This will speed up the training process significantly. Alternatively, the link to the GitHub repository can be found [here]().\n",
    "\n",
    "The goal of this implementation is to create a model that can accurately predict the energy usage in the next hour given historical usage data. We will be using both the GRU and LSTM model to train on a set of historical data and evaluate both models on an unseen test set. To do so, we’ll start with feature selection, data-preprocessing, followed by defining, training and eventually evaluating the models.\n",
    "\n",
    "We will be using the PyTorch library to implement both types of models along with other common Python libraries used in data analytics."
   ]
  },
  {
   "cell_type": "code",
   "execution_count": 1,
   "metadata": {},
   "outputs": [],
   "source": [
    "#https://blog.floydhub.com/gru-with-pytorch/\n",
    "\n",
    "import os\n",
    "import time\n",
    "import csv\n",
    "import numpy as np\n",
    "import pandas as pd\n",
    "import matplotlib.pyplot as plt\n",
    "\n",
    "import random\n",
    "from datetime import datetime\n",
    "\n",
    "import torch\n",
    "import torch.nn as nn\n",
    "from torch.utils.data import TensorDataset, DataLoader\n",
    "\n",
    "from tqdm import tqdm_notebook\n",
    "from sklearn.preprocessing import MinMaxScaler,QuantileTransformer\n",
    "from sklearn.model_selection import train_test_split\n",
    "from sklearn.utils.random import sample_without_replacement\n",
    "import random\n",
    "# Define data root directory\n",
    "\n",
    "#data_dir = \"./data/\"\n",
    "#print(os.listdir(data_dir))"
   ]
  },
  {
   "cell_type": "code",
   "execution_count": 2,
   "metadata": {},
   "outputs": [],
   "source": [
    "normalizeddataframe=pd.read_csv('forcetorquebuttonresults_10_13_2021.csv')#.head()\n",
    "originaldataframe=normalizeddataframe"
   ]
  },
  {
   "cell_type": "code",
   "execution_count": 3,
   "metadata": {},
   "outputs": [
    {
     "name": "stdout",
     "output_type": "stream",
     "text": [
      "(7200, 30)\n",
      "7200\n"
     ]
    }
   ],
   "source": [
    "print(normalizeddataframe.shape)\n",
    "print(normalizeddataframe.shape[0])\n"
   ]
  },
  {
   "cell_type": "markdown",
   "metadata": {},
   "source": [
    "We have a total of **12** *.csv* files containing hourly energy trend data (*'est_hourly.paruqet'* and *'pjm_hourly_est.csv'* are not used). In our next step, we will be reading these files and pre-processing these data in this order:\n",
    "- Getting the time data of each individual time step and generalizing them\n",
    "    - Hour of the day *i.e. 0-23*\n",
    "    - Day of the week *i.e. 1-7*\n",
    "    - Month *i.e. 1-12*\n",
    "    - Day of the year *i.e. 1-365*\n",
    "    \n",
    "    \n",
    "- Scale the data to values between 0 and 1\n",
    "    - Algorithms tend to perform better or converge faster when features are on a relatively similar scale and/or close to normally distributed\n",
    "    - Scaling preserves the shape of the original distribution and doesn't reduce the importance of outliers.\n",
    "    \n",
    "    \n",
    "- Group the data into sequences to be used as inputs to the model and store their corresponding labels\n",
    "    - The **sequence length** or **lookback period** is the number of data points in history that the model will use to make the prediction\n",
    "    - The label will be the next data point in time after the last one in the input sequence\n",
    "    \n",
    "\n",
    "- The inputs and labels will then be split into training and test sets"
   ]
  },
  {
   "cell_type": "code",
   "execution_count": 7,
   "metadata": {},
   "outputs": [
    {
     "name": "stdout",
     "output_type": "stream",
     "text": [
      "-0.14936999999999934\n",
      "-0.014936999999999978\n"
     ]
    }
   ],
   "source": [
    "#Un Normalize data\n",
    "\n",
    "\n",
    "\n",
    "xforce_normalized=-0.014937\n",
    "\n",
    "xforce_original=(((xforce_normalized+1)/2)*(xforcemax-xforcemin)+xforcemin)\n",
    "print(xforce_original)\n",
    "xforce_normalized2=((xforce_original-xforcemin)/(xforcemax-xforcemin)*2)-1\n",
    "\n",
    "print(xforce_normalized2)"
   ]
  },
  {
   "cell_type": "code",
   "execution_count": 5,
   "metadata": {},
   "outputs": [
    {
     "name": "stdout",
     "output_type": "stream",
     "text": [
      "794.0\n",
      "1200\n"
     ]
    }
   ],
   "source": [
    "#a=4764/6\n",
    "#print(a)\n",
    "\n",
    "print(int(normalizeddataframe.shape[0]/6))"
   ]
  },
  {
   "cell_type": "code",
   "execution_count": 4,
   "metadata": {},
   "outputs": [
    {
     "name": "stdout",
     "output_type": "stream",
     "text": [
      "data output to file\n"
     ]
    }
   ],
   "source": [
    "normalizeddataframe=pd.read_csv('forcetorquebuttonresults_10_13_2021.csv')#.head()\n",
    "originaldataframe=normalizeddataframe\n",
    "#unnormalizerange=range(0,5,575)\n",
    "#print(unnormalizerange)\n",
    "\n",
    "xforcemin=-10\n",
    "xforcemax=10\n",
    "yforcemin=-10\n",
    "yforcemax=10\n",
    "\n",
    "zforcemin=-15\n",
    "zforcemax=10\n",
    "rolltorquemin=-2\n",
    "rolltorquemax=2\n",
    "pitchtorquemin=-2\n",
    "pitchtorquemax=2\n",
    "yawtorquemin=-.1\n",
    "yawtorquemax=.1\n",
    "\n",
    "for i in range(0,int(normalizeddataframe.shape[0]),6):\n",
    "  \n",
    "    originaldataframe.iloc[i]=(((normalizeddataframe.iloc[i]+1)/2)*(xforcemax-xforcemin)+xforcemin)\n",
    "    originaldataframe.iloc[i+1]=(((normalizeddataframe.iloc[i+1]+1)/2)*(yforcemax-yforcemin)+yforcemin)\n",
    "    originaldataframe.iloc[i+2]=(((normalizeddataframe.iloc[i+2]+1)/2)*(zforcemax-zforcemin)+zforcemin)\n",
    "    originaldataframe.iloc[i+3]=(((normalizeddataframe.iloc[i+3]+1)/2)*(rolltorquemax-rolltorquemin)+rolltorquemin)\n",
    "    originaldataframe.iloc[i+4]=(((normalizeddataframe.iloc[i+4]+1)/2)*(pitchtorquemax-pitchtorquemin)+pitchtorquemin)\n",
    "    \n",
    "\n",
    "originaldataframe.to_csv('forcetorquebuttonresults_unnormalized_10_13_2021.csv', index=False)  \n",
    "print(\"data output to file\")\n"
   ]
  },
  {
   "cell_type": "code",
   "execution_count": 4,
   "metadata": {},
   "outputs": [
    {
     "name": "stdout",
     "output_type": "stream",
     "text": [
      "(7200, 30)\n",
      "xforcemin= -23.11346244812012 xforcemax= 20.14745140075684\n",
      "yforcemin= -28.277559280395508 yforcemax= 48.10685729980469\n",
      "zforcemin= -136.04910278320312 zforcemax= 10.252020835876465\n",
      "rolltorquemin= -8.972264289855957 rolltorquemax= 5.021342277526856\n",
      "pitchtorquemin= -6.052636623382568 pitchtorquemax= 5.018896102905273\n"
     ]
    }
   ],
   "source": [
    "#Find new min and max values for each set of data\n",
    "\n",
    "originaldataframe=pd.read_csv('forcetorquebuttonresults_unnormalized_10_13_2021.csv')#.head()\n",
    "print(originaldataframe.shape)\n",
    "xforcemin=999\n",
    "xforcemax=-999\n",
    "yforcemin=999\n",
    "yforcemax=-999\n",
    "zforcemin=999\n",
    "zforcemax=-999\n",
    "rolltorquemin=999\n",
    "rolltorquemax=-999\n",
    "pitchtorquemin=999\n",
    "pitchtorquemax=-999\n",
    "\n",
    "\n",
    "for i in range(0,int(originaldataframe.shape[0]),6):\n",
    "    xtempmin=originaldataframe.iloc[i].min(axis=0)\n",
    "    xtempmax=originaldataframe.iloc[i].max(axis=0)\n",
    "    ytempmin=originaldataframe.iloc[i+1].min(axis=0)\n",
    "    ytempmax=originaldataframe.iloc[i+1].max(axis=0)\n",
    "    ztempmin=originaldataframe.iloc[i+2].min(axis=0)\n",
    "    ztempmax=originaldataframe.iloc[i+2].max(axis=0)\n",
    "    rolltempmin=originaldataframe.iloc[i+3].min(axis=0)\n",
    "    rolltempmax=originaldataframe.iloc[i+3].max(axis=0)\n",
    "    pitchtempmin=originaldataframe.iloc[i+4].min(axis=0)\n",
    "    pitchtempmax=originaldataframe.iloc[i+4].max(axis=0)\n",
    "    \n",
    "    if xtempmin<xforcemin:\n",
    "        xforcemin=xtempmin\n",
    "    if ytempmin<yforcemin:\n",
    "        yforcemin=ytempmin\n",
    "    if ztempmin<zforcemin:\n",
    "        zforcemin=ztempmin\n",
    "        #print(\"row\",i+2,\"new min =\",zforcemin)\n",
    "    #if ztempmin<-50:\n",
    "        #print(\"row\",i+2,\"low z =\",zforcemin)\n",
    "        \n",
    "    if rolltempmin<rolltorquemin:\n",
    "        rolltorquemin=rolltempmin\n",
    "   \n",
    "        \n",
    "    if xtempmax>xforcemax:\n",
    "        xforcemax=xtempmax\n",
    "    if ytempmax>yforcemax:\n",
    "        yforcemax=ytempmax\n",
    "    if ztempmax>zforcemax:\n",
    "        zforcemax=ztempmax\n",
    "        #print(\"new max=\",zforcemax)\n",
    "    if rolltempmax>rolltorquemax:\n",
    "        rolltorquemax=rolltempmax\n",
    "\n",
    "    if pitchtempmin<pitchtorquemin:\n",
    "        pitchtorquemin=pitchtempmin    \n",
    "        \n",
    "    if pitchtempmax>pitchtorquemax:\n",
    "        pitchtorquemax=pitchtempmax   \n",
    "   \n",
    " \n",
    "    \n",
    "print(\"xforcemin=\",xforcemin,\"xforcemax=\",xforcemax)\n",
    "print(\"yforcemin=\",yforcemin,\"yforcemax=\",yforcemax)\n",
    "print(\"zforcemin=\",zforcemin,\"zforcemax=\",zforcemax)\n",
    "print(\"rolltorquemin=\",rolltorquemin,\"rolltorquemax=\",rolltorquemax)\n",
    "print(\"pitchtorquemin=\",pitchtorquemin,\"pitchtorquemax=\",pitchtorquemax)\n",
    "\n",
    "\n",
    "\n",
    "\n"
   ]
  },
  {
   "cell_type": "code",
   "execution_count": 10,
   "metadata": {},
   "outputs": [
    {
     "name": "stdout",
     "output_type": "stream",
     "text": [
      "[-0.38371107 -0.46302348  0.04506418 -0.5125801   0.904589   -0.28851596\n",
      "  0.96290171  1.7063899  -1.83390522 -0.06415987  3.80460715  3.075104\n",
      "  5.97340536  0.02843975  1.98027706  2.44510412 -1.75635695 -0.77543527\n",
      " -0.67004275  3.00724626  3.20980525  2.72190237  7.22309446 -0.55252874\n",
      " -0.35685888  0.25577372  0.90019143 -2.79025817 -6.09597921 -4.58737516]\n",
      "xforcearray []\n",
      "(0,)\n",
      "[-0.38371107 -0.46302348  0.04506418 -0.5125801   0.904589   -0.28851596\n",
      "  0.96290171  1.7063899  -1.83390522 -0.06415987  3.80460715  3.075104\n",
      "  5.97340536  0.02843975  1.98027706  2.44510412 -1.75635695 -0.77543527\n",
      " -0.67004275  3.00724626  3.20980525  2.72190237  7.22309446 -0.55252874\n",
      " -0.35685888  0.25577372  0.90019143 -2.79025817 -6.09597921 -4.58737516]\n",
      "(30,)\n"
     ]
    }
   ],
   "source": [
    "originaldataframe=pd.read_csv('forcetorquebuttonresults_unnormalized_10_13_2021.csv')#.head()\n",
    "#Create quantile transformers\n",
    "\n",
    "xforcearray=np.array([])\n",
    "#print(xforcearray)\n",
    "\n",
    "temparray=pd.DataFrame(originaldataframe.iloc[0]).to_numpy()\n",
    "temparray=temparray.T.flatten()\n",
    "#print(temparray)\n",
    "#print(temparray)\n",
    "\n",
    "#print(temparray[0])\n",
    "#xforcearray=temparray\n",
    "\n",
    "print(temparray)\n",
    "print(\"xforcearray\",xforcearray)\n",
    "print(xforcearray.shape)\n",
    "\n",
    "xforcearray=np.append(xforcearray,temparray)\n",
    "print(xforcearray)\n",
    "print(xforcearray.shape)"
   ]
  },
  {
   "cell_type": "code",
   "execution_count": 5,
   "metadata": {},
   "outputs": [
    {
     "name": "stdout",
     "output_type": "stream",
     "text": [
      "(42960,)\n",
      "(42960,)\n",
      "(42960,)\n",
      "(42960,)\n",
      "(42960,)\n",
      "[0.05489587 0.04392737 0.04925965 0.04530953 0.061904   0.03618936\n",
      " 0.03697768 0.03616976 0.03457398 0.04562229]\n"
     ]
    }
   ],
   "source": [
    "originaldataframe=pd.read_csv('forcetorquebuttonresults_10_13_2021.csv')#.head()\n",
    "\n",
    "xforcearray=np.array([])\n",
    "yforcearray=np.array([])\n",
    "zforcearray=np.array([])\n",
    "rolltorquearray=np.array([])\n",
    "pitchtorquearray=np.array([])\n",
    "\n",
    "#print(normalizeddataframe.shape)\n",
    "#print(int(normalizeddataframe.shape[0]/6))\n",
    "\n",
    "for i in range(0,int(originaldataframe.shape[0]),6):\n",
    "    \n",
    "    x_temparray=pd.DataFrame(originaldataframe.iloc[i]).to_numpy()\n",
    "    y_temparray=pd.DataFrame(originaldataframe.iloc[i+1]).to_numpy()\n",
    "    z_temparray=pd.DataFrame(originaldataframe.iloc[i+2]).to_numpy()\n",
    "    roll_temparray=pd.DataFrame(originaldataframe.iloc[i+3]).to_numpy()\n",
    "    pitch_temparray=pd.DataFrame(originaldataframe.iloc[i+4]).to_numpy()\n",
    "    \n",
    "    xforcearray=np.append(xforcearray,x_temparray.T.flatten())\n",
    "    yforcearray=np.append(yforcearray,y_temparray.T.flatten())\n",
    "    zforcearray=np.append(zforcearray,z_temparray.T.flatten())\n",
    "    rolltorquearray=np.append(rolltorquearray,roll_temparray.T.flatten())\n",
    "    pitchtorquearray=np.append(pitchtorquearray,pitch_temparray.T.flatten())\n",
    "\n",
    "print(xforcearray.shape)\n",
    "print(yforcearray.shape)\n",
    "print(zforcearray.shape)\n",
    "print(rolltorquearray.shape)\n",
    "print(pitchtorquearray.shape)\n",
    "print(xforcearray[0:10])"
   ]
  },
  {
   "cell_type": "markdown",
   "metadata": {},
   "source": [
    "## Fit transformers"
   ]
  },
  {
   "cell_type": "code",
   "execution_count": 7,
   "metadata": {},
   "outputs": [
    {
     "name": "stdout",
     "output_type": "stream",
     "text": [
      "fit complete\n"
     ]
    }
   ],
   "source": [
    "#https://scikit-learn.org/stable/auto_examples/preprocessing/plot_all_scaling.html#results\n",
    "\n",
    "xforcearray=np.sort(xforcearray)\n",
    "#xforcearray_transformer = QuantileTransformer(n_quantiles=4, random_state=0)\n",
    "xforcearray_transformer =MinMaxScaler()\n",
    "xforcearray=xforcearray.reshape(-1, 1)\n",
    "xforcearray_transformer.fit(xforcearray)\n",
    "x_transformed=xforcearray_transformer.transform(xforcearray)\n",
    "\n",
    "yforcearray=np.sort(yforcearray)\n",
    "#xforcearray_transformer = QuantileTransformer(n_quantiles=4, random_state=0)\n",
    "yforcearray_transformer =MinMaxScaler()\n",
    "yforcearray=yforcearray.reshape(-1, 1)\n",
    "yforcearray_transformer.fit(yforcearray)\n",
    "y_transformed=yforcearray_transformer.transform(yforcearray)\n",
    "\n",
    "zforcearray=np.sort(zforcearray)\n",
    "#xforcearray_transformer = QuantileTransformer(n_quantiles=4, random_state=0)\n",
    "zforcearray_transformer =MinMaxScaler()\n",
    "zforcearray=zforcearray.reshape(-1, 1)\n",
    "zforcearray_transformer.fit(zforcearray)\n",
    "z_transformed=zforcearray_transformer.transform(zforcearray)\n",
    "\n",
    "rolltorquearray=np.sort(rolltorquearray)\n",
    "#xforcearray_transformer = QuantileTransformer(n_quantiles=4, random_state=0)\n",
    "rolltorquearray_transformer =MinMaxScaler()\n",
    "rolltorquearray=rolltorquearray.reshape(-1, 1)\n",
    "rolltorquearray_transformer.fit(rolltorquearray)\n",
    "roll_transformed=rolltorquearray_transformer.transform(rolltorquearray)\n",
    "\n",
    "pitchtorquearray=np.sort(pitchtorquearray)\n",
    "#pitchtorquearray_transformer= QuantileTransformer(n_quantiles=4, random_state=0)\n",
    "pitchtorquearray_transformer =MinMaxScaler()\n",
    "pitchtorquearray=pitchtorquearray.reshape(-1, 1)\n",
    "pitchtorquearray_transformer.fit(pitchtorquearray)\n",
    "pitch_transformed=pitchtorquearray_transformer.transform(pitchtorquearray)\n",
    "\n",
    "print(\"fit complete\")"
   ]
  },
  {
   "cell_type": "code",
   "execution_count": 7,
   "metadata": {},
   "outputs": [],
   "source": [
    "xforcearray=np.sort(xforcearray)\n",
    "\n",
    "yforcearray=np.sort(yforcearray)\n",
    "\n",
    "zforcearray=np.sort(zforcearray)\n",
    "rolltorquearray=np.sort(rolltorquearray)\n",
    "\n",
    "pitchtorquearray=np.sort(pitchtorquearray)\n"
   ]
  },
  {
   "cell_type": "code",
   "execution_count": 8,
   "metadata": {},
   "outputs": [
    {
     "data": {
      "text/plain": [
       "'\\nax6.plot(x_transformed, label=\"Force:X\")\\nax6.plot(y_transformed, label=\"Force:Y\")\\nax6.plot(z_transformed, label=\"Force:Z\")\\nax6.plot(roll_transformed, label=\"Torque:Roll\")\\nax6.plot(pitch_transformed, label=\"Torque:Pitch\")\\nhandles, labels = ax6.get_legend_handles_labels()\\nax6.legend(handles, labels,loc=\\'lower right\\')\\n\\nplt.title(\"All plots, Transformed to betwen 0 and 1\")\\nplt.show()\\n\\n'"
      ]
     },
     "execution_count": 8,
     "metadata": {},
     "output_type": "execute_result"
    },
    {
     "data": {
      "image/png": "[encoded data removed]",
      "text/plain": [
       "<Figure size 1080x576 with 6 Axes>"
      ]
     },
     "metadata": {
      "needs_background": "light"
     },
     "output_type": "display_data"
    }
   ],
   "source": [
    "fig = plt.figure(figsize=(15, 8)) #figsize=(25, 80)\n",
    "ax1 = plt.subplot(2, 3, 1)\n",
    "ax1.plot(xforcearray)\n",
    "plt.title(\"Force:X\")\n",
    "ax2 = plt.subplot(2, 3, 2)\n",
    "ax2.plot(yforcearray)\n",
    "plt.title(\"Force:Y\")\n",
    "ax3 = plt.subplot(2, 3, 3)\n",
    "ax3.plot(zforcearray)\n",
    "plt.title(\"Force:Z\")\n",
    "ax4 = plt.subplot(2, 3, 4)\n",
    "ax4.plot(rolltorquearray)\n",
    "plt.title(\"Torque:Roll\")\n",
    "ax5 = plt.subplot(2, 3, 5)\n",
    "ax5.plot(pitchtorquearray)\n",
    "plt.title(\"Torque:Pitch\")\n",
    "ax6 = plt.subplot(2, 3, 6)    \n",
    "\n",
    "\"\"\"\n",
    "ax6.plot(x_transformed, label=\"Force:X\")\n",
    "ax6.plot(y_transformed, label=\"Force:Y\")\n",
    "ax6.plot(z_transformed, label=\"Force:Z\")\n",
    "ax6.plot(roll_transformed, label=\"Torque:Roll\")\n",
    "ax6.plot(pitch_transformed, label=\"Torque:Pitch\")\n",
    "handles, labels = ax6.get_legend_handles_labels()\n",
    "ax6.legend(handles, labels,loc='lower right')\n",
    "\n",
    "plt.title(\"All plots, Transformed to betwen 0 and 1\")\n",
    "plt.show()\n",
    "\n",
    "\"\"\"\n",
    "#plt.plot(x_transformed, label=\"Force:X\")\n",
    "#plt.title(\"Force:X\")\n",
    "#plt.show()"
   ]
  },
  {
   "cell_type": "markdown",
   "metadata": {},
   "source": [
    "## Generate normalized data according to transformers. "
   ]
  },
  {
   "cell_type": "code",
   "execution_count": 44,
   "metadata": {},
   "outputs": [
    {
     "name": "stdout",
     "output_type": "stream",
     "text": [
      "(4764, 30)\n",
      "794.0\n",
      "795\n"
     ]
    }
   ],
   "source": [
    "\n",
    "print(originaldataframe.shape)\n",
    "print(originaldataframe.shape[0]/6)  #795 total episodes. Galues go from 0 to 794\n",
    "print(int((originaldataframe.shape[0]/6)+1))"
   ]
  },
  {
   "cell_type": "code",
   "execution_count": 10,
   "metadata": {},
   "outputs": [
    {
     "name": "stdout",
     "output_type": "stream",
     "text": [
      "data output to file complete2\n"
     ]
    }
   ],
   "source": [
    "originaldataframe=pd.read_csv('forcetorquebuttonresults_unnormalized_10_13_2021.csv')#.head()\n",
    "\n",
    "transformeddataframe=originaldataframe\n",
    "headers=[]\n",
    "for i in range(30):\n",
    "    label=str(i)\n",
    "    headers.append(\"header\"+label)\n",
    "\n",
    "#for i in range(0,575,6):\n",
    "for i in range(0,int((originaldataframe.shape[0])),6):\n",
    "   # transformeddataframe.iloc[i]=xforcearray_transformer.transform(originaldataframe.iloc[i])\n",
    "   \n",
    "    x_temparray=pd.DataFrame(originaldataframe.iloc[i]).to_numpy()\n",
    "    #print(x_temparray)\n",
    "    x_temparray=x_temparray.T\n",
    "    #print(x_temparray)\n",
    "    x_temparraytransformed=xforcearray_transformer.transform(x_temparray)\n",
    "    #print(\"x_temparraytransformed\",x_temparraytransformed[0])\n",
    "    transformeddataframe.iloc[i]= x_temparraytransformed[0]\n",
    "    #print(transformeddataframe.iloc[i])\n",
    "    \n",
    "    y_temparray=pd.DataFrame(originaldataframe.iloc[i+1]).to_numpy()\n",
    "    y_temparray=y_temparray.T\n",
    "    y_temparraytransformed=yforcearray_transformer.transform(y_temparray)\n",
    "    transformeddataframe.iloc[i+1]= y_temparraytransformed[0]\n",
    "    \n",
    "    z_temparray=pd.DataFrame(originaldataframe.iloc[i+2]).to_numpy()\n",
    "    z_temparray=z_temparray.T\n",
    "    z_temparraytransformed=zforcearray_transformer.transform(z_temparray)\n",
    "    transformeddataframe.iloc[i+2]= z_temparraytransformed[0]\n",
    "    \n",
    "    roll_temparray=pd.DataFrame(originaldataframe.iloc[i+3]).to_numpy()\n",
    "    roll_temparray=roll_temparray.T\n",
    "    roll_temparraytransformed=rolltorquearray_transformer.transform(roll_temparray)\n",
    "    transformeddataframe.iloc[i+3]= roll_temparraytransformed[0]\n",
    "    \n",
    "    pitch_temparray=pd.DataFrame(originaldataframe.iloc[i+4]).to_numpy()\n",
    "    pitch_temparray=pitch_temparray.T\n",
    "    pitch_temparraytransformed=pitchtorquearray_transformer.transform(pitch_temparray)\n",
    "    transformeddataframe.iloc[i+4]= pitch_temparraytransformed[0]\n",
    "    \n",
    "#uncomment below to update file\n",
    "transformeddataframe.to_csv('forcetorquebuttonresults_renormalized_10_13_2021.csv', index=False)  \n",
    "print(\"data output to file complete2\") "
   ]
  },
  {
   "cell_type": "code",
   "execution_count": 2,
   "metadata": {},
   "outputs": [
    {
     "name": "stdout",
     "output_type": "stream",
     "text": [
      "(7200, 30)\n",
      "7200\n",
      "1200.0\n",
      "xforcemin= 0.0 xforcemax= 1.0\n",
      "yforcemin= 0.0 yforcemax= 1.0\n",
      "zforcemin= 0.0 zforcemax= 1.0\n",
      "rolltorquemin= 0.0 rolltorquemax= 1.0\n",
      "pitchtorquemin= 0.0 pitchtorquemax= 1.0\n"
     ]
    }
   ],
   "source": [
    "#Find new min and max values for each set of data\n",
    "\n",
    "originaldataframe=pd.read_csv('forcetorquebuttonresults_renormalized_10_13_2021.csv')#.head()\n",
    "#originaldataframe=pd.read_csv('choppeddata_10_06_2021_equalsuccessfail.csv')#.head()\n",
    "print(originaldataframe.shape)\n",
    "print(originaldataframe.shape[0])\n",
    "print(originaldataframe.shape[0]/6)\n",
    "xforcemin=999\n",
    "xforcemax=-999\n",
    "yforcemin=999\n",
    "yforcemax=-999\n",
    "zforcemin=999\n",
    "zforcemax=-999\n",
    "rolltorquemin=999\n",
    "rolltorquemax=-999\n",
    "pitchtorquemin=999\n",
    "pitchtorquemax=-999\n",
    "\n",
    "\n",
    "for i in range(0,int(originaldataframe.shape[0]),6):\n",
    "    xtempmin=originaldataframe.iloc[i].min(axis=0)\n",
    "    xtempmax=originaldataframe.iloc[i].max(axis=0)\n",
    "    ytempmin=originaldataframe.iloc[i+1].min(axis=0)\n",
    "    ytempmax=originaldataframe.iloc[i+1].max(axis=0)\n",
    "    ztempmin=originaldataframe.iloc[i+2].min(axis=0)\n",
    "    ztempmax=originaldataframe.iloc[i+2].max(axis=0)\n",
    "    rolltempmin=originaldataframe.iloc[i+3].min(axis=0)\n",
    "    rolltempmax=originaldataframe.iloc[i+3].max(axis=0)\n",
    "    pitchtempmin=originaldataframe.iloc[i+4].min(axis=0)\n",
    "    pitchtempmax=originaldataframe.iloc[i+4].max(axis=0)\n",
    "    \n",
    "    if xtempmin<xforcemin:\n",
    "        xforcemin=xtempmin\n",
    "    if ytempmin<yforcemin:\n",
    "        yforcemin=ytempmin\n",
    "    if ztempmin<zforcemin:\n",
    "        zforcemin=ztempmin\n",
    "        #print(\"row\",i+2,\"new min =\",zforcemin)\n",
    "    #if ztempmin<-50:\n",
    "        #print(\"row\",i+2,\"low z =\",zforcemin)\n",
    "        \n",
    "    if rolltempmin<rolltorquemin:\n",
    "        rolltorquemin=rolltempmin\n",
    "   \n",
    "        \n",
    "    if xtempmax>xforcemax:\n",
    "        xforcemax=xtempmax\n",
    "    if ytempmax>yforcemax:\n",
    "        yforcemax=ytempmax\n",
    "    if ztempmax>zforcemax:\n",
    "        zforcemax=ztempmax\n",
    "        #print(\"new max=\",zforcemax)\n",
    "    if rolltempmax>rolltorquemax:\n",
    "        rolltorquemax=rolltempmax\n",
    "\n",
    "    if pitchtempmin<pitchtorquemin:\n",
    "        pitchtorquemin=pitchtempmin    \n",
    "        \n",
    "    if pitchtempmax>pitchtorquemax:\n",
    "        pitchtorquemax=pitchtempmax   \n",
    "   \n",
    " \n",
    "    \n",
    "print(\"xforcemin=\",xforcemin,\"xforcemax=\",xforcemax)\n",
    "print(\"yforcemin=\",yforcemin,\"yforcemax=\",yforcemax)\n",
    "print(\"zforcemin=\",zforcemin,\"zforcemax=\",zforcemax)\n",
    "print(\"rolltorquemin=\",rolltorquemin,\"rolltorquemax=\",rolltorquemax)\n",
    "print(\"pitchtorquemin=\",pitchtorquemin,\"pitchtorquemax=\",pitchtorquemax)\n",
    "\n",
    "\n"
   ]
  },
  {
   "cell_type": "markdown",
   "metadata": {},
   "source": [
    "## Cutting data to final 10 timesteps of every episode"
   ]
  },
  {
   "cell_type": "code",
   "execution_count": 3,
   "metadata": {},
   "outputs": [
    {
     "name": "stdout",
     "output_type": "stream",
     "text": [
      "Empty DataFrame\n",
      "Columns: [header0, header1, header2, header3, header4, header5, header6, header7, header8, header9]\n",
      "Index: []\n"
     ]
    }
   ],
   "source": [
    "\n",
    "\n",
    "\n"
   ]
  },
  {
   "cell_type": "code",
   "execution_count": 2,
   "metadata": {},
   "outputs": [
    {
     "name": "stdout",
     "output_type": "stream",
     "text": [
      "(14700, 10)\n",
      "14700\n",
      "2450.0\n",
      "successcounter 1225\n",
      "failcounter 1225\n",
      "done\n"
     ]
    }
   ],
   "source": [
    "headers=[]\n",
    "for i in range(30):\n",
    "    label=str(i)\n",
    "    headers.append(\"header\"+label)\n",
    "    \n",
    "choppedheaders=[]\n",
    "lookback=10 #save only the last 11 timesteps\n",
    "for i in range(lookback):  \n",
    "    label=str(i)\n",
    "    choppedheaders.append(\"header\"+label)\n",
    "    \n",
    "normalizeddata=pd.read_csv('forcetorquebuttonresults_10_13_2021.csv')#.head()\n",
    "\n",
    "choppeddata = pd.DataFrame(columns=choppedheaders)\n",
    "\n",
    "successcounter=0\n",
    "failcounter=0\n",
    "#add blocks of 10 timesteps that end in successes to dataset.\n",
    "for i in range(0,int((normalizeddata.shape[0])-1),6):\n",
    "    #print(\"\")\n",
    "    for h in range(len(headers)):\n",
    "        successflag=False\n",
    "        if normalizeddata[headers[h]].iloc[i+5]==1:\n",
    "            tempdata0=(normalizeddata[headers[(h-(lookback-1)):h+1]].iloc[i]).tolist()\n",
    "            tempdata1=(normalizeddata[headers[(h-(lookback-1)):h+1]].iloc[i+1]).tolist()\n",
    "            tempdata2=(normalizeddata[headers[(h-(lookback-1)):h+1]].iloc[i+2]).tolist()\n",
    "            tempdata3=(normalizeddata[headers[(h-(lookback-1)):h+1]].iloc[i+3]).tolist()\n",
    "            tempdata4=(normalizeddata[headers[(h-(lookback-1)):h+1]].iloc[i+4]).tolist()\n",
    "            tempdata5=(normalizeddata[headers[(h-(lookback-1)):h+1]].iloc[i+5]).tolist()\n",
    "            \n",
    "            #tempdata=tempdata.tolist()\n",
    "            choppeddata.loc[len(choppeddata)]=tempdata0 #add list of data to new row in dataframe\n",
    "            choppeddata.loc[len(choppeddata)]=tempdata1 \n",
    "            choppeddata.loc[len(choppeddata)]=tempdata2 \n",
    "            choppeddata.loc[len(choppeddata)]=tempdata3 \n",
    "            choppeddata.loc[len(choppeddata)]=tempdata4 \n",
    "            choppeddata.loc[len(choppeddata)]=tempdata5 \n",
    "            successflag=True\n",
    "            successcounter+=1\n",
    "            break\n",
    "            \n",
    "for j in range(successcounter):  #randomly select new blocks of 10 timesteps equal to the number of successes\n",
    "    finallabel=2\n",
    "    while finallabel!=0:\n",
    "        randomepisodeselector=random.randrange(0,int((normalizeddata.shape[0])-1),6)\n",
    "        k=randomepisodeselector\n",
    "        randomtimeblockselector=random.randint(0, 30-lookback) \n",
    "        tempdata0=(normalizeddata[headers[randomtimeblockselector:randomtimeblockselector+lookback]].iloc[k]).tolist()\n",
    "        tempdata1=(normalizeddata[headers[randomtimeblockselector:randomtimeblockselector+lookback]].iloc[k+1]).tolist()\n",
    "        tempdata2=(normalizeddata[headers[randomtimeblockselector:randomtimeblockselector+lookback]].iloc[k+2]).tolist()\n",
    "        tempdata3=(normalizeddata[headers[randomtimeblockselector:randomtimeblockselector+lookback]].iloc[k+3]).tolist()\n",
    "        tempdata4=(normalizeddata[headers[randomtimeblockselector:randomtimeblockselector+lookback]].iloc[k+4]).tolist()\n",
    "        tempdata5=(normalizeddata[headers[randomtimeblockselector:randomtimeblockselector+lookback]].iloc[k+5]).tolist()\n",
    "        \n",
    "    \n",
    "        if tempdata5[lookback-1]==0:\n",
    "            choppeddata.loc[len(choppeddata)]=tempdata0 #add list of data to new row in dataframe\n",
    "            choppeddata.loc[len(choppeddata)]=tempdata1 \n",
    "            choppeddata.loc[len(choppeddata)]=tempdata2 \n",
    "            choppeddata.loc[len(choppeddata)]=tempdata3 \n",
    "            choppeddata.loc[len(choppeddata)]=tempdata4 \n",
    "            choppeddata.loc[len(choppeddata)]=tempdata5 \n",
    "            #print(\"randomepisodeselector\",randomepisodeselector)\n",
    "            #print(\"randomtimeblockselector\",randomtimeblockselector)\n",
    "\n",
    "            finallabel=0\n",
    "            failcounter+=1\n",
    "    \n",
    "    \n",
    "    \n",
    "#choppeddata.to_csv('choppeddata_10_06_2021_randomselector.csv', index=False)  \n",
    "print(choppeddata.shape)\n",
    "print(choppeddata.shape[0])\n",
    "print(choppeddata.shape[0]/6)\n",
    "print(\"successcounter\",successcounter)\n",
    "print(\"failcounter\",failcounter)\n",
    "choppeddata.to_csv('choppeddata_10_13_2021_randomselector_even.csv', index=False)  \n",
    "print(\"done\")\n"
   ]
  },
  {
   "cell_type": "code",
   "execution_count": 13,
   "metadata": {},
   "outputs": [
    {
     "data": {
      "text/plain": [
       "10440"
      ]
     },
     "execution_count": 13,
     "metadata": {},
     "output_type": "execute_result"
    }
   ],
   "source": [
    "870*2*6"
   ]
  },
  {
   "cell_type": "code",
   "execution_count": 12,
   "metadata": {},
   "outputs": [
    {
     "name": "stdout",
     "output_type": "stream",
     "text": [
      "done\n"
     ]
    }
   ],
   "source": []
  },
  {
   "cell_type": "code",
   "execution_count": 8,
   "metadata": {},
   "outputs": [
    {
     "name": "stdout",
     "output_type": "stream",
     "text": [
      "870.0\n"
     ]
    }
   ],
   "source": [
    "successblocks=pd.read_csv('choppeddata_10_13_2021_randomselector.csv')\n",
    "print(successblocks.shape[0]/6)\n",
    "\n"
   ]
  },
  {
   "cell_type": "markdown",
   "metadata": {},
   "source": [
    "## ---------------------------OLD Stuff below"
   ]
  },
  {
   "cell_type": "code",
   "execution_count": 12,
   "metadata": {},
   "outputs": [
    {
     "name": "stdout",
     "output_type": "stream",
     "text": [
      "choppeddata.shape[1]-1 9\n"
     ]
    }
   ],
   "source": [
    "print(\"choppeddata.shape[1]-1\",choppeddata.shape[1]-1)"
   ]
  },
  {
   "cell_type": "code",
   "execution_count": null,
   "metadata": {},
   "outputs": [],
   "source": []
  },
  {
   "cell_type": "code",
   "execution_count": 75,
   "metadata": {},
   "outputs": [
    {
     "data": {
      "text/plain": [
       "660.0"
      ]
     },
     "execution_count": 75,
     "metadata": {},
     "output_type": "execute_result"
    }
   ],
   "source": [
    "  3960/6"
   ]
  },
  {
   "cell_type": "code",
   "execution_count": 74,
   "metadata": {},
   "outputs": [
    {
     "name": "stdout",
     "output_type": "stream",
     "text": [
      "data output to file complete\n"
     ]
    }
   ],
   "source": []
  },
  {
   "cell_type": "code",
   "execution_count": 28,
   "metadata": {},
   "outputs": [
    {
     "name": "stdout",
     "output_type": "stream",
     "text": [
      "(2700, 10)\n"
     ]
    }
   ],
   "source": [
    "equaldata=pd.read_csv('choppeddata_10_06_2021_equalsuccessfail.csv')#.head()\n",
    "print(equaldata.shape)"
   ]
  },
  {
   "cell_type": "code",
   "execution_count": 12,
   "metadata": {},
   "outputs": [
    {
     "name": "stdout",
     "output_type": "stream",
     "text": [
      "240.0\n"
     ]
    }
   ],
   "source": [
    "print(equaldata.shape[0]/6)"
   ]
  },
  {
   "cell_type": "code",
   "execution_count": 8,
   "metadata": {},
   "outputs": [
    {
     "data": {
      "text/plain": [
       "(4764, 10)"
      ]
     },
     "execution_count": 8,
     "metadata": {},
     "output_type": "execute_result"
    }
   ],
   "source": [
    "choppeddata.shape"
   ]
  },
  {
   "cell_type": "code",
   "execution_count": null,
   "metadata": {},
   "outputs": [],
   "source": []
  }
 ],
 "metadata": {
  "kernelspec": {
   "display_name": "Python 3 (ipykernel)",
   "language": "python",
   "name": "python3"
  },
  "language_info": {
   "codemirror_mode": {
    "name": "ipython",
    "version": 3
   },
   "file_extension": ".py",
   "mimetype": "text/x-python",
   "name": "python",
   "nbconvert_exporter": "python",
   "pygments_lexer": "ipython3",
   "version": "3.7.11"
  }
 },
 "nbformat": 4,
 "nbformat_minor": 4
}
